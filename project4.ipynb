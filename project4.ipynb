{
 "cells": [
  {
   "cell_type": "markdown",
   "metadata": {},
   "source": [
    "## MITx 6.419x - Data Analysis: Statistical Modeling and Computation in Applications\n",
    "\n",
    "# Module 4 - Time Series Analysis"
   ]
  },
  {
   "cell_type": "code",
   "execution_count": 7,
   "metadata": {},
   "outputs": [
    {
     "data": {
      "text/html": [
       "\n",
       "    <div class=\"bk-root\">\n",
       "        <a href=\"https://bokeh.org\" target=\"_blank\" class=\"bk-logo bk-logo-small bk-logo-notebook\"></a>\n",
       "        <span id=\"1003\">Loading BokehJS ...</span>\n",
       "    </div>"
      ]
     },
     "metadata": {},
     "output_type": "display_data"
    },
    {
     "data": {
      "application/javascript": [
       "\n",
       "(function(root) {\n",
       "  function now() {\n",
       "    return new Date();\n",
       "  }\n",
       "\n",
       "  const force = true;\n",
       "\n",
       "  if (typeof root._bokeh_onload_callbacks === \"undefined\" || force === true) {\n",
       "    root._bokeh_onload_callbacks = [];\n",
       "    root._bokeh_is_loading = undefined;\n",
       "  }\n",
       "\n",
       "  const JS_MIME_TYPE = 'application/javascript';\n",
       "  const HTML_MIME_TYPE = 'text/html';\n",
       "  const EXEC_MIME_TYPE = 'application/vnd.bokehjs_exec.v0+json';\n",
       "  const CLASS_NAME = 'output_bokeh rendered_html';\n",
       "\n",
       "  /**\n",
       "   * Render data to the DOM node\n",
       "   */\n",
       "  function render(props, node) {\n",
       "    const script = document.createElement(\"script\");\n",
       "    node.appendChild(script);\n",
       "  }\n",
       "\n",
       "  /**\n",
       "   * Handle when an output is cleared or removed\n",
       "   */\n",
       "  function handleClearOutput(event, handle) {\n",
       "    const cell = handle.cell;\n",
       "\n",
       "    const id = cell.output_area._bokeh_element_id;\n",
       "    const server_id = cell.output_area._bokeh_server_id;\n",
       "    // Clean up Bokeh references\n",
       "    if (id != null && id in Bokeh.index) {\n",
       "      Bokeh.index[id].model.document.clear();\n",
       "      delete Bokeh.index[id];\n",
       "    }\n",
       "\n",
       "    if (server_id !== undefined) {\n",
       "      // Clean up Bokeh references\n",
       "      const cmd_clean = \"from bokeh.io.state import curstate; print(curstate().uuid_to_server['\" + server_id + \"'].get_sessions()[0].document.roots[0]._id)\";\n",
       "      cell.notebook.kernel.execute(cmd_clean, {\n",
       "        iopub: {\n",
       "          output: function(msg) {\n",
       "            const id = msg.content.text.trim();\n",
       "            if (id in Bokeh.index) {\n",
       "              Bokeh.index[id].model.document.clear();\n",
       "              delete Bokeh.index[id];\n",
       "            }\n",
       "          }\n",
       "        }\n",
       "      });\n",
       "      // Destroy server and session\n",
       "      const cmd_destroy = \"import bokeh.io.notebook as ion; ion.destroy_server('\" + server_id + \"')\";\n",
       "      cell.notebook.kernel.execute(cmd_destroy);\n",
       "    }\n",
       "  }\n",
       "\n",
       "  /**\n",
       "   * Handle when a new output is added\n",
       "   */\n",
       "  function handleAddOutput(event, handle) {\n",
       "    const output_area = handle.output_area;\n",
       "    const output = handle.output;\n",
       "\n",
       "    // limit handleAddOutput to display_data with EXEC_MIME_TYPE content only\n",
       "    if ((output.output_type != \"display_data\") || (!Object.prototype.hasOwnProperty.call(output.data, EXEC_MIME_TYPE))) {\n",
       "      return\n",
       "    }\n",
       "\n",
       "    const toinsert = output_area.element.find(\".\" + CLASS_NAME.split(' ')[0]);\n",
       "\n",
       "    if (output.metadata[EXEC_MIME_TYPE][\"id\"] !== undefined) {\n",
       "      toinsert[toinsert.length - 1].firstChild.textContent = output.data[JS_MIME_TYPE];\n",
       "      // store reference to embed id on output_area\n",
       "      output_area._bokeh_element_id = output.metadata[EXEC_MIME_TYPE][\"id\"];\n",
       "    }\n",
       "    if (output.metadata[EXEC_MIME_TYPE][\"server_id\"] !== undefined) {\n",
       "      const bk_div = document.createElement(\"div\");\n",
       "      bk_div.innerHTML = output.data[HTML_MIME_TYPE];\n",
       "      const script_attrs = bk_div.children[0].attributes;\n",
       "      for (let i = 0; i < script_attrs.length; i++) {\n",
       "        toinsert[toinsert.length - 1].firstChild.setAttribute(script_attrs[i].name, script_attrs[i].value);\n",
       "        toinsert[toinsert.length - 1].firstChild.textContent = bk_div.children[0].textContent\n",
       "      }\n",
       "      // store reference to server id on output_area\n",
       "      output_area._bokeh_server_id = output.metadata[EXEC_MIME_TYPE][\"server_id\"];\n",
       "    }\n",
       "  }\n",
       "\n",
       "  function register_renderer(events, OutputArea) {\n",
       "\n",
       "    function append_mime(data, metadata, element) {\n",
       "      // create a DOM node to render to\n",
       "      const toinsert = this.create_output_subarea(\n",
       "        metadata,\n",
       "        CLASS_NAME,\n",
       "        EXEC_MIME_TYPE\n",
       "      );\n",
       "      this.keyboard_manager.register_events(toinsert);\n",
       "      // Render to node\n",
       "      const props = {data: data, metadata: metadata[EXEC_MIME_TYPE]};\n",
       "      render(props, toinsert[toinsert.length - 1]);\n",
       "      element.append(toinsert);\n",
       "      return toinsert\n",
       "    }\n",
       "\n",
       "    /* Handle when an output is cleared or removed */\n",
       "    events.on('clear_output.CodeCell', handleClearOutput);\n",
       "    events.on('delete.Cell', handleClearOutput);\n",
       "\n",
       "    /* Handle when a new output is added */\n",
       "    events.on('output_added.OutputArea', handleAddOutput);\n",
       "\n",
       "    /**\n",
       "     * Register the mime type and append_mime function with output_area\n",
       "     */\n",
       "    OutputArea.prototype.register_mime_type(EXEC_MIME_TYPE, append_mime, {\n",
       "      /* Is output safe? */\n",
       "      safe: true,\n",
       "      /* Index of renderer in `output_area.display_order` */\n",
       "      index: 0\n",
       "    });\n",
       "  }\n",
       "\n",
       "  // register the mime type if in Jupyter Notebook environment and previously unregistered\n",
       "  if (root.Jupyter !== undefined) {\n",
       "    const events = require('base/js/events');\n",
       "    const OutputArea = require('notebook/js/outputarea').OutputArea;\n",
       "\n",
       "    if (OutputArea.prototype.mime_types().indexOf(EXEC_MIME_TYPE) == -1) {\n",
       "      register_renderer(events, OutputArea);\n",
       "    }\n",
       "  }\n",
       "\n",
       "  \n",
       "  if (typeof (root._bokeh_timeout) === \"undefined\" || force === true) {\n",
       "    root._bokeh_timeout = Date.now() + 5000;\n",
       "    root._bokeh_failed_load = false;\n",
       "  }\n",
       "\n",
       "  const NB_LOAD_WARNING = {'data': {'text/html':\n",
       "     \"<div style='background-color: #fdd'>\\n\"+\n",
       "     \"<p>\\n\"+\n",
       "     \"BokehJS does not appear to have successfully loaded. If loading BokehJS from CDN, this \\n\"+\n",
       "     \"may be due to a slow or bad network connection. Possible fixes:\\n\"+\n",
       "     \"</p>\\n\"+\n",
       "     \"<ul>\\n\"+\n",
       "     \"<li>re-rerun `output_notebook()` to attempt to load from CDN again, or</li>\\n\"+\n",
       "     \"<li>use INLINE resources instead, as so:</li>\\n\"+\n",
       "     \"</ul>\\n\"+\n",
       "     \"<code>\\n\"+\n",
       "     \"from bokeh.resources import INLINE\\n\"+\n",
       "     \"output_notebook(resources=INLINE)\\n\"+\n",
       "     \"</code>\\n\"+\n",
       "     \"</div>\"}};\n",
       "\n",
       "  function display_loaded() {\n",
       "    const el = document.getElementById(\"1003\");\n",
       "    if (el != null) {\n",
       "      el.textContent = \"BokehJS is loading...\";\n",
       "    }\n",
       "    if (root.Bokeh !== undefined) {\n",
       "      if (el != null) {\n",
       "        el.textContent = \"BokehJS \" + root.Bokeh.version + \" successfully loaded.\";\n",
       "      }\n",
       "    } else if (Date.now() < root._bokeh_timeout) {\n",
       "      setTimeout(display_loaded, 100)\n",
       "    }\n",
       "  }\n",
       "\n",
       "\n",
       "  function run_callbacks() {\n",
       "    try {\n",
       "      root._bokeh_onload_callbacks.forEach(function(callback) {\n",
       "        if (callback != null)\n",
       "          callback();\n",
       "      });\n",
       "    } finally {\n",
       "      delete root._bokeh_onload_callbacks\n",
       "    }\n",
       "    console.debug(\"Bokeh: all callbacks have finished\");\n",
       "  }\n",
       "\n",
       "  function load_libs(css_urls, js_urls, callback) {\n",
       "    if (css_urls == null) css_urls = [];\n",
       "    if (js_urls == null) js_urls = [];\n",
       "\n",
       "    root._bokeh_onload_callbacks.push(callback);\n",
       "    if (root._bokeh_is_loading > 0) {\n",
       "      console.debug(\"Bokeh: BokehJS is being loaded, scheduling callback at\", now());\n",
       "      return null;\n",
       "    }\n",
       "    if (js_urls == null || js_urls.length === 0) {\n",
       "      run_callbacks();\n",
       "      return null;\n",
       "    }\n",
       "    console.debug(\"Bokeh: BokehJS not loaded, scheduling load and callback at\", now());\n",
       "    root._bokeh_is_loading = css_urls.length + js_urls.length;\n",
       "\n",
       "    function on_load() {\n",
       "      root._bokeh_is_loading--;\n",
       "      if (root._bokeh_is_loading === 0) {\n",
       "        console.debug(\"Bokeh: all BokehJS libraries/stylesheets loaded\");\n",
       "        run_callbacks()\n",
       "      }\n",
       "    }\n",
       "\n",
       "    function on_error(url) {\n",
       "      console.error(\"failed to load \" + url);\n",
       "    }\n",
       "\n",
       "    for (let i = 0; i < css_urls.length; i++) {\n",
       "      const url = css_urls[i];\n",
       "      const element = document.createElement(\"link\");\n",
       "      element.onload = on_load;\n",
       "      element.onerror = on_error.bind(null, url);\n",
       "      element.rel = \"stylesheet\";\n",
       "      element.type = \"text/css\";\n",
       "      element.href = url;\n",
       "      console.debug(\"Bokeh: injecting link tag for BokehJS stylesheet: \", url);\n",
       "      document.body.appendChild(element);\n",
       "    }\n",
       "\n",
       "    for (let i = 0; i < js_urls.length; i++) {\n",
       "      const url = js_urls[i];\n",
       "      const element = document.createElement('script');\n",
       "      element.onload = on_load;\n",
       "      element.onerror = on_error.bind(null, url);\n",
       "      element.async = false;\n",
       "      element.src = url;\n",
       "      console.debug(\"Bokeh: injecting script tag for BokehJS library: \", url);\n",
       "      document.head.appendChild(element);\n",
       "    }\n",
       "  };\n",
       "\n",
       "  function inject_raw_css(css) {\n",
       "    const element = document.createElement(\"style\");\n",
       "    element.appendChild(document.createTextNode(css));\n",
       "    document.body.appendChild(element);\n",
       "  }\n",
       "\n",
       "  \n",
       "  const js_urls = [\"https://cdn.bokeh.org/bokeh/release/bokeh-2.4.1.min.js\", \"https://cdn.bokeh.org/bokeh/release/bokeh-gl-2.4.1.min.js\", \"https://cdn.bokeh.org/bokeh/release/bokeh-widgets-2.4.1.min.js\", \"https://cdn.bokeh.org/bokeh/release/bokeh-tables-2.4.1.min.js\", \"https://cdn.bokeh.org/bokeh/release/bokeh-mathjax-2.4.1.min.js\"];\n",
       "  const css_urls = [];\n",
       "  \n",
       "\n",
       "  const inline_js = [\n",
       "    function(Bokeh) {\n",
       "      Bokeh.set_log_level(\"info\");\n",
       "    },\n",
       "    function(Bokeh) {\n",
       "    \n",
       "    \n",
       "    }\n",
       "  ];\n",
       "\n",
       "  function run_inline_js() {\n",
       "    \n",
       "    if (root.Bokeh !== undefined || force === true) {\n",
       "      \n",
       "    for (let i = 0; i < inline_js.length; i++) {\n",
       "      inline_js[i].call(root, root.Bokeh);\n",
       "    }\n",
       "    if (force === true) {\n",
       "        display_loaded();\n",
       "      }} else if (Date.now() < root._bokeh_timeout) {\n",
       "      setTimeout(run_inline_js, 100);\n",
       "    } else if (!root._bokeh_failed_load) {\n",
       "      console.log(\"Bokeh: BokehJS failed to load within specified timeout.\");\n",
       "      root._bokeh_failed_load = true;\n",
       "    } else if (force !== true) {\n",
       "      const cell = $(document.getElementById(\"1003\")).parents('.cell').data().cell;\n",
       "      cell.output_area.append_execute_result(NB_LOAD_WARNING)\n",
       "    }\n",
       "\n",
       "  }\n",
       "\n",
       "  if (root._bokeh_is_loading === 0) {\n",
       "    console.debug(\"Bokeh: BokehJS loaded, going straight to plotting\");\n",
       "    run_inline_js();\n",
       "  } else {\n",
       "    load_libs(css_urls, js_urls, function() {\n",
       "      console.debug(\"Bokeh: BokehJS plotting callback run at\", now());\n",
       "      run_inline_js();\n",
       "    });\n",
       "  }\n",
       "}(window));"
      ],
      "application/vnd.bokehjs_load.v0+json": "\n(function(root) {\n  function now() {\n    return new Date();\n  }\n\n  const force = true;\n\n  if (typeof root._bokeh_onload_callbacks === \"undefined\" || force === true) {\n    root._bokeh_onload_callbacks = [];\n    root._bokeh_is_loading = undefined;\n  }\n\n  \n\n  \n  if (typeof (root._bokeh_timeout) === \"undefined\" || force === true) {\n    root._bokeh_timeout = Date.now() + 5000;\n    root._bokeh_failed_load = false;\n  }\n\n  const NB_LOAD_WARNING = {'data': {'text/html':\n     \"<div style='background-color: #fdd'>\\n\"+\n     \"<p>\\n\"+\n     \"BokehJS does not appear to have successfully loaded. If loading BokehJS from CDN, this \\n\"+\n     \"may be due to a slow or bad network connection. Possible fixes:\\n\"+\n     \"</p>\\n\"+\n     \"<ul>\\n\"+\n     \"<li>re-rerun `output_notebook()` to attempt to load from CDN again, or</li>\\n\"+\n     \"<li>use INLINE resources instead, as so:</li>\\n\"+\n     \"</ul>\\n\"+\n     \"<code>\\n\"+\n     \"from bokeh.resources import INLINE\\n\"+\n     \"output_notebook(resources=INLINE)\\n\"+\n     \"</code>\\n\"+\n     \"</div>\"}};\n\n  function display_loaded() {\n    const el = document.getElementById(\"1003\");\n    if (el != null) {\n      el.textContent = \"BokehJS is loading...\";\n    }\n    if (root.Bokeh !== undefined) {\n      if (el != null) {\n        el.textContent = \"BokehJS \" + root.Bokeh.version + \" successfully loaded.\";\n      }\n    } else if (Date.now() < root._bokeh_timeout) {\n      setTimeout(display_loaded, 100)\n    }\n  }\n\n\n  function run_callbacks() {\n    try {\n      root._bokeh_onload_callbacks.forEach(function(callback) {\n        if (callback != null)\n          callback();\n      });\n    } finally {\n      delete root._bokeh_onload_callbacks\n    }\n    console.debug(\"Bokeh: all callbacks have finished\");\n  }\n\n  function load_libs(css_urls, js_urls, callback) {\n    if (css_urls == null) css_urls = [];\n    if (js_urls == null) js_urls = [];\n\n    root._bokeh_onload_callbacks.push(callback);\n    if (root._bokeh_is_loading > 0) {\n      console.debug(\"Bokeh: BokehJS is being loaded, scheduling callback at\", now());\n      return null;\n    }\n    if (js_urls == null || js_urls.length === 0) {\n      run_callbacks();\n      return null;\n    }\n    console.debug(\"Bokeh: BokehJS not loaded, scheduling load and callback at\", now());\n    root._bokeh_is_loading = css_urls.length + js_urls.length;\n\n    function on_load() {\n      root._bokeh_is_loading--;\n      if (root._bokeh_is_loading === 0) {\n        console.debug(\"Bokeh: all BokehJS libraries/stylesheets loaded\");\n        run_callbacks()\n      }\n    }\n\n    function on_error(url) {\n      console.error(\"failed to load \" + url);\n    }\n\n    for (let i = 0; i < css_urls.length; i++) {\n      const url = css_urls[i];\n      const element = document.createElement(\"link\");\n      element.onload = on_load;\n      element.onerror = on_error.bind(null, url);\n      element.rel = \"stylesheet\";\n      element.type = \"text/css\";\n      element.href = url;\n      console.debug(\"Bokeh: injecting link tag for BokehJS stylesheet: \", url);\n      document.body.appendChild(element);\n    }\n\n    for (let i = 0; i < js_urls.length; i++) {\n      const url = js_urls[i];\n      const element = document.createElement('script');\n      element.onload = on_load;\n      element.onerror = on_error.bind(null, url);\n      element.async = false;\n      element.src = url;\n      console.debug(\"Bokeh: injecting script tag for BokehJS library: \", url);\n      document.head.appendChild(element);\n    }\n  };\n\n  function inject_raw_css(css) {\n    const element = document.createElement(\"style\");\n    element.appendChild(document.createTextNode(css));\n    document.body.appendChild(element);\n  }\n\n  \n  const js_urls = [\"https://cdn.bokeh.org/bokeh/release/bokeh-2.4.1.min.js\", \"https://cdn.bokeh.org/bokeh/release/bokeh-gl-2.4.1.min.js\", \"https://cdn.bokeh.org/bokeh/release/bokeh-widgets-2.4.1.min.js\", \"https://cdn.bokeh.org/bokeh/release/bokeh-tables-2.4.1.min.js\", \"https://cdn.bokeh.org/bokeh/release/bokeh-mathjax-2.4.1.min.js\"];\n  const css_urls = [];\n  \n\n  const inline_js = [\n    function(Bokeh) {\n      Bokeh.set_log_level(\"info\");\n    },\n    function(Bokeh) {\n    \n    \n    }\n  ];\n\n  function run_inline_js() {\n    \n    if (root.Bokeh !== undefined || force === true) {\n      \n    for (let i = 0; i < inline_js.length; i++) {\n      inline_js[i].call(root, root.Bokeh);\n    }\n    if (force === true) {\n        display_loaded();\n      }} else if (Date.now() < root._bokeh_timeout) {\n      setTimeout(run_inline_js, 100);\n    } else if (!root._bokeh_failed_load) {\n      console.log(\"Bokeh: BokehJS failed to load within specified timeout.\");\n      root._bokeh_failed_load = true;\n    } else if (force !== true) {\n      const cell = $(document.getElementById(\"1003\")).parents('.cell').data().cell;\n      cell.output_area.append_execute_result(NB_LOAD_WARNING)\n    }\n\n  }\n\n  if (root._bokeh_is_loading === 0) {\n    console.debug(\"Bokeh: BokehJS loaded, going straight to plotting\");\n    run_inline_js();\n  } else {\n    load_libs(css_urls, js_urls, function() {\n      console.debug(\"Bokeh: BokehJS plotting callback run at\", now());\n      run_inline_js();\n    });\n  }\n}(window));"
     },
     "metadata": {},
     "output_type": "display_data"
    }
   ],
   "source": [
    "# Loading modules \n",
    "\n",
    "import pandas as pd\n",
    "import numpy as np\n",
    "import os\n",
    "\n",
    "from matplotlib import pyplot as plt\n",
    "from itertools import chain \n",
    "\n",
    "# Visualization tools\n",
    "\n",
    "from bokeh.plotting import figure\n",
    "from bokeh.io import output_notebook, show, export_png\n",
    "output_notebook()\n",
    "\n",
    "# Modeling tools\n",
    "\n",
    "from sklearn.metrics import mean_absolute_percentage_error, mean_squared_error\n",
    "from sklearn.linear_model import LinearRegression\n",
    "from sklearn.pipeline import make_pipeline\n",
    "from sklearn.preprocessing import PolynomialFeatures\n",
    "\n",
    "import scipy\n",
    "\n",
    "import statsmodels.api as sm\n",
    "from statsmodels.graphics.tsaplots import plot_acf,plot_pacf\n",
    "from statsmodels.tsa.ar_model import AutoReg\n",
    "\n",
    "# Ignoring warnings\n",
    "\n",
    "import warnings\n",
    "warnings.filterwarnings('ignore')"
   ]
  },
  {
   "cell_type": "markdown",
   "metadata": {},
   "source": [
    "# The Mauna Loa $CO_2$ Concentration\n",
    "\n",
    "In 1958, Charles David Keeling (1928-2005) from Scripps Instituion of Ocenography began recording carbon dioxide ($CO_2$) concentrations in the atmosphere at an observatory located at about 3,400 m altitude on the Mauna Loa Volcano on Hawaii Island. The location was chosen because it is not influenced by changing $CO_2$ levels due to the local vegetation and because prevailing wind patterns on this tropical island tend to bring well-mixed air to the site. While the recordings are made near a volcano (which tends to produce $CO_2$) wind patterns tend to blow the volcanic $CO_2$ away from the recording site. Air samples are taken several times a day, and concentrations have been observed using the same measuring method for over 60 years. In addition, samples are stored in flasks and periodically reanalyzed for calibration purposes. The observational study is now run by Ralph Keeling, Charle's son. The result is a data set with very few interruptions and very few inhomogeneities. It has been called the \"most important data set in modern climate research.\"\n",
    "\n",
    "The data set for this problem provides the concentration of $CO_2$ recorded at Mauna Loa for eah month starting March 1958. More description is provided in the data set file. We will be considwering only the $CO_2$ concentration given in column 5. The goal of the problem is to fit the data and understand its variations. You will encounter missing data points; part of the exervise is to deal with them appropriately.\n",
    "\n",
    "Let $C_i$ be the average $CO_2$ concentration in month $i$ ($i$ = 1,2,..., counting from March 1958). We will look for a description of the form:\n",
    "\n",
    "$$C_ i = F(t_ i) + P_ i + R_ i$$\n",
    "\n",
    "where:\n",
    "\n",
    "$F: t \\mapsto F(t)$ accounts for the long-term trend.\n",
    "\n",
    "$t_i$ is time at the middle of the $i$th month, measured in fractions of years after Jan 15, 1958.\n",
    "$P_i$ is periodic in $i$ with a fixed period, accounting for the seasonal pattern.\n",
    "\n",
    "$R_i$ is the remaining residual that accounts for all other influences.\n",
    "\n",
    "The decomposition is meaningful only if the range of $F$ is much larger than the amplitude of the $P_i$ and this amplitude in turn is substantially larger than that of $R_i$.\n",
    "\n",
    "You are required to split the data into training and test datasets - you can perform an 80:20 split. All model fitting should be done only on the training set and all the remaining data should be used for evaluation (for the purpose of model selection), i.e. prediction errors should be reportted with respect to the test set.\n",
    "\n",
    "You may notice that there are some inhomogeneities in data and the $CO_2$ concentration at these points is recorded as -99.99. Before proceeesing, we must clean the data. One simple way to do this is to drop all missing values from the table. For the purpose of the problems below, use this simple method of dropping all the missing values. Other methods include forward filling-fill missing values with previous values, and interpolation."
   ]
  },
  {
   "cell_type": "markdown",
   "metadata": {},
   "source": [
    "Now, fit the training data to a simple linear model $F_1(t) \\sim \\alpha _0 + \\alpha _1t$. Plot the data and the fit.\n",
    "\n",
    "<b> What are the values of $\\hat\\alpha_0$ and $\\hat\\alpha _1$ ?</b>"
   ]
  },
  {
   "cell_type": "code",
   "execution_count": 8,
   "metadata": {},
   "outputs": [
    {
     "data": {
      "text/html": [
       "<div>\n",
       "<style scoped>\n",
       "    .dataframe tbody tr th:only-of-type {\n",
       "        vertical-align: middle;\n",
       "    }\n",
       "\n",
       "    .dataframe tbody tr th {\n",
       "        vertical-align: top;\n",
       "    }\n",
       "\n",
       "    .dataframe thead tr th {\n",
       "        text-align: left;\n",
       "    }\n",
       "</style>\n",
       "<table border=\"1\" class=\"dataframe\">\n",
       "  <thead>\n",
       "    <tr>\n",
       "      <th></th>\n",
       "      <th>Yr</th>\n",
       "      <th>Mn</th>\n",
       "      <th>Date</th>\n",
       "      <th>Date</th>\n",
       "      <th>CO2</th>\n",
       "      <th>seasonally</th>\n",
       "      <th>fit</th>\n",
       "      <th>seasonally</th>\n",
       "      <th>CO2</th>\n",
       "      <th>seasonally</th>\n",
       "    </tr>\n",
       "    <tr>\n",
       "      <th></th>\n",
       "      <th></th>\n",
       "      <th></th>\n",
       "      <th></th>\n",
       "      <th></th>\n",
       "      <th></th>\n",
       "      <th>adjusted</th>\n",
       "      <th></th>\n",
       "      <th>adjusted fit</th>\n",
       "      <th>filled</th>\n",
       "      <th>adjusted filled</th>\n",
       "    </tr>\n",
       "    <tr>\n",
       "      <th></th>\n",
       "      <th></th>\n",
       "      <th></th>\n",
       "      <th>Excel</th>\n",
       "      <th></th>\n",
       "      <th>[ppm]</th>\n",
       "      <th>[ppm]</th>\n",
       "      <th>[ppm]</th>\n",
       "      <th>[ppm]</th>\n",
       "      <th>[ppm]</th>\n",
       "      <th>[ppm]</th>\n",
       "    </tr>\n",
       "  </thead>\n",
       "  <tbody>\n",
       "    <tr>\n",
       "      <th>0</th>\n",
       "      <td>1958</td>\n",
       "      <td>1</td>\n",
       "      <td>21200</td>\n",
       "      <td>1958.0411</td>\n",
       "      <td>-99.99</td>\n",
       "      <td>-99.99</td>\n",
       "      <td>-99.99</td>\n",
       "      <td>-99.99</td>\n",
       "      <td>-99.99</td>\n",
       "      <td>-99.99</td>\n",
       "    </tr>\n",
       "    <tr>\n",
       "      <th>1</th>\n",
       "      <td>1958</td>\n",
       "      <td>2</td>\n",
       "      <td>21231</td>\n",
       "      <td>1958.1260</td>\n",
       "      <td>-99.99</td>\n",
       "      <td>-99.99</td>\n",
       "      <td>-99.99</td>\n",
       "      <td>-99.99</td>\n",
       "      <td>-99.99</td>\n",
       "      <td>-99.99</td>\n",
       "    </tr>\n",
       "    <tr>\n",
       "      <th>2</th>\n",
       "      <td>1958</td>\n",
       "      <td>3</td>\n",
       "      <td>21259</td>\n",
       "      <td>1958.2027</td>\n",
       "      <td>315.70</td>\n",
       "      <td>314.43</td>\n",
       "      <td>316.19</td>\n",
       "      <td>314.90</td>\n",
       "      <td>315.70</td>\n",
       "      <td>314.43</td>\n",
       "    </tr>\n",
       "    <tr>\n",
       "      <th>3</th>\n",
       "      <td>1958</td>\n",
       "      <td>4</td>\n",
       "      <td>21290</td>\n",
       "      <td>1958.2877</td>\n",
       "      <td>317.45</td>\n",
       "      <td>315.16</td>\n",
       "      <td>317.30</td>\n",
       "      <td>314.98</td>\n",
       "      <td>317.45</td>\n",
       "      <td>315.16</td>\n",
       "    </tr>\n",
       "    <tr>\n",
       "      <th>4</th>\n",
       "      <td>1958</td>\n",
       "      <td>5</td>\n",
       "      <td>21320</td>\n",
       "      <td>1958.3699</td>\n",
       "      <td>317.51</td>\n",
       "      <td>314.71</td>\n",
       "      <td>317.86</td>\n",
       "      <td>315.06</td>\n",
       "      <td>317.51</td>\n",
       "      <td>314.71</td>\n",
       "    </tr>\n",
       "  </tbody>\n",
       "</table>\n",
       "</div>"
      ],
      "text/plain": [
       "     Yr  Mn     Date       Date      CO2 seasonally         fit   seasonally  \\\n",
       "                                           adjusted             adjusted fit   \n",
       "               Excel               [ppm]     [ppm]        [ppm]        [ppm]   \n",
       "0  1958   1    21200  1958.0411   -99.99     -99.99      -99.99       -99.99   \n",
       "1  1958   2    21231  1958.1260   -99.99     -99.99      -99.99       -99.99   \n",
       "2  1958   3    21259  1958.2027   315.70     314.43      316.19       314.90   \n",
       "3  1958   4    21290  1958.2877   317.45     315.16      317.30       314.98   \n",
       "4  1958   5    21320  1958.3699   317.51     314.71      317.86       315.06   \n",
       "\n",
       "           CO2      seasonally  \n",
       "        filled adjusted filled  \n",
       "         [ppm]           [ppm]  \n",
       "0       -99.99          -99.99  \n",
       "1       -99.99          -99.99  \n",
       "2       315.70          314.43  \n",
       "3       317.45          315.16  \n",
       "4       317.51          314.71  "
      ]
     },
     "execution_count": 8,
     "metadata": {},
     "output_type": "execute_result"
    }
   ],
   "source": [
    "# Loading data\n",
    "\n",
    "df = pd.read_csv(\"data\\CO2.csv\", header=[0, 1, 2], comment='\"')\n",
    "df.head()"
   ]
  },
  {
   "cell_type": "code",
   "execution_count": 9,
   "metadata": {},
   "outputs": [
    {
     "name": "stdout",
     "output_type": "stream",
     "text": [
      "<class 'pandas.core.frame.DataFrame'>\n",
      "RangeIndex: 744 entries, 0 to 743\n",
      "Data columns (total 10 columns):\n",
      " #   Column                                     Non-Null Count  Dtype  \n",
      "---  ------                                     --------------  -----  \n",
      " 0   (  Yr,     ,     )                         744 non-null    int64  \n",
      " 1   ( Mn,    ,    )                            744 non-null    int64  \n",
      " 2   (    Date,         ,    Excel)             744 non-null    int64  \n",
      " 3   (      Date,           ,           )       744 non-null    float64\n",
      " 4   (     CO2,         ,    [ppm])             744 non-null    float64\n",
      " 5   (seasonally,   adjusted,     [ppm] )       744 non-null    float64\n",
      " 6   (        fit,            ,       [ppm])    744 non-null    float64\n",
      " 7   (  seasonally, adjusted fit,     [ppm])    744 non-null    float64\n",
      " 8   (      CO2,    filled,        [ppm])       744 non-null    float64\n",
      " 9   ( seasonally, adjusted filled,     [ppm])  744 non-null    float64\n",
      "dtypes: float64(7), int64(3)\n",
      "memory usage: 58.2 KB\n"
     ]
    }
   ],
   "source": [
    "df.info()"
   ]
  },
  {
   "cell_type": "code",
   "execution_count": 10,
   "metadata": {},
   "outputs": [
    {
     "data": {
      "text/plain": [
       "Index(['Yr', 'Mn', 'Date  Excel', 'Date', 'CO2  [ppm]',\n",
       "       'seasonally adjusted [ppm]', 'fit  [ppm]',\n",
       "       'seasonally adjusted fit [ppm]', 'CO2 filled [ppm]',\n",
       "       'seasonally adjusted filled [ppm]'],\n",
       "      dtype='object')"
      ]
     },
     "execution_count": 10,
     "metadata": {},
     "output_type": "execute_result"
    }
   ],
   "source": [
    "# Fixing column names\n",
    "\n",
    "df.columns = [\n",
    "    \" \".join(\n",
    "        [col[0].strip(),\n",
    "         col[1].strip(),\n",
    "         col[2].strip()]\n",
    "    ).strip()\n",
    "    for col in df.columns.values\n",
    "]\n",
    "df.columns"
   ]
  },
  {
   "cell_type": "code",
   "execution_count": 11,
   "metadata": {},
   "outputs": [],
   "source": [
    "# Creating a copy of the dataframe and preparing data\n",
    "\n",
    "co2 = df.copy()"
   ]
  },
  {
   "cell_type": "code",
   "execution_count": 12,
   "metadata": {},
   "outputs": [
    {
     "data": {
      "text/html": [
       "<div>\n",
       "<style scoped>\n",
       "    .dataframe tbody tr th:only-of-type {\n",
       "        vertical-align: middle;\n",
       "    }\n",
       "\n",
       "    .dataframe tbody tr th {\n",
       "        vertical-align: top;\n",
       "    }\n",
       "\n",
       "    .dataframe thead th {\n",
       "        text-align: right;\n",
       "    }\n",
       "</style>\n",
       "<table border=\"1\" class=\"dataframe\">\n",
       "  <thead>\n",
       "    <tr style=\"text-align: right;\">\n",
       "      <th></th>\n",
       "      <th>Year</th>\n",
       "      <th>Month</th>\n",
       "      <th>CO2</th>\n",
       "    </tr>\n",
       "  </thead>\n",
       "  <tbody>\n",
       "    <tr>\n",
       "      <th>0</th>\n",
       "      <td>1958</td>\n",
       "      <td>1</td>\n",
       "      <td>-99.99</td>\n",
       "    </tr>\n",
       "    <tr>\n",
       "      <th>1</th>\n",
       "      <td>1958</td>\n",
       "      <td>2</td>\n",
       "      <td>-99.99</td>\n",
       "    </tr>\n",
       "    <tr>\n",
       "      <th>2</th>\n",
       "      <td>1958</td>\n",
       "      <td>3</td>\n",
       "      <td>315.70</td>\n",
       "    </tr>\n",
       "    <tr>\n",
       "      <th>3</th>\n",
       "      <td>1958</td>\n",
       "      <td>4</td>\n",
       "      <td>317.45</td>\n",
       "    </tr>\n",
       "    <tr>\n",
       "      <th>4</th>\n",
       "      <td>1958</td>\n",
       "      <td>5</td>\n",
       "      <td>317.51</td>\n",
       "    </tr>\n",
       "  </tbody>\n",
       "</table>\n",
       "</div>"
      ],
      "text/plain": [
       "   Year  Month     CO2\n",
       "0  1958      1  -99.99\n",
       "1  1958      2  -99.99\n",
       "2  1958      3  315.70\n",
       "3  1958      4  317.45\n",
       "4  1958      5  317.51"
      ]
     },
     "execution_count": 12,
     "metadata": {},
     "output_type": "execute_result"
    }
   ],
   "source": [
    "# Selecting columns\n",
    "\n",
    "co2 = co2[['Yr','Mn', 'CO2  [ppm]']]\n",
    "co2.columns = ['Year', 'Month', 'CO2']\n",
    "co2.head()"
   ]
  },
  {
   "cell_type": "code",
   "execution_count": 13,
   "metadata": {},
   "outputs": [
    {
     "data": {
      "text/html": [
       "<div>\n",
       "<style scoped>\n",
       "    .dataframe tbody tr th:only-of-type {\n",
       "        vertical-align: middle;\n",
       "    }\n",
       "\n",
       "    .dataframe tbody tr th {\n",
       "        vertical-align: top;\n",
       "    }\n",
       "\n",
       "    .dataframe thead th {\n",
       "        text-align: right;\n",
       "    }\n",
       "</style>\n",
       "<table border=\"1\" class=\"dataframe\">\n",
       "  <thead>\n",
       "    <tr style=\"text-align: right;\">\n",
       "      <th></th>\n",
       "      <th>Year</th>\n",
       "      <th>Month</th>\n",
       "      <th>CO2</th>\n",
       "    </tr>\n",
       "  </thead>\n",
       "  <tbody>\n",
       "    <tr>\n",
       "      <th>0</th>\n",
       "      <td>1958</td>\n",
       "      <td>1</td>\n",
       "      <td>NaN</td>\n",
       "    </tr>\n",
       "    <tr>\n",
       "      <th>1</th>\n",
       "      <td>1958</td>\n",
       "      <td>2</td>\n",
       "      <td>NaN</td>\n",
       "    </tr>\n",
       "    <tr>\n",
       "      <th>2</th>\n",
       "      <td>1958</td>\n",
       "      <td>3</td>\n",
       "      <td>315.70</td>\n",
       "    </tr>\n",
       "    <tr>\n",
       "      <th>3</th>\n",
       "      <td>1958</td>\n",
       "      <td>4</td>\n",
       "      <td>317.45</td>\n",
       "    </tr>\n",
       "    <tr>\n",
       "      <th>4</th>\n",
       "      <td>1958</td>\n",
       "      <td>5</td>\n",
       "      <td>317.51</td>\n",
       "    </tr>\n",
       "  </tbody>\n",
       "</table>\n",
       "</div>"
      ],
      "text/plain": [
       "   Year  Month     CO2\n",
       "0  1958      1     NaN\n",
       "1  1958      2     NaN\n",
       "2  1958      3  315.70\n",
       "3  1958      4  317.45\n",
       "4  1958      5  317.51"
      ]
     },
     "execution_count": 13,
     "metadata": {},
     "output_type": "execute_result"
    }
   ],
   "source": [
    "# Replacing -99.99 with NaN\n",
    "\n",
    "co2['CO2'].replace(-99.99, np.nan, inplace=True)\n",
    "co2.head()"
   ]
  },
  {
   "cell_type": "code",
   "execution_count": 14,
   "metadata": {},
   "outputs": [
    {
     "data": {
      "text/html": [
       "<div>\n",
       "<style scoped>\n",
       "    .dataframe tbody tr th:only-of-type {\n",
       "        vertical-align: middle;\n",
       "    }\n",
       "\n",
       "    .dataframe tbody tr th {\n",
       "        vertical-align: top;\n",
       "    }\n",
       "\n",
       "    .dataframe thead th {\n",
       "        text-align: right;\n",
       "    }\n",
       "</style>\n",
       "<table border=\"1\" class=\"dataframe\">\n",
       "  <thead>\n",
       "    <tr style=\"text-align: right;\">\n",
       "      <th></th>\n",
       "      <th>Year</th>\n",
       "      <th>Month</th>\n",
       "      <th>CO2</th>\n",
       "      <th>time</th>\n",
       "    </tr>\n",
       "  </thead>\n",
       "  <tbody>\n",
       "    <tr>\n",
       "      <th>0</th>\n",
       "      <td>1958</td>\n",
       "      <td>1</td>\n",
       "      <td>NaN</td>\n",
       "      <td>0.041667</td>\n",
       "    </tr>\n",
       "    <tr>\n",
       "      <th>1</th>\n",
       "      <td>1958</td>\n",
       "      <td>2</td>\n",
       "      <td>NaN</td>\n",
       "      <td>1.041667</td>\n",
       "    </tr>\n",
       "    <tr>\n",
       "      <th>2</th>\n",
       "      <td>1958</td>\n",
       "      <td>3</td>\n",
       "      <td>315.70</td>\n",
       "      <td>2.041667</td>\n",
       "    </tr>\n",
       "    <tr>\n",
       "      <th>3</th>\n",
       "      <td>1958</td>\n",
       "      <td>4</td>\n",
       "      <td>317.45</td>\n",
       "      <td>3.041667</td>\n",
       "    </tr>\n",
       "    <tr>\n",
       "      <th>4</th>\n",
       "      <td>1958</td>\n",
       "      <td>5</td>\n",
       "      <td>317.51</td>\n",
       "      <td>4.041667</td>\n",
       "    </tr>\n",
       "  </tbody>\n",
       "</table>\n",
       "</div>"
      ],
      "text/plain": [
       "   Year  Month     CO2      time\n",
       "0  1958      1     NaN  0.041667\n",
       "1  1958      2     NaN  1.041667\n",
       "2  1958      3  315.70  2.041667\n",
       "3  1958      4  317.45  3.041667\n",
       "4  1958      5  317.51  4.041667"
      ]
     },
     "execution_count": 14,
     "metadata": {},
     "output_type": "execute_result"
    }
   ],
   "source": [
    "# Creating a time index measured in the middle of the month starting from zero\n",
    "\n",
    "co2['time'] = (co2.index.values + 0.5 / 12)\n",
    "co2.head()"
   ]
  },
  {
   "cell_type": "code",
   "execution_count": 15,
   "metadata": {},
   "outputs": [
    {
     "data": {
      "text/html": [
       "<div>\n",
       "<style scoped>\n",
       "    .dataframe tbody tr th:only-of-type {\n",
       "        vertical-align: middle;\n",
       "    }\n",
       "\n",
       "    .dataframe tbody tr th {\n",
       "        vertical-align: top;\n",
       "    }\n",
       "\n",
       "    .dataframe thead th {\n",
       "        text-align: right;\n",
       "    }\n",
       "</style>\n",
       "<table border=\"1\" class=\"dataframe\">\n",
       "  <thead>\n",
       "    <tr style=\"text-align: right;\">\n",
       "      <th></th>\n",
       "      <th>Year</th>\n",
       "      <th>Month</th>\n",
       "      <th>CO2</th>\n",
       "      <th>time</th>\n",
       "    </tr>\n",
       "  </thead>\n",
       "  <tbody>\n",
       "    <tr>\n",
       "      <th>0</th>\n",
       "      <td>1958</td>\n",
       "      <td>1</td>\n",
       "      <td>NaN</td>\n",
       "      <td>0.041667</td>\n",
       "    </tr>\n",
       "    <tr>\n",
       "      <th>1</th>\n",
       "      <td>1958</td>\n",
       "      <td>2</td>\n",
       "      <td>NaN</td>\n",
       "      <td>1.041667</td>\n",
       "    </tr>\n",
       "    <tr>\n",
       "      <th>5</th>\n",
       "      <td>1958</td>\n",
       "      <td>6</td>\n",
       "      <td>NaN</td>\n",
       "      <td>5.041667</td>\n",
       "    </tr>\n",
       "    <tr>\n",
       "      <th>9</th>\n",
       "      <td>1958</td>\n",
       "      <td>10</td>\n",
       "      <td>NaN</td>\n",
       "      <td>9.041667</td>\n",
       "    </tr>\n",
       "    <tr>\n",
       "      <th>73</th>\n",
       "      <td>1964</td>\n",
       "      <td>2</td>\n",
       "      <td>NaN</td>\n",
       "      <td>73.041667</td>\n",
       "    </tr>\n",
       "    <tr>\n",
       "      <th>74</th>\n",
       "      <td>1964</td>\n",
       "      <td>3</td>\n",
       "      <td>NaN</td>\n",
       "      <td>74.041667</td>\n",
       "    </tr>\n",
       "    <tr>\n",
       "      <th>75</th>\n",
       "      <td>1964</td>\n",
       "      <td>4</td>\n",
       "      <td>NaN</td>\n",
       "      <td>75.041667</td>\n",
       "    </tr>\n",
       "    <tr>\n",
       "      <th>741</th>\n",
       "      <td>2019</td>\n",
       "      <td>10</td>\n",
       "      <td>NaN</td>\n",
       "      <td>741.041667</td>\n",
       "    </tr>\n",
       "    <tr>\n",
       "      <th>742</th>\n",
       "      <td>2019</td>\n",
       "      <td>11</td>\n",
       "      <td>NaN</td>\n",
       "      <td>742.041667</td>\n",
       "    </tr>\n",
       "    <tr>\n",
       "      <th>743</th>\n",
       "      <td>2019</td>\n",
       "      <td>12</td>\n",
       "      <td>NaN</td>\n",
       "      <td>743.041667</td>\n",
       "    </tr>\n",
       "  </tbody>\n",
       "</table>\n",
       "</div>"
      ],
      "text/plain": [
       "     Year  Month  CO2        time\n",
       "0    1958      1  NaN    0.041667\n",
       "1    1958      2  NaN    1.041667\n",
       "5    1958      6  NaN    5.041667\n",
       "9    1958     10  NaN    9.041667\n",
       "73   1964      2  NaN   73.041667\n",
       "74   1964      3  NaN   74.041667\n",
       "75   1964      4  NaN   75.041667\n",
       "741  2019     10  NaN  741.041667\n",
       "742  2019     11  NaN  742.041667\n",
       "743  2019     12  NaN  743.041667"
      ]
     },
     "execution_count": 15,
     "metadata": {},
     "output_type": "execute_result"
    }
   ],
   "source": [
    "# Checking for null values\n",
    "\n",
    "co2[co2.CO2.isnull()]"
   ]
  },
  {
   "cell_type": "code",
   "execution_count": 16,
   "metadata": {},
   "outputs": [],
   "source": [
    "# Dropping missing values and reseting index\n",
    "\n",
    "co2 = co2.dropna()\n",
    "co2.reset_index(drop=True, inplace=True)"
   ]
  },
  {
   "cell_type": "code",
   "execution_count": 17,
   "metadata": {},
   "outputs": [
    {
     "data": {
      "text/plain": [
       "734"
      ]
     },
     "execution_count": 17,
     "metadata": {},
     "output_type": "execute_result"
    }
   ],
   "source": [
    "# Creating design matrix X from the time index\n",
    "\n",
    "X = co2['time']\n",
    "len(X)"
   ]
  },
  {
   "cell_type": "code",
   "execution_count": 18,
   "metadata": {},
   "outputs": [
    {
     "data": {
      "text/plain": [
       "734"
      ]
     },
     "execution_count": 18,
     "metadata": {},
     "output_type": "execute_result"
    }
   ],
   "source": [
    "# Creating labels from the co2 values\n",
    "\n",
    "y = co2['CO2']\n",
    "len(y)"
   ]
  },
  {
   "cell_type": "code",
   "execution_count": 19,
   "metadata": {},
   "outputs": [
    {
     "name": "stdout",
     "output_type": "stream",
     "text": [
      "587 587\n",
      "147 147\n"
     ]
    }
   ],
   "source": [
    "# Splitting the data with 80:20 split \n",
    "\n",
    "train_size = int(len(X)*0.8) # training with the first values of the timeframe\n",
    "test_size = len(X) - train_size # testing predictions with the last values of the timeframe\n",
    "\n",
    "X_train = X[0:train_size]\n",
    "y_train = y[0:train_size]\n",
    "\n",
    "X_test = X[train_size:]\n",
    "y_test = y[train_size:]\n",
    "\n",
    "print(len(X_train), len(y_train))\n",
    "print(len(X_test), len(y_test))"
   ]
  },
  {
   "cell_type": "code",
   "execution_count": 20,
   "metadata": {},
   "outputs": [
    {
     "data": {
      "text/html": [
       "\n",
       "\n",
       "\n",
       "\n",
       "\n",
       "\n",
       "  <div class=\"bk-root\" id=\"25e1dbd0-3e4c-4c27-a994-c885046d3625\" data-root-id=\"1004\"></div>\n"
      ]
     },
     "metadata": {},
     "output_type": "display_data"
    },
    {
     "data": {
      "application/javascript": [
       "(function(root) {\n",
       "  function embed_document(root) {\n",
       "    \n",
       "  const docs_json = {\"bf1196a0-8d3e-4e7a-b3d4-d0e27107e5f6\":{\"defs\":[],\"roots\":{\"references\":[{\"attributes\":{\"below\":[{\"id\":\"1015\"}],\"center\":[{\"id\":\"1018\"},{\"id\":\"1022\"}],\"left\":[{\"id\":\"1019\"}],\"renderers\":[{\"id\":\"1041\"}],\"title\":{\"id\":\"1005\"},\"toolbar\":{\"id\":\"1030\"},\"width\":800,\"x_range\":{\"id\":\"1007\"},\"x_scale\":{\"id\":\"1011\"},\"y_range\":{\"id\":\"1009\"},\"y_scale\":{\"id\":\"1013\"}},\"id\":\"1004\",\"subtype\":\"Figure\",\"type\":\"Plot\"},{\"attributes\":{\"fill_alpha\":{\"value\":0.5},\"fill_color\":{\"value\":\"orange\"},\"line_color\":{\"value\":\"navy\"},\"size\":{\"value\":5},\"x\":{\"field\":\"x\"},\"y\":{\"field\":\"y\"}},\"id\":\"1038\",\"type\":\"Scatter\"},{\"attributes\":{\"data\":{\"x\":{\"__ndarray__\":\"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\",\"dtype\":\"float64\",\"order\":\"little\",\"shape\":[587]},\"y\":{\"__ndarray__\":\"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\",\"dtype\":\"float64\",\"order\":\"little\",\"shape\":[587]}},\"selected\":{\"id\":\"1052\"},\"selection_policy\":{\"id\":\"1051\"}},\"id\":\"1037\",\"type\":\"ColumnDataSource\"},{\"attributes\":{},\"id\":\"1028\",\"type\":\"HelpTool\"},{\"attributes\":{},\"id\":\"1009\",\"type\":\"DataRange1d\"},{\"attributes\":{},\"id\":\"1007\",\"type\":\"DataRange1d\"},{\"attributes\":{\"axis_label\":\"CO2 Concentration\",\"coordinates\":null,\"formatter\":{\"id\":\"1047\"},\"group\":null,\"major_label_policy\":{\"id\":\"1048\"},\"ticker\":{\"id\":\"1020\"}},\"id\":\"1019\",\"type\":\"LinearAxis\"},{\"attributes\":{},\"id\":\"1013\",\"type\":\"LinearScale\"},{\"attributes\":{\"coordinates\":null,\"data_source\":{\"id\":\"1037\"},\"glyph\":{\"id\":\"1038\"},\"group\":null,\"hover_glyph\":null,\"muted_glyph\":{\"id\":\"1040\"},\"nonselection_glyph\":{\"id\":\"1039\"},\"view\":{\"id\":\"1042\"}},\"id\":\"1041\",\"type\":\"GlyphRenderer\"},{\"attributes\":{},\"id\":\"1047\",\"type\":\"BasicTickFormatter\"},{\"attributes\":{\"coordinates\":null,\"group\":null,\"text\":\"Visualization of Training Data\"},\"id\":\"1005\",\"type\":\"Title\"},{\"attributes\":{},\"id\":\"1027\",\"type\":\"ResetTool\"},{\"attributes\":{\"axis\":{\"id\":\"1015\"},\"coordinates\":null,\"group\":null,\"ticker\":null},\"id\":\"1018\",\"type\":\"Grid\"},{\"attributes\":{},\"id\":\"1011\",\"type\":\"LinearScale\"},{\"attributes\":{\"axis_label\":\"Time\",\"coordinates\":null,\"formatter\":{\"id\":\"1049\"},\"group\":null,\"major_label_overrides\":{\"0\":\"1958\",\"200\":\"1976\",\"400\":\"1992\",\"600\":\"2008\"},\"major_label_policy\":{\"id\":\"1050\"},\"ticker\":{\"id\":\"1043\"}},\"id\":\"1015\",\"type\":\"LinearAxis\"},{\"attributes\":{},\"id\":\"1048\",\"type\":\"AllLabels\"},{\"attributes\":{},\"id\":\"1049\",\"type\":\"BasicTickFormatter\"},{\"attributes\":{\"fill_alpha\":{\"value\":0.2},\"fill_color\":{\"value\":\"orange\"},\"hatch_alpha\":{\"value\":0.2},\"line_alpha\":{\"value\":0.2},\"line_color\":{\"value\":\"navy\"},\"size\":{\"value\":5},\"x\":{\"field\":\"x\"},\"y\":{\"field\":\"y\"}},\"id\":\"1040\",\"type\":\"Scatter\"},{\"attributes\":{\"axis\":{\"id\":\"1019\"},\"coordinates\":null,\"dimension\":1,\"group\":null,\"ticker\":null},\"id\":\"1022\",\"type\":\"Grid\"},{\"attributes\":{},\"id\":\"1020\",\"type\":\"BasicTicker\"},{\"attributes\":{},\"id\":\"1050\",\"type\":\"AllLabels\"},{\"attributes\":{\"fill_alpha\":{\"value\":0.1},\"fill_color\":{\"value\":\"orange\"},\"hatch_alpha\":{\"value\":0.1},\"line_alpha\":{\"value\":0.1},\"line_color\":{\"value\":\"navy\"},\"size\":{\"value\":5},\"x\":{\"field\":\"x\"},\"y\":{\"field\":\"y\"}},\"id\":\"1039\",\"type\":\"Scatter\"},{\"attributes\":{\"source\":{\"id\":\"1037\"}},\"id\":\"1042\",\"type\":\"CDSView\"},{\"attributes\":{},\"id\":\"1024\",\"type\":\"WheelZoomTool\"},{\"attributes\":{},\"id\":\"1023\",\"type\":\"PanTool\"},{\"attributes\":{\"overlay\":{\"id\":\"1029\"}},\"id\":\"1025\",\"type\":\"BoxZoomTool\"},{\"attributes\":{},\"id\":\"1026\",\"type\":\"SaveTool\"},{\"attributes\":{},\"id\":\"1052\",\"type\":\"Selection\"},{\"attributes\":{\"bottom_units\":\"screen\",\"coordinates\":null,\"fill_alpha\":0.5,\"fill_color\":\"lightgrey\",\"group\":null,\"left_units\":\"screen\",\"level\":\"overlay\",\"line_alpha\":1.0,\"line_color\":\"black\",\"line_dash\":[4,4],\"line_width\":2,\"right_units\":\"screen\",\"syncable\":false,\"top_units\":\"screen\"},\"id\":\"1029\",\"type\":\"BoxAnnotation\"},{\"attributes\":{\"tools\":[{\"id\":\"1023\"},{\"id\":\"1024\"},{\"id\":\"1025\"},{\"id\":\"1026\"},{\"id\":\"1027\"},{\"id\":\"1028\"}]},\"id\":\"1030\",\"type\":\"Toolbar\"},{\"attributes\":{},\"id\":\"1051\",\"type\":\"UnionRenderers\"},{\"attributes\":{\"ticks\":[0,200,400,600]},\"id\":\"1043\",\"type\":\"FixedTicker\"}],\"root_ids\":[\"1004\"]},\"title\":\"Bokeh Application\",\"version\":\"2.4.1\"}};\n",
       "  const render_items = [{\"docid\":\"bf1196a0-8d3e-4e7a-b3d4-d0e27107e5f6\",\"root_ids\":[\"1004\"],\"roots\":{\"1004\":\"25e1dbd0-3e4c-4c27-a994-c885046d3625\"}}];\n",
       "  root.Bokeh.embed.embed_items_notebook(docs_json, render_items);\n",
       "\n",
       "  }\n",
       "  if (root.Bokeh !== undefined) {\n",
       "    embed_document(root);\n",
       "  } else {\n",
       "    let attempts = 0;\n",
       "    const timer = setInterval(function(root) {\n",
       "      if (root.Bokeh !== undefined) {\n",
       "        clearInterval(timer);\n",
       "        embed_document(root);\n",
       "      } else {\n",
       "        attempts++;\n",
       "        if (attempts > 100) {\n",
       "          clearInterval(timer);\n",
       "          console.log(\"Bokeh: ERROR: Unable to run BokehJS code because BokehJS library is missing\");\n",
       "        }\n",
       "      }\n",
       "    }, 10, root)\n",
       "  }\n",
       "})(window);"
      ],
      "application/vnd.bokehjs_exec.v0+json": ""
     },
     "metadata": {
      "application/vnd.bokehjs_exec.v0+json": {
       "id": "1004"
      }
     },
     "output_type": "display_data"
    }
   ],
   "source": [
    "# Visualizing training data\n",
    "\n",
    "p = figure(plot_width = 800, plot_height = 600, title = \"Visualization of Training Data\")\n",
    "p.scatter(X_train,y_train,size=5, line_color=\"navy\", fill_color=\"orange\", fill_alpha=0.5)\n",
    "p.xaxis.ticker = [0, 200, 400, 600]\n",
    "p.xaxis.major_label_overrides = {0: '1958', 200: '1976', 400: '1992', 600: '2008'}\n",
    "p.xaxis.axis_label ='Time'\n",
    "p.yaxis.axis_label ='CO2 Concentration'\n",
    "show(p)"
   ]
  },
  {
   "cell_type": "markdown",
   "metadata": {},
   "source": [
    "There appears to be a clear linearly increasing trend on the data."
   ]
  },
  {
   "cell_type": "code",
   "execution_count": 21,
   "metadata": {},
   "outputs": [],
   "source": [
    "# Fitting data to linear regression model\n",
    "\n",
    "lr = LinearRegression().fit(np.array(X_train).reshape(-1,1), y_train)"
   ]
  },
  {
   "cell_type": "code",
   "execution_count": 22,
   "metadata": {},
   "outputs": [
    {
     "name": "stdout",
     "output_type": "stream",
     "text": [
      "The linear model F(t) = 0.11722426245179311*t + 309.0453845193237 \n"
     ]
    }
   ],
   "source": [
    "# Model coefficients\n",
    "\n",
    "lr_coefficients = [lr.coef_[0], lr.intercept_]\n",
    "print(\"The linear model F(t) = \" +str(lr_coefficients[0])+\"*t + \" +str(lr_coefficients[1])+\" \")"
   ]
  },
  {
   "cell_type": "code",
   "execution_count": 23,
   "metadata": {},
   "outputs": [
    {
     "data": {
      "text/html": [
       "\n",
       "\n",
       "\n",
       "\n",
       "\n",
       "\n",
       "  <div class=\"bk-root\" id=\"c03148f3-4431-4d70-ba8a-84dfd9367bdf\" data-root-id=\"1099\"></div>\n"
      ]
     },
     "metadata": {},
     "output_type": "display_data"
    },
    {
     "data": {
      "application/javascript": [
       "(function(root) {\n",
       "  function embed_document(root) {\n",
       "    \n",
       "  const docs_json = {\"745b0c77-e64e-46db-86b9-05d65c5763a3\":{\"defs\":[],\"roots\":{\"references\":[{\"attributes\":{\"below\":[{\"id\":\"1110\"}],\"center\":[{\"id\":\"1113\"},{\"id\":\"1117\"},{\"id\":\"1148\"}],\"left\":[{\"id\":\"1114\"}],\"renderers\":[{\"id\":\"1136\"},{\"id\":\"1154\"}],\"title\":{\"id\":\"1100\"},\"toolbar\":{\"id\":\"1125\"},\"width\":800,\"x_range\":{\"id\":\"1102\"},\"x_scale\":{\"id\":\"1106\"},\"y_range\":{\"id\":\"1104\"},\"y_scale\":{\"id\":\"1108\"}},\"id\":\"1099\",\"subtype\":\"Figure\",\"type\":\"Plot\"},{\"attributes\":{\"coordinates\":null,\"data_source\":{\"id\":\"1150\"},\"glyph\":{\"id\":\"1151\"},\"group\":null,\"hover_glyph\":null,\"muted_glyph\":{\"id\":\"1153\"},\"nonselection_glyph\":{\"id\":\"1152\"},\"view\":{\"id\":\"1155\"}},\"id\":\"1154\",\"type\":\"GlyphRenderer\"},{\"attributes\":{\"coordinates\":null,\"group\":null,\"items\":[{\"id\":\"1149\"},{\"id\":\"1168\"}],\"location\":\"bottom_right\"},\"id\":\"1148\",\"type\":\"Legend\"},{\"attributes\":{\"label\":{\"value\":\"Linear Fit\"},\"renderers\":[{\"id\":\"1154\"}]},\"id\":\"1168\",\"type\":\"LegendItem\"},{\"attributes\":{\"fill_alpha\":{\"value\":0.5},\"fill_color\":{\"value\":\"orange\"},\"line_color\":{\"value\":\"navy\"},\"size\":{\"value\":2},\"x\":{\"field\":\"x\"},\"y\":{\"field\":\"y\"}},\"id\":\"1133\",\"type\":\"Scatter\"},{\"attributes\":{\"data\":{\"x\":{\"__ndarray__\":\"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\",\"dtype\":\"float64\",\"order\":\"little\",\"shape\":[587]},\"y\":{\"__ndarray__\":\"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\",\"dtype\":\"float64\",\"order\":\"little\",\"shape\":[587]}},\"selected\":{\"id\":\"1146\"},\"selection_policy\":{\"id\":\"1145\"}},\"id\":\"1132\",\"type\":\"ColumnDataSource\"},{\"attributes\":{\"line_alpha\":0.1,\"line_color\":\"orange\",\"line_width\":2.5,\"x\":{\"field\":\"x\"},\"y\":{\"field\":\"y\"}},\"id\":\"1152\",\"type\":\"Line\"},{\"attributes\":{},\"id\":\"1102\",\"type\":\"DataRange1d\"},{\"attributes\":{\"data\":{\"x\":{\"__ndarray__\":\"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\",\"dtype\":\"float64\",\"order\":\"little\",\"shape\":[587]},\"y\":{\"__ndarray__\":\"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\",\"dtype\":\"float64\",\"order\":\"little\",\"shape\":[587]}},\"selected\":{\"id\":\"1166\"},\"selection_policy\":{\"id\":\"1165\"}},\"id\":\"1150\",\"type\":\"ColumnDataSource\"},{\"attributes\":{},\"id\":\"1104\",\"type\":\"DataRange1d\"},{\"attributes\":{\"fill_alpha\":{\"value\":0.2},\"fill_color\":{\"value\":\"orange\"},\"hatch_alpha\":{\"value\":0.2},\"line_alpha\":{\"value\":0.2},\"line_color\":{\"value\":\"navy\"},\"size\":{\"value\":2},\"x\":{\"field\":\"x\"},\"y\":{\"field\":\"y\"}},\"id\":\"1135\",\"type\":\"Scatter\"},{\"attributes\":{\"axis\":{\"id\":\"1110\"},\"coordinates\":null,\"group\":null,\"ticker\":null},\"id\":\"1113\",\"type\":\"Grid\"},{\"attributes\":{\"line_color\":\"orange\",\"line_width\":2.5,\"x\":{\"field\":\"x\"},\"y\":{\"field\":\"y\"}},\"id\":\"1151\",\"type\":\"Line\"},{\"attributes\":{},\"id\":\"1140\",\"type\":\"BasicTickFormatter\"},{\"attributes\":{\"axis_label\":\"CO2 Concentration\",\"coordinates\":null,\"formatter\":{\"id\":\"1140\"},\"group\":null,\"major_label_policy\":{\"id\":\"1141\"},\"ticker\":{\"id\":\"1115\"}},\"id\":\"1114\",\"type\":\"LinearAxis\"},{\"attributes\":{\"line_alpha\":0.2,\"line_color\":\"orange\",\"line_width\":2.5,\"x\":{\"field\":\"x\"},\"y\":{\"field\":\"y\"}},\"id\":\"1153\",\"type\":\"Line\"},{\"attributes\":{},\"id\":\"1108\",\"type\":\"LinearScale\"},{\"attributes\":{\"source\":{\"id\":\"1150\"}},\"id\":\"1155\",\"type\":\"CDSView\"},{\"attributes\":{\"coordinates\":null,\"group\":null,\"text\":\"Modeling with the Linear Model\"},\"id\":\"1100\",\"type\":\"Title\"},{\"attributes\":{},\"id\":\"1123\",\"type\":\"HelpTool\"},{\"attributes\":{},\"id\":\"1141\",\"type\":\"AllLabels\"},{\"attributes\":{},\"id\":\"1106\",\"type\":\"LinearScale\"},{\"attributes\":{},\"id\":\"1122\",\"type\":\"ResetTool\"},{\"attributes\":{\"ticks\":[0,200,400,600]},\"id\":\"1169\",\"type\":\"FixedTicker\"},{\"attributes\":{\"axis_label\":\"Time\",\"coordinates\":null,\"formatter\":{\"id\":\"1143\"},\"group\":null,\"major_label_overrides\":{\"0\":\"1958\",\"200\":\"1976\",\"400\":\"1992\",\"600\":\"2008\"},\"major_label_policy\":{\"id\":\"1144\"},\"ticker\":{\"id\":\"1169\"}},\"id\":\"1110\",\"type\":\"LinearAxis\"},{\"attributes\":{},\"id\":\"1143\",\"type\":\"BasicTickFormatter\"},{\"attributes\":{\"label\":{\"value\":\"Original Data\"},\"renderers\":[{\"id\":\"1136\"}]},\"id\":\"1149\",\"type\":\"LegendItem\"},{\"attributes\":{},\"id\":\"1144\",\"type\":\"AllLabels\"},{\"attributes\":{\"axis\":{\"id\":\"1114\"},\"coordinates\":null,\"dimension\":1,\"group\":null,\"ticker\":null},\"id\":\"1117\",\"type\":\"Grid\"},{\"attributes\":{\"tools\":[{\"id\":\"1118\"},{\"id\":\"1119\"},{\"id\":\"1120\"},{\"id\":\"1121\"},{\"id\":\"1122\"},{\"id\":\"1123\"}]},\"id\":\"1125\",\"type\":\"Toolbar\"},{\"attributes\":{},\"id\":\"1166\",\"type\":\"Selection\"},{\"attributes\":{},\"id\":\"1115\",\"type\":\"BasicTicker\"},{\"attributes\":{\"fill_alpha\":{\"value\":0.1},\"fill_color\":{\"value\":\"orange\"},\"hatch_alpha\":{\"value\":0.1},\"line_alpha\":{\"value\":0.1},\"line_color\":{\"value\":\"navy\"},\"size\":{\"value\":2},\"x\":{\"field\":\"x\"},\"y\":{\"field\":\"y\"}},\"id\":\"1134\",\"type\":\"Scatter\"},{\"attributes\":{\"source\":{\"id\":\"1132\"}},\"id\":\"1137\",\"type\":\"CDSView\"},{\"attributes\":{},\"id\":\"1165\",\"type\":\"UnionRenderers\"},{\"attributes\":{},\"id\":\"1119\",\"type\":\"WheelZoomTool\"},{\"attributes\":{},\"id\":\"1118\",\"type\":\"PanTool\"},{\"attributes\":{\"overlay\":{\"id\":\"1124\"}},\"id\":\"1120\",\"type\":\"BoxZoomTool\"},{\"attributes\":{},\"id\":\"1145\",\"type\":\"UnionRenderers\"},{\"attributes\":{\"bottom_units\":\"screen\",\"coordinates\":null,\"fill_alpha\":0.5,\"fill_color\":\"lightgrey\",\"group\":null,\"left_units\":\"screen\",\"level\":\"overlay\",\"line_alpha\":1.0,\"line_color\":\"black\",\"line_dash\":[4,4],\"line_width\":2,\"right_units\":\"screen\",\"syncable\":false,\"top_units\":\"screen\"},\"id\":\"1124\",\"type\":\"BoxAnnotation\"},{\"attributes\":{},\"id\":\"1121\",\"type\":\"SaveTool\"},{\"attributes\":{\"coordinates\":null,\"data_source\":{\"id\":\"1132\"},\"glyph\":{\"id\":\"1133\"},\"group\":null,\"hover_glyph\":null,\"muted_glyph\":{\"id\":\"1135\"},\"nonselection_glyph\":{\"id\":\"1134\"},\"view\":{\"id\":\"1137\"}},\"id\":\"1136\",\"type\":\"GlyphRenderer\"},{\"attributes\":{},\"id\":\"1146\",\"type\":\"Selection\"}],\"root_ids\":[\"1099\"]},\"title\":\"Bokeh Application\",\"version\":\"2.4.1\"}};\n",
       "  const render_items = [{\"docid\":\"745b0c77-e64e-46db-86b9-05d65c5763a3\",\"root_ids\":[\"1099\"],\"roots\":{\"1099\":\"c03148f3-4431-4d70-ba8a-84dfd9367bdf\"}}];\n",
       "  root.Bokeh.embed.embed_items_notebook(docs_json, render_items);\n",
       "\n",
       "  }\n",
       "  if (root.Bokeh !== undefined) {\n",
       "    embed_document(root);\n",
       "  } else {\n",
       "    let attempts = 0;\n",
       "    const timer = setInterval(function(root) {\n",
       "      if (root.Bokeh !== undefined) {\n",
       "        clearInterval(timer);\n",
       "        embed_document(root);\n",
       "      } else {\n",
       "        attempts++;\n",
       "        if (attempts > 100) {\n",
       "          clearInterval(timer);\n",
       "          console.log(\"Bokeh: ERROR: Unable to run BokehJS code because BokehJS library is missing\");\n",
       "        }\n",
       "      }\n",
       "    }, 10, root)\n",
       "  }\n",
       "})(window);"
      ],
      "application/vnd.bokehjs_exec.v0+json": ""
     },
     "metadata": {
      "application/vnd.bokehjs_exec.v0+json": {
       "id": "1099"
      }
     },
     "output_type": "display_data"
    }
   ],
   "source": [
    "# Plotting linear fit of the model\n",
    "\n",
    "lr_linear_fit = lr.predict(np.array(X_train).reshape(-1,1))\n",
    "\n",
    "p = figure(plot_width=800, plot_height=600, title='Modeling with the Linear Model')\n",
    "p.scatter(X_train, y_train, size=2, line_color=\"navy\", fill_color=\"orange\", fill_alpha=0.5, legend_label =\"Original Data\")\n",
    "p.line(X_train, lr_linear_fit, line_color=\"orange\", line_width=2.5, legend_label =\"Linear Fit\")\n",
    "p.legend.location = \"bottom_right\"\n",
    "p.xaxis.axis_label ='Time'\n",
    "p.yaxis.axis_label ='CO2 Concentration'\n",
    "p.xaxis.ticker = [0, 200, 400, 600]\n",
    "p.xaxis.major_label_overrides = {0: '1958', 200: '1976', 400: '1992', 600: '2008'}\n",
    "show(p)\n"
   ]
  },
  {
   "cell_type": "markdown",
   "metadata": {},
   "source": [
    "The linear line seems to fit quite well but not perfectly as we can by having a closer look at the beginning and at the end of the scatter points."
   ]
  },
  {
   "cell_type": "markdown",
   "metadata": {},
   "source": [
    "<b> Plot the residual error $R_{linear}(t)=C(t)-F_1(t)$. Report the root mean squared error $\\text {RMSE}$ and the mean absolute percentage error $\\text {MAPE}$ with respect to the test set for this model.</b>"
   ]
  },
  {
   "cell_type": "code",
   "execution_count": 24,
   "metadata": {},
   "outputs": [
    {
     "data": {
      "text/html": [
       "\n",
       "\n",
       "\n",
       "\n",
       "\n",
       "\n",
       "  <div class=\"bk-root\" id=\"dfc08903-5c2a-42e6-8500-cca9db65beaa\" data-root-id=\"1246\"></div>\n"
      ]
     },
     "metadata": {},
     "output_type": "display_data"
    },
    {
     "data": {
      "application/javascript": [
       "(function(root) {\n",
       "  function embed_document(root) {\n",
       "    \n",
       "  const docs_json = {\"2b8bd445-366b-46f7-9880-76447a42b9a2\":{\"defs\":[],\"roots\":{\"references\":[{\"attributes\":{\"below\":[{\"id\":\"1257\"}],\"center\":[{\"id\":\"1260\"},{\"id\":\"1264\"},{\"id\":\"1295\"}],\"left\":[{\"id\":\"1261\"}],\"renderers\":[{\"id\":\"1283\"},{\"id\":\"1301\"}],\"title\":{\"id\":\"1247\"},\"toolbar\":{\"id\":\"1272\"},\"width\":800,\"x_range\":{\"id\":\"1249\"},\"x_scale\":{\"id\":\"1253\"},\"y_range\":{\"id\":\"1251\"},\"y_scale\":{\"id\":\"1255\"}},\"id\":\"1246\",\"subtype\":\"Figure\",\"type\":\"Plot\"},{\"attributes\":{},\"id\":\"1253\",\"type\":\"LinearScale\"},{\"attributes\":{\"axis_label\":\"CO2 Concentration\",\"coordinates\":null,\"formatter\":{\"id\":\"1287\"},\"group\":null,\"major_label_policy\":{\"id\":\"1288\"},\"ticker\":{\"id\":\"1262\"}},\"id\":\"1261\",\"type\":\"LinearAxis\"},{\"attributes\":{},\"id\":\"1290\",\"type\":\"BasicTickFormatter\"},{\"attributes\":{},\"id\":\"1270\",\"type\":\"HelpTool\"},{\"attributes\":{},\"id\":\"1291\",\"type\":\"AllLabels\"},{\"attributes\":{\"axis\":{\"id\":\"1261\"},\"coordinates\":null,\"dimension\":1,\"group\":null,\"ticker\":null},\"id\":\"1264\",\"type\":\"Grid\"},{\"attributes\":{\"label\":{\"value\":\"Test Data\"},\"renderers\":[{\"id\":\"1283\"}]},\"id\":\"1296\",\"type\":\"LegendItem\"},{\"attributes\":{},\"id\":\"1262\",\"type\":\"BasicTicker\"},{\"attributes\":{\"fill_alpha\":{\"value\":0.1},\"fill_color\":{\"value\":\"orange\"},\"hatch_alpha\":{\"value\":0.1},\"line_alpha\":{\"value\":0.1},\"line_color\":{\"value\":\"navy\"},\"size\":{\"value\":2},\"x\":{\"field\":\"x\"},\"y\":{\"field\":\"y\"}},\"id\":\"1281\",\"type\":\"Scatter\"},{\"attributes\":{\"tools\":[{\"id\":\"1265\"},{\"id\":\"1266\"},{\"id\":\"1267\"},{\"id\":\"1268\"},{\"id\":\"1269\"},{\"id\":\"1270\"}]},\"id\":\"1272\",\"type\":\"Toolbar\"},{\"attributes\":{},\"id\":\"1312\",\"type\":\"UnionRenderers\"},{\"attributes\":{},\"id\":\"1266\",\"type\":\"WheelZoomTool\"},{\"attributes\":{\"axis_label\":\"Time\",\"coordinates\":null,\"formatter\":{\"id\":\"1290\"},\"group\":null,\"major_label_overrides\":{\"620\":\"2010\",\"660\":\"2013\",\"700\":\"2016\",\"740\":\"2019\"},\"major_label_policy\":{\"id\":\"1291\"},\"ticker\":{\"id\":\"1316\"}},\"id\":\"1257\",\"type\":\"LinearAxis\"},{\"attributes\":{\"data\":{\"x\":{\"__ndarray__\":\"VVVVVVWQgkBVVVVVVZiCQFVVVVVVoIJAVVVVVVWogkBVVVVVVbCCQFVVVVVVuIJAVVVVVVXAgkBVVVVVVciCQFVVVVVV0IJAVVVVVVXYgkBVVVVVVeCCQFVVVVVV6IJAVVVVVVXwgkBVVVVVVfiCQFVVVVVVAINAVVVVVVUIg0BVVVVVVRCDQFVVVVVVGINAVVVVVVUgg0BVVVVVVSiDQFVVVVVVMINAVVVVVVU4g0BVVVVVVUCDQFVVVVVVSINAVVVVVVVQg0BVVVVVVViDQFVVVVVVYINAVVVVVVVog0BVVVVVVXCDQFVVVVVVeINAVVVVVVWAg0BVVVVVVYiDQFVVVVVVkINAVVVVVVWYg0BVVVVVVaCDQFVVVVVVqINAVVVVVVWwg0BVVVVVVbiDQFVVVVVVwINAVVVVVVXIg0BVVVVVVdCDQFVVVVVV2INAVVVVVVXgg0BVVVVVVeiDQFVVVVVV8INAVVVVVVX4g0BVVVVVVQCEQFVVVVVVCIRAVVVVVVUQhEBVVVVVVRiEQFVVVVVVIIRAVVVVVVUohEBVVVVVVTCEQFVVVVVVOIRAVVVVVVVAhEBVVVVVVUiEQFVVVVVVUIRAVVVVVVVYhEBVVVVVVWCEQFVVVVVVaIRAVVVVVVVwhEBVVVVVVXiEQFVVVVVVgIRAVVVVVVWIhEBVVVVVVZCEQFVVVVVVmIRAVVVVVVWghEBVVVVVVaiEQFVVVVVVsIRAVVVVVVW4hEBVVVVVVcCEQFVVVVVVyIRAVVVVVVXQhEBVVVVVVdiEQFVVVVVV4IRAVVVVVVXohEBVVVVVVfCEQFVVVVVV+IRAVVVVVVUAhUBVVVVVVQiFQFVVVVVVEIVAVVVVVVUYhUBVVVVVVSCFQFVVVVVVKIVAVVVVVVUwhUBVVVVVVTiFQFVVVVVVQIVAVVVVVVVIhUBVVVVVVVCFQFVVVVVVWIVAVVVVVVVghUBVVVVVVWiFQFVVVVVVcIVAVVVVVVV4hUBVVVVVVYCFQFVVVVVViIVAVVVVVVWQhUBVVVVVVZiFQFVVVVVVoIVAVVVVVVWohUBVVVVVVbCFQFVVVVVVuIVAVVVVVVXAhUBVVVVVVciFQFVVVVVV0IVAVVVVVVXYhUBVVVVVVeCFQFVVVVVV6IVAVVVVVVXwhUBVVVVVVfiFQFVVVVVVAIZAVVVVVVUIhkBVVVVVVRCGQFVVVVVVGIZAVVVVVVUghkBVVVVVVSiGQFVVVVVVMIZAVVVVVVU4hkBVVVVVVUCGQFVVVVVVSIZAVVVVVVVQhkBVVVVVVViGQFVVVVVVYIZAVVVVVVVohkBVVVVVVXCGQFVVVVVVeIZAVVVVVVWAhkBVVVVVVYiGQFVVVVVVkIZAVVVVVVWYhkBVVVVVVaCGQFVVVVVVqIZAVVVVVVWwhkBVVVVVVbiGQFVVVVVVwIZAVVVVVVXIhkBVVVVVVdCGQFVVVVVV2IZAVVVVVVXghkBVVVVVVeiGQFVVVVVV8IZAVVVVVVX4hkBVVVVVVQCHQFVVVVVVCIdAVVVVVVUQh0BVVVVVVRiHQFVVVVVVIIdA\",\"dtype\":\"float64\",\"order\":\"little\",\"shape\":[147]},\"y\":{\"__ndarray__\":\"16NwPQoHeEA9CtejcN13QPYoXI/CzXdA9ihcj8LNd0D2KFyPwuV3QPYoXI/C+XdAhetRuB4ReEA9CtejcB14QOF6FK5HHXhAuB6F61EseEBcj8L1KEh4QM3MzMzMQHhAAAAAAAAkeEDhehSuRwF4QD0K16Nw8XdAFK5H4Xrsd0Bcj8L1KAB4QPYoXI/CEXhAZmZmZmYqeEBSuB6F6zF4QLgehetRSHhAhetRuB5ZeEAfhetRuGJ4QFK4HoXrWXhAhetRuB5BeEDhehSuRyF4QGZmZmZmCnhA4XoUrkcFeEDNzMzMzCB4QKRwPQrXN3hAzczMzMxIeECF61G4HmF4QFyPwvUocHhArkfhehSGeEDsUbgehZN4QKRwPQrXg3hA4XoUrkdleEC4HoXrUUh4QD0K16NwLXhAw/UoXI8yeEAfhetRuEp4QClcj8L1XHhAzczMzMx0eEAfhetRuH54QDMzMzMzh3hAUrgeheuVeEAUrkfheqR4QNejcD0Km3hAPQrXo3CJeECPwvUoXGN4QAAAAAAAUHhAexSuR+FOeECkcD0K12N4QM3MzMzMfHhAhetRuB6ReECamZmZmZV4QPYoXI/CpXhAexSuR+HGeEBSuB6F6814QK5H4XoUvnhAuB6F61GoeEBxPQrXo4h4QK5H4XoUcnhAXI/C9ShweEAzMzMzM494QOF6FK5HpXhA9ihcj8K5eECamZmZmc14QFyPwvUo1HhAmpmZmZnleEBI4XoUrv94QFK4HoXr7XhAUrgehevVeEDD9Shcj7Z4QArXo3A9lnhAMzMzMzObeEDXo3A9CrN4QIXrUbgezXhAH4XrUbjeeECamZmZmeF4QOxRuB6F93hA4XoUrkcVeUCuR+F6FB55QClcj8L1FHlAhetRuB7xeECPwvUoXNN4QGZmZmZmtnhAZmZmZma6eEBI4XoUrtN4QHE9Ctej7HhAmpmZmZn9eEApXI/C9QR5QFyPwvUoGHlAMzMzMzM3eUCamZmZmUF5QK5H4XoULnlA9ihcj8IZeUAAAAAAAPB4QAAAAAAA2HhAFK5H4XrkeECkcD0K1wN5QArXo3A9HnlAZmZmZmYqeUDD9Shcj0J5QJqZmZmZTXlAhetRuB55eUDD9Shcj3p5QAAAAAAAcHlAAAAAAABIeUCkcD0K1yN5QFyPwvUoEHlAAAAAAAAYeUAK16NwPTp5QM3MzMzMSHlAhetRuB5heUAK16NwPWp5QClcj8L1cHlAMzMzMzOPeUDD9Shcj555QFK4HoXrkXlAMzMzMzNzeUCkcD0K11N5QLgehetRNHlACtejcD06eUAfhetRuFJ5QAAAAAAAbHlAzczMzMyAeUA9CtejcIV5QAAAAAAAlHlAzczMzMykeUDNzMzMzLR5QK5H4XoUrnlAZmZmZmaOeUCamZmZmXF5QD0K16NwWXlApHA9CtdfeUBSuB6F64F5QEjhehSuk3lAH4XrUbiueUDD9Shcj7p5QAAAAAAAwHlAuB6F61HYeUDhehSuR+15QI/C9Shc33lAmpmZmZm9eUDhehSuR6F5QM3MzMzMiHlA\",\"dtype\":\"float64\",\"order\":\"little\",\"shape\":[147]}},\"selected\":{\"id\":\"1293\"},\"selection_policy\":{\"id\":\"1292\"}},\"id\":\"1279\",\"type\":\"ColumnDataSource\"},{\"attributes\":{},\"id\":\"1265\",\"type\":\"PanTool\"},{\"attributes\":{\"overlay\":{\"id\":\"1271\"}},\"id\":\"1267\",\"type\":\"BoxZoomTool\"},{\"attributes\":{},\"id\":\"1268\",\"type\":\"SaveTool\"},{\"attributes\":{},\"id\":\"1269\",\"type\":\"ResetTool\"},{\"attributes\":{\"source\":{\"id\":\"1279\"}},\"id\":\"1284\",\"type\":\"CDSView\"},{\"attributes\":{},\"id\":\"1292\",\"type\":\"UnionRenderers\"},{\"attributes\":{\"coordinates\":null,\"group\":null,\"items\":[{\"id\":\"1296\"},{\"id\":\"1315\"}],\"location\":\"bottom_right\"},\"id\":\"1295\",\"type\":\"Legend\"},{\"attributes\":{\"bottom_units\":\"screen\",\"coordinates\":null,\"fill_alpha\":0.5,\"fill_color\":\"lightgrey\",\"group\":null,\"left_units\":\"screen\",\"level\":\"overlay\",\"line_alpha\":1.0,\"line_color\":\"black\",\"line_dash\":[4,4],\"line_width\":2,\"right_units\":\"screen\",\"syncable\":false,\"top_units\":\"screen\"},\"id\":\"1271\",\"type\":\"BoxAnnotation\"},{\"attributes\":{},\"id\":\"1293\",\"type\":\"Selection\"},{\"attributes\":{\"coordinates\":null,\"data_source\":{\"id\":\"1279\"},\"glyph\":{\"id\":\"1280\"},\"group\":null,\"hover_glyph\":null,\"muted_glyph\":{\"id\":\"1282\"},\"nonselection_glyph\":{\"id\":\"1281\"},\"view\":{\"id\":\"1284\"}},\"id\":\"1283\",\"type\":\"GlyphRenderer\"},{\"attributes\":{\"label\":{\"value\":\"Linear Model Predictions\"},\"renderers\":[{\"id\":\"1301\"}]},\"id\":\"1315\",\"type\":\"LegendItem\"},{\"attributes\":{\"line_alpha\":0.1,\"line_color\":\"orange\",\"line_width\":2.5,\"x\":{\"field\":\"x\"},\"y\":{\"field\":\"y\"}},\"id\":\"1299\",\"type\":\"Line\"},{\"attributes\":{\"axis\":{\"id\":\"1257\"},\"coordinates\":null,\"group\":null,\"ticker\":null},\"id\":\"1260\",\"type\":\"Grid\"},{\"attributes\":{\"coordinates\":null,\"group\":null,\"text\":\"Predicting with Linear Model\"},\"id\":\"1247\",\"type\":\"Title\"},{\"attributes\":{\"line_alpha\":0.2,\"line_color\":\"orange\",\"line_width\":2.5,\"x\":{\"field\":\"x\"},\"y\":{\"field\":\"y\"}},\"id\":\"1300\",\"type\":\"Line\"},{\"attributes\":{},\"id\":\"1251\",\"type\":\"DataRange1d\"},{\"attributes\":{\"line_color\":\"orange\",\"line_width\":2.5,\"x\":{\"field\":\"x\"},\"y\":{\"field\":\"y\"}},\"id\":\"1298\",\"type\":\"Line\"},{\"attributes\":{\"ticks\":[620,660,700,740]},\"id\":\"1316\",\"type\":\"FixedTicker\"},{\"attributes\":{\"source\":{\"id\":\"1297\"}},\"id\":\"1302\",\"type\":\"CDSView\"},{\"attributes\":{},\"id\":\"1288\",\"type\":\"AllLabels\"},{\"attributes\":{\"data\":{\"x\":{\"__ndarray__\":\"VVVVVVWQgkBVVVVVVZiCQFVVVVVVoIJAVVVVVVWogkBVVVVVVbCCQFVVVVVVuIJAVVVVVVXAgkBVVVVVVciCQFVVVVVV0IJAVVVVVVXYgkBVVVVVVeCCQFVVVVVV6IJAVVVVVVXwgkBVVVVVVfiCQFVVVVVVAINAVVVVVVUIg0BVVVVVVRCDQFVVVVVVGINAVVVVVVUgg0BVVVVVVSiDQFVVVVVVMINAVVVVVVU4g0BVVVVVVUCDQFVVVVVVSINAVVVVVVVQg0BVVVVVVViDQFVVVVVVYINAVVVVVVVog0BVVVVVVXCDQFVVVVVVeINAVVVVVVWAg0BVVVVVVYiDQFVVVVVVkINAVVVVVVWYg0BVVVVVVaCDQFVVVVVVqINAVVVVVVWwg0BVVVVVVbiDQFVVVVVVwINAVVVVVVXIg0BVVVVVVdCDQFVVVVVV2INAVVVVVVXgg0BVVVVVVeiDQFVVVVVV8INAVVVVVVX4g0BVVVVVVQCEQFVVVVVVCIRAVVVVVVUQhEBVVVVVVRiEQFVVVVVVIIRAVVVVVVUohEBVVVVVVTCEQFVVVVVVOIRAVVVVVVVAhEBVVVVVVUiEQFVVVVVVUIRAVVVVVVVYhEBVVVVVVWCEQFVVVVVVaIRAVVVVVVVwhEBVVVVVVXiEQFVVVVVVgIRAVVVVVVWIhEBVVVVVVZCEQFVVVVVVmIRAVVVVVVWghEBVVVVVVaiEQFVVVVVVsIRAVVVVVVW4hEBVVVVVVcCEQFVVVVVVyIRAVVVVVVXQhEBVVVVVVdiEQFVVVVVV4IRAVVVVVVXohEBVVVVVVfCEQFVVVVVV+IRAVVVVVVUAhUBVVVVVVQiFQFVVVVVVEIVAVVVVVVUYhUBVVVVVVSCFQFVVVVVVKIVAVVVVVVUwhUBVVVVVVTiFQFVVVVVVQIVAVVVVVVVIhUBVVVVVVVCFQFVVVVVVWIVAVVVVVVVghUBVVVVVVWiFQFVVVVVVcIVAVVVVVVV4hUBVVVVVVYCFQFVVVVVViIVAVVVVVVWQhUBVVVVVVZiFQFVVVVVVoIVAVVVVVVWohUBVVVVVVbCFQFVVVVVVuIVAVVVVVVXAhUBVVVVVVciFQFVVVVVV0IVAVVVVVVXYhUBVVVVVVeCFQFVVVVVV6IVAVVVVVVXwhUBVVVVVVfiFQFVVVVVVAIZAVVVVVVUIhkBVVVVVVRCGQFVVVVVVGIZAVVVVVVUghkBVVVVVVSiGQFVVVVVVMIZAVVVVVVU4hkBVVVVVVUCGQFVVVVVVSIZAVVVVVVVQhkBVVVVVVViGQFVVVVVVYIZAVVVVVVVohkBVVVVVVXCGQFVVVVVVeIZAVVVVVVWAhkBVVVVVVYiGQFVVVVVVkIZAVVVVVVWYhkBVVVVVVaCGQFVVVVVVqIZAVVVVVVWwhkBVVVVVVbiGQFVVVVVVwIZAVVVVVVXIhkBVVVVVVdCGQFVVVVVV2IZAVVVVVVXghkBVVVVVVeiGQFVVVVVV8IZAVVVVVVX4hkBVVVVVVQCHQFVVVVVVCIdAVVVVVVUQh0BVVVVVVRiHQFVVVVVVIIdA\",\"dtype\":\"float64\",\"order\":\"little\",\"shape\":[147]},\"y\":{\"__ndarray__\":\"8Y1eWOeqd0Bk5up+x6x3QNg+d6WnrndAS5cDzIewd0C+74/yZ7J3QDJIHBlItHdApaCoPyi2d0AY+TRmCLh3QIxRwYzouXdA/6lNs8i7d0ByAtrZqL13QOZaZgCJv3dAWrPyJmnBd0DNC39NScN3QEBkC3QpxXdAtLyXmgnHd0AnFSTB6ch3QJptsOfJyndADsY8DqrMd0CBHsk0is53QPR2VVtq0HdAaM/hgUrSd0DbJ26oKtR3QE+A+s4K1ndAwtiG9erXd0A2MRMcy9l3QKmJn0Kr23dAHOIraYvdd0CQOriPa993QAOTRLZL4XdAduvQ3Cvjd0DqQ10DDOV3QF2c6Sns5ndA0fR1UMzod0BETQJ3rOp3QLiljp2M7HdAK/4axGzud0CeVqfqTPB3QBKvMxEt8ndAhQfANw30d0D4X0xe7fV3QGy42ITN93dA3xBlq635d0BSafHRjft3QMbBffht/XdAOhoKH07/d0CtcpZFLgF4QCDLImwOA3hAlCOvku4EeEAHfDu5zgZ4QHrUx9+uCHhA7ixUBo8KeEBhheAsbwx4QNTdbFNPDnhASDb5eS8QeEC7joWgDxJ4QC/nEcfvE3hAoj+e7c8VeEAWmCoUsBd4QInwtjqQGXhA/EhDYXAbeEBwoc+HUB14QOP5W64wH3hAVlLo1BAheEDKqnT78CJ4QD0DASLRJHhAsVuNSLEmeEAktBlvkSh4QJgMppVxKnhAC2UyvFEseEB+vb7iMS54QPIVSwkSMHhAZW7XL/IxeEDYxmNW0jN4QEwf8HyyNXhAv3d8o5I3eEAy0AjKcjl4QKYolfBSO3hAGYEhFzM9eECN2a09Ez94QAAyOmTzQHhAdIrGitNCeEDn4lKxs0R4QFo739eTRnhAzpNr/nNIeEBB7PckVEp4QLREhEs0THhAKJ0QchROeECb9ZyY9E94QA9OKb/UUXhAgqa15bRTeED2/kEMlVV4QGlXzjJ1V3hA3K9aWVVZeEBQCOd/NVt4QMNgc6YVXXhANrn/zPVeeECqEYzz1WB4QB1qGBq2YnhAkcKkQJZkeEAEGzFndmZ4QHhzvY1WaHhA68tJtDZqeEBeJNbaFmx4QNJ8YgH3bXhARdXuJ9dveEC4LXtOt3F4QCyGB3WXc3hAn96Tm3d1eEASNyDCV3d4QIaPrOg3eXhA+ec4Dxh7eEBtQMU1+Hx4QOCYUVzYfnhAVPHdgriAeEDHSWqpmIJ4QDqi9s94hHhArvqC9liGeEAhUw8dOYh4QJSrm0MZinhACAQoavmLeEB7XLSQ2Y14QO+0QLe5j3hAYg3N3ZmReEDWZVkEepN4QEm+5SpalXhAvBZyUTqXeEAwb/53Gpl4QKPHip76mnhAFiAXxdqceECKeKPrup54QP3QLxKboHhAcCm8OHuieEDkgUhfW6R4QFja1IU7pnhAyzJhrBuoeEA+i+3S+6l4QLLjefnbq3hAJTwGILyteECYlJJGnK94QAztHm18sXhAf0Wrk1yzeEDynTe6PLV4QGb2w+Act3hA2U5QB/24eEBNp9wt3bp4QMD/aFS9vHhA\",\"dtype\":\"float64\",\"order\":\"little\",\"shape\":[147]}},\"selected\":{\"id\":\"1313\"},\"selection_policy\":{\"id\":\"1312\"}},\"id\":\"1297\",\"type\":\"ColumnDataSource\"},{\"attributes\":{},\"id\":\"1255\",\"type\":\"LinearScale\"},{\"attributes\":{},\"id\":\"1313\",\"type\":\"Selection\"},{\"attributes\":{},\"id\":\"1249\",\"type\":\"DataRange1d\"},{\"attributes\":{\"fill_alpha\":{\"value\":0.5},\"fill_color\":{\"value\":\"orange\"},\"line_color\":{\"value\":\"navy\"},\"size\":{\"value\":2},\"x\":{\"field\":\"x\"},\"y\":{\"field\":\"y\"}},\"id\":\"1280\",\"type\":\"Scatter\"},{\"attributes\":{},\"id\":\"1287\",\"type\":\"BasicTickFormatter\"},{\"attributes\":{\"coordinates\":null,\"data_source\":{\"id\":\"1297\"},\"glyph\":{\"id\":\"1298\"},\"group\":null,\"hover_glyph\":null,\"muted_glyph\":{\"id\":\"1300\"},\"nonselection_glyph\":{\"id\":\"1299\"},\"view\":{\"id\":\"1302\"}},\"id\":\"1301\",\"type\":\"GlyphRenderer\"},{\"attributes\":{\"fill_alpha\":{\"value\":0.2},\"fill_color\":{\"value\":\"orange\"},\"hatch_alpha\":{\"value\":0.2},\"line_alpha\":{\"value\":0.2},\"line_color\":{\"value\":\"navy\"},\"size\":{\"value\":2},\"x\":{\"field\":\"x\"},\"y\":{\"field\":\"y\"}},\"id\":\"1282\",\"type\":\"Scatter\"}],\"root_ids\":[\"1246\"]},\"title\":\"Bokeh Application\",\"version\":\"2.4.1\"}};\n",
       "  const render_items = [{\"docid\":\"2b8bd445-366b-46f7-9880-76447a42b9a2\",\"root_ids\":[\"1246\"],\"roots\":{\"1246\":\"dfc08903-5c2a-42e6-8500-cca9db65beaa\"}}];\n",
       "  root.Bokeh.embed.embed_items_notebook(docs_json, render_items);\n",
       "\n",
       "  }\n",
       "  if (root.Bokeh !== undefined) {\n",
       "    embed_document(root);\n",
       "  } else {\n",
       "    let attempts = 0;\n",
       "    const timer = setInterval(function(root) {\n",
       "      if (root.Bokeh !== undefined) {\n",
       "        clearInterval(timer);\n",
       "        embed_document(root);\n",
       "      } else {\n",
       "        attempts++;\n",
       "        if (attempts > 100) {\n",
       "          clearInterval(timer);\n",
       "          console.log(\"Bokeh: ERROR: Unable to run BokehJS code because BokehJS library is missing\");\n",
       "        }\n",
       "      }\n",
       "    }, 10, root)\n",
       "  }\n",
       "})(window);"
      ],
      "application/vnd.bokehjs_exec.v0+json": ""
     },
     "metadata": {
      "application/vnd.bokehjs_exec.v0+json": {
       "id": "1246"
      }
     },
     "output_type": "display_data"
    }
   ],
   "source": [
    "# Predicting with test data\n",
    "\n",
    "lr_predictions = lr.predict(np.array(X_test).reshape(-1,1))\n",
    "\n",
    "p = figure(plot_width=800, plot_height=600, title = \"Predicting with Linear Model\")\n",
    "p.scatter(X_test, y_test, size=2, line_color=\"navy\", fill_color=\"orange\", fill_alpha=0.5, legend_label =\"Test Data\")\n",
    "p.line(X_test, lr_predictions, line_color=\"orange\", line_width=2.5, legend_label =\"Linear Model Predictions\")\n",
    "p.xaxis.ticker = [620, 660, 700, 740]\n",
    "p.xaxis.major_label_overrides = {620: '2010', 660: '2013', 700: '2016', 740: '2019'}\n",
    "p.xaxis.axis_label ='Time'\n",
    "p.yaxis.axis_label ='CO2 Concentration'\n",
    "p.legend.location = \"bottom_right\"\n",
    "show(p)"
   ]
  },
  {
   "cell_type": "markdown",
   "metadata": {},
   "source": [
    "We notice that the model doesn't predict very well as the line is way outside the predicted data points."
   ]
  },
  {
   "cell_type": "code",
   "execution_count": 25,
   "metadata": {},
   "outputs": [
    {
     "data": {
      "text/html": [
       "\n",
       "\n",
       "\n",
       "\n",
       "\n",
       "\n",
       "  <div class=\"bk-root\" id=\"e12cf29d-89ef-40e0-be71-d60b68c430f6\" data-root-id=\"1404\"></div>\n"
      ]
     },
     "metadata": {},
     "output_type": "display_data"
    },
    {
     "data": {
      "application/javascript": [
       "(function(root) {\n",
       "  function embed_document(root) {\n",
       "    \n",
       "  const docs_json = {\"1b8efe10-7d8d-43ea-9456-062698ab04b2\":{\"defs\":[],\"roots\":{\"references\":[{\"attributes\":{\"below\":[{\"id\":\"1415\"}],\"center\":[{\"id\":\"1418\"},{\"id\":\"1422\"},{\"id\":\"1453\"}],\"left\":[{\"id\":\"1419\"}],\"renderers\":[{\"id\":\"1441\"}],\"title\":{\"id\":\"1405\"},\"toolbar\":{\"id\":\"1430\"},\"width\":800,\"x_range\":{\"id\":\"1407\"},\"x_scale\":{\"id\":\"1411\"},\"y_range\":{\"id\":\"1409\"},\"y_scale\":{\"id\":\"1413\"}},\"id\":\"1404\",\"subtype\":\"Figure\",\"type\":\"Plot\"},{\"attributes\":{},\"id\":\"1427\",\"type\":\"ResetTool\"},{\"attributes\":{\"fill_alpha\":{\"value\":0.2},\"fill_color\":{\"value\":\"blue\"},\"hatch_alpha\":{\"value\":0.2},\"line_alpha\":{\"value\":0.2},\"line_color\":{\"value\":\"navy\"},\"size\":{\"value\":2},\"x\":{\"field\":\"x\"},\"y\":{\"field\":\"y\"}},\"id\":\"1440\",\"type\":\"Scatter\"},{\"attributes\":{\"label\":{\"value\":\"Residuals\"},\"renderers\":[{\"id\":\"1441\"}]},\"id\":\"1454\",\"type\":\"LegendItem\"},{\"attributes\":{\"coordinates\":null,\"data_source\":{\"id\":\"1437\"},\"glyph\":{\"id\":\"1438\"},\"group\":null,\"hover_glyph\":null,\"muted_glyph\":{\"id\":\"1440\"},\"nonselection_glyph\":{\"id\":\"1439\"},\"view\":{\"id\":\"1442\"}},\"id\":\"1441\",\"type\":\"GlyphRenderer\"},{\"attributes\":{},\"id\":\"1426\",\"type\":\"SaveTool\"},{\"attributes\":{\"data\":{\"x\":{\"__ndarray__\":\"VVVVVVVVAEBVVVVVVVUIQKuqqqqqKhBAq6qqqqoqGECrqqqqqiocQFVVVVVVFSBAVVVVVVUVJEBVVVVVVRUmQFVVVVVVFShAVVVVVVUVKkBVVVVVVRUsQFVVVVVVFS5Aq6qqqqoKMECrqqqqqgoxQKuqqqqqCjJAq6qqqqoKM0Crqqqqqgo0QKuqqqqqCjVAq6qqqqoKNkCrqqqqqgo3QKuqqqqqCjhAq6qqqqoKOUCrqqqqqgo6QKuqqqqqCjtAq6qqqqoKPECrqqqqqgo9QKuqqqqqCj5Aq6qqqqoKP0BVVVVVVQVAQFVVVVVVhUBAVVVVVVUFQUBVVVVVVYVBQFVVVVVVBUJAVVVVVVWFQkBVVVVVVQVDQFVVVVVVhUNAVVVVVVUFREBVVVVVVYVEQFVVVVVVBUVAVVVVVVWFRUBVVVVVVQVGQFVVVVVVhUZAVVVVVVUFR0BVVVVVVYVHQFVVVVVVBUhAVVVVVVWFSEBVVVVVVQVJQFVVVVVVhUlAVVVVVVUFSkBVVVVVVYVKQFVVVVVVBUtAVVVVVVWFS0BVVVVVVQVMQFVVVVVVhUxAVVVVVVUFTUBVVVVVVYVNQFVVVVVVBU5AVVVVVVWFTkBVVVVVVQVPQFVVVVVVhU9Aq6qqqqoCUECrqqqqqkJQQKuqqqqqglBAq6qqqqrCUECrqqqqqgJRQKuqqqqqQlFAq6qqqqqCUUCrqqqqqsJRQKuqqqqqAlJAq6qqqqoCU0CrqqqqqkJTQKuqqqqqglNAq6qqqqrCU0CrqqqqqgJUQKuqqqqqQlRAq6qqqqqCVECrqqqqqsJUQKuqqqqqAlVAq6qqqqpCVUCrqqqqqoJVQKuqqqqqwlVAq6qqqqoCVkCrqqqqqkJWQKuqqqqqglZAq6qqqqrCVkCrqqqqqgJXQKuqqqqqQldAq6qqqqqCV0CrqqqqqsJXQKuqqqqqAlhAq6qqqqpCWECrqqqqqoJYQKuqqqqqwlhAq6qqqqoCWUCrqqqqqkJZQKuqqqqqgllAq6qqqqrCWUCrqqqqqgJaQKuqqqqqQlpAq6qqqqqCWkCrqqqqqsJaQKuqqqqqAltAq6qqqqpCW0CrqqqqqoJbQKuqqqqqwltAq6qqqqoCXECrqqqqqkJcQKuqqqqqglxAq6qqqqrCXECrqqqqqgJdQKuqqqqqQl1Aq6qqqqqCXUCrqqqqqsJdQKuqqqqqAl5Aq6qqqqpCXkCrqqqqqoJeQKuqqqqqwl5Aq6qqqqoCX0CrqqqqqkJfQKuqqqqqgl9Aq6qqqqrCX0BVVVVVVQFgQFVVVVVVIWBAVVVVVVVBYEBVVVVVVWFgQFVVVVVVgWBAVVVVVVWhYEBVVVVVVcFgQFVVVVVV4WBAVVVVVVUBYUBVVVVVVSFhQFVVVVVVQWFAVVVVVVVhYUBVVVVVVYFhQFVVVVVVoWFAVVVVVVXBYUBVVVVVVeFhQFVVVVVVAWJAVVVVVVUhYkBVVVVVVUFiQFVVVVVVYWJAVVVVVVWBYkBVVVVVVaFiQFVVVVVVwWJAVVVVVVXhYkBVVVVVVQFjQFVVVVVVIWNAVVVVVVVBY0BVVVVVVWFjQFVVVVVVgWNAVVVVVVWhY0BVVVVVVcFjQFVVVVVV4WNAVVVVVVUBZEBVVVVVVSFkQFVVVVVVQWRAVVVVVVVhZEBVVVVVVYFkQFVVVVVVoWRAVVVVVVXBZEBVVVVVVeFkQFVVVVVVAWVAVVVVVVUhZUBVVVVVVUFlQFVVVVVVYWVAVVVVVVWBZUBVVVVVVaFlQFVVVVVVwWVAVVVVVVXhZUBVVVVVVQFmQFVVVVVVIWZAVVVVVVVBZkBVVVVVVWFmQFVVVVVVgWZAVVVVVVWhZkBVVVVVVcFmQFVVVVVV4WZAVVVVVVUBZ0BVVVVVVSFnQFVVVVVVQWdAVVVVVVVhZ0BVVVVVVYFnQFVVVVVVoWdAVVVVVVXBZ0BVVVVVVeFnQFVVVVVVAWhAVVVVVVUhaEBVVVVVVUFoQFVVVVVVYWhAVVVVVVWBaEBVVVVVVaFoQFVVVVVVwWhAVVVVVVXhaEBVVVVVVQFpQFVVVVVVIWlAVVVVVVVBaUBVVVVVVWFpQFVVVVVVgWlAVVVVVVWhaUBVVVVVVcFpQFVVVVVV4WlAVVVVVVUBakBVVVVVVSFqQFVVVVVVQWpAVVVVVVVhakBVVVVVVYFqQFVVVVVVoWpAVVVVVVXBakBVVVVVVeFqQFVVVVVVAWtAVVVVVVUha0BVVVVVVUFrQFVVVVVVYWtAVVVVVVWBa0BVVVVVVaFrQFVVVVVVwWtAVVVVVVXha0BVVVVVVQFsQFVVVVVVIWxAVVVVVVVBbEBVVVVVVWFsQFVVVVVVgWxAVVVVVVWhbEBVVVVVVcFsQFVVVVVV4WxAVVVVVVUBbUBVVVVVVSFtQFVVVVVVQW1AVVVVVVVhbUBVVVVVVYFtQFVVVVVVoW1AVVVVVVXBbUBVVVVVVeFtQFVVVVVVAW5AVVVVVVUhbkBVVVVVVUFuQFVVVVVVYW5AVVVVVVWBbkBVVVVVVaFuQFVVVVVVwW5AVVVVVVXhbkBVVVVVVQFvQFVVVVVVIW9AVVVVVVVBb0BVVVVVVWFvQFVVVVVVgW9AVVVVVVWhb0BVVVVVVcFvQFVVVVVV4W9Aq6qqqqoAcECrqqqqqhBwQKuqqqqqIHBAq6qqqqowcECrqqqqqkBwQKuqqqqqUHBAq6qqqqpgcECrqqqqqnBwQKuqqqqqgHBAq6qqqqqQcECrqqqqqqBwQKuqqqqqsHBAq6qqqqrAcECrqqqqqtBwQKuqqqqq4HBAq6qqqqrwcECrqqqqqgBxQKuqqqqqEHFAq6qqqqogcUCrqqqqqjBxQKuqqqqqQHFAq6qqqqpQcUCrqqqqqmBxQKuqqqqqcHFAq6qqqqqAcUCrqqqqqpBxQKuqqqqqoHFAq6qqqqqwcUCrqqqqqsBxQKuqqqqq0HFAq6qqqqrgcUCrqqqqqvBxQKuqqqqqAHJAq6qqqqoQckCrqqqqqiByQKuqqqqqMHJAq6qqqqpAckCrqqqqqlByQKuqqqqqYHJAq6qqqqpwckCrqqqqqoByQKuqqqqqkHJAq6qqqqqgckCrqqqqqrByQKuqqqqqwHJAq6qqqqrQckCrqqqqquByQKuqqqqq8HJAq6qqqqoAc0CrqqqqqhBzQKuqqqqqIHNAq6qqqqowc0CrqqqqqkBzQKuqqqqqUHNAq6qqqqpgc0CrqqqqqnBzQKuqqqqqgHNAq6qqqqqQc0CrqqqqqqBzQKuqqqqqsHNAq6qqqqrAc0CrqqqqqtBzQKuqqqqq4HNAq6qqqqrwc0CrqqqqqgB0QKuqqqqqEHRAq6qqqqogdECrqqqqqjB0QKuqqqqqQHRAq6qqqqpQdECrqqqqqmB0QKuqqqqqcHRAq6qqqqqAdECrqqqqqpB0QKuqqqqqoHRAq6qqqqqwdECrqqqqqsB0QKuqqqqq0HRAq6qqqqrgdECrqqqqqvB0QKuqqqqqAHVAq6qqqqoQdUCrqqqqqiB1QKuqqqqqMHVAq6qqqqpAdUCrqqqqqlB1QKuqqqqqYHVAq6qqqqpwdUCrqqqqqoB1QKuqqqqqkHVAq6qqqqqgdUCrqqqqqrB1QKuqqqqqwHVAq6qqqqrQdUCrqqqqquB1QKuqqqqq8HVAq6qqqqoAdkCrqqqqqhB2QKuqqqqqIHZAq6qqqqowdkCrqqqqqkB2QKuqqqqqUHZAq6qqqqpgdkCrqqqqqnB2QKuqqqqqgHZAq6qqqqqQdkCrqqqqqqB2QKuqqqqqsHZAq6qqqqrAdkCrqqqqqtB2QKuqqqqq4HZAq6qqqqrwdkCrqqqqqgB3QKuqqqqqEHdAq6qqqqogd0CrqqqqqjB3QKuqqqqqQHdAq6qqqqpQd0CrqqqqqmB3QKuqqqqqcHdAq6qqqqqAd0CrqqqqqpB3QKuqqqqqoHdAq6qqqqqwd0CrqqqqqsB3QKuqqqqq0HdAq6qqqqrgd0CrqqqqqvB3QKuqqqqqAHhAq6qqqqoQeECrqqqqqiB4QKuqqqqqMHhAq6qqqqpAeECrqqqqqlB4QKuqqqqqYHhAq6qqqqpweECrqqqqqoB4QKuqqqqqkHhAq6qqqqqgeECrqqqqqrB4QKuqqqqqwHhAq6qqqqrQeECrqqqqquB4QKuqqqqq8HhAq6qqqqoAeUCrqqqqqhB5QKuqqqqqIHlAq6qqqqoweUCrqqqqqkB5QKuqqqqqUHlAq6qqqqpgeUCrqqqqqnB5QKuqqqqqgHlAq6qqqqqQeUCrqqqqqqB5QKuqqqqqsHlAq6qqqqrAeUCrqqqqqtB5QKuqqqqq4HlAq6qqqqrweUCrqqqqqgB6QKuqqqqqEHpAq6qqqqogekCrqqqqqjB6QKuqqqqqQHpAq6qqqqpQekCrqqqqqmB6QKuqqqqqcHpAq6qqqqqAekCrqqqqqpB6QKuqqqqqoHpAq6qqqqqwekCrqqqqqsB6QKuqqqqq0HpAq6qqqqrgekCrqqqqqvB6QKuqqqqqAHtAq6qqqqoQe0CrqqqqqiB7QKuqqqqqMHtAq6qqqqpAe0CrqqqqqlB7QKuqqqqqYHtAq6qqqqpwe0CrqqqqqoB7QKuqqqqqkHtAq6qqqqqge0CrqqqqqrB7QKuqqqqqwHtAq6qqqqrQe0CrqqqqquB7QKuqqqqq8HtAq6qqqqoAfECrqqqqqhB8QKuqqqqqIHxAq6qqqqowfECrqqqqqkB8QKuqqqqqUHxAq6qqqqpgfECrqqqqqnB8QKuqqqqqgHxAq6qqqqqQfECrqqqqqqB8QKuqqqqqsHxAq6qqqqrAfECrqqqqqtB8QKuqqqqq4HxAq6qqqqrwfECrqqqqqgB9QKuqqqqqEH1Aq6qqqqogfUCrqqqqqjB9QKuqqqqqQH1Aq6qqqqpQfUCrqqqqqmB9QKuqqqqqcH1Aq6qqqqqAfUCrqqqqqpB9QKuqqqqqoH1Aq6qqqqqwfUCrqqqqqsB9QKuqqqqq0H1Aq6qqqqrgfUCrqqqqqvB9QKuqqqqqAH5Aq6qqqqoQfkCrqqqqqiB+QKuqqqqqMH5Aq6qqqqpAfkCrqqqqqlB+QKuqqqqqYH5Aq6qqqqpwfkCrqqqqqoB+QKuqqqqqkH5Aq6qqqqqgfkCrqqqqqrB+QKuqqqqqwH5Aq6qqqqrQfkCrqqqqquB+QKuqqqqq8H5Aq6qqqqoAf0CrqqqqqhB/QKuqqqqqIH9Aq6qqqqowf0CrqqqqqkB/QKuqqqqqUH9Aq6qqqqpgf0CrqqqqqnB/QKuqqqqqgH9Aq6qqqqqQf0CrqqqqqqB/QKuqqqqqsH9Aq6qqqqrAf0CrqqqqqtB/QKuqqqqq4H9Aq6qqqqrwf0BVVVVVVQCAQFVVVVVVCIBAVVVVVVUQgEBVVVVVVRiAQFVVVVVVIIBAVVVVVVUogEBVVVVVVTCAQFVVVVVVOIBAVVVVVVVAgEBVVVVVVUiAQFVVVVVVUIBAVVVVVVVYgEBVVVVVVWCAQFVVVVVVaIBAVVVVVVVwgEBVVVVVVXiAQFVVVVVVgIBAVVVVVVWIgEBVVVVVVZCAQFVVVVVVmIBAVVVVVVWggEBVVVVVVaiAQFVVVVVVsIBAVVVVVVW4gEBVVVVVVcCAQFVVVVVVyIBAVVVVVVXQgEBVVVVVVdiAQFVVVVVV4IBAVVVVVVXogEBVVVVVVfCAQFVVVVVV+IBAVVVVVVUAgUBVVVVVVQiBQFVVVVVVEIFAVVVVVVUYgUBVVVVVVSCBQFVVVVVVKIFAVVVVVVUwgUBVVVVVVTiBQFVVVVVVQIFAVVVVVVVIgUBVVVVVVVCBQFVVVVVVWIFAVVVVVVVggUBVVVVVVWiBQFVVVVVVcIFAVVVVVVV4gUBVVVVVVYCBQFVVVVVViIFAVVVVVVWQgUBVVVVVVZiBQFVVVVVVoIFAVVVVVVWogUBVVVVVVbCBQFVVVVVVuIFAVVVVVVXAgUBVVVVVVciBQFVVVVVV0IFAVVVVVVXYgUBVVVVVVeCBQFVVVVVV6IFAVVVVVVXwgUBVVVVVVfiBQFVVVVVVAIJAVVVVVVUIgkBVVVVVVRCCQFVVVVVVGIJAVVVVVVUggkBVVVVVVSiCQFVVVVVVMIJAVVVVVVU4gkBVVVVVVUCCQFVVVVVVSIJAVVVVVVVQgkBVVVVVVViCQFVVVVVVYIJAVVVVVVVogkBVVVVVVXCCQFVVVVVVeIJAVVVVVVWAgkBVVVVVVYiCQA==\",\"dtype\":\"float64\",\"order\":\"little\",\"shape\":[587]},\"y\":{\"__ndarray__\":\"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\",\"dtype\":\"float64\",\"order\":\"little\",\"shape\":[587]}},\"selected\":{\"id\":\"1451\"},\"selection_policy\":{\"id\":\"1450\"}},\"id\":\"1437\",\"type\":\"ColumnDataSource\"},{\"attributes\":{\"overlay\":{\"id\":\"1429\"}},\"id\":\"1425\",\"type\":\"BoxZoomTool\"},{\"attributes\":{},\"id\":\"1445\",\"type\":\"BasicTickFormatter\"},{\"attributes\":{},\"id\":\"1446\",\"type\":\"AllLabels\"},{\"attributes\":{},\"id\":\"1424\",\"type\":\"WheelZoomTool\"},{\"attributes\":{\"coordinates\":null,\"group\":null,\"items\":[{\"id\":\"1454\"}],\"location\":\"bottom_right\"},\"id\":\"1453\",\"type\":\"Legend\"},{\"attributes\":{},\"id\":\"1448\",\"type\":\"BasicTickFormatter\"},{\"attributes\":{},\"id\":\"1409\",\"type\":\"DataRange1d\"},{\"attributes\":{},\"id\":\"1416\",\"type\":\"BasicTicker\"},{\"attributes\":{\"fill_alpha\":{\"value\":0.5},\"fill_color\":{\"value\":\"blue\"},\"line_color\":{\"value\":\"navy\"},\"size\":{\"value\":2},\"x\":{\"field\":\"x\"},\"y\":{\"field\":\"y\"}},\"id\":\"1438\",\"type\":\"Scatter\"},{\"attributes\":{},\"id\":\"1449\",\"type\":\"AllLabels\"},{\"attributes\":{\"axis\":{\"id\":\"1415\"},\"coordinates\":null,\"group\":null,\"ticker\":null},\"id\":\"1418\",\"type\":\"Grid\"},{\"attributes\":{},\"id\":\"1407\",\"type\":\"DataRange1d\"},{\"attributes\":{\"axis_label\":\"Residual\",\"coordinates\":null,\"formatter\":{\"id\":\"1445\"},\"group\":null,\"major_label_policy\":{\"id\":\"1446\"},\"ticker\":{\"id\":\"1420\"}},\"id\":\"1419\",\"type\":\"LinearAxis\"},{\"attributes\":{},\"id\":\"1423\",\"type\":\"PanTool\"},{\"attributes\":{},\"id\":\"1413\",\"type\":\"LinearScale\"},{\"attributes\":{},\"id\":\"1411\",\"type\":\"LinearScale\"},{\"attributes\":{\"fill_alpha\":{\"value\":0.1},\"fill_color\":{\"value\":\"blue\"},\"hatch_alpha\":{\"value\":0.1},\"line_alpha\":{\"value\":0.1},\"line_color\":{\"value\":\"navy\"},\"size\":{\"value\":2},\"x\":{\"field\":\"x\"},\"y\":{\"field\":\"y\"}},\"id\":\"1439\",\"type\":\"Scatter\"},{\"attributes\":{\"source\":{\"id\":\"1437\"}},\"id\":\"1442\",\"type\":\"CDSView\"},{\"attributes\":{\"coordinates\":null,\"formatter\":{\"id\":\"1448\"},\"group\":null,\"major_label_policy\":{\"id\":\"1449\"},\"ticker\":{\"id\":\"1416\"}},\"id\":\"1415\",\"type\":\"LinearAxis\"},{\"attributes\":{},\"id\":\"1428\",\"type\":\"HelpTool\"},{\"attributes\":{},\"id\":\"1450\",\"type\":\"UnionRenderers\"},{\"attributes\":{\"coordinates\":null,\"group\":null,\"text\":\"Residuals for Linear Model\"},\"id\":\"1405\",\"type\":\"Title\"},{\"attributes\":{\"bottom_units\":\"screen\",\"coordinates\":null,\"fill_alpha\":0.5,\"fill_color\":\"lightgrey\",\"group\":null,\"left_units\":\"screen\",\"level\":\"overlay\",\"line_alpha\":1.0,\"line_color\":\"black\",\"line_dash\":[4,4],\"line_width\":2,\"right_units\":\"screen\",\"syncable\":false,\"top_units\":\"screen\"},\"id\":\"1429\",\"type\":\"BoxAnnotation\"},{\"attributes\":{\"tools\":[{\"id\":\"1423\"},{\"id\":\"1424\"},{\"id\":\"1425\"},{\"id\":\"1426\"},{\"id\":\"1427\"},{\"id\":\"1428\"}]},\"id\":\"1430\",\"type\":\"Toolbar\"},{\"attributes\":{},\"id\":\"1451\",\"type\":\"Selection\"},{\"attributes\":{\"axis\":{\"id\":\"1419\"},\"coordinates\":null,\"dimension\":1,\"group\":null,\"ticker\":null},\"id\":\"1422\",\"type\":\"Grid\"},{\"attributes\":{},\"id\":\"1420\",\"type\":\"BasicTicker\"}],\"root_ids\":[\"1404\"]},\"title\":\"Bokeh Application\",\"version\":\"2.4.1\"}};\n",
       "  const render_items = [{\"docid\":\"1b8efe10-7d8d-43ea-9456-062698ab04b2\",\"root_ids\":[\"1404\"],\"roots\":{\"1404\":\"e12cf29d-89ef-40e0-be71-d60b68c430f6\"}}];\n",
       "  root.Bokeh.embed.embed_items_notebook(docs_json, render_items);\n",
       "\n",
       "  }\n",
       "  if (root.Bokeh !== undefined) {\n",
       "    embed_document(root);\n",
       "  } else {\n",
       "    let attempts = 0;\n",
       "    const timer = setInterval(function(root) {\n",
       "      if (root.Bokeh !== undefined) {\n",
       "        clearInterval(timer);\n",
       "        embed_document(root);\n",
       "      } else {\n",
       "        attempts++;\n",
       "        if (attempts > 100) {\n",
       "          clearInterval(timer);\n",
       "          console.log(\"Bokeh: ERROR: Unable to run BokehJS code because BokehJS library is missing\");\n",
       "        }\n",
       "      }\n",
       "    }, 10, root)\n",
       "  }\n",
       "})(window);"
      ],
      "application/vnd.bokehjs_exec.v0+json": ""
     },
     "metadata": {
      "application/vnd.bokehjs_exec.v0+json": {
       "id": "1404"
      }
     },
     "output_type": "display_data"
    }
   ],
   "source": [
    "# Plotting the residuals \n",
    "\n",
    "lr_residuals = y_train - lr_linear_fit\n",
    "p = figure(plot_width=800, plot_height=600, title = \"Residuals for Linear Model\")\n",
    "p.scatter(X_train, lr_residuals ,size=2, line_color=\"navy\", fill_color=\"blue\", fill_alpha=0.5, legend_label =\"Residuals\")\n",
    "\n",
    "p.yaxis.axis_label ='Residual'\n",
    "p.legend.location = \"bottom_right\"\n",
    "show(p)"
   ]
  },
  {
   "cell_type": "markdown",
   "metadata": {},
   "source": [
    "We notice a concave shape on the residuals that indicates that the model is not able to predict very well as the residuals are not scattered randomly around zero. The residuals show that they hide a pattern that hasn't been found yet with the model."
   ]
  },
  {
   "cell_type": "code",
   "execution_count": 26,
   "metadata": {},
   "outputs": [
    {
     "name": "stdout",
     "output_type": "stream",
     "text": [
      "The RMSE on test data is 10.641458521874668\n",
      "The MAPE on test data is 2.4504549564431417\n"
     ]
    }
   ],
   "source": [
    "# Calculating the prediction errors RMSE and MAPE\n",
    "\n",
    "rmse_linear = (mean_squared_error(y_test, lr_predictions, squared=False))\n",
    "print(\"The RMSE on test data is \" + str(rmse_linear))\n",
    "\n",
    "mape_linear = mean_absolute_percentage_error(y_test, lr_predictions)\n",
    "print(\"The MAPE on test data is \" + str(mape_linear*100)) # as a percentage"
   ]
  },
  {
   "cell_type": "markdown",
   "metadata": {},
   "source": [
    "In the problems below, we will fit quadratic and cubic models to the data and compute again $\\text {RMSE}$ and $\\text {MAPE}$. We will then evaluate which of these models is the lowest degree model that still captures the trend of the data best sufficiently.\n",
    "\n",
    "Now, fit the data to a quadratic model $F_2(t) \\sim \\beta _0 + \\beta _1 t + \\beta _2 t^2$.\n",
    "\n",
    "<b> What are the values of $\\hat\\beta_0$, $\\hat\\beta_1$ and $\\hat\\beta_2$?</b>"
   ]
  },
  {
   "cell_type": "code",
   "execution_count": 27,
   "metadata": {},
   "outputs": [
    {
     "data": {
      "text/plain": [
       "Pipeline(steps=[('polynomialfeatures', PolynomialFeatures()),\n",
       "                ('linearregression', LinearRegression())])"
      ]
     },
     "execution_count": 27,
     "metadata": {},
     "output_type": "execute_result"
    }
   ],
   "source": [
    "# Fitting quadratic model\n",
    "\n",
    "qr = make_pipeline(PolynomialFeatures(2),LinearRegression())\n",
    "qr.fit(np.array(X_train).reshape(-1, 1), y_train)"
   ]
  },
  {
   "cell_type": "code",
   "execution_count": 28,
   "metadata": {},
   "outputs": [
    {
     "name": "stdout",
     "output_type": "stream",
     "text": [
      "The quadratic model F(t) = 8.41493034591782e-05*t^2 + 0.06691855529153154*t + 314.1312375143947\n"
     ]
    }
   ],
   "source": [
    "# Quadratic model coefficients\n",
    "\n",
    "qr_coefficients = [qr.named_steps.linearregression.coef_[-1], qr.named_steps.linearregression.coef_[-2], qr.named_steps.linearregression.intercept_]\n",
    "print(\"The quadratic model F(t) = \" +str(qr_coefficients[0])+\"*t^2 + \" +str(qr_coefficients[1])+\"*t + \" +str(qr_coefficients[2])+\"\")"
   ]
  },
  {
   "cell_type": "code",
   "execution_count": 29,
   "metadata": {},
   "outputs": [
    {
     "data": {
      "text/html": [
       "\n",
       "\n",
       "\n",
       "\n",
       "\n",
       "\n",
       "  <div class=\"bk-root\" id=\"8d6a0db6-927b-4f46-b468-a412a0bd07d6\" data-root-id=\"1546\"></div>\n"
      ]
     },
     "metadata": {},
     "output_type": "display_data"
    },
    {
     "data": {
      "application/javascript": [
       "(function(root) {\n",
       "  function embed_document(root) {\n",
       "    \n",
       "  const docs_json = {\"37cbd164-f9ba-4911-bf8e-29b38021e017\":{\"defs\":[],\"roots\":{\"references\":[{\"attributes\":{\"below\":[{\"id\":\"1557\"}],\"center\":[{\"id\":\"1560\"},{\"id\":\"1564\"},{\"id\":\"1595\"}],\"left\":[{\"id\":\"1561\"}],\"renderers\":[{\"id\":\"1583\"},{\"id\":\"1601\"}],\"title\":{\"id\":\"1547\"},\"toolbar\":{\"id\":\"1572\"},\"width\":800,\"x_range\":{\"id\":\"1549\"},\"x_scale\":{\"id\":\"1553\"},\"y_range\":{\"id\":\"1551\"},\"y_scale\":{\"id\":\"1555\"}},\"id\":\"1546\",\"subtype\":\"Figure\",\"type\":\"Plot\"},{\"attributes\":{\"data\":{\"x\":{\"__ndarray__\":\"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\",\"dtype\":\"float64\",\"order\":\"little\",\"shape\":[587]},\"y\":{\"__ndarray__\":\"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\",\"dtype\":\"float64\",\"order\":\"little\",\"shape\":[587]}},\"selected\":{\"id\":\"1613\"},\"selection_policy\":{\"id\":\"1612\"}},\"id\":\"1597\",\"type\":\"ColumnDataSource\"},{\"attributes\":{\"source\":{\"id\":\"1579\"}},\"id\":\"1584\",\"type\":\"CDSView\"},{\"attributes\":{\"line_color\":\"orange\",\"line_width\":2.5,\"x\":{\"field\":\"x\"},\"y\":{\"field\":\"y\"}},\"id\":\"1598\",\"type\":\"Line\"},{\"attributes\":{\"data\":{\"x\":{\"__ndarray__\":\"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\",\"dtype\":\"float64\",\"order\":\"little\",\"shape\":[587]},\"y\":{\"__ndarray__\":\"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\",\"dtype\":\"float64\",\"order\":\"little\",\"shape\":[587]}},\"selected\":{\"id\":\"1593\"},\"selection_policy\":{\"id\":\"1592\"}},\"id\":\"1579\",\"type\":\"ColumnDataSource\"},{\"attributes\":{\"line_alpha\":0.1,\"line_color\":\"orange\",\"line_width\":2.5,\"x\":{\"field\":\"x\"},\"y\":{\"field\":\"y\"}},\"id\":\"1599\",\"type\":\"Line\"},{\"attributes\":{},\"id\":\"1549\",\"type\":\"DataRange1d\"},{\"attributes\":{\"line_alpha\":0.2,\"line_color\":\"orange\",\"line_width\":2.5,\"x\":{\"field\":\"x\"},\"y\":{\"field\":\"y\"}},\"id\":\"1600\",\"type\":\"Line\"},{\"attributes\":{},\"id\":\"1551\",\"type\":\"DataRange1d\"},{\"attributes\":{\"source\":{\"id\":\"1597\"}},\"id\":\"1602\",\"type\":\"CDSView\"},{\"attributes\":{\"axis\":{\"id\":\"1557\"},\"coordinates\":null,\"group\":null,\"ticker\":null},\"id\":\"1560\",\"type\":\"Grid\"},{\"attributes\":{\"ticks\":[0,200,400,600]},\"id\":\"1616\",\"type\":\"FixedTicker\"},{\"attributes\":{\"axis_label\":\"CO2 Concentration\",\"coordinates\":null,\"formatter\":{\"id\":\"1587\"},\"group\":null,\"major_label_policy\":{\"id\":\"1588\"},\"ticker\":{\"id\":\"1562\"}},\"id\":\"1561\",\"type\":\"LinearAxis\"},{\"attributes\":{\"label\":{\"value\":\"Quadratic Fit\"},\"renderers\":[{\"id\":\"1601\"}]},\"id\":\"1615\",\"type\":\"LegendItem\"},{\"attributes\":{},\"id\":\"1555\",\"type\":\"LinearScale\"},{\"attributes\":{\"coordinates\":null,\"group\":null,\"text\":\"Modeling with the Quadratic Model\"},\"id\":\"1547\",\"type\":\"Title\"},{\"attributes\":{},\"id\":\"1587\",\"type\":\"BasicTickFormatter\"},{\"attributes\":{},\"id\":\"1553\",\"type\":\"LinearScale\"},{\"attributes\":{\"axis_label\":\"Time\",\"coordinates\":null,\"formatter\":{\"id\":\"1590\"},\"group\":null,\"major_label_overrides\":{\"0\":\"1958\",\"200\":\"1976\",\"400\":\"1992\",\"600\":\"2008\"},\"major_label_policy\":{\"id\":\"1591\"},\"ticker\":{\"id\":\"1616\"}},\"id\":\"1557\",\"type\":\"LinearAxis\"},{\"attributes\":{},\"id\":\"1570\",\"type\":\"HelpTool\"},{\"attributes\":{},\"id\":\"1588\",\"type\":\"AllLabels\"},{\"attributes\":{\"label\":{\"value\":\"Original Data\"},\"renderers\":[{\"id\":\"1583\"}]},\"id\":\"1596\",\"type\":\"LegendItem\"},{\"attributes\":{},\"id\":\"1590\",\"type\":\"BasicTickFormatter\"},{\"attributes\":{\"axis\":{\"id\":\"1561\"},\"coordinates\":null,\"dimension\":1,\"group\":null,\"ticker\":null},\"id\":\"1564\",\"type\":\"Grid\"},{\"attributes\":{},\"id\":\"1562\",\"type\":\"BasicTicker\"},{\"attributes\":{\"fill_alpha\":{\"value\":0.1},\"fill_color\":{\"value\":\"orange\"},\"hatch_alpha\":{\"value\":0.1},\"line_alpha\":{\"value\":0.1},\"line_color\":{\"value\":\"navy\"},\"size\":{\"value\":2},\"x\":{\"field\":\"x\"},\"y\":{\"field\":\"y\"}},\"id\":\"1581\",\"type\":\"Scatter\"},{\"attributes\":{\"coordinates\":null,\"data_source\":{\"id\":\"1597\"},\"glyph\":{\"id\":\"1598\"},\"group\":null,\"hover_glyph\":null,\"muted_glyph\":{\"id\":\"1600\"},\"nonselection_glyph\":{\"id\":\"1599\"},\"view\":{\"id\":\"1602\"}},\"id\":\"1601\",\"type\":\"GlyphRenderer\"},{\"attributes\":{\"tools\":[{\"id\":\"1565\"},{\"id\":\"1566\"},{\"id\":\"1567\"},{\"id\":\"1568\"},{\"id\":\"1569\"},{\"id\":\"1570\"}]},\"id\":\"1572\",\"type\":\"Toolbar\"},{\"attributes\":{},\"id\":\"1591\",\"type\":\"AllLabels\"},{\"attributes\":{},\"id\":\"1566\",\"type\":\"WheelZoomTool\"},{\"attributes\":{},\"id\":\"1565\",\"type\":\"PanTool\"},{\"attributes\":{\"coordinates\":null,\"data_source\":{\"id\":\"1579\"},\"glyph\":{\"id\":\"1580\"},\"group\":null,\"hover_glyph\":null,\"muted_glyph\":{\"id\":\"1582\"},\"nonselection_glyph\":{\"id\":\"1581\"},\"view\":{\"id\":\"1584\"}},\"id\":\"1583\",\"type\":\"GlyphRenderer\"},{\"attributes\":{},\"id\":\"1612\",\"type\":\"UnionRenderers\"},{\"attributes\":{\"overlay\":{\"id\":\"1571\"}},\"id\":\"1567\",\"type\":\"BoxZoomTool\"},{\"attributes\":{},\"id\":\"1568\",\"type\":\"SaveTool\"},{\"attributes\":{\"coordinates\":null,\"group\":null,\"items\":[{\"id\":\"1596\"},{\"id\":\"1615\"}],\"location\":\"bottom_right\"},\"id\":\"1595\",\"type\":\"Legend\"},{\"attributes\":{},\"id\":\"1569\",\"type\":\"ResetTool\"},{\"attributes\":{\"bottom_units\":\"screen\",\"coordinates\":null,\"fill_alpha\":0.5,\"fill_color\":\"lightgrey\",\"group\":null,\"left_units\":\"screen\",\"level\":\"overlay\",\"line_alpha\":1.0,\"line_color\":\"black\",\"line_dash\":[4,4],\"line_width\":2,\"right_units\":\"screen\",\"syncable\":false,\"top_units\":\"screen\"},\"id\":\"1571\",\"type\":\"BoxAnnotation\"},{\"attributes\":{},\"id\":\"1613\",\"type\":\"Selection\"},{\"attributes\":{\"fill_alpha\":{\"value\":0.2},\"fill_color\":{\"value\":\"orange\"},\"hatch_alpha\":{\"value\":0.2},\"line_alpha\":{\"value\":0.2},\"line_color\":{\"value\":\"navy\"},\"size\":{\"value\":2},\"x\":{\"field\":\"x\"},\"y\":{\"field\":\"y\"}},\"id\":\"1582\",\"type\":\"Scatter\"},{\"attributes\":{},\"id\":\"1592\",\"type\":\"UnionRenderers\"},{\"attributes\":{},\"id\":\"1593\",\"type\":\"Selection\"},{\"attributes\":{\"fill_alpha\":{\"value\":0.5},\"fill_color\":{\"value\":\"orange\"},\"line_color\":{\"value\":\"navy\"},\"size\":{\"value\":2},\"x\":{\"field\":\"x\"},\"y\":{\"field\":\"y\"}},\"id\":\"1580\",\"type\":\"Scatter\"}],\"root_ids\":[\"1546\"]},\"title\":\"Bokeh Application\",\"version\":\"2.4.1\"}};\n",
       "  const render_items = [{\"docid\":\"37cbd164-f9ba-4911-bf8e-29b38021e017\",\"root_ids\":[\"1546\"],\"roots\":{\"1546\":\"8d6a0db6-927b-4f46-b468-a412a0bd07d6\"}}];\n",
       "  root.Bokeh.embed.embed_items_notebook(docs_json, render_items);\n",
       "\n",
       "  }\n",
       "  if (root.Bokeh !== undefined) {\n",
       "    embed_document(root);\n",
       "  } else {\n",
       "    let attempts = 0;\n",
       "    const timer = setInterval(function(root) {\n",
       "      if (root.Bokeh !== undefined) {\n",
       "        clearInterval(timer);\n",
       "        embed_document(root);\n",
       "      } else {\n",
       "        attempts++;\n",
       "        if (attempts > 100) {\n",
       "          clearInterval(timer);\n",
       "          console.log(\"Bokeh: ERROR: Unable to run BokehJS code because BokehJS library is missing\");\n",
       "        }\n",
       "      }\n",
       "    }, 10, root)\n",
       "  }\n",
       "})(window);"
      ],
      "application/vnd.bokehjs_exec.v0+json": ""
     },
     "metadata": {
      "application/vnd.bokehjs_exec.v0+json": {
       "id": "1546"
      }
     },
     "output_type": "display_data"
    }
   ],
   "source": [
    "# Plotting quadratic fit of the model\n",
    "\n",
    "qr_quadratic_fit = qr.predict(np.array(X_train).reshape(-1, 1))\n",
    "\n",
    "p = figure(plot_width=800, plot_height=600, title = \"Modeling with the Quadratic Model\")\n",
    "p.scatter(X_train, y_train, size=2, line_color=\"navy\", fill_color=\"orange\", fill_alpha=0.5, legend_label =\"Original Data\")\n",
    "p.line(X_train, qr_quadratic_fit, line_color=\"orange\", line_width=2.5, legend_label =\"Quadratic Fit\")\n",
    "p.xaxis.ticker = [0, 200, 400, 600]\n",
    "p.xaxis.major_label_overrides = {0: '1958', 200: '1976', 400: '1992', 600: '2008'}\n",
    "p.xaxis.axis_label ='Time'\n",
    "p.yaxis.axis_label ='CO2 Concentration'\n",
    "p.legend.location = \"bottom_right\"\n",
    "show(p)"
   ]
  },
  {
   "cell_type": "markdown",
   "metadata": {},
   "source": [
    "This time the fit is better also in the beginning and at the end which indicates this is a better model compared to the previous one in modeling the data."
   ]
  },
  {
   "cell_type": "markdown",
   "metadata": {},
   "source": [
    "<b> Plot the residual error $R_{quadratic}(t)=C(t)-F_2(t)$. Report the root mean squared prediction error $\\text {RMSE}$ and the mean absolute percentage error $\\text {MAPE}$ with respect to the test set for the quadratic model.</b>"
   ]
  },
  {
   "cell_type": "code",
   "execution_count": 30,
   "metadata": {},
   "outputs": [
    {
     "data": {
      "text/html": [
       "\n",
       "\n",
       "\n",
       "\n",
       "\n",
       "\n",
       "  <div class=\"bk-root\" id=\"e8d0441c-44b8-471f-9920-1c3352c93f99\" data-root-id=\"1725\"></div>\n"
      ]
     },
     "metadata": {},
     "output_type": "display_data"
    },
    {
     "data": {
      "application/javascript": [
       "(function(root) {\n",
       "  function embed_document(root) {\n",
       "    \n",
       "  const docs_json = {\"07d3694f-7c1e-4108-8106-6af386c64691\":{\"defs\":[],\"roots\":{\"references\":[{\"attributes\":{\"below\":[{\"id\":\"1736\"}],\"center\":[{\"id\":\"1739\"},{\"id\":\"1743\"},{\"id\":\"1774\"}],\"left\":[{\"id\":\"1740\"}],\"renderers\":[{\"id\":\"1762\"},{\"id\":\"1780\"}],\"title\":{\"id\":\"1726\"},\"toolbar\":{\"id\":\"1751\"},\"width\":800,\"x_range\":{\"id\":\"1728\"},\"x_scale\":{\"id\":\"1732\"},\"y_range\":{\"id\":\"1730\"},\"y_scale\":{\"id\":\"1734\"}},\"id\":\"1725\",\"subtype\":\"Figure\",\"type\":\"Plot\"},{\"attributes\":{\"line_alpha\":0.2,\"line_color\":\"orange\",\"line_width\":2.5,\"x\":{\"field\":\"x\"},\"y\":{\"field\":\"y\"}},\"id\":\"1779\",\"type\":\"Line\"},{\"attributes\":{},\"id\":\"1749\",\"type\":\"HelpTool\"},{\"attributes\":{\"line_color\":\"orange\",\"line_width\":2.5,\"x\":{\"field\":\"x\"},\"y\":{\"field\":\"y\"}},\"id\":\"1777\",\"type\":\"Line\"},{\"attributes\":{\"source\":{\"id\":\"1776\"}},\"id\":\"1781\",\"type\":\"CDSView\"},{\"attributes\":{},\"id\":\"1766\",\"type\":\"BasicTickFormatter\"},{\"attributes\":{\"label\":{\"value\":\"Quadratic Model Predictions\"},\"renderers\":[{\"id\":\"1780\"}]},\"id\":\"1794\",\"type\":\"LegendItem\"},{\"attributes\":{\"bottom_units\":\"screen\",\"coordinates\":null,\"fill_alpha\":0.5,\"fill_color\":\"lightgrey\",\"group\":null,\"left_units\":\"screen\",\"level\":\"overlay\",\"line_alpha\":1.0,\"line_color\":\"black\",\"line_dash\":[4,4],\"line_width\":2,\"right_units\":\"screen\",\"syncable\":false,\"top_units\":\"screen\"},\"id\":\"1750\",\"type\":\"BoxAnnotation\"},{\"attributes\":{},\"id\":\"1792\",\"type\":\"Selection\"},{\"attributes\":{},\"id\":\"1767\",\"type\":\"AllLabels\"},{\"attributes\":{\"data\":{\"x\":{\"__ndarray__\":\"VVVVVVWQgkBVVVVVVZiCQFVVVVVVoIJAVVVVVVWogkBVVVVVVbCCQFVVVVVVuIJAVVVVVVXAgkBVVVVVVciCQFVVVVVV0IJAVVVVVVXYgkBVVVVVVeCCQFVVVVVV6IJAVVVVVVXwgkBVVVVVVfiCQFVVVVVVAINAVVVVVVUIg0BVVVVVVRCDQFVVVVVVGINAVVVVVVUgg0BVVVVVVSiDQFVVVVVVMINAVVVVVVU4g0BVVVVVVUCDQFVVVVVVSINAVVVVVVVQg0BVVVVVVViDQFVVVVVVYINAVVVVVVVog0BVVVVVVXCDQFVVVVVVeINAVVVVVVWAg0BVVVVVVYiDQFVVVVVVkINAVVVVVVWYg0BVVVVVVaCDQFVVVVVVqINAVVVVVVWwg0BVVVVVVbiDQFVVVVVVwINAVVVVVVXIg0BVVVVVVdCDQFVVVVVV2INAVVVVVVXgg0BVVVVVVeiDQFVVVVVV8INAVVVVVVX4g0BVVVVVVQCEQFVVVVVVCIRAVVVVVVUQhEBVVVVVVRiEQFVVVVVVIIRAVVVVVVUohEBVVVVVVTCEQFVVVVVVOIRAVVVVVVVAhEBVVVVVVUiEQFVVVVVVUIRAVVVVVVVYhEBVVVVVVWCEQFVVVVVVaIRAVVVVVVVwhEBVVVVVVXiEQFVVVVVVgIRAVVVVVVWIhEBVVVVVVZCEQFVVVVVVmIRAVVVVVVWghEBVVVVVVaiEQFVVVVVVsIRAVVVVVVW4hEBVVVVVVcCEQFVVVVVVyIRAVVVVVVXQhEBVVVVVVdiEQFVVVVVV4IRAVVVVVVXohEBVVVVVVfCEQFVVVVVV+IRAVVVVVVUAhUBVVVVVVQiFQFVVVVVVEIVAVVVVVVUYhUBVVVVVVSCFQFVVVVVVKIVAVVVVVVUwhUBVVVVVVTiFQFVVVVVVQIVAVVVVVVVIhUBVVVVVVVCFQFVVVVVVWIVAVVVVVVVghUBVVVVVVWiFQFVVVVVVcIVAVVVVVVV4hUBVVVVVVYCFQFVVVVVViIVAVVVVVVWQhUBVVVVVVZiFQFVVVVVVoIVAVVVVVVWohUBVVVVVVbCFQFVVVVVVuIVAVVVVVVXAhUBVVVVVVciFQFVVVVVV0IVAVVVVVVXYhUBVVVVVVeCFQFVVVVVV6IVAVVVVVVXwhUBVVVVVVfiFQFVVVVVVAIZAVVVVVVUIhkBVVVVVVRCGQFVVVVVVGIZAVVVVVVUghkBVVVVVVSiGQFVVVVVVMIZAVVVVVVU4hkBVVVVVVUCGQFVVVVVVSIZAVVVVVVVQhkBVVVVVVViGQFVVVVVVYIZAVVVVVVVohkBVVVVVVXCGQFVVVVVVeIZAVVVVVVWAhkBVVVVVVYiGQFVVVVVVkIZAVVVVVVWYhkBVVVVVVaCGQFVVVVVVqIZAVVVVVVWwhkBVVVVVVbiGQFVVVVVVwIZAVVVVVVXIhkBVVVVVVdCGQFVVVVVV2IZAVVVVVVXghkBVVVVVVeiGQFVVVVVV8IZAVVVVVVX4hkBVVVVVVQCHQFVVVVVVCIdAVVVVVVUQh0BVVVVVVRiHQFVVVVVVIIdA\",\"dtype\":\"float64\",\"order\":\"little\",\"shape\":[147]},\"y\":{\"__ndarray__\":\"16NwPQoHeEA9CtejcN13QPYoXI/CzXdA9ihcj8LNd0D2KFyPwuV3QPYoXI/C+XdAhetRuB4ReEA9CtejcB14QOF6FK5HHXhAuB6F61EseEBcj8L1KEh4QM3MzMzMQHhAAAAAAAAkeEDhehSuRwF4QD0K16Nw8XdAFK5H4Xrsd0Bcj8L1KAB4QPYoXI/CEXhAZmZmZmYqeEBSuB6F6zF4QLgehetRSHhAhetRuB5ZeEAfhetRuGJ4QFK4HoXrWXhAhetRuB5BeEDhehSuRyF4QGZmZmZmCnhA4XoUrkcFeEDNzMzMzCB4QKRwPQrXN3hAzczMzMxIeECF61G4HmF4QFyPwvUocHhArkfhehSGeEDsUbgehZN4QKRwPQrXg3hA4XoUrkdleEC4HoXrUUh4QD0K16NwLXhAw/UoXI8yeEAfhetRuEp4QClcj8L1XHhAzczMzMx0eEAfhetRuH54QDMzMzMzh3hAUrgeheuVeEAUrkfheqR4QNejcD0Km3hAPQrXo3CJeECPwvUoXGN4QAAAAAAAUHhAexSuR+FOeECkcD0K12N4QM3MzMzMfHhAhetRuB6ReECamZmZmZV4QPYoXI/CpXhAexSuR+HGeEBSuB6F6814QK5H4XoUvnhAuB6F61GoeEBxPQrXo4h4QK5H4XoUcnhAXI/C9ShweEAzMzMzM494QOF6FK5HpXhA9ihcj8K5eECamZmZmc14QFyPwvUo1HhAmpmZmZnleEBI4XoUrv94QFK4HoXr7XhAUrgehevVeEDD9Shcj7Z4QArXo3A9lnhAMzMzMzObeEDXo3A9CrN4QIXrUbgezXhAH4XrUbjeeECamZmZmeF4QOxRuB6F93hA4XoUrkcVeUCuR+F6FB55QClcj8L1FHlAhetRuB7xeECPwvUoXNN4QGZmZmZmtnhAZmZmZma6eEBI4XoUrtN4QHE9Ctej7HhAmpmZmZn9eEApXI/C9QR5QFyPwvUoGHlAMzMzMzM3eUCamZmZmUF5QK5H4XoULnlA9ihcj8IZeUAAAAAAAPB4QAAAAAAA2HhAFK5H4XrkeECkcD0K1wN5QArXo3A9HnlAZmZmZmYqeUDD9Shcj0J5QJqZmZmZTXlAhetRuB55eUDD9Shcj3p5QAAAAAAAcHlAAAAAAABIeUCkcD0K1yN5QFyPwvUoEHlAAAAAAAAYeUAK16NwPTp5QM3MzMzMSHlAhetRuB5heUAK16NwPWp5QClcj8L1cHlAMzMzMzOPeUDD9Shcj555QFK4HoXrkXlAMzMzMzNzeUCkcD0K11N5QLgehetRNHlACtejcD06eUAfhetRuFJ5QAAAAAAAbHlAzczMzMyAeUA9CtejcIV5QAAAAAAAlHlAzczMzMykeUDNzMzMzLR5QK5H4XoUrnlAZmZmZmaOeUCamZmZmXF5QD0K16NwWXlApHA9CtdfeUBSuB6F64F5QEjhehSuk3lAH4XrUbiueUDD9Shcj7p5QAAAAAAAwHlAuB6F61HYeUDhehSuR+15QI/C9Shc33lAmpmZmZm9eUDhehSuR6F5QM3MzMzMiHlA\",\"dtype\":\"float64\",\"order\":\"little\",\"shape\":[147]}},\"selected\":{\"id\":\"1772\"},\"selection_policy\":{\"id\":\"1771\"}},\"id\":\"1758\",\"type\":\"ColumnDataSource\"},{\"attributes\":{},\"id\":\"1769\",\"type\":\"BasicTickFormatter\"},{\"attributes\":{\"coordinates\":null,\"data_source\":{\"id\":\"1758\"},\"glyph\":{\"id\":\"1759\"},\"group\":null,\"hover_glyph\":null,\"muted_glyph\":{\"id\":\"1761\"},\"nonselection_glyph\":{\"id\":\"1760\"},\"view\":{\"id\":\"1763\"}},\"id\":\"1762\",\"type\":\"GlyphRenderer\"},{\"attributes\":{},\"id\":\"1791\",\"type\":\"UnionRenderers\"},{\"attributes\":{},\"id\":\"1770\",\"type\":\"AllLabels\"},{\"attributes\":{\"label\":{\"value\":\"Test Data\"},\"renderers\":[{\"id\":\"1762\"}]},\"id\":\"1775\",\"type\":\"LegendItem\"},{\"attributes\":{\"axis_label\":\"Time\",\"coordinates\":null,\"formatter\":{\"id\":\"1769\"},\"group\":null,\"major_label_overrides\":{\"620\":\"2010\",\"660\":\"2013\",\"700\":\"2016\",\"740\":\"2019\"},\"major_label_policy\":{\"id\":\"1770\"},\"ticker\":{\"id\":\"1795\"}},\"id\":\"1736\",\"type\":\"LinearAxis\"},{\"attributes\":{\"coordinates\":null,\"data_source\":{\"id\":\"1776\"},\"glyph\":{\"id\":\"1777\"},\"group\":null,\"hover_glyph\":null,\"muted_glyph\":{\"id\":\"1779\"},\"nonselection_glyph\":{\"id\":\"1778\"},\"view\":{\"id\":\"1781\"}},\"id\":\"1780\",\"type\":\"GlyphRenderer\"},{\"attributes\":{\"tools\":[{\"id\":\"1744\"},{\"id\":\"1745\"},{\"id\":\"1746\"},{\"id\":\"1747\"},{\"id\":\"1748\"},{\"id\":\"1749\"}]},\"id\":\"1751\",\"type\":\"Toolbar\"},{\"attributes\":{\"data\":{\"x\":{\"__ndarray__\":\"VVVVVVWQgkBVVVVVVZiCQFVVVVVVoIJAVVVVVVWogkBVVVVVVbCCQFVVVVVVuIJAVVVVVVXAgkBVVVVVVciCQFVVVVVV0IJAVVVVVVXYgkBVVVVVVeCCQFVVVVVV6IJAVVVVVVXwgkBVVVVVVfiCQFVVVVVVAINAVVVVVVUIg0BVVVVVVRCDQFVVVVVVGINAVVVVVVUgg0BVVVVVVSiDQFVVVVVVMINAVVVVVVU4g0BVVVVVVUCDQFVVVVVVSINAVVVVVVVQg0BVVVVVVViDQFVVVVVVYINAVVVVVVVog0BVVVVVVXCDQFVVVVVVeINAVVVVVVWAg0BVVVVVVYiDQFVVVVVVkINAVVVVVVWYg0BVVVVVVaCDQFVVVVVVqINAVVVVVVWwg0BVVVVVVbiDQFVVVVVVwINAVVVVVVXIg0BVVVVVVdCDQFVVVVVV2INAVVVVVVXgg0BVVVVVVeiDQFVVVVVV8INAVVVVVVX4g0BVVVVVVQCEQFVVVVVVCIRAVVVVVVUQhEBVVVVVVRiEQFVVVVVVIIRAVVVVVVUohEBVVVVVVTCEQFVVVVVVOIRAVVVVVVVAhEBVVVVVVUiEQFVVVVVVUIRAVVVVVVVYhEBVVVVVVWCEQFVVVVVVaIRAVVVVVVVwhEBVVVVVVXiEQFVVVVVVgIRAVVVVVVWIhEBVVVVVVZCEQFVVVVVVmIRAVVVVVVWghEBVVVVVVaiEQFVVVVVVsIRAVVVVVVW4hEBVVVVVVcCEQFVVVVVVyIRAVVVVVVXQhEBVVVVVVdiEQFVVVVVV4IRAVVVVVVXohEBVVVVVVfCEQFVVVVVV+IRAVVVVVVUAhUBVVVVVVQiFQFVVVVVVEIVAVVVVVVUYhUBVVVVVVSCFQFVVVVVVKIVAVVVVVVUwhUBVVVVVVTiFQFVVVVVVQIVAVVVVVVVIhUBVVVVVVVCFQFVVVVVVWIVAVVVVVVVghUBVVVVVVWiFQFVVVVVVcIVAVVVVVVV4hUBVVVVVVYCFQFVVVVVViIVAVVVVVVWQhUBVVVVVVZiFQFVVVVVVoIVAVVVVVVWohUBVVVVVVbCFQFVVVVVVuIVAVVVVVVXAhUBVVVVVVciFQFVVVVVV0IVAVVVVVVXYhUBVVVVVVeCFQFVVVVVV6IVAVVVVVVXwhUBVVVVVVfiFQFVVVVVVAIZAVVVVVVUIhkBVVVVVVRCGQFVVVVVVGIZAVVVVVVUghkBVVVVVVSiGQFVVVVVVMIZAVVVVVVU4hkBVVVVVVUCGQFVVVVVVSIZAVVVVVVVQhkBVVVVVVViGQFVVVVVVYIZAVVVVVVVohkBVVVVVVXCGQFVVVVVVeIZAVVVVVVWAhkBVVVVVVYiGQFVVVVVVkIZAVVVVVVWYhkBVVVVVVaCGQFVVVVVVqIZAVVVVVVWwhkBVVVVVVbiGQFVVVVVVwIZAVVVVVVXIhkBVVVVVVdCGQFVVVVVV2IZAVVVVVVXghkBVVVVVVeiGQFVVVVVV8IZAVVVVVVX4hkBVVVVVVQCHQFVVVVVVCIdAVVVVVVUQh0BVVVVVVRiHQFVVVVVVIIdA\",\"dtype\":\"float64\",\"order\":\"little\",\"shape\":[147]},\"y\":{\"__ndarray__\":\"nM+MbEL5d0AY29Be7vt3QMk2jgGb/ndAreLEVEgBeEDF3nRY9gN4QBErngylBnhAkcdAcVQJeEBFtFyGBAx4QC3x8Uu1DnhASH4AwmYReECYW4joGBR4QByJib/LFnhA0wYER38ZeEC+1Pd+Mxx4QN7yZGfoHnhAMWFLAJ4heEC4H6tJVCR4QHQuhEMLJ3hAYo3W7cIpeECGPKJIeyx4QNw751M0L3hAZ4ulD+4xeEAmK917qDR4QBgbjphjN3hAP1u4ZR86eECa61vj2zx4QCjMeBGZP3hA6vwO8FZCeEDgfR5/FUV4QAtPp77UR3hAaXCprpRKeED74SRPVU14QMGjGaAWUHhAu7WHodhSeEDoF29Tm1V4QErKz7VeWHhA4MypyCJbeECqH/2L5114QKjCyf+sYHhA2bUPJHNjeEA++c74OWZ4QNeMB34BaXhApHC5s8lreECmpOSZkm54QNsoiTBccXhARP2mdyZ0eEDgIT5v8XZ4QLKWThe9eXhAtlvYb4l8eEDvcNt4Vn94QFzWVzIkgnhA/ItNnPKEeEDQkby2wYd4QNnnpIGRinhAFY4G/WGNeECGhOEoM5B4QCrLNQUFk3hAAmIDkteVeEAOSUrPqph4QE6ACr1+m3hAwQdEW1OeeEBp3/apKKF4QEUHI6n+o3hAVH/IWNWmeECYR+e4rKl4QA9gf8mErHhAu8iQil2veECagRv8NrJ4QK2KHx4RtXhA9OOc8Ou3eEBwjZNzx7p4QB6HA6ejvXhAAtHsioDAeEAYa08fXsN4QGNVK2Q8xnhA4o+AWRvJeECUGk//+st4QHv1llXbznhAlSBYXLzReEDkm5ITntR4QGZnRnuA13hAHINzk2PaeEAG7xlcR914QCSrOdUr4HhAdrfS/hDjeED8E+XY9uV4QLbAcGPd6HhApL11nsTreEDGCvSJrO54QByo6yWV8XhApZVccn70eEBi00ZvaPd4QFRhqhxT+nhAeT+Hej79eEDSbd2IKgB5QGDsrEcXA3lAIbv1tgQGeUAW2rfW8gh5QD5J86bhC3lAnAioJ9EOeUAsGNZYwRF5QPF3fTqyFHlA6ieezKMXeUAWKDgPlhp5QHd4SwKJHXlACxnYpXwgeUDUCd75cCN5QNBKXf5lJnlAANxVs1speUBkvccYUix5QPzusi5JL3lAyHAX9UAyeUDIQvVrOTV5QPxkTJMyOHlAZNccayw7eUD/mWbzJj55QM6sKSwiQXlA0g9mFR5EeUAKwxuvGkd5QHXGSvkXSnlAFBrz8xVNeUDnvRSfFFB5QO6xr/oTU3lAKvbDBhRWeUCYilHDFFl5QDtvWDAWXHlAEqTYTRhfeUAdKdIbG2J5QFz+RJoeZXlAziMxySJoeUB0mZaoJ2t5QE9fdTgtbnlAXXXNeDNxeUCg255pOnR5QBaS6QpCd3lAwJitXEp6eUCe7+peU315QLCWoRFdgHlA9o3RdGeDeUBw1XqIcoZ5QB1tnUx+iXlA/1Q5wYqMeUAUjU7ml495QF4V3bulknlA3O3kQbSVeUCNFmZ4w5h5QHKPYF/Tm3lA\",\"dtype\":\"float64\",\"order\":\"little\",\"shape\":[147]}},\"selected\":{\"id\":\"1792\"},\"selection_policy\":{\"id\":\"1791\"}},\"id\":\"1776\",\"type\":\"ColumnDataSource\"},{\"attributes\":{\"fill_alpha\":{\"value\":0.2},\"fill_color\":{\"value\":\"orange\"},\"hatch_alpha\":{\"value\":0.2},\"line_alpha\":{\"value\":0.2},\"line_color\":{\"value\":\"navy\"},\"size\":{\"value\":2},\"x\":{\"field\":\"x\"},\"y\":{\"field\":\"y\"}},\"id\":\"1761\",\"type\":\"Scatter\"},{\"attributes\":{\"fill_alpha\":{\"value\":0.5},\"fill_color\":{\"value\":\"orange\"},\"line_color\":{\"value\":\"navy\"},\"size\":{\"value\":2},\"x\":{\"field\":\"x\"},\"y\":{\"field\":\"y\"}},\"id\":\"1759\",\"type\":\"Scatter\"},{\"attributes\":{},\"id\":\"1728\",\"type\":\"DataRange1d\"},{\"attributes\":{\"fill_alpha\":{\"value\":0.1},\"fill_color\":{\"value\":\"orange\"},\"hatch_alpha\":{\"value\":0.1},\"line_alpha\":{\"value\":0.1},\"line_color\":{\"value\":\"navy\"},\"size\":{\"value\":2},\"x\":{\"field\":\"x\"},\"y\":{\"field\":\"y\"}},\"id\":\"1760\",\"type\":\"Scatter\"},{\"attributes\":{},\"id\":\"1730\",\"type\":\"DataRange1d\"},{\"attributes\":{\"source\":{\"id\":\"1758\"}},\"id\":\"1763\",\"type\":\"CDSView\"},{\"attributes\":{\"axis\":{\"id\":\"1736\"},\"coordinates\":null,\"group\":null,\"ticker\":null},\"id\":\"1739\",\"type\":\"Grid\"},{\"attributes\":{},\"id\":\"1771\",\"type\":\"UnionRenderers\"},{\"attributes\":{\"coordinates\":null,\"group\":null,\"items\":[{\"id\":\"1775\"},{\"id\":\"1794\"}],\"location\":\"bottom_right\"},\"id\":\"1774\",\"type\":\"Legend\"},{\"attributes\":{\"axis_label\":\"CO2 Concentration\",\"coordinates\":null,\"formatter\":{\"id\":\"1766\"},\"group\":null,\"major_label_policy\":{\"id\":\"1767\"},\"ticker\":{\"id\":\"1741\"}},\"id\":\"1740\",\"type\":\"LinearAxis\"},{\"attributes\":{},\"id\":\"1734\",\"type\":\"LinearScale\"},{\"attributes\":{\"coordinates\":null,\"group\":null,\"text\":\"Predicting with Quadratic Model\"},\"id\":\"1726\",\"type\":\"Title\"},{\"attributes\":{},\"id\":\"1772\",\"type\":\"Selection\"},{\"attributes\":{},\"id\":\"1745\",\"type\":\"WheelZoomTool\"},{\"attributes\":{},\"id\":\"1732\",\"type\":\"LinearScale\"},{\"attributes\":{},\"id\":\"1747\",\"type\":\"SaveTool\"},{\"attributes\":{},\"id\":\"1748\",\"type\":\"ResetTool\"},{\"attributes\":{\"ticks\":[620,660,700,740]},\"id\":\"1795\",\"type\":\"FixedTicker\"},{\"attributes\":{\"axis\":{\"id\":\"1740\"},\"coordinates\":null,\"dimension\":1,\"group\":null,\"ticker\":null},\"id\":\"1743\",\"type\":\"Grid\"},{\"attributes\":{\"overlay\":{\"id\":\"1750\"}},\"id\":\"1746\",\"type\":\"BoxZoomTool\"},{\"attributes\":{\"line_alpha\":0.1,\"line_color\":\"orange\",\"line_width\":2.5,\"x\":{\"field\":\"x\"},\"y\":{\"field\":\"y\"}},\"id\":\"1778\",\"type\":\"Line\"},{\"attributes\":{},\"id\":\"1741\",\"type\":\"BasicTicker\"},{\"attributes\":{},\"id\":\"1744\",\"type\":\"PanTool\"}],\"root_ids\":[\"1725\"]},\"title\":\"Bokeh Application\",\"version\":\"2.4.1\"}};\n",
       "  const render_items = [{\"docid\":\"07d3694f-7c1e-4108-8106-6af386c64691\",\"root_ids\":[\"1725\"],\"roots\":{\"1725\":\"e8d0441c-44b8-471f-9920-1c3352c93f99\"}}];\n",
       "  root.Bokeh.embed.embed_items_notebook(docs_json, render_items);\n",
       "\n",
       "  }\n",
       "  if (root.Bokeh !== undefined) {\n",
       "    embed_document(root);\n",
       "  } else {\n",
       "    let attempts = 0;\n",
       "    const timer = setInterval(function(root) {\n",
       "      if (root.Bokeh !== undefined) {\n",
       "        clearInterval(timer);\n",
       "        embed_document(root);\n",
       "      } else {\n",
       "        attempts++;\n",
       "        if (attempts > 100) {\n",
       "          clearInterval(timer);\n",
       "          console.log(\"Bokeh: ERROR: Unable to run BokehJS code because BokehJS library is missing\");\n",
       "        }\n",
       "      }\n",
       "    }, 10, root)\n",
       "  }\n",
       "})(window);"
      ],
      "application/vnd.bokehjs_exec.v0+json": ""
     },
     "metadata": {
      "application/vnd.bokehjs_exec.v0+json": {
       "id": "1725"
      }
     },
     "output_type": "display_data"
    }
   ],
   "source": [
    "# Predicting with test data\n",
    "\n",
    "qr_predictions = qr.predict(np.array(X_test).reshape(-1,1))\n",
    "\n",
    "p = figure(plot_width=800, plot_height=600, title = \"Predicting with Quadratic Model\")\n",
    "p.scatter(X_test, y_test, size=2, line_color=\"navy\", fill_color=\"orange\", fill_alpha=0.5, legend_label =\"Test Data\")\n",
    "p.line(X_test, qr_predictions, line_color=\"orange\", line_width=2.5, legend_label =\"Quadratic Model Predictions\")\n",
    "p.xaxis.ticker = [620, 660, 700, 740]\n",
    "p.xaxis.major_label_overrides = {620: '2010', 660: '2013', 700: '2016', 740: '2019'}\n",
    "p.xaxis.axis_label ='Time'\n",
    "p.yaxis.axis_label ='CO2 Concentration'\n",
    "p.legend.location = \"bottom_right\"\n",
    "show(p)"
   ]
  },
  {
   "cell_type": "markdown",
   "metadata": {},
   "source": [
    "We see that the fit of the line is much better than what it was previously. "
   ]
  },
  {
   "cell_type": "code",
   "execution_count": 31,
   "metadata": {},
   "outputs": [
    {
     "data": {
      "text/html": [
       "\n",
       "\n",
       "\n",
       "\n",
       "\n",
       "\n",
       "  <div class=\"bk-root\" id=\"681d3c62-d004-4dce-a8ac-0825232180a6\" data-root-id=\"1915\"></div>\n"
      ]
     },
     "metadata": {},
     "output_type": "display_data"
    },
    {
     "data": {
      "application/javascript": [
       "(function(root) {\n",
       "  function embed_document(root) {\n",
       "    \n",
       "  const docs_json = {\"7e9f0116-028e-42cb-83ef-7393501ee950\":{\"defs\":[],\"roots\":{\"references\":[{\"attributes\":{\"below\":[{\"id\":\"1926\"}],\"center\":[{\"id\":\"1929\"},{\"id\":\"1933\"},{\"id\":\"1964\"}],\"left\":[{\"id\":\"1930\"}],\"renderers\":[{\"id\":\"1952\"}],\"title\":{\"id\":\"1916\"},\"toolbar\":{\"id\":\"1941\"},\"width\":800,\"x_range\":{\"id\":\"1918\"},\"x_scale\":{\"id\":\"1922\"},\"y_range\":{\"id\":\"1920\"},\"y_scale\":{\"id\":\"1924\"}},\"id\":\"1915\",\"subtype\":\"Figure\",\"type\":\"Plot\"},{\"attributes\":{\"axis\":{\"id\":\"1926\"},\"coordinates\":null,\"group\":null,\"ticker\":null},\"id\":\"1929\",\"type\":\"Grid\"},{\"attributes\":{},\"id\":\"1920\",\"type\":\"DataRange1d\"},{\"attributes\":{},\"id\":\"1935\",\"type\":\"WheelZoomTool\"},{\"attributes\":{},\"id\":\"1918\",\"type\":\"DataRange1d\"},{\"attributes\":{},\"id\":\"1934\",\"type\":\"PanTool\"},{\"attributes\":{\"coordinates\":null,\"formatter\":{\"id\":\"1959\"},\"group\":null,\"major_label_policy\":{\"id\":\"1960\"},\"ticker\":{\"id\":\"1927\"}},\"id\":\"1926\",\"type\":\"LinearAxis\"},{\"attributes\":{},\"id\":\"1937\",\"type\":\"SaveTool\"},{\"attributes\":{\"coordinates\":null,\"data_source\":{\"id\":\"1948\"},\"glyph\":{\"id\":\"1949\"},\"group\":null,\"hover_glyph\":null,\"muted_glyph\":{\"id\":\"1951\"},\"nonselection_glyph\":{\"id\":\"1950\"},\"view\":{\"id\":\"1953\"}},\"id\":\"1952\",\"type\":\"GlyphRenderer\"},{\"attributes\":{},\"id\":\"1960\",\"type\":\"AllLabels\"},{\"attributes\":{\"coordinates\":null,\"group\":null,\"items\":[{\"id\":\"1965\"}]},\"id\":\"1964\",\"type\":\"Legend\"},{\"attributes\":{},\"id\":\"1922\",\"type\":\"LinearScale\"},{\"attributes\":{\"fill_alpha\":{\"value\":0.1},\"fill_color\":{\"value\":\"blue\"},\"hatch_alpha\":{\"value\":0.1},\"line_alpha\":{\"value\":0.1},\"line_color\":{\"value\":\"navy\"},\"size\":{\"value\":2},\"x\":{\"field\":\"x\"},\"y\":{\"field\":\"y\"}},\"id\":\"1950\",\"type\":\"Scatter\"},{\"attributes\":{},\"id\":\"1927\",\"type\":\"BasicTicker\"},{\"attributes\":{},\"id\":\"1961\",\"type\":\"UnionRenderers\"},{\"attributes\":{},\"id\":\"1924\",\"type\":\"LinearScale\"},{\"attributes\":{\"label\":{\"value\":\"Residuals\"},\"renderers\":[{\"id\":\"1952\"}]},\"id\":\"1965\",\"type\":\"LegendItem\"},{\"attributes\":{\"coordinates\":null,\"group\":null,\"text\":\"Residuals for Quadratic Model\"},\"id\":\"1916\",\"type\":\"Title\"},{\"attributes\":{\"axis_label\":\"Residual\",\"coordinates\":null,\"formatter\":{\"id\":\"1956\"},\"group\":null,\"major_label_policy\":{\"id\":\"1957\"},\"ticker\":{\"id\":\"1931\"}},\"id\":\"1930\",\"type\":\"LinearAxis\"},{\"attributes\":{},\"id\":\"1962\",\"type\":\"Selection\"},{\"attributes\":{},\"id\":\"1938\",\"type\":\"ResetTool\"},{\"attributes\":{},\"id\":\"1956\",\"type\":\"BasicTickFormatter\"},{\"attributes\":{\"axis\":{\"id\":\"1930\"},\"coordinates\":null,\"dimension\":1,\"group\":null,\"ticker\":null},\"id\":\"1933\",\"type\":\"Grid\"},{\"attributes\":{\"fill_alpha\":{\"value\":0.2},\"fill_color\":{\"value\":\"blue\"},\"hatch_alpha\":{\"value\":0.2},\"line_alpha\":{\"value\":0.2},\"line_color\":{\"value\":\"navy\"},\"size\":{\"value\":2},\"x\":{\"field\":\"x\"},\"y\":{\"field\":\"y\"}},\"id\":\"1951\",\"type\":\"Scatter\"},{\"attributes\":{},\"id\":\"1931\",\"type\":\"BasicTicker\"},{\"attributes\":{\"fill_alpha\":{\"value\":0.5},\"fill_color\":{\"value\":\"blue\"},\"line_color\":{\"value\":\"navy\"},\"size\":{\"value\":2},\"x\":{\"field\":\"x\"},\"y\":{\"field\":\"y\"}},\"id\":\"1949\",\"type\":\"Scatter\"},{\"attributes\":{\"data\":{\"x\":{\"__ndarray__\":\"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\",\"dtype\":\"float64\",\"order\":\"little\",\"shape\":[587]},\"y\":{\"__ndarray__\":\"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\",\"dtype\":\"float64\",\"order\":\"little\",\"shape\":[587]}},\"selected\":{\"id\":\"1962\"},\"selection_policy\":{\"id\":\"1961\"}},\"id\":\"1948\",\"type\":\"ColumnDataSource\"},{\"attributes\":{},\"id\":\"1957\",\"type\":\"AllLabels\"},{\"attributes\":{\"overlay\":{\"id\":\"1940\"}},\"id\":\"1936\",\"type\":\"BoxZoomTool\"},{\"attributes\":{\"source\":{\"id\":\"1948\"}},\"id\":\"1953\",\"type\":\"CDSView\"},{\"attributes\":{},\"id\":\"1959\",\"type\":\"BasicTickFormatter\"},{\"attributes\":{\"bottom_units\":\"screen\",\"coordinates\":null,\"fill_alpha\":0.5,\"fill_color\":\"lightgrey\",\"group\":null,\"left_units\":\"screen\",\"level\":\"overlay\",\"line_alpha\":1.0,\"line_color\":\"black\",\"line_dash\":[4,4],\"line_width\":2,\"right_units\":\"screen\",\"syncable\":false,\"top_units\":\"screen\"},\"id\":\"1940\",\"type\":\"BoxAnnotation\"},{\"attributes\":{},\"id\":\"1939\",\"type\":\"HelpTool\"},{\"attributes\":{\"tools\":[{\"id\":\"1934\"},{\"id\":\"1935\"},{\"id\":\"1936\"},{\"id\":\"1937\"},{\"id\":\"1938\"},{\"id\":\"1939\"}]},\"id\":\"1941\",\"type\":\"Toolbar\"}],\"root_ids\":[\"1915\"]},\"title\":\"Bokeh Application\",\"version\":\"2.4.1\"}};\n",
       "  const render_items = [{\"docid\":\"7e9f0116-028e-42cb-83ef-7393501ee950\",\"root_ids\":[\"1915\"],\"roots\":{\"1915\":\"681d3c62-d004-4dce-a8ac-0825232180a6\"}}];\n",
       "  root.Bokeh.embed.embed_items_notebook(docs_json, render_items);\n",
       "\n",
       "  }\n",
       "  if (root.Bokeh !== undefined) {\n",
       "    embed_document(root);\n",
       "  } else {\n",
       "    let attempts = 0;\n",
       "    const timer = setInterval(function(root) {\n",
       "      if (root.Bokeh !== undefined) {\n",
       "        clearInterval(timer);\n",
       "        embed_document(root);\n",
       "      } else {\n",
       "        attempts++;\n",
       "        if (attempts > 100) {\n",
       "          clearInterval(timer);\n",
       "          console.log(\"Bokeh: ERROR: Unable to run BokehJS code because BokehJS library is missing\");\n",
       "        }\n",
       "      }\n",
       "    }, 10, root)\n",
       "  }\n",
       "})(window);"
      ],
      "application/vnd.bokehjs_exec.v0+json": ""
     },
     "metadata": {
      "application/vnd.bokehjs_exec.v0+json": {
       "id": "1915"
      }
     },
     "output_type": "display_data"
    }
   ],
   "source": [
    "# Plotting the residuals \n",
    "\n",
    "qr_residuals = y_train - qr_quadratic_fit\n",
    "p = figure(plot_width=800, plot_height=600, title = \"Residuals for Quadratic Model\")\n",
    "p.scatter(X_train, qr_residuals ,size=2, line_color=\"navy\", fill_color=\"blue\", fill_alpha=0.5, legend_label =\"Residuals\")\n",
    "\n",
    "p.yaxis.axis_label ='Residual'\n",
    "p.legend.location = \"top_right\"\n",
    "show(p)"
   ]
  },
  {
   "cell_type": "markdown",
   "metadata": {},
   "source": [
    "This time the residuals are scattered more randomly than previously around zero which indicates there isn't a systematic problem with the model."
   ]
  },
  {
   "cell_type": "code",
   "execution_count": 32,
   "metadata": {},
   "outputs": [
    {
     "name": "stdout",
     "output_type": "stream",
     "text": [
      "The RMSE on test data is 2.501332219489292\n",
      "The MAPE on test data is 0.5320319129739824\n"
     ]
    }
   ],
   "source": [
    "# Calculating the prediction errors RMSE and MAPE\n",
    "\n",
    "rmse_quadratic = (mean_squared_error(y_test, qr_predictions, squared=False))\n",
    "print(\"The RMSE on test data is \" + str(rmse_quadratic))\n",
    "\n",
    "mape_quadratic = mean_absolute_percentage_error(y_test, qr_predictions)\n",
    "print(\"The MAPE on test data is \" + str(mape_quadratic*100)) # as a percentage"
   ]
  },
  {
   "cell_type": "markdown",
   "metadata": {},
   "source": [
    "Now, fit the data to a cubic model $F_3(t) \\sim \\gamma _0 + \\gamma _1 t + \\gamma _2 t^2 + \\gamma _3 t^3$.\n",
    "\n",
    "<b> What are the values of $\\hat\\gamma_0$, $\\hat\\gamma_1$, $\\hat\\gamma_2$ and $\\hat\\gamma_3$?</b>"
   ]
  },
  {
   "cell_type": "code",
   "execution_count": 33,
   "metadata": {},
   "outputs": [
    {
     "data": {
      "text/plain": [
       "Pipeline(steps=[('polynomialfeatures', PolynomialFeatures(degree=3)),\n",
       "                ('linearregression', LinearRegression())])"
      ]
     },
     "execution_count": 33,
     "metadata": {},
     "output_type": "execute_result"
    }
   ],
   "source": [
    "# Fitting cubic model\n",
    "\n",
    "cr = make_pipeline(PolynomialFeatures(3),LinearRegression())\n",
    "cr.fit(np.array(X_train).reshape(-1, 1), y_train)"
   ]
  },
  {
   "cell_type": "code",
   "execution_count": 34,
   "metadata": {},
   "outputs": [
    {
     "name": "stdout",
     "output_type": "stream",
     "text": [
      "The cubic model F(t) = -6.847418831031214e-08*t^3 + 0.00014544451047641054*t^2 + 0.052207984670826116*t + 314.882424255501\n"
     ]
    }
   ],
   "source": [
    "# Cubic model coefficients\n",
    "\n",
    "cr_coefficients = [cr.named_steps.linearregression.coef_[-1], cr.named_steps.linearregression.coef_[-2], cr.named_steps.linearregression.coef_[-3], cr.named_steps.linearregression.intercept_]\n",
    "print(\"The cubic model F(t) = \" +str(cr_coefficients[0])+\"*t^3 + \" +str(cr_coefficients[1])+\"*t^2 + \"+str(cr_coefficients[2])+\"*t + \" + str(cr_coefficients[3])+\"\")"
   ]
  },
  {
   "cell_type": "code",
   "execution_count": 35,
   "metadata": {},
   "outputs": [
    {
     "data": {
      "text/html": [
       "\n",
       "\n",
       "\n",
       "\n",
       "\n",
       "\n",
       "  <div class=\"bk-root\" id=\"a13c8328-4c43-4e41-a692-6ca09433546b\" data-root-id=\"2089\"></div>\n"
      ]
     },
     "metadata": {},
     "output_type": "display_data"
    },
    {
     "data": {
      "application/javascript": [
       "(function(root) {\n",
       "  function embed_document(root) {\n",
       "    \n",
       "  const docs_json = {\"d8f53d7d-b754-4b25-9d46-033b25ef4696\":{\"defs\":[],\"roots\":{\"references\":[{\"attributes\":{\"below\":[{\"id\":\"2100\"}],\"center\":[{\"id\":\"2103\"},{\"id\":\"2107\"},{\"id\":\"2138\"}],\"left\":[{\"id\":\"2104\"}],\"renderers\":[{\"id\":\"2126\"},{\"id\":\"2144\"}],\"title\":{\"id\":\"2090\"},\"toolbar\":{\"id\":\"2115\"},\"width\":800,\"x_range\":{\"id\":\"2092\"},\"x_scale\":{\"id\":\"2096\"},\"y_range\":{\"id\":\"2094\"},\"y_scale\":{\"id\":\"2098\"}},\"id\":\"2089\",\"subtype\":\"Figure\",\"type\":\"Plot\"},{\"attributes\":{},\"id\":\"2113\",\"type\":\"HelpTool\"},{\"attributes\":{\"fill_alpha\":{\"value\":0.1},\"fill_color\":{\"value\":\"orange\"},\"hatch_alpha\":{\"value\":0.1},\"line_alpha\":{\"value\":0.1},\"line_color\":{\"value\":\"navy\"},\"size\":{\"value\":2},\"x\":{\"field\":\"x\"},\"y\":{\"field\":\"y\"}},\"id\":\"2124\",\"type\":\"Scatter\"},{\"attributes\":{\"label\":{\"value\":\"Original Data\"},\"renderers\":[{\"id\":\"2126\"}]},\"id\":\"2139\",\"type\":\"LegendItem\"},{\"attributes\":{},\"id\":\"2109\",\"type\":\"WheelZoomTool\"},{\"attributes\":{\"coordinates\":null,\"group\":null,\"items\":[{\"id\":\"2139\"},{\"id\":\"2158\"}],\"location\":\"bottom_right\"},\"id\":\"2138\",\"type\":\"Legend\"},{\"attributes\":{},\"id\":\"2108\",\"type\":\"PanTool\"},{\"attributes\":{\"overlay\":{\"id\":\"2114\"}},\"id\":\"2110\",\"type\":\"BoxZoomTool\"},{\"attributes\":{},\"id\":\"2111\",\"type\":\"SaveTool\"},{\"attributes\":{},\"id\":\"2112\",\"type\":\"ResetTool\"},{\"attributes\":{\"axis_label\":\"CO2 Concentration\",\"coordinates\":null,\"formatter\":{\"id\":\"2130\"},\"group\":null,\"major_label_policy\":{\"id\":\"2131\"},\"ticker\":{\"id\":\"2105\"}},\"id\":\"2104\",\"type\":\"LinearAxis\"},{\"attributes\":{},\"id\":\"2135\",\"type\":\"UnionRenderers\"},{\"attributes\":{\"coordinates\":null,\"data_source\":{\"id\":\"2122\"},\"glyph\":{\"id\":\"2123\"},\"group\":null,\"hover_glyph\":null,\"muted_glyph\":{\"id\":\"2125\"},\"nonselection_glyph\":{\"id\":\"2124\"},\"view\":{\"id\":\"2127\"}},\"id\":\"2126\",\"type\":\"GlyphRenderer\"},{\"attributes\":{},\"id\":\"2105\",\"type\":\"BasicTicker\"},{\"attributes\":{},\"id\":\"2136\",\"type\":\"Selection\"},{\"attributes\":{\"label\":{\"value\":\"Cubic Fit\"},\"renderers\":[{\"id\":\"2144\"}]},\"id\":\"2158\",\"type\":\"LegendItem\"},{\"attributes\":{\"line_alpha\":0.1,\"line_color\":\"orange\",\"line_width\":2.5,\"x\":{\"field\":\"x\"},\"y\":{\"field\":\"y\"}},\"id\":\"2142\",\"type\":\"Line\"},{\"attributes\":{\"coordinates\":null,\"data_source\":{\"id\":\"2140\"},\"glyph\":{\"id\":\"2141\"},\"group\":null,\"hover_glyph\":null,\"muted_glyph\":{\"id\":\"2143\"},\"nonselection_glyph\":{\"id\":\"2142\"},\"view\":{\"id\":\"2145\"}},\"id\":\"2144\",\"type\":\"GlyphRenderer\"},{\"attributes\":{\"line_alpha\":0.2,\"line_color\":\"orange\",\"line_width\":2.5,\"x\":{\"field\":\"x\"},\"y\":{\"field\":\"y\"}},\"id\":\"2143\",\"type\":\"Line\"},{\"attributes\":{\"line_color\":\"orange\",\"line_width\":2.5,\"x\":{\"field\":\"x\"},\"y\":{\"field\":\"y\"}},\"id\":\"2141\",\"type\":\"Line\"},{\"attributes\":{\"fill_alpha\":{\"value\":0.5},\"fill_color\":{\"value\":\"orange\"},\"line_color\":{\"value\":\"navy\"},\"size\":{\"value\":2},\"x\":{\"field\":\"x\"},\"y\":{\"field\":\"y\"}},\"id\":\"2123\",\"type\":\"Scatter\"},{\"attributes\":{\"source\":{\"id\":\"2140\"}},\"id\":\"2145\",\"type\":\"CDSView\"},{\"attributes\":{},\"id\":\"2134\",\"type\":\"AllLabels\"},{\"attributes\":{\"data\":{\"x\":{\"__ndarray__\":\"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\",\"dtype\":\"float64\",\"order\":\"little\",\"shape\":[587]},\"y\":{\"__ndarray__\":\"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\",\"dtype\":\"float64\",\"order\":\"little\",\"shape\":[587]}},\"selected\":{\"id\":\"2136\"},\"selection_policy\":{\"id\":\"2135\"}},\"id\":\"2122\",\"type\":\"ColumnDataSource\"},{\"attributes\":{},\"id\":\"2092\",\"type\":\"DataRange1d\"},{\"attributes\":{\"ticks\":[0,200,400,600]},\"id\":\"2159\",\"type\":\"FixedTicker\"},{\"attributes\":{\"data\":{\"x\":{\"__ndarray__\":\"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\",\"dtype\":\"float64\",\"order\":\"little\",\"shape\":[587]},\"y\":{\"__ndarray__\":\"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\",\"dtype\":\"float64\",\"order\":\"little\",\"shape\":[587]}},\"selected\":{\"id\":\"2156\"},\"selection_policy\":{\"id\":\"2155\"}},\"id\":\"2140\",\"type\":\"ColumnDataSource\"},{\"attributes\":{\"source\":{\"id\":\"2122\"}},\"id\":\"2127\",\"type\":\"CDSView\"},{\"attributes\":{},\"id\":\"2130\",\"type\":\"BasicTickFormatter\"},{\"attributes\":{},\"id\":\"2094\",\"type\":\"DataRange1d\"},{\"attributes\":{},\"id\":\"2156\",\"type\":\"Selection\"},{\"attributes\":{\"axis\":{\"id\":\"2100\"},\"coordinates\":null,\"group\":null,\"ticker\":null},\"id\":\"2103\",\"type\":\"Grid\"},{\"attributes\":{\"fill_alpha\":{\"value\":0.2},\"fill_color\":{\"value\":\"orange\"},\"hatch_alpha\":{\"value\":0.2},\"line_alpha\":{\"value\":0.2},\"line_color\":{\"value\":\"navy\"},\"size\":{\"value\":2},\"x\":{\"field\":\"x\"},\"y\":{\"field\":\"y\"}},\"id\":\"2125\",\"type\":\"Scatter\"},{\"attributes\":{},\"id\":\"2131\",\"type\":\"AllLabels\"},{\"attributes\":{\"bottom_units\":\"screen\",\"coordinates\":null,\"fill_alpha\":0.5,\"fill_color\":\"lightgrey\",\"group\":null,\"left_units\":\"screen\",\"level\":\"overlay\",\"line_alpha\":1.0,\"line_color\":\"black\",\"line_dash\":[4,4],\"line_width\":2,\"right_units\":\"screen\",\"syncable\":false,\"top_units\":\"screen\"},\"id\":\"2114\",\"type\":\"BoxAnnotation\"},{\"attributes\":{},\"id\":\"2098\",\"type\":\"LinearScale\"},{\"attributes\":{\"tools\":[{\"id\":\"2108\"},{\"id\":\"2109\"},{\"id\":\"2110\"},{\"id\":\"2111\"},{\"id\":\"2112\"},{\"id\":\"2113\"}]},\"id\":\"2115\",\"type\":\"Toolbar\"},{\"attributes\":{},\"id\":\"2133\",\"type\":\"BasicTickFormatter\"},{\"attributes\":{\"coordinates\":null,\"group\":null,\"text\":\"Modeling with Cubic Model\"},\"id\":\"2090\",\"type\":\"Title\"},{\"attributes\":{},\"id\":\"2155\",\"type\":\"UnionRenderers\"},{\"attributes\":{},\"id\":\"2096\",\"type\":\"LinearScale\"},{\"attributes\":{\"axis\":{\"id\":\"2104\"},\"coordinates\":null,\"dimension\":1,\"group\":null,\"ticker\":null},\"id\":\"2107\",\"type\":\"Grid\"},{\"attributes\":{\"axis_label\":\"Time\",\"coordinates\":null,\"formatter\":{\"id\":\"2133\"},\"group\":null,\"major_label_overrides\":{\"0\":\"1958\",\"200\":\"1976\",\"400\":\"1992\",\"600\":\"2008\"},\"major_label_policy\":{\"id\":\"2134\"},\"ticker\":{\"id\":\"2159\"}},\"id\":\"2100\",\"type\":\"LinearAxis\"}],\"root_ids\":[\"2089\"]},\"title\":\"Bokeh Application\",\"version\":\"2.4.1\"}};\n",
       "  const render_items = [{\"docid\":\"d8f53d7d-b754-4b25-9d46-033b25ef4696\",\"root_ids\":[\"2089\"],\"roots\":{\"2089\":\"a13c8328-4c43-4e41-a692-6ca09433546b\"}}];\n",
       "  root.Bokeh.embed.embed_items_notebook(docs_json, render_items);\n",
       "\n",
       "  }\n",
       "  if (root.Bokeh !== undefined) {\n",
       "    embed_document(root);\n",
       "  } else {\n",
       "    let attempts = 0;\n",
       "    const timer = setInterval(function(root) {\n",
       "      if (root.Bokeh !== undefined) {\n",
       "        clearInterval(timer);\n",
       "        embed_document(root);\n",
       "      } else {\n",
       "        attempts++;\n",
       "        if (attempts > 100) {\n",
       "          clearInterval(timer);\n",
       "          console.log(\"Bokeh: ERROR: Unable to run BokehJS code because BokehJS library is missing\");\n",
       "        }\n",
       "      }\n",
       "    }, 10, root)\n",
       "  }\n",
       "})(window);"
      ],
      "application/vnd.bokehjs_exec.v0+json": ""
     },
     "metadata": {
      "application/vnd.bokehjs_exec.v0+json": {
       "id": "2089"
      }
     },
     "output_type": "display_data"
    }
   ],
   "source": [
    "# Plotting cubic fit of the model\n",
    "\n",
    "cr_cubic_fit = qr.predict(np.array(X_train).reshape(-1, 1))\n",
    "\n",
    "p = figure(plot_width=800, plot_height=600, title = \"Modeling with Cubic Model\")\n",
    "p.scatter(X_train, y_train, size=2, line_color=\"navy\", fill_color=\"orange\", fill_alpha=0.5, legend_label =\"Original Data\")\n",
    "p.line(X_train, cr_cubic_fit, line_color=\"orange\", line_width=2.5, legend_label =\"Cubic Fit\")\n",
    "p.xaxis.ticker = [0, 200, 400, 600]\n",
    "p.xaxis.major_label_overrides = {0: '1958', 200: '1976', 400: '1992', 600: '2008'}\n",
    "p.xaxis.axis_label ='Time'\n",
    "p.yaxis.axis_label ='CO2 Concentration'\n",
    "p.legend.location = \"bottom_right\"\n",
    "show(p)"
   ]
  },
  {
   "cell_type": "markdown",
   "metadata": {},
   "source": [
    "The fit seems to be quite good but we need to compare the residuals and the errors the model makes while predicting to the previous models in order to see which one performs the best."
   ]
  },
  {
   "cell_type": "markdown",
   "metadata": {},
   "source": [
    "<b> Plot the residual error $R_{cubic}(t)=C(t)-F_3(t)$. Report the root mean squared prediction error $\\text {RMSE}$ and the mean absolute percentage error $\\text {MAPE}$ with respect to the test set for this model.</b>"
   ]
  },
  {
   "cell_type": "code",
   "execution_count": 36,
   "metadata": {},
   "outputs": [
    {
     "data": {
      "text/html": [
       "\n",
       "\n",
       "\n",
       "\n",
       "\n",
       "\n",
       "  <div class=\"bk-root\" id=\"2b950985-c460-4e73-a6e6-e8c30db05fd4\" data-root-id=\"2300\"></div>\n"
      ]
     },
     "metadata": {},
     "output_type": "display_data"
    },
    {
     "data": {
      "application/javascript": [
       "(function(root) {\n",
       "  function embed_document(root) {\n",
       "    \n",
       "  const docs_json = {\"ef99b8e0-65af-4280-b625-454f6ab65ac0\":{\"defs\":[],\"roots\":{\"references\":[{\"attributes\":{\"below\":[{\"id\":\"2311\"}],\"center\":[{\"id\":\"2314\"},{\"id\":\"2318\"},{\"id\":\"2349\"}],\"left\":[{\"id\":\"2315\"}],\"renderers\":[{\"id\":\"2337\"},{\"id\":\"2355\"}],\"title\":{\"id\":\"2301\"},\"toolbar\":{\"id\":\"2326\"},\"width\":800,\"x_range\":{\"id\":\"2303\"},\"x_scale\":{\"id\":\"2307\"},\"y_range\":{\"id\":\"2305\"},\"y_scale\":{\"id\":\"2309\"}},\"id\":\"2300\",\"subtype\":\"Figure\",\"type\":\"Plot\"},{\"attributes\":{},\"id\":\"2344\",\"type\":\"BasicTickFormatter\"},{\"attributes\":{\"axis\":{\"id\":\"2311\"},\"coordinates\":null,\"group\":null,\"ticker\":null},\"id\":\"2314\",\"type\":\"Grid\"},{\"attributes\":{},\"id\":\"2309\",\"type\":\"LinearScale\"},{\"attributes\":{},\"id\":\"2345\",\"type\":\"AllLabels\"},{\"attributes\":{\"axis_label\":\"CO2 Concentration\",\"coordinates\":null,\"formatter\":{\"id\":\"2341\"},\"group\":null,\"major_label_policy\":{\"id\":\"2342\"},\"ticker\":{\"id\":\"2316\"}},\"id\":\"2315\",\"type\":\"LinearAxis\"},{\"attributes\":{},\"id\":\"2324\",\"type\":\"HelpTool\"},{\"attributes\":{\"label\":{\"value\":\"Test Data\"},\"renderers\":[{\"id\":\"2337\"}]},\"id\":\"2350\",\"type\":\"LegendItem\"},{\"attributes\":{},\"id\":\"2366\",\"type\":\"UnionRenderers\"},{\"attributes\":{\"axis\":{\"id\":\"2315\"},\"coordinates\":null,\"dimension\":1,\"group\":null,\"ticker\":null},\"id\":\"2318\",\"type\":\"Grid\"},{\"attributes\":{},\"id\":\"2316\",\"type\":\"BasicTicker\"},{\"attributes\":{\"fill_alpha\":{\"value\":0.1},\"fill_color\":{\"value\":\"orange\"},\"hatch_alpha\":{\"value\":0.1},\"line_alpha\":{\"value\":0.1},\"line_color\":{\"value\":\"navy\"},\"size\":{\"value\":2},\"x\":{\"field\":\"x\"},\"y\":{\"field\":\"y\"}},\"id\":\"2335\",\"type\":\"Scatter\"},{\"attributes\":{\"tools\":[{\"id\":\"2319\"},{\"id\":\"2320\"},{\"id\":\"2321\"},{\"id\":\"2322\"},{\"id\":\"2323\"},{\"id\":\"2324\"}]},\"id\":\"2326\",\"type\":\"Toolbar\"},{\"attributes\":{},\"id\":\"2320\",\"type\":\"WheelZoomTool\"},{\"attributes\":{},\"id\":\"2319\",\"type\":\"PanTool\"},{\"attributes\":{},\"id\":\"2307\",\"type\":\"LinearScale\"},{\"attributes\":{\"source\":{\"id\":\"2333\"}},\"id\":\"2338\",\"type\":\"CDSView\"},{\"attributes\":{\"overlay\":{\"id\":\"2325\"}},\"id\":\"2321\",\"type\":\"BoxZoomTool\"},{\"attributes\":{},\"id\":\"2346\",\"type\":\"UnionRenderers\"},{\"attributes\":{},\"id\":\"2322\",\"type\":\"SaveTool\"},{\"attributes\":{},\"id\":\"2305\",\"type\":\"DataRange1d\"},{\"attributes\":{},\"id\":\"2323\",\"type\":\"ResetTool\"},{\"attributes\":{},\"id\":\"2347\",\"type\":\"Selection\"},{\"attributes\":{\"axis_label\":\"Time\",\"coordinates\":null,\"formatter\":{\"id\":\"2344\"},\"group\":null,\"major_label_overrides\":{\"620\":\"2010\",\"660\":\"2013\",\"700\":\"2016\",\"740\":\"2019\"},\"major_label_policy\":{\"id\":\"2345\"},\"ticker\":{\"id\":\"2370\"}},\"id\":\"2311\",\"type\":\"LinearAxis\"},{\"attributes\":{\"bottom_units\":\"screen\",\"coordinates\":null,\"fill_alpha\":0.5,\"fill_color\":\"lightgrey\",\"group\":null,\"left_units\":\"screen\",\"level\":\"overlay\",\"line_alpha\":1.0,\"line_color\":\"black\",\"line_dash\":[4,4],\"line_width\":2,\"right_units\":\"screen\",\"syncable\":false,\"top_units\":\"screen\"},\"id\":\"2325\",\"type\":\"BoxAnnotation\"},{\"attributes\":{\"coordinates\":null,\"data_source\":{\"id\":\"2333\"},\"glyph\":{\"id\":\"2334\"},\"group\":null,\"hover_glyph\":null,\"muted_glyph\":{\"id\":\"2336\"},\"nonselection_glyph\":{\"id\":\"2335\"},\"view\":{\"id\":\"2338\"}},\"id\":\"2337\",\"type\":\"GlyphRenderer\"},{\"attributes\":{\"label\":{\"value\":\"Cubic Model Predictions\"},\"renderers\":[{\"id\":\"2355\"}]},\"id\":\"2369\",\"type\":\"LegendItem\"},{\"attributes\":{\"line_alpha\":0.1,\"line_color\":\"orange\",\"line_width\":2.5,\"x\":{\"field\":\"x\"},\"y\":{\"field\":\"y\"}},\"id\":\"2353\",\"type\":\"Line\"},{\"attributes\":{\"fill_alpha\":{\"value\":0.5},\"fill_color\":{\"value\":\"orange\"},\"line_color\":{\"value\":\"navy\"},\"size\":{\"value\":2},\"x\":{\"field\":\"x\"},\"y\":{\"field\":\"y\"}},\"id\":\"2334\",\"type\":\"Scatter\"},{\"attributes\":{\"ticks\":[620,660,700,740]},\"id\":\"2370\",\"type\":\"FixedTicker\"},{\"attributes\":{\"line_alpha\":0.2,\"line_color\":\"orange\",\"line_width\":2.5,\"x\":{\"field\":\"x\"},\"y\":{\"field\":\"y\"}},\"id\":\"2354\",\"type\":\"Line\"},{\"attributes\":{\"data\":{\"x\":{\"__ndarray__\":\"VVVVVVWQgkBVVVVVVZiCQFVVVVVVoIJAVVVVVVWogkBVVVVVVbCCQFVVVVVVuIJAVVVVVVXAgkBVVVVVVciCQFVVVVVV0IJAVVVVVVXYgkBVVVVVVeCCQFVVVVVV6IJAVVVVVVXwgkBVVVVVVfiCQFVVVVVVAINAVVVVVVUIg0BVVVVVVRCDQFVVVVVVGINAVVVVVVUgg0BVVVVVVSiDQFVVVVVVMINAVVVVVVU4g0BVVVVVVUCDQFVVVVVVSINAVVVVVVVQg0BVVVVVVViDQFVVVVVVYINAVVVVVVVog0BVVVVVVXCDQFVVVVVVeINAVVVVVVWAg0BVVVVVVYiDQFVVVVVVkINAVVVVVVWYg0BVVVVVVaCDQFVVVVVVqINAVVVVVVWwg0BVVVVVVbiDQFVVVVVVwINAVVVVVVXIg0BVVVVVVdCDQFVVVVVV2INAVVVVVVXgg0BVVVVVVeiDQFVVVVVV8INAVVVVVVX4g0BVVVVVVQCEQFVVVVVVCIRAVVVVVVUQhEBVVVVVVRiEQFVVVVVVIIRAVVVVVVUohEBVVVVVVTCEQFVVVVVVOIRAVVVVVVVAhEBVVVVVVUiEQFVVVVVVUIRAVVVVVVVYhEBVVVVVVWCEQFVVVVVVaIRAVVVVVVVwhEBVVVVVVXiEQFVVVVVVgIRAVVVVVVWIhEBVVVVVVZCEQFVVVVVVmIRAVVVVVVWghEBVVVVVVaiEQFVVVVVVsIRAVVVVVVW4hEBVVVVVVcCEQFVVVVVVyIRAVVVVVVXQhEBVVVVVVdiEQFVVVVVV4IRAVVVVVVXohEBVVVVVVfCEQFVVVVVV+IRAVVVVVVUAhUBVVVVVVQiFQFVVVVVVEIVAVVVVVVUYhUBVVVVVVSCFQFVVVVVVKIVAVVVVVVUwhUBVVVVVVTiFQFVVVVVVQIVAVVVVVVVIhUBVVVVVVVCFQFVVVVVVWIVAVVVVVVVghUBVVVVVVWiFQFVVVVVVcIVAVVVVVVV4hUBVVVVVVYCFQFVVVVVViIVAVVVVVVWQhUBVVVVVVZiFQFVVVVVVoIVAVVVVVVWohUBVVVVVVbCFQFVVVVVVuIVAVVVVVVXAhUBVVVVVVciFQFVVVVVV0IVAVVVVVVXYhUBVVVVVVeCFQFVVVVVV6IVAVVVVVVXwhUBVVVVVVfiFQFVVVVVVAIZAVVVVVVUIhkBVVVVVVRCGQFVVVVVVGIZAVVVVVVUghkBVVVVVVSiGQFVVVVVVMIZAVVVVVVU4hkBVVVVVVUCGQFVVVVVVSIZAVVVVVVVQhkBVVVVVVViGQFVVVVVVYIZAVVVVVVVohkBVVVVVVXCGQFVVVVVVeIZAVVVVVVWAhkBVVVVVVYiGQFVVVVVVkIZAVVVVVVWYhkBVVVVVVaCGQFVVVVVVqIZAVVVVVVWwhkBVVVVVVbiGQFVVVVVVwIZAVVVVVVXIhkBVVVVVVdCGQFVVVVVV2IZAVVVVVVXghkBVVVVVVeiGQFVVVVVV8IZAVVVVVVX4hkBVVVVVVQCHQFVVVVVVCIdAVVVVVVUQh0BVVVVVVRiHQFVVVVVVIIdA\",\"dtype\":\"float64\",\"order\":\"little\",\"shape\":[147]},\"y\":{\"__ndarray__\":\"EuRsPuDtd0Aa7yINUfB3QPh+hQzC8ndAnEomPDP1d0D2CJebpPd3QPdwaSoW+ndAjjkv6If8d0CqGXrU+f53QD7I2+5rAXhAN/zlNt4DeECHbCqsUAZ4QB7QOk7DCHhA6t2oHDYLeEDdTAYXqQ14QOfT5DwcEHhA9ynWjY8SeED+BWwJAxV4QOweOK92F3hAsCvMfuoZeEA647l3Xhx4QHz8kpnSHnhAZC7p40YheEDkL05WuyN4QOq3U/AvJnhAZn2LsaQoeEBKN4eZGSt4QIac2KeOLXhACGQR3AMweEDARMM1eTJ4QKH1f7TuNHhAmC3ZV2Q3eECWo2Af2jl4QIwOqApQPHhAaiVBGcY+eEAen71KPEF4QJkyr56yQ3hAzJanFClGeECngjisn0h4QBmt82QWS3hAEs1qPo1NeECEmS84BFB4QFzJ01F7UnhAjBPpivJUeEAELwHjaVd4QLTSrVnhWXhAi7WA7lhceEB6jguh0F54QHIU4HBIYXhAYP6PXcBjeEA3A61mOGZ4QObZyIuwaHhAXDl1zChreECM2EMooW14QGJuxp4ZcHhA0bGOL5JyeEDIWS7aCnV4QDgdN56Dd3hAELM6e/x5eEA/0spwdXx4QLgxeX7ufnhAaIjXo2eBeEBAjXfg4IN4QDL36jNahnhALH3DndOIeEAe1pIdTYt4QPm46rLGjXhArNxcXUCQeEAo+HocupJ4QF3C1u8zlXhAO/IB162XeECxPo7RJ5p4QLBeDd+hnHhAKAkR/xufeEAI9SoxlqF4QELZ7HQQpHhAxGzoyYqmeECAZq8vBal4QGV906V/q3hAYmjmK/qteEBq3nnBdLB4QGqWH2bvsnhAUkdpGWq1eEAVqOja5Ld4QKBvL6pfunhA5lTPhtq8eEDUDlpwVb94QFxUYWbQwXhAbdx2aEvEeED3XSx2xsZ4QOyPE49ByXhAOim+srzLeEDQ4L3gN854QKJtpBiz0HhAnIYDWi7TeECw4mykqdV4QM44cvck2HhA5j+lUqDaeEDorpe1G914QMQ82x+X33hAaaABkRLieEDIkJwIjuR4QNLEPYYJ53hAdvN2CYXpeECj09mRAOx4QEoc+B587nhAXIRjsPfweEDIwq1Fc/N4QH+OaN7u9XhAb54lemr4eECKqXYY5vp4QL9m7bhh/XhA/4wbW93/eEA505L+WAJ5QF3w5KLUBHlAXJujR1AHeUAmi2Dsywl5QKp2rZBHDHlA2RQcNMMOeUCiHD7WPhF5QPZEpXa6E3lAxkTjFDYWeUD/0omwsRh5QJSmKkktG3lAc3ZX3qgdeUCO+aFvJCB5QNPmm/yfInlAM/XWhBsleUCe2+QHlyd5QAVRV4USKnlAVgzA/I0seUCDxLBtCS95QHswu9eEMXlALgdxOgA0eUCM/2OVezZ5QIbQJej2OHlACzFIMnI7eUAM2Fxz7T15QHh89apoQHlAP9Wj2ONCeUBSmfn7XkV5QKB/iBTaR3lAGj/iIVVKeUCwjpgj0Ex5QFElPRlLT3lA7rlhAsZReUB3A5jeQFR5QNy4ca27VnlA\",\"dtype\":\"float64\",\"order\":\"little\",\"shape\":[147]}},\"selected\":{\"id\":\"2367\"},\"selection_policy\":{\"id\":\"2366\"}},\"id\":\"2351\",\"type\":\"ColumnDataSource\"},{\"attributes\":{},\"id\":\"2303\",\"type\":\"DataRange1d\"},{\"attributes\":{\"data\":{\"x\":{\"__ndarray__\":\"VVVVVVWQgkBVVVVVVZiCQFVVVVVVoIJAVVVVVVWogkBVVVVVVbCCQFVVVVVVuIJAVVVVVVXAgkBVVVVVVciCQFVVVVVV0IJAVVVVVVXYgkBVVVVVVeCCQFVVVVVV6IJAVVVVVVXwgkBVVVVVVfiCQFVVVVVVAINAVVVVVVUIg0BVVVVVVRCDQFVVVVVVGINAVVVVVVUgg0BVVVVVVSiDQFVVVVVVMINAVVVVVVU4g0BVVVVVVUCDQFVVVVVVSINAVVVVVVVQg0BVVVVVVViDQFVVVVVVYINAVVVVVVVog0BVVVVVVXCDQFVVVVVVeINAVVVVVVWAg0BVVVVVVYiDQFVVVVVVkINAVVVVVVWYg0BVVVVVVaCDQFVVVVVVqINAVVVVVVWwg0BVVVVVVbiDQFVVVVVVwINAVVVVVVXIg0BVVVVVVdCDQFVVVVVV2INAVVVVVVXgg0BVVVVVVeiDQFVVVVVV8INAVVVVVVX4g0BVVVVVVQCEQFVVVVVVCIRAVVVVVVUQhEBVVVVVVRiEQFVVVVVVIIRAVVVVVVUohEBVVVVVVTCEQFVVVVVVOIRAVVVVVVVAhEBVVVVVVUiEQFVVVVVVUIRAVVVVVVVYhEBVVVVVVWCEQFVVVVVVaIRAVVVVVVVwhEBVVVVVVXiEQFVVVVVVgIRAVVVVVVWIhEBVVVVVVZCEQFVVVVVVmIRAVVVVVVWghEBVVVVVVaiEQFVVVVVVsIRAVVVVVVW4hEBVVVVVVcCEQFVVVVVVyIRAVVVVVVXQhEBVVVVVVdiEQFVVVVVV4IRAVVVVVVXohEBVVVVVVfCEQFVVVVVV+IRAVVVVVVUAhUBVVVVVVQiFQFVVVVVVEIVAVVVVVVUYhUBVVVVVVSCFQFVVVVVVKIVAVVVVVVUwhUBVVVVVVTiFQFVVVVVVQIVAVVVVVVVIhUBVVVVVVVCFQFVVVVVVWIVAVVVVVVVghUBVVVVVVWiFQFVVVVVVcIVAVVVVVVV4hUBVVVVVVYCFQFVVVVVViIVAVVVVVVWQhUBVVVVVVZiFQFVVVVVVoIVAVVVVVVWohUBVVVVVVbCFQFVVVVVVuIVAVVVVVVXAhUBVVVVVVciFQFVVVVVV0IVAVVVVVVXYhUBVVVVVVeCFQFVVVVVV6IVAVVVVVVXwhUBVVVVVVfiFQFVVVVVVAIZAVVVVVVUIhkBVVVVVVRCGQFVVVVVVGIZAVVVVVVUghkBVVVVVVSiGQFVVVVVVMIZAVVVVVVU4hkBVVVVVVUCGQFVVVVVVSIZAVVVVVVVQhkBVVVVVVViGQFVVVVVVYIZAVVVVVVVohkBVVVVVVXCGQFVVVVVVeIZAVVVVVVWAhkBVVVVVVYiGQFVVVVVVkIZAVVVVVVWYhkBVVVVVVaCGQFVVVVVVqIZAVVVVVVWwhkBVVVVVVbiGQFVVVVVVwIZAVVVVVVXIhkBVVVVVVdCGQFVVVVVV2IZAVVVVVVXghkBVVVVVVeiGQFVVVVVV8IZAVVVVVVX4hkBVVVVVVQCHQFVVVVVVCIdAVVVVVVUQh0BVVVVVVRiHQFVVVVVVIIdA\",\"dtype\":\"float64\",\"order\":\"little\",\"shape\":[147]},\"y\":{\"__ndarray__\":\"16NwPQoHeEA9CtejcN13QPYoXI/CzXdA9ihcj8LNd0D2KFyPwuV3QPYoXI/C+XdAhetRuB4ReEA9CtejcB14QOF6FK5HHXhAuB6F61EseEBcj8L1KEh4QM3MzMzMQHhAAAAAAAAkeEDhehSuRwF4QD0K16Nw8XdAFK5H4Xrsd0Bcj8L1KAB4QPYoXI/CEXhAZmZmZmYqeEBSuB6F6zF4QLgehetRSHhAhetRuB5ZeEAfhetRuGJ4QFK4HoXrWXhAhetRuB5BeEDhehSuRyF4QGZmZmZmCnhA4XoUrkcFeEDNzMzMzCB4QKRwPQrXN3hAzczMzMxIeECF61G4HmF4QFyPwvUocHhArkfhehSGeEDsUbgehZN4QKRwPQrXg3hA4XoUrkdleEC4HoXrUUh4QD0K16NwLXhAw/UoXI8yeEAfhetRuEp4QClcj8L1XHhAzczMzMx0eEAfhetRuH54QDMzMzMzh3hAUrgeheuVeEAUrkfheqR4QNejcD0Km3hAPQrXo3CJeECPwvUoXGN4QAAAAAAAUHhAexSuR+FOeECkcD0K12N4QM3MzMzMfHhAhetRuB6ReECamZmZmZV4QPYoXI/CpXhAexSuR+HGeEBSuB6F6814QK5H4XoUvnhAuB6F61GoeEBxPQrXo4h4QK5H4XoUcnhAXI/C9ShweEAzMzMzM494QOF6FK5HpXhA9ihcj8K5eECamZmZmc14QFyPwvUo1HhAmpmZmZnleEBI4XoUrv94QFK4HoXr7XhAUrgehevVeEDD9Shcj7Z4QArXo3A9lnhAMzMzMzObeEDXo3A9CrN4QIXrUbgezXhAH4XrUbjeeECamZmZmeF4QOxRuB6F93hA4XoUrkcVeUCuR+F6FB55QClcj8L1FHlAhetRuB7xeECPwvUoXNN4QGZmZmZmtnhAZmZmZma6eEBI4XoUrtN4QHE9Ctej7HhAmpmZmZn9eEApXI/C9QR5QFyPwvUoGHlAMzMzMzM3eUCamZmZmUF5QK5H4XoULnlA9ihcj8IZeUAAAAAAAPB4QAAAAAAA2HhAFK5H4XrkeECkcD0K1wN5QArXo3A9HnlAZmZmZmYqeUDD9Shcj0J5QJqZmZmZTXlAhetRuB55eUDD9Shcj3p5QAAAAAAAcHlAAAAAAABIeUCkcD0K1yN5QFyPwvUoEHlAAAAAAAAYeUAK16NwPTp5QM3MzMzMSHlAhetRuB5heUAK16NwPWp5QClcj8L1cHlAMzMzMzOPeUDD9Shcj555QFK4HoXrkXlAMzMzMzNzeUCkcD0K11N5QLgehetRNHlACtejcD06eUAfhetRuFJ5QAAAAAAAbHlAzczMzMyAeUA9CtejcIV5QAAAAAAAlHlAzczMzMykeUDNzMzMzLR5QK5H4XoUrnlAZmZmZmaOeUCamZmZmXF5QD0K16NwWXlApHA9CtdfeUBSuB6F64F5QEjhehSuk3lAH4XrUbiueUDD9Shcj7p5QAAAAAAAwHlAuB6F61HYeUDhehSuR+15QI/C9Shc33lAmpmZmZm9eUDhehSuR6F5QM3MzMzMiHlA\",\"dtype\":\"float64\",\"order\":\"little\",\"shape\":[147]}},\"selected\":{\"id\":\"2347\"},\"selection_policy\":{\"id\":\"2346\"}},\"id\":\"2333\",\"type\":\"ColumnDataSource\"},{\"attributes\":{\"line_color\":\"orange\",\"line_width\":2.5,\"x\":{\"field\":\"x\"},\"y\":{\"field\":\"y\"}},\"id\":\"2352\",\"type\":\"Line\"},{\"attributes\":{\"source\":{\"id\":\"2351\"}},\"id\":\"2356\",\"type\":\"CDSView\"},{\"attributes\":{},\"id\":\"2342\",\"type\":\"AllLabels\"},{\"attributes\":{\"coordinates\":null,\"group\":null,\"items\":[{\"id\":\"2350\"},{\"id\":\"2369\"}],\"location\":\"bottom_right\"},\"id\":\"2349\",\"type\":\"Legend\"},{\"attributes\":{},\"id\":\"2367\",\"type\":\"Selection\"},{\"attributes\":{},\"id\":\"2341\",\"type\":\"BasicTickFormatter\"},{\"attributes\":{\"coordinates\":null,\"group\":null,\"text\":\"Predicting with Cubic Model\"},\"id\":\"2301\",\"type\":\"Title\"},{\"attributes\":{\"coordinates\":null,\"data_source\":{\"id\":\"2351\"},\"glyph\":{\"id\":\"2352\"},\"group\":null,\"hover_glyph\":null,\"muted_glyph\":{\"id\":\"2354\"},\"nonselection_glyph\":{\"id\":\"2353\"},\"view\":{\"id\":\"2356\"}},\"id\":\"2355\",\"type\":\"GlyphRenderer\"},{\"attributes\":{\"fill_alpha\":{\"value\":0.2},\"fill_color\":{\"value\":\"orange\"},\"hatch_alpha\":{\"value\":0.2},\"line_alpha\":{\"value\":0.2},\"line_color\":{\"value\":\"navy\"},\"size\":{\"value\":2},\"x\":{\"field\":\"x\"},\"y\":{\"field\":\"y\"}},\"id\":\"2336\",\"type\":\"Scatter\"}],\"root_ids\":[\"2300\"]},\"title\":\"Bokeh Application\",\"version\":\"2.4.1\"}};\n",
       "  const render_items = [{\"docid\":\"ef99b8e0-65af-4280-b625-454f6ab65ac0\",\"root_ids\":[\"2300\"],\"roots\":{\"2300\":\"2b950985-c460-4e73-a6e6-e8c30db05fd4\"}}];\n",
       "  root.Bokeh.embed.embed_items_notebook(docs_json, render_items);\n",
       "\n",
       "  }\n",
       "  if (root.Bokeh !== undefined) {\n",
       "    embed_document(root);\n",
       "  } else {\n",
       "    let attempts = 0;\n",
       "    const timer = setInterval(function(root) {\n",
       "      if (root.Bokeh !== undefined) {\n",
       "        clearInterval(timer);\n",
       "        embed_document(root);\n",
       "      } else {\n",
       "        attempts++;\n",
       "        if (attempts > 100) {\n",
       "          clearInterval(timer);\n",
       "          console.log(\"Bokeh: ERROR: Unable to run BokehJS code because BokehJS library is missing\");\n",
       "        }\n",
       "      }\n",
       "    }, 10, root)\n",
       "  }\n",
       "})(window);"
      ],
      "application/vnd.bokehjs_exec.v0+json": ""
     },
     "metadata": {
      "application/vnd.bokehjs_exec.v0+json": {
       "id": "2300"
      }
     },
     "output_type": "display_data"
    }
   ],
   "source": [
    "# Predicting with test data\n",
    "\n",
    "cr_predictions = cr.predict(np.array(X_test).reshape(-1,1))\n",
    "\n",
    "p = figure(plot_width=800, plot_height=600, title = \"Predicting with Cubic Model\")\n",
    "p.scatter(X_test, y_test, size=2, line_color=\"navy\", fill_color=\"orange\", fill_alpha=0.5, legend_label =\"Test Data\")\n",
    "p.line(X_test, cr_predictions, line_color=\"orange\", line_width=2.5, legend_label =\"Cubic Model Predictions\")\n",
    "p.xaxis.ticker = [620, 660, 700, 740]\n",
    "p.xaxis.major_label_overrides = {620: '2010', 660: '2013', 700: '2016', 740: '2019'}\n",
    "p.xaxis.axis_label ='Time'\n",
    "p.yaxis.axis_label ='CO2 Concentration'\n",
    "p.legend.location = \"bottom_right\"\n",
    "show(p)"
   ]
  },
  {
   "cell_type": "markdown",
   "metadata": {},
   "source": [
    "Although the model fit quite well with the training data once we try to predict we notice that the model does a worse job than the previous quadratic version."
   ]
  },
  {
   "cell_type": "code",
   "execution_count": 37,
   "metadata": {},
   "outputs": [
    {
     "data": {
      "text/html": [
       "\n",
       "\n",
       "\n",
       "\n",
       "\n",
       "\n",
       "  <div class=\"bk-root\" id=\"e8c4e696-0b24-4b56-8271-0b517a86c38b\" data-root-id=\"2522\"></div>\n"
      ]
     },
     "metadata": {},
     "output_type": "display_data"
    },
    {
     "data": {
      "application/javascript": [
       "(function(root) {\n",
       "  function embed_document(root) {\n",
       "    \n",
       "  const docs_json = {\"51fe85ac-26ec-40dc-9182-842165b8c851\":{\"defs\":[],\"roots\":{\"references\":[{\"attributes\":{\"below\":[{\"id\":\"2533\"}],\"center\":[{\"id\":\"2536\"},{\"id\":\"2540\"},{\"id\":\"2571\"}],\"left\":[{\"id\":\"2537\"}],\"renderers\":[{\"id\":\"2559\"}],\"title\":{\"id\":\"2523\"},\"toolbar\":{\"id\":\"2548\"},\"width\":800,\"x_range\":{\"id\":\"2525\"},\"x_scale\":{\"id\":\"2529\"},\"y_range\":{\"id\":\"2527\"},\"y_scale\":{\"id\":\"2531\"}},\"id\":\"2522\",\"subtype\":\"Figure\",\"type\":\"Plot\"},{\"attributes\":{\"axis\":{\"id\":\"2537\"},\"coordinates\":null,\"dimension\":1,\"group\":null,\"ticker\":null},\"id\":\"2540\",\"type\":\"Grid\"},{\"attributes\":{},\"id\":\"2542\",\"type\":\"WheelZoomTool\"},{\"attributes\":{\"overlay\":{\"id\":\"2547\"}},\"id\":\"2543\",\"type\":\"BoxZoomTool\"},{\"attributes\":{\"bottom_units\":\"screen\",\"coordinates\":null,\"fill_alpha\":0.5,\"fill_color\":\"lightgrey\",\"group\":null,\"left_units\":\"screen\",\"level\":\"overlay\",\"line_alpha\":1.0,\"line_color\":\"black\",\"line_dash\":[4,4],\"line_width\":2,\"right_units\":\"screen\",\"syncable\":false,\"top_units\":\"screen\"},\"id\":\"2547\",\"type\":\"BoxAnnotation\"},{\"attributes\":{},\"id\":\"2563\",\"type\":\"BasicTickFormatter\"},{\"attributes\":{},\"id\":\"2545\",\"type\":\"ResetTool\"},{\"attributes\":{\"axis\":{\"id\":\"2533\"},\"coordinates\":null,\"group\":null,\"ticker\":null},\"id\":\"2536\",\"type\":\"Grid\"},{\"attributes\":{},\"id\":\"2564\",\"type\":\"AllLabels\"},{\"attributes\":{\"coordinates\":null,\"group\":null,\"items\":[{\"id\":\"2572\"}]},\"id\":\"2571\",\"type\":\"Legend\"},{\"attributes\":{},\"id\":\"2531\",\"type\":\"LinearScale\"},{\"attributes\":{},\"id\":\"2566\",\"type\":\"BasicTickFormatter\"},{\"attributes\":{},\"id\":\"2567\",\"type\":\"AllLabels\"},{\"attributes\":{},\"id\":\"2527\",\"type\":\"DataRange1d\"},{\"attributes\":{\"coordinates\":null,\"group\":null,\"text\":\"Residuals for Cubic Model\"},\"id\":\"2523\",\"type\":\"Title\"},{\"attributes\":{},\"id\":\"2525\",\"type\":\"DataRange1d\"},{\"attributes\":{},\"id\":\"2534\",\"type\":\"BasicTicker\"},{\"attributes\":{},\"id\":\"2546\",\"type\":\"HelpTool\"},{\"attributes\":{},\"id\":\"2568\",\"type\":\"UnionRenderers\"},{\"attributes\":{\"fill_alpha\":{\"value\":0.5},\"fill_color\":{\"value\":\"blue\"},\"line_color\":{\"value\":\"navy\"},\"size\":{\"value\":2},\"x\":{\"field\":\"x\"},\"y\":{\"field\":\"y\"}},\"id\":\"2556\",\"type\":\"Scatter\"},{\"attributes\":{\"data\":{\"x\":{\"__ndarray__\":\"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\",\"dtype\":\"float64\",\"order\":\"little\",\"shape\":[587]},\"y\":{\"__ndarray__\":\"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\",\"dtype\":\"float64\",\"order\":\"little\",\"shape\":[587]}},\"selected\":{\"id\":\"2569\"},\"selection_policy\":{\"id\":\"2568\"}},\"id\":\"2555\",\"type\":\"ColumnDataSource\"},{\"attributes\":{\"axis_label\":\"Residual\",\"coordinates\":null,\"formatter\":{\"id\":\"2563\"},\"group\":null,\"major_label_policy\":{\"id\":\"2564\"},\"ticker\":{\"id\":\"2538\"}},\"id\":\"2537\",\"type\":\"LinearAxis\"},{\"attributes\":{},\"id\":\"2569\",\"type\":\"Selection\"},{\"attributes\":{},\"id\":\"2541\",\"type\":\"PanTool\"},{\"attributes\":{\"tools\":[{\"id\":\"2541\"},{\"id\":\"2542\"},{\"id\":\"2543\"},{\"id\":\"2544\"},{\"id\":\"2545\"},{\"id\":\"2546\"}]},\"id\":\"2548\",\"type\":\"Toolbar\"},{\"attributes\":{\"source\":{\"id\":\"2555\"}},\"id\":\"2560\",\"type\":\"CDSView\"},{\"attributes\":{},\"id\":\"2544\",\"type\":\"SaveTool\"},{\"attributes\":{\"coordinates\":null,\"data_source\":{\"id\":\"2555\"},\"glyph\":{\"id\":\"2556\"},\"group\":null,\"hover_glyph\":null,\"muted_glyph\":{\"id\":\"2558\"},\"nonselection_glyph\":{\"id\":\"2557\"},\"view\":{\"id\":\"2560\"}},\"id\":\"2559\",\"type\":\"GlyphRenderer\"},{\"attributes\":{\"label\":{\"value\":\"Residuals\"},\"renderers\":[{\"id\":\"2559\"}]},\"id\":\"2572\",\"type\":\"LegendItem\"},{\"attributes\":{\"fill_alpha\":{\"value\":0.1},\"fill_color\":{\"value\":\"blue\"},\"hatch_alpha\":{\"value\":0.1},\"line_alpha\":{\"value\":0.1},\"line_color\":{\"value\":\"navy\"},\"size\":{\"value\":2},\"x\":{\"field\":\"x\"},\"y\":{\"field\":\"y\"}},\"id\":\"2557\",\"type\":\"Scatter\"},{\"attributes\":{\"coordinates\":null,\"formatter\":{\"id\":\"2566\"},\"group\":null,\"major_label_policy\":{\"id\":\"2567\"},\"ticker\":{\"id\":\"2534\"}},\"id\":\"2533\",\"type\":\"LinearAxis\"},{\"attributes\":{\"fill_alpha\":{\"value\":0.2},\"fill_color\":{\"value\":\"blue\"},\"hatch_alpha\":{\"value\":0.2},\"line_alpha\":{\"value\":0.2},\"line_color\":{\"value\":\"navy\"},\"size\":{\"value\":2},\"x\":{\"field\":\"x\"},\"y\":{\"field\":\"y\"}},\"id\":\"2558\",\"type\":\"Scatter\"},{\"attributes\":{},\"id\":\"2529\",\"type\":\"LinearScale\"},{\"attributes\":{},\"id\":\"2538\",\"type\":\"BasicTicker\"}],\"root_ids\":[\"2522\"]},\"title\":\"Bokeh Application\",\"version\":\"2.4.1\"}};\n",
       "  const render_items = [{\"docid\":\"51fe85ac-26ec-40dc-9182-842165b8c851\",\"root_ids\":[\"2522\"],\"roots\":{\"2522\":\"e8c4e696-0b24-4b56-8271-0b517a86c38b\"}}];\n",
       "  root.Bokeh.embed.embed_items_notebook(docs_json, render_items);\n",
       "\n",
       "  }\n",
       "  if (root.Bokeh !== undefined) {\n",
       "    embed_document(root);\n",
       "  } else {\n",
       "    let attempts = 0;\n",
       "    const timer = setInterval(function(root) {\n",
       "      if (root.Bokeh !== undefined) {\n",
       "        clearInterval(timer);\n",
       "        embed_document(root);\n",
       "      } else {\n",
       "        attempts++;\n",
       "        if (attempts > 100) {\n",
       "          clearInterval(timer);\n",
       "          console.log(\"Bokeh: ERROR: Unable to run BokehJS code because BokehJS library is missing\");\n",
       "        }\n",
       "      }\n",
       "    }, 10, root)\n",
       "  }\n",
       "})(window);"
      ],
      "application/vnd.bokehjs_exec.v0+json": ""
     },
     "metadata": {
      "application/vnd.bokehjs_exec.v0+json": {
       "id": "2522"
      }
     },
     "output_type": "display_data"
    }
   ],
   "source": [
    "# Plotting the residuals \n",
    "\n",
    "cr_residuals = y_train - cr_cubic_fit\n",
    "p = figure(plot_width=800, plot_height=600, title = \"Residuals for Cubic Model\")\n",
    "p.scatter(X_train, cr_residuals ,size=2, line_color=\"navy\", fill_color=\"blue\", fill_alpha=0.5, legend_label =\"Residuals\")\n",
    "\n",
    "p.yaxis.axis_label ='Residual'\n",
    "p.legend.location = \"top_right\"\n",
    "show(p)"
   ]
  },
  {
   "cell_type": "markdown",
   "metadata": {},
   "source": [
    "The residuals show a random scattering around zero which indicates that there isn't a systematic problem with the model."
   ]
  },
  {
   "cell_type": "code",
   "execution_count": 38,
   "metadata": {},
   "outputs": [
    {
     "name": "stdout",
     "output_type": "stream",
     "text": [
      "The RMSE on test data is 4.1493707118117475\n",
      "The MAPE on test data is 0.8483502723214033\n"
     ]
    }
   ],
   "source": [
    "# Calculating the prediction errors RMSE and MAPE\n",
    "\n",
    "rmse_cubic = (mean_squared_error(y_test, cr_predictions, squared=False))\n",
    "print(\"The RMSE on test data is \" + str(rmse_cubic))\n",
    "\n",
    "mape_cubic = mean_absolute_percentage_error(y_test, cr_predictions)\n",
    "print(\"The MAPE on test data is \" + str(mape_cubic*100)) # as a percentage"
   ]
  },
  {
   "cell_type": "markdown",
   "metadata": {},
   "source": [
    "Based on the predictions and analysing the results of the residuals and errors we notice that the best model to represent the data is the quadratic model which has no systematic trend in its residuals and which has the lowest $RMSE$ and $MAPE$ on predicting the test data."
   ]
  },
  {
   "cell_type": "markdown",
   "metadata": {},
   "source": [
    "Consider $F_n(t)$ to tbe the polynomial trend chosen in the last problem as sufficient to represent the trend in the data. We will now extract the periodic component which appears in the data.\n",
    "\n",
    "First, remove the deterministic trend $F_n(t)$ from the time series and compute the average residual $C_i - F_n(t_i)$ for each month. Namely, collect all the residuals (from removing deterministic trend) for Jan (resp. Feb, Marc, etc) and average them to get one data point for Jan (resp. Feb, Mar, etc). The collection of these points can be interpolated for a periodic signal $P_i$.\n",
    "\n",
    "<b> Report the values of the periodic signal $P_i$ for the month of January and February.</b>"
   ]
  },
  {
   "cell_type": "code",
   "execution_count": 39,
   "metadata": {},
   "outputs": [
    {
     "name": "stdout",
     "output_type": "stream",
     "text": [
      "(587, 5) (147, 4)\n"
     ]
    },
    {
     "data": {
      "text/html": [
       "<div>\n",
       "<style scoped>\n",
       "    .dataframe tbody tr th:only-of-type {\n",
       "        vertical-align: middle;\n",
       "    }\n",
       "\n",
       "    .dataframe tbody tr th {\n",
       "        vertical-align: top;\n",
       "    }\n",
       "\n",
       "    .dataframe thead th {\n",
       "        text-align: right;\n",
       "    }\n",
       "</style>\n",
       "<table border=\"1\" class=\"dataframe\">\n",
       "  <thead>\n",
       "    <tr style=\"text-align: right;\">\n",
       "      <th></th>\n",
       "      <th>Year</th>\n",
       "      <th>Month</th>\n",
       "      <th>CO2</th>\n",
       "      <th>time</th>\n",
       "      <th>Quadratic Residuals</th>\n",
       "    </tr>\n",
       "  </thead>\n",
       "  <tbody>\n",
       "    <tr>\n",
       "      <th>0</th>\n",
       "      <td>1958</td>\n",
       "      <td>3</td>\n",
       "      <td>315.70</td>\n",
       "      <td>2.041667</td>\n",
       "      <td>1.431786</td>\n",
       "    </tr>\n",
       "    <tr>\n",
       "      <th>1</th>\n",
       "      <td>1958</td>\n",
       "      <td>4</td>\n",
       "      <td>317.45</td>\n",
       "      <td>3.041667</td>\n",
       "      <td>3.114440</td>\n",
       "    </tr>\n",
       "    <tr>\n",
       "      <th>2</th>\n",
       "      <td>1958</td>\n",
       "      <td>5</td>\n",
       "      <td>317.51</td>\n",
       "      <td>4.041667</td>\n",
       "      <td>3.106925</td>\n",
       "    </tr>\n",
       "    <tr>\n",
       "      <th>3</th>\n",
       "      <td>1958</td>\n",
       "      <td>7</td>\n",
       "      <td>315.86</td>\n",
       "      <td>6.041667</td>\n",
       "      <td>1.321391</td>\n",
       "    </tr>\n",
       "    <tr>\n",
       "      <th>4</th>\n",
       "      <td>1958</td>\n",
       "      <td>8</td>\n",
       "      <td>314.93</td>\n",
       "      <td>7.041667</td>\n",
       "      <td>0.323372</td>\n",
       "    </tr>\n",
       "  </tbody>\n",
       "</table>\n",
       "</div>"
      ],
      "text/plain": [
       "   Year  Month     CO2      time  Quadratic Residuals\n",
       "0  1958      3  315.70  2.041667             1.431786\n",
       "1  1958      4  317.45  3.041667             3.114440\n",
       "2  1958      5  317.51  4.041667             3.106925\n",
       "3  1958      7  315.86  6.041667             1.321391\n",
       "4  1958      8  314.93  7.041667             0.323372"
      ]
     },
     "execution_count": 39,
     "metadata": {},
     "output_type": "execute_result"
    }
   ],
   "source": [
    "# Removing deterministic trend from the time series\n",
    "\n",
    "co2_train = co2.iloc[0:train_size,:].copy()\n",
    "co2_test = co2.iloc[train_size:,:].copy()\n",
    "\n",
    "co2_train['Quadratic Residuals'] = y_train - qr_quadratic_fit\n",
    "print(co2_train.shape, co2_test.shape)\n",
    "co2_train.head()"
   ]
  },
  {
   "cell_type": "code",
   "execution_count": 40,
   "metadata": {},
   "outputs": [
    {
     "data": {
      "text/plain": [
       "Month\n",
       "1    -0.012919\n",
       "2     0.646407\n",
       "3     1.355569\n",
       "4     2.561858\n",
       "5     2.982891\n",
       "6     2.316473\n",
       "7     0.776297\n",
       "8    -1.301213\n",
       "9    -3.128074\n",
       "10   -3.309520\n",
       "11   -2.081487\n",
       "12   -0.921507\n",
       "Name: Quadratic Residuals, dtype: float64"
      ]
     },
     "execution_count": 40,
     "metadata": {},
     "output_type": "execute_result"
    }
   ],
   "source": [
    "# Grouping the residuals by month with the average over all months in the training set\n",
    "\n",
    "monthly_residuals = co2_train.groupby('Month')['Quadratic Residuals'].mean()\n",
    "monthly_residuals"
   ]
  },
  {
   "cell_type": "code",
   "execution_count": 41,
   "metadata": {},
   "outputs": [
    {
     "name": "stdout",
     "output_type": "stream",
     "text": [
      "The periodic signal for the month of January is -0.01291921890639728\n",
      "The periodic signal for the month of February is 0.646406596528737\n"
     ]
    }
   ],
   "source": [
    "print('The periodic signal for the month of January is', monthly_residuals.values[0])\n",
    "print('The periodic signal for the month of February is', monthly_residuals.values[1])"
   ]
  },
  {
   "cell_type": "markdown",
   "metadata": {},
   "source": [
    "There seems to be a clear seasonal component that should be added to the model in order to predict the change in $CO_2$, so based on this, we can try to build one final model where we include the periodic signal together with the quadratic model. \n",
    "\n",
    "We build the model by interpolating the periodic signal and then adding the quadratic component to predict the test data and see again from the residuals and prediction errors how the model performs compared to the previous ones."
   ]
  },
  {
   "cell_type": "markdown",
   "metadata": {},
   "source": [
    "<b> Plot the periodic signal $P_i$. Clearly state the definition the $P_i$, and make sure your plot is clearly labeled</b>"
   ]
  },
  {
   "cell_type": "code",
   "execution_count": 42,
   "metadata": {},
   "outputs": [],
   "source": [
    "# Interpolating the months with the 1D interpolate function to get a continuous signal\n",
    "\n",
    "periodic_signal = scipy.interpolate.interp1d(monthly_residuals.index, monthly_residuals.values, kind='cubic')"
   ]
  },
  {
   "cell_type": "code",
   "execution_count": 43,
   "metadata": {},
   "outputs": [
    {
     "data": {
      "text/html": [
       "\n",
       "\n",
       "\n",
       "\n",
       "\n",
       "\n",
       "  <div class=\"bk-root\" id=\"0bd3d652-0e0f-44de-b70d-14f4a9ca6c91\" data-root-id=\"2728\"></div>\n"
      ]
     },
     "metadata": {},
     "output_type": "display_data"
    },
    {
     "data": {
      "application/javascript": [
       "(function(root) {\n",
       "  function embed_document(root) {\n",
       "    \n",
       "  const docs_json = {\"d4a5d487-7a8b-4475-b059-dc6f2536cb64\":{\"defs\":[],\"roots\":{\"references\":[{\"attributes\":{\"below\":[{\"id\":\"2739\"}],\"center\":[{\"id\":\"2742\"},{\"id\":\"2746\"},{\"id\":\"2777\"}],\"left\":[{\"id\":\"2743\"}],\"renderers\":[{\"id\":\"2765\"},{\"id\":\"2783\"}],\"title\":{\"id\":\"2729\"},\"toolbar\":{\"id\":\"2754\"},\"width\":800,\"x_range\":{\"id\":\"2731\"},\"x_scale\":{\"id\":\"2735\"},\"y_range\":{\"id\":\"2733\"},\"y_scale\":{\"id\":\"2737\"}},\"id\":\"2728\",\"subtype\":\"Figure\",\"type\":\"Plot\"},{\"attributes\":{},\"id\":\"2737\",\"type\":\"LinearScale\"},{\"attributes\":{\"coordinates\":null,\"group\":null,\"text\":\"Periodic Signal\"},\"id\":\"2729\",\"type\":\"Title\"},{\"attributes\":{},\"id\":\"2735\",\"type\":\"LinearScale\"},{\"attributes\":{},\"id\":\"2773\",\"type\":\"AllLabels\"},{\"attributes\":{\"coordinates\":null,\"formatter\":{\"id\":\"2772\"},\"group\":null,\"major_label_overrides\":{\"1\":\"Jan\",\"10\":\"Oct\",\"11\":\"Nov\",\"12\":\"Dec\",\"2\":\"Feb\",\"3\":\"Mar\",\"4\":\"Apr\",\"5\":\"May\",\"6\":\"Jun\",\"7\":\"Jul\",\"8\":\"Aug\",\"9\":\"Sep\"},\"major_label_policy\":{\"id\":\"2773\"},\"ticker\":{\"id\":\"2798\"}},\"id\":\"2739\",\"type\":\"LinearAxis\"},{\"attributes\":{\"label\":{\"value\":\"Periodic Values\"},\"renderers\":[{\"id\":\"2765\"}]},\"id\":\"2778\",\"type\":\"LegendItem\"},{\"attributes\":{},\"id\":\"2752\",\"type\":\"HelpTool\"},{\"attributes\":{\"fill_alpha\":{\"value\":0.1},\"fill_color\":{\"value\":\"navy\"},\"hatch_alpha\":{\"value\":0.1},\"line_alpha\":{\"value\":0.1},\"line_color\":{\"value\":\"orange\"},\"size\":{\"value\":6},\"x\":{\"field\":\"x\"},\"y\":{\"field\":\"y\"}},\"id\":\"2763\",\"type\":\"Scatter\"},{\"attributes\":{},\"id\":\"2744\",\"type\":\"BasicTicker\"},{\"attributes\":{\"fill_alpha\":{\"value\":0.2},\"fill_color\":{\"value\":\"navy\"},\"hatch_alpha\":{\"value\":0.2},\"line_alpha\":{\"value\":0.2},\"line_color\":{\"value\":\"orange\"},\"size\":{\"value\":6},\"x\":{\"field\":\"x\"},\"y\":{\"field\":\"y\"}},\"id\":\"2764\",\"type\":\"Scatter\"},{\"attributes\":{\"coordinates\":null,\"data_source\":{\"id\":\"2761\"},\"glyph\":{\"id\":\"2762\"},\"group\":null,\"hover_glyph\":null,\"muted_glyph\":{\"id\":\"2764\"},\"nonselection_glyph\":{\"id\":\"2763\"},\"view\":{\"id\":\"2766\"}},\"id\":\"2765\",\"type\":\"GlyphRenderer\"},{\"attributes\":{\"source\":{\"id\":\"2761\"}},\"id\":\"2766\",\"type\":\"CDSView\"},{\"attributes\":{},\"id\":\"2748\",\"type\":\"WheelZoomTool\"},{\"attributes\":{\"coordinates\":null,\"group\":null,\"items\":[{\"id\":\"2778\"},{\"id\":\"2797\"}]},\"id\":\"2777\",\"type\":\"Legend\"},{\"attributes\":{\"overlay\":{\"id\":\"2753\"}},\"id\":\"2749\",\"type\":\"BoxZoomTool\"},{\"attributes\":{},\"id\":\"2750\",\"type\":\"SaveTool\"},{\"attributes\":{},\"id\":\"2774\",\"type\":\"UnionRenderers\"},{\"attributes\":{},\"id\":\"2751\",\"type\":\"ResetTool\"},{\"attributes\":{},\"id\":\"2775\",\"type\":\"Selection\"},{\"attributes\":{\"bottom_units\":\"screen\",\"coordinates\":null,\"fill_alpha\":0.5,\"fill_color\":\"lightgrey\",\"group\":null,\"left_units\":\"screen\",\"level\":\"overlay\",\"line_alpha\":1.0,\"line_color\":\"black\",\"line_dash\":[4,4],\"line_width\":2,\"right_units\":\"screen\",\"syncable\":false,\"top_units\":\"screen\"},\"id\":\"2753\",\"type\":\"BoxAnnotation\"},{\"attributes\":{\"label\":{\"value\":\"Periodic Signal\"},\"renderers\":[{\"id\":\"2783\"}]},\"id\":\"2797\",\"type\":\"LegendItem\"},{\"attributes\":{\"line_alpha\":0.2,\"line_color\":\"orange\",\"line_width\":2.5,\"x\":{\"field\":\"x\"},\"y\":{\"field\":\"y\"}},\"id\":\"2782\",\"type\":\"Line\"},{\"attributes\":{\"coordinates\":null,\"data_source\":{\"id\":\"2779\"},\"glyph\":{\"id\":\"2780\"},\"group\":null,\"hover_glyph\":null,\"muted_glyph\":{\"id\":\"2782\"},\"nonselection_glyph\":{\"id\":\"2781\"},\"view\":{\"id\":\"2784\"}},\"id\":\"2783\",\"type\":\"GlyphRenderer\"},{\"attributes\":{\"line_color\":\"orange\",\"line_width\":2.5,\"x\":{\"field\":\"x\"},\"y\":{\"field\":\"y\"}},\"id\":\"2780\",\"type\":\"Line\"},{\"attributes\":{\"fill_color\":{\"value\":\"navy\"},\"line_color\":{\"value\":\"orange\"},\"size\":{\"value\":6},\"x\":{\"field\":\"x\"},\"y\":{\"field\":\"y\"}},\"id\":\"2762\",\"type\":\"Scatter\"},{\"attributes\":{\"source\":{\"id\":\"2779\"}},\"id\":\"2784\",\"type\":\"CDSView\"},{\"attributes\":{\"data\":{\"x\":[1,2,3,4,5,6,7,8,9,10,11,12],\"y\":{\"__ndarray__\":\"VPCKNWR1ir+VTgDjXK/kP30KHDtpsPU/LxDRb69+BECXuHDd9dwHQFbXh9oiiAJA9uHpqG3X6D/2Shc1xNH0v7TZe95LBgnAQOXyieV5CsCa8jyF4qYAwPa7GmH7fO2/\",\"dtype\":\"float64\",\"order\":\"little\",\"shape\":[12]}},\"selected\":{\"id\":\"2775\"},\"selection_policy\":{\"id\":\"2774\"}},\"id\":\"2761\",\"type\":\"ColumnDataSource\"},{\"attributes\":{\"line_alpha\":0.1,\"line_color\":\"orange\",\"line_width\":2.5,\"x\":{\"field\":\"x\"},\"y\":{\"field\":\"y\"}},\"id\":\"2781\",\"type\":\"Line\"},{\"attributes\":{\"ticks\":[1,2,3,4,5,6,7,8,9,10,11,12]},\"id\":\"2798\",\"type\":\"FixedTicker\"},{\"attributes\":{},\"id\":\"2731\",\"type\":\"DataRange1d\"},{\"attributes\":{\"axis\":{\"id\":\"2743\"},\"coordinates\":null,\"dimension\":1,\"group\":null,\"ticker\":null},\"id\":\"2746\",\"type\":\"Grid\"},{\"attributes\":{},\"id\":\"2795\",\"type\":\"Selection\"},{\"attributes\":{\"data\":{\"x\":{\"__ndarray__\":\"AAAAAAAA8D9yHMdxHMfxP+Q4juM4jvM/VVVVVVVV9T/HcRzHcRz3PzmO4ziO4/g/qqqqqqqq+j8cx3Ecx3H8P47jOI7jOP4/AAAAAAAAAEA5juM4juMAQHIcx3EcxwFAqqqqqqqqAkDkOI7jOI4DQBzHcRzHcQRAVVVVVVVVBUCO4ziO4zgGQMdxHMdxHAdAAAAAAAAACEA5juM4juMIQHIcx3EcxwlAqqqqqqqqCkDjOI7jOI4LQBzHcRzHcQxAVVVVVVVVDUCO4ziO4zgOQMdxHMdxHA9AAAAAAAAAEEAcx3Ecx3EQQDiO4ziO4xBAVVVVVVVVEUByHMdxHMcRQI7jOI7jOBJAqqqqqqqqEkDHcRzHcRwTQOQ4juM4jhNAAAAAAAAAFEAcx3Ecx3EUQDmO4ziO4xRAVVVVVVVVFUByHMdxHMcVQI7jOI7jOBZAqqqqqqqqFkDHcRzHcRwXQOM4juM4jhdAAAAAAAAAGEAcx3Ecx3EYQDmO4ziO4xhAVVVVVVVVGUBxHMdxHMcZQI7jOI7jOBpAqqqqqqqqGkDHcRzHcRwbQOM4juM4jhtAAAAAAAAAHEAcx3Ecx3EcQDiO4ziO4xxAVVVVVVVVHUBxHMdxHMcdQI7jOI7jOB5AqqqqqqqqHkDHcRzHcRwfQOM4juM4jh9AAAAAAAAAIECO4ziO4zggQBzHcRzHcSBAqqqqqqqqIEA4juM4juMgQMdxHMdxHCFAVVVVVVVVIUDkOI7jOI4hQHIcx3EcxyFAAAAAAAAAIkCO4ziO4zgiQBzHcRzHcSJAqqqqqqqqIkA5juM4juMiQMdxHMdxHCNAVVVVVVVVI0DjOI7jOI4jQHIcx3EcxyNAAAAAAAAAJECO4ziO4zgkQBzHcRzHcSRAqqqqqqqqJEA5juM4juMkQMdxHMdxHCVAVVVVVVVVJUDjOI7jOI4lQHEcx3EcxyVAAAAAAAAAJkCO4ziO4zgmQBzHcRzHcSZAqqqqqqqqJkA5juM4juMmQMdxHMdxHCdAVVVVVVVVJ0DjOI7jOI4nQHEcx3EcxydAAAAAAAAAKEA=\",\"dtype\":\"float64\",\"order\":\"little\",\"shape\":[100]},\"y\":{\"__ndarray__\":\"VPCKNWR1ir/ExDQU3Yy2P5XKuun96sY/7QR72AG50D9A0JzalYPVP2mH+eUQ69k/hupH5UgF3j/iXJ/hCfTgP6JaSrWj1OI/lU4A41yv5D/QmBxgII/mP2CZ+iHZfug/WLD1HXKJ6j/TPWlJ1rnsP9ihsJnwGu8/QJ4TAtbb8D/uNhS/eU3yPwDLh/7Y5/M/fQocO2mw9T+z97vTran3PwDeR7hhyvk/+VrdvE0G/D9JDJq1OlH+P8bHTbt4TwBALsH/aZ1xAUAtwfHQ74gCQJOWMlpUjwNALxDRb69+BEAgQ8C97VEFQMNdhPccCAZAydSFElOhBkDaHC0Eph0HQKWq4sErfQdA1vIOQfq/B0Acahp3J+YHQCGFbVnJ7wdAlrhw3fXcB0AV4lTv260HQPaCbFYOYwdAgYXS0Dj9BkD906EcB30GQLNY9fck4wVA6v3nID4wBUDnrZRV/mQEQPRSFlQRggNAVdeH2iKIAkA1/UeP5XcBQC7mxLknUgBAexdhE30v/j++znld/pL7PxnlN7F90Pg/jE3/baXp9T8D+zPzH+DyPwzBc0Ava+8/9uHpqG3X6D/MPcWO3gjiP5NqmUNAC9Y/yEDRD/qivj8aT8SFuSG8vyACo6zs+tW/it3WTrGQ4r+6v046Ozfqv92jX5wz9fC/9koXNcTR9L96k+ukmqz4v9504t+Ie/y/ZwrOQ4EZAMB4TNyeveMBwIMT7FGzlgPATHLNLZwsBcC6e1ADsp8GwJJCRaMu6gfAtdl73ksGCcDB+v9xb+8JwIv6y8uupQrAr9QVRksqC8DJhBM7hn4LwHYG+wShowvAVFUC/tyaC8ADbV+Ae2ULwB1JSOa9BAvAQOXyieV5CsA/+6AGyMYJwLw9w/uL7wjAhx3WSez4B8B1C1bRo+cGwGV4v3JtwAXAJdWODgSIBMCLkkCFIkMDwG4hUbeD9gHAmvI8heKmAMDn7QCf87H+v44+MO0II/y/2LgAtnqq+b9gPmu6vlH3v+ywaLtKIvW/F/LxeZQl87+L4/+2EWXxv+3NFmdw1O+/9rsaYft87b8=\",\"dtype\":\"float64\",\"order\":\"little\",\"shape\":[100]}},\"selected\":{\"id\":\"2795\"},\"selection_policy\":{\"id\":\"2794\"}},\"id\":\"2779\",\"type\":\"ColumnDataSource\"},{\"attributes\":{},\"id\":\"2769\",\"type\":\"BasicTickFormatter\"},{\"attributes\":{},\"id\":\"2772\",\"type\":\"BasicTickFormatter\"},{\"attributes\":{},\"id\":\"2733\",\"type\":\"DataRange1d\"},{\"attributes\":{},\"id\":\"2794\",\"type\":\"UnionRenderers\"},{\"attributes\":{},\"id\":\"2770\",\"type\":\"AllLabels\"},{\"attributes\":{\"tools\":[{\"id\":\"2747\"},{\"id\":\"2748\"},{\"id\":\"2749\"},{\"id\":\"2750\"},{\"id\":\"2751\"},{\"id\":\"2752\"}]},\"id\":\"2754\",\"type\":\"Toolbar\"},{\"attributes\":{},\"id\":\"2747\",\"type\":\"PanTool\"},{\"attributes\":{\"axis\":{\"id\":\"2739\"},\"coordinates\":null,\"group\":null,\"ticker\":null},\"id\":\"2742\",\"type\":\"Grid\"},{\"attributes\":{\"coordinates\":null,\"formatter\":{\"id\":\"2769\"},\"group\":null,\"major_label_policy\":{\"id\":\"2770\"},\"ticker\":{\"id\":\"2744\"}},\"id\":\"2743\",\"type\":\"LinearAxis\"}],\"root_ids\":[\"2728\"]},\"title\":\"Bokeh Application\",\"version\":\"2.4.1\"}};\n",
       "  const render_items = [{\"docid\":\"d4a5d487-7a8b-4475-b059-dc6f2536cb64\",\"root_ids\":[\"2728\"],\"roots\":{\"2728\":\"0bd3d652-0e0f-44de-b70d-14f4a9ca6c91\"}}];\n",
       "  root.Bokeh.embed.embed_items_notebook(docs_json, render_items);\n",
       "\n",
       "  }\n",
       "  if (root.Bokeh !== undefined) {\n",
       "    embed_document(root);\n",
       "  } else {\n",
       "    let attempts = 0;\n",
       "    const timer = setInterval(function(root) {\n",
       "      if (root.Bokeh !== undefined) {\n",
       "        clearInterval(timer);\n",
       "        embed_document(root);\n",
       "      } else {\n",
       "        attempts++;\n",
       "        if (attempts > 100) {\n",
       "          clearInterval(timer);\n",
       "          console.log(\"Bokeh: ERROR: Unable to run BokehJS code because BokehJS library is missing\");\n",
       "        }\n",
       "      }\n",
       "    }, 10, root)\n",
       "  }\n",
       "})(window);"
      ],
      "application/vnd.bokehjs_exec.v0+json": ""
     },
     "metadata": {
      "application/vnd.bokehjs_exec.v0+json": {
       "id": "2728"
      }
     },
     "output_type": "display_data"
    }
   ],
   "source": [
    "# Plotting the periodic signal\n",
    "\n",
    "months = np.linspace(1, 12, num=100) # periodic_signal function uses this range to find the new values\n",
    "\n",
    "p = figure(plot_width=800, plot_height=600, title='Periodic Signal')\n",
    "p.scatter(monthly_residuals.index, monthly_residuals.values, size=6, line_color=\"orange\", fill_color=\"navy\", fill_alpha=1, legend_label ='Periodic Values')\n",
    "p.line(months, periodic_signal(months), line_color=\"orange\", line_width =2.5, legend_label ='Periodic Signal')\n",
    "p.xaxis.ticker = [1, 2, 3, 4, 5, 6, 7, 8, 9, 10, 11, 12]\n",
    "p.xaxis.major_label_overrides = {1: 'Jan', 2: 'Feb', 3: 'Mar', 4: 'Apr', 5: 'May', 6: 'Jun', 7: 'Jul', 8: 'Aug', 9: 'Sep', 10: 'Oct', 11: 'Nov', 12: 'Dec'}\n",
    "show(p)"
   ]
  },
  {
   "cell_type": "markdown",
   "metadata": {},
   "source": [
    "We can see from the plot the periodic signal which is the average over all the months within the traininig data. The maximum of the signal occurs in May and minimum from September till October."
   ]
  },
  {
   "cell_type": "markdown",
   "metadata": {},
   "source": [
    "<b> Plot the final fit $F_n(t_i) + P_i$. Your plot should clearly show the final model on top of the entire time series, while indicating the split between the training and testing data.</b>"
   ]
  },
  {
   "cell_type": "code",
   "execution_count": 44,
   "metadata": {},
   "outputs": [
    {
     "name": "stdout",
     "output_type": "stream",
     "text": [
      "587\n",
      "147\n"
     ]
    }
   ],
   "source": [
    "# Creating periodic signal for training and test sets by chaining the monthly residuals\n",
    "\n",
    "periodic_train = list(chain.from_iterable(monthly_residuals[co2_train.Month].values[..., None])) \n",
    "periodic_test = list(chain.from_iterable(monthly_residuals[co2_test.Month].values[..., None]))\n",
    "print(len(periodic_train))\n",
    "print(len(periodic_test))"
   ]
  },
  {
   "cell_type": "code",
   "execution_count": 45,
   "metadata": {},
   "outputs": [
    {
     "data": {
      "text/html": [
       "\n",
       "\n",
       "\n",
       "\n",
       "\n",
       "\n",
       "  <div class=\"bk-root\" id=\"8bdd373c-00c4-4342-a61b-5ede4c11704b\" data-root-id=\"2971\"></div>\n"
      ]
     },
     "metadata": {},
     "output_type": "display_data"
    },
    {
     "data": {
      "application/javascript": [
       "(function(root) {\n",
       "  function embed_document(root) {\n",
       "    \n",
       "  const docs_json = {\"86b75aa8-b76f-4d97-9cf5-0f62e1fc0639\":{\"defs\":[],\"roots\":{\"references\":[{\"attributes\":{\"below\":[{\"id\":\"2982\"}],\"center\":[{\"id\":\"2985\"},{\"id\":\"2989\"},{\"id\":\"3020\"}],\"left\":[{\"id\":\"2986\"}],\"renderers\":[{\"id\":\"3008\"},{\"id\":\"3026\"},{\"id\":\"3045\"},{\"id\":\"3066\"}],\"title\":{\"id\":\"2972\"},\"toolbar\":{\"id\":\"2997\"},\"width\":800,\"x_range\":{\"id\":\"2974\"},\"x_scale\":{\"id\":\"2978\"},\"y_range\":{\"id\":\"2976\"},\"y_scale\":{\"id\":\"2980\"}},\"id\":\"2971\",\"subtype\":\"Figure\",\"type\":\"Plot\"},{\"attributes\":{\"coordinates\":null,\"data_source\":{\"id\":\"3022\"},\"glyph\":{\"id\":\"3023\"},\"group\":null,\"hover_glyph\":null,\"muted_glyph\":{\"id\":\"3025\"},\"nonselection_glyph\":{\"id\":\"3024\"},\"view\":{\"id\":\"3027\"}},\"id\":\"3026\",\"type\":\"GlyphRenderer\"},{\"attributes\":{\"coordinates\":null,\"data_source\":{\"id\":\"3041\"},\"glyph\":{\"id\":\"3042\"},\"group\":null,\"hover_glyph\":null,\"muted_glyph\":{\"id\":\"3044\"},\"nonselection_glyph\":{\"id\":\"3043\"},\"view\":{\"id\":\"3046\"}},\"id\":\"3045\",\"type\":\"GlyphRenderer\"},{\"attributes\":{},\"id\":\"3012\",\"type\":\"BasicTickFormatter\"},{\"attributes\":{\"coordinates\":null,\"formatter\":{\"id\":\"3012\"},\"group\":null,\"major_label_policy\":{\"id\":\"3013\"},\"ticker\":{\"id\":\"2987\"}},\"id\":\"2986\",\"type\":\"LinearAxis\"},{\"attributes\":{},\"id\":\"2980\",\"type\":\"LinearScale\"},{\"attributes\":{\"line_color\":\"orangered\",\"line_width\":2.5,\"x\":{\"field\":\"x\"},\"y\":{\"field\":\"y\"}},\"id\":\"3063\",\"type\":\"Line\"},{\"attributes\":{\"coordinates\":null,\"group\":null,\"text\":\"CO2 Variation with time\"},\"id\":\"2972\",\"type\":\"Title\"},{\"attributes\":{\"source\":{\"id\":\"3062\"}},\"id\":\"3067\",\"type\":\"CDSView\"},{\"attributes\":{\"coordinates\":null,\"group\":null,\"items\":[{\"id\":\"3021\"},{\"id\":\"3040\"},{\"id\":\"3061\"},{\"id\":\"3084\"}],\"location\":\"bottom_right\"},\"id\":\"3020\",\"type\":\"Legend\"},{\"attributes\":{},\"id\":\"2978\",\"type\":\"LinearScale\"},{\"attributes\":{},\"id\":\"3013\",\"type\":\"AllLabels\"},{\"attributes\":{\"fill_alpha\":{\"value\":0.5},\"fill_color\":{\"value\":\"green\"},\"size\":{\"value\":2},\"x\":{\"field\":\"x\"},\"y\":{\"field\":\"y\"}},\"id\":\"3005\",\"type\":\"Scatter\"},{\"attributes\":{\"axis_label\":\"Time\",\"coordinates\":null,\"formatter\":{\"id\":\"3015\"},\"group\":null,\"major_label_overrides\":{\"0\":\"1958\",\"146\":\"1971\",\"293\":\"1983\",\"440\":\"1995\",\"587\":\"2007\",\"734\":\"2019\"},\"major_label_policy\":{\"id\":\"3016\"},\"ticker\":{\"id\":\"3085\"}},\"id\":\"2982\",\"type\":\"LinearAxis\"},{\"attributes\":{},\"id\":\"3037\",\"type\":\"UnionRenderers\"},{\"attributes\":{\"coordinates\":null,\"data_source\":{\"id\":\"3004\"},\"glyph\":{\"id\":\"3005\"},\"group\":null,\"hover_glyph\":null,\"muted_glyph\":{\"id\":\"3007\"},\"nonselection_glyph\":{\"id\":\"3006\"},\"view\":{\"id\":\"3009\"}},\"id\":\"3008\",\"type\":\"GlyphRenderer\"},{\"attributes\":{},\"id\":\"2995\",\"type\":\"HelpTool\"},{\"attributes\":{},\"id\":\"3016\",\"type\":\"AllLabels\"},{\"attributes\":{},\"id\":\"3058\",\"type\":\"UnionRenderers\"},{\"attributes\":{},\"id\":\"3015\",\"type\":\"BasicTickFormatter\"},{\"attributes\":{},\"id\":\"3081\",\"type\":\"UnionRenderers\"},{\"attributes\":{\"data\":{\"x\":{\"__ndarray__\":\"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\",\"dtype\":\"float64\",\"order\":\"little\",\"shape\":[587]},\"y\":{\"__ndarray__\":\"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\",\"dtype\":\"float64\",\"order\":\"little\",\"shape\":[587]}},\"selected\":{\"id\":\"3018\"},\"selection_policy\":{\"id\":\"3017\"}},\"id\":\"3004\",\"type\":\"ColumnDataSource\"},{\"attributes\":{\"fill_alpha\":{\"value\":0.2},\"fill_color\":{\"value\":\"green\"},\"hatch_alpha\":{\"value\":0.2},\"line_alpha\":{\"value\":0.2},\"size\":{\"value\":2},\"x\":{\"field\":\"x\"},\"y\":{\"field\":\"y\"}},\"id\":\"3007\",\"type\":\"Scatter\"},{\"attributes\":{\"axis\":{\"id\":\"2986\"},\"coordinates\":null,\"dimension\":1,\"group\":null,\"ticker\":null},\"id\":\"2989\",\"type\":\"Grid\"},{\"attributes\":{},\"id\":\"3059\",\"type\":\"Selection\"},{\"attributes\":{\"label\":{\"value\":\"Training Data\"},\"renderers\":[{\"id\":\"3008\"}]},\"id\":\"3021\",\"type\":\"LegendItem\"},{\"attributes\":{},\"id\":\"2987\",\"type\":\"BasicTicker\"},{\"attributes\":{\"fill_alpha\":{\"value\":0.1},\"fill_color\":{\"value\":\"green\"},\"hatch_alpha\":{\"value\":0.1},\"line_alpha\":{\"value\":0.1},\"size\":{\"value\":2},\"x\":{\"field\":\"x\"},\"y\":{\"field\":\"y\"}},\"id\":\"3006\",\"type\":\"Scatter\"},{\"attributes\":{},\"id\":\"3082\",\"type\":\"Selection\"},{\"attributes\":{\"source\":{\"id\":\"3004\"}},\"id\":\"3009\",\"type\":\"CDSView\"},{\"attributes\":{},\"id\":\"3038\",\"type\":\"Selection\"},{\"attributes\":{},\"id\":\"2991\",\"type\":\"WheelZoomTool\"},{\"attributes\":{},\"id\":\"2990\",\"type\":\"PanTool\"},{\"attributes\":{\"overlay\":{\"id\":\"2996\"}},\"id\":\"2992\",\"type\":\"BoxZoomTool\"},{\"attributes\":{},\"id\":\"2993\",\"type\":\"SaveTool\"},{\"attributes\":{},\"id\":\"2994\",\"type\":\"ResetTool\"},{\"attributes\":{},\"id\":\"3017\",\"type\":\"UnionRenderers\"},{\"attributes\":{},\"id\":\"3018\",\"type\":\"Selection\"},{\"attributes\":{\"bottom_units\":\"screen\",\"coordinates\":null,\"fill_alpha\":0.5,\"fill_color\":\"lightgrey\",\"group\":null,\"left_units\":\"screen\",\"level\":\"overlay\",\"line_alpha\":1.0,\"line_color\":\"black\",\"line_dash\":[4,4],\"line_width\":2,\"right_units\":\"screen\",\"syncable\":false,\"top_units\":\"screen\"},\"id\":\"2996\",\"type\":\"BoxAnnotation\"},{\"attributes\":{\"line_alpha\":0.2,\"line_color\":\"orangered\",\"line_width\":2.5,\"x\":{\"field\":\"x\"},\"y\":{\"field\":\"y\"}},\"id\":\"3065\",\"type\":\"Line\"},{\"attributes\":{\"tools\":[{\"id\":\"2990\"},{\"id\":\"2991\"},{\"id\":\"2992\"},{\"id\":\"2993\"},{\"id\":\"2994\"},{\"id\":\"2995\"}]},\"id\":\"2997\",\"type\":\"Toolbar\"},{\"attributes\":{\"label\":{\"value\":\"Final Model (Training Data Fit)\"},\"renderers\":[{\"id\":\"3026\"}]},\"id\":\"3040\",\"type\":\"LegendItem\"},{\"attributes\":{\"line_alpha\":0.1,\"line_color\":\"orange\",\"line_width\":2.5,\"x\":{\"field\":\"x\"},\"y\":{\"field\":\"y\"}},\"id\":\"3024\",\"type\":\"Line\"},{\"attributes\":{\"fill_alpha\":{\"value\":0.5},\"fill_color\":{\"value\":\"orange\"},\"line_color\":{\"value\":\"olive\"},\"size\":{\"value\":2},\"x\":{\"field\":\"x\"},\"y\":{\"field\":\"y\"}},\"id\":\"3042\",\"type\":\"Scatter\"},{\"attributes\":{\"coordinates\":null,\"data_source\":{\"id\":\"3062\"},\"glyph\":{\"id\":\"3063\"},\"group\":null,\"hover_glyph\":null,\"muted_glyph\":{\"id\":\"3065\"},\"nonselection_glyph\":{\"id\":\"3064\"},\"view\":{\"id\":\"3067\"}},\"id\":\"3066\",\"type\":\"GlyphRenderer\"},{\"attributes\":{\"line_alpha\":0.2,\"line_color\":\"orange\",\"line_width\":2.5,\"x\":{\"field\":\"x\"},\"y\":{\"field\":\"y\"}},\"id\":\"3025\",\"type\":\"Line\"},{\"attributes\":{\"label\":{\"value\":\"Test Data\"},\"renderers\":[{\"id\":\"3045\"}]},\"id\":\"3061\",\"type\":\"LegendItem\"},{\"attributes\":{\"data\":{\"x\":{\"__ndarray__\":\"VVVVVVWQgkBVVVVVVZiCQFVVVVVVoIJAVVVVVVWogkBVVVVVVbCCQFVVVVVVuIJAVVVVVVXAgkBVVVVVVciCQFVVVVVV0IJAVVVVVVXYgkBVVVVVVeCCQFVVVVVV6IJAVVVVVVXwgkBVVVVVVfiCQFVVVVVVAINAVVVVVVUIg0BVVVVVVRCDQFVVVVVVGINAVVVVVVUgg0BVVVVVVSiDQFVVVVVVMINAVVVVVVU4g0BVVVVVVUCDQFVVVVVVSINAVVVVVVVQg0BVVVVVVViDQFVVVVVVYINAVVVVVVVog0BVVVVVVXCDQFVVVVVVeINAVVVVVVWAg0BVVVVVVYiDQFVVVVVVkINAVVVVVVWYg0BVVVVVVaCDQFVVVVVVqINAVVVVVVWwg0BVVVVVVbiDQFVVVVVVwINAVVVVVVXIg0BVVVVVVdCDQFVVVVVV2INAVVVVVVXgg0BVVVVVVeiDQFVVVVVV8INAVVVVVVX4g0BVVVVVVQCEQFVVVVVVCIRAVVVVVVUQhEBVVVVVVRiEQFVVVVVVIIRAVVVVVVUohEBVVVVVVTCEQFVVVVVVOIRAVVVVVVVAhEBVVVVVVUiEQFVVVVVVUIRAVVVVVVVYhEBVVVVVVWCEQFVVVVVVaIRAVVVVVVVwhEBVVVVVVXiEQFVVVVVVgIRAVVVVVVWIhEBVVVVVVZCEQFVVVVVVmIRAVVVVVVWghEBVVVVVVaiEQFVVVVVVsIRAVVVVVVW4hEBVVVVVVcCEQFVVVVVVyIRAVVVVVVXQhEBVVVVVVdiEQFVVVVVV4IRAVVVVVVXohEBVVVVVVfCEQFVVVVVV+IRAVVVVVVUAhUBVVVVVVQiFQFVVVVVVEIVAVVVVVVUYhUBVVVVVVSCFQFVVVVVVKIVAVVVVVVUwhUBVVVVVVTiFQFVVVVVVQIVAVVVVVVVIhUBVVVVVVVCFQFVVVVVVWIVAVVVVVVVghUBVVVVVVWiFQFVVVVVVcIVAVVVVVVV4hUBVVVVVVYCFQFVVVVVViIVAVVVVVVWQhUBVVVVVVZiFQFVVVVVVoIVAVVVVVVWohUBVVVVVVbCFQFVVVVVVuIVAVVVVVVXAhUBVVVVVVciFQFVVVVVV0IVAVVVVVVXYhUBVVVVVVeCFQFVVVVVV6IVAVVVVVVXwhUBVVVVVVfiFQFVVVVVVAIZAVVVVVVUIhkBVVVVVVRCGQFVVVVVVGIZAVVVVVVUghkBVVVVVVSiGQFVVVVVVMIZAVVVVVVU4hkBVVVVVVUCGQFVVVVVVSIZAVVVVVVVQhkBVVVVVVViGQFVVVVVVYIZAVVVVVVVohkBVVVVVVXCGQFVVVVVVeIZAVVVVVVWAhkBVVVVVVYiGQFVVVVVVkIZAVVVVVVWYhkBVVVVVVaCGQFVVVVVVqIZAVVVVVVWwhkBVVVVVVbiGQFVVVVVVwIZAVVVVVVXIhkBVVVVVVdCGQFVVVVVV2IZAVVVVVVXghkBVVVVVVeiGQFVVVVVV8IZAVVVVVVX4hkBVVVVVVQCHQFVVVVVVCIdAVVVVVVUQh0BVVVVVVRiHQFVVVVVVIIdA\",\"dtype\":\"float64\",\"order\":\"little\",\"shape\":[147]},\"y\":{\"__ndarray__\":\"16NwPQoHeEA9CtejcN13QPYoXI/CzXdA9ihcj8LNd0D2KFyPwuV3QPYoXI/C+XdAhetRuB4ReEA9CtejcB14QOF6FK5HHXhAuB6F61EseEBcj8L1KEh4QM3MzMzMQHhAAAAAAAAkeEDhehSuRwF4QD0K16Nw8XdAFK5H4Xrsd0Bcj8L1KAB4QPYoXI/CEXhAZmZmZmYqeEBSuB6F6zF4QLgehetRSHhAhetRuB5ZeEAfhetRuGJ4QFK4HoXrWXhAhetRuB5BeEDhehSuRyF4QGZmZmZmCnhA4XoUrkcFeEDNzMzMzCB4QKRwPQrXN3hAzczMzMxIeECF61G4HmF4QFyPwvUocHhArkfhehSGeEDsUbgehZN4QKRwPQrXg3hA4XoUrkdleEC4HoXrUUh4QD0K16NwLXhAw/UoXI8yeEAfhetRuEp4QClcj8L1XHhAzczMzMx0eEAfhetRuH54QDMzMzMzh3hAUrgeheuVeEAUrkfheqR4QNejcD0Km3hAPQrXo3CJeECPwvUoXGN4QAAAAAAAUHhAexSuR+FOeECkcD0K12N4QM3MzMzMfHhAhetRuB6ReECamZmZmZV4QPYoXI/CpXhAexSuR+HGeEBSuB6F6814QK5H4XoUvnhAuB6F61GoeEBxPQrXo4h4QK5H4XoUcnhAXI/C9ShweEAzMzMzM494QOF6FK5HpXhA9ihcj8K5eECamZmZmc14QFyPwvUo1HhAmpmZmZnleEBI4XoUrv94QFK4HoXr7XhAUrgehevVeEDD9Shcj7Z4QArXo3A9lnhAMzMzMzObeEDXo3A9CrN4QIXrUbgezXhAH4XrUbjeeECamZmZmeF4QOxRuB6F93hA4XoUrkcVeUCuR+F6FB55QClcj8L1FHlAhetRuB7xeECPwvUoXNN4QGZmZmZmtnhAZmZmZma6eEBI4XoUrtN4QHE9Ctej7HhAmpmZmZn9eEApXI/C9QR5QFyPwvUoGHlAMzMzMzM3eUCamZmZmUF5QK5H4XoULnlA9ihcj8IZeUAAAAAAAPB4QAAAAAAA2HhAFK5H4XrkeECkcD0K1wN5QArXo3A9HnlAZmZmZmYqeUDD9Shcj0J5QJqZmZmZTXlAhetRuB55eUDD9Shcj3p5QAAAAAAAcHlAAAAAAABIeUCkcD0K1yN5QFyPwvUoEHlAAAAAAAAYeUAK16NwPTp5QM3MzMzMSHlAhetRuB5heUAK16NwPWp5QClcj8L1cHlAMzMzMzOPeUDD9Shcj555QFK4HoXrkXlAMzMzMzNzeUCkcD0K11N5QLgehetRNHlACtejcD06eUAfhetRuFJ5QAAAAAAAbHlAzczMzMyAeUA9CtejcIV5QAAAAAAAlHlAzczMzMykeUDNzMzMzLR5QK5H4XoUrnlAZmZmZmaOeUCamZmZmXF5QD0K16NwWXlApHA9CtdfeUBSuB6F64F5QEjhehSuk3lAH4XrUbiueUDD9Shcj7p5QAAAAAAAwHlAuB6F61HYeUDhehSuR+15QI/C9Shc33lAmpmZmZm9eUDhehSuR6F5QM3MzMzMiHlA\",\"dtype\":\"float64\",\"order\":\"little\",\"shape\":[147]}},\"selected\":{\"id\":\"3059\"},\"selection_policy\":{\"id\":\"3058\"}},\"id\":\"3041\",\"type\":\"ColumnDataSource\"},{\"attributes\":{\"data\":{\"x\":{\"__ndarray__\":\"VVVVVVWQgkBVVVVVVZiCQFVVVVVVoIJAVVVVVVWogkBVVVVVVbCCQFVVVVVVuIJAVVVVVVXAgkBVVVVVVciCQFVVVVVV0IJAVVVVVVXYgkBVVVVVVeCCQFVVVVVV6IJAVVVVVVXwgkBVVVVVVfiCQFVVVVVVAINAVVVVVVUIg0BVVVVVVRCDQFVVVVVVGINAVVVVVVUgg0BVVVVVVSiDQFVVVVVVMINAVVVVVVU4g0BVVVVVVUCDQFVVVVVVSINAVVVVVVVQg0BVVVVVVViDQFVVVVVVYINAVVVVVVVog0BVVVVVVXCDQFVVVVVVeINAVVVVVVWAg0BVVVVVVYiDQFVVVVVVkINAVVVVVVWYg0BVVVVVVaCDQFVVVVVVqINAVVVVVVWwg0BVVVVVVbiDQFVVVVVVwINAVVVVVVXIg0BVVVVVVdCDQFVVVVVV2INAVVVVVVXgg0BVVVVVVeiDQFVVVVVV8INAVVVVVVX4g0BVVVVVVQCEQFVVVVVVCIRAVVVVVVUQhEBVVVVVVRiEQFVVVVVVIIRAVVVVVVUohEBVVVVVVTCEQFVVVVVVOIRAVVVVVVVAhEBVVVVVVUiEQFVVVVVVUIRAVVVVVVVYhEBVVVVVVWCEQFVVVVVVaIRAVVVVVVVwhEBVVVVVVXiEQFVVVVVVgIRAVVVVVVWIhEBVVVVVVZCEQFVVVVVVmIRAVVVVVVWghEBVVVVVVaiEQFVVVVVVsIRAVVVVVVW4hEBVVVVVVcCEQFVVVVVVyIRAVVVVVVXQhEBVVVVVVdiEQFVVVVVV4IRAVVVVVVXohEBVVVVVVfCEQFVVVVVV+IRAVVVVVVUAhUBVVVVVVQiFQFVVVVVVEIVAVVVVVVUYhUBVVVVVVSCFQFVVVVVVKIVAVVVVVVUwhUBVVVVVVTiFQFVVVVVVQIVAVVVVVVVIhUBVVVVVVVCFQFVVVVVVWIVAVVVVVVVghUBVVVVVVWiFQFVVVVVVcIVAVVVVVVV4hUBVVVVVVYCFQFVVVVVViIVAVVVVVVWQhUBVVVVVVZiFQFVVVVVVoIVAVVVVVVWohUBVVVVVVbCFQFVVVVVVuIVAVVVVVVXAhUBVVVVVVciFQFVVVVVV0IVAVVVVVVXYhUBVVVVVVeCFQFVVVVVV6IVAVVVVVVXwhUBVVVVVVfiFQFVVVVVVAIZAVVVVVVUIhkBVVVVVVRCGQFVVVVVVGIZAVVVVVVUghkBVVVVVVSiGQFVVVVVVMIZAVVVVVVU4hkBVVVVVVUCGQFVVVVVVSIZAVVVVVVVQhkBVVVVVVViGQFVVVVVVYIZAVVVVVVVohkBVVVVVVXCGQFVVVVVVeIZAVVVVVVWAhkBVVVVVVYiGQFVVVVVVkIZAVVVVVVWYhkBVVVVVVaCGQFVVVVVVqIZAVVVVVVWwhkBVVVVVVbiGQFVVVVVVwIZAVVVVVVXIhkBVVVVVVdCGQFVVVVVV2IZAVVVVVVXghkBVVVVVVeiGQFVVVVVV8IZAVVVVVVX4hkBVVVVVVQCHQFVVVVVVCIdAVVVVVVUQh0BVVVVVVRiHQFVVVVVVIIdA\",\"dtype\":\"float64\",\"order\":\"little\",\"shape\":[147]},\"y\":{\"__ndarray__\":\"jURhI64FeEDNw5uaHOd3QBY/0WmOzHdA4vywiVTMd0DgZGqTqOJ3QLOd7Y7m93dAe1x4hh8JeEBsNM40XBZ4QDcNLbVlJHhAaCDgIGQ6eEAJPUPU0kN4QMuYPgXcO3hAxHvY/eoleEBzvcK6YQd4QCv7p8/b7HdAZns3Narsd0DTpaCEBgN4QBah08VMGHhATCIOA44peECtvBP30jZ4QOZXIr3kRHhAhy2FbutaeECXDJhnYmR4QMcqQ95zXHhAMNCMHItGeEBP1CYfCih4QHXUu3mMDXhAIBf7JGMNeED7AxS6xyN4QK3B9kAWOXhAUwXhw19KeEAiYpb9rFd4QMu/VAnHZXhA21dnANZ7eEBZ+Sk/VYV4QPnZhPtufXhA0UF+f45neEBfCMjHFUl4QPXKDGigLnhADtD7WH8ueEBZf8Qz7ER4QHn/VgBDWnhAjgXxyJRreEDNJFZI6nh4QOVExJkMh3hAZJ+G1iOdeEBRA/laq6Z4QGGmA13NnnhAp9CsJvWIeECkWaa0hGp4QKnempoXUHhAMqY50f5PeEDrF7Lxc2Z4QHta9APTe3hA/yI+Ei2NeECtBFPXipp4QDTncG61qHhAIgTj8NS+eEB/KgW7ZMh4QP2PvwKPwHhAsnwYEr+qeEAeyMHlVox4QJIPZhHycXhAipm0jeFxeECzzdzzXoh4QLHSzkvGnXhApV3InyiveEDBAY2qjrx4QLemWofBynhAFIZ8T+ngeEDhbk5fgep4QM2WuOyz4nhA80XBQezMeEDNUxpbjK54QLBdbswvlHhAGKpsjieUeECvoEQ6rap4QB1o5tccwHhAf7WPcYfReEALHATC9d54QHCDgeQw7XhAPCVT8mADeUB30NRHAQ15QNO67ho8BXlAZyyntXzveECx/K8UJdF4QAPJs8vQtnhA2tdh09C2eEDhkOnEXs14QL4aO6jW4nhAjyqUh0n0eECJU7gdwAF5QF595YUDEHlAmeFm2TsmeUBDT5h05C95QA/8YY0nKHlAEjDKbXASeUDLwoISIfR4QItRNg/V2XhA0iKUXN3ZeEBHnsuTc/B4QJPqzLzzBXlA1LzV4W4XeUA9qKm97SR5QIGUhms5M3lAK7u3BHpJeUBF65jlKlN5QH9aEkR2S3lA8VAqasc1eUAZppJUgBd5QEn39ZY8/XhA/ooDKk39eEDjyOqm6xN5QJ7XmxV0KXlATmxUgPc6eUAmGtihfkh5QNjIZJXSVnlA8rFFdBtteUB7pNaa1HZ5QCTW/z4ob3lABY/HqoFZeUCcpt/aQjt5QDu68mIHIXlAYBCwOyAheUCzEEf+xjd5QN3hp7JXTXlA/DgQY+NeeUBEqUPKcmx5QGYagAPPenlA7sUQKCCReUDlelGU4Zp5QP5uKn49k3lATuqhL599eUBVxGmlaF95QGOaLHM1RXlA9rKZkVZFeUC5deCZBVx5QFIJ8ZOecXlA4CIJijKDeUCXVew2ypB5QCeJ2LUun3lAH/cYIIi1eUCFbgnSUb95QA0lkgG2t3lAzWK5+B+ieUBC/zC08YN5QL+Xo8fGaXlA\",\"dtype\":\"float64\",\"order\":\"little\",\"shape\":[147]}},\"selected\":{\"id\":\"3082\"},\"selection_policy\":{\"id\":\"3081\"}},\"id\":\"3062\",\"type\":\"ColumnDataSource\"},{\"attributes\":{\"line_color\":\"orange\",\"line_width\":2.5,\"x\":{\"field\":\"x\"},\"y\":{\"field\":\"y\"}},\"id\":\"3023\",\"type\":\"Line\"},{\"attributes\":{\"fill_alpha\":{\"value\":0.1},\"fill_color\":{\"value\":\"orange\"},\"hatch_alpha\":{\"value\":0.1},\"line_alpha\":{\"value\":0.1},\"line_color\":{\"value\":\"olive\"},\"size\":{\"value\":2},\"x\":{\"field\":\"x\"},\"y\":{\"field\":\"y\"}},\"id\":\"3043\",\"type\":\"Scatter\"},{\"attributes\":{\"source\":{\"id\":\"3022\"}},\"id\":\"3027\",\"type\":\"CDSView\"},{\"attributes\":{\"line_alpha\":0.1,\"line_color\":\"orangered\",\"line_width\":2.5,\"x\":{\"field\":\"x\"},\"y\":{\"field\":\"y\"}},\"id\":\"3064\",\"type\":\"Line\"},{\"attributes\":{},\"id\":\"2974\",\"type\":\"DataRange1d\"},{\"attributes\":{\"fill_alpha\":{\"value\":0.2},\"fill_color\":{\"value\":\"orange\"},\"hatch_alpha\":{\"value\":0.2},\"line_alpha\":{\"value\":0.2},\"line_color\":{\"value\":\"olive\"},\"size\":{\"value\":2},\"x\":{\"field\":\"x\"},\"y\":{\"field\":\"y\"}},\"id\":\"3044\",\"type\":\"Scatter\"},{\"attributes\":{\"data\":{\"x\":{\"__ndarray__\":\"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\",\"dtype\":\"float64\",\"order\":\"little\",\"shape\":[587]},\"y\":{\"__ndarray__\":\"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\",\"dtype\":\"float64\",\"order\":\"little\",\"shape\":[587]}},\"selected\":{\"id\":\"3038\"},\"selection_policy\":{\"id\":\"3037\"}},\"id\":\"3022\",\"type\":\"ColumnDataSource\"},{\"attributes\":{},\"id\":\"2976\",\"type\":\"DataRange1d\"},{\"attributes\":{\"source\":{\"id\":\"3041\"}},\"id\":\"3046\",\"type\":\"CDSView\"},{\"attributes\":{\"label\":{\"value\":\"Final Model Predictions\"},\"renderers\":[{\"id\":\"3066\"}]},\"id\":\"3084\",\"type\":\"LegendItem\"},{\"attributes\":{\"ticks\":[0,146,293,440,587,734]},\"id\":\"3085\",\"type\":\"FixedTicker\"},{\"attributes\":{\"axis\":{\"id\":\"2982\"},\"coordinates\":null,\"group\":null,\"ticker\":null},\"id\":\"2985\",\"type\":\"Grid\"}],\"root_ids\":[\"2971\"]},\"title\":\"Bokeh Application\",\"version\":\"2.4.1\"}};\n",
       "  const render_items = [{\"docid\":\"86b75aa8-b76f-4d97-9cf5-0f62e1fc0639\",\"root_ids\":[\"2971\"],\"roots\":{\"2971\":\"8bdd373c-00c4-4342-a61b-5ede4c11704b\"}}];\n",
       "  root.Bokeh.embed.embed_items_notebook(docs_json, render_items);\n",
       "\n",
       "  }\n",
       "  if (root.Bokeh !== undefined) {\n",
       "    embed_document(root);\n",
       "  } else {\n",
       "    let attempts = 0;\n",
       "    const timer = setInterval(function(root) {\n",
       "      if (root.Bokeh !== undefined) {\n",
       "        clearInterval(timer);\n",
       "        embed_document(root);\n",
       "      } else {\n",
       "        attempts++;\n",
       "        if (attempts > 100) {\n",
       "          clearInterval(timer);\n",
       "          console.log(\"Bokeh: ERROR: Unable to run BokehJS code because BokehJS library is missing\");\n",
       "        }\n",
       "      }\n",
       "    }, 10, root)\n",
       "  }\n",
       "})(window);"
      ],
      "application/vnd.bokehjs_exec.v0+json": ""
     },
     "metadata": {
      "application/vnd.bokehjs_exec.v0+json": {
       "id": "2971"
      }
     },
     "output_type": "display_data"
    }
   ],
   "source": [
    "# Plotting the periodic signal with the quadratic model \n",
    "\n",
    "final_test = qr_predictions + periodic_test \n",
    "\n",
    "p = figure(plot_width=800, plot_height=600, title = \"CO2 Variation with time\")\n",
    "p.scatter(X_train, y_train, size=2, line_color=\"black\", fill_color=\"green\", fill_alpha=0.5, legend_label =\"Training Data\")\n",
    "p.line(X_train, qr_quadratic_fit + periodic_train, line_color=\"orange\", line_width=2.5, legend_label =\"Final Model (Training Data Fit)\")\n",
    "p.scatter(X_test, y_test, size=2, line_color=\"olive\", fill_color=\"orange\", fill_alpha=0.5, legend_label =\"Test Data\")\n",
    "p.line(X_test, final_test, line_color=\"orangered\", line_width=2.5, legend_label =\"Final Model Predictions\")\n",
    "p.xaxis.ticker = [0, 146, 293, 440, 587, 734]\n",
    "p.xaxis.major_label_overrides = {0: '1958', 146: '1971', 293: '1983', 440: '1995', 587: '2007', 734: '2019'}\n",
    "p.xaxis.axis_label ='Time'\n",
    "p.legend.location = \"bottom_right\"\n",
    "show(p)"
   ]
  },
  {
   "cell_type": "markdown",
   "metadata": {},
   "source": [
    "The figure shows the history of the increase of atmospheric carbon dioxide concentrations measured at Mauna Loa, Hawaii since 1958, and the predicted trajectory afterwards. The final model with the seasonal component included seems to fit quite well to the data which indicates that there is a clear seasonal component that is related to the increase and decrease of carbon dioxide levels."
   ]
  },
  {
   "cell_type": "markdown",
   "metadata": {},
   "source": [
    "<b> Report the root mean squared prediction error $\\text {RMSE}$ and the mean absolute percentage error $\\text {MAPE}$ with respect to the test set for this final model. Is this an improvement over the previous model $F_n(t_i)$ without the periodic signal?</b>"
   ]
  },
  {
   "cell_type": "code",
   "execution_count": 46,
   "metadata": {},
   "outputs": [
    {
     "name": "stdout",
     "output_type": "stream",
     "text": [
      "The mean squared prediction error of the final model is 1.1493602690783542\n",
      "The mean absolute percentage error of the quadratic model is 0.2085916594797079\n"
     ]
    }
   ],
   "source": [
    "# Calculating the prediction errors RMSE and MAPE\n",
    "\n",
    "rmse_final = (mean_squared_error(y_test, final_test, squared=False))\n",
    "print(\"The mean squared prediction error of the final model is \" + str(rmse_final))\n",
    "\n",
    "mape_final = mean_absolute_percentage_error(y_test, final_test)\n",
    "print(\"The mean absolute percentage error of the quadratic model is \" + str(mape_final*100)) # as a percentage"
   ]
  },
  {
   "cell_type": "markdown",
   "metadata": {},
   "source": [
    "The prediction error has decreased by adding the periodic signal component to the model which shows that there is an improvement over the previous quadratic model alone."
   ]
  },
  {
   "cell_type": "markdown",
   "metadata": {},
   "source": [
    "<b> What is the ratio of the range of values of $F$ to the amplitude of $P_i$ and the ratio of the amplitude of $P$ to the range of the residual $R_i$ (from removing both the trend and the periodic signal)?</b>"
   ]
  },
  {
   "cell_type": "code",
   "execution_count": 47,
   "metadata": {},
   "outputs": [
    {
     "name": "stdout",
     "output_type": "stream",
     "text": [
      "Amplitude of Trend: \n",
      "69.14369234539322\n",
      "\n",
      "Amplitude of Periodic Signal: \n",
      "6.292410667159611\n",
      "\n",
      "Amplitude of Residuals: \n",
      "3.8363992375799665\n",
      "\n",
      "Ratio of amplitudes of Trend to Periodic Signal: \n",
      "10.98842653520016\n",
      "\n",
      "Ratio of amplitudes of Periodic Signal  to Residuals: \n",
      "1.6401866118420245\n"
     ]
    }
   ],
   "source": [
    "# Computing stats from the three different components of the model\n",
    "\n",
    "print (\"Amplitude of Trend: \")\n",
    "Amp_trend = qr_quadratic_fit.max() - qr_quadratic_fit.min()\n",
    "print(Amp_trend)\n",
    "\n",
    "print (\"\\nAmplitude of Periodic Signal: \")\n",
    "Amp_p = max(periodic_train) - min(periodic_train)\n",
    "print(Amp_p)\n",
    "\n",
    "print (\"\\nAmplitude of Residuals: \")\n",
    "Amp_res = (y_train - qr_quadratic_fit - periodic_train).max() - (y_train - qr_quadratic_fit - periodic_train).min()\n",
    "print(Amp_res)\n",
    "\n",
    "print (\"\\nRatio of amplitudes of Trend to Periodic Signal: \")\n",
    "print(Amp_trend / Amp_p)\n",
    "\n",
    "print (\"\\nRatio of amplitudes of Periodic Signal  to Residuals: \")\n",
    "print(Amp_p / Amp_res)"
   ]
  },
  {
   "cell_type": "markdown",
   "metadata": {},
   "source": [
    "The amplitude or the range of the trend $F$ is large compared to that of the periodic signal $P_i$ which itself is larger compared to range of the residuals $R_i$.\n",
    "\n",
    "This makes sense as the quadratic (i.e. long-term) trend component explains the bulk of the increase of $CO_2$ while the seasonal component also contributes to this increase, but not as much as the long-term trend. The unexplained residual compotent is what is left unexplained by the model, and it should be as small as possible which is the case when we include the seasonal periodic signal to the model. The decomposition of the model into a long-term trend and a seasonal component is thus meaningful."
   ]
  },
  {
   "cell_type": "markdown",
   "metadata": {},
   "source": [
    "# BPP Data Analysis\n",
    "\n",
    "The goal of this problem is to analyze the PriceStats data from the MIT Billion Prices Project (www.thebillionpricesproject.com), provided by Professor Rigobon. In addition, the file PriceStats_CPI.csv also contains a column $\\text {CPI}$. The $\\text {CPI}$ (consumer price index, the price of a \"market basket of consumer goods and services\" - a proxy for inflation) is released monthly by the Bureau of Labor Statistics. The file T10YIE.csv lists (during most the same time period) the break-even rate ($\\text {BER}$), or the difference in yield between a fixed rate and inflation adjusted 10 year treasury note. The difference can be interpreted as what the market views will be the inflation rate for the next 10 years, on average.\n",
    "\n",
    "There is more than a decade of data in PriceStats_CPI.csv. For your results to the probles below, report the mean squared prediction error for 1 month ahead forecasts starting September 2013. For example, to predict the $\\text {CPI}$ in May 2015, you can use all the data before May 2015. You should perform all of your model fitting on the months prior to September 2013, and use the remaining months for evaluation.\n",
    "\n",
    "Additional References:\n",
    "\n",
    "    - The Consumer Price Index (CPI) is a measure of the average change over time in the prices paid by urban consumers for a market basket of consumer goods and services. To read more, visit https://www.bls.gov/cpi.\n",
    "    \n",
    "    - As explained in the question above, BER is the difference in yield between a fixed rate and inflation adjusted 10 year treasury note. This difference can be interpreted as what the market views will be the inflation rate for the next 10 years, on average. To read more, visit http://www.bondeconomics.com/2014/05/primer-what-is-breakeven-inflation.html.\n",
    "    \n",
    "    - Developed as a part of MIT Billion Prices Project, PriceStats collects price information from over 1,000 retailers across more than 50 countries and publishes the daily inflation series for over 20 countries. (It is akin to CPI in terms of units.) To read more, visit https://wwww.pricestats.com/."
   ]
  },
  {
   "cell_type": "markdown",
   "metadata": {},
   "source": [
    "<b> First, we will try to predict the monthly  $\\text {CPI}$ without using $\\text {BER}$ or PriceStats.</b>\n",
    "\n",
    "<b> Plot the monthly CPI value as a time series (e.g. take the first CPI value of each month as that month's CPI). What is the most obvious trend that you can observe in the data?</b>"
   ]
  },
  {
   "cell_type": "code",
   "execution_count": 48,
   "metadata": {},
   "outputs": [
    {
     "data": {
      "text/html": [
       "<div>\n",
       "<style scoped>\n",
       "    .dataframe tbody tr th:only-of-type {\n",
       "        vertical-align: middle;\n",
       "    }\n",
       "\n",
       "    .dataframe tbody tr th {\n",
       "        vertical-align: top;\n",
       "    }\n",
       "\n",
       "    .dataframe thead th {\n",
       "        text-align: right;\n",
       "    }\n",
       "</style>\n",
       "<table border=\"1\" class=\"dataframe\">\n",
       "  <thead>\n",
       "    <tr style=\"text-align: right;\">\n",
       "      <th></th>\n",
       "      <th>date</th>\n",
       "      <th>PriceStats</th>\n",
       "      <th>CPI</th>\n",
       "    </tr>\n",
       "  </thead>\n",
       "  <tbody>\n",
       "    <tr>\n",
       "      <th>0</th>\n",
       "      <td>2008-07-24</td>\n",
       "      <td>100.00000</td>\n",
       "      <td>100.0</td>\n",
       "    </tr>\n",
       "    <tr>\n",
       "      <th>1</th>\n",
       "      <td>2008-07-25</td>\n",
       "      <td>99.99767</td>\n",
       "      <td>100.0</td>\n",
       "    </tr>\n",
       "    <tr>\n",
       "      <th>2</th>\n",
       "      <td>2008-07-26</td>\n",
       "      <td>99.92376</td>\n",
       "      <td>100.0</td>\n",
       "    </tr>\n",
       "    <tr>\n",
       "      <th>3</th>\n",
       "      <td>2008-07-27</td>\n",
       "      <td>99.91537</td>\n",
       "      <td>100.0</td>\n",
       "    </tr>\n",
       "    <tr>\n",
       "      <th>4</th>\n",
       "      <td>2008-07-28</td>\n",
       "      <td>99.89491</td>\n",
       "      <td>100.0</td>\n",
       "    </tr>\n",
       "  </tbody>\n",
       "</table>\n",
       "</div>"
      ],
      "text/plain": [
       "        date  PriceStats    CPI\n",
       "0 2008-07-24   100.00000  100.0\n",
       "1 2008-07-25    99.99767  100.0\n",
       "2 2008-07-26    99.92376  100.0\n",
       "3 2008-07-27    99.91537  100.0\n",
       "4 2008-07-28    99.89491  100.0"
      ]
     },
     "execution_count": 48,
     "metadata": {},
     "output_type": "execute_result"
    }
   ],
   "source": [
    "# Loading data and parsing dates to datetime\n",
    "\n",
    "cpi = pd.read_csv('data\\PriceStats_CPI.csv', parse_dates=['date'])\n",
    "cpi.head()"
   ]
  },
  {
   "cell_type": "code",
   "execution_count": 49,
   "metadata": {},
   "outputs": [
    {
     "data": {
      "text/html": [
       "<div>\n",
       "<style scoped>\n",
       "    .dataframe tbody tr th:only-of-type {\n",
       "        vertical-align: middle;\n",
       "    }\n",
       "\n",
       "    .dataframe tbody tr th {\n",
       "        vertical-align: top;\n",
       "    }\n",
       "\n",
       "    .dataframe thead th {\n",
       "        text-align: right;\n",
       "    }\n",
       "</style>\n",
       "<table border=\"1\" class=\"dataframe\">\n",
       "  <thead>\n",
       "    <tr style=\"text-align: right;\">\n",
       "      <th></th>\n",
       "      <th>date</th>\n",
       "      <th>PriceStats</th>\n",
       "      <th>CPI</th>\n",
       "      <th>YearMonth</th>\n",
       "    </tr>\n",
       "  </thead>\n",
       "  <tbody>\n",
       "    <tr>\n",
       "      <th>0</th>\n",
       "      <td>2008-07-24</td>\n",
       "      <td>100.00000</td>\n",
       "      <td>100.0</td>\n",
       "      <td>2008-07</td>\n",
       "    </tr>\n",
       "    <tr>\n",
       "      <th>1</th>\n",
       "      <td>2008-07-25</td>\n",
       "      <td>99.99767</td>\n",
       "      <td>100.0</td>\n",
       "      <td>2008-07</td>\n",
       "    </tr>\n",
       "    <tr>\n",
       "      <th>2</th>\n",
       "      <td>2008-07-26</td>\n",
       "      <td>99.92376</td>\n",
       "      <td>100.0</td>\n",
       "      <td>2008-07</td>\n",
       "    </tr>\n",
       "    <tr>\n",
       "      <th>3</th>\n",
       "      <td>2008-07-27</td>\n",
       "      <td>99.91537</td>\n",
       "      <td>100.0</td>\n",
       "      <td>2008-07</td>\n",
       "    </tr>\n",
       "    <tr>\n",
       "      <th>4</th>\n",
       "      <td>2008-07-28</td>\n",
       "      <td>99.89491</td>\n",
       "      <td>100.0</td>\n",
       "      <td>2008-07</td>\n",
       "    </tr>\n",
       "  </tbody>\n",
       "</table>\n",
       "</div>"
      ],
      "text/plain": [
       "        date  PriceStats    CPI YearMonth\n",
       "0 2008-07-24   100.00000  100.0   2008-07\n",
       "1 2008-07-25    99.99767  100.0   2008-07\n",
       "2 2008-07-26    99.92376  100.0   2008-07\n",
       "3 2008-07-27    99.91537  100.0   2008-07\n",
       "4 2008-07-28    99.89491  100.0   2008-07"
      ]
     },
     "execution_count": 49,
     "metadata": {},
     "output_type": "execute_result"
    }
   ],
   "source": [
    "# Creating monthly value per year for CPI\n",
    "\n",
    "cpi['YearMonth'] = cpi.date.dt.strftime('%Y-%m')\n",
    "cpi.head()"
   ]
  },
  {
   "cell_type": "code",
   "execution_count": 50,
   "metadata": {},
   "outputs": [
    {
     "data": {
      "text/html": [
       "<div>\n",
       "<style scoped>\n",
       "    .dataframe tbody tr th:only-of-type {\n",
       "        vertical-align: middle;\n",
       "    }\n",
       "\n",
       "    .dataframe tbody tr th {\n",
       "        vertical-align: top;\n",
       "    }\n",
       "\n",
       "    .dataframe thead th {\n",
       "        text-align: right;\n",
       "    }\n",
       "</style>\n",
       "<table border=\"1\" class=\"dataframe\">\n",
       "  <thead>\n",
       "    <tr style=\"text-align: right;\">\n",
       "      <th></th>\n",
       "      <th>index</th>\n",
       "      <th>date</th>\n",
       "      <th>PriceStats</th>\n",
       "      <th>CPI</th>\n",
       "      <th>YearMonth</th>\n",
       "    </tr>\n",
       "  </thead>\n",
       "  <tbody>\n",
       "    <tr>\n",
       "      <th>0</th>\n",
       "      <td>7</td>\n",
       "      <td>2008-07-31</td>\n",
       "      <td>99.86741</td>\n",
       "      <td>100.00000</td>\n",
       "      <td>2008-07</td>\n",
       "    </tr>\n",
       "    <tr>\n",
       "      <th>1</th>\n",
       "      <td>38</td>\n",
       "      <td>2008-08-31</td>\n",
       "      <td>99.65405</td>\n",
       "      <td>100.52510</td>\n",
       "      <td>2008-08</td>\n",
       "    </tr>\n",
       "    <tr>\n",
       "      <th>2</th>\n",
       "      <td>68</td>\n",
       "      <td>2008-09-30</td>\n",
       "      <td>99.70792</td>\n",
       "      <td>100.12380</td>\n",
       "      <td>2008-09</td>\n",
       "    </tr>\n",
       "    <tr>\n",
       "      <th>3</th>\n",
       "      <td>99</td>\n",
       "      <td>2008-10-31</td>\n",
       "      <td>97.98654</td>\n",
       "      <td>99.98538</td>\n",
       "      <td>2008-10</td>\n",
       "    </tr>\n",
       "    <tr>\n",
       "      <th>4</th>\n",
       "      <td>129</td>\n",
       "      <td>2008-11-30</td>\n",
       "      <td>96.55315</td>\n",
       "      <td>98.97539</td>\n",
       "      <td>2008-11</td>\n",
       "    </tr>\n",
       "  </tbody>\n",
       "</table>\n",
       "</div>"
      ],
      "text/plain": [
       "   index       date  PriceStats        CPI YearMonth\n",
       "0      7 2008-07-31    99.86741  100.00000   2008-07\n",
       "1     38 2008-08-31    99.65405  100.52510   2008-08\n",
       "2     68 2008-09-30    99.70792  100.12380   2008-09\n",
       "3     99 2008-10-31    97.98654   99.98538   2008-10\n",
       "4    129 2008-11-30    96.55315   98.97539   2008-11"
      ]
     },
     "execution_count": 50,
     "metadata": {},
     "output_type": "execute_result"
    }
   ],
   "source": [
    "# Dropping duplicates and resetting index\n",
    "\n",
    "cpi = cpi.drop_duplicates('YearMonth', keep='last').reset_index()\n",
    "cpi.head()"
   ]
  },
  {
   "cell_type": "code",
   "execution_count": 51,
   "metadata": {},
   "outputs": [
    {
     "data": {
      "text/plain": [
       "((62, 5), (75, 5))"
      ]
     },
     "execution_count": 51,
     "metadata": {},
     "output_type": "execute_result"
    }
   ],
   "source": [
    "# Splitting data into training and test sets according to instructions\n",
    "\n",
    "cpi_train = cpi[cpi.YearMonth<'2013-09'].copy()\n",
    "cpi_test = cpi[cpi.YearMonth>='2013-09'].copy()\n",
    "cpi_train.shape, cpi_test.shape"
   ]
  },
  {
   "cell_type": "code",
   "execution_count": 52,
   "metadata": {},
   "outputs": [
    {
     "data": {
      "text/html": [
       "\n",
       "\n",
       "\n",
       "\n",
       "\n",
       "\n",
       "  <div class=\"bk-root\" id=\"03a3a421-bbae-46bd-9e4b-f6a80d904e1f\" data-root-id=\"3293\"></div>\n"
      ]
     },
     "metadata": {},
     "output_type": "display_data"
    },
    {
     "data": {
      "application/javascript": [
       "(function(root) {\n",
       "  function embed_document(root) {\n",
       "    \n",
       "  const docs_json = {\"59648081-e5fa-48b8-a84a-a164f0cbc38d\":{\"defs\":[],\"roots\":{\"references\":[{\"attributes\":{\"below\":[{\"id\":\"3304\"}],\"center\":[{\"id\":\"3307\"},{\"id\":\"3311\"}],\"left\":[{\"id\":\"3308\"}],\"renderers\":[{\"id\":\"3330\"}],\"title\":{\"id\":\"3294\"},\"toolbar\":{\"id\":\"3319\"},\"width\":800,\"x_range\":{\"id\":\"3296\"},\"x_scale\":{\"id\":\"3300\"},\"y_range\":{\"id\":\"3298\"},\"y_scale\":{\"id\":\"3302\"}},\"id\":\"3293\",\"subtype\":\"Figure\",\"type\":\"Plot\"},{\"attributes\":{},\"id\":\"3471\",\"type\":\"UnionRenderers\"},{\"attributes\":{},\"id\":\"3472\",\"type\":\"Selection\"},{\"attributes\":{},\"id\":\"3296\",\"type\":\"DataRange1d\"},{\"attributes\":{},\"id\":\"3298\",\"type\":\"DataRange1d\"},{\"attributes\":{\"axis\":{\"id\":\"3304\"},\"coordinates\":null,\"group\":null,\"ticker\":null},\"id\":\"3307\",\"type\":\"Grid\"},{\"attributes\":{\"axis_label\":\"CPI\",\"coordinates\":null,\"formatter\":{\"id\":\"3467\"},\"group\":null,\"major_label_policy\":{\"id\":\"3468\"},\"ticker\":{\"id\":\"3309\"}},\"id\":\"3308\",\"type\":\"LinearAxis\"},{\"attributes\":{},\"id\":\"3302\",\"type\":\"LinearScale\"},{\"attributes\":{\"coordinates\":null,\"group\":null,\"text\":\"Monthly CPI\"},\"id\":\"3294\",\"type\":\"Title\"},{\"attributes\":{\"source\":{\"id\":\"3326\"}},\"id\":\"3331\",\"type\":\"CDSView\"},{\"attributes\":{},\"id\":\"3300\",\"type\":\"LinearScale\"},{\"attributes\":{\"axis_label\":\"Time\",\"coordinates\":null,\"formatter\":{\"id\":\"3469\"},\"group\":null,\"major_label_overrides\":{\"0\":\"2008\",\"18\":\"2010\",\"30\":\"2011\",\"42\":\"2012\",\"54\":\"2013\",\"6\":\"2009\"},\"major_label_policy\":{\"id\":\"3470\"},\"ticker\":{\"id\":\"3332\"}},\"id\":\"3304\",\"type\":\"LinearAxis\"},{\"attributes\":{},\"id\":\"3317\",\"type\":\"HelpTool\"},{\"attributes\":{\"coordinates\":null,\"data_source\":{\"id\":\"3326\"},\"glyph\":{\"id\":\"3327\"},\"group\":null,\"hover_glyph\":null,\"muted_glyph\":{\"id\":\"3329\"},\"nonselection_glyph\":{\"id\":\"3328\"},\"view\":{\"id\":\"3331\"}},\"id\":\"3330\",\"type\":\"GlyphRenderer\"},{\"attributes\":{\"axis\":{\"id\":\"3308\"},\"coordinates\":null,\"dimension\":1,\"group\":null,\"ticker\":null},\"id\":\"3311\",\"type\":\"Grid\"},{\"attributes\":{\"tools\":[{\"id\":\"3312\"},{\"id\":\"3313\"},{\"id\":\"3314\"},{\"id\":\"3315\"},{\"id\":\"3316\"},{\"id\":\"3317\"}]},\"id\":\"3319\",\"type\":\"Toolbar\"},{\"attributes\":{},\"id\":\"3309\",\"type\":\"BasicTicker\"},{\"attributes\":{},\"id\":\"3467\",\"type\":\"BasicTickFormatter\"},{\"attributes\":{\"ticks\":[0,6,18,30,42,54]},\"id\":\"3332\",\"type\":\"FixedTicker\"},{\"attributes\":{\"data\":{\"x\":[0,1,2,3,4,5,6,7,8,9,10,11,12,13,14,15,16,17,18,19,20,21,22,23,24,25,26,27,28,29,30,31,32,33,34,35,36,37,38,39,40,41,42,43,44,45,46,47,48,49,50,51,52,53,54,55,56,57,58,59,60,61],\"y\":{\"__ndarray__\":\"AAAAAAAAWUBLyAc9myFZQKvP1VbsB1lAe4hGdxD/WEActi3KbL5YQKWg20saRVhAl6jeGtgEWEBLyAc9mx9YQE6c3O9QPlhA1ouhnGhNWEDw+WGE8FxYQNBE2PD0blhAcVrwoq+kWEAYQznRrppYQOl942vPqFhAWwhyUMKsWEB00vvG17JYQOi8xi5Rt1hA48KBkCysWEDkvWplwsFYQEX11sBWw1hArHMMyF7dWEA/jBAebehYQHYyOEpe7VhAd6G5TiPnWECRm+EGfOhYQMjqVs9J8VhA0GG+vAD1WEAFhqxu9fxYQPLNNjem/1hAe4MvTKYKWUB3vp8aLylZQMX+snvySFlA8tJNYhCIWUBSSZ2AJrJZQHBfB84Z0VlAbqMBvAXKWUAdWmQ7389ZQBKlvcEX4llAqmBUUifsWUBYObTIdt5ZQCL99nXg2FlAat5xio7IWUCamZmZmeVZQMKGp1fKAlpA6Nms+lw1WkASg8DKoUlaQC9uowG8QVpAzojS3uA3WkAU0ETY8CxaQFioNc07UlpAo5I6AU1wWkCLbOf7qW1aQEvIBz2bTVpADwu1pnk7WkDIBz2bVU9aQNEi2/l+hlpAFR3J5T+YWkATYcPTK5FaQOF6FK5HnVpAEoPAyqGtWkBqTfOOU7BaQA==\",\"dtype\":\"float64\",\"order\":\"little\",\"shape\":[62]}},\"selected\":{\"id\":\"3472\"},\"selection_policy\":{\"id\":\"3471\"}},\"id\":\"3326\",\"type\":\"ColumnDataSource\"},{\"attributes\":{},\"id\":\"3313\",\"type\":\"WheelZoomTool\"},{\"attributes\":{},\"id\":\"3468\",\"type\":\"AllLabels\"},{\"attributes\":{},\"id\":\"3312\",\"type\":\"PanTool\"},{\"attributes\":{\"overlay\":{\"id\":\"3318\"}},\"id\":\"3314\",\"type\":\"BoxZoomTool\"},{\"attributes\":{},\"id\":\"3315\",\"type\":\"SaveTool\"},{\"attributes\":{},\"id\":\"3469\",\"type\":\"BasicTickFormatter\"},{\"attributes\":{},\"id\":\"3316\",\"type\":\"ResetTool\"},{\"attributes\":{\"line_alpha\":0.1,\"line_color\":\"navy\",\"line_width\":2.5,\"x\":{\"field\":\"x\"},\"y\":{\"field\":\"y\"}},\"id\":\"3328\",\"type\":\"Line\"},{\"attributes\":{\"line_alpha\":0.2,\"line_color\":\"navy\",\"line_width\":2.5,\"x\":{\"field\":\"x\"},\"y\":{\"field\":\"y\"}},\"id\":\"3329\",\"type\":\"Line\"},{\"attributes\":{},\"id\":\"3470\",\"type\":\"AllLabels\"},{\"attributes\":{\"bottom_units\":\"screen\",\"coordinates\":null,\"fill_alpha\":0.5,\"fill_color\":\"lightgrey\",\"group\":null,\"left_units\":\"screen\",\"level\":\"overlay\",\"line_alpha\":1.0,\"line_color\":\"black\",\"line_dash\":[4,4],\"line_width\":2,\"right_units\":\"screen\",\"syncable\":false,\"top_units\":\"screen\"},\"id\":\"3318\",\"type\":\"BoxAnnotation\"},{\"attributes\":{\"line_color\":\"navy\",\"line_width\":2.5,\"x\":{\"field\":\"x\"},\"y\":{\"field\":\"y\"}},\"id\":\"3327\",\"type\":\"Line\"}],\"root_ids\":[\"3293\"]},\"title\":\"Bokeh Application\",\"version\":\"2.4.1\"}};\n",
       "  const render_items = [{\"docid\":\"59648081-e5fa-48b8-a84a-a164f0cbc38d\",\"root_ids\":[\"3293\"],\"roots\":{\"3293\":\"03a3a421-bbae-46bd-9e4b-f6a80d904e1f\"}}];\n",
       "  root.Bokeh.embed.embed_items_notebook(docs_json, render_items);\n",
       "\n",
       "  }\n",
       "  if (root.Bokeh !== undefined) {\n",
       "    embed_document(root);\n",
       "  } else {\n",
       "    let attempts = 0;\n",
       "    const timer = setInterval(function(root) {\n",
       "      if (root.Bokeh !== undefined) {\n",
       "        clearInterval(timer);\n",
       "        embed_document(root);\n",
       "      } else {\n",
       "        attempts++;\n",
       "        if (attempts > 100) {\n",
       "          clearInterval(timer);\n",
       "          console.log(\"Bokeh: ERROR: Unable to run BokehJS code because BokehJS library is missing\");\n",
       "        }\n",
       "      }\n",
       "    }, 10, root)\n",
       "  }\n",
       "})(window);"
      ],
      "application/vnd.bokehjs_exec.v0+json": ""
     },
     "metadata": {
      "application/vnd.bokehjs_exec.v0+json": {
       "id": "3293"
      }
     },
     "output_type": "display_data"
    }
   ],
   "source": [
    "# Plotting CPI\n",
    "\n",
    "p = figure(plot_width=800, plot_height=600, title=\"Monthly CPI\")\n",
    "p.line(cpi_train.index, cpi_train.CPI, line_color=\"navy\", line_width=2.5)\n",
    "p.xaxis.ticker = [0, 6, 18, 30, 42, 54]\n",
    "p.xaxis.major_label_overrides = {0: '2008', 6: '2009', 18: '2010', 30: '2011', 42: '2012', 54: '2013'}\n",
    "p.xaxis.axis_label='Time'\n",
    "p.yaxis.axis_label='CPI'\n",
    "show(p)"
   ]
  },
  {
   "cell_type": "markdown",
   "metadata": {},
   "source": [
    "From the plot we can clearly see an upward sloping linear trend which makes the time series non-stationary."
   ]
  },
  {
   "cell_type": "markdown",
   "metadata": {},
   "source": [
    "We will now detrend this data into $CPI_ t = T_ t +R_ t$. Below, we fit a linear trend to the training data. (You could also experiment with a different way of detrending.).\n",
    "\n",
    "Fit a linear trend $T_t$ to the training data:\n",
    "\n",
    "$$T_t =\\alpha_1t+\\alpha_0.$$\n",
    "\n",
    "<b> Verify your result by plotting the linear trend on top of the data. Report $\\alpha_1$ and $\\alpha_0$</b>"
   ]
  },
  {
   "cell_type": "code",
   "execution_count": 53,
   "metadata": {},
   "outputs": [],
   "source": [
    "# Fitting linear model\n",
    "\n",
    "lr = LinearRegression().fit(np.array(cpi_train.index).reshape(-1, 1), cpi_train.CPI)"
   ]
  },
  {
   "cell_type": "code",
   "execution_count": 54,
   "metadata": {},
   "outputs": [
    {
     "name": "stdout",
     "output_type": "stream",
     "text": [
      "The linear trend is given by F(t) = 0.16104348366951224*t + 96.72932632872502\n"
     ]
    }
   ],
   "source": [
    "# Linear model coefficients\n",
    "\n",
    "lr_coefficients = [lr.coef_[0], lr.intercept_]\n",
    "print(\"The linear trend is given by F(t) = \" +str(lr_coefficients[0])+\"*t + \" +str(lr_coefficients[1])+\"\")"
   ]
  },
  {
   "cell_type": "code",
   "execution_count": 55,
   "metadata": {},
   "outputs": [
    {
     "data": {
      "text/html": [
       "\n",
       "\n",
       "\n",
       "\n",
       "\n",
       "\n",
       "  <div class=\"bk-root\" id=\"c399d026-09c8-47fc-9ae1-9404465401b4\" data-root-id=\"3519\"></div>\n"
      ]
     },
     "metadata": {},
     "output_type": "display_data"
    },
    {
     "data": {
      "application/javascript": [
       "(function(root) {\n",
       "  function embed_document(root) {\n",
       "    \n",
       "  const docs_json = {\"efc2f716-8ef9-4830-8d0e-38f510dab8b4\":{\"defs\":[],\"roots\":{\"references\":[{\"attributes\":{\"below\":[{\"id\":\"3530\"}],\"center\":[{\"id\":\"3533\"},{\"id\":\"3537\"},{\"id\":\"3568\"}],\"left\":[{\"id\":\"3534\"}],\"renderers\":[{\"id\":\"3556\"},{\"id\":\"3574\"}],\"title\":{\"id\":\"3520\"},\"toolbar\":{\"id\":\"3545\"},\"width\":800,\"x_range\":{\"id\":\"3522\"},\"x_scale\":{\"id\":\"3526\"},\"y_range\":{\"id\":\"3524\"},\"y_scale\":{\"id\":\"3528\"}},\"id\":\"3519\",\"subtype\":\"Figure\",\"type\":\"Plot\"},{\"attributes\":{},\"id\":\"3560\",\"type\":\"BasicTickFormatter\"},{\"attributes\":{\"axis\":{\"id\":\"3534\"},\"coordinates\":null,\"dimension\":1,\"group\":null,\"ticker\":null},\"id\":\"3537\",\"type\":\"Grid\"},{\"attributes\":{},\"id\":\"3564\",\"type\":\"AllLabels\"},{\"attributes\":{},\"id\":\"3543\",\"type\":\"HelpTool\"},{\"attributes\":{\"coordinates\":null,\"group\":null,\"items\":[{\"id\":\"3569\"},{\"id\":\"3588\"}],\"location\":\"bottom_right\"},\"id\":\"3568\",\"type\":\"Legend\"},{\"attributes\":{\"tools\":[{\"id\":\"3538\"},{\"id\":\"3539\"},{\"id\":\"3540\"},{\"id\":\"3541\"},{\"id\":\"3542\"},{\"id\":\"3543\"}]},\"id\":\"3545\",\"type\":\"Toolbar\"},{\"attributes\":{\"line_alpha\":0.2,\"line_color\":\"navy\",\"line_width\":2,\"x\":{\"field\":\"x\"},\"y\":{\"field\":\"y\"}},\"id\":\"3555\",\"type\":\"Line\"},{\"attributes\":{},\"id\":\"3539\",\"type\":\"WheelZoomTool\"},{\"attributes\":{\"label\":{\"value\":\"Original Data\"},\"renderers\":[{\"id\":\"3556\"}]},\"id\":\"3569\",\"type\":\"LegendItem\"},{\"attributes\":{},\"id\":\"3538\",\"type\":\"PanTool\"},{\"attributes\":{\"overlay\":{\"id\":\"3544\"}},\"id\":\"3540\",\"type\":\"BoxZoomTool\"},{\"attributes\":{},\"id\":\"3541\",\"type\":\"SaveTool\"},{\"attributes\":{},\"id\":\"3542\",\"type\":\"ResetTool\"},{\"attributes\":{},\"id\":\"3565\",\"type\":\"UnionRenderers\"},{\"attributes\":{},\"id\":\"3566\",\"type\":\"Selection\"},{\"attributes\":{\"bottom_units\":\"screen\",\"coordinates\":null,\"fill_alpha\":0.5,\"fill_color\":\"lightgrey\",\"group\":null,\"left_units\":\"screen\",\"level\":\"overlay\",\"line_alpha\":1.0,\"line_color\":\"black\",\"line_dash\":[4,4],\"line_width\":2,\"right_units\":\"screen\",\"syncable\":false,\"top_units\":\"screen\"},\"id\":\"3544\",\"type\":\"BoxAnnotation\"},{\"attributes\":{\"coordinates\":null,\"data_source\":{\"id\":\"3570\"},\"glyph\":{\"id\":\"3571\"},\"group\":null,\"hover_glyph\":null,\"muted_glyph\":{\"id\":\"3573\"},\"nonselection_glyph\":{\"id\":\"3572\"},\"view\":{\"id\":\"3575\"}},\"id\":\"3574\",\"type\":\"GlyphRenderer\"},{\"attributes\":{\"line_color\":\"orange\",\"line_width\":2.5,\"x\":{\"field\":\"x\"},\"y\":{\"field\":\"y\"}},\"id\":\"3571\",\"type\":\"Line\"},{\"attributes\":{\"coordinates\":null,\"data_source\":{\"id\":\"3552\"},\"glyph\":{\"id\":\"3553\"},\"group\":null,\"hover_glyph\":null,\"muted_glyph\":{\"id\":\"3555\"},\"nonselection_glyph\":{\"id\":\"3554\"},\"view\":{\"id\":\"3557\"}},\"id\":\"3556\",\"type\":\"GlyphRenderer\"},{\"attributes\":{\"source\":{\"id\":\"3570\"}},\"id\":\"3575\",\"type\":\"CDSView\"},{\"attributes\":{\"data\":{\"x\":[0,1,2,3,4,5,6,7,8,9,10,11,12,13,14,15,16,17,18,19,20,21,22,23,24,25,26,27,28,29,30,31,32,33,34,35,36,37,38,39,40,41,42,43,44,45,46,47,48,49,50,51,52,53,54,55,56,57,58,59,60,61],\"y\":{\"__ndarray__\":\"AAAAAAAAWUBLyAc9myFZQKvP1VbsB1lAe4hGdxD/WEActi3KbL5YQKWg20saRVhAl6jeGtgEWEBLyAc9mx9YQE6c3O9QPlhA1ouhnGhNWEDw+WGE8FxYQNBE2PD0blhAcVrwoq+kWEAYQznRrppYQOl942vPqFhAWwhyUMKsWEB00vvG17JYQOi8xi5Rt1hA48KBkCysWEDkvWplwsFYQEX11sBWw1hArHMMyF7dWEA/jBAebehYQHYyOEpe7VhAd6G5TiPnWECRm+EGfOhYQMjqVs9J8VhA0GG+vAD1WEAFhqxu9fxYQPLNNjem/1hAe4MvTKYKWUB3vp8aLylZQMX+snvySFlA8tJNYhCIWUBSSZ2AJrJZQHBfB84Z0VlAbqMBvAXKWUAdWmQ7389ZQBKlvcEX4llAqmBUUifsWUBYObTIdt5ZQCL99nXg2FlAat5xio7IWUCamZmZmeVZQMKGp1fKAlpA6Nms+lw1WkASg8DKoUlaQC9uowG8QVpAzojS3uA3WkAU0ETY8CxaQFioNc07UlpAo5I6AU1wWkCLbOf7qW1aQEvIBz2bTVpADwu1pnk7WkDIBz2bVU9aQNEi2/l+hlpAFR3J5T+YWkATYcPTK5FaQOF6FK5HnVpAEoPAyqGtWkBqTfOOU7BaQA==\",\"dtype\":\"float64\",\"order\":\"little\",\"shape\":[62]}},\"selected\":{\"id\":\"3566\"},\"selection_policy\":{\"id\":\"3565\"}},\"id\":\"3552\",\"type\":\"ColumnDataSource\"},{\"attributes\":{\"line_alpha\":0.2,\"line_color\":\"orange\",\"line_width\":2.5,\"x\":{\"field\":\"x\"},\"y\":{\"field\":\"y\"}},\"id\":\"3573\",\"type\":\"Line\"},{\"attributes\":{\"ticks\":[0,6,18,30,42,54]},\"id\":\"3589\",\"type\":\"FixedTicker\"},{\"attributes\":{},\"id\":\"3522\",\"type\":\"DataRange1d\"},{\"attributes\":{\"data\":{\"x\":[0,1,2,3,4,5,6,7,8,9,10,11,12,13,14,15,16,17,18,19,20,21,22,23,24,25,26,27,28,29,30,31,32,33,34,35,36,37,38,39,40,41,42,43,44,45,46,47,48,49,50,51,52,53,54,55,56,57,58,59,60,61],\"y\":{\"__ndarray__\":\"Fn9WSK0uWEAiZarR+zhYQC1L/lpKQ1hAOTFS5JhNWEBFF6Zt51dYQFH9+fY1YlhAXONNgIRsWEBoyaEJ03ZYQHSv9ZIhgVhAf5VJHHCLWECLe52lvpVYQJdh8S4NoFhAo0dFuFuqWECuLZlBqrRYQLoT7cr4vlhAxvlAVEfJWEDR35TdldNYQN3F6Gbk3VhA6as88DLoWED1kZB5gfJYQAB45ALQ/FhADF44jB4HWUAYRIwVbRFZQCQq4J67G1lALxA0KAomWUA79oexWDBZQEfc2zqnOllAUsIvxPVEWUBeqINNRE9ZQGqO19aSWVlAdnQrYOFjWUCBWn/pL25ZQI1A03J+eFlAmSYn/MyCWUCkDHuFG41ZQLDyzg5ql1lAvNgimLihWUDIvnYhB6xZQNOkyqpVtllA34oeNKTAWUDrcHK98spZQPZWxkZB1VlAAj0a0I/fWUAOI25Z3ulZQBoJwuIs9FlAJe8VbHv+WUAx1Wn1yQhaQD27vX4YE1pASKERCGcdWkBUh2WRtSdaQGBtuRoEMlpAbFMNpFI8WkB3OWEtoUZaQIMftbbvUFpAjwUJQD5bWkCa61zJjGVaQKbRsFLbb1pAsrcE3Cl6WkC+nVhleIRaQMmDrO7GjlpA1WkAeBWZWkDhT1QBZKNaQA==\",\"dtype\":\"float64\",\"order\":\"little\",\"shape\":[62]}},\"selected\":{\"id\":\"3586\"},\"selection_policy\":{\"id\":\"3585\"}},\"id\":\"3570\",\"type\":\"ColumnDataSource\"},{\"attributes\":{\"line_alpha\":0.1,\"line_color\":\"orange\",\"line_width\":2.5,\"x\":{\"field\":\"x\"},\"y\":{\"field\":\"y\"}},\"id\":\"3572\",\"type\":\"Line\"},{\"attributes\":{},\"id\":\"3563\",\"type\":\"BasicTickFormatter\"},{\"attributes\":{},\"id\":\"3524\",\"type\":\"DataRange1d\"},{\"attributes\":{\"label\":{\"value\":\"Linear Trend\"},\"renderers\":[{\"id\":\"3574\"}]},\"id\":\"3588\",\"type\":\"LegendItem\"},{\"attributes\":{},\"id\":\"3535\",\"type\":\"BasicTicker\"},{\"attributes\":{},\"id\":\"3528\",\"type\":\"LinearScale\"},{\"attributes\":{\"coordinates\":null,\"group\":null,\"text\":\"Modeling CPI with the Linear Model\"},\"id\":\"3520\",\"type\":\"Title\"},{\"attributes\":{},\"id\":\"3561\",\"type\":\"AllLabels\"},{\"attributes\":{\"line_color\":\"navy\",\"line_width\":2,\"x\":{\"field\":\"x\"},\"y\":{\"field\":\"y\"}},\"id\":\"3553\",\"type\":\"Line\"},{\"attributes\":{\"axis\":{\"id\":\"3530\"},\"coordinates\":null,\"group\":null,\"ticker\":null},\"id\":\"3533\",\"type\":\"Grid\"},{\"attributes\":{},\"id\":\"3526\",\"type\":\"LinearScale\"},{\"attributes\":{},\"id\":\"3585\",\"type\":\"UnionRenderers\"},{\"attributes\":{\"source\":{\"id\":\"3552\"}},\"id\":\"3557\",\"type\":\"CDSView\"},{\"attributes\":{\"axis_label\":\"Time\",\"coordinates\":null,\"formatter\":{\"id\":\"3563\"},\"group\":null,\"major_label_overrides\":{\"0\":\"2008\",\"18\":\"2010\",\"30\":\"2011\",\"42\":\"2012\",\"54\":\"2013\",\"6\":\"2009\"},\"major_label_policy\":{\"id\":\"3564\"},\"ticker\":{\"id\":\"3589\"}},\"id\":\"3530\",\"type\":\"LinearAxis\"},{\"attributes\":{\"axis_label\":\"CPI\",\"coordinates\":null,\"formatter\":{\"id\":\"3560\"},\"group\":null,\"major_label_policy\":{\"id\":\"3561\"},\"ticker\":{\"id\":\"3535\"}},\"id\":\"3534\",\"type\":\"LinearAxis\"},{\"attributes\":{\"line_alpha\":0.1,\"line_color\":\"navy\",\"line_width\":2,\"x\":{\"field\":\"x\"},\"y\":{\"field\":\"y\"}},\"id\":\"3554\",\"type\":\"Line\"},{\"attributes\":{},\"id\":\"3586\",\"type\":\"Selection\"}],\"root_ids\":[\"3519\"]},\"title\":\"Bokeh Application\",\"version\":\"2.4.1\"}};\n",
       "  const render_items = [{\"docid\":\"efc2f716-8ef9-4830-8d0e-38f510dab8b4\",\"root_ids\":[\"3519\"],\"roots\":{\"3519\":\"c399d026-09c8-47fc-9ae1-9404465401b4\"}}];\n",
       "  root.Bokeh.embed.embed_items_notebook(docs_json, render_items);\n",
       "\n",
       "  }\n",
       "  if (root.Bokeh !== undefined) {\n",
       "    embed_document(root);\n",
       "  } else {\n",
       "    let attempts = 0;\n",
       "    const timer = setInterval(function(root) {\n",
       "      if (root.Bokeh !== undefined) {\n",
       "        clearInterval(timer);\n",
       "        embed_document(root);\n",
       "      } else {\n",
       "        attempts++;\n",
       "        if (attempts > 100) {\n",
       "          clearInterval(timer);\n",
       "          console.log(\"Bokeh: ERROR: Unable to run BokehJS code because BokehJS library is missing\");\n",
       "        }\n",
       "      }\n",
       "    }, 10, root)\n",
       "  }\n",
       "})(window);"
      ],
      "application/vnd.bokehjs_exec.v0+json": ""
     },
     "metadata": {
      "application/vnd.bokehjs_exec.v0+json": {
       "id": "3519"
      }
     },
     "output_type": "display_data"
    }
   ],
   "source": [
    "# Plotting linear trend on top of the data\n",
    "\n",
    "linear_fit = lr.predict(np.array(cpi_train.index).reshape(-1, 1))\n",
    "\n",
    "p = figure(plot_width=800, plot_height=600, title=\"Modeling CPI with the Linear Model\")\n",
    "p.line(cpi_train.index, cpi_train.CPI, line_color=\"navy\", line_width=2, legend_label =\"Original Data\")\n",
    "p.line(cpi_train.index, linear_fit, line_color=\"orange\", line_width=2.5, legend_label =\"Linear Trend\")\n",
    "p.xaxis.ticker = [0, 6, 18, 30, 42, 54]\n",
    "p.xaxis.major_label_overrides = {0: '2008', 6: '2009', 18: '2010', 30: '2011', 42: '2012', 54: '2013'}\n",
    "p.xaxis.axis_label='Time'\n",
    "p.yaxis.axis_label='CPI'\n",
    "p.legend.location='bottom_right'\n",
    "show(p)"
   ]
  },
  {
   "cell_type": "markdown",
   "metadata": {},
   "source": [
    "<b> Subtract the linear trend from the data to get the residuals $R_t$. Visualize $R_t$. Do you see obvious further trend or seasonality in $R_t$? Report the maximum absolute value of the residuals over the training data.</b>"
   ]
  },
  {
   "cell_type": "code",
   "execution_count": 56,
   "metadata": {},
   "outputs": [
    {
     "data": {
      "text/html": [
       "\n",
       "\n",
       "\n",
       "\n",
       "\n",
       "\n",
       "  <div class=\"bk-root\" id=\"fb18dcd3-9304-4910-974e-b028bc83611c\" data-root-id=\"3797\"></div>\n"
      ]
     },
     "metadata": {},
     "output_type": "display_data"
    },
    {
     "data": {
      "application/javascript": [
       "(function(root) {\n",
       "  function embed_document(root) {\n",
       "    \n",
       "  const docs_json = {\"12bb1591-eb07-468d-960c-7dfb9ecadca6\":{\"defs\":[],\"roots\":{\"references\":[{\"attributes\":{\"below\":[{\"id\":\"3808\"}],\"center\":[{\"id\":\"3811\"},{\"id\":\"3815\"},{\"id\":\"3846\"}],\"left\":[{\"id\":\"3812\"}],\"renderers\":[{\"id\":\"3834\"}],\"title\":{\"id\":\"3798\"},\"toolbar\":{\"id\":\"3823\"},\"width\":800,\"x_range\":{\"id\":\"3800\"},\"x_scale\":{\"id\":\"3804\"},\"y_range\":{\"id\":\"3802\"},\"y_scale\":{\"id\":\"3806\"}},\"id\":\"3797\",\"subtype\":\"Figure\",\"type\":\"Plot\"},{\"attributes\":{\"coordinates\":null,\"group\":null,\"items\":[{\"id\":\"3847\"}],\"location\":\"bottom_right\"},\"id\":\"3846\",\"type\":\"Legend\"},{\"attributes\":{},\"id\":\"3842\",\"type\":\"AllLabels\"},{\"attributes\":{},\"id\":\"3800\",\"type\":\"DataRange1d\"},{\"attributes\":{\"line_alpha\":0.2,\"line_color\":\"navy\",\"line_width\":2,\"x\":{\"field\":\"x\"},\"y\":{\"field\":\"y\"}},\"id\":\"3833\",\"type\":\"Line\"},{\"attributes\":{},\"id\":\"3813\",\"type\":\"BasicTicker\"},{\"attributes\":{\"source\":{\"id\":\"3830\"}},\"id\":\"3835\",\"type\":\"CDSView\"},{\"attributes\":{\"line_alpha\":0.1,\"line_color\":\"navy\",\"line_width\":2,\"x\":{\"field\":\"x\"},\"y\":{\"field\":\"y\"}},\"id\":\"3832\",\"type\":\"Line\"},{\"attributes\":{},\"id\":\"3844\",\"type\":\"Selection\"},{\"attributes\":{\"label\":{\"value\":\"Detrended Data\"},\"renderers\":[{\"id\":\"3834\"}]},\"id\":\"3847\",\"type\":\"LegendItem\"},{\"attributes\":{\"coordinates\":null,\"formatter\":{\"id\":\"3841\"},\"group\":null,\"major_label_overrides\":{\"0\":\"2008\",\"18\":\"2010\",\"30\":\"2011\",\"42\":\"2012\",\"54\":\"2013\",\"6\":\"2009\"},\"major_label_policy\":{\"id\":\"3842\"},\"ticker\":{\"id\":\"3848\"}},\"id\":\"3808\",\"type\":\"LinearAxis\"},{\"attributes\":{},\"id\":\"3802\",\"type\":\"DataRange1d\"},{\"attributes\":{\"coordinates\":null,\"group\":null,\"text\":\"CPI Detrended Time Series\"},\"id\":\"3798\",\"type\":\"Title\"},{\"attributes\":{\"axis\":{\"id\":\"3808\"},\"coordinates\":null,\"group\":null,\"ticker\":null},\"id\":\"3811\",\"type\":\"Grid\"},{\"attributes\":{\"coordinates\":null,\"data_source\":{\"id\":\"3830\"},\"glyph\":{\"id\":\"3831\"},\"group\":null,\"hover_glyph\":null,\"muted_glyph\":{\"id\":\"3833\"},\"nonselection_glyph\":{\"id\":\"3832\"},\"view\":{\"id\":\"3835\"}},\"id\":\"3834\",\"type\":\"GlyphRenderer\"},{\"attributes\":{\"coordinates\":null,\"formatter\":{\"id\":\"3838\"},\"group\":null,\"major_label_policy\":{\"id\":\"3839\"},\"ticker\":{\"id\":\"3813\"}},\"id\":\"3812\",\"type\":\"LinearAxis\"},{\"attributes\":{},\"id\":\"3806\",\"type\":\"LinearScale\"},{\"attributes\":{\"ticks\":[0,6,18,30,42,54]},\"id\":\"3848\",\"type\":\"FixedTicker\"},{\"attributes\":{\"data\":{\"x\":[0,1,2,3,4,5,6,7,8,9,10,11,12,13,14,15,16,17,18,19,20,21,22,23,24,25,26,27,28,29,30,31,32,33,34,35,36,37,38,39,40,41,42,43,44,45,46,47,48,49,50,51,52,53,54,55,56,57,58,59,60,61],\"y\":{\"__ndarray__\":\"QB0w9VYqCkAgZaxr7RMNQMCP8Ho/lAhAQOiKXvIuBkDAtechV6H5PwCsXB6rG92/QLHOWxnr+b9AR4Am8831v4DJRMYotPC/gNQE1L8D77+AzcCdEGfsv4BjjgwfjOi/AMi0U1Wwtr8AlupfcPvZvwDRlQlfKda/AGvxzgOF3L+AroZMC1/gv4B6BBGcSeO/AIN03S8D7r+ACOoSil/ov4BdwQahvOy/ADD1FeLf5L+A7Nu9+3/kvwDX+1OqLue/AFw3vWxz77+AqpapKvfxv8BfPOFaV/K/gCBY3EH9879Alsi1t5P0vwAeMOgne/a/wD78/sRO9r+AAue3M0DxvwDkIJD7xee/AGSxmpgNtT8AVx6RfYXiPwBgNpzf1+w/AFll75Em5D+Aqs32DOzhP4AfgHkL4eU/gOXqGo/B5T8AbchBC4TTPwBgMYV5+aw/AJheqEUB178A0CVS/xKxvwBQ+8rpOs0/gGF1S8dw6z9AeKtV9TXwPwB52XLBUec/AIbnwNZ52j8AACN9G+20PwB8HT7ZG+A/gJufli796T8AihlDZ4TjPwDAuWrNo6q/AID6U5nE378A0uMfLjfWvwArUSqno9Y/AGNlxAkW3j8AqobV3GbJPwAw7s9+Ac0/AD0ZwFKM1D8AEvs9G9/JPw==\",\"dtype\":\"float64\",\"order\":\"little\",\"shape\":[62]}},\"selected\":{\"id\":\"3844\"},\"selection_policy\":{\"id\":\"3843\"}},\"id\":\"3830\",\"type\":\"ColumnDataSource\"},{\"attributes\":{},\"id\":\"3817\",\"type\":\"WheelZoomTool\"},{\"attributes\":{\"bottom_units\":\"screen\",\"coordinates\":null,\"fill_alpha\":0.5,\"fill_color\":\"lightgrey\",\"group\":null,\"left_units\":\"screen\",\"level\":\"overlay\",\"line_alpha\":1.0,\"line_color\":\"black\",\"line_dash\":[4,4],\"line_width\":2,\"right_units\":\"screen\",\"syncable\":false,\"top_units\":\"screen\"},\"id\":\"3822\",\"type\":\"BoxAnnotation\"},{\"attributes\":{},\"id\":\"3843\",\"type\":\"UnionRenderers\"},{\"attributes\":{\"tools\":[{\"id\":\"3816\"},{\"id\":\"3817\"},{\"id\":\"3818\"},{\"id\":\"3819\"},{\"id\":\"3820\"},{\"id\":\"3821\"}]},\"id\":\"3823\",\"type\":\"Toolbar\"},{\"attributes\":{},\"id\":\"3804\",\"type\":\"LinearScale\"},{\"attributes\":{},\"id\":\"3821\",\"type\":\"HelpTool\"},{\"attributes\":{},\"id\":\"3820\",\"type\":\"ResetTool\"},{\"attributes\":{},\"id\":\"3819\",\"type\":\"SaveTool\"},{\"attributes\":{\"line_color\":\"navy\",\"line_width\":2,\"x\":{\"field\":\"x\"},\"y\":{\"field\":\"y\"}},\"id\":\"3831\",\"type\":\"Line\"},{\"attributes\":{\"axis\":{\"id\":\"3812\"},\"coordinates\":null,\"dimension\":1,\"group\":null,\"ticker\":null},\"id\":\"3815\",\"type\":\"Grid\"},{\"attributes\":{},\"id\":\"3838\",\"type\":\"BasicTickFormatter\"},{\"attributes\":{\"overlay\":{\"id\":\"3822\"}},\"id\":\"3818\",\"type\":\"BoxZoomTool\"},{\"attributes\":{},\"id\":\"3816\",\"type\":\"PanTool\"},{\"attributes\":{},\"id\":\"3839\",\"type\":\"AllLabels\"},{\"attributes\":{},\"id\":\"3841\",\"type\":\"BasicTickFormatter\"}],\"root_ids\":[\"3797\"]},\"title\":\"Bokeh Application\",\"version\":\"2.4.1\"}};\n",
       "  const render_items = [{\"docid\":\"12bb1591-eb07-468d-960c-7dfb9ecadca6\",\"root_ids\":[\"3797\"],\"roots\":{\"3797\":\"fb18dcd3-9304-4910-974e-b028bc83611c\"}}];\n",
       "  root.Bokeh.embed.embed_items_notebook(docs_json, render_items);\n",
       "\n",
       "  }\n",
       "  if (root.Bokeh !== undefined) {\n",
       "    embed_document(root);\n",
       "  } else {\n",
       "    let attempts = 0;\n",
       "    const timer = setInterval(function(root) {\n",
       "      if (root.Bokeh !== undefined) {\n",
       "        clearInterval(timer);\n",
       "        embed_document(root);\n",
       "      } else {\n",
       "        attempts++;\n",
       "        if (attempts > 100) {\n",
       "          clearInterval(timer);\n",
       "          console.log(\"Bokeh: ERROR: Unable to run BokehJS code because BokehJS library is missing\");\n",
       "        }\n",
       "      }\n",
       "    }, 10, root)\n",
       "  }\n",
       "})(window);"
      ],
      "application/vnd.bokehjs_exec.v0+json": ""
     },
     "metadata": {
      "application/vnd.bokehjs_exec.v0+json": {
       "id": "3797"
      }
     },
     "output_type": "display_data"
    }
   ],
   "source": [
    "# Plotting detrended data by removing the linear trend from data\n",
    "\n",
    "detrend = cpi_train.CPI - linear_fit\n",
    "\n",
    "p = figure(plot_width=800, plot_height=600, title = \"CPI Detrended Time Series\")\n",
    "p.line(cpi_train.index, detrend, line_color=\"navy\", line_width=2, legend_label =\"Detrended Data\")\n",
    "p.xaxis.ticker = [0, 6, 18, 30, 42, 54]\n",
    "p.xaxis.major_label_overrides = {0: '2008', 6: '2009', 18: '2010', 30: '2011', 42: '2012', 54: '2013'}\n",
    "p.legend.location='bottom_right'\n",
    "show(p)"
   ]
  },
  {
   "cell_type": "code",
   "execution_count": 57,
   "metadata": {},
   "outputs": [
    {
     "name": "stdout",
     "output_type": "stream",
     "text": [
      "The maximum absolute value of the residuals value is 3.634730187605456\n"
     ]
    }
   ],
   "source": [
    "print(\"The maximum absolute value of the residuals value is\", abs(np.max(detrend)))"
   ]
  },
  {
   "cell_type": "code",
   "execution_count": 58,
   "metadata": {},
   "outputs": [
    {
     "data": {
      "text/html": [
       "\n",
       "\n",
       "\n",
       "\n",
       "\n",
       "\n",
       "  <div class=\"bk-root\" id=\"0e763e28-eed3-43f2-acd4-8ab862cd9673\" data-root-id=\"4055\"></div>\n"
      ]
     },
     "metadata": {},
     "output_type": "display_data"
    },
    {
     "data": {
      "application/javascript": [
       "(function(root) {\n",
       "  function embed_document(root) {\n",
       "    \n",
       "  const docs_json = {\"100fb704-2ada-4d6a-a825-0b61a0612be1\":{\"defs\":[],\"roots\":{\"references\":[{\"attributes\":{\"below\":[{\"id\":\"4066\"}],\"center\":[{\"id\":\"4069\"},{\"id\":\"4073\"},{\"id\":\"4104\"}],\"left\":[{\"id\":\"4070\"}],\"renderers\":[{\"id\":\"4092\"}],\"title\":{\"id\":\"4056\"},\"toolbar\":{\"id\":\"4081\"},\"width\":800,\"x_range\":{\"id\":\"4058\"},\"x_scale\":{\"id\":\"4062\"},\"y_range\":{\"id\":\"4060\"},\"y_scale\":{\"id\":\"4064\"}},\"id\":\"4055\",\"subtype\":\"Figure\",\"type\":\"Plot\"},{\"attributes\":{\"axis\":{\"id\":\"4066\"},\"coordinates\":null,\"group\":null,\"ticker\":null},\"id\":\"4069\",\"type\":\"Grid\"},{\"attributes\":{},\"id\":\"4096\",\"type\":\"BasicTickFormatter\"},{\"attributes\":{\"coordinates\":null,\"formatter\":{\"id\":\"4096\"},\"group\":null,\"major_label_policy\":{\"id\":\"4097\"},\"ticker\":{\"id\":\"4071\"}},\"id\":\"4070\",\"type\":\"LinearAxis\"},{\"attributes\":{\"line_alpha\":0.2,\"line_color\":\"navy\",\"line_width\":2,\"x\":{\"field\":\"x\"},\"y\":{\"field\":\"y\"}},\"id\":\"4091\",\"type\":\"Line\"},{\"attributes\":{},\"id\":\"4064\",\"type\":\"LinearScale\"},{\"attributes\":{\"coordinates\":null,\"group\":null,\"text\":\"CPI Detrended with Differencing\"},\"id\":\"4056\",\"type\":\"Title\"},{\"attributes\":{},\"id\":\"4097\",\"type\":\"AllLabels\"},{\"attributes\":{},\"id\":\"4062\",\"type\":\"LinearScale\"},{\"attributes\":{\"coordinates\":null,\"formatter\":{\"id\":\"4099\"},\"group\":null,\"major_label_overrides\":{\"0\":\"2008\",\"18\":\"2010\",\"30\":\"2011\",\"42\":\"2012\",\"54\":\"2013\",\"6\":\"2009\"},\"major_label_policy\":{\"id\":\"4100\"},\"ticker\":{\"id\":\"4106\"}},\"id\":\"4066\",\"type\":\"LinearAxis\"},{\"attributes\":{\"source\":{\"id\":\"4088\"}},\"id\":\"4093\",\"type\":\"CDSView\"},{\"attributes\":{},\"id\":\"4079\",\"type\":\"HelpTool\"},{\"attributes\":{},\"id\":\"4099\",\"type\":\"BasicTickFormatter\"},{\"attributes\":{\"line_alpha\":0.1,\"line_color\":\"navy\",\"line_width\":2,\"x\":{\"field\":\"x\"},\"y\":{\"field\":\"y\"}},\"id\":\"4090\",\"type\":\"Line\"},{\"attributes\":{},\"id\":\"4100\",\"type\":\"AllLabels\"},{\"attributes\":{\"axis\":{\"id\":\"4070\"},\"coordinates\":null,\"dimension\":1,\"group\":null,\"ticker\":null},\"id\":\"4073\",\"type\":\"Grid\"},{\"attributes\":{\"line_color\":\"navy\",\"line_width\":2,\"x\":{\"field\":\"x\"},\"y\":{\"field\":\"y\"}},\"id\":\"4089\",\"type\":\"Line\"},{\"attributes\":{},\"id\":\"4071\",\"type\":\"BasicTicker\"},{\"attributes\":{\"tools\":[{\"id\":\"4074\"},{\"id\":\"4075\"},{\"id\":\"4076\"},{\"id\":\"4077\"},{\"id\":\"4078\"},{\"id\":\"4079\"}]},\"id\":\"4081\",\"type\":\"Toolbar\"},{\"attributes\":{\"coordinates\":null,\"group\":null,\"items\":[{\"id\":\"4105\"}],\"location\":\"bottom_right\"},\"id\":\"4104\",\"type\":\"Legend\"},{\"attributes\":{},\"id\":\"4075\",\"type\":\"WheelZoomTool\"},{\"attributes\":{},\"id\":\"4074\",\"type\":\"PanTool\"},{\"attributes\":{\"label\":{\"value\":\"Detrended Data with Differencing\"},\"renderers\":[{\"id\":\"4092\"}]},\"id\":\"4105\",\"type\":\"LegendItem\"},{\"attributes\":{\"overlay\":{\"id\":\"4080\"}},\"id\":\"4076\",\"type\":\"BoxZoomTool\"},{\"attributes\":{},\"id\":\"4077\",\"type\":\"SaveTool\"},{\"attributes\":{},\"id\":\"4078\",\"type\":\"ResetTool\"},{\"attributes\":{},\"id\":\"4101\",\"type\":\"UnionRenderers\"},{\"attributes\":{\"bottom_units\":\"screen\",\"coordinates\":null,\"fill_alpha\":0.5,\"fill_color\":\"lightgrey\",\"group\":null,\"left_units\":\"screen\",\"level\":\"overlay\",\"line_alpha\":1.0,\"line_color\":\"black\",\"line_dash\":[4,4],\"line_width\":2,\"right_units\":\"screen\",\"syncable\":false,\"top_units\":\"screen\"},\"id\":\"4080\",\"type\":\"BoxAnnotation\"},{\"attributes\":{},\"id\":\"4102\",\"type\":\"Selection\"},{\"attributes\":{},\"id\":\"4060\",\"type\":\"DataRange1d\"},{\"attributes\":{\"coordinates\":null,\"data_source\":{\"id\":\"4088\"},\"glyph\":{\"id\":\"4089\"},\"group\":null,\"hover_glyph\":null,\"muted_glyph\":{\"id\":\"4091\"},\"nonselection_glyph\":{\"id\":\"4090\"},\"view\":{\"id\":\"4093\"}},\"id\":\"4092\",\"type\":\"GlyphRenderer\"},{\"attributes\":{\"ticks\":[0,6,18,30,42,54]},\"id\":\"4106\",\"type\":\"FixedTicker\"},{\"attributes\":{\"data\":{\"x\":[0,1,2,3,4,5,6,7,8,9,10,11,12,13,14,15,16,17,18,19,20,21,22,23,24,25,26,27,28,29,30,31,32,33,34,35,36,37,38,39,40,41,42,43,44,45,46,47,48,49,50,51,52,53,54,55,56,57,58,59,60,61],\"y\":{\"__ndarray__\":\"AAAAAAAA+H8A4MSyqnN1PwDcZCRVYnC/AHB2wZaqVr8AME/09cqEvwDgrr2BzZO/AP51QqVKhb8A1BDC68lxPwA0Q/tiUXQ/ANgCZqblYz8AuK1huWxkPwAYtqOFoWc/AFaKoFWEgT8AMHpY3f9ZvwDQKyZzWmI/AACdvJ19RD8AQO+zZ4tPPwBAkrbwLUc/ALB6FRrhXL8AMFmUt/JrPwAAQmPCVDA/AOwcJvnIcD8A0H50wm5cPwDAE+ocY0k/AODDsRMBUL8AACXvoq4rPwCQGOH3mlY/AKDh+YsOQz8AwAImqmNUPwCAyuMCjzs/AACsKmAjXD8AKA2plnZzPwBMetkZJnQ/ACYqwH7fgz8A7IfRPkp6PwD0PyUDOnM/ABCUX4qOUb8AYDHGRwVNPwB4WyzPjmY/ALCkGqPbWD8AoPAWpepgvwBASJk8qEu/AIguBdk6ZL8A6PKEu/txPwDYxNvJ/nE/ACjfhLv9fj8AMCI747VoPwAgRiIkPVO/ADBAZZIKWL8AMD+YkLhavwCYG0t4u3Y/APzUYoY8cj8AQOLIWok5vwAgHNpAdHO/ADjvmH8WZr8ASOp7mzBoPwC2G6FetIA/ACA0Tc1jZT8AMLF5AAtRvwCApFrlJF0/AHgwiCyjYz8AwGe7k9k5Pw==\",\"dtype\":\"float64\",\"order\":\"little\",\"shape\":[62]}},\"selected\":{\"id\":\"4102\"},\"selection_policy\":{\"id\":\"4101\"}},\"id\":\"4088\",\"type\":\"ColumnDataSource\"},{\"attributes\":{},\"id\":\"4058\",\"type\":\"DataRange1d\"}],\"root_ids\":[\"4055\"]},\"title\":\"Bokeh Application\",\"version\":\"2.4.1\"}};\n",
       "  const render_items = [{\"docid\":\"100fb704-2ada-4d6a-a825-0b61a0612be1\",\"root_ids\":[\"4055\"],\"roots\":{\"4055\":\"0e763e28-eed3-43f2-acd4-8ab862cd9673\"}}];\n",
       "  root.Bokeh.embed.embed_items_notebook(docs_json, render_items);\n",
       "\n",
       "  }\n",
       "  if (root.Bokeh !== undefined) {\n",
       "    embed_document(root);\n",
       "  } else {\n",
       "    let attempts = 0;\n",
       "    const timer = setInterval(function(root) {\n",
       "      if (root.Bokeh !== undefined) {\n",
       "        clearInterval(timer);\n",
       "        embed_document(root);\n",
       "      } else {\n",
       "        attempts++;\n",
       "        if (attempts > 100) {\n",
       "          clearInterval(timer);\n",
       "          console.log(\"Bokeh: ERROR: Unable to run BokehJS code because BokehJS library is missing\");\n",
       "        }\n",
       "      }\n",
       "    }, 10, root)\n",
       "  }\n",
       "})(window);"
      ],
      "application/vnd.bokehjs_exec.v0+json": ""
     },
     "metadata": {
      "application/vnd.bokehjs_exec.v0+json": {
       "id": "4055"
      }
     },
     "output_type": "display_data"
    }
   ],
   "source": [
    "# Plotting another way to detrend the data with logarithmic differencing\n",
    "\n",
    "cpi_diff_log = np.log(cpi.CPI).diff()\n",
    "detrend_diff = cpi_diff_log[0:cpi_train.shape[0]]\n",
    "\n",
    "p = figure(plot_width=800, plot_height=600, title=\"CPI Detrended with Differencing\")\n",
    "p.line(cpi_train.index, detrend_diff, line_color=\"navy\", line_width=2, legend_label=\"Detrended Data with Differencing\")\n",
    "p.xaxis.ticker = [0, 6, 18, 30, 42, 54]\n",
    "p.xaxis.major_label_overrides = {0: '2008', 6: '2009', 18: '2010', 30: '2011', 42: '2012', 54: '2013'}\n",
    "p.legend.location = \"bottom_right\"\n",
    "show(p)"
   ]
  },
  {
   "cell_type": "code",
   "execution_count": 59,
   "metadata": {},
   "outputs": [
    {
     "name": "stdout",
     "output_type": "stream",
     "text": [
      "The maximum absolute value of the residuals value is 0.00970362686099957\n"
     ]
    }
   ],
   "source": [
    "print(\"The maximum absolute value of the residuals value is\", abs(np.max(detrend_diff)))"
   ]
  },
  {
   "cell_type": "markdown",
   "metadata": {},
   "source": [
    "Both methods work as they manage to remove the trend from the data, however the logarithmic differencing has a lower maximum absolute value of the residuals which could indicate it achieves better results."
   ]
  },
  {
   "cell_type": "markdown",
   "metadata": {},
   "source": [
    "As there seems to be no other clear trend present in this residual, we can take the linear trend to be sufficient and move to the next step, i.e. to deseasonalize the data. However, since the visualization of the residual also seems to indicate no clear seasonality, we directly proceed to fitting an AR Model on the residual $R_t$.\n",
    "\n",
    "<b>Determine the order $p$ of the AR model by examining the auto-correlation and partial auto-correlation functions of the residuals. Start with a single AR term and add terms as necessary.</b>"
   ]
  },
  {
   "cell_type": "code",
   "execution_count": 60,
   "metadata": {},
   "outputs": [
    {
     "data": {
      "image/png": "[encoded data removed]",
      "text/plain": [
       "<Figure size 432x288 with 1 Axes>"
      ]
     },
     "metadata": {
      "needs_background": "light"
     },
     "output_type": "display_data"
    },
    {
     "data": {
      "image/png": "[encoded data removed]",
      "text/plain": [
       "<Figure size 432x288 with 1 Axes>"
      ]
     },
     "metadata": {
      "needs_background": "light"
     },
     "output_type": "display_data"
    }
   ],
   "source": [
    "# Plotting Auto-correlation and partial auto-correlation functions of the residuals\n",
    "\n",
    "plot_acf(detrend, zero=False)\n",
    "plot_pacf(detrend, zero=False)\n",
    "plt.show()"
   ]
  },
  {
   "cell_type": "markdown",
   "metadata": {},
   "source": [
    "We notice from both plots that the highest lag where the autocorrelation extends beyond the statistically significant boundary (i.e. blue frame) is at lag 2. This would indicate that we could model the CPI data with an AR(2) model. We can confirm this by calculating the RMSE of the fit with different lags."
   ]
  },
  {
   "cell_type": "code",
   "execution_count": 61,
   "metadata": {},
   "outputs": [
    {
     "name": "stdout",
     "output_type": "stream",
     "text": [
      "Test RMSE for AR(1):0.0023953848786495316\n",
      "Test RMSE for AR(2):0.0023342073865404603\n",
      "Test RMSE for AR(3):0.002336359955382079\n",
      "Test RMSE for AR(4):0.002390227562898291\n",
      "Test RMSE for AR(5):0.002350614596570656\n",
      "Test RMSE for AR(6):0.002419240208308682\n",
      "Test RMSE for AR(7):0.002497972567898628\n"
     ]
    },
    {
     "data": {
      "text/html": [
       "\n",
       "\n",
       "\n",
       "\n",
       "\n",
       "\n",
       "  <div class=\"bk-root\" id=\"8481b579-b23b-4560-8227-320de1f11e0c\" data-root-id=\"4322\"></div>\n"
      ]
     },
     "metadata": {},
     "output_type": "display_data"
    },
    {
     "data": {
      "application/javascript": [
       "(function(root) {\n",
       "  function embed_document(root) {\n",
       "    \n",
       "  const docs_json = {\"d3f8181e-e103-4e17-84d5-e27c800dbfb2\":{\"defs\":[],\"roots\":{\"references\":[{\"attributes\":{\"below\":[{\"id\":\"4333\"}],\"center\":[{\"id\":\"4336\"},{\"id\":\"4340\"},{\"id\":\"4371\"}],\"left\":[{\"id\":\"4337\"}],\"renderers\":[{\"id\":\"4359\"}],\"title\":{\"id\":\"4323\"},\"toolbar\":{\"id\":\"4348\"},\"width\":800,\"x_range\":{\"id\":\"4325\"},\"x_scale\":{\"id\":\"4329\"},\"y_range\":{\"id\":\"4327\"},\"y_scale\":{\"id\":\"4331\"}},\"id\":\"4322\",\"subtype\":\"Figure\",\"type\":\"Plot\"},{\"attributes\":{\"data\":{\"x\":{\"__ndarray__\":\"AQAAAAIAAAADAAAABAAAAAUAAAAGAAAABwAAAA==\",\"dtype\":\"int32\",\"order\":\"little\",\"shape\":[7]},\"y\":[0.0023953848786495316,0.0023342073865404603,0.002336359955382079,0.002390227562898291,0.002350614596570656,0.002419240208308682,0.002497972567898628]},\"selected\":{\"id\":\"4369\"},\"selection_policy\":{\"id\":\"4368\"}},\"id\":\"4355\",\"type\":\"ColumnDataSource\"},{\"attributes\":{\"coordinates\":null,\"group\":null,\"items\":[{\"id\":\"4372\"}],\"location\":\"bottom_right\"},\"id\":\"4371\",\"type\":\"Legend\"},{\"attributes\":{\"coordinates\":null,\"formatter\":{\"id\":\"4363\"},\"group\":null,\"major_label_policy\":{\"id\":\"4364\"},\"ticker\":{\"id\":\"4338\"}},\"id\":\"4337\",\"type\":\"LinearAxis\"},{\"attributes\":{},\"id\":\"4346\",\"type\":\"HelpTool\"},{\"attributes\":{},\"id\":\"4345\",\"type\":\"ResetTool\"},{\"attributes\":{\"axis\":{\"id\":\"4333\"},\"coordinates\":null,\"group\":null,\"ticker\":null},\"id\":\"4336\",\"type\":\"Grid\"},{\"attributes\":{\"fill_alpha\":{\"value\":0.2},\"fill_color\":{\"value\":\"orange\"},\"hatch_alpha\":{\"value\":0.2},\"line_alpha\":{\"value\":0.2},\"line_color\":{\"value\":\"navy\"},\"marker\":{\"value\":\"square\"},\"size\":{\"value\":15},\"x\":{\"field\":\"x\"},\"y\":{\"field\":\"y\"}},\"id\":\"4358\",\"type\":\"Scatter\"},{\"attributes\":{\"overlay\":{\"id\":\"4347\"}},\"id\":\"4343\",\"type\":\"BoxZoomTool\"},{\"attributes\":{},\"id\":\"4363\",\"type\":\"BasicTickFormatter\"},{\"attributes\":{\"fill_alpha\":{\"value\":0.1},\"fill_color\":{\"value\":\"orange\"},\"hatch_alpha\":{\"value\":0.1},\"line_alpha\":{\"value\":0.1},\"line_color\":{\"value\":\"navy\"},\"marker\":{\"value\":\"square\"},\"size\":{\"value\":15},\"x\":{\"field\":\"x\"},\"y\":{\"field\":\"y\"}},\"id\":\"4357\",\"type\":\"Scatter\"},{\"attributes\":{},\"id\":\"4364\",\"type\":\"AllLabels\"},{\"attributes\":{},\"id\":\"4334\",\"type\":\"BasicTicker\"},{\"attributes\":{\"coordinates\":null,\"data_source\":{\"id\":\"4355\"},\"glyph\":{\"id\":\"4356\"},\"group\":null,\"hover_glyph\":null,\"muted_glyph\":{\"id\":\"4358\"},\"nonselection_glyph\":{\"id\":\"4357\"},\"view\":{\"id\":\"4360\"}},\"id\":\"4359\",\"type\":\"GlyphRenderer\"},{\"attributes\":{\"axis\":{\"id\":\"4337\"},\"coordinates\":null,\"dimension\":1,\"group\":null,\"ticker\":null},\"id\":\"4340\",\"type\":\"Grid\"},{\"attributes\":{},\"id\":\"4366\",\"type\":\"BasicTickFormatter\"},{\"attributes\":{},\"id\":\"4344\",\"type\":\"SaveTool\"},{\"attributes\":{\"source\":{\"id\":\"4355\"}},\"id\":\"4360\",\"type\":\"CDSView\"},{\"attributes\":{},\"id\":\"4367\",\"type\":\"AllLabels\"},{\"attributes\":{\"tools\":[{\"id\":\"4341\"},{\"id\":\"4342\"},{\"id\":\"4343\"},{\"id\":\"4344\"},{\"id\":\"4345\"},{\"id\":\"4346\"}]},\"id\":\"4348\",\"type\":\"Toolbar\"},{\"attributes\":{\"label\":{\"value\":\"RMSE\"},\"renderers\":[{\"id\":\"4359\"}]},\"id\":\"4372\",\"type\":\"LegendItem\"},{\"attributes\":{},\"id\":\"4342\",\"type\":\"WheelZoomTool\"},{\"attributes\":{},\"id\":\"4338\",\"type\":\"BasicTicker\"},{\"attributes\":{\"axis_label\":\"Number of Lags\",\"coordinates\":null,\"formatter\":{\"id\":\"4366\"},\"group\":null,\"major_label_policy\":{\"id\":\"4367\"},\"ticker\":{\"id\":\"4334\"}},\"id\":\"4333\",\"type\":\"LinearAxis\"},{\"attributes\":{},\"id\":\"4341\",\"type\":\"PanTool\"},{\"attributes\":{},\"id\":\"4331\",\"type\":\"LinearScale\"},{\"attributes\":{},\"id\":\"4368\",\"type\":\"UnionRenderers\"},{\"attributes\":{},\"id\":\"4369\",\"type\":\"Selection\"},{\"attributes\":{\"bottom_units\":\"screen\",\"coordinates\":null,\"fill_alpha\":0.5,\"fill_color\":\"lightgrey\",\"group\":null,\"left_units\":\"screen\",\"level\":\"overlay\",\"line_alpha\":1.0,\"line_color\":\"black\",\"line_dash\":[4,4],\"line_width\":2,\"right_units\":\"screen\",\"syncable\":false,\"top_units\":\"screen\"},\"id\":\"4347\",\"type\":\"BoxAnnotation\"},{\"attributes\":{\"coordinates\":null,\"group\":null,\"text\":\"RMSE of AR Models of order n\"},\"id\":\"4323\",\"type\":\"Title\"},{\"attributes\":{\"fill_alpha\":{\"value\":0.5},\"fill_color\":{\"value\":\"orange\"},\"line_color\":{\"value\":\"navy\"},\"marker\":{\"value\":\"square\"},\"size\":{\"value\":15},\"x\":{\"field\":\"x\"},\"y\":{\"field\":\"y\"}},\"id\":\"4356\",\"type\":\"Scatter\"},{\"attributes\":{},\"id\":\"4325\",\"type\":\"DataRange1d\"},{\"attributes\":{},\"id\":\"4327\",\"type\":\"DataRange1d\"},{\"attributes\":{},\"id\":\"4329\",\"type\":\"LinearScale\"}],\"root_ids\":[\"4322\"]},\"title\":\"Bokeh Application\",\"version\":\"2.4.1\"}};\n",
       "  const render_items = [{\"docid\":\"d3f8181e-e103-4e17-84d5-e27c800dbfb2\",\"root_ids\":[\"4322\"],\"roots\":{\"4322\":\"8481b579-b23b-4560-8227-320de1f11e0c\"}}];\n",
       "  root.Bokeh.embed.embed_items_notebook(docs_json, render_items);\n",
       "\n",
       "  }\n",
       "  if (root.Bokeh !== undefined) {\n",
       "    embed_document(root);\n",
       "  } else {\n",
       "    let attempts = 0;\n",
       "    const timer = setInterval(function(root) {\n",
       "      if (root.Bokeh !== undefined) {\n",
       "        clearInterval(timer);\n",
       "        embed_document(root);\n",
       "      } else {\n",
       "        attempts++;\n",
       "        if (attempts > 100) {\n",
       "          clearInterval(timer);\n",
       "          console.log(\"Bokeh: ERROR: Unable to run BokehJS code because BokehJS library is missing\");\n",
       "        }\n",
       "      }\n",
       "    }, 10, root)\n",
       "  }\n",
       "})(window);"
      ],
      "application/vnd.bokehjs_exec.v0+json": ""
     },
     "metadata": {
      "application/vnd.bokehjs_exec.v0+json": {
       "id": "4322"
      }
     },
     "output_type": "display_data"
    }
   ],
   "source": [
    "# Plotting RMSE for a range of lags p with detrended data\n",
    "\n",
    "n = 2\n",
    "rmse_ar=[]\n",
    "\n",
    "cpi_diff_log = np.log(cpi.CPI).diff() # Detrending the data with differencing\n",
    "remaining = cpi_diff_log[0:cpi_train.shape[0]] # Taking only the training set\n",
    "remaining.iloc[0] = 0  \n",
    "\n",
    "remaining_test = cpi_diff_log[cpi_train.shape[0]:].dropna()\n",
    "remaining_test.iloc[0] = 0\n",
    "\n",
    "for n in range(1,8):\n",
    "    model = AutoReg(remaining, lags=n)\n",
    "    model_fit = model.fit()\n",
    "    coef = model_fit.params\n",
    "    past = remaining[len(remaining)-n:].values\n",
    "    past = [past[i] for i in range(len(past))]    \n",
    "    test_predictions = list()\n",
    "    \n",
    "    for t in range(len(remaining_test.dropna())):\n",
    "        length = len(past)\n",
    "        lag = [past[i] for i in range(length-n, length)]\n",
    "        pred = coef[0]\n",
    "        \n",
    "        for d in range(n):\n",
    "            pred += coef[d+1] * lag[n-d-1]\n",
    "        obs = remaining_test.values[t]\n",
    "        test_predictions.append(pred)\n",
    "        past.append(obs)\n",
    "    \n",
    "    rmse = (mean_squared_error(remaining_test.dropna(), test_predictions))**0.5\n",
    "    rmse_ar.append(rmse)\n",
    "    \n",
    "    print('Test RMSE for AR(' + str(n) +'):' + str(rmse))\n",
    "\n",
    "p = figure(plot_width=800, plot_height=600, title=\"RMSE of AR Models of order n\")\n",
    "p.scatter(np.arange(1,8), rmse_ar, size = 15, marker=\"square\", line_color=\"navy\", fill_color=\"orange\", fill_alpha=0.5, legend_label=\"RMSE\")\n",
    "p.xaxis.axis_label ='Number of Lags'\n",
    "#p.yaxis.axis_label ='RMSE'\n",
    "p.legend.location='bottom_right'\n",
    "show(p)"
   ]
  },
  {
   "cell_type": "markdown",
   "metadata": {},
   "source": [
    "The lowest RMSE comes with 2 lags which confirms the previous result."
   ]
  },
  {
   "cell_type": "markdown",
   "metadata": {},
   "source": [
    "Using the lag $p$ from the previous problem, fit an $\\text {AR}(p)$ model to the training data. Recall from the lecture the $\\text {AR}(p)$ model:\n",
    "\n",
    "$$X_{t}=\\phi _{1}X_{{t-1}}+\\ldots +\\phi _{p}X_{{t-p}}+\\varepsilon _{t}.$$\n",
    "\n",
    "<b> Report the coefficients $\\phi_1$ and $\\phi_2$. Plot the final predictions and the actual observed data together to visualize the fit.</b>"
   ]
  },
  {
   "cell_type": "code",
   "execution_count": 62,
   "metadata": {},
   "outputs": [],
   "source": [
    "# Building and fitting the AR(2) model with linearly detrended fitting\n",
    "\n",
    "n = 2\n",
    "\n",
    "AR2_model = AutoReg(detrend, lags= n).fit()\n",
    "coef = AR2_model.params\n",
    "\n",
    "past = detrend[len(detrend)-n:].values\n",
    "past = [past[i] for i in range(len(past))]\n",
    "\n",
    "training_predictions = AR2_model.predict(start = cpi_train.index[0], end=cpi_train.index[-1])\n",
    "\n",
    "test_predictions = list()\n",
    "linear_fit_test = lr.predict(np.array(cpi_test.index).reshape(-1,1))\n",
    "detrend_test = cpi_test.CPI - linear_fit_test\n",
    "\n",
    "for t in range(len(detrend_test)):\n",
    "    length = len(past)\n",
    "    lag = [past[i] for i in range(length-n,length)]\n",
    "    pred = coef[0]\n",
    "    for d in range(n):\n",
    "        pred += coef[d+1] * lag[n-d-1]\n",
    "    obs = detrend_test.values[t]\n",
    "    test_predictions.append(pred)\n",
    "    past.append(obs)\n",
    "\n",
    "final_training = training_predictions + linear_fit\n",
    "final_test = test_predictions + linear_fit_test"
   ]
  },
  {
   "cell_type": "code",
   "execution_count": 63,
   "metadata": {},
   "outputs": [
    {
     "name": "stdout",
     "output_type": "stream",
     "text": [
      "The AR(2) model X(t) = 1.323665527908049*X_t-1 -0.5307973982632423*X_t-2  -0.04310484527786574\n"
     ]
    }
   ],
   "source": [
    "# AR(2) model coefficients for linearly detrended data\n",
    "\n",
    "print(\"The AR(2) model X(t) = \" +str(coef[1])+\"*X_t-1 \" +str(coef[2])+\"*X_t-2 \", str(coef[0]) )"
   ]
  },
  {
   "cell_type": "code",
   "execution_count": 64,
   "metadata": {},
   "outputs": [
    {
     "data": {
      "text/html": [
       "\n",
       "\n",
       "\n",
       "\n",
       "\n",
       "\n",
       "  <div class=\"bk-root\" id=\"f8fe6430-da50-4592-82b2-e00f51004af8\" data-root-id=\"4602\"></div>\n"
      ]
     },
     "metadata": {},
     "output_type": "display_data"
    },
    {
     "data": {
      "application/javascript": [
       "(function(root) {\n",
       "  function embed_document(root) {\n",
       "    \n",
       "  const docs_json = {\"8cdada96-c191-4c44-9dde-f42192eab7d4\":{\"defs\":[],\"roots\":{\"references\":[{\"attributes\":{\"below\":[{\"id\":\"4613\"}],\"center\":[{\"id\":\"4616\"},{\"id\":\"4620\"},{\"id\":\"4651\"}],\"left\":[{\"id\":\"4617\"}],\"renderers\":[{\"id\":\"4639\"},{\"id\":\"4657\"},{\"id\":\"4676\"},{\"id\":\"4697\"}],\"title\":{\"id\":\"4603\"},\"toolbar\":{\"id\":\"4628\"},\"width\":800,\"x_range\":{\"id\":\"4605\"},\"x_scale\":{\"id\":\"4609\"},\"y_range\":{\"id\":\"4607\"},\"y_scale\":{\"id\":\"4611\"}},\"id\":\"4602\",\"subtype\":\"Figure\",\"type\":\"Plot\"},{\"attributes\":{\"coordinates\":null,\"data_source\":{\"id\":\"4635\"},\"glyph\":{\"id\":\"4636\"},\"group\":null,\"hover_glyph\":null,\"muted_glyph\":{\"id\":\"4638\"},\"nonselection_glyph\":{\"id\":\"4637\"},\"view\":{\"id\":\"4640\"}},\"id\":\"4639\",\"type\":\"GlyphRenderer\"},{\"attributes\":{},\"id\":\"4621\",\"type\":\"PanTool\"},{\"attributes\":{},\"id\":\"4644\",\"type\":\"AllLabels\"},{\"attributes\":{},\"id\":\"4646\",\"type\":\"BasicTickFormatter\"},{\"attributes\":{\"axis_label\":\"CPI\",\"coordinates\":null,\"formatter\":{\"id\":\"4643\"},\"group\":null,\"major_label_policy\":{\"id\":\"4644\"},\"ticker\":{\"id\":\"4618\"}},\"id\":\"4617\",\"type\":\"LinearAxis\"},{\"attributes\":{},\"id\":\"4647\",\"type\":\"AllLabels\"},{\"attributes\":{\"overlay\":{\"id\":\"4627\"}},\"id\":\"4623\",\"type\":\"BoxZoomTool\"},{\"attributes\":{\"coordinates\":null,\"group\":null,\"text\":\"CPI predictions\"},\"id\":\"4603\",\"type\":\"Title\"},{\"attributes\":{\"data\":{\"x\":[62,63,64,65,66,67,68,69,70,71,72,73,74,75,76,77,78,79,80,81,82,83,84,85,86,87,88,89,90,91,92,93,94,95,96,97,98,99,100,101,102,103,104,105,106,107,108,109,110,111,112,113,114,115,116,117,118,119,120,121,122,123,124,125,126,127,128,129,130,131,132,133,134,135,136],\"y\":{\"__ndarray__\":\"BoGVQ4u4WkAqOpLLf8BaQGaIY13crlpAm+Ydp+igWkBqTfOOU6BaQKH4MeauuVpAl/+QfvvSWkDlYaHWNP9aQPW52or9FVtAke18PzUuW0C6SQwCKztbQJzEILByOFtAf/s6cM4sW0CDL0ymCjJbQLivA+eMIFtAOwFNhA37WkAy5q4l5NNaQHrHKTqSs1pAGsBbIEHRWkDZX3ZPHvpaQFyPwvUoCFtAM8SxLm4rW0DHKTqSy0NbQHh6pSxDRFtAn6ut2F86W0CdgCbChi9bQA5Pr5RlLFtAGeJYF7cdW0D1udqK/QVbQNqs+lxtEVtAkDF3LSEXW0CiRbbz/TRbQLx0kxgEVltAw2SqYFRyW0DFILByaIlbQKfoSC7/fVtA/yH99nWEW0Bhw9MrZZVbQOC+DpwznltA5WGh1jSTW0CTOgFNhJVbQJEPejarvltAt9EA3gLVW0Am5IOezdpbQHKKjuTy71tAmbuWkA/2W0Bq3nGKjvxbQFYOLbKd91tA4umVsgwNXEBQjZduEjNcQOauJeSDLlxAppvEILAuXEBDrWnecSpcQH0/NV66UVxAnzws1JpyXEBQjZduEoNcQAdfmEwVoFxAw/UoXI++XECYTBWMSspcQBBYObTIylxAexSuR+HOXEBIUPwYc9dcQCo6kst/5FxAJCh+jLnLXEBxGw3gLbRcQHxhMlUwwlxAqDXNO07hXEAQ6bevAwtdQAMJih9jMl1ASnuDL0xCXUAW+8vuyUNdQFXBqKROUF1Aq8/VVuxPXUAAAAAAAAD4fwAAAAAAAPh/\",\"dtype\":\"float64\",\"order\":\"little\",\"shape\":[75]}},\"selected\":{\"id\":\"4669\"},\"selection_policy\":{\"id\":\"4668\"}},\"id\":\"4653\",\"type\":\"ColumnDataSource\"},{\"attributes\":{\"axis_label\":\"Time\",\"coordinates\":null,\"formatter\":{\"id\":\"4646\"},\"group\":null,\"major_label_overrides\":{\"0\":\"2008\",\"105\":\"2017\",\"140\":\"2020\",\"35\":\"2011\",\"70\":\"2014\"},\"major_label_policy\":{\"id\":\"4647\"},\"ticker\":{\"id\":\"4716\"}},\"id\":\"4613\",\"type\":\"LinearAxis\"},{\"attributes\":{\"coordinates\":null,\"group\":null,\"items\":[{\"id\":\"4652\"},{\"id\":\"4671\"},{\"id\":\"4692\"},{\"id\":\"4715\"}],\"location\":\"bottom_right\"},\"id\":\"4651\",\"type\":\"Legend\"},{\"attributes\":{\"line_alpha\":0.1,\"line_color\":\"orange\",\"line_width\":2.5,\"x\":{\"field\":\"x\"},\"y\":{\"field\":\"y\"}},\"id\":\"4695\",\"type\":\"Line\"},{\"attributes\":{},\"id\":\"4609\",\"type\":\"LinearScale\"},{\"attributes\":{\"line_dash\":[6],\"line_width\":2.5,\"x\":{\"field\":\"x\"},\"y\":{\"field\":\"y\"}},\"id\":\"4636\",\"type\":\"Line\"},{\"attributes\":{},\"id\":\"4648\",\"type\":\"UnionRenderers\"},{\"attributes\":{\"line_alpha\":0.1,\"line_color\":\"red\",\"line_width\":2.5,\"x\":{\"field\":\"x\"},\"y\":{\"field\":\"y\"}},\"id\":\"4674\",\"type\":\"Line\"},{\"attributes\":{\"data\":{\"x\":[0,1,2,3,4,5,6,7,8,9,10,11,12,13,14,15,16,17,18,19,20,21,22,23,24,25,26,27,28,29,30,31,32,33,34,35,36,37,38,39,40,41,42,43,44,45,46,47,48,49,50,51,52,53,54,55,56,57,58,59,60,61],\"y\":{\"__ndarray__\":\"AAAAAAAAWUBLyAc9myFZQKvP1VbsB1lAe4hGdxD/WEActi3KbL5YQKWg20saRVhAl6jeGtgEWEBLyAc9mx9YQE6c3O9QPlhA1ouhnGhNWEDw+WGE8FxYQNBE2PD0blhAcVrwoq+kWEAYQznRrppYQOl942vPqFhAWwhyUMKsWEB00vvG17JYQOi8xi5Rt1hA48KBkCysWEDkvWplwsFYQEX11sBWw1hArHMMyF7dWEA/jBAebehYQHYyOEpe7VhAd6G5TiPnWECRm+EGfOhYQMjqVs9J8VhA0GG+vAD1WEAFhqxu9fxYQPLNNjem/1hAe4MvTKYKWUB3vp8aLylZQMX+snvySFlA8tJNYhCIWUBSSZ2AJrJZQHBfB84Z0VlAbqMBvAXKWUAdWmQ7389ZQBKlvcEX4llAqmBUUifsWUBYObTIdt5ZQCL99nXg2FlAat5xio7IWUCamZmZmeVZQMKGp1fKAlpA6Nms+lw1WkASg8DKoUlaQC9uowG8QVpAzojS3uA3WkAU0ETY8CxaQFioNc07UlpAo5I6AU1wWkCLbOf7qW1aQEvIBz2bTVpADwu1pnk7WkDIBz2bVU9aQNEi2/l+hlpAFR3J5T+YWkATYcPTK5FaQOF6FK5HnVpAEoPAyqGtWkBqTfOOU7BaQA==\",\"dtype\":\"float64\",\"order\":\"little\",\"shape\":[62]}},\"selected\":{\"id\":\"4649\"},\"selection_policy\":{\"id\":\"4648\"}},\"id\":\"4635\",\"type\":\"ColumnDataSource\"},{\"attributes\":{\"source\":{\"id\":\"4635\"}},\"id\":\"4640\",\"type\":\"CDSView\"},{\"attributes\":{},\"id\":\"4605\",\"type\":\"DataRange1d\"},{\"attributes\":{\"line_alpha\":0.2,\"line_color\":\"green\",\"line_dash\":[6],\"line_width\":2.5,\"x\":{\"field\":\"x\"},\"y\":{\"field\":\"y\"}},\"id\":\"4656\",\"type\":\"Line\"},{\"attributes\":{\"ticks\":[0,35,70,105,140]},\"id\":\"4716\",\"type\":\"FixedTicker\"},{\"attributes\":{},\"id\":\"4649\",\"type\":\"Selection\"},{\"attributes\":{\"coordinates\":null,\"data_source\":{\"id\":\"4672\"},\"glyph\":{\"id\":\"4673\"},\"group\":null,\"hover_glyph\":null,\"muted_glyph\":{\"id\":\"4675\"},\"nonselection_glyph\":{\"id\":\"4674\"},\"view\":{\"id\":\"4677\"}},\"id\":\"4676\",\"type\":\"GlyphRenderer\"},{\"attributes\":{\"line_alpha\":0.2,\"line_color\":\"orange\",\"line_width\":2.5,\"x\":{\"field\":\"x\"},\"y\":{\"field\":\"y\"}},\"id\":\"4696\",\"type\":\"Line\"},{\"attributes\":{\"tools\":[{\"id\":\"4621\"},{\"id\":\"4622\"},{\"id\":\"4623\"},{\"id\":\"4624\"},{\"id\":\"4625\"},{\"id\":\"4626\"}]},\"id\":\"4628\",\"type\":\"Toolbar\"},{\"attributes\":{},\"id\":\"4607\",\"type\":\"DataRange1d\"},{\"attributes\":{\"line_color\":\"green\",\"line_dash\":[6],\"line_width\":2.5,\"x\":{\"field\":\"x\"},\"y\":{\"field\":\"y\"}},\"id\":\"4654\",\"type\":\"Line\"},{\"attributes\":{\"line_color\":\"orange\",\"line_width\":2.5,\"x\":{\"field\":\"x\"},\"y\":{\"field\":\"y\"}},\"id\":\"4694\",\"type\":\"Line\"},{\"attributes\":{\"source\":{\"id\":\"4672\"}},\"id\":\"4677\",\"type\":\"CDSView\"},{\"attributes\":{\"data\":{\"x\":[0,1,2,3,4,5,6,7,8,9,10,11,12,13,14,15,16,17,18,19,20,21,22,23,24,25,26,27,28,29,30,31,32,33,34,35,36,37,38,39,40,41,42,43,44,45,46,47,48,49,50,51,52,53,54,55,56,57,58,59,60,61],\"y\":{\"__ndarray__\":\"AAAAAAAA+H8AAAAAAAD4f20xsZhWBVlAU3vUk6PTWEBKC9sirtdYQB/Jl9r0iFhA3hYDyc8MWEAD2caGSfpXQEELIGH0QVhA0nGWmYheWEAp3nleWGRYQKKJj9UGc1hAy8jnQ8SEWED9Au8kdcRYQN0KYwvVnFhAPowXBfq2WEAqL9vx1rZYQND1WnPuvlhA6EB2acLDWEAmxdkLxbRYQJObJhZk2VhAIPB9vyjSWEC8AO2V6fVYQDF1r0fd+FhAHeSdIqz7WED2kwDj7/JYQDVGPlEp+lhAydIBHzwHWUANVb8NnQlZQGkPYLtOFFlAP5A958cVWUCUutlfDCVZQC26tffCSVlA5f0UlLtlWUCWrhGljapZQIwYXe3kwllAjLRjYajXWUBxV3ip/r9ZQAxXFjehzVlAJTGdJMfkWUBxGc3vjupZQFyI44U71VlAQMFY+jzXWUB+PsqLvMZZQH2oTjv691lA1594qFURWkAcWAyw6kZaQD0Nl2wJSVpAHHurkvU1WkDt+OJ3PS9aQCDvTvggKFpALA4HuG5hWkCHsTxEkndaQC8/ZKJBZlpAnATteFs/WkBv8SQ1gjpaQGpvZe6NYFpApgxN4CmhWkDiKl7FhJ1aQJkxzEncjFpALPDk0seiWkCenpb3IbRaQA==\",\"dtype\":\"float64\",\"order\":\"little\",\"shape\":[62]}},\"selected\":{\"id\":\"4690\"},\"selection_policy\":{\"id\":\"4689\"}},\"id\":\"4672\",\"type\":\"ColumnDataSource\"},{\"attributes\":{\"source\":{\"id\":\"4693\"}},\"id\":\"4698\",\"type\":\"CDSView\"},{\"attributes\":{},\"id\":\"4624\",\"type\":\"SaveTool\"},{\"attributes\":{\"line_alpha\":0.1,\"line_color\":\"green\",\"line_dash\":[6],\"line_width\":2.5,\"x\":{\"field\":\"x\"},\"y\":{\"field\":\"y\"}},\"id\":\"4655\",\"type\":\"Line\"},{\"attributes\":{},\"id\":\"4618\",\"type\":\"BasicTicker\"},{\"attributes\":{\"data\":{\"x\":[62,63,64,65,66,67,68,69,70,71,72,73,74,75,76,77,78,79,80,81,82,83,84,85,86,87,88,89,90,91,92,93,94,95,96,97,98,99,100,101,102,103,104,105,106,107,108,109,110,111,112,113,114,115,116,117,118,119,120,121,122,123,124,125,126,127,128,129,130,131,132,133,134,135,136],\"y\":{\"__ndarray__\":\"bh/niCexWkDEQkCJvLxaQMtnFhsKxVpA2iLMuZqrWkBGxQRHoqRaQBtkhU5nrVpAAlutVWnRWkAfgmAek+daQL3qeY7RFltAiMtySqMfW0BZVhQrvDVbQKrUnIIrPFtAzIUzSNMzW0BPsOaO/idbQDEoufs8N1tARI6KFnEfW0BHDogDOvlaQP6NrKFt21pA4i2msZHHWkBqnyJlJgJbQM3ogY2eKltAGU0ZbKYpW0ANb0eWBFNbQK0kC6SuYltA9p3PsIBYW0BpYFYZTU1bQEIThU9TRltAUORfahNKW0BHr2o4cDpbQPc7CmX2JFtATFP0MtRCW0CH+0rzcEZbQD/Y57sTbVtAhLZA5BKLW0CHDYpHKKFbQOyjmr7PsltADEYdgJeZW0D0wcoBV6pbQKRrS4p1v1tAd9hBEkPEW0D1+XIhK7NbQIOXlKAyvltAt6PI55P1W0B2WZVvcf9bQHr+oKZi/VtAu4amf28YXEB9hEPGbxdcQBXz5//sHlxAZ9b+lhIXXECK0S1yMzhcQOrBibFJYVxAKOW+dzVJXEDp84m+/U1cQEgt1PFqSlxAlz6Yfs2CXEBlw4mimptcQHwO5sUVolxAHnPbWuHBXEB8XnsJ9dxcQDUTvXZx3lxAM4fu5ADbXED4aGFrTOJcQGghZz6a7VxAx84nQ3b8XEAEMHGK4NZcQHL00OP+xlxA/VudKCzoXEB9MIcwDwxdQI4rs8/iNF1AOxU/k/9UXUCo1WhVS1ddQEY/fDH1Ul1ABg10Dd9kXUAsRWtn2l9dQAAAAAAAAPh/\",\"dtype\":\"float64\",\"order\":\"little\",\"shape\":[75]}},\"selected\":{\"id\":\"4713\"},\"selection_policy\":{\"id\":\"4712\"}},\"id\":\"4693\",\"type\":\"ColumnDataSource\"},{\"attributes\":{\"line_color\":\"red\",\"line_width\":2.5,\"x\":{\"field\":\"x\"},\"y\":{\"field\":\"y\"}},\"id\":\"4673\",\"type\":\"Line\"},{\"attributes\":{\"coordinates\":null,\"data_source\":{\"id\":\"4653\"},\"glyph\":{\"id\":\"4654\"},\"group\":null,\"hover_glyph\":null,\"muted_glyph\":{\"id\":\"4656\"},\"nonselection_glyph\":{\"id\":\"4655\"},\"view\":{\"id\":\"4658\"}},\"id\":\"4657\",\"type\":\"GlyphRenderer\"},{\"attributes\":{},\"id\":\"4712\",\"type\":\"UnionRenderers\"},{\"attributes\":{\"line_alpha\":0.2,\"line_color\":\"red\",\"line_width\":2.5,\"x\":{\"field\":\"x\"},\"y\":{\"field\":\"y\"}},\"id\":\"4675\",\"type\":\"Line\"},{\"attributes\":{\"coordinates\":null,\"data_source\":{\"id\":\"4693\"},\"glyph\":{\"id\":\"4694\"},\"group\":null,\"hover_glyph\":null,\"muted_glyph\":{\"id\":\"4696\"},\"nonselection_glyph\":{\"id\":\"4695\"},\"view\":{\"id\":\"4698\"}},\"id\":\"4697\",\"type\":\"GlyphRenderer\"},{\"attributes\":{},\"id\":\"4622\",\"type\":\"WheelZoomTool\"},{\"attributes\":{\"axis\":{\"id\":\"4613\"},\"coordinates\":null,\"group\":null,\"ticker\":null},\"id\":\"4616\",\"type\":\"Grid\"},{\"attributes\":{\"line_alpha\":0.2,\"line_dash\":[6],\"line_width\":2.5,\"x\":{\"field\":\"x\"},\"y\":{\"field\":\"y\"}},\"id\":\"4638\",\"type\":\"Line\"},{\"attributes\":{\"source\":{\"id\":\"4653\"}},\"id\":\"4658\",\"type\":\"CDSView\"},{\"attributes\":{},\"id\":\"4611\",\"type\":\"LinearScale\"},{\"attributes\":{},\"id\":\"4713\",\"type\":\"Selection\"},{\"attributes\":{\"label\":{\"value\":\"Final AR(2) Model (Training Data Fit)\"},\"renderers\":[{\"id\":\"4676\"}]},\"id\":\"4692\",\"type\":\"LegendItem\"},{\"attributes\":{},\"id\":\"4689\",\"type\":\"UnionRenderers\"},{\"attributes\":{\"label\":{\"value\":\"Test Data\"},\"renderers\":[{\"id\":\"4657\"}]},\"id\":\"4671\",\"type\":\"LegendItem\"},{\"attributes\":{\"bottom_units\":\"screen\",\"coordinates\":null,\"fill_alpha\":0.5,\"fill_color\":\"lightgrey\",\"group\":null,\"left_units\":\"screen\",\"level\":\"overlay\",\"line_alpha\":1.0,\"line_color\":\"black\",\"line_dash\":[4,4],\"line_width\":2,\"right_units\":\"screen\",\"syncable\":false,\"top_units\":\"screen\"},\"id\":\"4627\",\"type\":\"BoxAnnotation\"},{\"attributes\":{},\"id\":\"4626\",\"type\":\"HelpTool\"},{\"attributes\":{},\"id\":\"4690\",\"type\":\"Selection\"},{\"attributes\":{},\"id\":\"4668\",\"type\":\"UnionRenderers\"},{\"attributes\":{\"label\":{\"value\":\"Final AR(2) Model Predictions\"},\"renderers\":[{\"id\":\"4697\"}]},\"id\":\"4715\",\"type\":\"LegendItem\"},{\"attributes\":{},\"id\":\"4625\",\"type\":\"ResetTool\"},{\"attributes\":{\"line_alpha\":0.1,\"line_dash\":[6],\"line_width\":2.5,\"x\":{\"field\":\"x\"},\"y\":{\"field\":\"y\"}},\"id\":\"4637\",\"type\":\"Line\"},{\"attributes\":{\"axis\":{\"id\":\"4617\"},\"coordinates\":null,\"dimension\":1,\"group\":null,\"ticker\":null},\"id\":\"4620\",\"type\":\"Grid\"},{\"attributes\":{},\"id\":\"4669\",\"type\":\"Selection\"},{\"attributes\":{},\"id\":\"4643\",\"type\":\"BasicTickFormatter\"},{\"attributes\":{\"label\":{\"value\":\"Training Data\"},\"renderers\":[{\"id\":\"4639\"}]},\"id\":\"4652\",\"type\":\"LegendItem\"}],\"root_ids\":[\"4602\"]},\"title\":\"Bokeh Application\",\"version\":\"2.4.1\"}};\n",
       "  const render_items = [{\"docid\":\"8cdada96-c191-4c44-9dde-f42192eab7d4\",\"root_ids\":[\"4602\"],\"roots\":{\"4602\":\"f8fe6430-da50-4592-82b2-e00f51004af8\"}}];\n",
       "  root.Bokeh.embed.embed_items_notebook(docs_json, render_items);\n",
       "\n",
       "  }\n",
       "  if (root.Bokeh !== undefined) {\n",
       "    embed_document(root);\n",
       "  } else {\n",
       "    let attempts = 0;\n",
       "    const timer = setInterval(function(root) {\n",
       "      if (root.Bokeh !== undefined) {\n",
       "        clearInterval(timer);\n",
       "        embed_document(root);\n",
       "      } else {\n",
       "        attempts++;\n",
       "        if (attempts > 100) {\n",
       "          clearInterval(timer);\n",
       "          console.log(\"Bokeh: ERROR: Unable to run BokehJS code because BokehJS library is missing\");\n",
       "        }\n",
       "      }\n",
       "    }, 10, root)\n",
       "  }\n",
       "})(window);"
      ],
      "application/vnd.bokehjs_exec.v0+json": ""
     },
     "metadata": {
      "application/vnd.bokehjs_exec.v0+json": {
       "id": "4602"
      }
     },
     "output_type": "display_data"
    }
   ],
   "source": [
    "# Plotting the AR2 linearly detrended model\n",
    "\n",
    "p = figure(plot_width=800, plot_height=600, title = \"CPI predictions\")\n",
    "p.line(cpi_train.index, cpi_train.CPI, line_width =2.5, line_color=\"black\", line_dash=\"dashed\", legend_label=\"Training Data\")\n",
    "p.line(cpi_test.index, cpi_test.CPI, line_width =2.5, line_color=\"green\", line_dash=\"dashed\", legend_label=\"Test Data\")\n",
    "p.line(cpi_train.index, final_training, line_color=\"red\", line_width=2.5, legend_label=\"Final AR(2) Model (Training Data Fit)\")\n",
    "p.line(cpi_test.index, final_test, line_color=\"orange\", line_width=2.5, legend_label=\"Final AR(2) Model Predictions\")\n",
    "p.xaxis.ticker = [0, 35, 70, 105, 140]\n",
    "p.xaxis.major_label_overrides = {0: '2008', 35: '2011', 70: '2014', 105: '2017', 140: '2020'}\n",
    "p.legend.location = \"bottom_right\"\n",
    "p.xaxis.axis_label ='Time'\n",
    "p.yaxis.axis_label ='CPI'\n",
    "\n",
    "show(p)"
   ]
  },
  {
   "cell_type": "code",
   "execution_count": 65,
   "metadata": {},
   "outputs": [
    {
     "name": "stdout",
     "output_type": "stream",
     "text": [
      "The RMSE of the final fit is 0.39328060138088855\n"
     ]
    }
   ],
   "source": [
    "# Calculating Mean Squared Error for the AR(2) model\n",
    "\n",
    "rmse = mean_squared_error(cpi_test.CPI.dropna(), final_test[:-2])**0.5\n",
    "print(\"The RMSE of the final fit is \" + str(rmse))"
   ]
  },
  {
   "cell_type": "code",
   "execution_count": 66,
   "metadata": {},
   "outputs": [
    {
     "data": {
      "image/png": "[encoded data removed]",
      "text/plain": [
       "<Figure size 432x288 with 1 Axes>"
      ]
     },
     "metadata": {
      "needs_background": "light"
     },
     "output_type": "display_data"
    }
   ],
   "source": [
    "# Checking autocorrelation of residuals\n",
    "\n",
    "residuals = (detrend - training_predictions)[2:]\n",
    "plot_pacf(residuals, zero=False)\n",
    "plt.show()"
   ]
  },
  {
   "cell_type": "markdown",
   "metadata": {},
   "source": [
    "As we can see from the plot and the low score of RMSE, we get quite good results by substracting the linear trend from the data and using an AR model with 2 lags for predicting future values. The residuals also show no autocorrelation although one of the lags manages to reach out from the statistically significant threshold."
   ]
  },
  {
   "cell_type": "code",
   "execution_count": 67,
   "metadata": {},
   "outputs": [],
   "source": [
    "# Building AR(2) model with logarithmic differencing\n",
    "\n",
    "\n",
    "def rebuild_diffed(series, first_element_original):\n",
    "    cumsum = pd.Series(series).cumsum()\n",
    "    final = np.exp(cumsum.fillna(0) + first_element_original)\n",
    "    if first_element_original == 0:\n",
    "            final = np.exp(cumsum.fillna(0))\n",
    "    return final\n",
    "\n",
    "\n",
    "n = 2\n",
    "\n",
    "AR2_model = AutoReg(remaining, lags= n).fit()\n",
    "coef = AR2_model.params\n",
    "\n",
    "past = remaining[len(remaining)-n:].values\n",
    "past = [past[i] for i in range(len(past))]\n",
    "\n",
    "training_predictions = AR2_model.predict(start = cpi_train.index[0], end=cpi_train.index[-1])\n",
    "\n",
    "test_predictions = list()\n",
    "cpi_diff_log = np.log(cpi.CPI).diff()\n",
    "remaining_test = cpi_diff_log[cpi_train.shape[0]:].dropna()\n",
    "remaining_test.iloc[0] = 0\n",
    "\n",
    "for t in range(len(remaining_test)):\n",
    "    length = len(past)\n",
    "    lag = [past[i] for i in range(length-n, length)]\n",
    "    pred = coef[0]\n",
    "    for d in range(n):\n",
    "        pred += coef[d+1] * lag[n-d-1]\n",
    "    obs = remaining_test.values[t]\n",
    "    test_predictions.append(pred)\n",
    "    past.append(obs)\n",
    "\n",
    "final_training = (rebuild_diffed(training_predictions, np.log(cpi_train.CPI[0])))\n",
    "final_test = (rebuild_diffed(test_predictions ,np.log(cpi_train.iloc[-1].CPI)))"
   ]
  },
  {
   "cell_type": "code",
   "execution_count": 68,
   "metadata": {},
   "outputs": [
    {
     "name": "stdout",
     "output_type": "stream",
     "text": [
      "The AR(2) model X(t) = 0.6322745148155536*X_t-1 -0.22223215714534927*X_t-2 + 0.0005492609233792831\n"
     ]
    }
   ],
   "source": [
    "#  AR(2) model coefficients for logarithmic differenced data\n",
    "\n",
    "print(\"The AR(2) model X(t) = \" +str(coef[1])+\"*X_t-1 \" +str(coef[2])+\"*X_t-2 +\", str(coef[0]) )"
   ]
  },
  {
   "cell_type": "code",
   "execution_count": 69,
   "metadata": {},
   "outputs": [
    {
     "data": {
      "text/html": [
       "\n",
       "\n",
       "\n",
       "\n",
       "\n",
       "\n",
       "  <div class=\"bk-root\" id=\"4ce6f9fe-b56e-4fdb-98bc-a79d3135c3c0\" data-root-id=\"4987\"></div>\n"
      ]
     },
     "metadata": {},
     "output_type": "display_data"
    },
    {
     "data": {
      "application/javascript": [
       "(function(root) {\n",
       "  function embed_document(root) {\n",
       "    \n",
       "  const docs_json = {\"005bb520-d1e4-4618-894d-071f2aca5140\":{\"defs\":[],\"roots\":{\"references\":[{\"attributes\":{\"below\":[{\"id\":\"4998\"}],\"center\":[{\"id\":\"5001\"},{\"id\":\"5005\"},{\"id\":\"5036\"}],\"left\":[{\"id\":\"5002\"}],\"renderers\":[{\"id\":\"5024\"},{\"id\":\"5042\"},{\"id\":\"5061\"},{\"id\":\"5082\"}],\"title\":{\"id\":\"4988\"},\"toolbar\":{\"id\":\"5013\"},\"width\":800,\"x_range\":{\"id\":\"4990\"},\"x_scale\":{\"id\":\"4994\"},\"y_range\":{\"id\":\"4992\"},\"y_scale\":{\"id\":\"4996\"}},\"id\":\"4987\",\"subtype\":\"Figure\",\"type\":\"Plot\"},{\"attributes\":{\"coordinates\":null,\"group\":null,\"items\":[{\"id\":\"5037\"},{\"id\":\"5056\"},{\"id\":\"5077\"},{\"id\":\"5100\"}],\"location\":\"bottom_right\"},\"id\":\"5036\",\"type\":\"Legend\"},{\"attributes\":{\"line_alpha\":0.1,\"line_color\":\"orange\",\"line_width\":2.5,\"x\":{\"field\":\"x\"},\"y\":{\"field\":\"y\"}},\"id\":\"5080\",\"type\":\"Line\"},{\"attributes\":{\"label\":{\"value\":\"Final AR(2) Model (Training Data Fit)\"},\"renderers\":[{\"id\":\"5061\"}]},\"id\":\"5077\",\"type\":\"LegendItem\"},{\"attributes\":{\"line_alpha\":0.2,\"line_color\":\"green\",\"line_dash\":[6],\"line_width\":2.5,\"x\":{\"field\":\"x\"},\"y\":{\"field\":\"y\"}},\"id\":\"5041\",\"type\":\"Line\"},{\"attributes\":{},\"id\":\"4996\",\"type\":\"LinearScale\"},{\"attributes\":{},\"id\":\"5097\",\"type\":\"UnionRenderers\"},{\"attributes\":{\"source\":{\"id\":\"5078\"}},\"id\":\"5083\",\"type\":\"CDSView\"},{\"attributes\":{\"coordinates\":null,\"data_source\":{\"id\":\"5078\"},\"glyph\":{\"id\":\"5079\"},\"group\":null,\"hover_glyph\":null,\"muted_glyph\":{\"id\":\"5081\"},\"nonselection_glyph\":{\"id\":\"5080\"},\"view\":{\"id\":\"5083\"}},\"id\":\"5082\",\"type\":\"GlyphRenderer\"},{\"attributes\":{\"label\":{\"value\":\"Final AR(2) Model Predictions\"},\"renderers\":[{\"id\":\"5082\"}]},\"id\":\"5100\",\"type\":\"LegendItem\"},{\"attributes\":{\"line_alpha\":0.1,\"line_color\":\"green\",\"line_dash\":[6],\"line_width\":2.5,\"x\":{\"field\":\"x\"},\"y\":{\"field\":\"y\"}},\"id\":\"5040\",\"type\":\"Line\"},{\"attributes\":{\"data\":{\"x\":[0,1,2,3,4,5,6,7,8,9,10,11,12,13,14,15,16,17,18,19,20,21,22,23,24,25,26,27,28,29,30,31,32,33,34,35,36,37,38,39,40,41,42,43,44,45,46,47,48,49,50,51,52,53,54,55,56,57,58,59,60,61],\"y\":{\"__ndarray__\":\"AwAAAAAAWUADAAAAAABZQFbl24LBGFlAiHrT/5YEWUD0BQUgMwhZQIgANP+m5FhAX6+Ud+SoWECRdUngAJ5YQH9bfddtwVhAA3F2fbHSWEC1I6XA8NhYQGzPf00J41hAy7sq3qLuWEA+uU1fqBBZQD/6UaaQAVlAvTP/jWwQWUAN6rSNShNZQFAKkOfVGVlA+IKMxd0eWUAM2kPgOBpZQKUawnMpLllAgY65tNQtWUDnbnMKv0FZQH6GiG+BRllArbn0NbxKWUBjbIqRLUlZQBnPrXQBT1lARUXRHetXWUBf54Aq4VtZQJh5zhW4Y1lA1E7oezhnWUASlDsbQXFZQC0CcIDyhVlAvooWDvuWWUD3zktstrtZQHZAZgzhy1lAptC5YbPZWUBAj7z889FZQL5QUHjd2llA7S40erzoWUAYxCqUr+5ZQMJXDxNu51lAW0C70pPqWUAzTVXxG+VZQKHD+iDX/llASwFAvoEOWkCstLLnoStaQDtjV6bTMFpAL9fCGAorWkDy9Ch/QCpaQM1cM041KVpAy5cQZeFGWkDALeH3OlVaQCb8BJKaUFpA7DRaEa1AWkCrlxz8AEBaQArU/2hMVFpApZFLqWx2WkByrSzdDHlaQI3IqmtidFpA9+CtjUyBWkA+FFMjo4xaQA==\",\"dtype\":\"float64\",\"order\":\"little\",\"shape\":[62]}},\"selected\":{\"id\":\"5075\"},\"selection_policy\":{\"id\":\"5074\"}},\"id\":\"5057\",\"type\":\"ColumnDataSource\"},{\"attributes\":{\"source\":{\"id\":\"5057\"}},\"id\":\"5062\",\"type\":\"CDSView\"},{\"attributes\":{\"data\":{\"x\":[62,63,64,65,66,67,68,69,70,71,72,73,74,75,76,77,78,79,80,81,82,83,84,85,86,87,88,89,90,91,92,93,94,95,96,97,98,99,100,101,102,103,104,105,106,107,108,109,110,111,112,113,114,115,116,117,118,119,120,121,122,123,124,125,126,127,128,129,130,131,132,133,134,135,136],\"y\":{\"__ndarray__\":\"BoGVQ4u4WkAqOpLLf8BaQGaIY13crlpAm+Ydp+igWkBqTfOOU6BaQKH4MeauuVpAl/+QfvvSWkDlYaHWNP9aQPW52or9FVtAke18PzUuW0C6SQwCKztbQJzEILByOFtAf/s6cM4sW0CDL0ymCjJbQLivA+eMIFtAOwFNhA37WkAy5q4l5NNaQHrHKTqSs1pAGsBbIEHRWkDZX3ZPHvpaQFyPwvUoCFtAM8SxLm4rW0DHKTqSy0NbQHh6pSxDRFtAn6ut2F86W0CdgCbChi9bQA5Pr5RlLFtAGeJYF7cdW0D1udqK/QVbQNqs+lxtEVtAkDF3LSEXW0CiRbbz/TRbQLx0kxgEVltAw2SqYFRyW0DFILByaIlbQKfoSC7/fVtA/yH99nWEW0Bhw9MrZZVbQOC+DpwznltA5WGh1jSTW0CTOgFNhJVbQJEPejarvltAt9EA3gLVW0Am5IOezdpbQHKKjuTy71tAmbuWkA/2W0Bq3nGKjvxbQFYOLbKd91tA4umVsgwNXEBQjZduEjNcQOauJeSDLlxAppvEILAuXEBDrWnecSpcQH0/NV66UVxAnzws1JpyXEBQjZduEoNcQAdfmEwVoFxAw/UoXI++XECYTBWMSspcQBBYObTIylxAexSuR+HOXEBIUPwYc9dcQCo6kst/5FxAJCh+jLnLXEBxGw3gLbRcQHxhMlUwwlxAqDXNO07hXEAQ6bevAwtdQAMJih9jMl1ASnuDL0xCXUAW+8vuyUNdQFXBqKROUF1Aq8/VVuxPXUAAAAAAAAD4fwAAAAAAAPh/\",\"dtype\":\"float64\",\"order\":\"little\",\"shape\":[75]}},\"selected\":{\"id\":\"5054\"},\"selection_policy\":{\"id\":\"5053\"}},\"id\":\"5038\",\"type\":\"ColumnDataSource\"},{\"attributes\":{},\"id\":\"4992\",\"type\":\"DataRange1d\"},{\"attributes\":{\"data\":{\"x\":[62,63,64,65,66,67,68,69,70,71,72,73,74,75,76,77,78,79,80,81,82,83,84,85,86,87,88,89,90,91,92,93,94,95,96,97,98,99,100,101,102,103,104,105,106,107,108,109,110,111,112,113,114,115,116,117,118,119,120,121,122,123,124,125,126,127,128,129,130,131,132,133,134,135,136],\"y\":{\"__ndarray__\":\"iG1WwSSyWkBCVGeJTLVaQArGraoVvlpAEkLrhOu0WkBxG3pXwbNaQMyIteg/ulpAfq9h/TrOWkDM9y+4XdxaQGCtz1B29lpATvYZcsb+WkDzBmLHwwxbQEcH3XFaE1tAGyRTdZUSW0BtgxVXqg9bQHlZyKtYGVtAApj33fcQW0AlJiRJ8gBbQPTTsGk49FpAhvnriCfsWkDxyMq4HApbQFUvpOJCIVtAPs04ItYkW0A87J8O5DtbQPof2nhER1tARGWS0fhFW0CRiXARckNbQJt7Kc6aQltA+/sMtd5GW0Bc5fm3E0JbQEfg2/MVOltAPuk8IoRKW0B7gwCfbE9bQHncPmQDZVtA0X2Vqyp3W0Ak8ihKmoVbQM6nr8/EkVtAc4UVHEeJW0AWX0+ByZNbQCnmq1H0oFtAzeOrJaSmW0Cp0vLMmqFbQIpJxoNnqVtAs6vpXdvGW0B5IhzOtM9bQMrkTlJO0ltAcWk/qEjiW0BKWcsNXeVbQC8mWXkH7FtABqvAh2XrW0DPJx9l8/1bQOQasycXFVxAGYrCYbwNXEAGzHl+zBJcQJLQ0+gIFFxAOguQT60xXEBj/5mkl0FcQCfrjxqgSFxAf2Fs3SZbXEAF4J7DzmtcQKdEa0FscFxAD3A2AydyXEA3prTTmnhcQJtCfaUQgVxAaTRHHViLXECNeMW/AH1cQDAl6Uyyd1xAkXOt6a2JXEAgaZtAHJ5cQJulWtdctVxAR1NNlsfIXEBi9GhAFs5cQJTeibKUz1xA9SiitxnbXEA=\",\"dtype\":\"float64\",\"order\":\"little\",\"shape\":[73]}},\"selected\":{\"id\":\"5098\"},\"selection_policy\":{\"id\":\"5097\"}},\"id\":\"5078\",\"type\":\"ColumnDataSource\"},{\"attributes\":{\"axis_label\":\"Time\",\"coordinates\":null,\"formatter\":{\"id\":\"5031\"},\"group\":null,\"major_label_overrides\":{\"0\":\"2008\",\"105\":\"2017\",\"140\":\"2020\",\"35\":\"2011\",\"70\":\"2014\"},\"major_label_policy\":{\"id\":\"5032\"},\"ticker\":{\"id\":\"5101\"}},\"id\":\"4998\",\"type\":\"LinearAxis\"},{\"attributes\":{},\"id\":\"4990\",\"type\":\"DataRange1d\"},{\"attributes\":{\"line_color\":\"red\",\"line_width\":2.5,\"x\":{\"field\":\"x\"},\"y\":{\"field\":\"y\"}},\"id\":\"5058\",\"type\":\"Line\"},{\"attributes\":{\"line_color\":\"orange\",\"line_width\":2.5,\"x\":{\"field\":\"x\"},\"y\":{\"field\":\"y\"}},\"id\":\"5079\",\"type\":\"Line\"},{\"attributes\":{\"line_alpha\":0.2,\"line_color\":\"red\",\"line_width\":2.5,\"x\":{\"field\":\"x\"},\"y\":{\"field\":\"y\"}},\"id\":\"5060\",\"type\":\"Line\"},{\"attributes\":{\"line_alpha\":0.2,\"line_color\":\"orange\",\"line_width\":2.5,\"x\":{\"field\":\"x\"},\"y\":{\"field\":\"y\"}},\"id\":\"5081\",\"type\":\"Line\"},{\"attributes\":{\"coordinates\":null,\"data_source\":{\"id\":\"5038\"},\"glyph\":{\"id\":\"5039\"},\"group\":null,\"hover_glyph\":null,\"muted_glyph\":{\"id\":\"5041\"},\"nonselection_glyph\":{\"id\":\"5040\"},\"view\":{\"id\":\"5043\"}},\"id\":\"5042\",\"type\":\"GlyphRenderer\"},{\"attributes\":{},\"id\":\"5007\",\"type\":\"WheelZoomTool\"},{\"attributes\":{},\"id\":\"5009\",\"type\":\"SaveTool\"},{\"attributes\":{\"axis\":{\"id\":\"4998\"},\"coordinates\":null,\"group\":null,\"ticker\":null},\"id\":\"5001\",\"type\":\"Grid\"},{\"attributes\":{\"source\":{\"id\":\"5038\"}},\"id\":\"5043\",\"type\":\"CDSView\"},{\"attributes\":{},\"id\":\"5074\",\"type\":\"UnionRenderers\"},{\"attributes\":{},\"id\":\"5098\",\"type\":\"Selection\"},{\"attributes\":{\"axis_label\":\"CPI\",\"coordinates\":null,\"formatter\":{\"id\":\"5028\"},\"group\":null,\"major_label_policy\":{\"id\":\"5029\"},\"ticker\":{\"id\":\"5003\"}},\"id\":\"5002\",\"type\":\"LinearAxis\"},{\"attributes\":{},\"id\":\"5075\",\"type\":\"Selection\"},{\"attributes\":{\"label\":{\"value\":\"Test Data\"},\"renderers\":[{\"id\":\"5042\"}]},\"id\":\"5056\",\"type\":\"LegendItem\"},{\"attributes\":{},\"id\":\"5003\",\"type\":\"BasicTicker\"},{\"attributes\":{},\"id\":\"5028\",\"type\":\"BasicTickFormatter\"},{\"attributes\":{},\"id\":\"5053\",\"type\":\"UnionRenderers\"},{\"attributes\":{},\"id\":\"5011\",\"type\":\"HelpTool\"},{\"attributes\":{},\"id\":\"5029\",\"type\":\"AllLabels\"},{\"attributes\":{\"axis\":{\"id\":\"5002\"},\"coordinates\":null,\"dimension\":1,\"group\":null,\"ticker\":null},\"id\":\"5005\",\"type\":\"Grid\"},{\"attributes\":{},\"id\":\"5054\",\"type\":\"Selection\"},{\"attributes\":{\"coordinates\":null,\"group\":null,\"text\":\"CPI predictions\"},\"id\":\"4988\",\"type\":\"Title\"},{\"attributes\":{},\"id\":\"5031\",\"type\":\"BasicTickFormatter\"},{\"attributes\":{},\"id\":\"4994\",\"type\":\"LinearScale\"},{\"attributes\":{\"overlay\":{\"id\":\"5012\"}},\"id\":\"5008\",\"type\":\"BoxZoomTool\"},{\"attributes\":{\"line_alpha\":0.1,\"line_dash\":[6],\"line_width\":2.5,\"x\":{\"field\":\"x\"},\"y\":{\"field\":\"y\"}},\"id\":\"5022\",\"type\":\"Line\"},{\"attributes\":{},\"id\":\"5006\",\"type\":\"PanTool\"},{\"attributes\":{},\"id\":\"5032\",\"type\":\"AllLabels\"},{\"attributes\":{\"source\":{\"id\":\"5020\"}},\"id\":\"5025\",\"type\":\"CDSView\"},{\"attributes\":{},\"id\":\"5010\",\"type\":\"ResetTool\"},{\"attributes\":{\"coordinates\":null,\"data_source\":{\"id\":\"5020\"},\"glyph\":{\"id\":\"5021\"},\"group\":null,\"hover_glyph\":null,\"muted_glyph\":{\"id\":\"5023\"},\"nonselection_glyph\":{\"id\":\"5022\"},\"view\":{\"id\":\"5025\"}},\"id\":\"5024\",\"type\":\"GlyphRenderer\"},{\"attributes\":{\"line_alpha\":0.2,\"line_dash\":[6],\"line_width\":2.5,\"x\":{\"field\":\"x\"},\"y\":{\"field\":\"y\"}},\"id\":\"5023\",\"type\":\"Line\"},{\"attributes\":{},\"id\":\"5033\",\"type\":\"UnionRenderers\"},{\"attributes\":{\"line_dash\":[6],\"line_width\":2.5,\"x\":{\"field\":\"x\"},\"y\":{\"field\":\"y\"}},\"id\":\"5021\",\"type\":\"Line\"},{\"attributes\":{\"bottom_units\":\"screen\",\"coordinates\":null,\"fill_alpha\":0.5,\"fill_color\":\"lightgrey\",\"group\":null,\"left_units\":\"screen\",\"level\":\"overlay\",\"line_alpha\":1.0,\"line_color\":\"black\",\"line_dash\":[4,4],\"line_width\":2,\"right_units\":\"screen\",\"syncable\":false,\"top_units\":\"screen\"},\"id\":\"5012\",\"type\":\"BoxAnnotation\"},{\"attributes\":{\"data\":{\"x\":[0,1,2,3,4,5,6,7,8,9,10,11,12,13,14,15,16,17,18,19,20,21,22,23,24,25,26,27,28,29,30,31,32,33,34,35,36,37,38,39,40,41,42,43,44,45,46,47,48,49,50,51,52,53,54,55,56,57,58,59,60,61],\"y\":{\"__ndarray__\":\"AAAAAAAAWUBLyAc9myFZQKvP1VbsB1lAe4hGdxD/WEActi3KbL5YQKWg20saRVhAl6jeGtgEWEBLyAc9mx9YQE6c3O9QPlhA1ouhnGhNWEDw+WGE8FxYQNBE2PD0blhAcVrwoq+kWEAYQznRrppYQOl942vPqFhAWwhyUMKsWEB00vvG17JYQOi8xi5Rt1hA48KBkCysWEDkvWplwsFYQEX11sBWw1hArHMMyF7dWEA/jBAebehYQHYyOEpe7VhAd6G5TiPnWECRm+EGfOhYQMjqVs9J8VhA0GG+vAD1WEAFhqxu9fxYQPLNNjem/1hAe4MvTKYKWUB3vp8aLylZQMX+snvySFlA8tJNYhCIWUBSSZ2AJrJZQHBfB84Z0VlAbqMBvAXKWUAdWmQ7389ZQBKlvcEX4llAqmBUUifsWUBYObTIdt5ZQCL99nXg2FlAat5xio7IWUCamZmZmeVZQMKGp1fKAlpA6Nms+lw1WkASg8DKoUlaQC9uowG8QVpAzojS3uA3WkAU0ETY8CxaQFioNc07UlpAo5I6AU1wWkCLbOf7qW1aQEvIBz2bTVpADwu1pnk7WkDIBz2bVU9aQNEi2/l+hlpAFR3J5T+YWkATYcPTK5FaQOF6FK5HnVpAEoPAyqGtWkBqTfOOU7BaQA==\",\"dtype\":\"float64\",\"order\":\"little\",\"shape\":[62]}},\"selected\":{\"id\":\"5034\"},\"selection_policy\":{\"id\":\"5033\"}},\"id\":\"5020\",\"type\":\"ColumnDataSource\"},{\"attributes\":{\"line_color\":\"green\",\"line_dash\":[6],\"line_width\":2.5,\"x\":{\"field\":\"x\"},\"y\":{\"field\":\"y\"}},\"id\":\"5039\",\"type\":\"Line\"},{\"attributes\":{\"coordinates\":null,\"data_source\":{\"id\":\"5057\"},\"glyph\":{\"id\":\"5058\"},\"group\":null,\"hover_glyph\":null,\"muted_glyph\":{\"id\":\"5060\"},\"nonselection_glyph\":{\"id\":\"5059\"},\"view\":{\"id\":\"5062\"}},\"id\":\"5061\",\"type\":\"GlyphRenderer\"},{\"attributes\":{\"tools\":[{\"id\":\"5006\"},{\"id\":\"5007\"},{\"id\":\"5008\"},{\"id\":\"5009\"},{\"id\":\"5010\"},{\"id\":\"5011\"}]},\"id\":\"5013\",\"type\":\"Toolbar\"},{\"attributes\":{},\"id\":\"5034\",\"type\":\"Selection\"},{\"attributes\":{\"ticks\":[0,35,70,105,140]},\"id\":\"5101\",\"type\":\"FixedTicker\"},{\"attributes\":{\"label\":{\"value\":\"Training Data\"},\"renderers\":[{\"id\":\"5024\"}]},\"id\":\"5037\",\"type\":\"LegendItem\"},{\"attributes\":{\"line_alpha\":0.1,\"line_color\":\"red\",\"line_width\":2.5,\"x\":{\"field\":\"x\"},\"y\":{\"field\":\"y\"}},\"id\":\"5059\",\"type\":\"Line\"}],\"root_ids\":[\"4987\"]},\"title\":\"Bokeh Application\",\"version\":\"2.4.1\"}};\n",
       "  const render_items = [{\"docid\":\"005bb520-d1e4-4618-894d-071f2aca5140\",\"root_ids\":[\"4987\"],\"roots\":{\"4987\":\"4ce6f9fe-b56e-4fdb-98bc-a79d3135c3c0\"}}];\n",
       "  root.Bokeh.embed.embed_items_notebook(docs_json, render_items);\n",
       "\n",
       "  }\n",
       "  if (root.Bokeh !== undefined) {\n",
       "    embed_document(root);\n",
       "  } else {\n",
       "    let attempts = 0;\n",
       "    const timer = setInterval(function(root) {\n",
       "      if (root.Bokeh !== undefined) {\n",
       "        clearInterval(timer);\n",
       "        embed_document(root);\n",
       "      } else {\n",
       "        attempts++;\n",
       "        if (attempts > 100) {\n",
       "          clearInterval(timer);\n",
       "          console.log(\"Bokeh: ERROR: Unable to run BokehJS code because BokehJS library is missing\");\n",
       "        }\n",
       "      }\n",
       "    }, 10, root)\n",
       "  }\n",
       "})(window);"
      ],
      "application/vnd.bokehjs_exec.v0+json": ""
     },
     "metadata": {
      "application/vnd.bokehjs_exec.v0+json": {
       "id": "4987"
      }
     },
     "output_type": "display_data"
    }
   ],
   "source": [
    "# Plotting the AR2 logarithmic differenced model\n",
    "\n",
    "p = figure(plot_width=800, plot_height=600, title = \"CPI predictions\")\n",
    "p.line(cpi_train.index, cpi_train.CPI, line_width =2.5, line_color=\"black\", line_dash=\"dashed\", legend_label=\"Training Data\")\n",
    "p.line(cpi_test.index, cpi_test.CPI, line_width =2.5, line_color=\"green\", line_dash=\"dashed\", legend_label=\"Test Data\")\n",
    "p.line(cpi_train.index, final_training, line_color=\"red\", line_width=2.5, legend_label=\"Final AR(2) Model (Training Data Fit)\")\n",
    "p.line(cpi_test.index, final_test, line_color=\"orange\", line_width=2.5, legend_label=\"Final AR(2) Model Predictions\")\n",
    "p.xaxis.ticker = [0, 35, 70, 105, 140]\n",
    "p.xaxis.major_label_overrides = {0: '2008', 35: '2011', 70: '2014', 105: '2017', 140: '2020'}\n",
    "p.legend.location = \"bottom_right\"\n",
    "p.xaxis.axis_label ='Time'\n",
    "p.yaxis.axis_label ='CPI'\n",
    "\n",
    "show(p)"
   ]
  },
  {
   "cell_type": "code",
   "execution_count": 70,
   "metadata": {},
   "outputs": [
    {
     "name": "stdout",
     "output_type": "stream",
     "text": [
      "The RMSE of the final fit with logarithmic differencing is 0.862001125927233\n"
     ]
    }
   ],
   "source": [
    "# Calculating Mean Squared Error for the AR(2) model with logarithmic differencing\n",
    "\n",
    "rmse = mean_squared_error(cpi_test.CPI.dropna(), final_test[:])**0.5\n",
    "print(\"The RMSE of the final fit with logarithmic differencing is \" + str(rmse))"
   ]
  },
  {
   "cell_type": "code",
   "execution_count": 71,
   "metadata": {},
   "outputs": [
    {
     "data": {
      "image/png": "[encoded data removed]",
      "text/plain": [
       "<Figure size 432x288 with 1 Axes>"
      ]
     },
     "metadata": {
      "needs_background": "light"
     },
     "output_type": "display_data"
    }
   ],
   "source": [
    "# Checking autocorrelation of residuals\n",
    "\n",
    "residuals = (remaining - training_predictions)[2:]\n",
    "plot_pacf(residuals, zero=False)\n",
    "plt.show()"
   ]
  },
  {
   "cell_type": "markdown",
   "metadata": {},
   "source": [
    "As we can see from the results, both ways to detrend the data - the linear detrending and logarithmic differencing - achieve pretty good results. However, if we compare the plots we can see that the logarithmic differencing method doesn't manage to produce a very accurate fitting in the beginning of the graph where we see a large dip of the inflation rate, as well as the small upswing at the end. The way the inflation is calculated by differencing also has an effect in producing a small gap where the training and test data meet in the center. On the other hand, when choosing to detrend the CPI data by substracting the linear trend, we achieve to follow the datapoints quite well during up- and downswings, as well as predicting the movements of inflation in the future. This method produces the best result which we can also notice from the smaller error term, RMSE."
   ]
  },
  {
   "cell_type": "markdown",
   "metadata": {},
   "source": [
    "# Inflation Rate from CPI\n",
    "\n",
    "Note that $\\text {CPI}$ is not a rate by itself while $\\text {BER}$ is. In order to take the different data sets comparable and use them together, we must first transform the data. One way to do this is to calculate monthly inflation rates from the different data sets given to us:\n",
    "\n",
    "How might you calculate monthly inflation rates from the $\\text {CPI}$ data?\n",
    "\n",
    "- The monthly inflation rate can be calculated as the percentage change of $\\text {CPI}$ per month:\n",
    "\n",
    "$$\\text {IR}_ t = \\frac{\\text {CPI}_ t -\\text {CPI}_{t-1}}{\\text {CPI}_{t-1}}$$\n",
    "\n",
    "where $t$ indexes the months.\n",
    "\n",
    "<b> Plot the monthly inflation rate calculated by the formula above and report below the value for February, 2013.</b>"
   ]
  },
  {
   "cell_type": "code",
   "execution_count": 72,
   "metadata": {},
   "outputs": [],
   "source": [
    "# Creating a function to calculate the monthly inflation rate\n",
    "\n",
    "def calc_inflation_rate(data):\n",
    "    ir = []\n",
    "    for i in range(1, len(data)):\n",
    "        ir_calc = (data[i] - data[i-1]) / data[i-1] * 100 # in percentage     \n",
    "        ir.append(ir_calc)\n",
    "    return ir"
   ]
  },
  {
   "cell_type": "code",
   "execution_count": 73,
   "metadata": {},
   "outputs": [
    {
     "data": {
      "text/html": [
       "<div>\n",
       "<style scoped>\n",
       "    .dataframe tbody tr th:only-of-type {\n",
       "        vertical-align: middle;\n",
       "    }\n",
       "\n",
       "    .dataframe tbody tr th {\n",
       "        vertical-align: top;\n",
       "    }\n",
       "\n",
       "    .dataframe thead th {\n",
       "        text-align: right;\n",
       "    }\n",
       "</style>\n",
       "<table border=\"1\" class=\"dataframe\">\n",
       "  <thead>\n",
       "    <tr style=\"text-align: right;\">\n",
       "      <th></th>\n",
       "      <th>index</th>\n",
       "      <th>date</th>\n",
       "      <th>PriceStats</th>\n",
       "      <th>CPI</th>\n",
       "      <th>YearMonth</th>\n",
       "      <th>IR</th>\n",
       "    </tr>\n",
       "  </thead>\n",
       "  <tbody>\n",
       "    <tr>\n",
       "      <th>0</th>\n",
       "      <td>7</td>\n",
       "      <td>2008-07-31</td>\n",
       "      <td>99.86741</td>\n",
       "      <td>100.00000</td>\n",
       "      <td>2008-07</td>\n",
       "      <td>NaN</td>\n",
       "    </tr>\n",
       "    <tr>\n",
       "      <th>1</th>\n",
       "      <td>38</td>\n",
       "      <td>2008-08-31</td>\n",
       "      <td>99.65405</td>\n",
       "      <td>100.52510</td>\n",
       "      <td>2008-08</td>\n",
       "      <td>0.525100</td>\n",
       "    </tr>\n",
       "    <tr>\n",
       "      <th>2</th>\n",
       "      <td>68</td>\n",
       "      <td>2008-09-30</td>\n",
       "      <td>99.70792</td>\n",
       "      <td>100.12380</td>\n",
       "      <td>2008-09</td>\n",
       "      <td>-0.399204</td>\n",
       "    </tr>\n",
       "    <tr>\n",
       "      <th>3</th>\n",
       "      <td>99</td>\n",
       "      <td>2008-10-31</td>\n",
       "      <td>97.98654</td>\n",
       "      <td>99.98538</td>\n",
       "      <td>2008-10</td>\n",
       "      <td>-0.138249</td>\n",
       "    </tr>\n",
       "    <tr>\n",
       "      <th>4</th>\n",
       "      <td>129</td>\n",
       "      <td>2008-11-30</td>\n",
       "      <td>96.55315</td>\n",
       "      <td>98.97539</td>\n",
       "      <td>2008-11</td>\n",
       "      <td>-1.010138</td>\n",
       "    </tr>\n",
       "  </tbody>\n",
       "</table>\n",
       "</div>"
      ],
      "text/plain": [
       "   index       date  PriceStats        CPI YearMonth        IR\n",
       "0      7 2008-07-31    99.86741  100.00000   2008-07       NaN\n",
       "1     38 2008-08-31    99.65405  100.52510   2008-08  0.525100\n",
       "2     68 2008-09-30    99.70792  100.12380   2008-09 -0.399204\n",
       "3     99 2008-10-31    97.98654   99.98538   2008-10 -0.138249\n",
       "4    129 2008-11-30    96.55315   98.97539   2008-11 -1.010138"
      ]
     },
     "execution_count": 73,
     "metadata": {},
     "output_type": "execute_result"
    }
   ],
   "source": [
    "# Calculating monthly inflation rate from CPI\n",
    "\n",
    "cpi.loc[1:, 'IR'] = calc_inflation_rate(cpi.CPI.values)\n",
    "cpi.head()"
   ]
  },
  {
   "cell_type": "code",
   "execution_count": 74,
   "metadata": {},
   "outputs": [
    {
     "name": "stdout",
     "output_type": "stream",
     "text": [
      "The inflation rate for the month of February in 2013 was 0.29572 %\n"
     ]
    }
   ],
   "source": [
    "print(\"The inflation rate for the month of February in 2013 was %0.5f \" % cpi[cpi.YearMonth =='2013-02']['IR'] +\"%\")"
   ]
  },
  {
   "cell_type": "code",
   "execution_count": 75,
   "metadata": {},
   "outputs": [
    {
     "data": {
      "text/html": [
       "\n",
       "\n",
       "\n",
       "\n",
       "\n",
       "\n",
       "  <div class=\"bk-root\" id=\"86a051ac-d8a8-4dbf-87ff-14d195f590cb\" data-root-id=\"5387\"></div>\n"
      ]
     },
     "metadata": {},
     "output_type": "display_data"
    },
    {
     "data": {
      "application/javascript": [
       "(function(root) {\n",
       "  function embed_document(root) {\n",
       "    \n",
       "  const docs_json = {\"45435997-40c3-4c68-a261-3785bf030fe4\":{\"defs\":[],\"roots\":{\"references\":[{\"attributes\":{\"below\":[{\"id\":\"5398\"}],\"center\":[{\"id\":\"5401\"},{\"id\":\"5405\"}],\"left\":[{\"id\":\"5402\"}],\"renderers\":[{\"id\":\"5424\"}],\"title\":{\"id\":\"5388\"},\"toolbar\":{\"id\":\"5413\"},\"width\":800,\"x_range\":{\"id\":\"5390\"},\"x_scale\":{\"id\":\"5394\"},\"y_range\":{\"id\":\"5392\"},\"y_scale\":{\"id\":\"5396\"}},\"id\":\"5387\",\"subtype\":\"Figure\",\"type\":\"Plot\"},{\"attributes\":{\"overlay\":{\"id\":\"5412\"}},\"id\":\"5408\",\"type\":\"BoxZoomTool\"},{\"attributes\":{\"line_color\":\"orange\",\"line_width\":2.5,\"x\":{\"field\":\"x\"},\"y\":{\"field\":\"y\"}},\"id\":\"5421\",\"type\":\"Line\"},{\"attributes\":{\"bottom_units\":\"screen\",\"coordinates\":null,\"fill_alpha\":0.5,\"fill_color\":\"lightgrey\",\"group\":null,\"left_units\":\"screen\",\"level\":\"overlay\",\"line_alpha\":1.0,\"line_color\":\"black\",\"line_dash\":[4,4],\"line_width\":2,\"right_units\":\"screen\",\"syncable\":false,\"top_units\":\"screen\"},\"id\":\"5412\",\"type\":\"BoxAnnotation\"},{\"attributes\":{\"source\":{\"id\":\"5420\"}},\"id\":\"5425\",\"type\":\"CDSView\"},{\"attributes\":{\"tools\":[{\"id\":\"5406\"},{\"id\":\"5407\"},{\"id\":\"5408\"},{\"id\":\"5409\"},{\"id\":\"5410\"},{\"id\":\"5411\"}]},\"id\":\"5413\",\"type\":\"Toolbar\"},{\"attributes\":{},\"id\":\"5390\",\"type\":\"DataRange1d\"},{\"attributes\":{\"coordinates\":null,\"data_source\":{\"id\":\"5420\"},\"glyph\":{\"id\":\"5421\"},\"group\":null,\"hover_glyph\":null,\"muted_glyph\":{\"id\":\"5423\"},\"nonselection_glyph\":{\"id\":\"5422\"},\"view\":{\"id\":\"5425\"}},\"id\":\"5424\",\"type\":\"GlyphRenderer\"},{\"attributes\":{\"axis\":{\"id\":\"5402\"},\"coordinates\":null,\"dimension\":1,\"group\":null,\"ticker\":null},\"id\":\"5405\",\"type\":\"Grid\"},{\"attributes\":{},\"id\":\"5644\",\"type\":\"Selection\"},{\"attributes\":{\"axis_label\":\"Monthly IR\",\"coordinates\":null,\"formatter\":{\"id\":\"5639\"},\"group\":null,\"major_label_policy\":{\"id\":\"5640\"},\"ticker\":{\"id\":\"5403\"}},\"id\":\"5402\",\"type\":\"LinearAxis\"},{\"attributes\":{},\"id\":\"5643\",\"type\":\"UnionRenderers\"},{\"attributes\":{},\"id\":\"5392\",\"type\":\"DataRange1d\"},{\"attributes\":{},\"id\":\"5641\",\"type\":\"BasicTickFormatter\"},{\"attributes\":{\"axis\":{\"id\":\"5398\"},\"coordinates\":null,\"group\":null,\"ticker\":null},\"id\":\"5401\",\"type\":\"Grid\"},{\"attributes\":{},\"id\":\"5411\",\"type\":\"HelpTool\"},{\"attributes\":{},\"id\":\"5410\",\"type\":\"ResetTool\"},{\"attributes\":{\"coordinates\":null,\"group\":null,\"text\":\"Monthly IR from CPI (in %)\"},\"id\":\"5388\",\"type\":\"Title\"},{\"attributes\":{},\"id\":\"5406\",\"type\":\"PanTool\"},{\"attributes\":{},\"id\":\"5396\",\"type\":\"LinearScale\"},{\"attributes\":{\"line_alpha\":0.1,\"line_color\":\"orange\",\"line_width\":2.5,\"x\":{\"field\":\"x\"},\"y\":{\"field\":\"y\"}},\"id\":\"5422\",\"type\":\"Line\"},{\"attributes\":{},\"id\":\"5403\",\"type\":\"BasicTicker\"},{\"attributes\":{},\"id\":\"5394\",\"type\":\"LinearScale\"},{\"attributes\":{\"axis_label\":\"Time\",\"coordinates\":null,\"formatter\":{\"id\":\"5641\"},\"group\":null,\"major_label_overrides\":{\"0\":\"2008\",\"105\":\"2017\",\"140\":\"2020\",\"35\":\"2011\",\"70\":\"2014\"},\"major_label_policy\":{\"id\":\"5642\"},\"ticker\":{\"id\":\"5426\"}},\"id\":\"5398\",\"type\":\"LinearAxis\"},{\"attributes\":{\"ticks\":[0,35,70,105,140]},\"id\":\"5426\",\"type\":\"FixedTicker\"},{\"attributes\":{},\"id\":\"5640\",\"type\":\"AllLabels\"},{\"attributes\":{},\"id\":\"5407\",\"type\":\"WheelZoomTool\"},{\"attributes\":{\"data\":{\"x\":[0,1,2,3,4,5,6,7,8,9,10,11,12,13,14,15,16,17,18,19,20,21,22,23,24,25,26,27,28,29,30,31,32,33,34,35,36,37,38,39,40,41,42,43,44,45,46,47,48,49,50,51,52,53,54,55,56,57,58,59,60,61,62,63,64,65,66,67,68,69,70,71,72,73,74,75,76,77,78,79,80,81,82,83,84,85,86,87,88,89,90,91,92,93,94,95,96,97,98,99,100,101,102,103,104,105,106,107,108,109,110,111,112,113,114,115,116,117,118,119,120,121,122,123,124,125,126,127,128,129,130,131,132,133,134,135,136],\"y\":{\"__ndarray__\":\"AAAAAAAA+H+AJeSDns3gP2qi5gOOjNm/DchGZCOywb/LOlMhhinwv/Ff0QkBpf6/SWkQDUKM8L80TvGZ+drbPwFLVGxb098/Bqj8VYAgzz/jU1MhE/TPP2l3CCcDfdI/bpg+yNJ86z8SABdHxUvEv+vlS8WOtcw/ajGFUmsDsD/b6jCo8qe4P6ZJZemHHbI/9M0E/8WKxr/t8sQgK9/VP8bdbRxAhZk/oL/L1ctH2j91Nn3MdzvGP1wSvz1m17M/vubAnI7+uL8dbqr4BKGVPys+inYwrME/tWqcQ/LIrT8al7qIzeC/P40EdvjiiKU/6g269XgAxj+Rh7Ui0nvePwzq/Wljj98/yYMNfucz7z/LTM8d6prkP49Fau+4HN4/SNdyTPVqu78MH+07sq62PxRZzH3JpdE/UbcVaV1vwz8cZa6dpmfKv3Lm6+oZmbW/0jxIZveRz79vmXFsJSncP++8gjXxLdw/DBRUfLxN6D+D/7eYj1XTP9h9Rj8EC76/USSStrvEwr+ViVfu1dvEv4bkn7IZz+E/41CqPtWO3D/OKeo5UPKjv3AmpQcyU96/6+tQcqA70b/N+dvdH+3SPyGX8e0mNeo/zY6vZ4+70D93PUVcpZ26v9R+WyADysY/dY/2rWG4zj88+vt4ADOkP/5Fd2xcyr4/toVVuX/FvT9M4LOGuHvQv07X3RvZJMq/69qSCDx/gb9sn+oi3c7XP5glMDJ7qtc/q93nOrmb5D/Hc6ehRRnVP2z2wktDWtY/Dwyn8DLXxz/rYQLbJfqjv1zk5S9GYsW/TE0fgcZDsz9zXHrhQhTQv1+QPFNUR+G/4KTF/7Ik4r/+wNdiPR7ev4j9ShKwyts/IhCAJB4M4z8oRxeBbQbKP2V9NDRET+A/rZfHTkxr1j8UJVo3wWp7PyeRsmbNIcK/b4rj0q/rw7+fnZoQHwanvz1x9by+A8u/gHhhUZXf1b+krioKMinFPw32tlEfEbU/KScsF+OO2z9VejaOWljeP56z6A7h5Nk/zXP0PmwF1T+luP1xTrjEv8gXQuwbg7c/BdKYwTPFzj/L4Jh0Hu2/P4LL/oXn58O/mYDWXNfBoD+MmjZZAabiP6AuRrzOIdQ/CncvWX7PtD/OgYH6ffrSPwPFgN+n4LU/Uk2pX3I7tz+cPC5Meaexvyc99nHYKNM/tLySQYXx4D8EwmsrviiwvyDWnNEJn2M/yhfHsMgcrr9SQ4asFG/hP2gCjWn7Bd0/clUBA2bxzD94FY/KDXDZP8iiyRTzndo/Rrqm0vRnxD/jAfTJGGN7PzK+l/nEc6w/ptnNGEa/vT+QpdbvdJ/GPyrQ/EDIb9W/BE9ZZB5x1L+3YmLyWWfIP1r7+5XPDNs/YKekKnUN4j9c9pwOJvLgP+YJXisuP8s/s83xiN9ilD96KU7zXWPFP/BrXK+g9XS/AAAAAAAA+H8AAAAAAAD4fw==\",\"dtype\":\"float64\",\"order\":\"little\",\"shape\":[137]}},\"selected\":{\"id\":\"5644\"},\"selection_policy\":{\"id\":\"5643\"}},\"id\":\"5420\",\"type\":\"ColumnDataSource\"},{\"attributes\":{},\"id\":\"5642\",\"type\":\"AllLabels\"},{\"attributes\":{\"line_alpha\":0.2,\"line_color\":\"orange\",\"line_width\":2.5,\"x\":{\"field\":\"x\"},\"y\":{\"field\":\"y\"}},\"id\":\"5423\",\"type\":\"Line\"},{\"attributes\":{},\"id\":\"5639\",\"type\":\"BasicTickFormatter\"},{\"attributes\":{},\"id\":\"5409\",\"type\":\"SaveTool\"}],\"root_ids\":[\"5387\"]},\"title\":\"Bokeh Application\",\"version\":\"2.4.1\"}};\n",
       "  const render_items = [{\"docid\":\"45435997-40c3-4c68-a261-3785bf030fe4\",\"root_ids\":[\"5387\"],\"roots\":{\"5387\":\"86a051ac-d8a8-4dbf-87ff-14d195f590cb\"}}];\n",
       "  root.Bokeh.embed.embed_items_notebook(docs_json, render_items);\n",
       "\n",
       "  }\n",
       "  if (root.Bokeh !== undefined) {\n",
       "    embed_document(root);\n",
       "  } else {\n",
       "    let attempts = 0;\n",
       "    const timer = setInterval(function(root) {\n",
       "      if (root.Bokeh !== undefined) {\n",
       "        clearInterval(timer);\n",
       "        embed_document(root);\n",
       "      } else {\n",
       "        attempts++;\n",
       "        if (attempts > 100) {\n",
       "          clearInterval(timer);\n",
       "          console.log(\"Bokeh: ERROR: Unable to run BokehJS code because BokehJS library is missing\");\n",
       "        }\n",
       "      }\n",
       "    }, 10, root)\n",
       "  }\n",
       "})(window);"
      ],
      "application/vnd.bokehjs_exec.v0+json": ""
     },
     "metadata": {
      "application/vnd.bokehjs_exec.v0+json": {
       "id": "5387"
      }
     },
     "output_type": "display_data"
    }
   ],
   "source": [
    "# Plotting the monthy inflation rate IR\n",
    "\n",
    "p = figure(plot_width=800, plot_height=600, title=\"Monthly IR from CPI (in %)\")\n",
    "p.line(cpi.index, cpi['IR'], line_color=\"orange\", line_width =2.5)\n",
    "p.xaxis.ticker = [0, 35, 70, 105, 140]\n",
    "p.xaxis.major_label_overrides = {0: '2008', 35: '2011', 70: '2014', 105: '2017', 140: '2020'}\n",
    "p.xaxis.axis_label ='Time'\n",
    "p.yaxis.axis_label ='Monthly IR'\n",
    "\n",
    "show(p)"
   ]
  },
  {
   "cell_type": "markdown",
   "metadata": {},
   "source": [
    "Another way to get the monthly inflation rate is to compute the difference of the logarithms:\n",
    "\n",
    "$$\\text {IR}_ t = \\ln (\\text {CPI}_ t) -\\ln (\\text {CPI}_{t-1})$$\n",
    "\n",
    "where $t$ indexes the months.\n",
    "\n",
    "<b> Plot the monthly inflation rate calculated by the formula above and report below the value for February, 2013.</b>"
   ]
  },
  {
   "cell_type": "code",
   "execution_count": 76,
   "metadata": {},
   "outputs": [
    {
     "data": {
      "text/html": [
       "<div>\n",
       "<style scoped>\n",
       "    .dataframe tbody tr th:only-of-type {\n",
       "        vertical-align: middle;\n",
       "    }\n",
       "\n",
       "    .dataframe tbody tr th {\n",
       "        vertical-align: top;\n",
       "    }\n",
       "\n",
       "    .dataframe thead th {\n",
       "        text-align: right;\n",
       "    }\n",
       "</style>\n",
       "<table border=\"1\" class=\"dataframe\">\n",
       "  <thead>\n",
       "    <tr style=\"text-align: right;\">\n",
       "      <th></th>\n",
       "      <th>index</th>\n",
       "      <th>date</th>\n",
       "      <th>PriceStats</th>\n",
       "      <th>CPI</th>\n",
       "      <th>YearMonth</th>\n",
       "      <th>IR</th>\n",
       "      <th>Diff_Log</th>\n",
       "    </tr>\n",
       "  </thead>\n",
       "  <tbody>\n",
       "    <tr>\n",
       "      <th>0</th>\n",
       "      <td>7</td>\n",
       "      <td>2008-07-31</td>\n",
       "      <td>99.86741</td>\n",
       "      <td>100.00000</td>\n",
       "      <td>2008-07</td>\n",
       "      <td>NaN</td>\n",
       "      <td>NaN</td>\n",
       "    </tr>\n",
       "    <tr>\n",
       "      <th>1</th>\n",
       "      <td>38</td>\n",
       "      <td>2008-08-31</td>\n",
       "      <td>99.65405</td>\n",
       "      <td>100.52510</td>\n",
       "      <td>2008-08</td>\n",
       "      <td>0.525100</td>\n",
       "      <td>0.523726</td>\n",
       "    </tr>\n",
       "    <tr>\n",
       "      <th>2</th>\n",
       "      <td>68</td>\n",
       "      <td>2008-09-30</td>\n",
       "      <td>99.70792</td>\n",
       "      <td>100.12380</td>\n",
       "      <td>2008-09</td>\n",
       "      <td>-0.399204</td>\n",
       "      <td>-0.400003</td>\n",
       "    </tr>\n",
       "    <tr>\n",
       "      <th>3</th>\n",
       "      <td>99</td>\n",
       "      <td>2008-10-31</td>\n",
       "      <td>97.98654</td>\n",
       "      <td>99.98538</td>\n",
       "      <td>2008-10</td>\n",
       "      <td>-0.138249</td>\n",
       "      <td>-0.138344</td>\n",
       "    </tr>\n",
       "    <tr>\n",
       "      <th>4</th>\n",
       "      <td>129</td>\n",
       "      <td>2008-11-30</td>\n",
       "      <td>96.55315</td>\n",
       "      <td>98.97539</td>\n",
       "      <td>2008-11</td>\n",
       "      <td>-1.010138</td>\n",
       "      <td>-1.015274</td>\n",
       "    </tr>\n",
       "  </tbody>\n",
       "</table>\n",
       "</div>"
      ],
      "text/plain": [
       "   index       date  PriceStats        CPI YearMonth        IR  Diff_Log\n",
       "0      7 2008-07-31    99.86741  100.00000   2008-07       NaN       NaN\n",
       "1     38 2008-08-31    99.65405  100.52510   2008-08  0.525100  0.523726\n",
       "2     68 2008-09-30    99.70792  100.12380   2008-09 -0.399204 -0.400003\n",
       "3     99 2008-10-31    97.98654   99.98538   2008-10 -0.138249 -0.138344\n",
       "4    129 2008-11-30    96.55315   98.97539   2008-11 -1.010138 -1.015274"
      ]
     },
     "execution_count": 76,
     "metadata": {},
     "output_type": "execute_result"
    }
   ],
   "source": [
    "# Calculating the monthly inflation with the difference of the logarithms\n",
    "\n",
    "cpi['Diff_Log'] = np.log(cpi.CPI).diff().values * 100\n",
    "cpi.head()"
   ]
  },
  {
   "cell_type": "code",
   "execution_count": 77,
   "metadata": {},
   "outputs": [
    {
     "name": "stdout",
     "output_type": "stream",
     "text": [
      "The inflation rate for the month of February in 2013 was 0.29529 %\n"
     ]
    }
   ],
   "source": [
    "print(\"The inflation rate for the month of February in 2013 was %0.5f \" % cpi[cpi.YearMonth =='2013-02']['Diff_Log'] + \"%\")"
   ]
  },
  {
   "cell_type": "code",
   "execution_count": 78,
   "metadata": {},
   "outputs": [
    {
     "data": {
      "text/html": [
       "\n",
       "\n",
       "\n",
       "\n",
       "\n",
       "\n",
       "  <div class=\"bk-root\" id=\"04d39272-dc2e-4c3c-ad40-63f72a06f294\" data-root-id=\"5691\"></div>\n"
      ]
     },
     "metadata": {},
     "output_type": "display_data"
    },
    {
     "data": {
      "application/javascript": [
       "(function(root) {\n",
       "  function embed_document(root) {\n",
       "    \n",
       "  const docs_json = {\"f12ea934-01ec-4e82-8515-f58fdce7f146\":{\"defs\":[],\"roots\":{\"references\":[{\"attributes\":{\"below\":[{\"id\":\"5702\"}],\"center\":[{\"id\":\"5705\"},{\"id\":\"5709\"}],\"left\":[{\"id\":\"5706\"}],\"renderers\":[{\"id\":\"5728\"}],\"title\":{\"id\":\"5692\"},\"toolbar\":{\"id\":\"5717\"},\"width\":800,\"x_range\":{\"id\":\"5694\"},\"x_scale\":{\"id\":\"5698\"},\"y_range\":{\"id\":\"5696\"},\"y_scale\":{\"id\":\"5700\"}},\"id\":\"5691\",\"subtype\":\"Figure\",\"type\":\"Plot\"},{\"attributes\":{},\"id\":\"5955\",\"type\":\"AllLabels\"},{\"attributes\":{},\"id\":\"5957\",\"type\":\"Selection\"},{\"attributes\":{\"line_alpha\":0.2,\"line_color\":\"navy\",\"line_width\":2.5,\"x\":{\"field\":\"x\"},\"y\":{\"field\":\"y\"}},\"id\":\"5727\",\"type\":\"Line\"},{\"attributes\":{},\"id\":\"5715\",\"type\":\"HelpTool\"},{\"attributes\":{\"coordinates\":null,\"data_source\":{\"id\":\"5724\"},\"glyph\":{\"id\":\"5725\"},\"group\":null,\"hover_glyph\":null,\"muted_glyph\":{\"id\":\"5727\"},\"nonselection_glyph\":{\"id\":\"5726\"},\"view\":{\"id\":\"5729\"}},\"id\":\"5728\",\"type\":\"GlyphRenderer\"},{\"attributes\":{},\"id\":\"5956\",\"type\":\"UnionRenderers\"},{\"attributes\":{},\"id\":\"5694\",\"type\":\"DataRange1d\"},{\"attributes\":{\"data\":{\"x\":[0,1,2,3,4,5,6,7,8,9,10,11,12,13,14,15,16,17,18,19,20,21,22,23,24,25,26,27,28,29,30,31,32,33,34,35,36,37,38,39,40,41,42,43,44,45,46,47,48,49,50,51,52,53,54,55,56,57,58,59,60,61,62,63,64,65,66,67,68,69,70,71,72,73,74,75,76,77,78,79,80,81,82,83,84,85,86,87,88,89,90,91,92,93,94,95,96,97,98,99,100,101,102,103,104,105,106,107,108,109,110,111,112,113,114,115,116,117,118,119,120,121,122,123,124,125,126,127,128,129,130,131,132,133,134,135,136],\"y\":{\"__ndarray__\":\"AAAAAAAA+H8Az6lbXcLgP8CX3Qilmdm/gIckx0W1wb+A3d0mkD7wvwA+Ybga8f6/cC7sG1Gi8L9ASzpfgMvbP0ABmagqv98/gHFk/9MWzz+Ab5+o4enPP8BC5mcwdtI/YCbYysVe6z+AdR/t5E/EvwB1pOtTrcw/AKhaOyMCsD8A6pIE6aS4PwBCog7kG7I/gNnHYNyPxr+AreVrn9XVPwAgF7tvhJk/wDCNSwU62j+AEgPrhzbGPwBu35Zu1bM/AA7Cxa4Bub8A6NRKb6CVP4Aw26cRqcE/AIpwtrrGrT8ATGTbudu/PwA09kG6h6U/AGBWIaP7xT+AjiRoS2neP8AWz2OIe98/YNtBDDYN7z9gMLITAYrkP0DtM+qkCt4/AFlXNbhuu78Ak9YSIKy2P8B1p9qRn9E/gKnQbJdrwz8A+tfzoW7KvwBywFdvm7W/gLQYGPObz7+Airv/VBncP4CRY2cbHtw/QFfOfzo26D+AtTKGGU7TPwCSjXWID76/gCUaX0LIwr+AXfH2MODEv8COrfp1wuE/wMls+pF+3D8AwvDsTvOjvwDyy1SlZd6/wON6r5NB0b9ACM94+eXSP2BMu9vTGeo/ALlQZPi10D8A2yS+MKG6vwCE0C7TxMY/gLvLlPWuzj8ADmlq+zGkPwDEQuOfxb4/AHAVFhLBvT+A6zgEKoHQv4BD50SxK8q/APj/BG1/gb+AxAEtjsPXPwBOAKdOn9c/4MaK3c6K5D+AFQ9uYxDVP0BcwxZLUNY/gFkmtIXRxz8AFktWJfujv4BW2xraZsW/AEAOsutBsz+Ap0PScBnQvwCxq4lQU+G/ALWxnOox4r/AiSBecDDevwAg8ONIu9s/gMnBvKn94j8AHmjyqf/JP6AQj4qpROA/QGhk5kRh1j8AcGAVhWp7PwDOrtkXJcK/AOEWxajvw78AClFucgenvwB9Q6INC8u/AL6OjCzp1b8AXCH5uCTFPwB3m4znDrU/wKrc0r1/2z+A12bF/kXeP0CAdlGB19k/QJ3etZr81D8ALqiumrzEvwBkur5YgLc/AB0Zy7+7zj8AJ6naBui/P4Bh9PXe68O/AEQHsCPBoD+gu5QCJpjiP8BCDfG3GdQ/AMgbT1TNtD8AOtR6TfPSPwBnE5RD3rU/AHf57b84tz8ANWBrCKmxv8AR5rGEIdM/QKQn5BPm4D8Aq6aKDCqwvwBgWmv6nmM/AMhtPg0frr8Ayw2T92LhP4BDiIsv9dw/ADdSvQjpzD+AIFSCJWPZP8CQQMXRj9o/AGwl88tjxD8AII7J3GJ7PwBcdxG/caw/AHZBT9q6vT8ApM1IWJrGPwAEalD+eNW/QOENdH551L+AvcJLZ2HIPwAPsMc3/to/QG1Nf3gA4j+Aj13Ys+bgP4DwS1nEN8s/AECqj1pilD+A1mkszF7FPwDAiNTD9XS/AAAAAAAA+H8AAAAAAAD4fw==\",\"dtype\":\"float64\",\"order\":\"little\",\"shape\":[137]}},\"selected\":{\"id\":\"5957\"},\"selection_policy\":{\"id\":\"5956\"}},\"id\":\"5724\",\"type\":\"ColumnDataSource\"},{\"attributes\":{\"axis_label\":\"Time\",\"coordinates\":null,\"formatter\":{\"id\":\"5954\"},\"group\":null,\"major_label_overrides\":{\"0\":\"2008\",\"105\":\"2017\",\"140\":\"2020\",\"35\":\"2011\",\"70\":\"2014\"},\"major_label_policy\":{\"id\":\"5955\"},\"ticker\":{\"id\":\"5730\"}},\"id\":\"5702\",\"type\":\"LinearAxis\"},{\"attributes\":{},\"id\":\"5696\",\"type\":\"DataRange1d\"},{\"attributes\":{},\"id\":\"5952\",\"type\":\"BasicTickFormatter\"},{\"attributes\":{},\"id\":\"5711\",\"type\":\"WheelZoomTool\"},{\"attributes\":{\"source\":{\"id\":\"5724\"}},\"id\":\"5729\",\"type\":\"CDSView\"},{\"attributes\":{},\"id\":\"5954\",\"type\":\"BasicTickFormatter\"},{\"attributes\":{},\"id\":\"5700\",\"type\":\"LinearScale\"},{\"attributes\":{},\"id\":\"5953\",\"type\":\"AllLabels\"},{\"attributes\":{},\"id\":\"5710\",\"type\":\"PanTool\"},{\"attributes\":{\"axis\":{\"id\":\"5706\"},\"coordinates\":null,\"dimension\":1,\"group\":null,\"ticker\":null},\"id\":\"5709\",\"type\":\"Grid\"},{\"attributes\":{\"overlay\":{\"id\":\"5716\"}},\"id\":\"5712\",\"type\":\"BoxZoomTool\"},{\"attributes\":{\"bottom_units\":\"screen\",\"coordinates\":null,\"fill_alpha\":0.5,\"fill_color\":\"lightgrey\",\"group\":null,\"left_units\":\"screen\",\"level\":\"overlay\",\"line_alpha\":1.0,\"line_color\":\"black\",\"line_dash\":[4,4],\"line_width\":2,\"right_units\":\"screen\",\"syncable\":false,\"top_units\":\"screen\"},\"id\":\"5716\",\"type\":\"BoxAnnotation\"},{\"attributes\":{\"line_color\":\"navy\",\"line_width\":2.5,\"x\":{\"field\":\"x\"},\"y\":{\"field\":\"y\"}},\"id\":\"5725\",\"type\":\"Line\"},{\"attributes\":{},\"id\":\"5698\",\"type\":\"LinearScale\"},{\"attributes\":{\"coordinates\":null,\"group\":null,\"text\":\"Monthly IR from CPI (in %)\"},\"id\":\"5692\",\"type\":\"Title\"},{\"attributes\":{},\"id\":\"5707\",\"type\":\"BasicTicker\"},{\"attributes\":{},\"id\":\"5713\",\"type\":\"SaveTool\"},{\"attributes\":{\"axis\":{\"id\":\"5702\"},\"coordinates\":null,\"group\":null,\"ticker\":null},\"id\":\"5705\",\"type\":\"Grid\"},{\"attributes\":{\"tools\":[{\"id\":\"5710\"},{\"id\":\"5711\"},{\"id\":\"5712\"},{\"id\":\"5713\"},{\"id\":\"5714\"},{\"id\":\"5715\"}]},\"id\":\"5717\",\"type\":\"Toolbar\"},{\"attributes\":{\"ticks\":[0,35,70,105,140]},\"id\":\"5730\",\"type\":\"FixedTicker\"},{\"attributes\":{},\"id\":\"5714\",\"type\":\"ResetTool\"},{\"attributes\":{\"axis_label\":\"Monthly IR\",\"coordinates\":null,\"formatter\":{\"id\":\"5952\"},\"group\":null,\"major_label_policy\":{\"id\":\"5953\"},\"ticker\":{\"id\":\"5707\"}},\"id\":\"5706\",\"type\":\"LinearAxis\"},{\"attributes\":{\"line_alpha\":0.1,\"line_color\":\"navy\",\"line_width\":2.5,\"x\":{\"field\":\"x\"},\"y\":{\"field\":\"y\"}},\"id\":\"5726\",\"type\":\"Line\"}],\"root_ids\":[\"5691\"]},\"title\":\"Bokeh Application\",\"version\":\"2.4.1\"}};\n",
       "  const render_items = [{\"docid\":\"f12ea934-01ec-4e82-8515-f58fdce7f146\",\"root_ids\":[\"5691\"],\"roots\":{\"5691\":\"04d39272-dc2e-4c3c-ad40-63f72a06f294\"}}];\n",
       "  root.Bokeh.embed.embed_items_notebook(docs_json, render_items);\n",
       "\n",
       "  }\n",
       "  if (root.Bokeh !== undefined) {\n",
       "    embed_document(root);\n",
       "  } else {\n",
       "    let attempts = 0;\n",
       "    const timer = setInterval(function(root) {\n",
       "      if (root.Bokeh !== undefined) {\n",
       "        clearInterval(timer);\n",
       "        embed_document(root);\n",
       "      } else {\n",
       "        attempts++;\n",
       "        if (attempts > 100) {\n",
       "          clearInterval(timer);\n",
       "          console.log(\"Bokeh: ERROR: Unable to run BokehJS code because BokehJS library is missing\");\n",
       "        }\n",
       "      }\n",
       "    }, 10, root)\n",
       "  }\n",
       "})(window);"
      ],
      "application/vnd.bokehjs_exec.v0+json": ""
     },
     "metadata": {
      "application/vnd.bokehjs_exec.v0+json": {
       "id": "5691"
      }
     },
     "output_type": "display_data"
    }
   ],
   "source": [
    "# Plotting the monthy inflation rate log differenced IR \n",
    "\n",
    "p = figure(plot_width=800, plot_height=600, title=\"Monthly IR from CPI (in %)\")\n",
    "p.line(cpi.index, cpi['Diff_Log'], line_color=\"navy\", line_width =2.5)\n",
    "p.xaxis.ticker = [0, 35, 70, 105, 140]\n",
    "p.xaxis.major_label_overrides = {0: '2008', 35: '2011', 70: '2014', 105: '2017', 140: '2020'}\n",
    "p.xaxis.axis_label ='Time'\n",
    "p.yaxis.axis_label ='Monthly IR'\n",
    "\n",
    "show(p)"
   ]
  },
  {
   "cell_type": "markdown",
   "metadata": {},
   "source": [
    "# Inflation Rate from PriceStats\n",
    "\n",
    "How about from Price Stats data? Note that PriceStats data is reported on a daily basis and there may be multiple ways to calculate a \"monthly\" inflation rate. For the methods described below, report the monthly inflation rate calculated using PriceStats data for February, 2013."
   ]
  },
  {
   "cell_type": "markdown",
   "metadata": {},
   "source": [
    "Method I: Compute the monthly inflation rate as the percentage change of $\\text {PriceStats}$ per month using a representative value of $\\text {PriceStats}$\n",
    "    \n",
    "$$\\text {IR}_{m} = \\frac{\\text {PriceStats}_ m -\\text {PriceStats}_{m-1}}{\\text {PriceStats}_{m-1}}$$\n",
    "   \n",
    "where $m$ indexes the months, and $\\text {PriceStats}_m$ is a representative value of $\\text {PriceStats}$ of the month $m$.\n",
    "    \n",
    "<b> There are different monthly representatives we can choose. Plot the monthly inflation rate calculated by the formula above and the following representative values of $\\text {PriceStats}$ of the month $m$. Report the value for February, 2013 using the average $\\text {PriceStats}$ value of all days in a month $m$ and using the $\\text {PriceStats}$ value of the last day of month $m$.</b>"
   ]
  },
  {
   "cell_type": "code",
   "execution_count": 79,
   "metadata": {},
   "outputs": [
    {
     "data": {
      "text/html": [
       "<div>\n",
       "<style scoped>\n",
       "    .dataframe tbody tr th:only-of-type {\n",
       "        vertical-align: middle;\n",
       "    }\n",
       "\n",
       "    .dataframe tbody tr th {\n",
       "        vertical-align: top;\n",
       "    }\n",
       "\n",
       "    .dataframe thead th {\n",
       "        text-align: right;\n",
       "    }\n",
       "</style>\n",
       "<table border=\"1\" class=\"dataframe\">\n",
       "  <thead>\n",
       "    <tr style=\"text-align: right;\">\n",
       "      <th></th>\n",
       "      <th>date</th>\n",
       "      <th>PriceStats</th>\n",
       "      <th>CPI</th>\n",
       "    </tr>\n",
       "  </thead>\n",
       "  <tbody>\n",
       "    <tr>\n",
       "      <th>0</th>\n",
       "      <td>2008-07-24</td>\n",
       "      <td>100.00000</td>\n",
       "      <td>100.0</td>\n",
       "    </tr>\n",
       "    <tr>\n",
       "      <th>1</th>\n",
       "      <td>2008-07-25</td>\n",
       "      <td>99.99767</td>\n",
       "      <td>100.0</td>\n",
       "    </tr>\n",
       "    <tr>\n",
       "      <th>2</th>\n",
       "      <td>2008-07-26</td>\n",
       "      <td>99.92376</td>\n",
       "      <td>100.0</td>\n",
       "    </tr>\n",
       "    <tr>\n",
       "      <th>3</th>\n",
       "      <td>2008-07-27</td>\n",
       "      <td>99.91537</td>\n",
       "      <td>100.0</td>\n",
       "    </tr>\n",
       "    <tr>\n",
       "      <th>4</th>\n",
       "      <td>2008-07-28</td>\n",
       "      <td>99.89491</td>\n",
       "      <td>100.0</td>\n",
       "    </tr>\n",
       "  </tbody>\n",
       "</table>\n",
       "</div>"
      ],
      "text/plain": [
       "        date  PriceStats    CPI\n",
       "0 2008-07-24   100.00000  100.0\n",
       "1 2008-07-25    99.99767  100.0\n",
       "2 2008-07-26    99.92376  100.0\n",
       "3 2008-07-27    99.91537  100.0\n",
       "4 2008-07-28    99.89491  100.0"
      ]
     },
     "execution_count": 79,
     "metadata": {},
     "output_type": "execute_result"
    }
   ],
   "source": [
    "# Loading and preparing dataset\n",
    "\n",
    "pricestats = pd.read_csv('data\\PriceStats_CPI.csv', parse_dates=['date'])\n",
    "pricestats.head()"
   ]
  },
  {
   "cell_type": "code",
   "execution_count": 80,
   "metadata": {},
   "outputs": [
    {
     "data": {
      "text/html": [
       "<div>\n",
       "<style scoped>\n",
       "    .dataframe tbody tr th:only-of-type {\n",
       "        vertical-align: middle;\n",
       "    }\n",
       "\n",
       "    .dataframe tbody tr th {\n",
       "        vertical-align: top;\n",
       "    }\n",
       "\n",
       "    .dataframe thead th {\n",
       "        text-align: right;\n",
       "    }\n",
       "</style>\n",
       "<table border=\"1\" class=\"dataframe\">\n",
       "  <thead>\n",
       "    <tr style=\"text-align: right;\">\n",
       "      <th></th>\n",
       "      <th>date</th>\n",
       "      <th>PriceStats</th>\n",
       "      <th>CPI</th>\n",
       "      <th>YearMonth</th>\n",
       "    </tr>\n",
       "  </thead>\n",
       "  <tbody>\n",
       "    <tr>\n",
       "      <th>0</th>\n",
       "      <td>2008-07-24</td>\n",
       "      <td>100.00000</td>\n",
       "      <td>100.0</td>\n",
       "      <td>2008-07</td>\n",
       "    </tr>\n",
       "    <tr>\n",
       "      <th>1</th>\n",
       "      <td>2008-07-25</td>\n",
       "      <td>99.99767</td>\n",
       "      <td>100.0</td>\n",
       "      <td>2008-07</td>\n",
       "    </tr>\n",
       "    <tr>\n",
       "      <th>2</th>\n",
       "      <td>2008-07-26</td>\n",
       "      <td>99.92376</td>\n",
       "      <td>100.0</td>\n",
       "      <td>2008-07</td>\n",
       "    </tr>\n",
       "    <tr>\n",
       "      <th>3</th>\n",
       "      <td>2008-07-27</td>\n",
       "      <td>99.91537</td>\n",
       "      <td>100.0</td>\n",
       "      <td>2008-07</td>\n",
       "    </tr>\n",
       "    <tr>\n",
       "      <th>4</th>\n",
       "      <td>2008-07-28</td>\n",
       "      <td>99.89491</td>\n",
       "      <td>100.0</td>\n",
       "      <td>2008-07</td>\n",
       "    </tr>\n",
       "  </tbody>\n",
       "</table>\n",
       "</div>"
      ],
      "text/plain": [
       "        date  PriceStats    CPI YearMonth\n",
       "0 2008-07-24   100.00000  100.0   2008-07\n",
       "1 2008-07-25    99.99767  100.0   2008-07\n",
       "2 2008-07-26    99.92376  100.0   2008-07\n",
       "3 2008-07-27    99.91537  100.0   2008-07\n",
       "4 2008-07-28    99.89491  100.0   2008-07"
      ]
     },
     "execution_count": 80,
     "metadata": {},
     "output_type": "execute_result"
    }
   ],
   "source": [
    "# Extracting month and year together into series\n",
    "\n",
    "pricestats['YearMonth'] = pricestats.date.dt.strftime('%Y-%m')\n",
    "pricestats.head()"
   ]
  },
  {
   "cell_type": "code",
   "execution_count": 81,
   "metadata": {},
   "outputs": [
    {
     "data": {
      "text/html": [
       "<div>\n",
       "<style scoped>\n",
       "    .dataframe tbody tr th:only-of-type {\n",
       "        vertical-align: middle;\n",
       "    }\n",
       "\n",
       "    .dataframe tbody tr th {\n",
       "        vertical-align: top;\n",
       "    }\n",
       "\n",
       "    .dataframe thead th {\n",
       "        text-align: right;\n",
       "    }\n",
       "</style>\n",
       "<table border=\"1\" class=\"dataframe\">\n",
       "  <thead>\n",
       "    <tr style=\"text-align: right;\">\n",
       "      <th></th>\n",
       "      <th>YearMonth</th>\n",
       "      <th>PriceStats_m</th>\n",
       "      <th>PriceStats_avg_rate</th>\n",
       "    </tr>\n",
       "  </thead>\n",
       "  <tbody>\n",
       "    <tr>\n",
       "      <th>0</th>\n",
       "      <td>2008-07</td>\n",
       "      <td>99.921038</td>\n",
       "      <td>NaN</td>\n",
       "    </tr>\n",
       "    <tr>\n",
       "      <th>1</th>\n",
       "      <td>2008-08</td>\n",
       "      <td>99.727196</td>\n",
       "      <td>-0.193995</td>\n",
       "    </tr>\n",
       "    <tr>\n",
       "      <th>2</th>\n",
       "      <td>2008-09</td>\n",
       "      <td>99.770512</td>\n",
       "      <td>0.043435</td>\n",
       "    </tr>\n",
       "    <tr>\n",
       "      <th>3</th>\n",
       "      <td>2008-10</td>\n",
       "      <td>99.011287</td>\n",
       "      <td>-0.760972</td>\n",
       "    </tr>\n",
       "    <tr>\n",
       "      <th>4</th>\n",
       "      <td>2008-11</td>\n",
       "      <td>97.221704</td>\n",
       "      <td>-1.80745</td>\n",
       "    </tr>\n",
       "  </tbody>\n",
       "</table>\n",
       "</div>"
      ],
      "text/plain": [
       "  YearMonth  PriceStats_m PriceStats_avg_rate\n",
       "0   2008-07     99.921038                 NaN\n",
       "1   2008-08     99.727196           -0.193995\n",
       "2   2008-09     99.770512            0.043435\n",
       "3   2008-10     99.011287           -0.760972\n",
       "4   2008-11     97.221704            -1.80745"
      ]
     },
     "execution_count": 81,
     "metadata": {},
     "output_type": "execute_result"
    }
   ],
   "source": [
    "# Creating a new dataframe for monthly calculations\n",
    "\n",
    "pricestats_monthly = pd.DataFrame(columns=['YearMonth','PriceStats_m','PriceStats_avg_rate'])\n",
    "pricestats_monthly['PriceStats_m'] = pricestats.groupby('YearMonth')['PriceStats'].mean().values\n",
    "pricestats_monthly.loc[1:, 'PriceStats_avg_rate'] = calc_inflation_rate(pricestats_monthly.PriceStats_m.values)\n",
    "pricestats_monthly['YearMonth'] = cpi.YearMonth # taking the months from the cpi dataframe\n",
    "pricestats_monthly.head()"
   ]
  },
  {
   "cell_type": "code",
   "execution_count": 82,
   "metadata": {},
   "outputs": [
    {
     "name": "stdout",
     "output_type": "stream",
     "text": [
      "The inflation rate using the average PriceStats value of all days in a month for February 2013 was 1.03587 %\n"
     ]
    }
   ],
   "source": [
    "print(\"The inflation rate using the average PriceStats value of all days in a month for February 2013 was %0.5f \" % pricestats_monthly[pricestats_monthly.YearMonth == '2013-02']['PriceStats_avg_rate'] + \"%\")"
   ]
  },
  {
   "cell_type": "code",
   "execution_count": 83,
   "metadata": {},
   "outputs": [
    {
     "data": {
      "text/html": [
       "<div>\n",
       "<style scoped>\n",
       "    .dataframe tbody tr th:only-of-type {\n",
       "        vertical-align: middle;\n",
       "    }\n",
       "\n",
       "    .dataframe tbody tr th {\n",
       "        vertical-align: top;\n",
       "    }\n",
       "\n",
       "    .dataframe thead th {\n",
       "        text-align: right;\n",
       "    }\n",
       "</style>\n",
       "<table border=\"1\" class=\"dataframe\">\n",
       "  <thead>\n",
       "    <tr style=\"text-align: right;\">\n",
       "      <th></th>\n",
       "      <th>YearMonth</th>\n",
       "      <th>PriceStats_m</th>\n",
       "      <th>PriceStats_avg_rate</th>\n",
       "      <th>PriceStats_lastday_rate</th>\n",
       "    </tr>\n",
       "  </thead>\n",
       "  <tbody>\n",
       "    <tr>\n",
       "      <th>0</th>\n",
       "      <td>2008-07</td>\n",
       "      <td>99.921038</td>\n",
       "      <td>NaN</td>\n",
       "      <td>NaN</td>\n",
       "    </tr>\n",
       "    <tr>\n",
       "      <th>1</th>\n",
       "      <td>2008-08</td>\n",
       "      <td>99.727196</td>\n",
       "      <td>-0.193995</td>\n",
       "      <td>-0.213643</td>\n",
       "    </tr>\n",
       "    <tr>\n",
       "      <th>2</th>\n",
       "      <td>2008-09</td>\n",
       "      <td>99.770512</td>\n",
       "      <td>0.043435</td>\n",
       "      <td>0.054057</td>\n",
       "    </tr>\n",
       "    <tr>\n",
       "      <th>3</th>\n",
       "      <td>2008-10</td>\n",
       "      <td>99.011287</td>\n",
       "      <td>-0.760972</td>\n",
       "      <td>-1.726423</td>\n",
       "    </tr>\n",
       "    <tr>\n",
       "      <th>4</th>\n",
       "      <td>2008-11</td>\n",
       "      <td>97.221704</td>\n",
       "      <td>-1.80745</td>\n",
       "      <td>-1.462844</td>\n",
       "    </tr>\n",
       "  </tbody>\n",
       "</table>\n",
       "</div>"
      ],
      "text/plain": [
       "  YearMonth  PriceStats_m PriceStats_avg_rate  PriceStats_lastday_rate\n",
       "0   2008-07     99.921038                 NaN                      NaN\n",
       "1   2008-08     99.727196           -0.193995                -0.213643\n",
       "2   2008-09     99.770512            0.043435                 0.054057\n",
       "3   2008-10     99.011287           -0.760972                -1.726423\n",
       "4   2008-11     97.221704            -1.80745                -1.462844"
      ]
     },
     "execution_count": 83,
     "metadata": {},
     "output_type": "execute_result"
    }
   ],
   "source": [
    "# Creating a new column for calculating the inflation rate using the PriceStats value the last day of the month\n",
    "\n",
    "pricestats_monthly.loc[1:, 'PriceStats_lastday_rate'] = calc_inflation_rate(cpi.PriceStats.values)\n",
    "pricestats_monthly.head()"
   ]
  },
  {
   "cell_type": "code",
   "execution_count": 84,
   "metadata": {},
   "outputs": [
    {
     "name": "stdout",
     "output_type": "stream",
     "text": [
      "The inflation rate using the PriceStats value of the last day of month for February 2013 was 1.15945 %\n"
     ]
    }
   ],
   "source": [
    "print(\"The inflation rate using the PriceStats value of the last day of month for February 2013 was %0.5f \" % pricestats_monthly[pricestats_monthly.YearMonth == '2013-02']['PriceStats_lastday_rate'] + \"%\")"
   ]
  },
  {
   "cell_type": "markdown",
   "metadata": {},
   "source": [
    "Method II: Calculate daily inflation rates (i.e. the percentage change of $\\text {PriceStats}$ per day). Then take the average of daily inflation rates across all days of the month to get a representative of the monthly inflation rate. Finally multiplication by 30 to change the units from per day to per month.\n",
    "\n",
    "<b> Plot the monthly inflation rate for this method and report the value for February, 2013</b>"
   ]
  },
  {
   "cell_type": "code",
   "execution_count": 85,
   "metadata": {},
   "outputs": [
    {
     "data": {
      "text/html": [
       "<div>\n",
       "<style scoped>\n",
       "    .dataframe tbody tr th:only-of-type {\n",
       "        vertical-align: middle;\n",
       "    }\n",
       "\n",
       "    .dataframe tbody tr th {\n",
       "        vertical-align: top;\n",
       "    }\n",
       "\n",
       "    .dataframe thead th {\n",
       "        text-align: right;\n",
       "    }\n",
       "</style>\n",
       "<table border=\"1\" class=\"dataframe\">\n",
       "  <thead>\n",
       "    <tr style=\"text-align: right;\">\n",
       "      <th></th>\n",
       "      <th>YearMonth</th>\n",
       "      <th>PriceStats_daily_rate</th>\n",
       "    </tr>\n",
       "  </thead>\n",
       "  <tbody>\n",
       "    <tr>\n",
       "      <th>0</th>\n",
       "      <td>2008-07</td>\n",
       "      <td>-0.568484</td>\n",
       "    </tr>\n",
       "    <tr>\n",
       "      <th>1</th>\n",
       "      <td>2008-08</td>\n",
       "      <td>-0.206947</td>\n",
       "    </tr>\n",
       "    <tr>\n",
       "      <th>2</th>\n",
       "      <td>2008-09</td>\n",
       "      <td>0.054266</td>\n",
       "    </tr>\n",
       "    <tr>\n",
       "      <th>3</th>\n",
       "      <td>2008-10</td>\n",
       "      <td>-1.684524</td>\n",
       "    </tr>\n",
       "    <tr>\n",
       "      <th>4</th>\n",
       "      <td>2008-11</td>\n",
       "      <td>-1.473188</td>\n",
       "    </tr>\n",
       "  </tbody>\n",
       "</table>\n",
       "</div>"
      ],
      "text/plain": [
       "  YearMonth  PriceStats_daily_rate\n",
       "0   2008-07              -0.568484\n",
       "1   2008-08              -0.206947\n",
       "2   2008-09               0.054266\n",
       "3   2008-10              -1.684524\n",
       "4   2008-11              -1.473188"
      ]
     },
     "execution_count": 85,
     "metadata": {},
     "output_type": "execute_result"
    }
   ],
   "source": [
    "# Creating a new dataframe for daily calculations\n",
    "\n",
    "pricestats_daily = pd.DataFrame(columns=['YearMonth', 'PriceStats_daily_rate'])\n",
    "\n",
    "pricestats.loc[1:,'daily_values'] = calc_inflation_rate(pricestats.PriceStats.values)\n",
    "pricestats_daily['PriceStats_daily_rate'] = pricestats.groupby('YearMonth')['daily_values'].mean().values * 30\n",
    "pricestats_daily['YearMonth'] = cpi.YearMonth\n",
    "pricestats_daily.head()"
   ]
  },
  {
   "cell_type": "code",
   "execution_count": 86,
   "metadata": {},
   "outputs": [
    {
     "name": "stdout",
     "output_type": "stream",
     "text": [
      "The inflation rate from averaging daily rates from PriceStats for the month of February in 2013 was 1.23551 %\n"
     ]
    }
   ],
   "source": [
    "print(\"The inflation rate from averaging daily rates from PriceStats for the month of February in 2013 was %0.5f\" % pricestats_daily[pricestats_daily.YearMonth == '2013-02']['PriceStats_daily_rate'] + \" %\")"
   ]
  },
  {
   "cell_type": "code",
   "execution_count": 87,
   "metadata": {},
   "outputs": [
    {
     "data": {
      "text/html": [
       "\n",
       "\n",
       "\n",
       "\n",
       "\n",
       "\n",
       "  <div class=\"bk-root\" id=\"0696bbbd-d85c-4c5b-9084-4f098f894a0a\" data-root-id=\"6004\"></div>\n"
      ]
     },
     "metadata": {},
     "output_type": "display_data"
    },
    {
     "data": {
      "application/javascript": [
       "(function(root) {\n",
       "  function embed_document(root) {\n",
       "    \n",
       "  const docs_json = {\"9624561e-c2a8-4636-b8a1-4c7200c29ede\":{\"defs\":[],\"roots\":{\"references\":[{\"attributes\":{\"below\":[{\"id\":\"6015\"}],\"center\":[{\"id\":\"6018\"},{\"id\":\"6022\"},{\"id\":\"6053\"}],\"left\":[{\"id\":\"6019\"}],\"renderers\":[{\"id\":\"6041\"}],\"title\":{\"id\":\"6005\"},\"toolbar\":{\"id\":\"6030\"},\"width\":800,\"x_range\":{\"id\":\"6007\"},\"x_scale\":{\"id\":\"6011\"},\"y_range\":{\"id\":\"6009\"},\"y_scale\":{\"id\":\"6013\"}},\"id\":\"6004\",\"subtype\":\"Figure\",\"type\":\"Plot\"},{\"attributes\":{},\"id\":\"6013\",\"type\":\"LinearScale\"},{\"attributes\":{\"line_alpha\":0.2,\"line_color\":\"lightskyblue\",\"line_width\":2.5,\"x\":{\"field\":\"x\"},\"y\":{\"field\":\"y\"}},\"id\":\"6040\",\"type\":\"Line\"},{\"attributes\":{},\"id\":\"6048\",\"type\":\"BasicTickFormatter\"},{\"attributes\":{},\"id\":\"6009\",\"type\":\"DataRange1d\"},{\"attributes\":{},\"id\":\"6028\",\"type\":\"HelpTool\"},{\"attributes\":{},\"id\":\"6049\",\"type\":\"AllLabels\"},{\"attributes\":{\"axis_label\":\"Time\",\"coordinates\":null,\"formatter\":{\"id\":\"6048\"},\"group\":null,\"major_label_overrides\":{\"0\":\"2008\",\"105\":\"2017\",\"140\":\"2020\",\"35\":\"2011\",\"70\":\"2014\"},\"major_label_policy\":{\"id\":\"6049\"},\"ticker\":{\"id\":\"6055\"}},\"id\":\"6015\",\"type\":\"LinearAxis\"},{\"attributes\":{\"line_color\":\"lightskyblue\",\"line_width\":2.5,\"x\":{\"field\":\"x\"},\"y\":{\"field\":\"y\"}},\"id\":\"6038\",\"type\":\"Line\"},{\"attributes\":{\"axis_label\":\"Monthly IR\",\"coordinates\":null,\"formatter\":{\"id\":\"6045\"},\"group\":null,\"major_label_policy\":{\"id\":\"6046\"},\"ticker\":{\"id\":\"6020\"}},\"id\":\"6019\",\"type\":\"LinearAxis\"},{\"attributes\":{\"axis\":{\"id\":\"6015\"},\"coordinates\":null,\"group\":null,\"ticker\":null},\"id\":\"6018\",\"type\":\"Grid\"},{\"attributes\":{},\"id\":\"6007\",\"type\":\"DataRange1d\"},{\"attributes\":{\"source\":{\"id\":\"6037\"}},\"id\":\"6042\",\"type\":\"CDSView\"},{\"attributes\":{\"axis\":{\"id\":\"6019\"},\"coordinates\":null,\"dimension\":1,\"group\":null,\"ticker\":null},\"id\":\"6022\",\"type\":\"Grid\"},{\"attributes\":{},\"id\":\"6020\",\"type\":\"BasicTicker\"},{\"attributes\":{\"data\":{\"x\":[0,1,2,3,4,5,6,7,8,9,10,11,12,13,14,15,16,17,18,19,20,21,22,23,24,25,26,27,28,29,30,31,32,33,34,35,36,37,38,39,40,41,42,43,44,45,46,47,48,49,50,51,52,53,54,55,56,57,58,59,60,61,62,63,64,65,66,67,68,69,70,71,72,73,74,75,76,77,78,79,80,81,82,83,84,85,86,87,88,89,90,91,92,93,94,95,96,97,98,99,100,101,102,103,104,105,106,107,108,109,110,111,112,113,114,115,116,117,118,119,120,121,122,123,124,125,126,127,128,129,130,131,132,133,134,135,136],\"y\":{\"__ndarray__\":\"4GJXrAQx4r9h7N5SPn3Kv76+Eu7AyKs/ldDKrs/z+r+6PEg5LZL3v8J5OpRtreC/pybcn/y55j81k6JJ1lnYPyNcbkFOdNs/4JieevaW0j+qaYcG7QTVPxFTY+b82tA/sJ0hYXl71T/SsxKNOSaXvx/XPFgPg6i//3xqUPMr4T+Jp1ZKtlzEv15tcN5RvLW/6hZpBQpI1D87wrrXBrLYP7CSaDaqCds/F6wVPOsm6D+sU8KEu+fTv+7HieXoV8o/iP6uPrG70D/sijJf77rMv/be4uTuctU/djFspBiR3D90z9+GubDZP2FqkmwCRME//najng/AzT+VStAQ4r/OP0dfbAuFz98/iHK3VvD26j9IcGQe3tjEv79vQO4sPtS/Zqf7Oy424D9IWnqUjfZcP87VyUNGpL6/5bDlWRRBrj+Odf3jf2/Lv+D37lwC3rK/PguUZjKJ4T8cpKoSlSrrP2ZBa3W9v+c/2FmmGG4Wm7+IKeat20bTv7mvG6UC+eG/Z4Y7SxLd2z+MZtwvBX7vPyL2JXeZjLk/AJmUOlmryr+vFNkSsILJv6TlieRdCtC/99xwlhy82T/qf5IOo8TzPxEwrDp/VMq/X0Qkf1QzxL+weOmJv3TcP5S/Xha0X9C/hcp0224+1T/4mVptq4e5PyBcn/OIkrW/JJ4laz7bw7+wZWFCJm6fP2QV1Ax1kMo/Uki7bKUppj9ndYB4d/jVPxCiQtHzidE/PW36QG5Uzz92A2PXTRrGPxVxK/7VN7s/3fv3+HTWdT8alDk6GxqzPwQ9mYzdhbE/+YyDfaityb9ogKmAn5vIvy9Xbtvw1eW/ztChFzCJ2b/w+FsZUh/oP4LCNXtBd8o/FP4IQOcs1z8oND2rOK/YP7aWpS9ssMQ/rO65z1VboT+I8Prutgu0v6I4jkSrJ76/aIXrLTvchb+R1dGe2u7Mv7QWuocRa4y/xGJBhVnA1b9wwGSTw9WWvyvYJmfw/OM/FrsMv5Rr4D/Ct7NophbWP/h3exshxrs/jD6rUYockL/ISjqBONzAP7tnsbS9L8k/pAYkZYDWvj8I3WH88Nqxv/pW7BIAHtc/RM4zc3OCxT/cOAajQeHMPwjy9IC3hsQ/h+nW4Hhxzj+o1JuAAJG1PzOUYxupDb+/UxHoX2Zm0z/ArqRH61/SPywtlqywX+E/6HHIqr8Pwj/sEcYZ43XGP2qqUXZedK8/+UdjrpM+2j8YOHcpWaqTP96Iw8v3ntA/ltIPGfYC3z9ZX2EM2mHXP2SCiR/57Zw/EC1Xq3Q5yj9YU9o5j0WIPw3yTtbZxNE/JrBrtZ0FyD9m7tjLdyzTv4MUCi8E7tG/I5y6lLGovj9J7wn/9P3bP4xWsXuzUOE/4KZnFhlJ3D9beCK5Iwe8Pwv5q8Z10ry/wODCTNHAwj+D8sVmLdG2v34Vj/zVxtE/O/d2wpOnuT8hPs9Km4q4Pw==\",\"dtype\":\"float64\",\"order\":\"little\",\"shape\":[137]}},\"selected\":{\"id\":\"6051\"},\"selection_policy\":{\"id\":\"6050\"}},\"id\":\"6037\",\"type\":\"ColumnDataSource\"},{\"attributes\":{\"tools\":[{\"id\":\"6023\"},{\"id\":\"6024\"},{\"id\":\"6025\"},{\"id\":\"6026\"},{\"id\":\"6027\"},{\"id\":\"6028\"}]},\"id\":\"6030\",\"type\":\"Toolbar\"},{\"attributes\":{},\"id\":\"6024\",\"type\":\"WheelZoomTool\"},{\"attributes\":{},\"id\":\"6050\",\"type\":\"UnionRenderers\"},{\"attributes\":{},\"id\":\"6023\",\"type\":\"PanTool\"},{\"attributes\":{\"coordinates\":null,\"group\":null,\"items\":[{\"id\":\"6054\"}],\"location\":\"bottom_right\"},\"id\":\"6053\",\"type\":\"Legend\"},{\"attributes\":{\"overlay\":{\"id\":\"6029\"}},\"id\":\"6025\",\"type\":\"BoxZoomTool\"},{\"attributes\":{},\"id\":\"6026\",\"type\":\"SaveTool\"},{\"attributes\":{},\"id\":\"6051\",\"type\":\"Selection\"},{\"attributes\":{},\"id\":\"6027\",\"type\":\"ResetTool\"},{\"attributes\":{\"label\":{\"value\":\"PriceStats Average Daily\"},\"renderers\":[{\"id\":\"6041\"}]},\"id\":\"6054\",\"type\":\"LegendItem\"},{\"attributes\":{},\"id\":\"6011\",\"type\":\"LinearScale\"},{\"attributes\":{\"bottom_units\":\"screen\",\"coordinates\":null,\"fill_alpha\":0.5,\"fill_color\":\"lightgrey\",\"group\":null,\"left_units\":\"screen\",\"level\":\"overlay\",\"line_alpha\":1.0,\"line_color\":\"black\",\"line_dash\":[4,4],\"line_width\":2,\"right_units\":\"screen\",\"syncable\":false,\"top_units\":\"screen\"},\"id\":\"6029\",\"type\":\"BoxAnnotation\"},{\"attributes\":{\"line_alpha\":0.1,\"line_color\":\"lightskyblue\",\"line_width\":2.5,\"x\":{\"field\":\"x\"},\"y\":{\"field\":\"y\"}},\"id\":\"6039\",\"type\":\"Line\"},{\"attributes\":{\"ticks\":[0,35,70,105,140]},\"id\":\"6055\",\"type\":\"FixedTicker\"},{\"attributes\":{\"coordinates\":null,\"group\":null,\"text\":\"Monthly Inflation Rate in %\"},\"id\":\"6005\",\"type\":\"Title\"},{\"attributes\":{},\"id\":\"6046\",\"type\":\"AllLabels\"},{\"attributes\":{\"coordinates\":null,\"data_source\":{\"id\":\"6037\"},\"glyph\":{\"id\":\"6038\"},\"group\":null,\"hover_glyph\":null,\"muted_glyph\":{\"id\":\"6040\"},\"nonselection_glyph\":{\"id\":\"6039\"},\"view\":{\"id\":\"6042\"}},\"id\":\"6041\",\"type\":\"GlyphRenderer\"},{\"attributes\":{},\"id\":\"6045\",\"type\":\"BasicTickFormatter\"}],\"root_ids\":[\"6004\"]},\"title\":\"Bokeh Application\",\"version\":\"2.4.1\"}};\n",
       "  const render_items = [{\"docid\":\"9624561e-c2a8-4636-b8a1-4c7200c29ede\",\"root_ids\":[\"6004\"],\"roots\":{\"6004\":\"0696bbbd-d85c-4c5b-9084-4f098f894a0a\"}}];\n",
       "  root.Bokeh.embed.embed_items_notebook(docs_json, render_items);\n",
       "\n",
       "  }\n",
       "  if (root.Bokeh !== undefined) {\n",
       "    embed_document(root);\n",
       "  } else {\n",
       "    let attempts = 0;\n",
       "    const timer = setInterval(function(root) {\n",
       "      if (root.Bokeh !== undefined) {\n",
       "        clearInterval(timer);\n",
       "        embed_document(root);\n",
       "      } else {\n",
       "        attempts++;\n",
       "        if (attempts > 100) {\n",
       "          clearInterval(timer);\n",
       "          console.log(\"Bokeh: ERROR: Unable to run BokehJS code because BokehJS library is missing\");\n",
       "        }\n",
       "      }\n",
       "    }, 10, root)\n",
       "  }\n",
       "})(window);"
      ],
      "application/vnd.bokehjs_exec.v0+json": ""
     },
     "metadata": {
      "application/vnd.bokehjs_exec.v0+json": {
       "id": "6004"
      }
     },
     "output_type": "display_data"
    }
   ],
   "source": [
    "# Plotting the monthly inflation rate from Pricestats calculated from the average across all days of the month\n",
    "\n",
    "p = figure(plot_width=800, plot_height=600, title = \"Monthly Inflation Rate in %\")\n",
    "p.line(pricestats_daily.index, pricestats_daily['PriceStats_daily_rate'], line_color=\"lightskyblue\",line_width=2.5, legend_label =\"PriceStats Average Daily\")\n",
    "p.xaxis.ticker = [0, 35, 70, 105, 140]\n",
    "p.xaxis.major_label_overrides = {0: '2008', 35: '2011', 70: '2014', 105: '2017', 140: '2020'}\n",
    "p.xaxis.axis_label ='Time'\n",
    "p.yaxis.axis_label ='Monthly IR'\n",
    "p.legend.location='bottom_right'\n",
    "\n",
    "show(p)"
   ]
  },
  {
   "cell_type": "markdown",
   "metadata": {},
   "source": [
    "# Inflation Rate from BER\n",
    "\n",
    "BER data is not only reported on a daily basis but the values are calculated over a 10 year period. In order to use this data to get the \"monthly\" inflation rate one must:\n",
    "\n",
    "    - Choose a representative value of BER for each month (e.g. the average or the value on the last day of the month);\n",
    "    - \"Deannualize\" the monthly representatives above to convert to the monthly inflation rate. This deannualization of BER can be done by using the formula\n",
    "    \n",
    "$$\\text {BER}^{\\text {monthly}}_ t = (\\text {BER}^{\\text {yearly}}_ t +1)^\\frac {1}{12} -1$$\n",
    "\n",
    "where $t$ indexes the days.\n",
    "\n",
    "<b> Use the average value of BER over each month as the monthly representative, and deannualize this value to find the monthly inflation rate. Report the monthly inflation rate for February, 2013</b>"
   ]
  },
  {
   "cell_type": "code",
   "execution_count": 88,
   "metadata": {},
   "outputs": [
    {
     "data": {
      "text/html": [
       "<div>\n",
       "<style scoped>\n",
       "    .dataframe tbody tr th:only-of-type {\n",
       "        vertical-align: middle;\n",
       "    }\n",
       "\n",
       "    .dataframe tbody tr th {\n",
       "        vertical-align: top;\n",
       "    }\n",
       "\n",
       "    .dataframe thead th {\n",
       "        text-align: right;\n",
       "    }\n",
       "</style>\n",
       "<table border=\"1\" class=\"dataframe\">\n",
       "  <thead>\n",
       "    <tr style=\"text-align: right;\">\n",
       "      <th></th>\n",
       "      <th>DATE</th>\n",
       "      <th>T10YIE</th>\n",
       "    </tr>\n",
       "  </thead>\n",
       "  <tbody>\n",
       "    <tr>\n",
       "      <th>0</th>\n",
       "      <td>2003-01-02</td>\n",
       "      <td>1.64</td>\n",
       "    </tr>\n",
       "    <tr>\n",
       "      <th>1</th>\n",
       "      <td>2003-01-03</td>\n",
       "      <td>1.62</td>\n",
       "    </tr>\n",
       "    <tr>\n",
       "      <th>2</th>\n",
       "      <td>2003-01-06</td>\n",
       "      <td>1.63</td>\n",
       "    </tr>\n",
       "    <tr>\n",
       "      <th>3</th>\n",
       "      <td>2003-01-07</td>\n",
       "      <td>1.62</td>\n",
       "    </tr>\n",
       "    <tr>\n",
       "      <th>4</th>\n",
       "      <td>2003-01-08</td>\n",
       "      <td>1.71</td>\n",
       "    </tr>\n",
       "  </tbody>\n",
       "</table>\n",
       "</div>"
      ],
      "text/plain": [
       "        DATE  T10YIE\n",
       "0 2003-01-02    1.64\n",
       "1 2003-01-03    1.62\n",
       "2 2003-01-06    1.63\n",
       "3 2003-01-07    1.62\n",
       "4 2003-01-08    1.71"
      ]
     },
     "execution_count": 88,
     "metadata": {},
     "output_type": "execute_result"
    }
   ],
   "source": [
    "# Loading and preparing the dataset\n",
    "\n",
    "ber = pd.read_csv('data\\T10YIE.csv', parse_dates=['DATE'])\n",
    "ber.head()"
   ]
  },
  {
   "cell_type": "markdown",
   "metadata": {},
   "source": [
    "We notice that the BER time series starts from January 2003 onwards instead of July 2008 like the CPI and PriceStats time series."
   ]
  },
  {
   "cell_type": "code",
   "execution_count": 89,
   "metadata": {},
   "outputs": [
    {
     "data": {
      "text/html": [
       "<div>\n",
       "<style scoped>\n",
       "    .dataframe tbody tr th:only-of-type {\n",
       "        vertical-align: middle;\n",
       "    }\n",
       "\n",
       "    .dataframe tbody tr th {\n",
       "        vertical-align: top;\n",
       "    }\n",
       "\n",
       "    .dataframe thead th {\n",
       "        text-align: right;\n",
       "    }\n",
       "</style>\n",
       "<table border=\"1\" class=\"dataframe\">\n",
       "  <thead>\n",
       "    <tr style=\"text-align: right;\">\n",
       "      <th></th>\n",
       "      <th>DATE</th>\n",
       "      <th>T10YIE</th>\n",
       "    </tr>\n",
       "  </thead>\n",
       "  <tbody>\n",
       "    <tr>\n",
       "      <th>12</th>\n",
       "      <td>2003-01-20</td>\n",
       "      <td>NaN</td>\n",
       "    </tr>\n",
       "    <tr>\n",
       "      <th>32</th>\n",
       "      <td>2003-02-17</td>\n",
       "      <td>NaN</td>\n",
       "    </tr>\n",
       "    <tr>\n",
       "      <th>76</th>\n",
       "      <td>2003-04-18</td>\n",
       "      <td>NaN</td>\n",
       "    </tr>\n",
       "    <tr>\n",
       "      <th>102</th>\n",
       "      <td>2003-05-26</td>\n",
       "      <td>NaN</td>\n",
       "    </tr>\n",
       "    <tr>\n",
       "      <th>131</th>\n",
       "      <td>2003-07-04</td>\n",
       "      <td>NaN</td>\n",
       "    </tr>\n",
       "    <tr>\n",
       "      <th>...</th>\n",
       "      <td>...</td>\n",
       "      <td>...</td>\n",
       "    </tr>\n",
       "    <tr>\n",
       "      <th>4251</th>\n",
       "      <td>2019-04-19</td>\n",
       "      <td>NaN</td>\n",
       "    </tr>\n",
       "    <tr>\n",
       "      <th>4277</th>\n",
       "      <td>2019-05-27</td>\n",
       "      <td>NaN</td>\n",
       "    </tr>\n",
       "    <tr>\n",
       "      <th>4305</th>\n",
       "      <td>2019-07-04</td>\n",
       "      <td>NaN</td>\n",
       "    </tr>\n",
       "    <tr>\n",
       "      <th>4347</th>\n",
       "      <td>2019-09-02</td>\n",
       "      <td>NaN</td>\n",
       "    </tr>\n",
       "    <tr>\n",
       "      <th>4377</th>\n",
       "      <td>2019-10-14</td>\n",
       "      <td>NaN</td>\n",
       "    </tr>\n",
       "  </tbody>\n",
       "</table>\n",
       "<p>178 rows × 2 columns</p>\n",
       "</div>"
      ],
      "text/plain": [
       "           DATE  T10YIE\n",
       "12   2003-01-20     NaN\n",
       "32   2003-02-17     NaN\n",
       "76   2003-04-18     NaN\n",
       "102  2003-05-26     NaN\n",
       "131  2003-07-04     NaN\n",
       "...         ...     ...\n",
       "4251 2019-04-19     NaN\n",
       "4277 2019-05-27     NaN\n",
       "4305 2019-07-04     NaN\n",
       "4347 2019-09-02     NaN\n",
       "4377 2019-10-14     NaN\n",
       "\n",
       "[178 rows x 2 columns]"
      ]
     },
     "execution_count": 89,
     "metadata": {},
     "output_type": "execute_result"
    }
   ],
   "source": [
    "# Checking for null values\n",
    "\n",
    "ber[ber.T10YIE.isnull()]"
   ]
  },
  {
   "cell_type": "code",
   "execution_count": 90,
   "metadata": {},
   "outputs": [
    {
     "data": {
      "text/html": [
       "<div>\n",
       "<style scoped>\n",
       "    .dataframe tbody tr th:only-of-type {\n",
       "        vertical-align: middle;\n",
       "    }\n",
       "\n",
       "    .dataframe tbody tr th {\n",
       "        vertical-align: top;\n",
       "    }\n",
       "\n",
       "    .dataframe thead th {\n",
       "        text-align: right;\n",
       "    }\n",
       "</style>\n",
       "<table border=\"1\" class=\"dataframe\">\n",
       "  <thead>\n",
       "    <tr style=\"text-align: right;\">\n",
       "      <th></th>\n",
       "      <th>DATE</th>\n",
       "      <th>T10YIE</th>\n",
       "    </tr>\n",
       "  </thead>\n",
       "  <tbody>\n",
       "    <tr>\n",
       "      <th>0</th>\n",
       "      <td>2003-01-02</td>\n",
       "      <td>1.64</td>\n",
       "    </tr>\n",
       "    <tr>\n",
       "      <th>1</th>\n",
       "      <td>2003-01-03</td>\n",
       "      <td>1.62</td>\n",
       "    </tr>\n",
       "    <tr>\n",
       "      <th>2</th>\n",
       "      <td>2003-01-06</td>\n",
       "      <td>1.63</td>\n",
       "    </tr>\n",
       "    <tr>\n",
       "      <th>3</th>\n",
       "      <td>2003-01-07</td>\n",
       "      <td>1.62</td>\n",
       "    </tr>\n",
       "    <tr>\n",
       "      <th>4</th>\n",
       "      <td>2003-01-08</td>\n",
       "      <td>1.71</td>\n",
       "    </tr>\n",
       "  </tbody>\n",
       "</table>\n",
       "</div>"
      ],
      "text/plain": [
       "        DATE  T10YIE\n",
       "0 2003-01-02    1.64\n",
       "1 2003-01-03    1.62\n",
       "2 2003-01-06    1.63\n",
       "3 2003-01-07    1.62\n",
       "4 2003-01-08    1.71"
      ]
     },
     "execution_count": 90,
     "metadata": {},
     "output_type": "execute_result"
    }
   ],
   "source": [
    "# Dropping missing values and reseting index\n",
    "\n",
    "ber = ber.dropna()\n",
    "ber.reset_index(drop=True, inplace=True)\n",
    "ber.head()"
   ]
  },
  {
   "cell_type": "code",
   "execution_count": 91,
   "metadata": {},
   "outputs": [
    {
     "data": {
      "text/html": [
       "<div>\n",
       "<style scoped>\n",
       "    .dataframe tbody tr th:only-of-type {\n",
       "        vertical-align: middle;\n",
       "    }\n",
       "\n",
       "    .dataframe tbody tr th {\n",
       "        vertical-align: top;\n",
       "    }\n",
       "\n",
       "    .dataframe thead th {\n",
       "        text-align: right;\n",
       "    }\n",
       "</style>\n",
       "<table border=\"1\" class=\"dataframe\">\n",
       "  <thead>\n",
       "    <tr style=\"text-align: right;\">\n",
       "      <th></th>\n",
       "      <th>DATE</th>\n",
       "      <th>T10YIE</th>\n",
       "      <th>YearMonth</th>\n",
       "    </tr>\n",
       "  </thead>\n",
       "  <tbody>\n",
       "    <tr>\n",
       "      <th>0</th>\n",
       "      <td>2003-01-02</td>\n",
       "      <td>1.64</td>\n",
       "      <td>2003-01</td>\n",
       "    </tr>\n",
       "    <tr>\n",
       "      <th>1</th>\n",
       "      <td>2003-01-03</td>\n",
       "      <td>1.62</td>\n",
       "      <td>2003-01</td>\n",
       "    </tr>\n",
       "    <tr>\n",
       "      <th>2</th>\n",
       "      <td>2003-01-06</td>\n",
       "      <td>1.63</td>\n",
       "      <td>2003-01</td>\n",
       "    </tr>\n",
       "    <tr>\n",
       "      <th>3</th>\n",
       "      <td>2003-01-07</td>\n",
       "      <td>1.62</td>\n",
       "      <td>2003-01</td>\n",
       "    </tr>\n",
       "    <tr>\n",
       "      <th>4</th>\n",
       "      <td>2003-01-08</td>\n",
       "      <td>1.71</td>\n",
       "      <td>2003-01</td>\n",
       "    </tr>\n",
       "  </tbody>\n",
       "</table>\n",
       "</div>"
      ],
      "text/plain": [
       "        DATE  T10YIE YearMonth\n",
       "0 2003-01-02    1.64   2003-01\n",
       "1 2003-01-03    1.62   2003-01\n",
       "2 2003-01-06    1.63   2003-01\n",
       "3 2003-01-07    1.62   2003-01\n",
       "4 2003-01-08    1.71   2003-01"
      ]
     },
     "execution_count": 91,
     "metadata": {},
     "output_type": "execute_result"
    }
   ],
   "source": [
    "# Extracting month and year together into series\n",
    "\n",
    "ber['YearMonth'] = ber.DATE.dt.strftime('%Y-%m')\n",
    "ber.head()"
   ]
  },
  {
   "cell_type": "code",
   "execution_count": 92,
   "metadata": {},
   "outputs": [
    {
     "data": {
      "text/html": [
       "<div>\n",
       "<style scoped>\n",
       "    .dataframe tbody tr th:only-of-type {\n",
       "        vertical-align: middle;\n",
       "    }\n",
       "\n",
       "    .dataframe tbody tr th {\n",
       "        vertical-align: top;\n",
       "    }\n",
       "\n",
       "    .dataframe thead th {\n",
       "        text-align: right;\n",
       "    }\n",
       "</style>\n",
       "<table border=\"1\" class=\"dataframe\">\n",
       "  <thead>\n",
       "    <tr style=\"text-align: right;\">\n",
       "      <th></th>\n",
       "      <th>YearMonth</th>\n",
       "      <th>BER_m</th>\n",
       "      <th>BER_avg_rate</th>\n",
       "    </tr>\n",
       "  </thead>\n",
       "  <tbody>\n",
       "    <tr>\n",
       "      <th>0</th>\n",
       "      <td>2008-07</td>\n",
       "      <td>2.438636</td>\n",
       "      <td>0.200983</td>\n",
       "    </tr>\n",
       "    <tr>\n",
       "      <th>1</th>\n",
       "      <td>2008-08</td>\n",
       "      <td>2.209524</td>\n",
       "      <td>0.182288</td>\n",
       "    </tr>\n",
       "    <tr>\n",
       "      <th>2</th>\n",
       "      <td>2008-09</td>\n",
       "      <td>1.836190</td>\n",
       "      <td>0.151743</td>\n",
       "    </tr>\n",
       "    <tr>\n",
       "      <th>3</th>\n",
       "      <td>2008-10</td>\n",
       "      <td>1.061818</td>\n",
       "      <td>0.088057</td>\n",
       "    </tr>\n",
       "    <tr>\n",
       "      <th>4</th>\n",
       "      <td>2008-11</td>\n",
       "      <td>0.638333</td>\n",
       "      <td>0.053039</td>\n",
       "    </tr>\n",
       "  </tbody>\n",
       "</table>\n",
       "</div>"
      ],
      "text/plain": [
       "  YearMonth     BER_m  BER_avg_rate\n",
       "0   2008-07  2.438636      0.200983\n",
       "1   2008-08  2.209524      0.182288\n",
       "2   2008-09  1.836190      0.151743\n",
       "3   2008-10  1.061818      0.088057\n",
       "4   2008-11  0.638333      0.053039"
      ]
     },
     "execution_count": 92,
     "metadata": {},
     "output_type": "execute_result"
    }
   ],
   "source": [
    "# Creating a new dataframe for monthly calculations\n",
    "\n",
    "ber_monthly = pd.DataFrame(columns=['YearMonth', 'BER_m', 'BER_avg_rate'])\n",
    "mask = ber.YearMonth>='2008-07' # Making the calculations from July 2008 onwards \n",
    "ber_monthly['BER_m'] = ber[mask].groupby('YearMonth')['T10YIE'].mean().values\n",
    "ber_monthly['BER_avg_rate'] =( (ber_monthly['BER_m'] / 100 + 1)**(1/12) - 1) * 100 # as percentages\n",
    "ber_monthly['YearMonth'] = cpi.YearMonth\n",
    "ber_monthly.head()"
   ]
  },
  {
   "cell_type": "code",
   "execution_count": 93,
   "metadata": {},
   "outputs": [
    {
     "name": "stdout",
     "output_type": "stream",
     "text": [
      "The inflation rate from the average value of BER over each month for the month of February 2013 was 0.21044 %\n"
     ]
    }
   ],
   "source": [
    "print(\"The inflation rate from the average value of BER over each month for the month of February 2013 was %0.5f \" % ber_monthly[ber_monthly.YearMonth == '2013-02']['BER_avg_rate'] +\"%\")"
   ]
  },
  {
   "cell_type": "markdown",
   "metadata": {},
   "source": [
    "<b> Overlay your estimates of monthly inflation rates and plot them on the same graph to compare.</b>"
   ]
  },
  {
   "cell_type": "code",
   "execution_count": 94,
   "metadata": {},
   "outputs": [
    {
     "data": {
      "text/html": [
       "\n",
       "\n",
       "\n",
       "\n",
       "\n",
       "\n",
       "  <div class=\"bk-root\" id=\"cbe7589a-ac83-47f1-b956-673dc5787a2c\" data-root-id=\"6338\"></div>\n"
      ]
     },
     "metadata": {},
     "output_type": "display_data"
    },
    {
     "data": {
      "application/javascript": [
       "(function(root) {\n",
       "  function embed_document(root) {\n",
       "    \n",
       "  const docs_json = {\"773d7d2e-9761-4ef2-aef9-09aa3e3193ae\":{\"defs\":[],\"roots\":{\"references\":[{\"attributes\":{\"below\":[{\"id\":\"6349\"}],\"center\":[{\"id\":\"6352\"},{\"id\":\"6356\"},{\"id\":\"6387\"}],\"left\":[{\"id\":\"6353\"}],\"renderers\":[{\"id\":\"6375\"},{\"id\":\"6393\"},{\"id\":\"6412\"},{\"id\":\"6433\"},{\"id\":\"6456\"}],\"title\":{\"id\":\"6339\"},\"toolbar\":{\"id\":\"6364\"},\"width\":800,\"x_range\":{\"id\":\"6341\"},\"x_scale\":{\"id\":\"6345\"},\"y_range\":{\"id\":\"6343\"},\"y_scale\":{\"id\":\"6347\"}},\"id\":\"6338\",\"subtype\":\"Figure\",\"type\":\"Plot\"},{\"attributes\":{\"data\":{\"x\":[0,1,2,3,4,5,6,7,8,9,10,11,12,13,14,15,16,17,18,19,20,21,22,23,24,25,26,27,28,29,30,31,32,33,34,35,36,37,38,39,40,41,42,43,44,45,46,47,48,49,50,51,52,53,54,55,56,57,58,59,60,61,62,63,64,65,66,67,68,69,70,71,72,73,74,75,76,77,78,79,80,81,82,83,84,85,86,87,88,89,90,91,92,93,94,95,96,97,98,99,100,101,102,103,104,105,106,107,108,109,110,111,112,113,114,115,116,117,118,119,120,121,122,123,124,125,126,127,128,129,130,131,132,133,134,135,136],\"y\":{\"__ndarray__\":\"AAAAAAAA+H+Byv6jqVjLv1mHFkZcras/oVFqPG2f+7+od5nfzmf3v4+YJEkNMeG/vLls6S6Q5z+cdgqe5b/WP7k98GoJbdw/mKOjMP+c0j87bi8Y3b/VPzOAG6Dc3tA/spIEa5w71j/wV1tprCeYv/D5Ms4Qiqi/8/c1QY/J4T8Rd1gqmFrEv++ClNghfLa/QS0udKv41D+8vqc7jRPXP07TDOOp/ds/Okr1Rk486D/KgXfZM4vUv2UkeJi4WMo/yzpLQJpL0T8lf74cNqvNv55DdGzTd9U/E+cRUTOT3T+bjoaUhKjZP5MiCOFR2cE/654+XXjCzj8AbTWGA7nMP7V3GgPXeOA/D4VNRGAS6z8yTCrFLIrFvxWbwcDnRNS/M1b6WN/H4D8YPLkrF1lcP4oOz55pr76/9/GVQKwwrz+EjecVlGrLv1yC6S+ChLO/oocoSkQq4j+muB5xoVzqP7IarJ5koeg/5hoVkgYqm7+BhasaIuXTvzivpr8c7eG/0XXuUjHZ3D+MRbtrP1nwP3muSKFPhbk/eUQiJVePy792SIXYkYDJvz3bQgOzj9C/7Oj3T/2j2j/m57qUHo3yPydrpRcKL8u/Azl1iSk1xL+Y9K0UwHbdPxMsy1vvWtC/EDFY7mf81T/JCnwkSWO6P2tFtVRckbW/kCdkWWmBxL/JpsI9dGWfP+8U8gWpecs/VSVMxWjfpj9lxgd8SIjUP/s3Nr3eJNI/rlGegVpdzz/+vo57htvGPy596InaOrs/ABbwQtqCdj8SSNNjOb6zP7ZPVgyEhrE/hQutFxuEyr/z+bn3qJbIv2Mj42DjfOa/Me3m309W2r9UMt/SypbmP9KpkHO7Xss/akoo8o821z8StUnybo3ZPyWHJM0bs8Q/ksPtEIjsoT8OHyQEore0v7pG08HRJL6/3hWE+vCghr/i4Q4FlejMvxx7/cZObo2/t1P2EYlw1r/5WVUEYxuWvxyFBlHPt+Q/fIh9zKh14D8qXqUS3dzWP3guQ6C5x7s/xb9y8fapkL+NVrPSNm7BP+vymCpsNck/CsNvB3/cvz9CqwRiotuxvyCM7cvW7dc/Rlux3NE8xj9lmAfdAvvKPyyjsq65OcU/Oik7vkB6zj9xS21DgUq2P9mi7gIDCr+/Vib+1l0T1D8LcBPBRgPTP8VVuI9dauE/k3hjkm6swj/DZX6673jGP7WYDyZSPrA/2yvF9VAs2z+cwI0UTFWSP8gwzS0KMtE/C0bDbToV3z/Yp8XqbjTYP1u+7QTq6Jw/0QuYLXgfyz9KX5e0TQyJP8lD3H6pytE/ipyNr/nXyD+BvUKdlCbTv4frD5n/gNK/4PjEdD+yvz9GrOUWXizaP7KH8SG/8OE/4/he0UhY3D9U8mr2qPm8Py9Yfn3sz7y/9koEU6Fjwz+ELYMcBpK3v2jO/c0azNE/v/5BQCuEuj9iq8S0WlyQPw==\",\"dtype\":\"float64\",\"order\":\"little\",\"shape\":[137]}},\"selected\":{\"id\":\"6426\"},\"selection_policy\":{\"id\":\"6425\"}},\"id\":\"6408\",\"type\":\"ColumnDataSource\"},{\"attributes\":{\"line_color\":\"lightgreen\",\"line_width\":2.5,\"x\":{\"field\":\"x\"},\"y\":{\"field\":\"y\"}},\"id\":\"6390\",\"type\":\"Line\"},{\"attributes\":{\"label\":{\"value\":\"PriceStats Average Last Day\"},\"renderers\":[{\"id\":\"6412\"}]},\"id\":\"6428\",\"type\":\"LegendItem\"},{\"attributes\":{\"label\":{\"value\":\"PriceStats Average Daily\"},\"renderers\":[{\"id\":\"6433\"}]},\"id\":\"6451\",\"type\":\"LegendItem\"},{\"attributes\":{\"line_color\":\"orchid\",\"line_width\":2.5,\"x\":{\"field\":\"x\"},\"y\":{\"field\":\"y\"}},\"id\":\"6453\",\"type\":\"Line\"},{\"attributes\":{\"line_alpha\":0.2,\"line_color\":\"orangered\",\"line_width\":2.5,\"x\":{\"field\":\"x\"},\"y\":{\"field\":\"y\"}},\"id\":\"6411\",\"type\":\"Line\"},{\"attributes\":{},\"id\":\"6473\",\"type\":\"UnionRenderers\"},{\"attributes\":{\"coordinates\":null,\"data_source\":{\"id\":\"6371\"},\"glyph\":{\"id\":\"6372\"},\"group\":null,\"hover_glyph\":null,\"muted_glyph\":{\"id\":\"6374\"},\"nonselection_glyph\":{\"id\":\"6373\"},\"view\":{\"id\":\"6376\"}},\"id\":\"6375\",\"type\":\"GlyphRenderer\"},{\"attributes\":{\"source\":{\"id\":\"6389\"}},\"id\":\"6394\",\"type\":\"CDSView\"},{\"attributes\":{},\"id\":\"6474\",\"type\":\"Selection\"},{\"attributes\":{\"line_alpha\":0.1,\"line_color\":\"lightgreen\",\"line_width\":2.5,\"x\":{\"field\":\"x\"},\"y\":{\"field\":\"y\"}},\"id\":\"6391\",\"type\":\"Line\"},{\"attributes\":{},\"id\":\"6448\",\"type\":\"UnionRenderers\"},{\"attributes\":{\"label\":{\"value\":\"PriceStats Average\"},\"renderers\":[{\"id\":\"6393\"}]},\"id\":\"6407\",\"type\":\"LegendItem\"},{\"attributes\":{},\"id\":\"6425\",\"type\":\"UnionRenderers\"},{\"attributes\":{},\"id\":\"6449\",\"type\":\"Selection\"},{\"attributes\":{},\"id\":\"6341\",\"type\":\"DataRange1d\"},{\"attributes\":{\"line_alpha\":0.2,\"line_color\":\"lightgreen\",\"line_width\":2.5,\"x\":{\"field\":\"x\"},\"y\":{\"field\":\"y\"}},\"id\":\"6392\",\"type\":\"Line\"},{\"attributes\":{},\"id\":\"6426\",\"type\":\"Selection\"},{\"attributes\":{\"coordinates\":null,\"data_source\":{\"id\":\"6389\"},\"glyph\":{\"id\":\"6390\"},\"group\":null,\"hover_glyph\":null,\"muted_glyph\":{\"id\":\"6392\"},\"nonselection_glyph\":{\"id\":\"6391\"},\"view\":{\"id\":\"6394\"}},\"id\":\"6393\",\"type\":\"GlyphRenderer\"},{\"attributes\":{\"line_alpha\":0.1,\"line_color\":\"orchid\",\"line_width\":2.5,\"x\":{\"field\":\"x\"},\"y\":{\"field\":\"y\"}},\"id\":\"6454\",\"type\":\"Line\"},{\"attributes\":{},\"id\":\"6343\",\"type\":\"DataRange1d\"},{\"attributes\":{\"line_color\":\"orangered\",\"line_width\":2.5,\"x\":{\"field\":\"x\"},\"y\":{\"field\":\"y\"}},\"id\":\"6409\",\"type\":\"Line\"},{\"attributes\":{\"line_alpha\":0.2,\"line_color\":\"lightskyblue\",\"line_width\":2.5,\"x\":{\"field\":\"x\"},\"y\":{\"field\":\"y\"}},\"id\":\"6432\",\"type\":\"Line\"},{\"attributes\":{\"line_alpha\":0.2,\"line_color\":\"orange\",\"line_width\":2.5,\"x\":{\"field\":\"x\"},\"y\":{\"field\":\"y\"}},\"id\":\"6374\",\"type\":\"Line\"},{\"attributes\":{\"axis\":{\"id\":\"6349\"},\"coordinates\":null,\"group\":null,\"ticker\":null},\"id\":\"6352\",\"type\":\"Grid\"},{\"attributes\":{},\"id\":\"6404\",\"type\":\"UnionRenderers\"},{\"attributes\":{\"axis\":{\"id\":\"6353\"},\"coordinates\":null,\"dimension\":1,\"group\":null,\"ticker\":null},\"id\":\"6356\",\"type\":\"Grid\"},{\"attributes\":{\"line_alpha\":0.1,\"line_color\":\"orangered\",\"line_width\":2.5,\"x\":{\"field\":\"x\"},\"y\":{\"field\":\"y\"}},\"id\":\"6410\",\"type\":\"Line\"},{\"attributes\":{\"line_color\":\"orange\",\"line_width\":2.5,\"x\":{\"field\":\"x\"},\"y\":{\"field\":\"y\"}},\"id\":\"6372\",\"type\":\"Line\"},{\"attributes\":{},\"id\":\"6379\",\"type\":\"BasicTickFormatter\"},{\"attributes\":{},\"id\":\"6347\",\"type\":\"LinearScale\"},{\"attributes\":{\"coordinates\":null,\"group\":null,\"text\":\"Monthly Inflation Rate in %\"},\"id\":\"6339\",\"type\":\"Title\"},{\"attributes\":{},\"id\":\"6345\",\"type\":\"LinearScale\"},{\"attributes\":{},\"id\":\"6380\",\"type\":\"AllLabels\"},{\"attributes\":{\"axis_label\":\"Time\",\"coordinates\":null,\"formatter\":{\"id\":\"6382\"},\"group\":null,\"major_label_overrides\":{\"0\":\"2008\",\"105\":\"2017\",\"140\":\"2020\",\"35\":\"2011\",\"70\":\"2014\"},\"major_label_policy\":{\"id\":\"6383\"},\"ticker\":{\"id\":\"6477\"}},\"id\":\"6349\",\"type\":\"LinearAxis\"},{\"attributes\":{},\"id\":\"6405\",\"type\":\"Selection\"},{\"attributes\":{},\"id\":\"6354\",\"type\":\"BasicTicker\"},{\"attributes\":{\"axis_label\":\"Monthly IR\",\"coordinates\":null,\"formatter\":{\"id\":\"6379\"},\"group\":null,\"major_label_policy\":{\"id\":\"6380\"},\"ticker\":{\"id\":\"6354\"}},\"id\":\"6353\",\"type\":\"LinearAxis\"},{\"attributes\":{\"source\":{\"id\":\"6371\"}},\"id\":\"6376\",\"type\":\"CDSView\"},{\"attributes\":{},\"id\":\"6382\",\"type\":\"BasicTickFormatter\"},{\"attributes\":{\"data\":{\"x\":[0,1,2,3,4,5,6,7,8,9,10,11,12,13,14,15,16,17,18,19,20,21,22,23,24,25,26,27,28,29,30,31,32,33,34,35,36,37,38,39,40,41,42,43,44,45,46,47,48,49,50,51,52,53,54,55,56,57,58,59,60,61,62,63,64,65,66,67,68,69,70,71,72,73,74,75,76,77,78,79,80,81,82,83,84,85,86,87,88,89,90,91,92,93,94,95,96,97,98,99,100,101,102,103,104,105,106,107,108,109,110,111,112,113,114,115,116,117,118,119,120,121,122,123,124,125,126,127,128,129,130,131,132,133,134,135,136],\"y\":{\"__ndarray__\":\"AAAAAAAA+H+AJeSDns3gP2qi5gOOjNm/DchGZCOywb/LOlMhhinwv/Ff0QkBpf6/SWkQDUKM8L80TvGZ+drbPwFLVGxb098/Bqj8VYAgzz/jU1MhE/TPP2l3CCcDfdI/bpg+yNJ86z8SABdHxUvEv+vlS8WOtcw/ajGFUmsDsD/b6jCo8qe4P6ZJZemHHbI/9M0E/8WKxr/t8sQgK9/VP8bdbRxAhZk/oL/L1ctH2j91Nn3MdzvGP1wSvz1m17M/vubAnI7+uL8dbqr4BKGVPys+inYwrME/tWqcQ/LIrT8al7qIzeC/P40EdvjiiKU/6g269XgAxj+Rh7Ui0nvePwzq/Wljj98/yYMNfucz7z/LTM8d6prkP49Fau+4HN4/SNdyTPVqu78MH+07sq62PxRZzH3JpdE/UbcVaV1vwz8cZa6dpmfKv3Lm6+oZmbW/0jxIZveRz79vmXFsJSncP++8gjXxLdw/DBRUfLxN6D+D/7eYj1XTP9h9Rj8EC76/USSStrvEwr+ViVfu1dvEv4bkn7IZz+E/41CqPtWO3D/OKeo5UPKjv3AmpQcyU96/6+tQcqA70b/N+dvdH+3SPyGX8e0mNeo/zY6vZ4+70D93PUVcpZ26v9R+WyADysY/dY/2rWG4zj88+vt4ADOkP/5Fd2xcyr4/toVVuX/FvT9M4LOGuHvQv07X3RvZJMq/69qSCDx/gb9sn+oi3c7XP5glMDJ7qtc/q93nOrmb5D/Hc6ehRRnVP2z2wktDWtY/Dwyn8DLXxz/rYQLbJfqjv1zk5S9GYsW/TE0fgcZDsz9zXHrhQhTQv1+QPFNUR+G/4KTF/7Ik4r/+wNdiPR7ev4j9ShKwyts/IhCAJB4M4z8oRxeBbQbKP2V9NDRET+A/rZfHTkxr1j8UJVo3wWp7PyeRsmbNIcK/b4rj0q/rw7+fnZoQHwanvz1x9by+A8u/gHhhUZXf1b+krioKMinFPw32tlEfEbU/KScsF+OO2z9VejaOWljeP56z6A7h5Nk/zXP0PmwF1T+luP1xTrjEv8gXQuwbg7c/BdKYwTPFzj/L4Jh0Hu2/P4LL/oXn58O/mYDWXNfBoD+MmjZZAabiP6AuRrzOIdQ/CncvWX7PtD/OgYH6ffrSPwPFgN+n4LU/Uk2pX3I7tz+cPC5Meaexvyc99nHYKNM/tLySQYXx4D8EwmsrviiwvyDWnNEJn2M/yhfHsMgcrr9SQ4asFG/hP2gCjWn7Bd0/clUBA2bxzD94FY/KDXDZP8iiyRTzndo/Rrqm0vRnxD/jAfTJGGN7PzK+l/nEc6w/ptnNGEa/vT+QpdbvdJ/GPyrQ/EDIb9W/BE9ZZB5x1L+3YmLyWWfIP1r7+5XPDNs/YKekKnUN4j9c9pwOJvLgP+YJXisuP8s/s83xiN9ilD96KU7zXWPFP/BrXK+g9XS/AAAAAAAA+H8AAAAAAAD4fw==\",\"dtype\":\"float64\",\"order\":\"little\",\"shape\":[137]}},\"selected\":{\"id\":\"6385\"},\"selection_policy\":{\"id\":\"6384\"}},\"id\":\"6371\",\"type\":\"ColumnDataSource\"},{\"attributes\":{\"line_alpha\":0.2,\"line_color\":\"orchid\",\"line_width\":2.5,\"x\":{\"field\":\"x\"},\"y\":{\"field\":\"y\"}},\"id\":\"6455\",\"type\":\"Line\"},{\"attributes\":{},\"id\":\"6362\",\"type\":\"HelpTool\"},{\"attributes\":{\"tools\":[{\"id\":\"6357\"},{\"id\":\"6358\"},{\"id\":\"6359\"},{\"id\":\"6360\"},{\"id\":\"6361\"},{\"id\":\"6362\"}]},\"id\":\"6364\",\"type\":\"Toolbar\"},{\"attributes\":{},\"id\":\"6383\",\"type\":\"AllLabels\"},{\"attributes\":{},\"id\":\"6358\",\"type\":\"WheelZoomTool\"},{\"attributes\":{},\"id\":\"6357\",\"type\":\"PanTool\"},{\"attributes\":{\"coordinates\":null,\"group\":null,\"items\":[{\"id\":\"6388\"},{\"id\":\"6407\"},{\"id\":\"6428\"},{\"id\":\"6451\"},{\"id\":\"6476\"}],\"location\":\"bottom_right\"},\"id\":\"6387\",\"type\":\"Legend\"},{\"attributes\":{\"overlay\":{\"id\":\"6363\"}},\"id\":\"6359\",\"type\":\"BoxZoomTool\"},{\"attributes\":{},\"id\":\"6360\",\"type\":\"SaveTool\"},{\"attributes\":{},\"id\":\"6361\",\"type\":\"ResetTool\"},{\"attributes\":{\"label\":{\"value\":\"CPI\"},\"renderers\":[{\"id\":\"6375\"}]},\"id\":\"6388\",\"type\":\"LegendItem\"},{\"attributes\":{\"bottom_units\":\"screen\",\"coordinates\":null,\"fill_alpha\":0.5,\"fill_color\":\"lightgrey\",\"group\":null,\"left_units\":\"screen\",\"level\":\"overlay\",\"line_alpha\":1.0,\"line_color\":\"black\",\"line_dash\":[4,4],\"line_width\":2,\"right_units\":\"screen\",\"syncable\":false,\"top_units\":\"screen\"},\"id\":\"6363\",\"type\":\"BoxAnnotation\"},{\"attributes\":{\"line_alpha\":0.1,\"line_color\":\"orange\",\"line_width\":2.5,\"x\":{\"field\":\"x\"},\"y\":{\"field\":\"y\"}},\"id\":\"6373\",\"type\":\"Line\"},{\"attributes\":{\"source\":{\"id\":\"6452\"}},\"id\":\"6457\",\"type\":\"CDSView\"},{\"attributes\":{},\"id\":\"6384\",\"type\":\"UnionRenderers\"},{\"attributes\":{\"source\":{\"id\":\"6429\"}},\"id\":\"6434\",\"type\":\"CDSView\"},{\"attributes\":{\"source\":{\"id\":\"6408\"}},\"id\":\"6413\",\"type\":\"CDSView\"},{\"attributes\":{\"line_alpha\":0.1,\"line_color\":\"lightskyblue\",\"line_width\":2.5,\"x\":{\"field\":\"x\"},\"y\":{\"field\":\"y\"}},\"id\":\"6431\",\"type\":\"Line\"},{\"attributes\":{},\"id\":\"6385\",\"type\":\"Selection\"},{\"attributes\":{\"ticks\":[0,35,70,105,140]},\"id\":\"6477\",\"type\":\"FixedTicker\"},{\"attributes\":{\"data\":{\"x\":[0,1,2,3,4,5,6,7,8,9,10,11,12,13,14,15,16,17,18,19,20,21,22,23,24,25,26,27,28,29,30,31,32,33,34,35,36,37,38,39,40,41,42,43,44,45,46,47,48,49,50,51,52,53,54,55,56,57,58,59,60,61,62,63,64,65,66,67,68,69,70,71,72,73,74,75,76,77,78,79,80,81,82,83,84,85,86,87,88,89,90,91,92,93,94,95,96,97,98,99,100,101,102,103,104,105,106,107,108,109,110,111,112,113,114,115,116,117,118,119,120,121,122,123,124,125,126,127,128,129,130,131,132,133,134,135,136],\"y\":[\"NaN\",-0.19399487675296312,0.043435019436186884,-0.7609715724647784,-1.8074539606362034,-1.0349263421211725,0.296346430155979,0.669380523396351,0.21600188295931444,0.2654594373426297,0.3807543103475282,0.28451353997736695,0.32902065636483213,0.13079465343787747,0.05129611266122615,0.05225894301003325,0.28546493600393713,-0.1449917053534246,0.47208099248996555,-0.1001045594178334,0.6190776852928467,0.4995348849479551,0.40583163770456093,-0.3696044850438075,0.36443572027775506,0.10950155949593507,0.05712067557943278,0.445137075981607,0.3441041209770212,0.17951120578899996,0.2619435541830032,0.252819347738016,0.3379929503638259,0.7152234456973389,0.4684743556167304,-0.3766442920405372,0.10859125297132412,0.10621393965431314,0.20304610128444503,-0.22402629000099192,0.027703995605532727,-0.27774607699851855,0.36108011953264924,0.5997327881045251,0.9163807544896464,0.386297975746627,-0.26647914471132206,-0.3808920615823382,-0.10277770331068958,0.8151909949634941,0.54833059582739,0.03513971822852674,-0.42557020562750647,-0.2836686588535197,0.0894513982563338,1.03586894852065,0.31274534101411944,-0.10168664925356043,0.16025761583289316,0.07966546692517752,0.04997085456523103,0.11505346853527669,0.08788570763619952,-0.159352578007683,-0.04463856012710956,0.06380585487250963,0.20818384932805503,0.16687169849318167,0.25581537107363034,0.2854303496508782,0.23230627188713268,0.13628993168214157,0.06919100678607223,0.04599571943490939,0.07875041687126824,-0.0927570648517028,-0.18063629787191746,-0.45802784224736076,-0.659890070139254,0.24403534032018445,0.5127943384996109,0.16247618731998764,0.5035359564594262,0.2640784035000675,0.0943027877249795,-0.010029065772826702,-0.20037370933991228,0.036323122975520684,-0.12722973574600327,-0.12546013606952697,-0.19094578397259981,-0.28593346223194116,0.41379275781922703,0.5035583809743196,0.4728797759215507,0.32387803380681396,-0.030562245362342144,0.019066166744432587,0.17929890648364105,0.1873036963395339,-0.021875905134350265,0.17134290688742287,0.4030645613488068,0.08704030050862994,0.20346180946449904,0.21598260833777236,0.1069945673411491,0.05825070354763117,0.04207118031098686,0.2877153655101537,0.6357555656639379,0.15671177604398087,0.22550097639174901,0.014311929064585163,0.27930982092492196,0.22961344077137105,0.1112823032178814,0.4061541517858856,0.42157345416996916,0.21411237314182008,0.13238493558256847,0.11053206432450424,0.15296694580404183,0.2571297831749332,-0.10268175285563172,-0.3074224698251623,-0.09139808455171937,0.2541151410804486,0.5355847216290163,0.5248298357628675,0.2681027147202414,-0.04603991859732513,0.08759283732157595,-0.010628963803207436,0.09858971810456703,0.1735036963484688,0.0799990394766609]},\"selected\":{\"id\":\"6405\"},\"selection_policy\":{\"id\":\"6404\"}},\"id\":\"6389\",\"type\":\"ColumnDataSource\"},{\"attributes\":{\"coordinates\":null,\"data_source\":{\"id\":\"6429\"},\"glyph\":{\"id\":\"6430\"},\"group\":null,\"hover_glyph\":null,\"muted_glyph\":{\"id\":\"6432\"},\"nonselection_glyph\":{\"id\":\"6431\"},\"view\":{\"id\":\"6434\"}},\"id\":\"6433\",\"type\":\"GlyphRenderer\"},{\"attributes\":{\"coordinates\":null,\"data_source\":{\"id\":\"6408\"},\"glyph\":{\"id\":\"6409\"},\"group\":null,\"hover_glyph\":null,\"muted_glyph\":{\"id\":\"6411\"},\"nonselection_glyph\":{\"id\":\"6410\"},\"view\":{\"id\":\"6413\"}},\"id\":\"6412\",\"type\":\"GlyphRenderer\"},{\"attributes\":{\"data\":{\"x\":[0,1,2,3,4,5,6,7,8,9,10,11,12,13,14,15,16,17,18,19,20,21,22,23,24,25,26,27,28,29,30,31,32,33,34,35,36,37,38,39,40,41,42,43,44,45,46,47,48,49,50,51,52,53,54,55,56,57,58,59,60,61,62,63,64,65,66,67,68,69,70,71,72,73,74,75,76,77,78,79,80,81,82,83,84,85,86,87,88,89,90,91,92,93,94,95,96,97,98,99,100,101,102,103,104,105,106,107,108,109,110,111,112,113,114,115,116,117,118,119,120,121,122,123,124,125,126,127,128,129,130,131,132,133,134,135,136],\"y\":{\"__ndarray__\":\"wMdPJdC5yT+AVyKTOFXHP+BN4LJQbMM/AK5CV+mKtj+AVsJ3/CerPwCpFQjU/5Q/gN25GmTDqT+ASqzkIrq3P0Drj97pkbc/gN0KC/LSvD8AC0sYwbDAPwCjX0YHq8M/gJbpgKlowj/gVPwS7S7DP4B12bOin8I/AF9qASEjxD+gdrUiQHnGP+C0Xk7bf8c/gEx/xHrjyD8AAjF1rPzHP6Cb1Zzubsc/QNA5tAjCyD9gZo00w1LGP0C8Ez56lsQ/wNIdj8m7wj9AsteDA8DBP+DAWkkLZsI/gDzrQB9MxT9gY8vy5SfGP0DFn94Fucc/wFuXFtygyD/gBJAaBK7IP6DqUkBT2ck/gH5I7tVRyz8gvZBM4DfJP0DFn94Fucc/II9FI9EbyT/ADyyNmOXGP4A4ZWw8EcQ/IP5xErfIxD8g94oTFETFPwBtamVwPcU/4KV8I5zrxT+AgE6anHbHP4CJfN/2bMg/QJtbAiDuxz/gaM5cQafGP2ALErsqbcY/oOi6BXl8xj9gIJg1wubHP4C4i12ds8k/gHAPE7BPyj/go2wVZZnJP2CRXS/uHso/wLd1XfSbyj+A9Y00wu/KPyBGch0bz8o/IF4JTvVwyT+AJvtRTRrIP2DKK6HtpcU/YNQr/Jlrxj9AVRHZWxLHPyCiK8jPqcY/AHCL7qgZxz+gMBBh0+zGP0AHs/eQ2cY/IGhJe9OBxz8AJJwXmMnGP+C7S6MK5cY/QAz5IgTXxj8AEKOjgiPHP8CdTdZ4icc/oIjKIJbjxz8A1GM4iDHHP+CfLsh76MU/QG1SAU1NxD+AkthG8eHDP4DZBMnL9cE/4B19RDAEwT9AaiZbYyfCP2ACL4eFpMI/oKWW+12nwz+gQ4D7A7vDP2DzGicdvMM/oE2kNUZDwz+APhsXGxDBP2AT7XarIcA/QPgCiITAvz+A/kcTBaLAP6AvU02CDMA/gLdS5RIZvj+ASU5dQbq7P6Am3Ymnb8A/YK/6UxMZwT+gucvG+OHAPwBiXqiSJr8/QPfmrFIOvz9ApKd3Mx2/P4CQvSPeC8A/ALAxo5ulwT8Ag7dLNEbDP6D3o3p3d8Q/oJDu37xCxT8glN6ctFbFP6BuRI5oGcU/AMY1ypMoxD+g/Mw8AG7DP2BlprxWS8I/QEa+xeG/wj9giwYCssnCPyCTFcJuZsM/gLxx6Vyxwz8gnBIp26XDP4BPa9RIFsQ/gGYSEVuZxT8gH3Z7KjTGP8CT+UdrFsY/QBDc/Ot5xj/goNuP85/GP2AVb8kiX8Y/gJSb6jRWxj+gLgMnmy3GP2BoLfb4bcY/4GlCA2FOxj/ARmWqoC7FP6A59N7vNsM/gMQOwHr6wj9Ac2MWd9nDP0Ak+eshOsQ/wOL8owV6xD/AoiiR7FHDP8B/h/ZZ/sE/oKgQMheMwj9AOuZcpszAP+CqDNdczsA/wGFDNiGIwD+ApKZXtxnBPw==\",\"dtype\":\"float64\",\"order\":\"little\",\"shape\":[137]}},\"selected\":{\"id\":\"6474\"},\"selection_policy\":{\"id\":\"6473\"}},\"id\":\"6452\",\"type\":\"ColumnDataSource\"},{\"attributes\":{\"coordinates\":null,\"data_source\":{\"id\":\"6452\"},\"glyph\":{\"id\":\"6453\"},\"group\":null,\"hover_glyph\":null,\"muted_glyph\":{\"id\":\"6455\"},\"nonselection_glyph\":{\"id\":\"6454\"},\"view\":{\"id\":\"6457\"}},\"id\":\"6456\",\"type\":\"GlyphRenderer\"},{\"attributes\":{\"label\":{\"value\":\"BER Average\"},\"renderers\":[{\"id\":\"6456\"}]},\"id\":\"6476\",\"type\":\"LegendItem\"},{\"attributes\":{\"line_color\":\"lightskyblue\",\"line_width\":2.5,\"x\":{\"field\":\"x\"},\"y\":{\"field\":\"y\"}},\"id\":\"6430\",\"type\":\"Line\"},{\"attributes\":{\"data\":{\"x\":[0,1,2,3,4,5,6,7,8,9,10,11,12,13,14,15,16,17,18,19,20,21,22,23,24,25,26,27,28,29,30,31,32,33,34,35,36,37,38,39,40,41,42,43,44,45,46,47,48,49,50,51,52,53,54,55,56,57,58,59,60,61,62,63,64,65,66,67,68,69,70,71,72,73,74,75,76,77,78,79,80,81,82,83,84,85,86,87,88,89,90,91,92,93,94,95,96,97,98,99,100,101,102,103,104,105,106,107,108,109,110,111,112,113,114,115,116,117,118,119,120,121,122,123,124,125,126,127,128,129,130,131,132,133,134,135,136],\"y\":{\"__ndarray__\":\"4GJXrAQx4r9h7N5SPn3Kv76+Eu7AyKs/ldDKrs/z+r+6PEg5LZL3v8J5OpRtreC/pybcn/y55j81k6JJ1lnYPyNcbkFOdNs/4JieevaW0j+qaYcG7QTVPxFTY+b82tA/sJ0hYXl71T/SsxKNOSaXvx/XPFgPg6i//3xqUPMr4T+Jp1ZKtlzEv15tcN5RvLW/6hZpBQpI1D87wrrXBrLYP7CSaDaqCds/F6wVPOsm6D+sU8KEu+fTv+7HieXoV8o/iP6uPrG70D/sijJf77rMv/be4uTuctU/djFspBiR3D90z9+GubDZP2FqkmwCRME//najng/AzT+VStAQ4r/OP0dfbAuFz98/iHK3VvD26j9IcGQe3tjEv79vQO4sPtS/Zqf7Oy424D9IWnqUjfZcP87VyUNGpL6/5bDlWRRBrj+Odf3jf2/Lv+D37lwC3rK/PguUZjKJ4T8cpKoSlSrrP2ZBa3W9v+c/2FmmGG4Wm7+IKeat20bTv7mvG6UC+eG/Z4Y7SxLd2z+MZtwvBX7vPyL2JXeZjLk/AJmUOlmryr+vFNkSsILJv6TlieRdCtC/99xwlhy82T/qf5IOo8TzPxEwrDp/VMq/X0Qkf1QzxL+weOmJv3TcP5S/Xha0X9C/hcp0224+1T/4mVptq4e5PyBcn/OIkrW/JJ4laz7bw7+wZWFCJm6fP2QV1Ax1kMo/Uki7bKUppj9ndYB4d/jVPxCiQtHzidE/PW36QG5Uzz92A2PXTRrGPxVxK/7VN7s/3fv3+HTWdT8alDk6GxqzPwQ9mYzdhbE/+YyDfaityb9ogKmAn5vIvy9Xbtvw1eW/ztChFzCJ2b/w+FsZUh/oP4LCNXtBd8o/FP4IQOcs1z8oND2rOK/YP7aWpS9ssMQ/rO65z1VboT+I8Prutgu0v6I4jkSrJ76/aIXrLTvchb+R1dGe2u7Mv7QWuocRa4y/xGJBhVnA1b9wwGSTw9WWvyvYJmfw/OM/FrsMv5Rr4D/Ct7NophbWP/h3exshxrs/jD6rUYockL/ISjqBONzAP7tnsbS9L8k/pAYkZYDWvj8I3WH88Nqxv/pW7BIAHtc/RM4zc3OCxT/cOAajQeHMPwjy9IC3hsQ/h+nW4Hhxzj+o1JuAAJG1PzOUYxupDb+/UxHoX2Zm0z/ArqRH61/SPywtlqywX+E/6HHIqr8Pwj/sEcYZ43XGP2qqUXZedK8/+UdjrpM+2j8YOHcpWaqTP96Iw8v3ntA/ltIPGfYC3z9ZX2EM2mHXP2SCiR/57Zw/EC1Xq3Q5yj9YU9o5j0WIPw3yTtbZxNE/JrBrtZ0FyD9m7tjLdyzTv4MUCi8E7tG/I5y6lLGovj9J7wn/9P3bP4xWsXuzUOE/4KZnFhlJ3D9beCK5Iwe8Pwv5q8Z10ry/wODCTNHAwj+D8sVmLdG2v34Vj/zVxtE/O/d2wpOnuT8hPs9Km4q4Pw==\",\"dtype\":\"float64\",\"order\":\"little\",\"shape\":[137]}},\"selected\":{\"id\":\"6449\"},\"selection_policy\":{\"id\":\"6448\"}},\"id\":\"6429\",\"type\":\"ColumnDataSource\"}],\"root_ids\":[\"6338\"]},\"title\":\"Bokeh Application\",\"version\":\"2.4.1\"}};\n",
       "  const render_items = [{\"docid\":\"773d7d2e-9761-4ef2-aef9-09aa3e3193ae\",\"root_ids\":[\"6338\"],\"roots\":{\"6338\":\"cbe7589a-ac83-47f1-b956-673dc5787a2c\"}}];\n",
       "  root.Bokeh.embed.embed_items_notebook(docs_json, render_items);\n",
       "\n",
       "  }\n",
       "  if (root.Bokeh !== undefined) {\n",
       "    embed_document(root);\n",
       "  } else {\n",
       "    let attempts = 0;\n",
       "    const timer = setInterval(function(root) {\n",
       "      if (root.Bokeh !== undefined) {\n",
       "        clearInterval(timer);\n",
       "        embed_document(root);\n",
       "      } else {\n",
       "        attempts++;\n",
       "        if (attempts > 100) {\n",
       "          clearInterval(timer);\n",
       "          console.log(\"Bokeh: ERROR: Unable to run BokehJS code because BokehJS library is missing\");\n",
       "        }\n",
       "      }\n",
       "    }, 10, root)\n",
       "  }\n",
       "})(window);"
      ],
      "application/vnd.bokehjs_exec.v0+json": ""
     },
     "metadata": {
      "application/vnd.bokehjs_exec.v0+json": {
       "id": "6338"
      }
     },
     "output_type": "display_data"
    }
   ],
   "source": [
    "# Plotting all the monthly inflation rates from CPI, Pricestats and BER\n",
    "\n",
    "p = figure(plot_width=800, plot_height=600, title = \"Monthly Inflation Rate in %\")\n",
    "p.line(cpi.index, cpi['IR'], line_color=\"orange\", line_width =2.5, legend_label =\"CPI\")\n",
    "p.line(pricestats_monthly.index, pricestats_monthly['PriceStats_avg_rate'], line_color=\"lightgreen\", line_width =2.5, legend_label =\"PriceStats Average\")\n",
    "p.line(pricestats_monthly.index, pricestats_monthly['PriceStats_lastday_rate'], line_color=\"orangered\", line_width=2.5, legend_label =\"PriceStats Average Last Day\")\n",
    "p.line(pricestats_daily.index, pricestats_daily['PriceStats_daily_rate'], line_color=\"lightskyblue\", line_width=2.5, legend_label =\"PriceStats Average Daily\")\n",
    "p.line(ber_monthly.index, ber_monthly['BER_avg_rate'], line_color=\"orchid\", line_width=2.5, legend_label=\"BER Average\")\n",
    "p.xaxis.ticker = [0, 35, 70, 105, 140]\n",
    "p.xaxis.major_label_overrides = {0: '2008', 35: '2011', 70: '2014', 105: '2017', 140: '2020'}\n",
    "p.xaxis.axis_label ='Time'\n",
    "p.yaxis.axis_label ='Monthly IR'\n",
    "p.legend.location='bottom_right'\n",
    "\n",
    "show(p)"
   ]
  },
  {
   "cell_type": "markdown",
   "metadata": {},
   "source": [
    "# External Regressors and Model Improvements\n",
    "\n",
    "Next, we will include external regressors to try to improve the predictions that we had previously with CPI.\n",
    "\n",
    "<b> Include as external regressors monthly average  PriceStats inflation rate data and monthly BER data. Use cross-correlation plots to find the lag between the following:\n",
    "    \n",
    "    - CPI inflation rate and PriceStats inflation rate\n",
    "    \n",
    "    - CPI and BER inflation rate."
   ]
  },
  {
   "cell_type": "code",
   "execution_count": 95,
   "metadata": {},
   "outputs": [
    {
     "name": "stdout",
     "output_type": "stream",
     "text": [
      "(62, 7) (75, 7)\n",
      "(62, 3) (75, 3)\n",
      "(62, 4) (75, 4)\n"
     ]
    }
   ],
   "source": [
    "# Loading and preparing datasets\n",
    "\n",
    "cpi_train = cpi[cpi.YearMonth<'2013-09'].copy() # value of index 0 is NaN\n",
    "cpi_test = cpi[cpi.YearMonth>='2013-09'].copy()\n",
    "print(cpi_train.shape, cpi_test.shape)\n",
    "\n",
    "ber_train = (ber_monthly[ber_monthly.YearMonth<'2013-09'].copy())\n",
    "ber_test = (ber_monthly[ber_monthly.YearMonth >='2013-09'].copy())\n",
    "print(ber_train.shape, ber_test.shape)\n",
    "\n",
    "pricestats_train = (pricestats_monthly[pricestats_monthly.YearMonth<'2013-09'].copy()) # value of index 0 is Nan\n",
    "pricestats_test = (pricestats_monthly[pricestats_monthly.YearMonth >='2013-09'].copy())\n",
    "print(pricestats_train.shape, pricestats_test.shape)"
   ]
  },
  {
   "cell_type": "code",
   "execution_count": 96,
   "metadata": {},
   "outputs": [
    {
     "data": {
      "text/html": [
       "<div>\n",
       "<style scoped>\n",
       "    .dataframe tbody tr th:only-of-type {\n",
       "        vertical-align: middle;\n",
       "    }\n",
       "\n",
       "    .dataframe tbody tr th {\n",
       "        vertical-align: top;\n",
       "    }\n",
       "\n",
       "    .dataframe thead th {\n",
       "        text-align: right;\n",
       "    }\n",
       "</style>\n",
       "<table border=\"1\" class=\"dataframe\">\n",
       "  <thead>\n",
       "    <tr style=\"text-align: right;\">\n",
       "      <th></th>\n",
       "      <th>YearMonth</th>\n",
       "      <th>BER_m</th>\n",
       "      <th>BER_avg_rate</th>\n",
       "    </tr>\n",
       "  </thead>\n",
       "  <tbody>\n",
       "    <tr>\n",
       "      <th>0</th>\n",
       "      <td>2008-07</td>\n",
       "      <td>2.438636</td>\n",
       "      <td>0.200983</td>\n",
       "    </tr>\n",
       "    <tr>\n",
       "      <th>1</th>\n",
       "      <td>2008-08</td>\n",
       "      <td>2.209524</td>\n",
       "      <td>0.182288</td>\n",
       "    </tr>\n",
       "    <tr>\n",
       "      <th>2</th>\n",
       "      <td>2008-09</td>\n",
       "      <td>1.836190</td>\n",
       "      <td>0.151743</td>\n",
       "    </tr>\n",
       "    <tr>\n",
       "      <th>3</th>\n",
       "      <td>2008-10</td>\n",
       "      <td>1.061818</td>\n",
       "      <td>0.088057</td>\n",
       "    </tr>\n",
       "    <tr>\n",
       "      <th>4</th>\n",
       "      <td>2008-11</td>\n",
       "      <td>0.638333</td>\n",
       "      <td>0.053039</td>\n",
       "    </tr>\n",
       "  </tbody>\n",
       "</table>\n",
       "</div>"
      ],
      "text/plain": [
       "  YearMonth     BER_m  BER_avg_rate\n",
       "0   2008-07  2.438636      0.200983\n",
       "1   2008-08  2.209524      0.182288\n",
       "2   2008-09  1.836190      0.151743\n",
       "3   2008-10  1.061818      0.088057\n",
       "4   2008-11  0.638333      0.053039"
      ]
     },
     "execution_count": 96,
     "metadata": {},
     "output_type": "execute_result"
    }
   ],
   "source": [
    "ber_train.head()"
   ]
  },
  {
   "cell_type": "code",
   "execution_count": 97,
   "metadata": {},
   "outputs": [
    {
     "data": {
      "image/png": "[encoded data removed]",
      "text/plain": [
       "<Figure size 432x288 with 1 Axes>"
      ]
     },
     "metadata": {
      "needs_background": "light"
     },
     "output_type": "display_data"
    }
   ],
   "source": [
    "# Plotting cross-correlation of PriceStats inflation rate and CPI inflation rate \n",
    "\n",
    "plt.xcorr(pricestats_train.PriceStats_avg_rate[1:], cpi_train.IR[1:])\n",
    "plt.title('Cross correlation between PriceStats and CPI Inflation Rates')\n",
    "plt.show()"
   ]
  },
  {
   "cell_type": "code",
   "execution_count": 98,
   "metadata": {},
   "outputs": [
    {
     "data": {
      "image/png": "[encoded data removed]",
      "text/plain": [
       "<Figure size 432x288 with 1 Axes>"
      ]
     },
     "metadata": {
      "needs_background": "light"
     },
     "output_type": "display_data"
    }
   ],
   "source": [
    "# Plotting cross-correlation of BER and CPI inflation rates\n",
    "\n",
    "plt.xcorr(ber_train.BER_avg_rate[1:], cpi_train.IR[1:])\n",
    "plt.title('Cross Correlation Between BER and CPI Inflation Rates')\n",
    "plt.show()"
   ]
  },
  {
   "cell_type": "markdown",
   "metadata": {},
   "source": [
    "From the first cross correlation plot we can see that there is strong correlation between CPI and PriceStats inflation rates with one lag (i.e. -1). This means when fitting the model, PriceStats should be shifted backwards by 1 lag. From the two external choices as regressors to predict CPI, PriceStats should provide better results as it correlates more with CPI than BER does. By looking at the correlation between BER and CPI inflation rates we see a correlation to a lesser extent most of the time and the peak at lag 0 and second highest peak at lag 6 (i.e. -6)."
   ]
  },
  {
   "cell_type": "markdown",
   "metadata": {},
   "source": [
    "<b> Fit a new $\\text {AR}$ model to the $\\text {CPI}$ inflation rate with these external regressors and the most appropriate lag. Report the coefficients.</b>"
   ]
  },
  {
   "cell_type": "code",
   "execution_count": 99,
   "metadata": {},
   "outputs": [
    {
     "data": {
      "text/plain": [
       "(60, 2)"
      ]
     },
     "execution_count": 99,
     "metadata": {},
     "output_type": "execute_result"
    }
   ],
   "source": [
    "# Preparing exogenous variables for fitting\n",
    "\n",
    "exogenous = ber_train.copy()\n",
    "exogenous.loc[2:, 'PriceStats_avg_rate'] = pricestats_train.drop([0]).PriceStats_avg_rate # Accounting for -1 lag\n",
    "exogenous = exogenous.drop(['BER_m', 'YearMonth'], axis=1).drop([0,1]).values # dropping unwanted columns and NaN values\n",
    "exogenous = np.array(exogenous, dtype=float) # numpy array float\n",
    "exogenous.shape"
   ]
  },
  {
   "cell_type": "code",
   "execution_count": 100,
   "metadata": {},
   "outputs": [
    {
     "data": {
      "text/plain": [
       "(60,)"
      ]
     },
     "execution_count": 100,
     "metadata": {},
     "output_type": "execute_result"
    }
   ],
   "source": [
    "# Preparing endogenous variable for fitting\n",
    "\n",
    "endogenous = cpi_train.IR.drop([0,1]).reset_index().drop(['index'], axis=1) # dropping rows to match same length\n",
    "endogenous = np.array(endogenous, dtype=float).reshape(-1) # numpy array float\n",
    "endogenous.shape"
   ]
  },
  {
   "cell_type": "code",
   "execution_count": 101,
   "metadata": {},
   "outputs": [],
   "source": [
    "# Fitting with SARIMAX (2,0,0) model\n",
    "\n",
    "model_sarimax = sm.tsa.statespace.SARIMAX(endogenous, exogenous, order=(2,0,0), coerce_errors=True).fit(disp=False)"
   ]
  },
  {
   "cell_type": "code",
   "execution_count": 102,
   "metadata": {},
   "outputs": [
    {
     "data": {
      "text/html": [
       "<table class=\"simpletable\">\n",
       "<caption>SARIMAX Results</caption>\n",
       "<tr>\n",
       "  <th>Dep. Variable:</th>           <td>y</td>        <th>  No. Observations:  </th>   <td>60</td>   \n",
       "</tr>\n",
       "<tr>\n",
       "  <th>Model:</th>           <td>SARIMAX(2, 0, 0)</td> <th>  Log Likelihood     </th> <td>-23.155</td>\n",
       "</tr>\n",
       "<tr>\n",
       "  <th>Date:</th>            <td>Mon, 21 Mar 2022</td> <th>  AIC                </th> <td>56.310</td> \n",
       "</tr>\n",
       "<tr>\n",
       "  <th>Time:</th>                <td>12:47:17</td>     <th>  BIC                </th> <td>66.782</td> \n",
       "</tr>\n",
       "<tr>\n",
       "  <th>Sample:</th>                  <td>0</td>        <th>  HQIC               </th> <td>60.406</td> \n",
       "</tr>\n",
       "<tr>\n",
       "  <th></th>                       <td> - 60</td>      <th>                     </th>    <td> </td>   \n",
       "</tr>\n",
       "<tr>\n",
       "  <th>Covariance Type:</th>        <td>opg</td>       <th>                     </th>    <td> </td>   \n",
       "</tr>\n",
       "</table>\n",
       "<table class=\"simpletable\">\n",
       "<tr>\n",
       "     <td></td>       <th>coef</th>     <th>std err</th>      <th>z</th>      <th>P>|z|</th>  <th>[0.025</th>    <th>0.975]</th>  \n",
       "</tr>\n",
       "<tr>\n",
       "  <th>x1</th>     <td>    0.6299</td> <td>    0.464</td> <td>    1.359</td> <td> 0.174</td> <td>   -0.279</td> <td>    1.538</td>\n",
       "</tr>\n",
       "<tr>\n",
       "  <th>x2</th>     <td>    0.2650</td> <td>    0.109</td> <td>    2.432</td> <td> 0.015</td> <td>    0.051</td> <td>    0.478</td>\n",
       "</tr>\n",
       "<tr>\n",
       "  <th>ar.L1</th>  <td>    0.4421</td> <td>    0.126</td> <td>    3.495</td> <td> 0.000</td> <td>    0.194</td> <td>    0.690</td>\n",
       "</tr>\n",
       "<tr>\n",
       "  <th>ar.L2</th>  <td>   -0.1450</td> <td>    0.141</td> <td>   -1.027</td> <td> 0.304</td> <td>   -0.422</td> <td>    0.132</td>\n",
       "</tr>\n",
       "<tr>\n",
       "  <th>sigma2</th> <td>    0.1263</td> <td>    0.021</td> <td>    5.914</td> <td> 0.000</td> <td>    0.084</td> <td>    0.168</td>\n",
       "</tr>\n",
       "</table>\n",
       "<table class=\"simpletable\">\n",
       "<tr>\n",
       "  <th>Ljung-Box (L1) (Q):</th>     <td>0.03</td> <th>  Jarque-Bera (JB):  </th> <td>18.41</td>\n",
       "</tr>\n",
       "<tr>\n",
       "  <th>Prob(Q):</th>                <td>0.85</td> <th>  Prob(JB):          </th> <td>0.00</td> \n",
       "</tr>\n",
       "<tr>\n",
       "  <th>Heteroskedasticity (H):</th> <td>0.39</td> <th>  Skew:              </th> <td>-0.80</td>\n",
       "</tr>\n",
       "<tr>\n",
       "  <th>Prob(H) (two-sided):</th>    <td>0.04</td> <th>  Kurtosis:          </th> <td>5.20</td> \n",
       "</tr>\n",
       "</table><br/><br/>Warnings:<br/>[1] Covariance matrix calculated using the outer product of gradients (complex-step)."
      ],
      "text/plain": [
       "<class 'statsmodels.iolib.summary.Summary'>\n",
       "\"\"\"\n",
       "                               SARIMAX Results                                \n",
       "==============================================================================\n",
       "Dep. Variable:                      y   No. Observations:                   60\n",
       "Model:               SARIMAX(2, 0, 0)   Log Likelihood                 -23.155\n",
       "Date:                Mon, 21 Mar 2022   AIC                             56.310\n",
       "Time:                        12:47:17   BIC                             66.782\n",
       "Sample:                             0   HQIC                            60.406\n",
       "                                 - 60                                         \n",
       "Covariance Type:                  opg                                         \n",
       "==============================================================================\n",
       "                 coef    std err          z      P>|z|      [0.025      0.975]\n",
       "------------------------------------------------------------------------------\n",
       "x1             0.6299      0.464      1.359      0.174      -0.279       1.538\n",
       "x2             0.2650      0.109      2.432      0.015       0.051       0.478\n",
       "ar.L1          0.4421      0.126      3.495      0.000       0.194       0.690\n",
       "ar.L2         -0.1450      0.141     -1.027      0.304      -0.422       0.132\n",
       "sigma2         0.1263      0.021      5.914      0.000       0.084       0.168\n",
       "===================================================================================\n",
       "Ljung-Box (L1) (Q):                   0.03   Jarque-Bera (JB):                18.41\n",
       "Prob(Q):                              0.85   Prob(JB):                         0.00\n",
       "Heteroskedasticity (H):               0.39   Skew:                            -0.80\n",
       "Prob(H) (two-sided):                  0.04   Kurtosis:                         5.20\n",
       "===================================================================================\n",
       "\n",
       "Warnings:\n",
       "[1] Covariance matrix calculated using the outer product of gradients (complex-step).\n",
       "\"\"\""
      ]
     },
     "execution_count": 102,
     "metadata": {},
     "output_type": "execute_result"
    }
   ],
   "source": [
    "model_sarimax.summary()"
   ]
  },
  {
   "cell_type": "markdown",
   "metadata": {},
   "source": [
    "<b> Report the mean squared prediction error for 1 month ahead forecasts.</b>"
   ]
  },
  {
   "cell_type": "code",
   "execution_count": 103,
   "metadata": {},
   "outputs": [],
   "source": [
    "# Making predictions 1 month ahead\n",
    "\n",
    "training_predictions_sarimax = model_sarimax.predict(start =2, end = 59, exog = exogenous)\n",
    "\n",
    "k= 2\n",
    "coef = model_sarimax.params\n",
    "past = endogenous[len(endogenous)-k:]\n",
    "past = [past[i] for i in range(k)]\n",
    "test_predictions_sarimax = list()\n",
    "\n",
    "past_ps = pricestats_train.PriceStats_avg_rate.values[-1] # since lag was 1 between CPI and PriceStats\n",
    "pred = coef[3]*past[0] + coef[2]*past[1] + coef[1] * pricestats_train.PriceStats_avg_rate.values[-1] + coef[0] * ber_test.BER_avg_rate.iloc[0] \n",
    "test_predictions_sarimax.append(pred)\n",
    "obs = cpi_test.IR.values[0]\n",
    "past.append(obs)\n",
    "\n",
    "for t in range(1,len(cpi_test.IR)):\n",
    "    length = len(past)\n",
    "    lag = [past[i] for i in range(length-2,length)]\n",
    "    pred = coef[3]*lag[0] + coef[2]*lag[1] + coef[1] * pricestats_test.PriceStats_avg_rate.iloc[t-1] + coef[0] * ber_test.BER_avg_rate.iloc[t] \n",
    "    test_predictions_sarimax.append(pred)\n",
    "    obs = cpi_test.IR.values[t]\n",
    "    past.append(obs)"
   ]
  },
  {
   "cell_type": "code",
   "execution_count": 104,
   "metadata": {},
   "outputs": [
    {
     "name": "stdout",
     "output_type": "stream",
     "text": [
      "The mean squared prediction error of the final model is 0.1986331078587314\n"
     ]
    }
   ],
   "source": [
    "# Calculating the prediction error RMSE for the SARIMAX model\n",
    "\n",
    "rmse_final = mean_squared_error(cpi_test.IR.values[:-2], test_predictions_sarimax[:-2], squared=False)\n",
    "print(\"The mean squared prediction error of the final model is \" + str(rmse_final))"
   ]
  },
  {
   "cell_type": "code",
   "execution_count": 105,
   "metadata": {},
   "outputs": [
    {
     "data": {
      "image/png": "[encoded data removed]",
      "text/plain": [
       "<Figure size 432x288 with 1 Axes>"
      ]
     },
     "metadata": {
      "needs_background": "light"
     },
     "output_type": "display_data"
    }
   ],
   "source": [
    "# Checking autocorrelation of residuals\n",
    "\n",
    "residuals = (endogenous[2:] - training_predictions_sarimax)\n",
    "plot_pacf(residuals, zero=False)\n",
    "plt.show()"
   ]
  },
  {
   "cell_type": "code",
   "execution_count": 106,
   "metadata": {},
   "outputs": [
    {
     "data": {
      "text/html": [
       "\n",
       "\n",
       "\n",
       "\n",
       "\n",
       "\n",
       "  <div class=\"bk-root\" id=\"e35bf232-97ec-4cbd-9987-70c2ab9ea786\" data-root-id=\"6817\"></div>\n"
      ]
     },
     "metadata": {},
     "output_type": "display_data"
    },
    {
     "data": {
      "application/javascript": [
       "(function(root) {\n",
       "  function embed_document(root) {\n",
       "    \n",
       "  const docs_json = {\"e5ea24a9-8608-4e5c-ac87-bb2c9870617c\":{\"defs\":[],\"roots\":{\"references\":[{\"attributes\":{\"below\":[{\"id\":\"6828\"}],\"center\":[{\"id\":\"6831\"},{\"id\":\"6835\"},{\"id\":\"6866\"}],\"left\":[{\"id\":\"6832\"}],\"renderers\":[{\"id\":\"6854\"},{\"id\":\"6872\"},{\"id\":\"6891\"},{\"id\":\"6912\"}],\"title\":{\"id\":\"6818\"},\"toolbar\":{\"id\":\"6843\"},\"width\":800,\"x_range\":{\"id\":\"6820\"},\"x_scale\":{\"id\":\"6824\"},\"y_range\":{\"id\":\"6822\"},\"y_scale\":{\"id\":\"6826\"}},\"id\":\"6817\",\"subtype\":\"Figure\",\"type\":\"Plot\"},{\"attributes\":{},\"id\":\"6840\",\"type\":\"ResetTool\"},{\"attributes\":{\"source\":{\"id\":\"6868\"}},\"id\":\"6873\",\"type\":\"CDSView\"},{\"attributes\":{},\"id\":\"6884\",\"type\":\"Selection\"},{\"attributes\":{\"tools\":[{\"id\":\"6836\"},{\"id\":\"6837\"},{\"id\":\"6838\"},{\"id\":\"6839\"},{\"id\":\"6840\"},{\"id\":\"6841\"}]},\"id\":\"6843\",\"type\":\"Toolbar\"},{\"attributes\":{},\"id\":\"6927\",\"type\":\"UnionRenderers\"},{\"attributes\":{},\"id\":\"6928\",\"type\":\"Selection\"},{\"attributes\":{\"label\":{\"value\":\"Final  Model Predictions\"},\"renderers\":[{\"id\":\"6912\"}]},\"id\":\"6930\",\"type\":\"LegendItem\"},{\"attributes\":{\"source\":{\"id\":\"6908\"}},\"id\":\"6913\",\"type\":\"CDSView\"},{\"attributes\":{},\"id\":\"6826\",\"type\":\"LinearScale\"},{\"attributes\":{\"line_color\":\"green\",\"line_width\":2.5,\"x\":{\"field\":\"x\"},\"y\":{\"field\":\"y\"}},\"id\":\"6869\",\"type\":\"Line\"},{\"attributes\":{\"coordinates\":null,\"data_source\":{\"id\":\"6850\"},\"glyph\":{\"id\":\"6851\"},\"group\":null,\"hover_glyph\":null,\"muted_glyph\":{\"id\":\"6853\"},\"nonselection_glyph\":{\"id\":\"6852\"},\"view\":{\"id\":\"6855\"}},\"id\":\"6854\",\"type\":\"GlyphRenderer\"},{\"attributes\":{\"line_alpha\":0.1,\"line_color\":\"orange\",\"line_dash\":[6],\"line_width\":2.5,\"x\":{\"field\":\"x\"},\"y\":{\"field\":\"y\"}},\"id\":\"6889\",\"type\":\"Line\"},{\"attributes\":{\"data\":{\"x\":[62,63,64,65,66,67,68,69,70,71,72,73,74,75,76,77,78,79,80,81,82,83,84,85,86,87,88,89,90,91,92,93,94,95,96,97,98,99,100,101,102,103,104,105,106,107,108,109,110,111,112,113,114,115,116,117,118,119,120,121,122,123,124,125,126,127,128,129,130,131,132,133,134,135,136],\"y\":{\"__ndarray__\":\"/kV3bFzKvj+2hVW5f8W9P0zgs4a4e9C/TtfdG9kkyr/r2pIIPH+Bv2yf6iLdztc/mCUwMnuq1z+r3ec6uZvkP8dzp6FFGdU/bPbCS0Na1j8PDKfwMtfHP+thAtsl+qO/XOTlL0Zixb9MTR+BxkOzP3NceuFCFNC/X5A8U1RH4b/gpMX/siTiv/7A12I9Ht6/iP1KErDK2z8iEIAkHgzjPyhHF4FtBso/ZX00NERP4D+tl8dOTGvWPxQlWjfBans/J5GyZs0hwr9viuPSr+vDv5+dmhAfBqe/PXH1vL4Dy7+AeGFRld/Vv6SuKgoyKcU/Dfa2UR8RtT8pJywX447bP1V6No5aWN4/nrPoDuHk2T/Nc/Q+bAXVP6W4/XFOuMS/yBdC7BuDtz8F0pjBM8XOP8vgmHQe7b8/gsv+hefnw7+ZgNZc18GgP4yaNlkBpuI/oC5GvM4h1D8Kdy9Zfs+0P86Bgfp9+tI/A8WA36fgtT9STalfcju3P5w8Lkx5p7G/Jz32cdgo0z+0vJJBhfHgPwTCayu+KLC/INac0QmfYz/KF8ewyByuv1JDhqwUb+E/aAKNafsF3T9yVQEDZvHMP3gVj8oNcNk/yKLJFPOd2j9GuqbS9GfEP+MB9MkYY3s/Mr6X+cRzrD+m2c0YRr+9P5Cl1u90n8Y/KtD8QMhv1b8ET1lkHnHUv7diYvJZZ8g/Wvv7lc8M2z9gp6QqdQ3iP1z2nA4m8uA/5gleKy4/yz+zzfGI32KUP3opTvNdY8U/8Gtcr6D1dL8AAAAAAAD4fwAAAAAAAPh/\",\"dtype\":\"float64\",\"order\":\"little\",\"shape\":[75]}},\"selected\":{\"id\":\"6905\"},\"selection_policy\":{\"id\":\"6904\"}},\"id\":\"6887\",\"type\":\"ColumnDataSource\"},{\"attributes\":{\"line_alpha\":0.2,\"line_color\":\"green\",\"line_width\":2.5,\"x\":{\"field\":\"x\"},\"y\":{\"field\":\"y\"}},\"id\":\"6871\",\"type\":\"Line\"},{\"attributes\":{\"label\":{\"value\":\"CPI\"},\"renderers\":[{\"id\":\"6891\"}]},\"id\":\"6907\",\"type\":\"LegendItem\"},{\"attributes\":{\"overlay\":{\"id\":\"6842\"}},\"id\":\"6838\",\"type\":\"BoxZoomTool\"},{\"attributes\":{\"coordinates\":null,\"formatter\":{\"id\":\"6858\"},\"group\":null,\"major_label_policy\":{\"id\":\"6859\"},\"ticker\":{\"id\":\"6833\"}},\"id\":\"6832\",\"type\":\"LinearAxis\"},{\"attributes\":{\"ticks\":[0,35,70,105,140]},\"id\":\"6931\",\"type\":\"FixedTicker\"},{\"attributes\":{},\"id\":\"6822\",\"type\":\"DataRange1d\"},{\"attributes\":{\"line_alpha\":0.1,\"line_color\":\"lightgreen\",\"line_dash\":[6],\"line_width\":2.5,\"x\":{\"field\":\"x\"},\"y\":{\"field\":\"y\"}},\"id\":\"6852\",\"type\":\"Line\"},{\"attributes\":{\"coordinates\":null,\"group\":null,\"items\":[{\"id\":\"6867\"},{\"id\":\"6886\"},{\"id\":\"6907\"},{\"id\":\"6930\"}],\"location\":\"bottom_right\"},\"id\":\"6866\",\"type\":\"Legend\"},{\"attributes\":{},\"id\":\"6839\",\"type\":\"SaveTool\"},{\"attributes\":{\"line_alpha\":0.1,\"line_color\":\"green\",\"line_width\":2.5,\"x\":{\"field\":\"x\"},\"y\":{\"field\":\"y\"}},\"id\":\"6870\",\"type\":\"Line\"},{\"attributes\":{\"line_alpha\":0.1,\"line_color\":\"orangered\",\"line_width\":2.5,\"x\":{\"field\":\"x\"},\"y\":{\"field\":\"y\"}},\"id\":\"6910\",\"type\":\"Line\"},{\"attributes\":{},\"id\":\"6836\",\"type\":\"PanTool\"},{\"attributes\":{\"bottom_units\":\"screen\",\"coordinates\":null,\"fill_alpha\":0.5,\"fill_color\":\"lightgrey\",\"group\":null,\"left_units\":\"screen\",\"level\":\"overlay\",\"line_alpha\":1.0,\"line_color\":\"black\",\"line_dash\":[4,4],\"line_width\":2,\"right_units\":\"screen\",\"syncable\":false,\"top_units\":\"screen\"},\"id\":\"6842\",\"type\":\"BoxAnnotation\"},{\"attributes\":{},\"id\":\"6859\",\"type\":\"AllLabels\"},{\"attributes\":{},\"id\":\"6820\",\"type\":\"DataRange1d\"},{\"attributes\":{\"line_alpha\":0.2,\"line_color\":\"orangered\",\"line_width\":2.5,\"x\":{\"field\":\"x\"},\"y\":{\"field\":\"y\"}},\"id\":\"6911\",\"type\":\"Line\"},{\"attributes\":{\"axis\":{\"id\":\"6828\"},\"coordinates\":null,\"group\":null,\"ticker\":null},\"id\":\"6831\",\"type\":\"Grid\"},{\"attributes\":{\"line_color\":\"orangered\",\"line_width\":2.5,\"x\":{\"field\":\"x\"},\"y\":{\"field\":\"y\"}},\"id\":\"6909\",\"type\":\"Line\"},{\"attributes\":{},\"id\":\"6833\",\"type\":\"BasicTicker\"},{\"attributes\":{\"coordinates\":null,\"formatter\":{\"id\":\"6861\"},\"group\":null,\"major_label_overrides\":{\"0\":\"2008\",\"105\":\"2017\",\"140\":\"2020\",\"35\":\"2011\",\"70\":\"2014\"},\"major_label_policy\":{\"id\":\"6862\"},\"ticker\":{\"id\":\"6931\"}},\"id\":\"6828\",\"type\":\"LinearAxis\"},{\"attributes\":{\"data\":{\"x\":[62,63,64,65,66,67,68,69,70,71,72,73,74,75,76,77,78,79,80,81,82,83,84,85,86,87,88,89,90,91,92,93,94,95,96,97,98,99,100,101,102,103,104,105,106,107,108,109,110,111,112,113,114,115,116,117,118,119,120,121,122,123,124,125,126,127,128,129,130,131,132,133,134,135],\"y\":[0.124649566954314,0.18442069795811125,0.10456790743919608,-0.03012565119636465,0.0796249895279261,0.1931407109202577,0.32259862195367117,0.28972832693341644,0.42061804679103654,0.2297473947379911,0.2602863009960169,0.1641710954033242,0.07573431561483228,0.05256348062438954,0.13076396404438412,-0.08147890232866183,-0.2399336256002458,-0.25790117315478644,0.030550002300829493,0.49283625034491274,0.3403508641021353,0.23411401997470827,0.36063150098418045,0.18992525158107576,0.02888494240261512,-0.03857139299143819,0.04320525630704572,0.04795051343045405,-0.04598268311585338,-0.10287905863432646,0.12777792517653674,0.20619114093165566,0.3949597737530312,0.3491410561010009,0.27236167693331004,0.1550106031624768,-0.03518963723094165,0.19843188799255862,0.23744781184588756,0.11519916166773086,0.06317699925064335,0.24882944087771233,0.3798143467995793,0.20768251394175366,0.14316641141574585,0.23770147623293214,0.1024824412853205,0.13133418615332518,0.12805049699637833,0.40772838286054236,0.32890666131776375,0.05390394048342243,0.12029311047544702,0.1569202380484126,0.418948756703541,0.26159406724409057,0.2531664891822888,0.36474073778911775,0.2928972952774651,0.1543922978825606,0.11949961334112846,0.17390000799044134,0.2156864601352706,0.1286419657374439,-0.16179261599606648,-0.019189931235189334,0.2974861212153454,0.40190661987886417,0.42227841690813245,0.3119174415328879,0.09639371327121071,0.08381154665972536,0.15087978738096508,0.08098081588933458]},\"selected\":{\"id\":\"6928\"},\"selection_policy\":{\"id\":\"6927\"}},\"id\":\"6908\",\"type\":\"ColumnDataSource\"},{\"attributes\":{},\"id\":\"6861\",\"type\":\"BasicTickFormatter\"},{\"attributes\":{\"label\":{\"value\":\"Final Model (Training Data Fit)\"},\"renderers\":[{\"id\":\"6872\"}]},\"id\":\"6886\",\"type\":\"LegendItem\"},{\"attributes\":{},\"id\":\"6837\",\"type\":\"WheelZoomTool\"},{\"attributes\":{},\"id\":\"6904\",\"type\":\"UnionRenderers\"},{\"attributes\":{},\"id\":\"6858\",\"type\":\"BasicTickFormatter\"},{\"attributes\":{},\"id\":\"6905\",\"type\":\"Selection\"},{\"attributes\":{\"line_alpha\":0.2,\"line_color\":\"orange\",\"line_dash\":[6],\"line_width\":2.5,\"x\":{\"field\":\"x\"},\"y\":{\"field\":\"y\"}},\"id\":\"6890\",\"type\":\"Line\"},{\"attributes\":{\"axis\":{\"id\":\"6832\"},\"coordinates\":null,\"dimension\":1,\"group\":null,\"ticker\":null},\"id\":\"6835\",\"type\":\"Grid\"},{\"attributes\":{\"line_color\":\"lightgreen\",\"line_dash\":[6],\"line_width\":2.5,\"x\":{\"field\":\"x\"},\"y\":{\"field\":\"y\"}},\"id\":\"6851\",\"type\":\"Line\"},{\"attributes\":{\"coordinates\":null,\"data_source\":{\"id\":\"6908\"},\"glyph\":{\"id\":\"6909\"},\"group\":null,\"hover_glyph\":null,\"muted_glyph\":{\"id\":\"6911\"},\"nonselection_glyph\":{\"id\":\"6910\"},\"view\":{\"id\":\"6913\"}},\"id\":\"6912\",\"type\":\"GlyphRenderer\"},{\"attributes\":{\"source\":{\"id\":\"6887\"}},\"id\":\"6892\",\"type\":\"CDSView\"},{\"attributes\":{},\"id\":\"6864\",\"type\":\"Selection\"},{\"attributes\":{\"data\":{\"x\":[0,1,2,3,4,5,6,7,8,9,10,11,12,13,14,15,16,17,18,19,20,21,22,23,24,25,26,27,28,29,30,31,32,33,34,35,36,37,38,39,40,41,42,43,44,45,46,47,48,49,50,51,52,53,54,55,56,57,58,59],\"y\":{\"__ndarray__\":\"aqLmA46M2b8NyEZkI7LBv8s6UyGGKfC/8V/RCQGl/r9JaRANQozwvzRO8Zn52ts/AUtUbFvT3z8GqPxVgCDPP+NTUyET9M8/aXcIJwN90j9umD7I0nzrPxIAF0fFS8S/6+VLxY61zD9qMYVSawOwP9vqMKjyp7g/pkll6Ycdsj/0zQT/xYrGv+3yxCAr39U/xt1tHECFmT+gv8vVy0faP3U2fcx3O8Y/XBK/PWbXsz++5sCcjv64vx1uqvgEoZU/Kz6KdjCswT+1apxD8sitPxqXuojN4L8/jQR2+OKIpT/qDbr1eADGP5GHtSLSe94/DOr9aWOP3z/Jgw1+5zPvP8tMzx3qmuQ/j0Vq77gc3j9I13JM9Wq7vwwf7TuyrrY/FFnMfcml0T9RtxVpXW/DPxxlrp2mZ8q/cubr6hmZtb/SPEhm95HPv2+ZcWwlKdw/77yCNfEt3D8MFFR8vE3oP4P/t5iPVdM/2H1GPwQLvr9RJJK2u8TCv5WJV+7V28S/huSfshnP4T/jUKo+1Y7cP84p6jlQ8qO/cCalBzJT3r/r61ByoDvRv835290f7dI/IZfx7SY16j/Njq9nj7vQP3c9RVylnbq/1H5bIAPKxj91j/atYbjOPzz6+3gAM6Q/\",\"dtype\":\"float64\",\"order\":\"little\",\"shape\":[60]}},\"selected\":{\"id\":\"6864\"},\"selection_policy\":{\"id\":\"6863\"}},\"id\":\"6850\",\"type\":\"ColumnDataSource\"},{\"attributes\":{\"coordinates\":null,\"data_source\":{\"id\":\"6868\"},\"glyph\":{\"id\":\"6869\"},\"group\":null,\"hover_glyph\":null,\"muted_glyph\":{\"id\":\"6871\"},\"nonselection_glyph\":{\"id\":\"6870\"},\"view\":{\"id\":\"6873\"}},\"id\":\"6872\",\"type\":\"GlyphRenderer\"},{\"attributes\":{\"line_alpha\":0.2,\"line_color\":\"lightgreen\",\"line_dash\":[6],\"line_width\":2.5,\"x\":{\"field\":\"x\"},\"y\":{\"field\":\"y\"}},\"id\":\"6853\",\"type\":\"Line\"},{\"attributes\":{},\"id\":\"6841\",\"type\":\"HelpTool\"},{\"attributes\":{\"source\":{\"id\":\"6850\"}},\"id\":\"6855\",\"type\":\"CDSView\"},{\"attributes\":{\"label\":{\"value\":\"Training Data\"},\"renderers\":[{\"id\":\"6854\"}]},\"id\":\"6867\",\"type\":\"LegendItem\"},{\"attributes\":{},\"id\":\"6863\",\"type\":\"UnionRenderers\"},{\"attributes\":{\"coordinates\":null,\"data_source\":{\"id\":\"6887\"},\"glyph\":{\"id\":\"6888\"},\"group\":null,\"hover_glyph\":null,\"muted_glyph\":{\"id\":\"6890\"},\"nonselection_glyph\":{\"id\":\"6889\"},\"view\":{\"id\":\"6892\"}},\"id\":\"6891\",\"type\":\"GlyphRenderer\"},{\"attributes\":{\"data\":{\"x\":[0,1,2,3,4,5,6,7,8,9,10,11,12,13,14,15,16,17,18,19,20,21,22,23,24,25,26,27,28,29,30,31,32,33,34,35,36,37,38,39,40,41,42,43,44,45,46,47,48,49,50,51,52,53,54,55,56,57],\"y\":{\"__ndarray__\":\"nbn7qOSW17/EmcDnJ2Pgv2xQwRsxQeG/8Oy4Zawmn7+cm9eNSKTXP2RX7BwEANI/5gUL6mQaxj9lIYMTlerHP7pcZ0l6H8w/DPHGIgp02j/XZfJ/qOe+v+vfCyGBiMo/dk3Hx53Gwj91w6dmVuymP+DLWezoftA/4SKJU71JuL9iRWGsOuTcP/w5h7Im/Lo/dFGV5miz1D8oVqdq9sajv5pWe3eXKs0/RPbVC3iElb8k2Rfqf+e6P6laPsN9DtA/Q+8QM9hrvz8N62yfd83DP/gq5kEp4sI/Y3/2N31UyT/ZifeIODHWP2RRNVKu4dk/ro3amUe/3z/djQh7afO4Py9JcTRd6dI/ePxXzQVPpL8HtE5oG2PFP6hlKieh3ro/BtPvv082wj9K4nFXdxPAv8Rg5Hq6b8k/UPTD/RGQtz+1CSLBiwzgP5qZWreGec0/Jvh8kz8p0T/1ReSsjOunPwhUi57zjIW/9FEQi7UE0D9UXc/Qt+e1P+2XCLijjNU/Ha0/JLObuz+ktItADDuNvwi0SRMTJrK/kurYBnXy0j9DLu/SKRDNP2Worq4ba9g/L4LekVOjwj9wLdrBlxCLv3v+a53Xlsc/nv3KOKkWyD8=\",\"dtype\":\"float64\",\"order\":\"little\",\"shape\":[58]}},\"selected\":{\"id\":\"6884\"},\"selection_policy\":{\"id\":\"6883\"}},\"id\":\"6868\",\"type\":\"ColumnDataSource\"},{\"attributes\":{\"coordinates\":null,\"group\":null,\"text\":\"CPI Predictions with SARIMAX (2,0,0)\"},\"id\":\"6818\",\"type\":\"Title\"},{\"attributes\":{\"line_color\":\"orange\",\"line_dash\":[6],\"line_width\":2.5,\"x\":{\"field\":\"x\"},\"y\":{\"field\":\"y\"}},\"id\":\"6888\",\"type\":\"Line\"},{\"attributes\":{},\"id\":\"6824\",\"type\":\"LinearScale\"},{\"attributes\":{},\"id\":\"6862\",\"type\":\"AllLabels\"},{\"attributes\":{},\"id\":\"6883\",\"type\":\"UnionRenderers\"}],\"root_ids\":[\"6817\"]},\"title\":\"Bokeh Application\",\"version\":\"2.4.1\"}};\n",
       "  const render_items = [{\"docid\":\"e5ea24a9-8608-4e5c-ac87-bb2c9870617c\",\"root_ids\":[\"6817\"],\"roots\":{\"6817\":\"e35bf232-97ec-4cbd-9987-70c2ab9ea786\"}}];\n",
       "  root.Bokeh.embed.embed_items_notebook(docs_json, render_items);\n",
       "\n",
       "  }\n",
       "  if (root.Bokeh !== undefined) {\n",
       "    embed_document(root);\n",
       "  } else {\n",
       "    let attempts = 0;\n",
       "    const timer = setInterval(function(root) {\n",
       "      if (root.Bokeh !== undefined) {\n",
       "        clearInterval(timer);\n",
       "        embed_document(root);\n",
       "      } else {\n",
       "        attempts++;\n",
       "        if (attempts > 100) {\n",
       "          clearInterval(timer);\n",
       "          console.log(\"Bokeh: ERROR: Unable to run BokehJS code because BokehJS library is missing\");\n",
       "        }\n",
       "      }\n",
       "    }, 10, root)\n",
       "  }\n",
       "})(window);"
      ],
      "application/vnd.bokehjs_exec.v0+json": ""
     },
     "metadata": {
      "application/vnd.bokehjs_exec.v0+json": {
       "id": "6817"
      }
     },
     "output_type": "display_data"
    }
   ],
   "source": [
    "# Plotting predictions\n",
    "\n",
    "p = figure(plot_width=800, plot_height=600, title = \"CPI Predictions with SARIMAX (2,0,0)\")\n",
    "p.line(range(len(endogenous+2)), endogenous, line_width =2.5, line_color=\"lightgreen\", line_dash=\"dashed\", legend_label =\"Training Data\")\n",
    "p.line(range(len(training_predictions_sarimax+2)), training_predictions_sarimax, line_color=\"green\", line_width=2.5, legend_label =\"Final Model (Training Data Fit)\")\n",
    "p.line(cpi_test.index ,cpi_test.IR, line_width =2.5, line_color=\"orange\", line_dash=\"dashed\", legend_label =\"CPI\")\n",
    "p.line(cpi_test.index[:-1], test_predictions_sarimax[:-1], line_color=\"orangered\", line_width=2.5, legend_label =\"Final  Model Predictions\")\n",
    "p.xaxis.ticker = [0, 35, 70, 105, 140]\n",
    "p.xaxis.major_label_overrides = {0: '2008', 35: '2011', 70: '2014', 105: '2017', 140: '2020'}\n",
    "p.legend.location ='bottom_right'\n",
    "show(p)"
   ]
  },
  {
   "cell_type": "markdown",
   "metadata": {},
   "source": [
    "The results from the SARIMAX model are very good and by addding external regressor to predict the data we managed to achieve better results than previously when predicting only with the CPI itself. The errors on the RMSE and MAPE are low, the residuals are normal without a sign of autocorrelation, and from the plot we can see that the predictions follow quite nicely the training and testing data."
   ]
  },
  {
   "cell_type": "markdown",
   "metadata": {},
   "source": [
    "<b> What other steps can you take to improve your model? What is the smallest prediction error you can obtain? Describe the model that performs best. You might consider including MA terms, adding a seasonal AR term, or adding multiple daily values (or values from different months) of PriceStats and BER data as external regressors.</b>"
   ]
  },
  {
   "cell_type": "code",
   "execution_count": 107,
   "metadata": {},
   "outputs": [],
   "source": [
    "# Fitting with SARIMAX (2,0,1) model\n",
    "\n",
    "model_sarimax_2 = sm.tsa.statespace.SARIMAX(endogenous, exogenous, order=(2,0,1), coerce_errors=True).fit(disp=False)"
   ]
  },
  {
   "cell_type": "code",
   "execution_count": 108,
   "metadata": {},
   "outputs": [
    {
     "data": {
      "text/html": [
       "<table class=\"simpletable\">\n",
       "<caption>SARIMAX Results</caption>\n",
       "<tr>\n",
       "  <th>Dep. Variable:</th>           <td>y</td>        <th>  No. Observations:  </th>   <td>60</td>   \n",
       "</tr>\n",
       "<tr>\n",
       "  <th>Model:</th>           <td>SARIMAX(2, 0, 1)</td> <th>  Log Likelihood     </th> <td>-22.402</td>\n",
       "</tr>\n",
       "<tr>\n",
       "  <th>Date:</th>            <td>Mon, 21 Mar 2022</td> <th>  AIC                </th> <td>56.804</td> \n",
       "</tr>\n",
       "<tr>\n",
       "  <th>Time:</th>                <td>12:47:18</td>     <th>  BIC                </th> <td>69.370</td> \n",
       "</tr>\n",
       "<tr>\n",
       "  <th>Sample:</th>                  <td>0</td>        <th>  HQIC               </th> <td>61.720</td> \n",
       "</tr>\n",
       "<tr>\n",
       "  <th></th>                       <td> - 60</td>      <th>                     </th>    <td> </td>   \n",
       "</tr>\n",
       "<tr>\n",
       "  <th>Covariance Type:</th>        <td>opg</td>       <th>                     </th>    <td> </td>   \n",
       "</tr>\n",
       "</table>\n",
       "<table class=\"simpletable\">\n",
       "<tr>\n",
       "     <td></td>       <th>coef</th>     <th>std err</th>      <th>z</th>      <th>P>|z|</th>  <th>[0.025</th>    <th>0.975]</th>  \n",
       "</tr>\n",
       "<tr>\n",
       "  <th>x1</th>     <td>    0.5942</td> <td>    0.181</td> <td>    3.274</td> <td> 0.001</td> <td>    0.238</td> <td>    0.950</td>\n",
       "</tr>\n",
       "<tr>\n",
       "  <th>x2</th>     <td>    0.2751</td> <td>    0.124</td> <td>    2.219</td> <td> 0.026</td> <td>    0.032</td> <td>    0.518</td>\n",
       "</tr>\n",
       "<tr>\n",
       "  <th>ar.L1</th>  <td>    1.3247</td> <td>    0.103</td> <td>   12.877</td> <td> 0.000</td> <td>    1.123</td> <td>    1.526</td>\n",
       "</tr>\n",
       "<tr>\n",
       "  <th>ar.L2</th>  <td>   -0.4453</td> <td>    0.115</td> <td>   -3.870</td> <td> 0.000</td> <td>   -0.671</td> <td>   -0.220</td>\n",
       "</tr>\n",
       "<tr>\n",
       "  <th>ma.L1</th>  <td>   -0.9999</td> <td>   36.204</td> <td>   -0.028</td> <td> 0.978</td> <td>  -71.959</td> <td>   69.959</td>\n",
       "</tr>\n",
       "<tr>\n",
       "  <th>sigma2</th> <td>    0.1190</td> <td>    4.293</td> <td>    0.028</td> <td> 0.978</td> <td>   -8.294</td> <td>    8.532</td>\n",
       "</tr>\n",
       "</table>\n",
       "<table class=\"simpletable\">\n",
       "<tr>\n",
       "  <th>Ljung-Box (L1) (Q):</th>     <td>0.01</td> <th>  Jarque-Bera (JB):  </th> <td>21.57</td>\n",
       "</tr>\n",
       "<tr>\n",
       "  <th>Prob(Q):</th>                <td>0.92</td> <th>  Prob(JB):          </th> <td>0.00</td> \n",
       "</tr>\n",
       "<tr>\n",
       "  <th>Heteroskedasticity (H):</th> <td>0.39</td> <th>  Skew:              </th> <td>-0.81</td>\n",
       "</tr>\n",
       "<tr>\n",
       "  <th>Prob(H) (two-sided):</th>    <td>0.04</td> <th>  Kurtosis:          </th> <td>5.45</td> \n",
       "</tr>\n",
       "</table><br/><br/>Warnings:<br/>[1] Covariance matrix calculated using the outer product of gradients (complex-step)."
      ],
      "text/plain": [
       "<class 'statsmodels.iolib.summary.Summary'>\n",
       "\"\"\"\n",
       "                               SARIMAX Results                                \n",
       "==============================================================================\n",
       "Dep. Variable:                      y   No. Observations:                   60\n",
       "Model:               SARIMAX(2, 0, 1)   Log Likelihood                 -22.402\n",
       "Date:                Mon, 21 Mar 2022   AIC                             56.804\n",
       "Time:                        12:47:18   BIC                             69.370\n",
       "Sample:                             0   HQIC                            61.720\n",
       "                                 - 60                                         \n",
       "Covariance Type:                  opg                                         \n",
       "==============================================================================\n",
       "                 coef    std err          z      P>|z|      [0.025      0.975]\n",
       "------------------------------------------------------------------------------\n",
       "x1             0.5942      0.181      3.274      0.001       0.238       0.950\n",
       "x2             0.2751      0.124      2.219      0.026       0.032       0.518\n",
       "ar.L1          1.3247      0.103     12.877      0.000       1.123       1.526\n",
       "ar.L2         -0.4453      0.115     -3.870      0.000      -0.671      -0.220\n",
       "ma.L1         -0.9999     36.204     -0.028      0.978     -71.959      69.959\n",
       "sigma2         0.1190      4.293      0.028      0.978      -8.294       8.532\n",
       "===================================================================================\n",
       "Ljung-Box (L1) (Q):                   0.01   Jarque-Bera (JB):                21.57\n",
       "Prob(Q):                              0.92   Prob(JB):                         0.00\n",
       "Heteroskedasticity (H):               0.39   Skew:                            -0.81\n",
       "Prob(H) (two-sided):                  0.04   Kurtosis:                         5.45\n",
       "===================================================================================\n",
       "\n",
       "Warnings:\n",
       "[1] Covariance matrix calculated using the outer product of gradients (complex-step).\n",
       "\"\"\""
      ]
     },
     "execution_count": 108,
     "metadata": {},
     "output_type": "execute_result"
    }
   ],
   "source": [
    "model_sarimax_2.summary()"
   ]
  },
  {
   "cell_type": "code",
   "execution_count": 109,
   "metadata": {},
   "outputs": [],
   "source": [
    "# Making predictions 1 month ahead\n",
    "\n",
    "training_predictions_sarimax_2 = model_sarimax_2.predict(start =2, end = 59, exog = exogenous)\n",
    "\n",
    "k= 2\n",
    "coef = model_sarimax_2.params\n",
    "past = endogenous[len(endogenous)-k:]\n",
    "past = [past[i] for i in range(k)]\n",
    "test_predictions_sarimax_2 = list()\n",
    "\n",
    "past_ps = pricestats_train.PriceStats_avg_rate.values[-1] # Since lag was 1 between CPI and PriceStats\n",
    "pred = coef[3]*past[0] + coef[2]*past[1] + coef[1] * pricestats_train.PriceStats_avg_rate.values[-1] + coef[0] * ber_test.BER_avg_rate.iloc[0] \n",
    "test_predictions_sarimax_2.append(pred)\n",
    "obs = cpi_test.IR.values[0]\n",
    "past.append(obs)\n",
    "\n",
    "for t in range(1,len(cpi_test.IR)):\n",
    "    length = len(past)\n",
    "    lag = [past[i] for i in range(length-2,length)]\n",
    "    pred = coef[3]*lag[0] + coef[2]*lag[1] + coef[1] * pricestats_test.PriceStats_avg_rate.iloc[t-1] + coef[0] * ber_test.BER_avg_rate.iloc[t] \n",
    "    test_predictions_sarimax_2.append(pred)\n",
    "    obs = cpi_test.IR.values[t]\n",
    "    past.append(obs)"
   ]
  },
  {
   "cell_type": "code",
   "execution_count": 110,
   "metadata": {},
   "outputs": [
    {
     "name": "stdout",
     "output_type": "stream",
     "text": [
      "The mean squared prediction error of the final model is 0.30142230929126157\n"
     ]
    }
   ],
   "source": [
    "# Calculating the prediction error RMSE for the second SARIMAX model\n",
    "\n",
    "rmse_final = mean_squared_error(cpi_test.IR.values[:-2], test_predictions_sarimax_2[:-2], squared=False)\n",
    "print(\"The mean squared prediction error of the final model is \" + str(rmse_final))"
   ]
  },
  {
   "cell_type": "code",
   "execution_count": 111,
   "metadata": {},
   "outputs": [
    {
     "data": {
      "image/png": "[encoded data removed]",
      "text/plain": [
       "<Figure size 432x288 with 1 Axes>"
      ]
     },
     "metadata": {
      "needs_background": "light"
     },
     "output_type": "display_data"
    }
   ],
   "source": [
    "# Checking autocorrelation of residuals\n",
    "\n",
    "residuals = (endogenous[2:] - training_predictions_sarimax_2)\n",
    "plot_pacf(residuals, zero=False)\n",
    "plt.show()"
   ]
  },
  {
   "cell_type": "code",
   "execution_count": 112,
   "metadata": {},
   "outputs": [
    {
     "data": {
      "text/html": [
       "\n",
       "\n",
       "\n",
       "\n",
       "\n",
       "\n",
       "  <div class=\"bk-root\" id=\"18e67851-513b-4528-9b13-8c174b30871e\" data-root-id=\"7276\"></div>\n"
      ]
     },
     "metadata": {},
     "output_type": "display_data"
    },
    {
     "data": {
      "application/javascript": [
       "(function(root) {\n",
       "  function embed_document(root) {\n",
       "    \n",
       "  const docs_json = {\"fb9ca0a8-32bd-445b-8307-9378b370a40d\":{\"defs\":[],\"roots\":{\"references\":[{\"attributes\":{\"below\":[{\"id\":\"7287\"}],\"center\":[{\"id\":\"7290\"},{\"id\":\"7294\"},{\"id\":\"7325\"}],\"left\":[{\"id\":\"7291\"}],\"renderers\":[{\"id\":\"7313\"},{\"id\":\"7331\"},{\"id\":\"7350\"},{\"id\":\"7371\"}],\"title\":{\"id\":\"7277\"},\"toolbar\":{\"id\":\"7302\"},\"width\":800,\"x_range\":{\"id\":\"7279\"},\"x_scale\":{\"id\":\"7283\"},\"y_range\":{\"id\":\"7281\"},\"y_scale\":{\"id\":\"7285\"}},\"id\":\"7276\",\"subtype\":\"Figure\",\"type\":\"Plot\"},{\"attributes\":{},\"id\":\"7295\",\"type\":\"PanTool\"},{\"attributes\":{\"coordinates\":null,\"data_source\":{\"id\":\"7327\"},\"glyph\":{\"id\":\"7328\"},\"group\":null,\"hover_glyph\":null,\"muted_glyph\":{\"id\":\"7330\"},\"nonselection_glyph\":{\"id\":\"7329\"},\"view\":{\"id\":\"7332\"}},\"id\":\"7331\",\"type\":\"GlyphRenderer\"},{\"attributes\":{},\"id\":\"7343\",\"type\":\"Selection\"},{\"attributes\":{\"line_alpha\":0.2,\"line_color\":\"green\",\"line_width\":2.5,\"x\":{\"field\":\"x\"},\"y\":{\"field\":\"y\"}},\"id\":\"7330\",\"type\":\"Line\"},{\"attributes\":{\"data\":{\"x\":[62,63,64,65,66,67,68,69,70,71,72,73,74,75,76,77,78,79,80,81,82,83,84,85,86,87,88,89,90,91,92,93,94,95,96,97,98,99,100,101,102,103,104,105,106,107,108,109,110,111,112,113,114,115,116,117,118,119,120,121,122,123,124,125,126,127,128,129,130,131,132,133,134,135],\"y\":[0.08224265511377496,0.27317103330507986,0.16308995736247614,-0.29918348337518985,-0.029223686109506625,0.24267375286188464,0.6487860650886258,0.5006032399340673,0.8744076049884952,0.32311169306982257,0.4642618494164546,0.21791429636388066,-0.02027687808058276,-0.08803714367150663,0.24086190422037748,-0.3326482308832347,-0.6504271927398154,-0.607905635912209,-0.21728604120144474,1.0170959206301013,0.7314404482189943,0.23441121800906073,0.7467079468325173,0.3422481583815824,-0.07499280152877177,-0.17205770766523776,-0.05589140105693799,0.04923098379315942,-0.22421737809904407,-0.3469466020261296,0.3688399034695417,0.2285876565711797,0.7506628991341074,0.6387484887432681,0.48602032642419596,0.3187676536218879,-0.2809682389075469,0.3249851874900996,0.41855212909363604,0.14715574620913208,-0.11572830135071467,0.3225266003196687,0.8793223538232252,0.30675747563348676,0.11721896308068425,0.4709912377552226,0.08422384045396929,0.18095252755727048,0.03742717796351176,0.6935776578081977,0.7024332174642319,-0.16412192970385633,0.135479168095958,0.10091720155084313,0.9136087167714275,0.4931043242501928,0.3143537666172673,0.6456571842970619,0.5365423310592081,0.16536722235171605,0.0723893295048476,0.21625936220119923,0.29824297696868507,0.24334438601717634,-0.5188820652872093,-0.20697953484056075,0.5585845908397261,0.7173856454915846,0.7931827499902114,0.6075938312024184,0.11961822416825191,0.03366293209632593,0.28758272676507285,0.02267405422932027]},\"selected\":{\"id\":\"7387\"},\"selection_policy\":{\"id\":\"7386\"}},\"id\":\"7367\",\"type\":\"ColumnDataSource\"},{\"attributes\":{},\"id\":\"7296\",\"type\":\"WheelZoomTool\"},{\"attributes\":{},\"id\":\"7342\",\"type\":\"UnionRenderers\"},{\"attributes\":{\"coordinates\":null,\"data_source\":{\"id\":\"7346\"},\"glyph\":{\"id\":\"7347\"},\"group\":null,\"hover_glyph\":null,\"muted_glyph\":{\"id\":\"7349\"},\"nonselection_glyph\":{\"id\":\"7348\"},\"view\":{\"id\":\"7351\"}},\"id\":\"7350\",\"type\":\"GlyphRenderer\"},{\"attributes\":{},\"id\":\"7321\",\"type\":\"AllLabels\"},{\"attributes\":{\"label\":{\"value\":\"CPI\"},\"renderers\":[{\"id\":\"7350\"}]},\"id\":\"7366\",\"type\":\"LegendItem\"},{\"attributes\":{},\"id\":\"7298\",\"type\":\"SaveTool\"},{\"attributes\":{\"source\":{\"id\":\"7346\"}},\"id\":\"7351\",\"type\":\"CDSView\"},{\"attributes\":{\"coordinates\":null,\"formatter\":{\"id\":\"7317\"},\"group\":null,\"major_label_policy\":{\"id\":\"7318\"},\"ticker\":{\"id\":\"7292\"}},\"id\":\"7291\",\"type\":\"LinearAxis\"},{\"attributes\":{\"line_alpha\":0.1,\"line_color\":\"orange\",\"line_dash\":[6],\"line_width\":2.5,\"x\":{\"field\":\"x\"},\"y\":{\"field\":\"y\"}},\"id\":\"7348\",\"type\":\"Line\"},{\"attributes\":{},\"id\":\"7300\",\"type\":\"HelpTool\"},{\"attributes\":{\"axis\":{\"id\":\"7287\"},\"coordinates\":null,\"group\":null,\"ticker\":null},\"id\":\"7290\",\"type\":\"Grid\"},{\"attributes\":{},\"id\":\"7283\",\"type\":\"LinearScale\"},{\"attributes\":{},\"id\":\"7299\",\"type\":\"ResetTool\"},{\"attributes\":{},\"id\":\"7323\",\"type\":\"Selection\"},{\"attributes\":{},\"id\":\"7279\",\"type\":\"DataRange1d\"},{\"attributes\":{\"line_color\":\"orange\",\"line_dash\":[6],\"line_width\":2.5,\"x\":{\"field\":\"x\"},\"y\":{\"field\":\"y\"}},\"id\":\"7347\",\"type\":\"Line\"},{\"attributes\":{\"bottom_units\":\"screen\",\"coordinates\":null,\"fill_alpha\":0.5,\"fill_color\":\"lightgrey\",\"group\":null,\"left_units\":\"screen\",\"level\":\"overlay\",\"line_alpha\":1.0,\"line_color\":\"black\",\"line_dash\":[4,4],\"line_width\":2,\"right_units\":\"screen\",\"syncable\":false,\"top_units\":\"screen\"},\"id\":\"7301\",\"type\":\"BoxAnnotation\"},{\"attributes\":{},\"id\":\"7285\",\"type\":\"LinearScale\"},{\"attributes\":{\"overlay\":{\"id\":\"7301\"}},\"id\":\"7297\",\"type\":\"BoxZoomTool\"},{\"attributes\":{},\"id\":\"7322\",\"type\":\"UnionRenderers\"},{\"attributes\":{},\"id\":\"7281\",\"type\":\"DataRange1d\"},{\"attributes\":{},\"id\":\"7320\",\"type\":\"BasicTickFormatter\"},{\"attributes\":{\"coordinates\":null,\"group\":null,\"text\":\"CPI Predictions with SARIMAX (2,0,1)\"},\"id\":\"7277\",\"type\":\"Title\"},{\"attributes\":{\"source\":{\"id\":\"7327\"}},\"id\":\"7332\",\"type\":\"CDSView\"},{\"attributes\":{\"line_color\":\"orangered\",\"line_width\":2.5,\"x\":{\"field\":\"x\"},\"y\":{\"field\":\"y\"}},\"id\":\"7368\",\"type\":\"Line\"},{\"attributes\":{},\"id\":\"7364\",\"type\":\"Selection\"},{\"attributes\":{\"data\":{\"x\":[0,1,2,3,4,5,6,7,8,9,10,11,12,13,14,15,16,17,18,19,20,21,22,23,24,25,26,27,28,29,30,31,32,33,34,35,36,37,38,39,40,41,42,43,44,45,46,47,48,49,50,51,52,53,54,55,56,57,58,59],\"y\":{\"__ndarray__\":\"aqLmA46M2b8NyEZkI7LBv8s6UyGGKfC/8V/RCQGl/r9JaRANQozwvzRO8Zn52ts/AUtUbFvT3z8GqPxVgCDPP+NTUyET9M8/aXcIJwN90j9umD7I0nzrPxIAF0fFS8S/6+VLxY61zD9qMYVSawOwP9vqMKjyp7g/pkll6Ycdsj/0zQT/xYrGv+3yxCAr39U/xt1tHECFmT+gv8vVy0faP3U2fcx3O8Y/XBK/PWbXsz++5sCcjv64vx1uqvgEoZU/Kz6KdjCswT+1apxD8sitPxqXuojN4L8/jQR2+OKIpT/qDbr1eADGP5GHtSLSe94/DOr9aWOP3z/Jgw1+5zPvP8tMzx3qmuQ/j0Vq77gc3j9I13JM9Wq7vwwf7TuyrrY/FFnMfcml0T9RtxVpXW/DPxxlrp2mZ8q/cubr6hmZtb/SPEhm95HPv2+ZcWwlKdw/77yCNfEt3D8MFFR8vE3oP4P/t5iPVdM/2H1GPwQLvr9RJJK2u8TCv5WJV+7V28S/huSfshnP4T/jUKo+1Y7cP84p6jlQ8qO/cCalBzJT3r/r61ByoDvRv835290f7dI/IZfx7SY16j/Njq9nj7vQP3c9RVylnbq/1H5bIAPKxj91j/atYbjOPzz6+3gAM6Q/\",\"dtype\":\"float64\",\"order\":\"little\",\"shape\":[60]}},\"selected\":{\"id\":\"7323\"},\"selection_policy\":{\"id\":\"7322\"}},\"id\":\"7309\",\"type\":\"ColumnDataSource\"},{\"attributes\":{},\"id\":\"7387\",\"type\":\"Selection\"},{\"attributes\":{\"line_alpha\":0.1,\"line_color\":\"lightgreen\",\"line_dash\":[6],\"line_width\":2.5,\"x\":{\"field\":\"x\"},\"y\":{\"field\":\"y\"}},\"id\":\"7311\",\"type\":\"Line\"},{\"attributes\":{},\"id\":\"7317\",\"type\":\"BasicTickFormatter\"},{\"attributes\":{},\"id\":\"7318\",\"type\":\"AllLabels\"},{\"attributes\":{\"ticks\":[0,35,70,105,140]},\"id\":\"7390\",\"type\":\"FixedTicker\"},{\"attributes\":{\"label\":{\"value\":\"Final Model (Training Data Fit)\"},\"renderers\":[{\"id\":\"7331\"}]},\"id\":\"7345\",\"type\":\"LegendItem\"},{\"attributes\":{\"tools\":[{\"id\":\"7295\"},{\"id\":\"7296\"},{\"id\":\"7297\"},{\"id\":\"7298\"},{\"id\":\"7299\"},{\"id\":\"7300\"}]},\"id\":\"7302\",\"type\":\"Toolbar\"},{\"attributes\":{\"source\":{\"id\":\"7367\"}},\"id\":\"7372\",\"type\":\"CDSView\"},{\"attributes\":{\"label\":{\"value\":\"Final  Model Predictions\"},\"renderers\":[{\"id\":\"7371\"}]},\"id\":\"7389\",\"type\":\"LegendItem\"},{\"attributes\":{\"coordinates\":null,\"data_source\":{\"id\":\"7367\"},\"glyph\":{\"id\":\"7368\"},\"group\":null,\"hover_glyph\":null,\"muted_glyph\":{\"id\":\"7370\"},\"nonselection_glyph\":{\"id\":\"7369\"},\"view\":{\"id\":\"7372\"}},\"id\":\"7371\",\"type\":\"GlyphRenderer\"},{\"attributes\":{\"line_alpha\":0.1,\"line_color\":\"orangered\",\"line_width\":2.5,\"x\":{\"field\":\"x\"},\"y\":{\"field\":\"y\"}},\"id\":\"7369\",\"type\":\"Line\"},{\"attributes\":{},\"id\":\"7386\",\"type\":\"UnionRenderers\"},{\"attributes\":{\"line_alpha\":0.1,\"line_color\":\"green\",\"line_width\":2.5,\"x\":{\"field\":\"x\"},\"y\":{\"field\":\"y\"}},\"id\":\"7329\",\"type\":\"Line\"},{\"attributes\":{\"line_alpha\":0.2,\"line_color\":\"orangered\",\"line_width\":2.5,\"x\":{\"field\":\"x\"},\"y\":{\"field\":\"y\"}},\"id\":\"7370\",\"type\":\"Line\"},{\"attributes\":{\"line_alpha\":0.2,\"line_color\":\"lightgreen\",\"line_dash\":[6],\"line_width\":2.5,\"x\":{\"field\":\"x\"},\"y\":{\"field\":\"y\"}},\"id\":\"7312\",\"type\":\"Line\"},{\"attributes\":{\"coordinates\":null,\"data_source\":{\"id\":\"7309\"},\"glyph\":{\"id\":\"7310\"},\"group\":null,\"hover_glyph\":null,\"muted_glyph\":{\"id\":\"7312\"},\"nonselection_glyph\":{\"id\":\"7311\"},\"view\":{\"id\":\"7314\"}},\"id\":\"7313\",\"type\":\"GlyphRenderer\"},{\"attributes\":{\"line_color\":\"green\",\"line_width\":2.5,\"x\":{\"field\":\"x\"},\"y\":{\"field\":\"y\"}},\"id\":\"7328\",\"type\":\"Line\"},{\"attributes\":{},\"id\":\"7363\",\"type\":\"UnionRenderers\"},{\"attributes\":{\"coordinates\":null,\"formatter\":{\"id\":\"7320\"},\"group\":null,\"major_label_overrides\":{\"0\":\"2008\",\"105\":\"2017\",\"140\":\"2020\",\"35\":\"2011\",\"70\":\"2014\"},\"major_label_policy\":{\"id\":\"7321\"},\"ticker\":{\"id\":\"7390\"}},\"id\":\"7287\",\"type\":\"LinearAxis\"},{\"attributes\":{\"line_alpha\":0.2,\"line_color\":\"orange\",\"line_dash\":[6],\"line_width\":2.5,\"x\":{\"field\":\"x\"},\"y\":{\"field\":\"y\"}},\"id\":\"7349\",\"type\":\"Line\"},{\"attributes\":{\"axis\":{\"id\":\"7291\"},\"coordinates\":null,\"dimension\":1,\"group\":null,\"ticker\":null},\"id\":\"7294\",\"type\":\"Grid\"},{\"attributes\":{\"source\":{\"id\":\"7309\"}},\"id\":\"7314\",\"type\":\"CDSView\"},{\"attributes\":{\"data\":{\"x\":[62,63,64,65,66,67,68,69,70,71,72,73,74,75,76,77,78,79,80,81,82,83,84,85,86,87,88,89,90,91,92,93,94,95,96,97,98,99,100,101,102,103,104,105,106,107,108,109,110,111,112,113,114,115,116,117,118,119,120,121,122,123,124,125,126,127,128,129,130,131,132,133,134,135,136],\"y\":{\"__ndarray__\":\"/kV3bFzKvj+2hVW5f8W9P0zgs4a4e9C/TtfdG9kkyr/r2pIIPH+Bv2yf6iLdztc/mCUwMnuq1z+r3ec6uZvkP8dzp6FFGdU/bPbCS0Na1j8PDKfwMtfHP+thAtsl+qO/XOTlL0Zixb9MTR+BxkOzP3NceuFCFNC/X5A8U1RH4b/gpMX/siTiv/7A12I9Ht6/iP1KErDK2z8iEIAkHgzjPyhHF4FtBso/ZX00NERP4D+tl8dOTGvWPxQlWjfBans/J5GyZs0hwr9viuPSr+vDv5+dmhAfBqe/PXH1vL4Dy7+AeGFRld/Vv6SuKgoyKcU/Dfa2UR8RtT8pJywX447bP1V6No5aWN4/nrPoDuHk2T/Nc/Q+bAXVP6W4/XFOuMS/yBdC7BuDtz8F0pjBM8XOP8vgmHQe7b8/gsv+hefnw7+ZgNZc18GgP4yaNlkBpuI/oC5GvM4h1D8Kdy9Zfs+0P86Bgfp9+tI/A8WA36fgtT9STalfcju3P5w8Lkx5p7G/Jz32cdgo0z+0vJJBhfHgPwTCayu+KLC/INac0QmfYz/KF8ewyByuv1JDhqwUb+E/aAKNafsF3T9yVQEDZvHMP3gVj8oNcNk/yKLJFPOd2j9GuqbS9GfEP+MB9MkYY3s/Mr6X+cRzrD+m2c0YRr+9P5Cl1u90n8Y/KtD8QMhv1b8ET1lkHnHUv7diYvJZZ8g/Wvv7lc8M2z9gp6QqdQ3iP1z2nA4m8uA/5gleKy4/yz+zzfGI32KUP3opTvNdY8U/8Gtcr6D1dL8AAAAAAAD4fwAAAAAAAPh/\",\"dtype\":\"float64\",\"order\":\"little\",\"shape\":[75]}},\"selected\":{\"id\":\"7364\"},\"selection_policy\":{\"id\":\"7363\"}},\"id\":\"7346\",\"type\":\"ColumnDataSource\"},{\"attributes\":{\"line_color\":\"lightgreen\",\"line_dash\":[6],\"line_width\":2.5,\"x\":{\"field\":\"x\"},\"y\":{\"field\":\"y\"}},\"id\":\"7310\",\"type\":\"Line\"},{\"attributes\":{\"coordinates\":null,\"group\":null,\"items\":[{\"id\":\"7326\"},{\"id\":\"7345\"},{\"id\":\"7366\"},{\"id\":\"7389\"}],\"location\":\"bottom_right\"},\"id\":\"7325\",\"type\":\"Legend\"},{\"attributes\":{},\"id\":\"7292\",\"type\":\"BasicTicker\"},{\"attributes\":{\"label\":{\"value\":\"Training Data\"},\"renderers\":[{\"id\":\"7313\"}]},\"id\":\"7326\",\"type\":\"LegendItem\"},{\"attributes\":{\"data\":{\"x\":[0,1,2,3,4,5,6,7,8,9,10,11,12,13,14,15,16,17,18,19,20,21,22,23,24,25,26,27,28,29,30,31,32,33,34,35,36,37,38,39,40,41,42,43,44,45,46,47,48,49,50,51,52,53,54,55,56,57],\"y\":{\"__ndarray__\":\"5CmhW04m2r+3BcTCBhPdvxN49XAUy96/CJqw2cFRor9wEhYRRY3cP9C6kmexZeA/1kplARaq2T/CRWF8E8DWPxC62B/ge9c/QL7cCm9U4D/W/wNyDe2sP7toT3wAfM4/Mrv88Lwizj9d4ru3bp27P+QLdKNclNQ/oDifWvbZZT/5iG99Dd7eP5AmB+JP5c4/LIJ0euT91z8oW1fZogmwP5nmtx97VdM/+i7iLQS6tT/vtNEDQJbFP8Fs/Sl7zNU/Cyh50lWbzj9aOrajN5fPP7VxwI/bytA/+wKyJ3+J0z9aVUX5+yfcP74MpOl4aOA/OJ3lbA8S4T+Nnr00wmPBP6yDWHcKddA/UHczs4Mvqr/PycxheSywP2r01qyCKJA/afeecWlesj+sGPzmWQDGv4EGxhIVCL0/cLI+fmS5tD8UW4Jz+rXbP2IRlPkYIM4/ZGrXxxnwyT/6QZ02PsWSPzICxKnSzLC/vDKUUwL3xT8g6G2kRXejP+XqxeYdnsw/4oLuww1rsj+IxS4OqFqlv0aXDT6mALi/aR7ZE1Oi0D97NYMuAdnKP4QdwSLfPdY/9w1oMzYtyT/AO3ca0thhv+B3Aw1knMA/bp0t8yxoxT8=\",\"dtype\":\"float64\",\"order\":\"little\",\"shape\":[58]}},\"selected\":{\"id\":\"7343\"},\"selection_policy\":{\"id\":\"7342\"}},\"id\":\"7327\",\"type\":\"ColumnDataSource\"}],\"root_ids\":[\"7276\"]},\"title\":\"Bokeh Application\",\"version\":\"2.4.1\"}};\n",
       "  const render_items = [{\"docid\":\"fb9ca0a8-32bd-445b-8307-9378b370a40d\",\"root_ids\":[\"7276\"],\"roots\":{\"7276\":\"18e67851-513b-4528-9b13-8c174b30871e\"}}];\n",
       "  root.Bokeh.embed.embed_items_notebook(docs_json, render_items);\n",
       "\n",
       "  }\n",
       "  if (root.Bokeh !== undefined) {\n",
       "    embed_document(root);\n",
       "  } else {\n",
       "    let attempts = 0;\n",
       "    const timer = setInterval(function(root) {\n",
       "      if (root.Bokeh !== undefined) {\n",
       "        clearInterval(timer);\n",
       "        embed_document(root);\n",
       "      } else {\n",
       "        attempts++;\n",
       "        if (attempts > 100) {\n",
       "          clearInterval(timer);\n",
       "          console.log(\"Bokeh: ERROR: Unable to run BokehJS code because BokehJS library is missing\");\n",
       "        }\n",
       "      }\n",
       "    }, 10, root)\n",
       "  }\n",
       "})(window);"
      ],
      "application/vnd.bokehjs_exec.v0+json": ""
     },
     "metadata": {
      "application/vnd.bokehjs_exec.v0+json": {
       "id": "7276"
      }
     },
     "output_type": "display_data"
    }
   ],
   "source": [
    "# Plotting predictions\n",
    "\n",
    "p = figure(plot_width=800, plot_height=600, title = \"CPI Predictions with SARIMAX (2,0,1)\")\n",
    "p.line(range(len(endogenous+2)), endogenous, line_width =2.5, line_color=\"lightgreen\", line_dash=\"dashed\", legend_label =\"Training Data\")\n",
    "p.line(range(len(training_predictions_sarimax_2+2)), training_predictions_sarimax_2, line_color=\"green\", line_width=2.5, legend_label =\"Final Model (Training Data Fit)\")\n",
    "p.line(cpi_test.index ,cpi_test.IR, line_width =2.5, line_color=\"orange\", line_dash=\"dashed\", legend_label =\"CPI\")\n",
    "p.line(cpi_test.index[:-1], test_predictions_sarimax_2[:-1], line_color=\"orangered\", line_width=2.5, legend_label =\"Final  Model Predictions\")\n",
    "p.xaxis.ticker = [0, 35, 70, 105, 140]\n",
    "p.xaxis.major_label_overrides = {0: '2008', 35: '2011', 70: '2014', 105: '2017', 140: '2020'}\n",
    "p.legend.location ='bottom_right'\n",
    "show(p)"
   ]
  },
  {
   "cell_type": "markdown",
   "metadata": {},
   "source": [
    "We could see from the cross correlation plots that the lag extends to two periods in the past and extending beyond this, the variables do not correlate anymore, and thus we shouldn't expect to gain more predictive power by adding any more lag components to the model. The CPI also doesn't show any seasonality so this option is also excluded from the options. We could try to add some other components to the model like a moving average, but as we can see from the results, the prediction doesn't get any better: now the model becomes too caucious in fitting the model and the opposite in the predictions. By increasing the number of components the results get even worse so the only way to actually improve the model would be to get some other external regressors (i.e. more data) that would correlate well with the CPI in such a away that it would help to predict the forecast of CPI even better than what we have achieved now."
   ]
  }
 ],
 "metadata": {
  "kernelspec": {
   "display_name": "Python 3",
   "language": "python",
   "name": "python3"
  },
  "language_info": {
   "codemirror_mode": {
    "name": "ipython",
    "version": 3
   },
   "file_extension": ".py",
   "mimetype": "text/x-python",
   "name": "python",
   "nbconvert_exporter": "python",
   "pygments_lexer": "ipython3",
   "version": "3.8.5"
  }
 },
 "nbformat": 4,
 "nbformat_minor": 4
}
