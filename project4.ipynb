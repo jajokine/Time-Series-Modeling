{
 "cells": [
  {
   "cell_type": "markdown",
   "metadata": {},
   "source": [
    "## MITx 6.419x - Data Analysis: Statistical Modeling and Computation in Applications\n",
    "\n",
    "# Module 4 - Time Series Analysis"
   ]
  },
  {
   "cell_type": "code",
   "execution_count": 1404,
   "metadata": {},
   "outputs": [
    {
     "data": {
      "text/html": [
       "\n",
       "    <div class=\"bk-root\">\n",
       "        <a href=\"https://bokeh.org\" target=\"_blank\" class=\"bk-logo bk-logo-small bk-logo-notebook\"></a>\n",
       "        <span id=\"482642\">Loading BokehJS ...</span>\n",
       "    </div>"
      ]
     },
     "metadata": {},
     "output_type": "display_data"
    },
    {
     "data": {
      "application/javascript": [
       "\n",
       "(function(root) {\n",
       "  function now() {\n",
       "    return new Date();\n",
       "  }\n",
       "\n",
       "  const force = true;\n",
       "\n",
       "  if (typeof root._bokeh_onload_callbacks === \"undefined\" || force === true) {\n",
       "    root._bokeh_onload_callbacks = [];\n",
       "    root._bokeh_is_loading = undefined;\n",
       "  }\n",
       "\n",
       "  const JS_MIME_TYPE = 'application/javascript';\n",
       "  const HTML_MIME_TYPE = 'text/html';\n",
       "  const EXEC_MIME_TYPE = 'application/vnd.bokehjs_exec.v0+json';\n",
       "  const CLASS_NAME = 'output_bokeh rendered_html';\n",
       "\n",
       "  /**\n",
       "   * Render data to the DOM node\n",
       "   */\n",
       "  function render(props, node) {\n",
       "    const script = document.createElement(\"script\");\n",
       "    node.appendChild(script);\n",
       "  }\n",
       "\n",
       "  /**\n",
       "   * Handle when an output is cleared or removed\n",
       "   */\n",
       "  function handleClearOutput(event, handle) {\n",
       "    const cell = handle.cell;\n",
       "\n",
       "    const id = cell.output_area._bokeh_element_id;\n",
       "    const server_id = cell.output_area._bokeh_server_id;\n",
       "    // Clean up Bokeh references\n",
       "    if (id != null && id in Bokeh.index) {\n",
       "      Bokeh.index[id].model.document.clear();\n",
       "      delete Bokeh.index[id];\n",
       "    }\n",
       "\n",
       "    if (server_id !== undefined) {\n",
       "      // Clean up Bokeh references\n",
       "      const cmd_clean = \"from bokeh.io.state import curstate; print(curstate().uuid_to_server['\" + server_id + \"'].get_sessions()[0].document.roots[0]._id)\";\n",
       "      cell.notebook.kernel.execute(cmd_clean, {\n",
       "        iopub: {\n",
       "          output: function(msg) {\n",
       "            const id = msg.content.text.trim();\n",
       "            if (id in Bokeh.index) {\n",
       "              Bokeh.index[id].model.document.clear();\n",
       "              delete Bokeh.index[id];\n",
       "            }\n",
       "          }\n",
       "        }\n",
       "      });\n",
       "      // Destroy server and session\n",
       "      const cmd_destroy = \"import bokeh.io.notebook as ion; ion.destroy_server('\" + server_id + \"')\";\n",
       "      cell.notebook.kernel.execute(cmd_destroy);\n",
       "    }\n",
       "  }\n",
       "\n",
       "  /**\n",
       "   * Handle when a new output is added\n",
       "   */\n",
       "  function handleAddOutput(event, handle) {\n",
       "    const output_area = handle.output_area;\n",
       "    const output = handle.output;\n",
       "\n",
       "    // limit handleAddOutput to display_data with EXEC_MIME_TYPE content only\n",
       "    if ((output.output_type != \"display_data\") || (!Object.prototype.hasOwnProperty.call(output.data, EXEC_MIME_TYPE))) {\n",
       "      return\n",
       "    }\n",
       "\n",
       "    const toinsert = output_area.element.find(\".\" + CLASS_NAME.split(' ')[0]);\n",
       "\n",
       "    if (output.metadata[EXEC_MIME_TYPE][\"id\"] !== undefined) {\n",
       "      toinsert[toinsert.length - 1].firstChild.textContent = output.data[JS_MIME_TYPE];\n",
       "      // store reference to embed id on output_area\n",
       "      output_area._bokeh_element_id = output.metadata[EXEC_MIME_TYPE][\"id\"];\n",
       "    }\n",
       "    if (output.metadata[EXEC_MIME_TYPE][\"server_id\"] !== undefined) {\n",
       "      const bk_div = document.createElement(\"div\");\n",
       "      bk_div.innerHTML = output.data[HTML_MIME_TYPE];\n",
       "      const script_attrs = bk_div.children[0].attributes;\n",
       "      for (let i = 0; i < script_attrs.length; i++) {\n",
       "        toinsert[toinsert.length - 1].firstChild.setAttribute(script_attrs[i].name, script_attrs[i].value);\n",
       "        toinsert[toinsert.length - 1].firstChild.textContent = bk_div.children[0].textContent\n",
       "      }\n",
       "      // store reference to server id on output_area\n",
       "      output_area._bokeh_server_id = output.metadata[EXEC_MIME_TYPE][\"server_id\"];\n",
       "    }\n",
       "  }\n",
       "\n",
       "  function register_renderer(events, OutputArea) {\n",
       "\n",
       "    function append_mime(data, metadata, element) {\n",
       "      // create a DOM node to render to\n",
       "      const toinsert = this.create_output_subarea(\n",
       "        metadata,\n",
       "        CLASS_NAME,\n",
       "        EXEC_MIME_TYPE\n",
       "      );\n",
       "      this.keyboard_manager.register_events(toinsert);\n",
       "      // Render to node\n",
       "      const props = {data: data, metadata: metadata[EXEC_MIME_TYPE]};\n",
       "      render(props, toinsert[toinsert.length - 1]);\n",
       "      element.append(toinsert);\n",
       "      return toinsert\n",
       "    }\n",
       "\n",
       "    /* Handle when an output is cleared or removed */\n",
       "    events.on('clear_output.CodeCell', handleClearOutput);\n",
       "    events.on('delete.Cell', handleClearOutput);\n",
       "\n",
       "    /* Handle when a new output is added */\n",
       "    events.on('output_added.OutputArea', handleAddOutput);\n",
       "\n",
       "    /**\n",
       "     * Register the mime type and append_mime function with output_area\n",
       "     */\n",
       "    OutputArea.prototype.register_mime_type(EXEC_MIME_TYPE, append_mime, {\n",
       "      /* Is output safe? */\n",
       "      safe: true,\n",
       "      /* Index of renderer in `output_area.display_order` */\n",
       "      index: 0\n",
       "    });\n",
       "  }\n",
       "\n",
       "  // register the mime type if in Jupyter Notebook environment and previously unregistered\n",
       "  if (root.Jupyter !== undefined) {\n",
       "    const events = require('base/js/events');\n",
       "    const OutputArea = require('notebook/js/outputarea').OutputArea;\n",
       "\n",
       "    if (OutputArea.prototype.mime_types().indexOf(EXEC_MIME_TYPE) == -1) {\n",
       "      register_renderer(events, OutputArea);\n",
       "    }\n",
       "  }\n",
       "\n",
       "  \n",
       "  if (typeof (root._bokeh_timeout) === \"undefined\" || force === true) {\n",
       "    root._bokeh_timeout = Date.now() + 5000;\n",
       "    root._bokeh_failed_load = false;\n",
       "  }\n",
       "\n",
       "  const NB_LOAD_WARNING = {'data': {'text/html':\n",
       "     \"<div style='background-color: #fdd'>\\n\"+\n",
       "     \"<p>\\n\"+\n",
       "     \"BokehJS does not appear to have successfully loaded. If loading BokehJS from CDN, this \\n\"+\n",
       "     \"may be due to a slow or bad network connection. Possible fixes:\\n\"+\n",
       "     \"</p>\\n\"+\n",
       "     \"<ul>\\n\"+\n",
       "     \"<li>re-rerun `output_notebook()` to attempt to load from CDN again, or</li>\\n\"+\n",
       "     \"<li>use INLINE resources instead, as so:</li>\\n\"+\n",
       "     \"</ul>\\n\"+\n",
       "     \"<code>\\n\"+\n",
       "     \"from bokeh.resources import INLINE\\n\"+\n",
       "     \"output_notebook(resources=INLINE)\\n\"+\n",
       "     \"</code>\\n\"+\n",
       "     \"</div>\"}};\n",
       "\n",
       "  function display_loaded() {\n",
       "    const el = document.getElementById(\"482642\");\n",
       "    if (el != null) {\n",
       "      el.textContent = \"BokehJS is loading...\";\n",
       "    }\n",
       "    if (root.Bokeh !== undefined) {\n",
       "      if (el != null) {\n",
       "        el.textContent = \"BokehJS \" + root.Bokeh.version + \" successfully loaded.\";\n",
       "      }\n",
       "    } else if (Date.now() < root._bokeh_timeout) {\n",
       "      setTimeout(display_loaded, 100)\n",
       "    }\n",
       "  }\n",
       "\n",
       "\n",
       "  function run_callbacks() {\n",
       "    try {\n",
       "      root._bokeh_onload_callbacks.forEach(function(callback) {\n",
       "        if (callback != null)\n",
       "          callback();\n",
       "      });\n",
       "    } finally {\n",
       "      delete root._bokeh_onload_callbacks\n",
       "    }\n",
       "    console.debug(\"Bokeh: all callbacks have finished\");\n",
       "  }\n",
       "\n",
       "  function load_libs(css_urls, js_urls, callback) {\n",
       "    if (css_urls == null) css_urls = [];\n",
       "    if (js_urls == null) js_urls = [];\n",
       "\n",
       "    root._bokeh_onload_callbacks.push(callback);\n",
       "    if (root._bokeh_is_loading > 0) {\n",
       "      console.debug(\"Bokeh: BokehJS is being loaded, scheduling callback at\", now());\n",
       "      return null;\n",
       "    }\n",
       "    if (js_urls == null || js_urls.length === 0) {\n",
       "      run_callbacks();\n",
       "      return null;\n",
       "    }\n",
       "    console.debug(\"Bokeh: BokehJS not loaded, scheduling load and callback at\", now());\n",
       "    root._bokeh_is_loading = css_urls.length + js_urls.length;\n",
       "\n",
       "    function on_load() {\n",
       "      root._bokeh_is_loading--;\n",
       "      if (root._bokeh_is_loading === 0) {\n",
       "        console.debug(\"Bokeh: all BokehJS libraries/stylesheets loaded\");\n",
       "        run_callbacks()\n",
       "      }\n",
       "    }\n",
       "\n",
       "    function on_error(url) {\n",
       "      console.error(\"failed to load \" + url);\n",
       "    }\n",
       "\n",
       "    for (let i = 0; i < css_urls.length; i++) {\n",
       "      const url = css_urls[i];\n",
       "      const element = document.createElement(\"link\");\n",
       "      element.onload = on_load;\n",
       "      element.onerror = on_error.bind(null, url);\n",
       "      element.rel = \"stylesheet\";\n",
       "      element.type = \"text/css\";\n",
       "      element.href = url;\n",
       "      console.debug(\"Bokeh: injecting link tag for BokehJS stylesheet: \", url);\n",
       "      document.body.appendChild(element);\n",
       "    }\n",
       "\n",
       "    for (let i = 0; i < js_urls.length; i++) {\n",
       "      const url = js_urls[i];\n",
       "      const element = document.createElement('script');\n",
       "      element.onload = on_load;\n",
       "      element.onerror = on_error.bind(null, url);\n",
       "      element.async = false;\n",
       "      element.src = url;\n",
       "      console.debug(\"Bokeh: injecting script tag for BokehJS library: \", url);\n",
       "      document.head.appendChild(element);\n",
       "    }\n",
       "  };\n",
       "\n",
       "  function inject_raw_css(css) {\n",
       "    const element = document.createElement(\"style\");\n",
       "    element.appendChild(document.createTextNode(css));\n",
       "    document.body.appendChild(element);\n",
       "  }\n",
       "\n",
       "  \n",
       "  const js_urls = [\"https://cdn.bokeh.org/bokeh/release/bokeh-2.4.1.min.js\", \"https://cdn.bokeh.org/bokeh/release/bokeh-gl-2.4.1.min.js\", \"https://cdn.bokeh.org/bokeh/release/bokeh-widgets-2.4.1.min.js\", \"https://cdn.bokeh.org/bokeh/release/bokeh-tables-2.4.1.min.js\", \"https://cdn.bokeh.org/bokeh/release/bokeh-mathjax-2.4.1.min.js\"];\n",
       "  const css_urls = [];\n",
       "  \n",
       "\n",
       "  const inline_js = [\n",
       "    function(Bokeh) {\n",
       "      Bokeh.set_log_level(\"info\");\n",
       "    },\n",
       "    function(Bokeh) {\n",
       "    \n",
       "    \n",
       "    }\n",
       "  ];\n",
       "\n",
       "  function run_inline_js() {\n",
       "    \n",
       "    if (root.Bokeh !== undefined || force === true) {\n",
       "      \n",
       "    for (let i = 0; i < inline_js.length; i++) {\n",
       "      inline_js[i].call(root, root.Bokeh);\n",
       "    }\n",
       "    if (force === true) {\n",
       "        display_loaded();\n",
       "      }} else if (Date.now() < root._bokeh_timeout) {\n",
       "      setTimeout(run_inline_js, 100);\n",
       "    } else if (!root._bokeh_failed_load) {\n",
       "      console.log(\"Bokeh: BokehJS failed to load within specified timeout.\");\n",
       "      root._bokeh_failed_load = true;\n",
       "    } else if (force !== true) {\n",
       "      const cell = $(document.getElementById(\"482642\")).parents('.cell').data().cell;\n",
       "      cell.output_area.append_execute_result(NB_LOAD_WARNING)\n",
       "    }\n",
       "\n",
       "  }\n",
       "\n",
       "  if (root._bokeh_is_loading === 0) {\n",
       "    console.debug(\"Bokeh: BokehJS loaded, going straight to plotting\");\n",
       "    run_inline_js();\n",
       "  } else {\n",
       "    load_libs(css_urls, js_urls, function() {\n",
       "      console.debug(\"Bokeh: BokehJS plotting callback run at\", now());\n",
       "      run_inline_js();\n",
       "    });\n",
       "  }\n",
       "}(window));"
      ],
      "application/vnd.bokehjs_load.v0+json": "\n(function(root) {\n  function now() {\n    return new Date();\n  }\n\n  const force = true;\n\n  if (typeof root._bokeh_onload_callbacks === \"undefined\" || force === true) {\n    root._bokeh_onload_callbacks = [];\n    root._bokeh_is_loading = undefined;\n  }\n\n  \n\n  \n  if (typeof (root._bokeh_timeout) === \"undefined\" || force === true) {\n    root._bokeh_timeout = Date.now() + 5000;\n    root._bokeh_failed_load = false;\n  }\n\n  const NB_LOAD_WARNING = {'data': {'text/html':\n     \"<div style='background-color: #fdd'>\\n\"+\n     \"<p>\\n\"+\n     \"BokehJS does not appear to have successfully loaded. If loading BokehJS from CDN, this \\n\"+\n     \"may be due to a slow or bad network connection. Possible fixes:\\n\"+\n     \"</p>\\n\"+\n     \"<ul>\\n\"+\n     \"<li>re-rerun `output_notebook()` to attempt to load from CDN again, or</li>\\n\"+\n     \"<li>use INLINE resources instead, as so:</li>\\n\"+\n     \"</ul>\\n\"+\n     \"<code>\\n\"+\n     \"from bokeh.resources import INLINE\\n\"+\n     \"output_notebook(resources=INLINE)\\n\"+\n     \"</code>\\n\"+\n     \"</div>\"}};\n\n  function display_loaded() {\n    const el = document.getElementById(\"482642\");\n    if (el != null) {\n      el.textContent = \"BokehJS is loading...\";\n    }\n    if (root.Bokeh !== undefined) {\n      if (el != null) {\n        el.textContent = \"BokehJS \" + root.Bokeh.version + \" successfully loaded.\";\n      }\n    } else if (Date.now() < root._bokeh_timeout) {\n      setTimeout(display_loaded, 100)\n    }\n  }\n\n\n  function run_callbacks() {\n    try {\n      root._bokeh_onload_callbacks.forEach(function(callback) {\n        if (callback != null)\n          callback();\n      });\n    } finally {\n      delete root._bokeh_onload_callbacks\n    }\n    console.debug(\"Bokeh: all callbacks have finished\");\n  }\n\n  function load_libs(css_urls, js_urls, callback) {\n    if (css_urls == null) css_urls = [];\n    if (js_urls == null) js_urls = [];\n\n    root._bokeh_onload_callbacks.push(callback);\n    if (root._bokeh_is_loading > 0) {\n      console.debug(\"Bokeh: BokehJS is being loaded, scheduling callback at\", now());\n      return null;\n    }\n    if (js_urls == null || js_urls.length === 0) {\n      run_callbacks();\n      return null;\n    }\n    console.debug(\"Bokeh: BokehJS not loaded, scheduling load and callback at\", now());\n    root._bokeh_is_loading = css_urls.length + js_urls.length;\n\n    function on_load() {\n      root._bokeh_is_loading--;\n      if (root._bokeh_is_loading === 0) {\n        console.debug(\"Bokeh: all BokehJS libraries/stylesheets loaded\");\n        run_callbacks()\n      }\n    }\n\n    function on_error(url) {\n      console.error(\"failed to load \" + url);\n    }\n\n    for (let i = 0; i < css_urls.length; i++) {\n      const url = css_urls[i];\n      const element = document.createElement(\"link\");\n      element.onload = on_load;\n      element.onerror = on_error.bind(null, url);\n      element.rel = \"stylesheet\";\n      element.type = \"text/css\";\n      element.href = url;\n      console.debug(\"Bokeh: injecting link tag for BokehJS stylesheet: \", url);\n      document.body.appendChild(element);\n    }\n\n    for (let i = 0; i < js_urls.length; i++) {\n      const url = js_urls[i];\n      const element = document.createElement('script');\n      element.onload = on_load;\n      element.onerror = on_error.bind(null, url);\n      element.async = false;\n      element.src = url;\n      console.debug(\"Bokeh: injecting script tag for BokehJS library: \", url);\n      document.head.appendChild(element);\n    }\n  };\n\n  function inject_raw_css(css) {\n    const element = document.createElement(\"style\");\n    element.appendChild(document.createTextNode(css));\n    document.body.appendChild(element);\n  }\n\n  \n  const js_urls = [\"https://cdn.bokeh.org/bokeh/release/bokeh-2.4.1.min.js\", \"https://cdn.bokeh.org/bokeh/release/bokeh-gl-2.4.1.min.js\", \"https://cdn.bokeh.org/bokeh/release/bokeh-widgets-2.4.1.min.js\", \"https://cdn.bokeh.org/bokeh/release/bokeh-tables-2.4.1.min.js\", \"https://cdn.bokeh.org/bokeh/release/bokeh-mathjax-2.4.1.min.js\"];\n  const css_urls = [];\n  \n\n  const inline_js = [\n    function(Bokeh) {\n      Bokeh.set_log_level(\"info\");\n    },\n    function(Bokeh) {\n    \n    \n    }\n  ];\n\n  function run_inline_js() {\n    \n    if (root.Bokeh !== undefined || force === true) {\n      \n    for (let i = 0; i < inline_js.length; i++) {\n      inline_js[i].call(root, root.Bokeh);\n    }\n    if (force === true) {\n        display_loaded();\n      }} else if (Date.now() < root._bokeh_timeout) {\n      setTimeout(run_inline_js, 100);\n    } else if (!root._bokeh_failed_load) {\n      console.log(\"Bokeh: BokehJS failed to load within specified timeout.\");\n      root._bokeh_failed_load = true;\n    } else if (force !== true) {\n      const cell = $(document.getElementById(\"482642\")).parents('.cell').data().cell;\n      cell.output_area.append_execute_result(NB_LOAD_WARNING)\n    }\n\n  }\n\n  if (root._bokeh_is_loading === 0) {\n    console.debug(\"Bokeh: BokehJS loaded, going straight to plotting\");\n    run_inline_js();\n  } else {\n    load_libs(css_urls, js_urls, function() {\n      console.debug(\"Bokeh: BokehJS plotting callback run at\", now());\n      run_inline_js();\n    });\n  }\n}(window));"
     },
     "metadata": {},
     "output_type": "display_data"
    }
   ],
   "source": [
    "# Loading modules \n",
    "\n",
    "import pandas as pd\n",
    "import numpy as np\n",
    "import os\n",
    "\n",
    "import matplotlib as mpl\n",
    "from matplotlib import pyplot as plt\n",
    "from itertools import chain \n",
    "\n",
    "# Visualization tools\n",
    "\n",
    "from bokeh.plotting import figure\n",
    "from bokeh.io import output_notebook, show, export_png\n",
    "output_notebook()\n",
    "\n",
    "# Modeling tools\n",
    "\n",
    "from sklearn.metrics import mean_absolute_percentage_error, mean_squared_error\n",
    "from sklearn.linear_model import LinearRegression, SGDRegressor, LogisticRegression\n",
    "from sklearn.pipeline import make_pipeline\n",
    "from sklearn.preprocessing import StandardScaler, PolynomialFeatures\n",
    "\n",
    "import scipy\n",
    "\n",
    "import statsmodels.api as sm\n",
    "from statsmodels.graphics.tsaplots import plot_acf,plot_pacf\n",
    "from statsmodels.tsa.ar_model import AutoReg\n",
    "\n",
    "# Ignoring warnings\n",
    "\n",
    "import warnings\n",
    "warnings.filterwarnings('ignore')"
   ]
  },
  {
   "cell_type": "markdown",
   "metadata": {},
   "source": [
    "# The Mauna Loa $CO_2$ Concentration\n",
    "\n",
    "In 1958, Charles David Keeling (1928-2005) from Scripps Instituion of Ocenography began recording carbon dioxide ($CO_2$) concentrations in the atmosphere at an observatory located at about 3,400 m altitude on the Mauna Loa Volcano on Hawaii Island. The location was chosen because it is not influenced by changing $CO_2$ levels due to the local vegetation and because prevailing wind patterns on this tropical island tend to bring well-mixed air to the site. While the recordings are made near a volcano (which tends to produce $CO_2$) wind patterns tend to blow the volcanic $CO_2$ away from the recording site. Air samples are taken several times a day, and concentrations have been observed using the same measuring method for over 60 years. In addition, samples are stored in flasks and periodically reanalyzed for calibration purposes. The observational study is now run by Ralph Keeling, Charle's son. The result is a data set with very few interruptions and very few inhomogeneities. It has been called the \"most important data set in modern climate research.\"\n",
    "\n",
    "The data set for this problem provides the concentration of $CO_2$ recorded at Mauna Loa for eah month starting March 1958. More description is provided in the data set file. We will be considwering only the $CO_2$ concentration given in column 5. The goal of the problem is to fit the data and understand its variations. You will encounter missing data points; part of the exervise is to deal with them appropriately.\n",
    "\n",
    "Let $C_i$ be the average $CO_2$ concentration in month $i$ ($i$ = 1,2,..., counting from March 1958). We will look for a description of the form:\n",
    "\n",
    "$$C_ i = F(t_ i) + P_ i + R_ i$$\n",
    "\n",
    "where:\n",
    "\n",
    "$F: t \\mapsto F(t)$ accounts for the long-term trend.\n",
    "\n",
    "$t_i$ is time at the middle of the $i$th month, measured in fractions of years after Jan 15, 1958.\n",
    "$P_i$ is periodic in $i$ with a fixed period, accounting for the seasonal pattern.\n",
    "\n",
    "$R_i$ is the remaining residual that accounts for all other influences.\n",
    "\n",
    "The decomposition is meaningful only if the range of $F$ is much larger than the amplitude of the $P_i$ and this amplitude in turn is substantially larger than that of $R_i$.\n",
    "\n",
    "You are required to split the data into training and test datasets - you can perform an 80:20 split. All model fitting should be done only on the training set and all the remaining data should be used for evaluation (for the purpose of model selection), i.e. prediction errors should be reportted with respect to the test set.\n",
    "\n",
    "You may notice that there are some inhomogeneities in data and the $CO_2$ concentration at these points is recorded as -99.99. Before proceeesing, we must clean the data. One simple way to do this is to drop all missing values from the table. For the purpose of the problems below, use this simple method of dropping all the missing values. Other methods include forward filling-fill missing values with previous values, and interpolation."
   ]
  },
  {
   "cell_type": "markdown",
   "metadata": {},
   "source": [
    "Now, fit the training data to a simple linear model $F_1(t) \\sim \\alpha _0 + \\alpha _1t$. Plot the data and the fit.\n",
    "\n",
    "<b> What are the values of $\\hat\\alpha_0$ and $\\hat\\alpha _1$ ?</b>"
   ]
  },
  {
   "cell_type": "code",
   "execution_count": 1405,
   "metadata": {},
   "outputs": [
    {
     "data": {
      "text/html": [
       "<div>\n",
       "<style scoped>\n",
       "    .dataframe tbody tr th:only-of-type {\n",
       "        vertical-align: middle;\n",
       "    }\n",
       "\n",
       "    .dataframe tbody tr th {\n",
       "        vertical-align: top;\n",
       "    }\n",
       "\n",
       "    .dataframe thead tr th {\n",
       "        text-align: left;\n",
       "    }\n",
       "</style>\n",
       "<table border=\"1\" class=\"dataframe\">\n",
       "  <thead>\n",
       "    <tr>\n",
       "      <th></th>\n",
       "      <th>Yr</th>\n",
       "      <th>Mn</th>\n",
       "      <th>Date</th>\n",
       "      <th>Date</th>\n",
       "      <th>CO2</th>\n",
       "      <th>seasonally</th>\n",
       "      <th>fit</th>\n",
       "      <th>seasonally</th>\n",
       "      <th>CO2</th>\n",
       "      <th>seasonally</th>\n",
       "    </tr>\n",
       "    <tr>\n",
       "      <th></th>\n",
       "      <th></th>\n",
       "      <th></th>\n",
       "      <th></th>\n",
       "      <th></th>\n",
       "      <th></th>\n",
       "      <th>adjusted</th>\n",
       "      <th></th>\n",
       "      <th>adjusted fit</th>\n",
       "      <th>filled</th>\n",
       "      <th>adjusted filled</th>\n",
       "    </tr>\n",
       "    <tr>\n",
       "      <th></th>\n",
       "      <th></th>\n",
       "      <th></th>\n",
       "      <th>Excel</th>\n",
       "      <th></th>\n",
       "      <th>[ppm]</th>\n",
       "      <th>[ppm]</th>\n",
       "      <th>[ppm]</th>\n",
       "      <th>[ppm]</th>\n",
       "      <th>[ppm]</th>\n",
       "      <th>[ppm]</th>\n",
       "    </tr>\n",
       "  </thead>\n",
       "  <tbody>\n",
       "    <tr>\n",
       "      <th>0</th>\n",
       "      <td>1958</td>\n",
       "      <td>1</td>\n",
       "      <td>21200</td>\n",
       "      <td>1958.0411</td>\n",
       "      <td>-99.99</td>\n",
       "      <td>-99.99</td>\n",
       "      <td>-99.99</td>\n",
       "      <td>-99.99</td>\n",
       "      <td>-99.99</td>\n",
       "      <td>-99.99</td>\n",
       "    </tr>\n",
       "    <tr>\n",
       "      <th>1</th>\n",
       "      <td>1958</td>\n",
       "      <td>2</td>\n",
       "      <td>21231</td>\n",
       "      <td>1958.1260</td>\n",
       "      <td>-99.99</td>\n",
       "      <td>-99.99</td>\n",
       "      <td>-99.99</td>\n",
       "      <td>-99.99</td>\n",
       "      <td>-99.99</td>\n",
       "      <td>-99.99</td>\n",
       "    </tr>\n",
       "    <tr>\n",
       "      <th>2</th>\n",
       "      <td>1958</td>\n",
       "      <td>3</td>\n",
       "      <td>21259</td>\n",
       "      <td>1958.2027</td>\n",
       "      <td>315.70</td>\n",
       "      <td>314.43</td>\n",
       "      <td>316.19</td>\n",
       "      <td>314.90</td>\n",
       "      <td>315.70</td>\n",
       "      <td>314.43</td>\n",
       "    </tr>\n",
       "    <tr>\n",
       "      <th>3</th>\n",
       "      <td>1958</td>\n",
       "      <td>4</td>\n",
       "      <td>21290</td>\n",
       "      <td>1958.2877</td>\n",
       "      <td>317.45</td>\n",
       "      <td>315.16</td>\n",
       "      <td>317.30</td>\n",
       "      <td>314.98</td>\n",
       "      <td>317.45</td>\n",
       "      <td>315.16</td>\n",
       "    </tr>\n",
       "    <tr>\n",
       "      <th>4</th>\n",
       "      <td>1958</td>\n",
       "      <td>5</td>\n",
       "      <td>21320</td>\n",
       "      <td>1958.3699</td>\n",
       "      <td>317.51</td>\n",
       "      <td>314.71</td>\n",
       "      <td>317.86</td>\n",
       "      <td>315.06</td>\n",
       "      <td>317.51</td>\n",
       "      <td>314.71</td>\n",
       "    </tr>\n",
       "  </tbody>\n",
       "</table>\n",
       "</div>"
      ],
      "text/plain": [
       "     Yr  Mn     Date       Date      CO2 seasonally         fit   seasonally  \\\n",
       "                                           adjusted             adjusted fit   \n",
       "               Excel               [ppm]     [ppm]        [ppm]        [ppm]   \n",
       "0  1958   1    21200  1958.0411   -99.99     -99.99      -99.99       -99.99   \n",
       "1  1958   2    21231  1958.1260   -99.99     -99.99      -99.99       -99.99   \n",
       "2  1958   3    21259  1958.2027   315.70     314.43      316.19       314.90   \n",
       "3  1958   4    21290  1958.2877   317.45     315.16      317.30       314.98   \n",
       "4  1958   5    21320  1958.3699   317.51     314.71      317.86       315.06   \n",
       "\n",
       "           CO2      seasonally  \n",
       "        filled adjusted filled  \n",
       "         [ppm]           [ppm]  \n",
       "0       -99.99          -99.99  \n",
       "1       -99.99          -99.99  \n",
       "2       315.70          314.43  \n",
       "3       317.45          315.16  \n",
       "4       317.51          314.71  "
      ]
     },
     "execution_count": 1405,
     "metadata": {},
     "output_type": "execute_result"
    }
   ],
   "source": [
    "# Loading data\n",
    "\n",
    "df = pd.read_csv(\"CO2.csv\", header=[0, 1, 2], comment='\"')\n",
    "df.head()"
   ]
  },
  {
   "cell_type": "code",
   "execution_count": 1406,
   "metadata": {},
   "outputs": [
    {
     "name": "stdout",
     "output_type": "stream",
     "text": [
      "<class 'pandas.core.frame.DataFrame'>\n",
      "RangeIndex: 744 entries, 0 to 743\n",
      "Data columns (total 10 columns):\n",
      " #   Column                                     Non-Null Count  Dtype  \n",
      "---  ------                                     --------------  -----  \n",
      " 0   (  Yr,     ,     )                         744 non-null    int64  \n",
      " 1   ( Mn,    ,    )                            744 non-null    int64  \n",
      " 2   (    Date,         ,    Excel)             744 non-null    int64  \n",
      " 3   (      Date,           ,           )       744 non-null    float64\n",
      " 4   (     CO2,         ,    [ppm])             744 non-null    float64\n",
      " 5   (seasonally,   adjusted,     [ppm] )       744 non-null    float64\n",
      " 6   (        fit,            ,       [ppm])    744 non-null    float64\n",
      " 7   (  seasonally, adjusted fit,     [ppm])    744 non-null    float64\n",
      " 8   (      CO2,    filled,        [ppm])       744 non-null    float64\n",
      " 9   ( seasonally, adjusted filled,     [ppm])  744 non-null    float64\n",
      "dtypes: float64(7), int64(3)\n",
      "memory usage: 58.2 KB\n"
     ]
    }
   ],
   "source": [
    "df.info()"
   ]
  },
  {
   "cell_type": "code",
   "execution_count": 1407,
   "metadata": {},
   "outputs": [
    {
     "data": {
      "text/plain": [
       "Index(['Yr', 'Mn', 'Date  Excel', 'Date', 'CO2  [ppm]',\n",
       "       'seasonally adjusted [ppm]', 'fit  [ppm]',\n",
       "       'seasonally adjusted fit [ppm]', 'CO2 filled [ppm]',\n",
       "       'seasonally adjusted filled [ppm]'],\n",
       "      dtype='object')"
      ]
     },
     "execution_count": 1407,
     "metadata": {},
     "output_type": "execute_result"
    }
   ],
   "source": [
    "# Fixing column names\n",
    "\n",
    "df.columns = [\n",
    "    \" \".join(\n",
    "        [col[0].strip(),\n",
    "         col[1].strip(),\n",
    "         col[2].strip()]\n",
    "    ).strip()\n",
    "    for col in df.columns.values\n",
    "]\n",
    "df.columns"
   ]
  },
  {
   "cell_type": "code",
   "execution_count": 1408,
   "metadata": {},
   "outputs": [],
   "source": [
    "# Creating a copy of the dataframe and preparing data\n",
    "\n",
    "co2 = df.copy()"
   ]
  },
  {
   "cell_type": "code",
   "execution_count": 1409,
   "metadata": {},
   "outputs": [
    {
     "data": {
      "text/html": [
       "<div>\n",
       "<style scoped>\n",
       "    .dataframe tbody tr th:only-of-type {\n",
       "        vertical-align: middle;\n",
       "    }\n",
       "\n",
       "    .dataframe tbody tr th {\n",
       "        vertical-align: top;\n",
       "    }\n",
       "\n",
       "    .dataframe thead th {\n",
       "        text-align: right;\n",
       "    }\n",
       "</style>\n",
       "<table border=\"1\" class=\"dataframe\">\n",
       "  <thead>\n",
       "    <tr style=\"text-align: right;\">\n",
       "      <th></th>\n",
       "      <th>Year</th>\n",
       "      <th>Month</th>\n",
       "      <th>CO2</th>\n",
       "    </tr>\n",
       "  </thead>\n",
       "  <tbody>\n",
       "    <tr>\n",
       "      <th>0</th>\n",
       "      <td>1958</td>\n",
       "      <td>1</td>\n",
       "      <td>-99.99</td>\n",
       "    </tr>\n",
       "    <tr>\n",
       "      <th>1</th>\n",
       "      <td>1958</td>\n",
       "      <td>2</td>\n",
       "      <td>-99.99</td>\n",
       "    </tr>\n",
       "    <tr>\n",
       "      <th>2</th>\n",
       "      <td>1958</td>\n",
       "      <td>3</td>\n",
       "      <td>315.70</td>\n",
       "    </tr>\n",
       "    <tr>\n",
       "      <th>3</th>\n",
       "      <td>1958</td>\n",
       "      <td>4</td>\n",
       "      <td>317.45</td>\n",
       "    </tr>\n",
       "    <tr>\n",
       "      <th>4</th>\n",
       "      <td>1958</td>\n",
       "      <td>5</td>\n",
       "      <td>317.51</td>\n",
       "    </tr>\n",
       "  </tbody>\n",
       "</table>\n",
       "</div>"
      ],
      "text/plain": [
       "   Year  Month     CO2\n",
       "0  1958      1  -99.99\n",
       "1  1958      2  -99.99\n",
       "2  1958      3  315.70\n",
       "3  1958      4  317.45\n",
       "4  1958      5  317.51"
      ]
     },
     "execution_count": 1409,
     "metadata": {},
     "output_type": "execute_result"
    }
   ],
   "source": [
    "# Selecting columns\n",
    "\n",
    "co2 = co2[['Yr','Mn', 'CO2  [ppm]']]\n",
    "co2.columns = ['Year', 'Month', 'CO2']\n",
    "co2.head()"
   ]
  },
  {
   "cell_type": "code",
   "execution_count": 1410,
   "metadata": {},
   "outputs": [
    {
     "data": {
      "text/html": [
       "<div>\n",
       "<style scoped>\n",
       "    .dataframe tbody tr th:only-of-type {\n",
       "        vertical-align: middle;\n",
       "    }\n",
       "\n",
       "    .dataframe tbody tr th {\n",
       "        vertical-align: top;\n",
       "    }\n",
       "\n",
       "    .dataframe thead th {\n",
       "        text-align: right;\n",
       "    }\n",
       "</style>\n",
       "<table border=\"1\" class=\"dataframe\">\n",
       "  <thead>\n",
       "    <tr style=\"text-align: right;\">\n",
       "      <th></th>\n",
       "      <th>Year</th>\n",
       "      <th>Month</th>\n",
       "      <th>CO2</th>\n",
       "    </tr>\n",
       "  </thead>\n",
       "  <tbody>\n",
       "    <tr>\n",
       "      <th>0</th>\n",
       "      <td>1958</td>\n",
       "      <td>1</td>\n",
       "      <td>NaN</td>\n",
       "    </tr>\n",
       "    <tr>\n",
       "      <th>1</th>\n",
       "      <td>1958</td>\n",
       "      <td>2</td>\n",
       "      <td>NaN</td>\n",
       "    </tr>\n",
       "    <tr>\n",
       "      <th>2</th>\n",
       "      <td>1958</td>\n",
       "      <td>3</td>\n",
       "      <td>315.70</td>\n",
       "    </tr>\n",
       "    <tr>\n",
       "      <th>3</th>\n",
       "      <td>1958</td>\n",
       "      <td>4</td>\n",
       "      <td>317.45</td>\n",
       "    </tr>\n",
       "    <tr>\n",
       "      <th>4</th>\n",
       "      <td>1958</td>\n",
       "      <td>5</td>\n",
       "      <td>317.51</td>\n",
       "    </tr>\n",
       "  </tbody>\n",
       "</table>\n",
       "</div>"
      ],
      "text/plain": [
       "   Year  Month     CO2\n",
       "0  1958      1     NaN\n",
       "1  1958      2     NaN\n",
       "2  1958      3  315.70\n",
       "3  1958      4  317.45\n",
       "4  1958      5  317.51"
      ]
     },
     "execution_count": 1410,
     "metadata": {},
     "output_type": "execute_result"
    }
   ],
   "source": [
    "# Replacing -99.99 with NaN\n",
    "\n",
    "co2['CO2'].replace(-99.99, np.nan, inplace=True)\n",
    "co2.head()"
   ]
  },
  {
   "cell_type": "code",
   "execution_count": 1411,
   "metadata": {},
   "outputs": [
    {
     "data": {
      "text/html": [
       "<div>\n",
       "<style scoped>\n",
       "    .dataframe tbody tr th:only-of-type {\n",
       "        vertical-align: middle;\n",
       "    }\n",
       "\n",
       "    .dataframe tbody tr th {\n",
       "        vertical-align: top;\n",
       "    }\n",
       "\n",
       "    .dataframe thead th {\n",
       "        text-align: right;\n",
       "    }\n",
       "</style>\n",
       "<table border=\"1\" class=\"dataframe\">\n",
       "  <thead>\n",
       "    <tr style=\"text-align: right;\">\n",
       "      <th></th>\n",
       "      <th>Year</th>\n",
       "      <th>Month</th>\n",
       "      <th>CO2</th>\n",
       "      <th>time</th>\n",
       "    </tr>\n",
       "  </thead>\n",
       "  <tbody>\n",
       "    <tr>\n",
       "      <th>0</th>\n",
       "      <td>1958</td>\n",
       "      <td>1</td>\n",
       "      <td>NaN</td>\n",
       "      <td>0.041667</td>\n",
       "    </tr>\n",
       "    <tr>\n",
       "      <th>1</th>\n",
       "      <td>1958</td>\n",
       "      <td>2</td>\n",
       "      <td>NaN</td>\n",
       "      <td>1.041667</td>\n",
       "    </tr>\n",
       "    <tr>\n",
       "      <th>2</th>\n",
       "      <td>1958</td>\n",
       "      <td>3</td>\n",
       "      <td>315.70</td>\n",
       "      <td>2.041667</td>\n",
       "    </tr>\n",
       "    <tr>\n",
       "      <th>3</th>\n",
       "      <td>1958</td>\n",
       "      <td>4</td>\n",
       "      <td>317.45</td>\n",
       "      <td>3.041667</td>\n",
       "    </tr>\n",
       "    <tr>\n",
       "      <th>4</th>\n",
       "      <td>1958</td>\n",
       "      <td>5</td>\n",
       "      <td>317.51</td>\n",
       "      <td>4.041667</td>\n",
       "    </tr>\n",
       "  </tbody>\n",
       "</table>\n",
       "</div>"
      ],
      "text/plain": [
       "   Year  Month     CO2      time\n",
       "0  1958      1     NaN  0.041667\n",
       "1  1958      2     NaN  1.041667\n",
       "2  1958      3  315.70  2.041667\n",
       "3  1958      4  317.45  3.041667\n",
       "4  1958      5  317.51  4.041667"
      ]
     },
     "execution_count": 1411,
     "metadata": {},
     "output_type": "execute_result"
    }
   ],
   "source": [
    "# Creating a time index measured in the middle of the month starting from zero\n",
    "\n",
    "co2['time'] = (co2.index.values + 0.5 / 12)\n",
    "co2.head()"
   ]
  },
  {
   "cell_type": "code",
   "execution_count": 1412,
   "metadata": {},
   "outputs": [
    {
     "data": {
      "text/html": [
       "<div>\n",
       "<style scoped>\n",
       "    .dataframe tbody tr th:only-of-type {\n",
       "        vertical-align: middle;\n",
       "    }\n",
       "\n",
       "    .dataframe tbody tr th {\n",
       "        vertical-align: top;\n",
       "    }\n",
       "\n",
       "    .dataframe thead th {\n",
       "        text-align: right;\n",
       "    }\n",
       "</style>\n",
       "<table border=\"1\" class=\"dataframe\">\n",
       "  <thead>\n",
       "    <tr style=\"text-align: right;\">\n",
       "      <th></th>\n",
       "      <th>Year</th>\n",
       "      <th>Month</th>\n",
       "      <th>CO2</th>\n",
       "      <th>time</th>\n",
       "    </tr>\n",
       "  </thead>\n",
       "  <tbody>\n",
       "    <tr>\n",
       "      <th>0</th>\n",
       "      <td>1958</td>\n",
       "      <td>1</td>\n",
       "      <td>NaN</td>\n",
       "      <td>0.041667</td>\n",
       "    </tr>\n",
       "    <tr>\n",
       "      <th>1</th>\n",
       "      <td>1958</td>\n",
       "      <td>2</td>\n",
       "      <td>NaN</td>\n",
       "      <td>1.041667</td>\n",
       "    </tr>\n",
       "    <tr>\n",
       "      <th>5</th>\n",
       "      <td>1958</td>\n",
       "      <td>6</td>\n",
       "      <td>NaN</td>\n",
       "      <td>5.041667</td>\n",
       "    </tr>\n",
       "    <tr>\n",
       "      <th>9</th>\n",
       "      <td>1958</td>\n",
       "      <td>10</td>\n",
       "      <td>NaN</td>\n",
       "      <td>9.041667</td>\n",
       "    </tr>\n",
       "    <tr>\n",
       "      <th>73</th>\n",
       "      <td>1964</td>\n",
       "      <td>2</td>\n",
       "      <td>NaN</td>\n",
       "      <td>73.041667</td>\n",
       "    </tr>\n",
       "    <tr>\n",
       "      <th>74</th>\n",
       "      <td>1964</td>\n",
       "      <td>3</td>\n",
       "      <td>NaN</td>\n",
       "      <td>74.041667</td>\n",
       "    </tr>\n",
       "    <tr>\n",
       "      <th>75</th>\n",
       "      <td>1964</td>\n",
       "      <td>4</td>\n",
       "      <td>NaN</td>\n",
       "      <td>75.041667</td>\n",
       "    </tr>\n",
       "    <tr>\n",
       "      <th>741</th>\n",
       "      <td>2019</td>\n",
       "      <td>10</td>\n",
       "      <td>NaN</td>\n",
       "      <td>741.041667</td>\n",
       "    </tr>\n",
       "    <tr>\n",
       "      <th>742</th>\n",
       "      <td>2019</td>\n",
       "      <td>11</td>\n",
       "      <td>NaN</td>\n",
       "      <td>742.041667</td>\n",
       "    </tr>\n",
       "    <tr>\n",
       "      <th>743</th>\n",
       "      <td>2019</td>\n",
       "      <td>12</td>\n",
       "      <td>NaN</td>\n",
       "      <td>743.041667</td>\n",
       "    </tr>\n",
       "  </tbody>\n",
       "</table>\n",
       "</div>"
      ],
      "text/plain": [
       "     Year  Month  CO2        time\n",
       "0    1958      1  NaN    0.041667\n",
       "1    1958      2  NaN    1.041667\n",
       "5    1958      6  NaN    5.041667\n",
       "9    1958     10  NaN    9.041667\n",
       "73   1964      2  NaN   73.041667\n",
       "74   1964      3  NaN   74.041667\n",
       "75   1964      4  NaN   75.041667\n",
       "741  2019     10  NaN  741.041667\n",
       "742  2019     11  NaN  742.041667\n",
       "743  2019     12  NaN  743.041667"
      ]
     },
     "execution_count": 1412,
     "metadata": {},
     "output_type": "execute_result"
    }
   ],
   "source": [
    "# Checking for null values\n",
    "\n",
    "co2[co2.CO2.isnull()]"
   ]
  },
  {
   "cell_type": "code",
   "execution_count": 1413,
   "metadata": {},
   "outputs": [],
   "source": [
    "# Dropping missing values and reseting index\n",
    "\n",
    "co2 = co2.dropna()\n",
    "co2.reset_index(drop=True, inplace=True)"
   ]
  },
  {
   "cell_type": "code",
   "execution_count": 1414,
   "metadata": {},
   "outputs": [
    {
     "data": {
      "text/plain": [
       "734"
      ]
     },
     "execution_count": 1414,
     "metadata": {},
     "output_type": "execute_result"
    }
   ],
   "source": [
    "# Creating design matrix X from the time index\n",
    "\n",
    "X = co2['time']\n",
    "len(X)"
   ]
  },
  {
   "cell_type": "code",
   "execution_count": 1415,
   "metadata": {},
   "outputs": [
    {
     "data": {
      "text/plain": [
       "734"
      ]
     },
     "execution_count": 1415,
     "metadata": {},
     "output_type": "execute_result"
    }
   ],
   "source": [
    "# Creating labels from the co2 values\n",
    "\n",
    "y = co2['CO2']\n",
    "len(y)"
   ]
  },
  {
   "cell_type": "code",
   "execution_count": 1416,
   "metadata": {},
   "outputs": [
    {
     "name": "stdout",
     "output_type": "stream",
     "text": [
      "587 587\n",
      "147 147\n"
     ]
    }
   ],
   "source": [
    "# Splitting the data with 80:20 split \n",
    "\n",
    "train_size = int(len(X)*0.8) # training with the first values of the timeframe\n",
    "test_size = len(X) - train_size # testing predictions with the last values of the timeframe\n",
    "\n",
    "X_train = X[0:train_size]\n",
    "y_train = y[0:train_size]\n",
    "\n",
    "X_test = X[train_size:]\n",
    "y_test = y[train_size:]\n",
    "\n",
    "print(len(X_train), len(y_train))\n",
    "print(len(X_test), len(y_test))"
   ]
  },
  {
   "cell_type": "code",
   "execution_count": 1417,
   "metadata": {},
   "outputs": [
    {
     "data": {
      "text/html": [
       "\n",
       "\n",
       "\n",
       "\n",
       "\n",
       "\n",
       "  <div class=\"bk-root\" id=\"2f0e2fd3-04d0-4d0e-a52f-2d0ec03f968c\" data-root-id=\"482643\"></div>\n"
      ]
     },
     "metadata": {},
     "output_type": "display_data"
    },
    {
     "data": {
      "application/javascript": [
       "(function(root) {\n",
       "  function embed_document(root) {\n",
       "    \n",
       "  const docs_json = {\"d4461bbd-bf22-408b-ab08-40fef607ff40\":{\"defs\":[],\"roots\":{\"references\":[{\"attributes\":{\"below\":[{\"id\":\"482654\"}],\"center\":[{\"id\":\"482657\"},{\"id\":\"482661\"}],\"left\":[{\"id\":\"482658\"}],\"renderers\":[{\"id\":\"482680\"}],\"title\":{\"id\":\"482644\"},\"toolbar\":{\"id\":\"482669\"},\"width\":800,\"x_range\":{\"id\":\"482646\"},\"x_scale\":{\"id\":\"482650\"},\"y_range\":{\"id\":\"482648\"},\"y_scale\":{\"id\":\"482652\"}},\"id\":\"482643\",\"subtype\":\"Figure\",\"type\":\"Plot\"},{\"attributes\":{\"ticks\":[0,200,400,600]},\"id\":\"482682\",\"type\":\"FixedTicker\"},{\"attributes\":{},\"id\":\"485940\",\"type\":\"Selection\"},{\"attributes\":{},\"id\":\"482650\",\"type\":\"LinearScale\"},{\"attributes\":{\"source\":{\"id\":\"482676\"}},\"id\":\"482681\",\"type\":\"CDSView\"},{\"attributes\":{\"fill_alpha\":{\"value\":0.5},\"fill_color\":{\"value\":\"orange\"},\"line_color\":{\"value\":\"navy\"},\"size\":{\"value\":5},\"x\":{\"field\":\"x\"},\"y\":{\"field\":\"y\"}},\"id\":\"482677\",\"type\":\"Scatter\"},{\"attributes\":{\"data\":{\"x\":{\"__ndarray__\":\"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\",\"dtype\":\"float64\",\"order\":\"little\",\"shape\":[587]},\"y\":{\"__ndarray__\":\"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\",\"dtype\":\"float64\",\"order\":\"little\",\"shape\":[587]}},\"selected\":{\"id\":\"485940\"},\"selection_policy\":{\"id\":\"485939\"}},\"id\":\"482676\",\"type\":\"ColumnDataSource\"},{\"attributes\":{},\"id\":\"482646\",\"type\":\"DataRange1d\"},{\"attributes\":{\"bottom_units\":\"screen\",\"coordinates\":null,\"fill_alpha\":0.5,\"fill_color\":\"lightgrey\",\"group\":null,\"left_units\":\"screen\",\"level\":\"overlay\",\"line_alpha\":1.0,\"line_color\":\"black\",\"line_dash\":[4,4],\"line_width\":2,\"right_units\":\"screen\",\"syncable\":false,\"top_units\":\"screen\"},\"id\":\"482668\",\"type\":\"BoxAnnotation\"},{\"attributes\":{},\"id\":\"485935\",\"type\":\"BasicTickFormatter\"},{\"attributes\":{},\"id\":\"482648\",\"type\":\"DataRange1d\"},{\"attributes\":{\"fill_alpha\":{\"value\":0.2},\"fill_color\":{\"value\":\"orange\"},\"hatch_alpha\":{\"value\":0.2},\"line_alpha\":{\"value\":0.2},\"line_color\":{\"value\":\"navy\"},\"size\":{\"value\":5},\"x\":{\"field\":\"x\"},\"y\":{\"field\":\"y\"}},\"id\":\"482679\",\"type\":\"Scatter\"},{\"attributes\":{\"axis\":{\"id\":\"482654\"},\"coordinates\":null,\"group\":null,\"ticker\":null},\"id\":\"482657\",\"type\":\"Grid\"},{\"attributes\":{},\"id\":\"485936\",\"type\":\"AllLabels\"},{\"attributes\":{\"axis_label\":\"CO2 Concentration\",\"coordinates\":null,\"formatter\":{\"id\":\"485935\"},\"group\":null,\"major_label_policy\":{\"id\":\"485936\"},\"ticker\":{\"id\":\"482659\"}},\"id\":\"482658\",\"type\":\"LinearAxis\"},{\"attributes\":{},\"id\":\"482652\",\"type\":\"LinearScale\"},{\"attributes\":{\"coordinates\":null,\"group\":null,\"text\":\"Visualization of Training Data\"},\"id\":\"482644\",\"type\":\"Title\"},{\"attributes\":{},\"id\":\"485937\",\"type\":\"BasicTickFormatter\"},{\"attributes\":{},\"id\":\"482667\",\"type\":\"HelpTool\"},{\"attributes\":{\"fill_alpha\":{\"value\":0.1},\"fill_color\":{\"value\":\"orange\"},\"hatch_alpha\":{\"value\":0.1},\"line_alpha\":{\"value\":0.1},\"line_color\":{\"value\":\"navy\"},\"size\":{\"value\":5},\"x\":{\"field\":\"x\"},\"y\":{\"field\":\"y\"}},\"id\":\"482678\",\"type\":\"Scatter\"},{\"attributes\":{},\"id\":\"485938\",\"type\":\"AllLabels\"},{\"attributes\":{\"tools\":[{\"id\":\"482662\"},{\"id\":\"482663\"},{\"id\":\"482664\"},{\"id\":\"482665\"},{\"id\":\"482666\"},{\"id\":\"482667\"}]},\"id\":\"482669\",\"type\":\"Toolbar\"},{\"attributes\":{\"axis\":{\"id\":\"482658\"},\"coordinates\":null,\"dimension\":1,\"group\":null,\"ticker\":null},\"id\":\"482661\",\"type\":\"Grid\"},{\"attributes\":{},\"id\":\"482659\",\"type\":\"BasicTicker\"},{\"attributes\":{},\"id\":\"482666\",\"type\":\"ResetTool\"},{\"attributes\":{\"coordinates\":null,\"data_source\":{\"id\":\"482676\"},\"glyph\":{\"id\":\"482677\"},\"group\":null,\"hover_glyph\":null,\"muted_glyph\":{\"id\":\"482679\"},\"nonselection_glyph\":{\"id\":\"482678\"},\"view\":{\"id\":\"482681\"}},\"id\":\"482680\",\"type\":\"GlyphRenderer\"},{\"attributes\":{\"axis_label\":\"Time\",\"coordinates\":null,\"formatter\":{\"id\":\"485937\"},\"group\":null,\"major_label_overrides\":{\"0\":\"1958\",\"200\":\"1976\",\"400\":\"1992\",\"600\":\"2008\"},\"major_label_policy\":{\"id\":\"485938\"},\"ticker\":{\"id\":\"482682\"}},\"id\":\"482654\",\"type\":\"LinearAxis\"},{\"attributes\":{},\"id\":\"482663\",\"type\":\"WheelZoomTool\"},{\"attributes\":{},\"id\":\"482662\",\"type\":\"PanTool\"},{\"attributes\":{\"overlay\":{\"id\":\"482668\"}},\"id\":\"482664\",\"type\":\"BoxZoomTool\"},{\"attributes\":{},\"id\":\"482665\",\"type\":\"SaveTool\"},{\"attributes\":{},\"id\":\"485939\",\"type\":\"UnionRenderers\"}],\"root_ids\":[\"482643\"]},\"title\":\"Bokeh Application\",\"version\":\"2.4.1\"}};\n",
       "  const render_items = [{\"docid\":\"d4461bbd-bf22-408b-ab08-40fef607ff40\",\"root_ids\":[\"482643\"],\"roots\":{\"482643\":\"2f0e2fd3-04d0-4d0e-a52f-2d0ec03f968c\"}}];\n",
       "  root.Bokeh.embed.embed_items_notebook(docs_json, render_items);\n",
       "\n",
       "  }\n",
       "  if (root.Bokeh !== undefined) {\n",
       "    embed_document(root);\n",
       "  } else {\n",
       "    let attempts = 0;\n",
       "    const timer = setInterval(function(root) {\n",
       "      if (root.Bokeh !== undefined) {\n",
       "        clearInterval(timer);\n",
       "        embed_document(root);\n",
       "      } else {\n",
       "        attempts++;\n",
       "        if (attempts > 100) {\n",
       "          clearInterval(timer);\n",
       "          console.log(\"Bokeh: ERROR: Unable to run BokehJS code because BokehJS library is missing\");\n",
       "        }\n",
       "      }\n",
       "    }, 10, root)\n",
       "  }\n",
       "})(window);"
      ],
      "application/vnd.bokehjs_exec.v0+json": ""
     },
     "metadata": {
      "application/vnd.bokehjs_exec.v0+json": {
       "id": "482643"
      }
     },
     "output_type": "display_data"
    }
   ],
   "source": [
    "# Visualizing training data\n",
    "\n",
    "p = figure(plot_width = 800, plot_height = 600, title = \"Visualization of Training Data\")\n",
    "p.scatter(X_train,y_train,size=5, line_color=\"navy\", fill_color=\"orange\", fill_alpha=0.5)\n",
    "p.xaxis.ticker = [0, 200, 400, 600]\n",
    "p.xaxis.major_label_overrides = {0: '1958', 200: '1976', 400: '1992', 600: '2008'}\n",
    "p.xaxis.axis_label ='Time'\n",
    "p.yaxis.axis_label ='CO2 Concentration'\n",
    "show(p)"
   ]
  },
  {
   "cell_type": "markdown",
   "metadata": {},
   "source": [
    "There appears to be a clear linearly increasing trend on the data."
   ]
  },
  {
   "cell_type": "code",
   "execution_count": 1418,
   "metadata": {},
   "outputs": [],
   "source": [
    "# Fitting data to linear regression model\n",
    "\n",
    "lr = LinearRegression().fit(np.array(X_train).reshape(-1,1), y_train)"
   ]
  },
  {
   "cell_type": "code",
   "execution_count": 1419,
   "metadata": {},
   "outputs": [
    {
     "name": "stdout",
     "output_type": "stream",
     "text": [
      "The linear model F(t) = 0.11722426245179311*t + 309.0453845193237 \n"
     ]
    }
   ],
   "source": [
    "# Model coefficients\n",
    "\n",
    "lr_coefficients = [lr.coef_[0], lr.intercept_]\n",
    "print(\"The linear model F(t) = \" +str(lr_coefficients[0])+\"*t + \" +str(lr_coefficients[1])+\" \")"
   ]
  },
  {
   "cell_type": "code",
   "execution_count": 1420,
   "metadata": {},
   "outputs": [
    {
     "data": {
      "text/html": [
       "\n",
       "\n",
       "\n",
       "\n",
       "\n",
       "\n",
       "  <div class=\"bk-root\" id=\"fa824cce-7cf5-4027-90de-1fefeea66002\" data-root-id=\"485987\"></div>\n"
      ]
     },
     "metadata": {},
     "output_type": "display_data"
    },
    {
     "data": {
      "application/javascript": [
       "(function(root) {\n",
       "  function embed_document(root) {\n",
       "    \n",
       "  const docs_json = {\"adba4191-2d24-495c-88b2-c9591de175c6\":{\"defs\":[],\"roots\":{\"references\":[{\"attributes\":{\"below\":[{\"id\":\"485998\"}],\"center\":[{\"id\":\"486001\"},{\"id\":\"486005\"},{\"id\":\"486036\"}],\"left\":[{\"id\":\"486002\"}],\"renderers\":[{\"id\":\"486024\"},{\"id\":\"486042\"}],\"title\":{\"id\":\"485988\"},\"toolbar\":{\"id\":\"486013\"},\"width\":800,\"x_range\":{\"id\":\"485990\"},\"x_scale\":{\"id\":\"485994\"},\"y_range\":{\"id\":\"485992\"},\"y_scale\":{\"id\":\"485996\"}},\"id\":\"485987\",\"subtype\":\"Figure\",\"type\":\"Plot\"},{\"attributes\":{\"coordinates\":null,\"data_source\":{\"id\":\"486020\"},\"glyph\":{\"id\":\"486021\"},\"group\":null,\"hover_glyph\":null,\"muted_glyph\":{\"id\":\"486023\"},\"nonselection_glyph\":{\"id\":\"486022\"},\"view\":{\"id\":\"486025\"}},\"id\":\"486024\",\"type\":\"GlyphRenderer\"},{\"attributes\":{\"axis_label\":\"Time\",\"coordinates\":null,\"formatter\":{\"id\":\"486031\"},\"group\":null,\"major_label_overrides\":{\"0\":\"1958\",\"200\":\"1976\",\"400\":\"1992\",\"600\":\"2008\"},\"major_label_policy\":{\"id\":\"486032\"},\"ticker\":{\"id\":\"486057\"}},\"id\":\"485998\",\"type\":\"LinearAxis\"},{\"attributes\":{},\"id\":\"486011\",\"type\":\"HelpTool\"},{\"attributes\":{\"axis\":{\"id\":\"486002\"},\"coordinates\":null,\"dimension\":1,\"group\":null,\"ticker\":null},\"id\":\"486005\",\"type\":\"Grid\"},{\"attributes\":{\"source\":{\"id\":\"486020\"}},\"id\":\"486025\",\"type\":\"CDSView\"},{\"attributes\":{\"axis_label\":\"CO2 Concentration\",\"coordinates\":null,\"formatter\":{\"id\":\"486028\"},\"group\":null,\"major_label_policy\":{\"id\":\"486029\"},\"ticker\":{\"id\":\"486003\"}},\"id\":\"486002\",\"type\":\"LinearAxis\"},{\"attributes\":{},\"id\":\"486003\",\"type\":\"BasicTicker\"},{\"attributes\":{\"fill_alpha\":{\"value\":0.1},\"fill_color\":{\"value\":\"orange\"},\"hatch_alpha\":{\"value\":0.1},\"line_alpha\":{\"value\":0.1},\"line_color\":{\"value\":\"navy\"},\"size\":{\"value\":2},\"x\":{\"field\":\"x\"},\"y\":{\"field\":\"y\"}},\"id\":\"486022\",\"type\":\"Scatter\"},{\"attributes\":{\"tools\":[{\"id\":\"486006\"},{\"id\":\"486007\"},{\"id\":\"486008\"},{\"id\":\"486009\"},{\"id\":\"486010\"},{\"id\":\"486011\"}]},\"id\":\"486013\",\"type\":\"Toolbar\"},{\"attributes\":{},\"id\":\"486007\",\"type\":\"WheelZoomTool\"},{\"attributes\":{},\"id\":\"486006\",\"type\":\"PanTool\"},{\"attributes\":{\"overlay\":{\"id\":\"486012\"}},\"id\":\"486008\",\"type\":\"BoxZoomTool\"},{\"attributes\":{},\"id\":\"486033\",\"type\":\"UnionRenderers\"},{\"attributes\":{},\"id\":\"486009\",\"type\":\"SaveTool\"},{\"attributes\":{},\"id\":\"486028\",\"type\":\"BasicTickFormatter\"},{\"attributes\":{},\"id\":\"486010\",\"type\":\"ResetTool\"},{\"attributes\":{},\"id\":\"486034\",\"type\":\"Selection\"},{\"attributes\":{\"bottom_units\":\"screen\",\"coordinates\":null,\"fill_alpha\":0.5,\"fill_color\":\"lightgrey\",\"group\":null,\"left_units\":\"screen\",\"level\":\"overlay\",\"line_alpha\":1.0,\"line_color\":\"black\",\"line_dash\":[4,4],\"line_width\":2,\"right_units\":\"screen\",\"syncable\":false,\"top_units\":\"screen\"},\"id\":\"486012\",\"type\":\"BoxAnnotation\"},{\"attributes\":{\"label\":{\"value\":\"Original Data\"},\"renderers\":[{\"id\":\"486024\"}]},\"id\":\"486037\",\"type\":\"LegendItem\"},{\"attributes\":{},\"id\":\"486031\",\"type\":\"BasicTickFormatter\"},{\"attributes\":{\"data\":{\"x\":{\"__ndarray__\":\"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\",\"dtype\":\"float64\",\"order\":\"little\",\"shape\":[587]},\"y\":{\"__ndarray__\":\"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\",\"dtype\":\"float64\",\"order\":\"little\",\"shape\":[587]}},\"selected\":{\"id\":\"486054\"},\"selection_policy\":{\"id\":\"486053\"}},\"id\":\"486038\",\"type\":\"ColumnDataSource\"},{\"attributes\":{\"line_alpha\":0.1,\"line_color\":\"orange\",\"line_width\":2.5,\"x\":{\"field\":\"x\"},\"y\":{\"field\":\"y\"}},\"id\":\"486040\",\"type\":\"Line\"},{\"attributes\":{},\"id\":\"486054\",\"type\":\"Selection\"},{\"attributes\":{},\"id\":\"486032\",\"type\":\"AllLabels\"},{\"attributes\":{\"ticks\":[0,200,400,600]},\"id\":\"486057\",\"type\":\"FixedTicker\"},{\"attributes\":{\"line_alpha\":0.2,\"line_color\":\"orange\",\"line_width\":2.5,\"x\":{\"field\":\"x\"},\"y\":{\"field\":\"y\"}},\"id\":\"486041\",\"type\":\"Line\"},{\"attributes\":{\"line_color\":\"orange\",\"line_width\":2.5,\"x\":{\"field\":\"x\"},\"y\":{\"field\":\"y\"}},\"id\":\"486039\",\"type\":\"Line\"},{\"attributes\":{\"source\":{\"id\":\"486038\"}},\"id\":\"486043\",\"type\":\"CDSView\"},{\"attributes\":{\"label\":{\"value\":\"Linear Fit\"},\"renderers\":[{\"id\":\"486042\"}]},\"id\":\"486056\",\"type\":\"LegendItem\"},{\"attributes\":{\"coordinates\":null,\"data_source\":{\"id\":\"486038\"},\"glyph\":{\"id\":\"486039\"},\"group\":null,\"hover_glyph\":null,\"muted_glyph\":{\"id\":\"486041\"},\"nonselection_glyph\":{\"id\":\"486040\"},\"view\":{\"id\":\"486043\"}},\"id\":\"486042\",\"type\":\"GlyphRenderer\"},{\"attributes\":{\"coordinates\":null,\"group\":null,\"items\":[{\"id\":\"486037\"},{\"id\":\"486056\"}],\"location\":\"bottom_right\"},\"id\":\"486036\",\"type\":\"Legend\"},{\"attributes\":{\"fill_alpha\":{\"value\":0.5},\"fill_color\":{\"value\":\"orange\"},\"line_color\":{\"value\":\"navy\"},\"size\":{\"value\":2},\"x\":{\"field\":\"x\"},\"y\":{\"field\":\"y\"}},\"id\":\"486021\",\"type\":\"Scatter\"},{\"attributes\":{},\"id\":\"485994\",\"type\":\"LinearScale\"},{\"attributes\":{},\"id\":\"485990\",\"type\":\"DataRange1d\"},{\"attributes\":{\"data\":{\"x\":{\"__ndarray__\":\"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\",\"dtype\":\"float64\",\"order\":\"little\",\"shape\":[587]},\"y\":{\"__ndarray__\":\"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\",\"dtype\":\"float64\",\"order\":\"little\",\"shape\":[587]}},\"selected\":{\"id\":\"486034\"},\"selection_policy\":{\"id\":\"486033\"}},\"id\":\"486020\",\"type\":\"ColumnDataSource\"},{\"attributes\":{},\"id\":\"486029\",\"type\":\"AllLabels\"},{\"attributes\":{},\"id\":\"485992\",\"type\":\"DataRange1d\"},{\"attributes\":{\"fill_alpha\":{\"value\":0.2},\"fill_color\":{\"value\":\"orange\"},\"hatch_alpha\":{\"value\":0.2},\"line_alpha\":{\"value\":0.2},\"line_color\":{\"value\":\"navy\"},\"size\":{\"value\":2},\"x\":{\"field\":\"x\"},\"y\":{\"field\":\"y\"}},\"id\":\"486023\",\"type\":\"Scatter\"},{\"attributes\":{},\"id\":\"486053\",\"type\":\"UnionRenderers\"},{\"attributes\":{\"axis\":{\"id\":\"485998\"},\"coordinates\":null,\"group\":null,\"ticker\":null},\"id\":\"486001\",\"type\":\"Grid\"},{\"attributes\":{\"coordinates\":null,\"group\":null,\"text\":\"Modeling with the Linear Model\"},\"id\":\"485988\",\"type\":\"Title\"},{\"attributes\":{},\"id\":\"485996\",\"type\":\"LinearScale\"}],\"root_ids\":[\"485987\"]},\"title\":\"Bokeh Application\",\"version\":\"2.4.1\"}};\n",
       "  const render_items = [{\"docid\":\"adba4191-2d24-495c-88b2-c9591de175c6\",\"root_ids\":[\"485987\"],\"roots\":{\"485987\":\"fa824cce-7cf5-4027-90de-1fefeea66002\"}}];\n",
       "  root.Bokeh.embed.embed_items_notebook(docs_json, render_items);\n",
       "\n",
       "  }\n",
       "  if (root.Bokeh !== undefined) {\n",
       "    embed_document(root);\n",
       "  } else {\n",
       "    let attempts = 0;\n",
       "    const timer = setInterval(function(root) {\n",
       "      if (root.Bokeh !== undefined) {\n",
       "        clearInterval(timer);\n",
       "        embed_document(root);\n",
       "      } else {\n",
       "        attempts++;\n",
       "        if (attempts > 100) {\n",
       "          clearInterval(timer);\n",
       "          console.log(\"Bokeh: ERROR: Unable to run BokehJS code because BokehJS library is missing\");\n",
       "        }\n",
       "      }\n",
       "    }, 10, root)\n",
       "  }\n",
       "})(window);"
      ],
      "application/vnd.bokehjs_exec.v0+json": ""
     },
     "metadata": {
      "application/vnd.bokehjs_exec.v0+json": {
       "id": "485987"
      }
     },
     "output_type": "display_data"
    }
   ],
   "source": [
    "# Plotting linear fit of the model\n",
    "\n",
    "lr_linear_fit = lr.predict(np.array(X_train).reshape(-1,1))\n",
    "\n",
    "p = figure(plot_width=800, plot_height=600, title='Modeling with the Linear Model')\n",
    "p.scatter(X_train, y_train, size=2, line_color=\"navy\", fill_color=\"orange\", fill_alpha=0.5, legend_label =\"Original Data\")\n",
    "p.line(X_train, lr_linear_fit, line_color=\"orange\", line_width=2.5, legend_label =\"Linear Fit\")\n",
    "p.legend.location = \"bottom_right\"\n",
    "p.xaxis.axis_label ='Time'\n",
    "p.yaxis.axis_label ='CO2 Concentration'\n",
    "p.xaxis.ticker = [0, 200, 400, 600]\n",
    "p.xaxis.major_label_overrides = {0: '1958', 200: '1976', 400: '1992', 600: '2008'}\n",
    "show(p)\n"
   ]
  },
  {
   "cell_type": "markdown",
   "metadata": {},
   "source": [
    "The linear line seems to fit quite well but not perfectly as we can by having a closer look at the beginning and at the end of the scatter points."
   ]
  },
  {
   "cell_type": "markdown",
   "metadata": {},
   "source": [
    "<b> Plot the residual error $R_{linear}(t)=C(t)-F_1(t)$. Report the root mean squared error $\\text {RMSE}$ and the mean absolute percentage error $\\text {MAPE}$ with respect to the test set for this model.</b>"
   ]
  },
  {
   "cell_type": "code",
   "execution_count": 1421,
   "metadata": {},
   "outputs": [
    {
     "data": {
      "text/html": [
       "\n",
       "\n",
       "\n",
       "\n",
       "\n",
       "\n",
       "  <div class=\"bk-root\" id=\"ca0c899b-622c-4b6a-929e-accfa7b7d852\" data-root-id=\"489383\"></div>\n"
      ]
     },
     "metadata": {},
     "output_type": "display_data"
    },
    {
     "data": {
      "application/javascript": [
       "(function(root) {\n",
       "  function embed_document(root) {\n",
       "    \n",
       "  const docs_json = {\"7312edf6-3cf0-467d-a87b-23407a9a0056\":{\"defs\":[],\"roots\":{\"references\":[{\"attributes\":{\"below\":[{\"id\":\"489394\"}],\"center\":[{\"id\":\"489397\"},{\"id\":\"489401\"},{\"id\":\"489432\"}],\"left\":[{\"id\":\"489398\"}],\"renderers\":[{\"id\":\"489420\"},{\"id\":\"489438\"}],\"title\":{\"id\":\"489384\"},\"toolbar\":{\"id\":\"489409\"},\"width\":800,\"x_range\":{\"id\":\"489386\"},\"x_scale\":{\"id\":\"489390\"},\"y_range\":{\"id\":\"489388\"},\"y_scale\":{\"id\":\"489392\"}},\"id\":\"489383\",\"subtype\":\"Figure\",\"type\":\"Plot\"},{\"attributes\":{\"coordinates\":null,\"data_source\":{\"id\":\"489434\"},\"glyph\":{\"id\":\"489435\"},\"group\":null,\"hover_glyph\":null,\"muted_glyph\":{\"id\":\"489437\"},\"nonselection_glyph\":{\"id\":\"489436\"},\"view\":{\"id\":\"489439\"}},\"id\":\"489438\",\"type\":\"GlyphRenderer\"},{\"attributes\":{},\"id\":\"489392\",\"type\":\"LinearScale\"},{\"attributes\":{},\"id\":\"489450\",\"type\":\"Selection\"},{\"attributes\":{\"axis_label\":\"CO2 Concentration\",\"coordinates\":null,\"formatter\":{\"id\":\"489424\"},\"group\":null,\"major_label_policy\":{\"id\":\"489425\"},\"ticker\":{\"id\":\"489399\"}},\"id\":\"489398\",\"type\":\"LinearAxis\"},{\"attributes\":{},\"id\":\"489424\",\"type\":\"BasicTickFormatter\"},{\"attributes\":{\"coordinates\":null,\"data_source\":{\"id\":\"489416\"},\"glyph\":{\"id\":\"489417\"},\"group\":null,\"hover_glyph\":null,\"muted_glyph\":{\"id\":\"489419\"},\"nonselection_glyph\":{\"id\":\"489418\"},\"view\":{\"id\":\"489421\"}},\"id\":\"489420\",\"type\":\"GlyphRenderer\"},{\"attributes\":{},\"id\":\"489429\",\"type\":\"UnionRenderers\"},{\"attributes\":{},\"id\":\"489388\",\"type\":\"DataRange1d\"},{\"attributes\":{\"source\":{\"id\":\"489434\"}},\"id\":\"489439\",\"type\":\"CDSView\"},{\"attributes\":{},\"id\":\"489425\",\"type\":\"AllLabels\"},{\"attributes\":{\"axis\":{\"id\":\"489394\"},\"coordinates\":null,\"group\":null,\"ticker\":null},\"id\":\"489397\",\"type\":\"Grid\"},{\"attributes\":{},\"id\":\"489449\",\"type\":\"UnionRenderers\"},{\"attributes\":{},\"id\":\"489402\",\"type\":\"PanTool\"},{\"attributes\":{},\"id\":\"489427\",\"type\":\"BasicTickFormatter\"},{\"attributes\":{\"fill_alpha\":{\"value\":0.2},\"fill_color\":{\"value\":\"orange\"},\"hatch_alpha\":{\"value\":0.2},\"line_alpha\":{\"value\":0.2},\"line_color\":{\"value\":\"navy\"},\"size\":{\"value\":2},\"x\":{\"field\":\"x\"},\"y\":{\"field\":\"y\"}},\"id\":\"489419\",\"type\":\"Scatter\"},{\"attributes\":{\"label\":{\"value\":\"Linear Model Predictions\"},\"renderers\":[{\"id\":\"489438\"}]},\"id\":\"489452\",\"type\":\"LegendItem\"},{\"attributes\":{\"fill_alpha\":{\"value\":0.1},\"fill_color\":{\"value\":\"orange\"},\"hatch_alpha\":{\"value\":0.1},\"line_alpha\":{\"value\":0.1},\"line_color\":{\"value\":\"navy\"},\"size\":{\"value\":2},\"x\":{\"field\":\"x\"},\"y\":{\"field\":\"y\"}},\"id\":\"489418\",\"type\":\"Scatter\"},{\"attributes\":{},\"id\":\"489405\",\"type\":\"SaveTool\"},{\"attributes\":{\"label\":{\"value\":\"Test Data\"},\"renderers\":[{\"id\":\"489420\"}]},\"id\":\"489433\",\"type\":\"LegendItem\"},{\"attributes\":{},\"id\":\"489428\",\"type\":\"AllLabels\"},{\"attributes\":{\"source\":{\"id\":\"489416\"}},\"id\":\"489421\",\"type\":\"CDSView\"},{\"attributes\":{\"overlay\":{\"id\":\"489408\"}},\"id\":\"489404\",\"type\":\"BoxZoomTool\"},{\"attributes\":{\"coordinates\":null,\"group\":null,\"items\":[{\"id\":\"489433\"},{\"id\":\"489452\"}],\"location\":\"bottom_right\"},\"id\":\"489432\",\"type\":\"Legend\"},{\"attributes\":{},\"id\":\"489390\",\"type\":\"LinearScale\"},{\"attributes\":{\"ticks\":[620,660,700,740]},\"id\":\"489453\",\"type\":\"FixedTicker\"},{\"attributes\":{},\"id\":\"489399\",\"type\":\"BasicTicker\"},{\"attributes\":{\"axis_label\":\"Time\",\"coordinates\":null,\"formatter\":{\"id\":\"489427\"},\"group\":null,\"major_label_overrides\":{\"620\":\"2010\",\"660\":\"2013\",\"700\":\"2016\",\"740\":\"2019\"},\"major_label_policy\":{\"id\":\"489428\"},\"ticker\":{\"id\":\"489453\"}},\"id\":\"489394\",\"type\":\"LinearAxis\"},{\"attributes\":{\"axis\":{\"id\":\"489398\"},\"coordinates\":null,\"dimension\":1,\"group\":null,\"ticker\":null},\"id\":\"489401\",\"type\":\"Grid\"},{\"attributes\":{},\"id\":\"489407\",\"type\":\"HelpTool\"},{\"attributes\":{},\"id\":\"489403\",\"type\":\"WheelZoomTool\"},{\"attributes\":{},\"id\":\"489406\",\"type\":\"ResetTool\"},{\"attributes\":{\"tools\":[{\"id\":\"489402\"},{\"id\":\"489403\"},{\"id\":\"489404\"},{\"id\":\"489405\"},{\"id\":\"489406\"},{\"id\":\"489407\"}]},\"id\":\"489409\",\"type\":\"Toolbar\"},{\"attributes\":{},\"id\":\"489430\",\"type\":\"Selection\"},{\"attributes\":{\"bottom_units\":\"screen\",\"coordinates\":null,\"fill_alpha\":0.5,\"fill_color\":\"lightgrey\",\"group\":null,\"left_units\":\"screen\",\"level\":\"overlay\",\"line_alpha\":1.0,\"line_color\":\"black\",\"line_dash\":[4,4],\"line_width\":2,\"right_units\":\"screen\",\"syncable\":false,\"top_units\":\"screen\"},\"id\":\"489408\",\"type\":\"BoxAnnotation\"},{\"attributes\":{\"coordinates\":null,\"group\":null,\"text\":\"Predicting with Linear Model\"},\"id\":\"489384\",\"type\":\"Title\"},{\"attributes\":{\"line_alpha\":0.1,\"line_color\":\"orange\",\"line_width\":2.5,\"x\":{\"field\":\"x\"},\"y\":{\"field\":\"y\"}},\"id\":\"489436\",\"type\":\"Line\"},{\"attributes\":{\"line_alpha\":0.2,\"line_color\":\"orange\",\"line_width\":2.5,\"x\":{\"field\":\"x\"},\"y\":{\"field\":\"y\"}},\"id\":\"489437\",\"type\":\"Line\"},{\"attributes\":{\"fill_alpha\":{\"value\":0.5},\"fill_color\":{\"value\":\"orange\"},\"line_color\":{\"value\":\"navy\"},\"size\":{\"value\":2},\"x\":{\"field\":\"x\"},\"y\":{\"field\":\"y\"}},\"id\":\"489417\",\"type\":\"Scatter\"},{\"attributes\":{\"line_color\":\"orange\",\"line_width\":2.5,\"x\":{\"field\":\"x\"},\"y\":{\"field\":\"y\"}},\"id\":\"489435\",\"type\":\"Line\"},{\"attributes\":{\"data\":{\"x\":{\"__ndarray__\":\"VVVVVVWQgkBVVVVVVZiCQFVVVVVVoIJAVVVVVVWogkBVVVVVVbCCQFVVVVVVuIJAVVVVVVXAgkBVVVVVVciCQFVVVVVV0IJAVVVVVVXYgkBVVVVVVeCCQFVVVVVV6IJAVVVVVVXwgkBVVVVVVfiCQFVVVVVVAINAVVVVVVUIg0BVVVVVVRCDQFVVVVVVGINAVVVVVVUgg0BVVVVVVSiDQFVVVVVVMINAVVVVVVU4g0BVVVVVVUCDQFVVVVVVSINAVVVVVVVQg0BVVVVVVViDQFVVVVVVYINAVVVVVVVog0BVVVVVVXCDQFVVVVVVeINAVVVVVVWAg0BVVVVVVYiDQFVVVVVVkINAVVVVVVWYg0BVVVVVVaCDQFVVVVVVqINAVVVVVVWwg0BVVVVVVbiDQFVVVVVVwINAVVVVVVXIg0BVVVVVVdCDQFVVVVVV2INAVVVVVVXgg0BVVVVVVeiDQFVVVVVV8INAVVVVVVX4g0BVVVVVVQCEQFVVVVVVCIRAVVVVVVUQhEBVVVVVVRiEQFVVVVVVIIRAVVVVVVUohEBVVVVVVTCEQFVVVVVVOIRAVVVVVVVAhEBVVVVVVUiEQFVVVVVVUIRAVVVVVVVYhEBVVVVVVWCEQFVVVVVVaIRAVVVVVVVwhEBVVVVVVXiEQFVVVVVVgIRAVVVVVVWIhEBVVVVVVZCEQFVVVVVVmIRAVVVVVVWghEBVVVVVVaiEQFVVVVVVsIRAVVVVVVW4hEBVVVVVVcCEQFVVVVVVyIRAVVVVVVXQhEBVVVVVVdiEQFVVVVVV4IRAVVVVVVXohEBVVVVVVfCEQFVVVVVV+IRAVVVVVVUAhUBVVVVVVQiFQFVVVVVVEIVAVVVVVVUYhUBVVVVVVSCFQFVVVVVVKIVAVVVVVVUwhUBVVVVVVTiFQFVVVVVVQIVAVVVVVVVIhUBVVVVVVVCFQFVVVVVVWIVAVVVVVVVghUBVVVVVVWiFQFVVVVVVcIVAVVVVVVV4hUBVVVVVVYCFQFVVVVVViIVAVVVVVVWQhUBVVVVVVZiFQFVVVVVVoIVAVVVVVVWohUBVVVVVVbCFQFVVVVVVuIVAVVVVVVXAhUBVVVVVVciFQFVVVVVV0IVAVVVVVVXYhUBVVVVVVeCFQFVVVVVV6IVAVVVVVVXwhUBVVVVVVfiFQFVVVVVVAIZAVVVVVVUIhkBVVVVVVRCGQFVVVVVVGIZAVVVVVVUghkBVVVVVVSiGQFVVVVVVMIZAVVVVVVU4hkBVVVVVVUCGQFVVVVVVSIZAVVVVVVVQhkBVVVVVVViGQFVVVVVVYIZAVVVVVVVohkBVVVVVVXCGQFVVVVVVeIZAVVVVVVWAhkBVVVVVVYiGQFVVVVVVkIZAVVVVVVWYhkBVVVVVVaCGQFVVVVVVqIZAVVVVVVWwhkBVVVVVVbiGQFVVVVVVwIZAVVVVVVXIhkBVVVVVVdCGQFVVVVVV2IZAVVVVVVXghkBVVVVVVeiGQFVVVVVV8IZAVVVVVVX4hkBVVVVVVQCHQFVVVVVVCIdAVVVVVVUQh0BVVVVVVRiHQFVVVVVVIIdA\",\"dtype\":\"float64\",\"order\":\"little\",\"shape\":[147]},\"y\":{\"__ndarray__\":\"16NwPQoHeEA9CtejcN13QPYoXI/CzXdA9ihcj8LNd0D2KFyPwuV3QPYoXI/C+XdAhetRuB4ReEA9CtejcB14QOF6FK5HHXhAuB6F61EseEBcj8L1KEh4QM3MzMzMQHhAAAAAAAAkeEDhehSuRwF4QD0K16Nw8XdAFK5H4Xrsd0Bcj8L1KAB4QPYoXI/CEXhAZmZmZmYqeEBSuB6F6zF4QLgehetRSHhAhetRuB5ZeEAfhetRuGJ4QFK4HoXrWXhAhetRuB5BeEDhehSuRyF4QGZmZmZmCnhA4XoUrkcFeEDNzMzMzCB4QKRwPQrXN3hAzczMzMxIeECF61G4HmF4QFyPwvUocHhArkfhehSGeEDsUbgehZN4QKRwPQrXg3hA4XoUrkdleEC4HoXrUUh4QD0K16NwLXhAw/UoXI8yeEAfhetRuEp4QClcj8L1XHhAzczMzMx0eEAfhetRuH54QDMzMzMzh3hAUrgeheuVeEAUrkfheqR4QNejcD0Km3hAPQrXo3CJeECPwvUoXGN4QAAAAAAAUHhAexSuR+FOeECkcD0K12N4QM3MzMzMfHhAhetRuB6ReECamZmZmZV4QPYoXI/CpXhAexSuR+HGeEBSuB6F6814QK5H4XoUvnhAuB6F61GoeEBxPQrXo4h4QK5H4XoUcnhAXI/C9ShweEAzMzMzM494QOF6FK5HpXhA9ihcj8K5eECamZmZmc14QFyPwvUo1HhAmpmZmZnleEBI4XoUrv94QFK4HoXr7XhAUrgehevVeEDD9Shcj7Z4QArXo3A9lnhAMzMzMzObeEDXo3A9CrN4QIXrUbgezXhAH4XrUbjeeECamZmZmeF4QOxRuB6F93hA4XoUrkcVeUCuR+F6FB55QClcj8L1FHlAhetRuB7xeECPwvUoXNN4QGZmZmZmtnhAZmZmZma6eEBI4XoUrtN4QHE9Ctej7HhAmpmZmZn9eEApXI/C9QR5QFyPwvUoGHlAMzMzMzM3eUCamZmZmUF5QK5H4XoULnlA9ihcj8IZeUAAAAAAAPB4QAAAAAAA2HhAFK5H4XrkeECkcD0K1wN5QArXo3A9HnlAZmZmZmYqeUDD9Shcj0J5QJqZmZmZTXlAhetRuB55eUDD9Shcj3p5QAAAAAAAcHlAAAAAAABIeUCkcD0K1yN5QFyPwvUoEHlAAAAAAAAYeUAK16NwPTp5QM3MzMzMSHlAhetRuB5heUAK16NwPWp5QClcj8L1cHlAMzMzMzOPeUDD9Shcj555QFK4HoXrkXlAMzMzMzNzeUCkcD0K11N5QLgehetRNHlACtejcD06eUAfhetRuFJ5QAAAAAAAbHlAzczMzMyAeUA9CtejcIV5QAAAAAAAlHlAzczMzMykeUDNzMzMzLR5QK5H4XoUrnlAZmZmZmaOeUCamZmZmXF5QD0K16NwWXlApHA9CtdfeUBSuB6F64F5QEjhehSuk3lAH4XrUbiueUDD9Shcj7p5QAAAAAAAwHlAuB6F61HYeUDhehSuR+15QI/C9Shc33lAmpmZmZm9eUDhehSuR6F5QM3MzMzMiHlA\",\"dtype\":\"float64\",\"order\":\"little\",\"shape\":[147]}},\"selected\":{\"id\":\"489430\"},\"selection_policy\":{\"id\":\"489429\"}},\"id\":\"489416\",\"type\":\"ColumnDataSource\"},{\"attributes\":{\"data\":{\"x\":{\"__ndarray__\":\"VVVVVVWQgkBVVVVVVZiCQFVVVVVVoIJAVVVVVVWogkBVVVVVVbCCQFVVVVVVuIJAVVVVVVXAgkBVVVVVVciCQFVVVVVV0IJAVVVVVVXYgkBVVVVVVeCCQFVVVVVV6IJAVVVVVVXwgkBVVVVVVfiCQFVVVVVVAINAVVVVVVUIg0BVVVVVVRCDQFVVVVVVGINAVVVVVVUgg0BVVVVVVSiDQFVVVVVVMINAVVVVVVU4g0BVVVVVVUCDQFVVVVVVSINAVVVVVVVQg0BVVVVVVViDQFVVVVVVYINAVVVVVVVog0BVVVVVVXCDQFVVVVVVeINAVVVVVVWAg0BVVVVVVYiDQFVVVVVVkINAVVVVVVWYg0BVVVVVVaCDQFVVVVVVqINAVVVVVVWwg0BVVVVVVbiDQFVVVVVVwINAVVVVVVXIg0BVVVVVVdCDQFVVVVVV2INAVVVVVVXgg0BVVVVVVeiDQFVVVVVV8INAVVVVVVX4g0BVVVVVVQCEQFVVVVVVCIRAVVVVVVUQhEBVVVVVVRiEQFVVVVVVIIRAVVVVVVUohEBVVVVVVTCEQFVVVVVVOIRAVVVVVVVAhEBVVVVVVUiEQFVVVVVVUIRAVVVVVVVYhEBVVVVVVWCEQFVVVVVVaIRAVVVVVVVwhEBVVVVVVXiEQFVVVVVVgIRAVVVVVVWIhEBVVVVVVZCEQFVVVVVVmIRAVVVVVVWghEBVVVVVVaiEQFVVVVVVsIRAVVVVVVW4hEBVVVVVVcCEQFVVVVVVyIRAVVVVVVXQhEBVVVVVVdiEQFVVVVVV4IRAVVVVVVXohEBVVVVVVfCEQFVVVVVV+IRAVVVVVVUAhUBVVVVVVQiFQFVVVVVVEIVAVVVVVVUYhUBVVVVVVSCFQFVVVVVVKIVAVVVVVVUwhUBVVVVVVTiFQFVVVVVVQIVAVVVVVVVIhUBVVVVVVVCFQFVVVVVVWIVAVVVVVVVghUBVVVVVVWiFQFVVVVVVcIVAVVVVVVV4hUBVVVVVVYCFQFVVVVVViIVAVVVVVVWQhUBVVVVVVZiFQFVVVVVVoIVAVVVVVVWohUBVVVVVVbCFQFVVVVVVuIVAVVVVVVXAhUBVVVVVVciFQFVVVVVV0IVAVVVVVVXYhUBVVVVVVeCFQFVVVVVV6IVAVVVVVVXwhUBVVVVVVfiFQFVVVVVVAIZAVVVVVVUIhkBVVVVVVRCGQFVVVVVVGIZAVVVVVVUghkBVVVVVVSiGQFVVVVVVMIZAVVVVVVU4hkBVVVVVVUCGQFVVVVVVSIZAVVVVVVVQhkBVVVVVVViGQFVVVVVVYIZAVVVVVVVohkBVVVVVVXCGQFVVVVVVeIZAVVVVVVWAhkBVVVVVVYiGQFVVVVVVkIZAVVVVVVWYhkBVVVVVVaCGQFVVVVVVqIZAVVVVVVWwhkBVVVVVVbiGQFVVVVVVwIZAVVVVVVXIhkBVVVVVVdCGQFVVVVVV2IZAVVVVVVXghkBVVVVVVeiGQFVVVVVV8IZAVVVVVVX4hkBVVVVVVQCHQFVVVVVVCIdAVVVVVVUQh0BVVVVVVRiHQFVVVVVVIIdA\",\"dtype\":\"float64\",\"order\":\"little\",\"shape\":[147]},\"y\":{\"__ndarray__\":\"8Y1eWOeqd0Bk5up+x6x3QNg+d6WnrndAS5cDzIewd0C+74/yZ7J3QDJIHBlItHdApaCoPyi2d0AY+TRmCLh3QIxRwYzouXdA/6lNs8i7d0ByAtrZqL13QOZaZgCJv3dAWrPyJmnBd0DNC39NScN3QEBkC3QpxXdAtLyXmgnHd0AnFSTB6ch3QJptsOfJyndADsY8DqrMd0CBHsk0is53QPR2VVtq0HdAaM/hgUrSd0DbJ26oKtR3QE+A+s4K1ndAwtiG9erXd0A2MRMcy9l3QKmJn0Kr23dAHOIraYvdd0CQOriPa993QAOTRLZL4XdAduvQ3Cvjd0DqQ10DDOV3QF2c6Sns5ndA0fR1UMzod0BETQJ3rOp3QLiljp2M7HdAK/4axGzud0CeVqfqTPB3QBKvMxEt8ndAhQfANw30d0D4X0xe7fV3QGy42ITN93dA3xBlq635d0BSafHRjft3QMbBffht/XdAOhoKH07/d0CtcpZFLgF4QCDLImwOA3hAlCOvku4EeEAHfDu5zgZ4QHrUx9+uCHhA7ixUBo8KeEBhheAsbwx4QNTdbFNPDnhASDb5eS8QeEC7joWgDxJ4QC/nEcfvE3hAoj+e7c8VeEAWmCoUsBd4QInwtjqQGXhA/EhDYXAbeEBwoc+HUB14QOP5W64wH3hAVlLo1BAheEDKqnT78CJ4QD0DASLRJHhAsVuNSLEmeEAktBlvkSh4QJgMppVxKnhAC2UyvFEseEB+vb7iMS54QPIVSwkSMHhAZW7XL/IxeEDYxmNW0jN4QEwf8HyyNXhAv3d8o5I3eEAy0AjKcjl4QKYolfBSO3hAGYEhFzM9eECN2a09Ez94QAAyOmTzQHhAdIrGitNCeEDn4lKxs0R4QFo739eTRnhAzpNr/nNIeEBB7PckVEp4QLREhEs0THhAKJ0QchROeECb9ZyY9E94QA9OKb/UUXhAgqa15bRTeED2/kEMlVV4QGlXzjJ1V3hA3K9aWVVZeEBQCOd/NVt4QMNgc6YVXXhANrn/zPVeeECqEYzz1WB4QB1qGBq2YnhAkcKkQJZkeEAEGzFndmZ4QHhzvY1WaHhA68tJtDZqeEBeJNbaFmx4QNJ8YgH3bXhARdXuJ9dveEC4LXtOt3F4QCyGB3WXc3hAn96Tm3d1eEASNyDCV3d4QIaPrOg3eXhA+ec4Dxh7eEBtQMU1+Hx4QOCYUVzYfnhAVPHdgriAeEDHSWqpmIJ4QDqi9s94hHhArvqC9liGeEAhUw8dOYh4QJSrm0MZinhACAQoavmLeEB7XLSQ2Y14QO+0QLe5j3hAYg3N3ZmReEDWZVkEepN4QEm+5SpalXhAvBZyUTqXeEAwb/53Gpl4QKPHip76mnhAFiAXxdqceECKeKPrup54QP3QLxKboHhAcCm8OHuieEDkgUhfW6R4QFja1IU7pnhAyzJhrBuoeEA+i+3S+6l4QLLjefnbq3hAJTwGILyteECYlJJGnK94QAztHm18sXhAf0Wrk1yzeEDynTe6PLV4QGb2w+Act3hA2U5QB/24eEBNp9wt3bp4QMD/aFS9vHhA\",\"dtype\":\"float64\",\"order\":\"little\",\"shape\":[147]}},\"selected\":{\"id\":\"489450\"},\"selection_policy\":{\"id\":\"489449\"}},\"id\":\"489434\",\"type\":\"ColumnDataSource\"},{\"attributes\":{},\"id\":\"489386\",\"type\":\"DataRange1d\"}],\"root_ids\":[\"489383\"]},\"title\":\"Bokeh Application\",\"version\":\"2.4.1\"}};\n",
       "  const render_items = [{\"docid\":\"7312edf6-3cf0-467d-a87b-23407a9a0056\",\"root_ids\":[\"489383\"],\"roots\":{\"489383\":\"ca0c899b-622c-4b6a-929e-accfa7b7d852\"}}];\n",
       "  root.Bokeh.embed.embed_items_notebook(docs_json, render_items);\n",
       "\n",
       "  }\n",
       "  if (root.Bokeh !== undefined) {\n",
       "    embed_document(root);\n",
       "  } else {\n",
       "    let attempts = 0;\n",
       "    const timer = setInterval(function(root) {\n",
       "      if (root.Bokeh !== undefined) {\n",
       "        clearInterval(timer);\n",
       "        embed_document(root);\n",
       "      } else {\n",
       "        attempts++;\n",
       "        if (attempts > 100) {\n",
       "          clearInterval(timer);\n",
       "          console.log(\"Bokeh: ERROR: Unable to run BokehJS code because BokehJS library is missing\");\n",
       "        }\n",
       "      }\n",
       "    }, 10, root)\n",
       "  }\n",
       "})(window);"
      ],
      "application/vnd.bokehjs_exec.v0+json": ""
     },
     "metadata": {
      "application/vnd.bokehjs_exec.v0+json": {
       "id": "489383"
      }
     },
     "output_type": "display_data"
    }
   ],
   "source": [
    "# Predicting with test data\n",
    "\n",
    "lr_predictions = lr.predict(np.array(X_test).reshape(-1,1))\n",
    "\n",
    "p = figure(plot_width=800, plot_height=600, title = \"Predicting with Linear Model\")\n",
    "p.scatter(X_test, y_test, size=2, line_color=\"navy\", fill_color=\"orange\", fill_alpha=0.5, legend_label =\"Test Data\")\n",
    "p.line(X_test, lr_predictions, line_color=\"orange\", line_width=2.5, legend_label =\"Linear Model Predictions\")\n",
    "p.xaxis.ticker = [620, 660, 700, 740]\n",
    "p.xaxis.major_label_overrides = {620: '2010', 660: '2013', 700: '2016', 740: '2019'}\n",
    "p.xaxis.axis_label ='Time'\n",
    "p.yaxis.axis_label ='CO2 Concentration'\n",
    "p.legend.location = \"bottom_right\"\n",
    "show(p)"
   ]
  },
  {
   "cell_type": "markdown",
   "metadata": {},
   "source": [
    "We notice that the model doesn't predict very well as the line is way outside the predicted data points."
   ]
  },
  {
   "cell_type": "code",
   "execution_count": 1422,
   "metadata": {},
   "outputs": [
    {
     "data": {
      "text/html": [
       "\n",
       "\n",
       "\n",
       "\n",
       "\n",
       "\n",
       "  <div class=\"bk-root\" id=\"5ce7ac38-56c9-4a1e-9633-333cf55e662c\" data-root-id=\"492790\"></div>\n"
      ]
     },
     "metadata": {},
     "output_type": "display_data"
    },
    {
     "data": {
      "application/javascript": [
       "(function(root) {\n",
       "  function embed_document(root) {\n",
       "    \n",
       "  const docs_json = {\"740d4ed3-b4fa-4112-a704-20c489ca955c\":{\"defs\":[],\"roots\":{\"references\":[{\"attributes\":{\"below\":[{\"id\":\"492801\"}],\"center\":[{\"id\":\"492804\"},{\"id\":\"492808\"},{\"id\":\"492839\"}],\"left\":[{\"id\":\"492805\"}],\"renderers\":[{\"id\":\"492827\"}],\"title\":{\"id\":\"492791\"},\"toolbar\":{\"id\":\"492816\"},\"width\":800,\"x_range\":{\"id\":\"492793\"},\"x_scale\":{\"id\":\"492797\"},\"y_range\":{\"id\":\"492795\"},\"y_scale\":{\"id\":\"492799\"}},\"id\":\"492790\",\"subtype\":\"Figure\",\"type\":\"Plot\"},{\"attributes\":{\"data\":{\"x\":{\"__ndarray__\":\"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\",\"dtype\":\"float64\",\"order\":\"little\",\"shape\":[587]},\"y\":{\"__ndarray__\":\"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\",\"dtype\":\"float64\",\"order\":\"little\",\"shape\":[587]}},\"selected\":{\"id\":\"492837\"},\"selection_policy\":{\"id\":\"492836\"}},\"id\":\"492823\",\"type\":\"ColumnDataSource\"},{\"attributes\":{},\"id\":\"492813\",\"type\":\"ResetTool\"},{\"attributes\":{},\"id\":\"492793\",\"type\":\"DataRange1d\"},{\"attributes\":{},\"id\":\"492812\",\"type\":\"SaveTool\"},{\"attributes\":{},\"id\":\"492809\",\"type\":\"PanTool\"},{\"attributes\":{},\"id\":\"492831\",\"type\":\"BasicTickFormatter\"},{\"attributes\":{},\"id\":\"492795\",\"type\":\"DataRange1d\"},{\"attributes\":{},\"id\":\"492797\",\"type\":\"LinearScale\"},{\"attributes\":{},\"id\":\"492832\",\"type\":\"AllLabels\"},{\"attributes\":{\"coordinates\":null,\"data_source\":{\"id\":\"492823\"},\"glyph\":{\"id\":\"492824\"},\"group\":null,\"hover_glyph\":null,\"muted_glyph\":{\"id\":\"492826\"},\"nonselection_glyph\":{\"id\":\"492825\"},\"view\":{\"id\":\"492828\"}},\"id\":\"492827\",\"type\":\"GlyphRenderer\"},{\"attributes\":{\"overlay\":{\"id\":\"492815\"}},\"id\":\"492811\",\"type\":\"BoxZoomTool\"},{\"attributes\":{\"tools\":[{\"id\":\"492809\"},{\"id\":\"492810\"},{\"id\":\"492811\"},{\"id\":\"492812\"},{\"id\":\"492813\"},{\"id\":\"492814\"}]},\"id\":\"492816\",\"type\":\"Toolbar\"},{\"attributes\":{\"axis\":{\"id\":\"492805\"},\"coordinates\":null,\"dimension\":1,\"group\":null,\"ticker\":null},\"id\":\"492808\",\"type\":\"Grid\"},{\"attributes\":{},\"id\":\"492806\",\"type\":\"BasicTicker\"},{\"attributes\":{},\"id\":\"492834\",\"type\":\"BasicTickFormatter\"},{\"attributes\":{},\"id\":\"492814\",\"type\":\"HelpTool\"},{\"attributes\":{\"coordinates\":null,\"formatter\":{\"id\":\"492834\"},\"group\":null,\"major_label_policy\":{\"id\":\"492835\"},\"ticker\":{\"id\":\"492802\"}},\"id\":\"492801\",\"type\":\"LinearAxis\"},{\"attributes\":{},\"id\":\"492835\",\"type\":\"AllLabels\"},{\"attributes\":{\"fill_alpha\":{\"value\":0.2},\"fill_color\":{\"value\":\"blue\"},\"hatch_alpha\":{\"value\":0.2},\"line_alpha\":{\"value\":0.2},\"line_color\":{\"value\":\"navy\"},\"size\":{\"value\":2},\"x\":{\"field\":\"x\"},\"y\":{\"field\":\"y\"}},\"id\":\"492826\",\"type\":\"Scatter\"},{\"attributes\":{\"label\":{\"value\":\"Residuals\"},\"renderers\":[{\"id\":\"492827\"}]},\"id\":\"492840\",\"type\":\"LegendItem\"},{\"attributes\":{\"fill_alpha\":{\"value\":0.1},\"fill_color\":{\"value\":\"blue\"},\"hatch_alpha\":{\"value\":0.1},\"line_alpha\":{\"value\":0.1},\"line_color\":{\"value\":\"navy\"},\"size\":{\"value\":2},\"x\":{\"field\":\"x\"},\"y\":{\"field\":\"y\"}},\"id\":\"492825\",\"type\":\"Scatter\"},{\"attributes\":{\"bottom_units\":\"screen\",\"coordinates\":null,\"fill_alpha\":0.5,\"fill_color\":\"lightgrey\",\"group\":null,\"left_units\":\"screen\",\"level\":\"overlay\",\"line_alpha\":1.0,\"line_color\":\"black\",\"line_dash\":[4,4],\"line_width\":2,\"right_units\":\"screen\",\"syncable\":false,\"top_units\":\"screen\"},\"id\":\"492815\",\"type\":\"BoxAnnotation\"},{\"attributes\":{\"source\":{\"id\":\"492823\"}},\"id\":\"492828\",\"type\":\"CDSView\"},{\"attributes\":{\"axis\":{\"id\":\"492801\"},\"coordinates\":null,\"group\":null,\"ticker\":null},\"id\":\"492804\",\"type\":\"Grid\"},{\"attributes\":{\"coordinates\":null,\"group\":null,\"items\":[{\"id\":\"492840\"}],\"location\":\"bottom_right\"},\"id\":\"492839\",\"type\":\"Legend\"},{\"attributes\":{},\"id\":\"492799\",\"type\":\"LinearScale\"},{\"attributes\":{},\"id\":\"492836\",\"type\":\"UnionRenderers\"},{\"attributes\":{},\"id\":\"492837\",\"type\":\"Selection\"},{\"attributes\":{},\"id\":\"492802\",\"type\":\"BasicTicker\"},{\"attributes\":{\"axis_label\":\"Residual\",\"coordinates\":null,\"formatter\":{\"id\":\"492831\"},\"group\":null,\"major_label_policy\":{\"id\":\"492832\"},\"ticker\":{\"id\":\"492806\"}},\"id\":\"492805\",\"type\":\"LinearAxis\"},{\"attributes\":{\"fill_alpha\":{\"value\":0.5},\"fill_color\":{\"value\":\"blue\"},\"line_color\":{\"value\":\"navy\"},\"size\":{\"value\":2},\"x\":{\"field\":\"x\"},\"y\":{\"field\":\"y\"}},\"id\":\"492824\",\"type\":\"Scatter\"},{\"attributes\":{},\"id\":\"492810\",\"type\":\"WheelZoomTool\"},{\"attributes\":{\"coordinates\":null,\"group\":null,\"text\":\"Residuals for Linear Model\"},\"id\":\"492791\",\"type\":\"Title\"}],\"root_ids\":[\"492790\"]},\"title\":\"Bokeh Application\",\"version\":\"2.4.1\"}};\n",
       "  const render_items = [{\"docid\":\"740d4ed3-b4fa-4112-a704-20c489ca955c\",\"root_ids\":[\"492790\"],\"roots\":{\"492790\":\"5ce7ac38-56c9-4a1e-9633-333cf55e662c\"}}];\n",
       "  root.Bokeh.embed.embed_items_notebook(docs_json, render_items);\n",
       "\n",
       "  }\n",
       "  if (root.Bokeh !== undefined) {\n",
       "    embed_document(root);\n",
       "  } else {\n",
       "    let attempts = 0;\n",
       "    const timer = setInterval(function(root) {\n",
       "      if (root.Bokeh !== undefined) {\n",
       "        clearInterval(timer);\n",
       "        embed_document(root);\n",
       "      } else {\n",
       "        attempts++;\n",
       "        if (attempts > 100) {\n",
       "          clearInterval(timer);\n",
       "          console.log(\"Bokeh: ERROR: Unable to run BokehJS code because BokehJS library is missing\");\n",
       "        }\n",
       "      }\n",
       "    }, 10, root)\n",
       "  }\n",
       "})(window);"
      ],
      "application/vnd.bokehjs_exec.v0+json": ""
     },
     "metadata": {
      "application/vnd.bokehjs_exec.v0+json": {
       "id": "492790"
      }
     },
     "output_type": "display_data"
    }
   ],
   "source": [
    "# Plotting the residuals \n",
    "\n",
    "lr_residuals = y_train - lr_linear_fit\n",
    "p = figure(plot_width=800, plot_height=600, title = \"Residuals for Linear Model\")\n",
    "p.scatter(X_train, lr_residuals ,size=2, line_color=\"navy\", fill_color=\"blue\", fill_alpha=0.5, legend_label =\"Residuals\")\n",
    "\n",
    "p.yaxis.axis_label ='Residual'\n",
    "p.legend.location = \"bottom_right\"\n",
    "show(p)"
   ]
  },
  {
   "cell_type": "markdown",
   "metadata": {},
   "source": [
    "We notice a concave shape on the residuals that indicates that the model is not able to predict very well as the residuals are not scattered randomly around zero. The residuals show that they hide a pattern that hasn't been found yet with the model."
   ]
  },
  {
   "cell_type": "code",
   "execution_count": 1423,
   "metadata": {},
   "outputs": [
    {
     "name": "stdout",
     "output_type": "stream",
     "text": [
      "The RMSE on test data is 10.641458521874668\n",
      "The MAPE on test data is 2.4504549564431417\n"
     ]
    }
   ],
   "source": [
    "# Calculating the prediction errors RMSE and MAPE\n",
    "\n",
    "rmse_linear = (mean_squared_error(y_test, lr_predictions, squared=False))\n",
    "print(\"The RMSE on test data is \" + str(rmse_linear))\n",
    "\n",
    "mape_linear = mean_absolute_percentage_error(y_test, lr_predictions)\n",
    "print(\"The MAPE on test data is \" + str(mape_linear*100)) # as a percentage"
   ]
  },
  {
   "cell_type": "markdown",
   "metadata": {},
   "source": [
    "In the problems below, we will fit quadratic and cubic models to the data and compute again $\\text {RMSE}$ and $\\text {MAPE}$. We will then evaluate which of these models is the lowest degree model that still captures the trend of the data best sufficiently.\n",
    "\n",
    "Now, fit the data to a quadratic model $F_2(t) \\sim \\beta _0 + \\beta _1 t + \\beta _2 t^2$.\n",
    "\n",
    "<b> What are the values of $\\hat\\beta_0$, $\\hat\\beta_1$ and $\\hat\\beta_2$?</b>"
   ]
  },
  {
   "cell_type": "code",
   "execution_count": 1424,
   "metadata": {},
   "outputs": [
    {
     "data": {
      "text/plain": [
       "Pipeline(steps=[('polynomialfeatures', PolynomialFeatures()),\n",
       "                ('linearregression', LinearRegression())])"
      ]
     },
     "execution_count": 1424,
     "metadata": {},
     "output_type": "execute_result"
    }
   ],
   "source": [
    "# Fitting quadratic model\n",
    "\n",
    "qr = make_pipeline(PolynomialFeatures(2),LinearRegression())\n",
    "qr.fit(np.array(X_train).reshape(-1, 1), y_train)"
   ]
  },
  {
   "cell_type": "code",
   "execution_count": 1425,
   "metadata": {},
   "outputs": [
    {
     "name": "stdout",
     "output_type": "stream",
     "text": [
      "The quadratic model F(t) = 8.41493034591782e-05*t^2 + 0.06691855529153154*t + 314.1312375143947\n"
     ]
    }
   ],
   "source": [
    "# Quadratic model coefficients\n",
    "\n",
    "qr_coefficients = [qr.named_steps.linearregression.coef_[-1], qr.named_steps.linearregression.coef_[-2], qr.named_steps.linearregression.intercept_]\n",
    "print(\"The quadratic model F(t) = \" +str(qr_coefficients[0])+\"*t^2 + \" +str(qr_coefficients[1])+\"*t + \" +str(qr_coefficients[2])+\"\")"
   ]
  },
  {
   "cell_type": "code",
   "execution_count": 1426,
   "metadata": {},
   "outputs": [
    {
     "data": {
      "text/html": [
       "\n",
       "\n",
       "\n",
       "\n",
       "\n",
       "\n",
       "  <div class=\"bk-root\" id=\"824b828c-6590-43fa-9e2a-e4d5c26eb626\" data-root-id=\"496181\"></div>\n"
      ]
     },
     "metadata": {},
     "output_type": "display_data"
    },
    {
     "data": {
      "application/javascript": [
       "(function(root) {\n",
       "  function embed_document(root) {\n",
       "    \n",
       "  const docs_json = {\"1148a3a8-7c6a-4e92-9ca4-da4289744223\":{\"defs\":[],\"roots\":{\"references\":[{\"attributes\":{\"below\":[{\"id\":\"496192\"}],\"center\":[{\"id\":\"496195\"},{\"id\":\"496199\"},{\"id\":\"496230\"}],\"left\":[{\"id\":\"496196\"}],\"renderers\":[{\"id\":\"496218\"},{\"id\":\"496236\"}],\"title\":{\"id\":\"496182\"},\"toolbar\":{\"id\":\"496207\"},\"width\":800,\"x_range\":{\"id\":\"496184\"},\"x_scale\":{\"id\":\"496188\"},\"y_range\":{\"id\":\"496186\"},\"y_scale\":{\"id\":\"496190\"}},\"id\":\"496181\",\"subtype\":\"Figure\",\"type\":\"Plot\"},{\"attributes\":{\"coordinates\":null,\"group\":null,\"text\":\"Modeling with the Quadratic Model\"},\"id\":\"496182\",\"type\":\"Title\"},{\"attributes\":{},\"id\":\"496222\",\"type\":\"BasicTickFormatter\"},{\"attributes\":{},\"id\":\"496247\",\"type\":\"UnionRenderers\"},{\"attributes\":{},\"id\":\"496223\",\"type\":\"AllLabels\"},{\"attributes\":{\"coordinates\":null,\"data_source\":{\"id\":\"496214\"},\"glyph\":{\"id\":\"496215\"},\"group\":null,\"hover_glyph\":null,\"muted_glyph\":{\"id\":\"496217\"},\"nonselection_glyph\":{\"id\":\"496216\"},\"view\":{\"id\":\"496219\"}},\"id\":\"496218\",\"type\":\"GlyphRenderer\"},{\"attributes\":{},\"id\":\"496203\",\"type\":\"SaveTool\"},{\"attributes\":{\"axis\":{\"id\":\"496196\"},\"coordinates\":null,\"dimension\":1,\"group\":null,\"ticker\":null},\"id\":\"496199\",\"type\":\"Grid\"},{\"attributes\":{},\"id\":\"496225\",\"type\":\"BasicTickFormatter\"},{\"attributes\":{},\"id\":\"496248\",\"type\":\"Selection\"},{\"attributes\":{\"tools\":[{\"id\":\"496200\"},{\"id\":\"496201\"},{\"id\":\"496202\"},{\"id\":\"496203\"},{\"id\":\"496204\"},{\"id\":\"496205\"}]},\"id\":\"496207\",\"type\":\"Toolbar\"},{\"attributes\":{},\"id\":\"496204\",\"type\":\"ResetTool\"},{\"attributes\":{\"fill_alpha\":{\"value\":0.2},\"fill_color\":{\"value\":\"orange\"},\"hatch_alpha\":{\"value\":0.2},\"line_alpha\":{\"value\":0.2},\"line_color\":{\"value\":\"navy\"},\"size\":{\"value\":2},\"x\":{\"field\":\"x\"},\"y\":{\"field\":\"y\"}},\"id\":\"496217\",\"type\":\"Scatter\"},{\"attributes\":{},\"id\":\"496226\",\"type\":\"AllLabels\"},{\"attributes\":{\"label\":{\"value\":\"Original Data\"},\"renderers\":[{\"id\":\"496218\"}]},\"id\":\"496231\",\"type\":\"LegendItem\"},{\"attributes\":{\"fill_alpha\":{\"value\":0.1},\"fill_color\":{\"value\":\"orange\"},\"hatch_alpha\":{\"value\":0.1},\"line_alpha\":{\"value\":0.1},\"line_color\":{\"value\":\"navy\"},\"size\":{\"value\":2},\"x\":{\"field\":\"x\"},\"y\":{\"field\":\"y\"}},\"id\":\"496216\",\"type\":\"Scatter\"},{\"attributes\":{},\"id\":\"496227\",\"type\":\"UnionRenderers\"},{\"attributes\":{\"source\":{\"id\":\"496214\"}},\"id\":\"496219\",\"type\":\"CDSView\"},{\"attributes\":{\"coordinates\":null,\"group\":null,\"items\":[{\"id\":\"496231\"},{\"id\":\"496250\"}],\"location\":\"bottom_right\"},\"id\":\"496230\",\"type\":\"Legend\"},{\"attributes\":{},\"id\":\"496205\",\"type\":\"HelpTool\"},{\"attributes\":{\"overlay\":{\"id\":\"496206\"}},\"id\":\"496202\",\"type\":\"BoxZoomTool\"},{\"attributes\":{},\"id\":\"496228\",\"type\":\"Selection\"},{\"attributes\":{},\"id\":\"496188\",\"type\":\"LinearScale\"},{\"attributes\":{},\"id\":\"496201\",\"type\":\"WheelZoomTool\"},{\"attributes\":{\"axis_label\":\"CO2 Concentration\",\"coordinates\":null,\"formatter\":{\"id\":\"496222\"},\"group\":null,\"major_label_policy\":{\"id\":\"496223\"},\"ticker\":{\"id\":\"496197\"}},\"id\":\"496196\",\"type\":\"LinearAxis\"},{\"attributes\":{},\"id\":\"496190\",\"type\":\"LinearScale\"},{\"attributes\":{\"axis_label\":\"Time\",\"coordinates\":null,\"formatter\":{\"id\":\"496225\"},\"group\":null,\"major_label_overrides\":{\"0\":\"1958\",\"200\":\"1976\",\"400\":\"1992\",\"600\":\"2008\"},\"major_label_policy\":{\"id\":\"496226\"},\"ticker\":{\"id\":\"496251\"}},\"id\":\"496192\",\"type\":\"LinearAxis\"},{\"attributes\":{},\"id\":\"496184\",\"type\":\"DataRange1d\"},{\"attributes\":{\"line_alpha\":0.1,\"line_color\":\"orange\",\"line_width\":2.5,\"x\":{\"field\":\"x\"},\"y\":{\"field\":\"y\"}},\"id\":\"496234\",\"type\":\"Line\"},{\"attributes\":{\"coordinates\":null,\"data_source\":{\"id\":\"496232\"},\"glyph\":{\"id\":\"496233\"},\"group\":null,\"hover_glyph\":null,\"muted_glyph\":{\"id\":\"496235\"},\"nonselection_glyph\":{\"id\":\"496234\"},\"view\":{\"id\":\"496237\"}},\"id\":\"496236\",\"type\":\"GlyphRenderer\"},{\"attributes\":{\"data\":{\"x\":{\"__ndarray__\":\"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\",\"dtype\":\"float64\",\"order\":\"little\",\"shape\":[587]},\"y\":{\"__ndarray__\":\"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\",\"dtype\":\"float64\",\"order\":\"little\",\"shape\":[587]}},\"selected\":{\"id\":\"496248\"},\"selection_policy\":{\"id\":\"496247\"}},\"id\":\"496232\",\"type\":\"ColumnDataSource\"},{\"attributes\":{\"fill_alpha\":{\"value\":0.5},\"fill_color\":{\"value\":\"orange\"},\"line_color\":{\"value\":\"navy\"},\"size\":{\"value\":2},\"x\":{\"field\":\"x\"},\"y\":{\"field\":\"y\"}},\"id\":\"496215\",\"type\":\"Scatter\"},{\"attributes\":{\"data\":{\"x\":{\"__ndarray__\":\"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\",\"dtype\":\"float64\",\"order\":\"little\",\"shape\":[587]},\"y\":{\"__ndarray__\":\"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\",\"dtype\":\"float64\",\"order\":\"little\",\"shape\":[587]}},\"selected\":{\"id\":\"496228\"},\"selection_policy\":{\"id\":\"496227\"}},\"id\":\"496214\",\"type\":\"ColumnDataSource\"},{\"attributes\":{\"line_alpha\":0.2,\"line_color\":\"orange\",\"line_width\":2.5,\"x\":{\"field\":\"x\"},\"y\":{\"field\":\"y\"}},\"id\":\"496235\",\"type\":\"Line\"},{\"attributes\":{\"axis\":{\"id\":\"496192\"},\"coordinates\":null,\"group\":null,\"ticker\":null},\"id\":\"496195\",\"type\":\"Grid\"},{\"attributes\":{\"line_color\":\"orange\",\"line_width\":2.5,\"x\":{\"field\":\"x\"},\"y\":{\"field\":\"y\"}},\"id\":\"496233\",\"type\":\"Line\"},{\"attributes\":{\"source\":{\"id\":\"496232\"}},\"id\":\"496237\",\"type\":\"CDSView\"},{\"attributes\":{},\"id\":\"496186\",\"type\":\"DataRange1d\"},{\"attributes\":{\"label\":{\"value\":\"Quadratic Fit\"},\"renderers\":[{\"id\":\"496236\"}]},\"id\":\"496250\",\"type\":\"LegendItem\"},{\"attributes\":{\"ticks\":[0,200,400,600]},\"id\":\"496251\",\"type\":\"FixedTicker\"},{\"attributes\":{},\"id\":\"496197\",\"type\":\"BasicTicker\"},{\"attributes\":{},\"id\":\"496200\",\"type\":\"PanTool\"},{\"attributes\":{\"bottom_units\":\"screen\",\"coordinates\":null,\"fill_alpha\":0.5,\"fill_color\":\"lightgrey\",\"group\":null,\"left_units\":\"screen\",\"level\":\"overlay\",\"line_alpha\":1.0,\"line_color\":\"black\",\"line_dash\":[4,4],\"line_width\":2,\"right_units\":\"screen\",\"syncable\":false,\"top_units\":\"screen\"},\"id\":\"496206\",\"type\":\"BoxAnnotation\"}],\"root_ids\":[\"496181\"]},\"title\":\"Bokeh Application\",\"version\":\"2.4.1\"}};\n",
       "  const render_items = [{\"docid\":\"1148a3a8-7c6a-4e92-9ca4-da4289744223\",\"root_ids\":[\"496181\"],\"roots\":{\"496181\":\"824b828c-6590-43fa-9e2a-e4d5c26eb626\"}}];\n",
       "  root.Bokeh.embed.embed_items_notebook(docs_json, render_items);\n",
       "\n",
       "  }\n",
       "  if (root.Bokeh !== undefined) {\n",
       "    embed_document(root);\n",
       "  } else {\n",
       "    let attempts = 0;\n",
       "    const timer = setInterval(function(root) {\n",
       "      if (root.Bokeh !== undefined) {\n",
       "        clearInterval(timer);\n",
       "        embed_document(root);\n",
       "      } else {\n",
       "        attempts++;\n",
       "        if (attempts > 100) {\n",
       "          clearInterval(timer);\n",
       "          console.log(\"Bokeh: ERROR: Unable to run BokehJS code because BokehJS library is missing\");\n",
       "        }\n",
       "      }\n",
       "    }, 10, root)\n",
       "  }\n",
       "})(window);"
      ],
      "application/vnd.bokehjs_exec.v0+json": ""
     },
     "metadata": {
      "application/vnd.bokehjs_exec.v0+json": {
       "id": "496181"
      }
     },
     "output_type": "display_data"
    }
   ],
   "source": [
    "# Plotting quadratic fit of the model\n",
    "\n",
    "qr_quadratic_fit = qr.predict(np.array(X_train).reshape(-1, 1))\n",
    "\n",
    "p = figure(plot_width=800, plot_height=600, title = \"Modeling with the Quadratic Model\")\n",
    "p.scatter(X_train, y_train, size=2, line_color=\"navy\", fill_color=\"orange\", fill_alpha=0.5, legend_label =\"Original Data\")\n",
    "p.line(X_train, qr_quadratic_fit, line_color=\"orange\", line_width=2.5, legend_label =\"Quadratic Fit\")\n",
    "p.xaxis.ticker = [0, 200, 400, 600]\n",
    "p.xaxis.major_label_overrides = {0: '1958', 200: '1976', 400: '1992', 600: '2008'}\n",
    "p.xaxis.axis_label ='Time'\n",
    "p.yaxis.axis_label ='CO2 Concentration'\n",
    "p.legend.location = \"bottom_right\"\n",
    "show(p)"
   ]
  },
  {
   "cell_type": "markdown",
   "metadata": {},
   "source": [
    "This time the fit is better also in the beginning and at the end which indicates this is a better model compared to the previous one in modeling the data."
   ]
  },
  {
   "cell_type": "markdown",
   "metadata": {},
   "source": [
    "<b> Plot the residual error $R_{quadratic}(t)=C(t)-F_2(t)$. Report the root mean squared prediction error $\\text {RMSE}$ and the mean absolute percentage error $\\text {MAPE}$ with respect to the test set for the quadratic model.</b>"
   ]
  },
  {
   "cell_type": "code",
   "execution_count": 1427,
   "metadata": {},
   "outputs": [
    {
     "data": {
      "text/html": [
       "\n",
       "\n",
       "\n",
       "\n",
       "\n",
       "\n",
       "  <div class=\"bk-root\" id=\"8a241ea7-b258-4fca-a277-744bf71e039d\" data-root-id=\"499609\"></div>\n"
      ]
     },
     "metadata": {},
     "output_type": "display_data"
    },
    {
     "data": {
      "application/javascript": [
       "(function(root) {\n",
       "  function embed_document(root) {\n",
       "    \n",
       "  const docs_json = {\"f5f2eecf-a1b8-4f66-808d-2e559c4ade74\":{\"defs\":[],\"roots\":{\"references\":[{\"attributes\":{\"below\":[{\"id\":\"499620\"}],\"center\":[{\"id\":\"499623\"},{\"id\":\"499627\"},{\"id\":\"499658\"}],\"left\":[{\"id\":\"499624\"}],\"renderers\":[{\"id\":\"499646\"},{\"id\":\"499664\"}],\"title\":{\"id\":\"499610\"},\"toolbar\":{\"id\":\"499635\"},\"width\":800,\"x_range\":{\"id\":\"499612\"},\"x_scale\":{\"id\":\"499616\"},\"y_range\":{\"id\":\"499614\"},\"y_scale\":{\"id\":\"499618\"}},\"id\":\"499609\",\"subtype\":\"Figure\",\"type\":\"Plot\"},{\"attributes\":{},\"id\":\"499614\",\"type\":\"DataRange1d\"},{\"attributes\":{\"axis\":{\"id\":\"499620\"},\"coordinates\":null,\"group\":null,\"ticker\":null},\"id\":\"499623\",\"type\":\"Grid\"},{\"attributes\":{\"coordinates\":null,\"data_source\":{\"id\":\"499660\"},\"glyph\":{\"id\":\"499661\"},\"group\":null,\"hover_glyph\":null,\"muted_glyph\":{\"id\":\"499663\"},\"nonselection_glyph\":{\"id\":\"499662\"},\"view\":{\"id\":\"499665\"}},\"id\":\"499664\",\"type\":\"GlyphRenderer\"},{\"attributes\":{\"axis_label\":\"CO2 Concentration\",\"coordinates\":null,\"formatter\":{\"id\":\"499650\"},\"group\":null,\"major_label_policy\":{\"id\":\"499651\"},\"ticker\":{\"id\":\"499625\"}},\"id\":\"499624\",\"type\":\"LinearAxis\"},{\"attributes\":{},\"id\":\"499655\",\"type\":\"UnionRenderers\"},{\"attributes\":{},\"id\":\"499618\",\"type\":\"LinearScale\"},{\"attributes\":{\"line_alpha\":0.2,\"line_color\":\"orange\",\"line_width\":2.5,\"x\":{\"field\":\"x\"},\"y\":{\"field\":\"y\"}},\"id\":\"499663\",\"type\":\"Line\"},{\"attributes\":{\"coordinates\":null,\"group\":null,\"text\":\"Predicting with Quadratic Model\"},\"id\":\"499610\",\"type\":\"Title\"},{\"attributes\":{\"source\":{\"id\":\"499642\"}},\"id\":\"499647\",\"type\":\"CDSView\"},{\"attributes\":{},\"id\":\"499656\",\"type\":\"Selection\"},{\"attributes\":{},\"id\":\"499616\",\"type\":\"LinearScale\"},{\"attributes\":{},\"id\":\"499612\",\"type\":\"DataRange1d\"},{\"attributes\":{\"axis_label\":\"Time\",\"coordinates\":null,\"formatter\":{\"id\":\"499653\"},\"group\":null,\"major_label_overrides\":{\"620\":\"2010\",\"660\":\"2013\",\"700\":\"2016\",\"740\":\"2019\"},\"major_label_policy\":{\"id\":\"499654\"},\"ticker\":{\"id\":\"499679\"}},\"id\":\"499620\",\"type\":\"LinearAxis\"},{\"attributes\":{},\"id\":\"499633\",\"type\":\"HelpTool\"},{\"attributes\":{\"fill_alpha\":{\"value\":0.1},\"fill_color\":{\"value\":\"orange\"},\"hatch_alpha\":{\"value\":0.1},\"line_alpha\":{\"value\":0.1},\"line_color\":{\"value\":\"navy\"},\"size\":{\"value\":2},\"x\":{\"field\":\"x\"},\"y\":{\"field\":\"y\"}},\"id\":\"499644\",\"type\":\"Scatter\"},{\"attributes\":{\"coordinates\":null,\"data_source\":{\"id\":\"499642\"},\"glyph\":{\"id\":\"499643\"},\"group\":null,\"hover_glyph\":null,\"muted_glyph\":{\"id\":\"499645\"},\"nonselection_glyph\":{\"id\":\"499644\"},\"view\":{\"id\":\"499647\"}},\"id\":\"499646\",\"type\":\"GlyphRenderer\"},{\"attributes\":{\"coordinates\":null,\"group\":null,\"items\":[{\"id\":\"499659\"},{\"id\":\"499678\"}],\"location\":\"bottom_right\"},\"id\":\"499658\",\"type\":\"Legend\"},{\"attributes\":{\"axis\":{\"id\":\"499624\"},\"coordinates\":null,\"dimension\":1,\"group\":null,\"ticker\":null},\"id\":\"499627\",\"type\":\"Grid\"},{\"attributes\":{\"label\":{\"value\":\"Test Data\"},\"renderers\":[{\"id\":\"499646\"}]},\"id\":\"499659\",\"type\":\"LegendItem\"},{\"attributes\":{},\"id\":\"499625\",\"type\":\"BasicTicker\"},{\"attributes\":{\"line_alpha\":0.1,\"line_color\":\"orange\",\"line_width\":2.5,\"x\":{\"field\":\"x\"},\"y\":{\"field\":\"y\"}},\"id\":\"499662\",\"type\":\"Line\"},{\"attributes\":{},\"id\":\"499629\",\"type\":\"WheelZoomTool\"},{\"attributes\":{\"tools\":[{\"id\":\"499628\"},{\"id\":\"499629\"},{\"id\":\"499630\"},{\"id\":\"499631\"},{\"id\":\"499632\"},{\"id\":\"499633\"}]},\"id\":\"499635\",\"type\":\"Toolbar\"},{\"attributes\":{},\"id\":\"499628\",\"type\":\"PanTool\"},{\"attributes\":{\"fill_alpha\":{\"value\":0.2},\"fill_color\":{\"value\":\"orange\"},\"hatch_alpha\":{\"value\":0.2},\"line_alpha\":{\"value\":0.2},\"line_color\":{\"value\":\"navy\"},\"size\":{\"value\":2},\"x\":{\"field\":\"x\"},\"y\":{\"field\":\"y\"}},\"id\":\"499645\",\"type\":\"Scatter\"},{\"attributes\":{\"ticks\":[620,660,700,740]},\"id\":\"499679\",\"type\":\"FixedTicker\"},{\"attributes\":{\"overlay\":{\"id\":\"499634\"}},\"id\":\"499630\",\"type\":\"BoxZoomTool\"},{\"attributes\":{\"line_color\":\"orange\",\"line_width\":2.5,\"x\":{\"field\":\"x\"},\"y\":{\"field\":\"y\"}},\"id\":\"499661\",\"type\":\"Line\"},{\"attributes\":{\"source\":{\"id\":\"499660\"}},\"id\":\"499665\",\"type\":\"CDSView\"},{\"attributes\":{},\"id\":\"499631\",\"type\":\"SaveTool\"},{\"attributes\":{\"label\":{\"value\":\"Quadratic Model Predictions\"},\"renderers\":[{\"id\":\"499664\"}]},\"id\":\"499678\",\"type\":\"LegendItem\"},{\"attributes\":{},\"id\":\"499632\",\"type\":\"ResetTool\"},{\"attributes\":{\"bottom_units\":\"screen\",\"coordinates\":null,\"fill_alpha\":0.5,\"fill_color\":\"lightgrey\",\"group\":null,\"left_units\":\"screen\",\"level\":\"overlay\",\"line_alpha\":1.0,\"line_color\":\"black\",\"line_dash\":[4,4],\"line_width\":2,\"right_units\":\"screen\",\"syncable\":false,\"top_units\":\"screen\"},\"id\":\"499634\",\"type\":\"BoxAnnotation\"},{\"attributes\":{},\"id\":\"499676\",\"type\":\"Selection\"},{\"attributes\":{},\"id\":\"499650\",\"type\":\"BasicTickFormatter\"},{\"attributes\":{},\"id\":\"499651\",\"type\":\"AllLabels\"},{\"attributes\":{},\"id\":\"499675\",\"type\":\"UnionRenderers\"},{\"attributes\":{\"data\":{\"x\":{\"__ndarray__\":\"VVVVVVWQgkBVVVVVVZiCQFVVVVVVoIJAVVVVVVWogkBVVVVVVbCCQFVVVVVVuIJAVVVVVVXAgkBVVVVVVciCQFVVVVVV0IJAVVVVVVXYgkBVVVVVVeCCQFVVVVVV6IJAVVVVVVXwgkBVVVVVVfiCQFVVVVVVAINAVVVVVVUIg0BVVVVVVRCDQFVVVVVVGINAVVVVVVUgg0BVVVVVVSiDQFVVVVVVMINAVVVVVVU4g0BVVVVVVUCDQFVVVVVVSINAVVVVVVVQg0BVVVVVVViDQFVVVVVVYINAVVVVVVVog0BVVVVVVXCDQFVVVVVVeINAVVVVVVWAg0BVVVVVVYiDQFVVVVVVkINAVVVVVVWYg0BVVVVVVaCDQFVVVVVVqINAVVVVVVWwg0BVVVVVVbiDQFVVVVVVwINAVVVVVVXIg0BVVVVVVdCDQFVVVVVV2INAVVVVVVXgg0BVVVVVVeiDQFVVVVVV8INAVVVVVVX4g0BVVVVVVQCEQFVVVVVVCIRAVVVVVVUQhEBVVVVVVRiEQFVVVVVVIIRAVVVVVVUohEBVVVVVVTCEQFVVVVVVOIRAVVVVVVVAhEBVVVVVVUiEQFVVVVVVUIRAVVVVVVVYhEBVVVVVVWCEQFVVVVVVaIRAVVVVVVVwhEBVVVVVVXiEQFVVVVVVgIRAVVVVVVWIhEBVVVVVVZCEQFVVVVVVmIRAVVVVVVWghEBVVVVVVaiEQFVVVVVVsIRAVVVVVVW4hEBVVVVVVcCEQFVVVVVVyIRAVVVVVVXQhEBVVVVVVdiEQFVVVVVV4IRAVVVVVVXohEBVVVVVVfCEQFVVVVVV+IRAVVVVVVUAhUBVVVVVVQiFQFVVVVVVEIVAVVVVVVUYhUBVVVVVVSCFQFVVVVVVKIVAVVVVVVUwhUBVVVVVVTiFQFVVVVVVQIVAVVVVVVVIhUBVVVVVVVCFQFVVVVVVWIVAVVVVVVVghUBVVVVVVWiFQFVVVVVVcIVAVVVVVVV4hUBVVVVVVYCFQFVVVVVViIVAVVVVVVWQhUBVVVVVVZiFQFVVVVVVoIVAVVVVVVWohUBVVVVVVbCFQFVVVVVVuIVAVVVVVVXAhUBVVVVVVciFQFVVVVVV0IVAVVVVVVXYhUBVVVVVVeCFQFVVVVVV6IVAVVVVVVXwhUBVVVVVVfiFQFVVVVVVAIZAVVVVVVUIhkBVVVVVVRCGQFVVVVVVGIZAVVVVVVUghkBVVVVVVSiGQFVVVVVVMIZAVVVVVVU4hkBVVVVVVUCGQFVVVVVVSIZAVVVVVVVQhkBVVVVVVViGQFVVVVVVYIZAVVVVVVVohkBVVVVVVXCGQFVVVVVVeIZAVVVVVVWAhkBVVVVVVYiGQFVVVVVVkIZAVVVVVVWYhkBVVVVVVaCGQFVVVVVVqIZAVVVVVVWwhkBVVVVVVbiGQFVVVVVVwIZAVVVVVVXIhkBVVVVVVdCGQFVVVVVV2IZAVVVVVVXghkBVVVVVVeiGQFVVVVVV8IZAVVVVVVX4hkBVVVVVVQCHQFVVVVVVCIdAVVVVVVUQh0BVVVVVVRiHQFVVVVVVIIdA\",\"dtype\":\"float64\",\"order\":\"little\",\"shape\":[147]},\"y\":{\"__ndarray__\":\"16NwPQoHeEA9CtejcN13QPYoXI/CzXdA9ihcj8LNd0D2KFyPwuV3QPYoXI/C+XdAhetRuB4ReEA9CtejcB14QOF6FK5HHXhAuB6F61EseEBcj8L1KEh4QM3MzMzMQHhAAAAAAAAkeEDhehSuRwF4QD0K16Nw8XdAFK5H4Xrsd0Bcj8L1KAB4QPYoXI/CEXhAZmZmZmYqeEBSuB6F6zF4QLgehetRSHhAhetRuB5ZeEAfhetRuGJ4QFK4HoXrWXhAhetRuB5BeEDhehSuRyF4QGZmZmZmCnhA4XoUrkcFeEDNzMzMzCB4QKRwPQrXN3hAzczMzMxIeECF61G4HmF4QFyPwvUocHhArkfhehSGeEDsUbgehZN4QKRwPQrXg3hA4XoUrkdleEC4HoXrUUh4QD0K16NwLXhAw/UoXI8yeEAfhetRuEp4QClcj8L1XHhAzczMzMx0eEAfhetRuH54QDMzMzMzh3hAUrgeheuVeEAUrkfheqR4QNejcD0Km3hAPQrXo3CJeECPwvUoXGN4QAAAAAAAUHhAexSuR+FOeECkcD0K12N4QM3MzMzMfHhAhetRuB6ReECamZmZmZV4QPYoXI/CpXhAexSuR+HGeEBSuB6F6814QK5H4XoUvnhAuB6F61GoeEBxPQrXo4h4QK5H4XoUcnhAXI/C9ShweEAzMzMzM494QOF6FK5HpXhA9ihcj8K5eECamZmZmc14QFyPwvUo1HhAmpmZmZnleEBI4XoUrv94QFK4HoXr7XhAUrgehevVeEDD9Shcj7Z4QArXo3A9lnhAMzMzMzObeEDXo3A9CrN4QIXrUbgezXhAH4XrUbjeeECamZmZmeF4QOxRuB6F93hA4XoUrkcVeUCuR+F6FB55QClcj8L1FHlAhetRuB7xeECPwvUoXNN4QGZmZmZmtnhAZmZmZma6eEBI4XoUrtN4QHE9Ctej7HhAmpmZmZn9eEApXI/C9QR5QFyPwvUoGHlAMzMzMzM3eUCamZmZmUF5QK5H4XoULnlA9ihcj8IZeUAAAAAAAPB4QAAAAAAA2HhAFK5H4XrkeECkcD0K1wN5QArXo3A9HnlAZmZmZmYqeUDD9Shcj0J5QJqZmZmZTXlAhetRuB55eUDD9Shcj3p5QAAAAAAAcHlAAAAAAABIeUCkcD0K1yN5QFyPwvUoEHlAAAAAAAAYeUAK16NwPTp5QM3MzMzMSHlAhetRuB5heUAK16NwPWp5QClcj8L1cHlAMzMzMzOPeUDD9Shcj555QFK4HoXrkXlAMzMzMzNzeUCkcD0K11N5QLgehetRNHlACtejcD06eUAfhetRuFJ5QAAAAAAAbHlAzczMzMyAeUA9CtejcIV5QAAAAAAAlHlAzczMzMykeUDNzMzMzLR5QK5H4XoUrnlAZmZmZmaOeUCamZmZmXF5QD0K16NwWXlApHA9CtdfeUBSuB6F64F5QEjhehSuk3lAH4XrUbiueUDD9Shcj7p5QAAAAAAAwHlAuB6F61HYeUDhehSuR+15QI/C9Shc33lAmpmZmZm9eUDhehSuR6F5QM3MzMzMiHlA\",\"dtype\":\"float64\",\"order\":\"little\",\"shape\":[147]}},\"selected\":{\"id\":\"499656\"},\"selection_policy\":{\"id\":\"499655\"}},\"id\":\"499642\",\"type\":\"ColumnDataSource\"},{\"attributes\":{},\"id\":\"499653\",\"type\":\"BasicTickFormatter\"},{\"attributes\":{},\"id\":\"499654\",\"type\":\"AllLabels\"},{\"attributes\":{\"fill_alpha\":{\"value\":0.5},\"fill_color\":{\"value\":\"orange\"},\"line_color\":{\"value\":\"navy\"},\"size\":{\"value\":2},\"x\":{\"field\":\"x\"},\"y\":{\"field\":\"y\"}},\"id\":\"499643\",\"type\":\"Scatter\"},{\"attributes\":{\"data\":{\"x\":{\"__ndarray__\":\"VVVVVVWQgkBVVVVVVZiCQFVVVVVVoIJAVVVVVVWogkBVVVVVVbCCQFVVVVVVuIJAVVVVVVXAgkBVVVVVVciCQFVVVVVV0IJAVVVVVVXYgkBVVVVVVeCCQFVVVVVV6IJAVVVVVVXwgkBVVVVVVfiCQFVVVVVVAINAVVVVVVUIg0BVVVVVVRCDQFVVVVVVGINAVVVVVVUgg0BVVVVVVSiDQFVVVVVVMINAVVVVVVU4g0BVVVVVVUCDQFVVVVVVSINAVVVVVVVQg0BVVVVVVViDQFVVVVVVYINAVVVVVVVog0BVVVVVVXCDQFVVVVVVeINAVVVVVVWAg0BVVVVVVYiDQFVVVVVVkINAVVVVVVWYg0BVVVVVVaCDQFVVVVVVqINAVVVVVVWwg0BVVVVVVbiDQFVVVVVVwINAVVVVVVXIg0BVVVVVVdCDQFVVVVVV2INAVVVVVVXgg0BVVVVVVeiDQFVVVVVV8INAVVVVVVX4g0BVVVVVVQCEQFVVVVVVCIRAVVVVVVUQhEBVVVVVVRiEQFVVVVVVIIRAVVVVVVUohEBVVVVVVTCEQFVVVVVVOIRAVVVVVVVAhEBVVVVVVUiEQFVVVVVVUIRAVVVVVVVYhEBVVVVVVWCEQFVVVVVVaIRAVVVVVVVwhEBVVVVVVXiEQFVVVVVVgIRAVVVVVVWIhEBVVVVVVZCEQFVVVVVVmIRAVVVVVVWghEBVVVVVVaiEQFVVVVVVsIRAVVVVVVW4hEBVVVVVVcCEQFVVVVVVyIRAVVVVVVXQhEBVVVVVVdiEQFVVVVVV4IRAVVVVVVXohEBVVVVVVfCEQFVVVVVV+IRAVVVVVVUAhUBVVVVVVQiFQFVVVVVVEIVAVVVVVVUYhUBVVVVVVSCFQFVVVVVVKIVAVVVVVVUwhUBVVVVVVTiFQFVVVVVVQIVAVVVVVVVIhUBVVVVVVVCFQFVVVVVVWIVAVVVVVVVghUBVVVVVVWiFQFVVVVVVcIVAVVVVVVV4hUBVVVVVVYCFQFVVVVVViIVAVVVVVVWQhUBVVVVVVZiFQFVVVVVVoIVAVVVVVVWohUBVVVVVVbCFQFVVVVVVuIVAVVVVVVXAhUBVVVVVVciFQFVVVVVV0IVAVVVVVVXYhUBVVVVVVeCFQFVVVVVV6IVAVVVVVVXwhUBVVVVVVfiFQFVVVVVVAIZAVVVVVVUIhkBVVVVVVRCGQFVVVVVVGIZAVVVVVVUghkBVVVVVVSiGQFVVVVVVMIZAVVVVVVU4hkBVVVVVVUCGQFVVVVVVSIZAVVVVVVVQhkBVVVVVVViGQFVVVVVVYIZAVVVVVVVohkBVVVVVVXCGQFVVVVVVeIZAVVVVVVWAhkBVVVVVVYiGQFVVVVVVkIZAVVVVVVWYhkBVVVVVVaCGQFVVVVVVqIZAVVVVVVWwhkBVVVVVVbiGQFVVVVVVwIZAVVVVVVXIhkBVVVVVVdCGQFVVVVVV2IZAVVVVVVXghkBVVVVVVeiGQFVVVVVV8IZAVVVVVVX4hkBVVVVVVQCHQFVVVVVVCIdAVVVVVVUQh0BVVVVVVRiHQFVVVVVVIIdA\",\"dtype\":\"float64\",\"order\":\"little\",\"shape\":[147]},\"y\":{\"__ndarray__\":\"nM+MbEL5d0AY29Be7vt3QMk2jgGb/ndAreLEVEgBeEDF3nRY9gN4QBErngylBnhAkcdAcVQJeEBFtFyGBAx4QC3x8Uu1DnhASH4AwmYReECYW4joGBR4QByJib/LFnhA0wYER38ZeEC+1Pd+Mxx4QN7yZGfoHnhAMWFLAJ4heEC4H6tJVCR4QHQuhEMLJ3hAYo3W7cIpeECGPKJIeyx4QNw751M0L3hAZ4ulD+4xeEAmK917qDR4QBgbjphjN3hAP1u4ZR86eECa61vj2zx4QCjMeBGZP3hA6vwO8FZCeEDgfR5/FUV4QAtPp77UR3hAaXCprpRKeED74SRPVU14QMGjGaAWUHhAu7WHodhSeEDoF29Tm1V4QErKz7VeWHhA4MypyCJbeECqH/2L5114QKjCyf+sYHhA2bUPJHNjeEA++c74OWZ4QNeMB34BaXhApHC5s8lreECmpOSZkm54QNsoiTBccXhARP2mdyZ0eEDgIT5v8XZ4QLKWThe9eXhAtlvYb4l8eEDvcNt4Vn94QFzWVzIkgnhA/ItNnPKEeEDQkby2wYd4QNnnpIGRinhAFY4G/WGNeECGhOEoM5B4QCrLNQUFk3hAAmIDkteVeEAOSUrPqph4QE6ACr1+m3hAwQdEW1OeeEBp3/apKKF4QEUHI6n+o3hAVH/IWNWmeECYR+e4rKl4QA9gf8mErHhAu8iQil2veECagRv8NrJ4QK2KHx4RtXhA9OOc8Ou3eEBwjZNzx7p4QB6HA6ejvXhAAtHsioDAeEAYa08fXsN4QGNVK2Q8xnhA4o+AWRvJeECUGk//+st4QHv1llXbznhAlSBYXLzReEDkm5ITntR4QGZnRnuA13hAHINzk2PaeEAG7xlcR914QCSrOdUr4HhAdrfS/hDjeED8E+XY9uV4QLbAcGPd6HhApL11nsTreEDGCvSJrO54QByo6yWV8XhApZVccn70eEBi00ZvaPd4QFRhqhxT+nhAeT+Hej79eEDSbd2IKgB5QGDsrEcXA3lAIbv1tgQGeUAW2rfW8gh5QD5J86bhC3lAnAioJ9EOeUAsGNZYwRF5QPF3fTqyFHlA6ieezKMXeUAWKDgPlhp5QHd4SwKJHXlACxnYpXwgeUDUCd75cCN5QNBKXf5lJnlAANxVs1speUBkvccYUix5QPzusi5JL3lAyHAX9UAyeUDIQvVrOTV5QPxkTJMyOHlAZNccayw7eUD/mWbzJj55QM6sKSwiQXlA0g9mFR5EeUAKwxuvGkd5QHXGSvkXSnlAFBrz8xVNeUDnvRSfFFB5QO6xr/oTU3lAKvbDBhRWeUCYilHDFFl5QDtvWDAWXHlAEqTYTRhfeUAdKdIbG2J5QFz+RJoeZXlAziMxySJoeUB0mZaoJ2t5QE9fdTgtbnlAXXXNeDNxeUCg255pOnR5QBaS6QpCd3lAwJitXEp6eUCe7+peU315QLCWoRFdgHlA9o3RdGeDeUBw1XqIcoZ5QB1tnUx+iXlA/1Q5wYqMeUAUjU7ml495QF4V3bulknlA3O3kQbSVeUCNFmZ4w5h5QHKPYF/Tm3lA\",\"dtype\":\"float64\",\"order\":\"little\",\"shape\":[147]}},\"selected\":{\"id\":\"499676\"},\"selection_policy\":{\"id\":\"499675\"}},\"id\":\"499660\",\"type\":\"ColumnDataSource\"}],\"root_ids\":[\"499609\"]},\"title\":\"Bokeh Application\",\"version\":\"2.4.1\"}};\n",
       "  const render_items = [{\"docid\":\"f5f2eecf-a1b8-4f66-808d-2e559c4ade74\",\"root_ids\":[\"499609\"],\"roots\":{\"499609\":\"8a241ea7-b258-4fca-a277-744bf71e039d\"}}];\n",
       "  root.Bokeh.embed.embed_items_notebook(docs_json, render_items);\n",
       "\n",
       "  }\n",
       "  if (root.Bokeh !== undefined) {\n",
       "    embed_document(root);\n",
       "  } else {\n",
       "    let attempts = 0;\n",
       "    const timer = setInterval(function(root) {\n",
       "      if (root.Bokeh !== undefined) {\n",
       "        clearInterval(timer);\n",
       "        embed_document(root);\n",
       "      } else {\n",
       "        attempts++;\n",
       "        if (attempts > 100) {\n",
       "          clearInterval(timer);\n",
       "          console.log(\"Bokeh: ERROR: Unable to run BokehJS code because BokehJS library is missing\");\n",
       "        }\n",
       "      }\n",
       "    }, 10, root)\n",
       "  }\n",
       "})(window);"
      ],
      "application/vnd.bokehjs_exec.v0+json": ""
     },
     "metadata": {
      "application/vnd.bokehjs_exec.v0+json": {
       "id": "499609"
      }
     },
     "output_type": "display_data"
    }
   ],
   "source": [
    "# Predicting with test data\n",
    "\n",
    "qr_predictions = qr.predict(np.array(X_test).reshape(-1,1))\n",
    "\n",
    "p = figure(plot_width=800, plot_height=600, title = \"Predicting with Quadratic Model\")\n",
    "p.scatter(X_test, y_test, size=2, line_color=\"navy\", fill_color=\"orange\", fill_alpha=0.5, legend_label =\"Test Data\")\n",
    "p.line(X_test, qr_predictions, line_color=\"orange\", line_width=2.5, legend_label =\"Quadratic Model Predictions\")\n",
    "p.xaxis.ticker = [620, 660, 700, 740]\n",
    "p.xaxis.major_label_overrides = {620: '2010', 660: '2013', 700: '2016', 740: '2019'}\n",
    "p.xaxis.axis_label ='Time'\n",
    "p.yaxis.axis_label ='CO2 Concentration'\n",
    "p.legend.location = \"bottom_right\"\n",
    "show(p)"
   ]
  },
  {
   "cell_type": "markdown",
   "metadata": {},
   "source": [
    "We see that the fit of the line is much better than what it was previously. "
   ]
  },
  {
   "cell_type": "code",
   "execution_count": 1428,
   "metadata": {},
   "outputs": [
    {
     "data": {
      "text/html": [
       "\n",
       "\n",
       "\n",
       "\n",
       "\n",
       "\n",
       "  <div class=\"bk-root\" id=\"67c01355-fa13-4c05-901b-7df79c28c76b\" data-root-id=\"503048\"></div>\n"
      ]
     },
     "metadata": {},
     "output_type": "display_data"
    },
    {
     "data": {
      "application/javascript": [
       "(function(root) {\n",
       "  function embed_document(root) {\n",
       "    \n",
       "  const docs_json = {\"ee4fbe24-231e-4abb-bd8c-94b8594d0dcb\":{\"defs\":[],\"roots\":{\"references\":[{\"attributes\":{\"below\":[{\"id\":\"503059\"}],\"center\":[{\"id\":\"503062\"},{\"id\":\"503066\"},{\"id\":\"503097\"}],\"left\":[{\"id\":\"503063\"}],\"renderers\":[{\"id\":\"503085\"}],\"title\":{\"id\":\"503049\"},\"toolbar\":{\"id\":\"503074\"},\"width\":800,\"x_range\":{\"id\":\"503051\"},\"x_scale\":{\"id\":\"503055\"},\"y_range\":{\"id\":\"503053\"},\"y_scale\":{\"id\":\"503057\"}},\"id\":\"503048\",\"subtype\":\"Figure\",\"type\":\"Plot\"},{\"attributes\":{\"fill_alpha\":{\"value\":0.2},\"fill_color\":{\"value\":\"blue\"},\"hatch_alpha\":{\"value\":0.2},\"line_alpha\":{\"value\":0.2},\"line_color\":{\"value\":\"navy\"},\"size\":{\"value\":2},\"x\":{\"field\":\"x\"},\"y\":{\"field\":\"y\"}},\"id\":\"503084\",\"type\":\"Scatter\"},{\"attributes\":{\"axis_label\":\"Residual\",\"coordinates\":null,\"formatter\":{\"id\":\"503089\"},\"group\":null,\"major_label_policy\":{\"id\":\"503090\"},\"ticker\":{\"id\":\"503064\"}},\"id\":\"503063\",\"type\":\"LinearAxis\"},{\"attributes\":{\"source\":{\"id\":\"503081\"}},\"id\":\"503086\",\"type\":\"CDSView\"},{\"attributes\":{},\"id\":\"503068\",\"type\":\"WheelZoomTool\"},{\"attributes\":{\"label\":{\"value\":\"Residuals\"},\"renderers\":[{\"id\":\"503085\"}]},\"id\":\"503098\",\"type\":\"LegendItem\"},{\"attributes\":{},\"id\":\"503067\",\"type\":\"PanTool\"},{\"attributes\":{},\"id\":\"503053\",\"type\":\"DataRange1d\"},{\"attributes\":{},\"id\":\"503094\",\"type\":\"UnionRenderers\"},{\"attributes\":{},\"id\":\"503095\",\"type\":\"Selection\"},{\"attributes\":{\"bottom_units\":\"screen\",\"coordinates\":null,\"fill_alpha\":0.5,\"fill_color\":\"lightgrey\",\"group\":null,\"left_units\":\"screen\",\"level\":\"overlay\",\"line_alpha\":1.0,\"line_color\":\"black\",\"line_dash\":[4,4],\"line_width\":2,\"right_units\":\"screen\",\"syncable\":false,\"top_units\":\"screen\"},\"id\":\"503073\",\"type\":\"BoxAnnotation\"},{\"attributes\":{\"tools\":[{\"id\":\"503067\"},{\"id\":\"503068\"},{\"id\":\"503069\"},{\"id\":\"503070\"},{\"id\":\"503071\"},{\"id\":\"503072\"}]},\"id\":\"503074\",\"type\":\"Toolbar\"},{\"attributes\":{\"axis\":{\"id\":\"503063\"},\"coordinates\":null,\"dimension\":1,\"group\":null,\"ticker\":null},\"id\":\"503066\",\"type\":\"Grid\"},{\"attributes\":{\"fill_alpha\":{\"value\":0.5},\"fill_color\":{\"value\":\"blue\"},\"line_color\":{\"value\":\"navy\"},\"size\":{\"value\":2},\"x\":{\"field\":\"x\"},\"y\":{\"field\":\"y\"}},\"id\":\"503082\",\"type\":\"Scatter\"},{\"attributes\":{\"overlay\":{\"id\":\"503073\"}},\"id\":\"503069\",\"type\":\"BoxZoomTool\"},{\"attributes\":{},\"id\":\"503093\",\"type\":\"AllLabels\"},{\"attributes\":{\"coordinates\":null,\"group\":null,\"items\":[{\"id\":\"503098\"}]},\"id\":\"503097\",\"type\":\"Legend\"},{\"attributes\":{},\"id\":\"503051\",\"type\":\"DataRange1d\"},{\"attributes\":{},\"id\":\"503092\",\"type\":\"BasicTickFormatter\"},{\"attributes\":{},\"id\":\"503060\",\"type\":\"BasicTicker\"},{\"attributes\":{\"coordinates\":null,\"group\":null,\"text\":\"Residuals for Quadratic Model\"},\"id\":\"503049\",\"type\":\"Title\"},{\"attributes\":{},\"id\":\"503070\",\"type\":\"SaveTool\"},{\"attributes\":{\"coordinates\":null,\"formatter\":{\"id\":\"503092\"},\"group\":null,\"major_label_policy\":{\"id\":\"503093\"},\"ticker\":{\"id\":\"503060\"}},\"id\":\"503059\",\"type\":\"LinearAxis\"},{\"attributes\":{},\"id\":\"503064\",\"type\":\"BasicTicker\"},{\"attributes\":{\"data\":{\"x\":{\"__ndarray__\":\"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\",\"dtype\":\"float64\",\"order\":\"little\",\"shape\":[587]},\"y\":{\"__ndarray__\":\"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\",\"dtype\":\"float64\",\"order\":\"little\",\"shape\":[587]}},\"selected\":{\"id\":\"503095\"},\"selection_policy\":{\"id\":\"503094\"}},\"id\":\"503081\",\"type\":\"ColumnDataSource\"},{\"attributes\":{\"axis\":{\"id\":\"503059\"},\"coordinates\":null,\"group\":null,\"ticker\":null},\"id\":\"503062\",\"type\":\"Grid\"},{\"attributes\":{\"fill_alpha\":{\"value\":0.1},\"fill_color\":{\"value\":\"blue\"},\"hatch_alpha\":{\"value\":0.1},\"line_alpha\":{\"value\":0.1},\"line_color\":{\"value\":\"navy\"},\"size\":{\"value\":2},\"x\":{\"field\":\"x\"},\"y\":{\"field\":\"y\"}},\"id\":\"503083\",\"type\":\"Scatter\"},{\"attributes\":{},\"id\":\"503071\",\"type\":\"ResetTool\"},{\"attributes\":{},\"id\":\"503089\",\"type\":\"BasicTickFormatter\"},{\"attributes\":{\"coordinates\":null,\"data_source\":{\"id\":\"503081\"},\"glyph\":{\"id\":\"503082\"},\"group\":null,\"hover_glyph\":null,\"muted_glyph\":{\"id\":\"503084\"},\"nonselection_glyph\":{\"id\":\"503083\"},\"view\":{\"id\":\"503086\"}},\"id\":\"503085\",\"type\":\"GlyphRenderer\"},{\"attributes\":{},\"id\":\"503055\",\"type\":\"LinearScale\"},{\"attributes\":{},\"id\":\"503072\",\"type\":\"HelpTool\"},{\"attributes\":{},\"id\":\"503090\",\"type\":\"AllLabels\"},{\"attributes\":{},\"id\":\"503057\",\"type\":\"LinearScale\"}],\"root_ids\":[\"503048\"]},\"title\":\"Bokeh Application\",\"version\":\"2.4.1\"}};\n",
       "  const render_items = [{\"docid\":\"ee4fbe24-231e-4abb-bd8c-94b8594d0dcb\",\"root_ids\":[\"503048\"],\"roots\":{\"503048\":\"67c01355-fa13-4c05-901b-7df79c28c76b\"}}];\n",
       "  root.Bokeh.embed.embed_items_notebook(docs_json, render_items);\n",
       "\n",
       "  }\n",
       "  if (root.Bokeh !== undefined) {\n",
       "    embed_document(root);\n",
       "  } else {\n",
       "    let attempts = 0;\n",
       "    const timer = setInterval(function(root) {\n",
       "      if (root.Bokeh !== undefined) {\n",
       "        clearInterval(timer);\n",
       "        embed_document(root);\n",
       "      } else {\n",
       "        attempts++;\n",
       "        if (attempts > 100) {\n",
       "          clearInterval(timer);\n",
       "          console.log(\"Bokeh: ERROR: Unable to run BokehJS code because BokehJS library is missing\");\n",
       "        }\n",
       "      }\n",
       "    }, 10, root)\n",
       "  }\n",
       "})(window);"
      ],
      "application/vnd.bokehjs_exec.v0+json": ""
     },
     "metadata": {
      "application/vnd.bokehjs_exec.v0+json": {
       "id": "503048"
      }
     },
     "output_type": "display_data"
    }
   ],
   "source": [
    "# Plotting the residuals \n",
    "\n",
    "qr_residuals = y_train - qr_quadratic_fit\n",
    "p = figure(plot_width=800, plot_height=600, title = \"Residuals for Quadratic Model\")\n",
    "p.scatter(X_train, qr_residuals ,size=2, line_color=\"navy\", fill_color=\"blue\", fill_alpha=0.5, legend_label =\"Residuals\")\n",
    "\n",
    "p.yaxis.axis_label ='Residual'\n",
    "p.legend.location = \"top_right\"\n",
    "show(p)"
   ]
  },
  {
   "cell_type": "markdown",
   "metadata": {},
   "source": [
    "This time the residuals are scattered more randomly than previously around zero which indicates there isn't a systematic problem with the model."
   ]
  },
  {
   "cell_type": "code",
   "execution_count": 1429,
   "metadata": {},
   "outputs": [
    {
     "name": "stdout",
     "output_type": "stream",
     "text": [
      "The RMSE on test data is 2.501332219489292\n",
      "The MAPE on test data is 0.5320319129739824\n"
     ]
    }
   ],
   "source": [
    "# Calculating the prediction errors RMSE and MAPE\n",
    "\n",
    "rmse_quadratic = (mean_squared_error(y_test, qr_predictions, squared=False))\n",
    "print(\"The RMSE on test data is \" + str(rmse_quadratic))\n",
    "\n",
    "mape_quadratic = mean_absolute_percentage_error(y_test, qr_predictions)\n",
    "print(\"The MAPE on test data is \" + str(mape_quadratic*100)) # as a percentage"
   ]
  },
  {
   "cell_type": "markdown",
   "metadata": {},
   "source": [
    "Now, fit the data to a cubic model $F_3(t) \\sim \\gamma _0 + \\gamma _1 t + \\gamma _2 t^2 + \\gamma _3 t^3$.\n",
    "\n",
    "<b> What are the values of $\\hat\\gamma_0$, $\\hat\\gamma_1$, $\\hat\\gamma_2$ and $\\hat\\gamma_3$?</b>"
   ]
  },
  {
   "cell_type": "code",
   "execution_count": 1430,
   "metadata": {},
   "outputs": [
    {
     "data": {
      "text/plain": [
       "Pipeline(steps=[('polynomialfeatures', PolynomialFeatures(degree=3)),\n",
       "                ('linearregression', LinearRegression())])"
      ]
     },
     "execution_count": 1430,
     "metadata": {},
     "output_type": "execute_result"
    }
   ],
   "source": [
    "# Fitting cubic model\n",
    "\n",
    "cr = make_pipeline(PolynomialFeatures(3),LinearRegression())\n",
    "cr.fit(np.array(X_train).reshape(-1, 1), y_train)"
   ]
  },
  {
   "cell_type": "code",
   "execution_count": 1431,
   "metadata": {},
   "outputs": [
    {
     "name": "stdout",
     "output_type": "stream",
     "text": [
      "The cubic model F(t) = -6.847418831031214e-08*t^3 + 0.00014544451047641054*t^2 + 0.052207984670826116*t + 314.882424255501\n"
     ]
    }
   ],
   "source": [
    "# Cubic model coefficients\n",
    "\n",
    "cr_coefficients = [cr.named_steps.linearregression.coef_[-1], cr.named_steps.linearregression.coef_[-2], cr.named_steps.linearregression.coef_[-3], cr.named_steps.linearregression.intercept_]\n",
    "print(\"The cubic model F(t) = \" +str(cr_coefficients[0])+\"*t^3 + \" +str(cr_coefficients[1])+\"*t^2 + \"+str(cr_coefficients[2])+\"*t + \" + str(cr_coefficients[3])+\"\")"
   ]
  },
  {
   "cell_type": "code",
   "execution_count": 1432,
   "metadata": {},
   "outputs": [
    {
     "data": {
      "text/html": [
       "\n",
       "\n",
       "\n",
       "\n",
       "\n",
       "\n",
       "  <div class=\"bk-root\" id=\"de9b4290-2ca4-46eb-b4e8-e68da51b92a3\" data-root-id=\"506471\"></div>\n"
      ]
     },
     "metadata": {},
     "output_type": "display_data"
    },
    {
     "data": {
      "application/javascript": [
       "(function(root) {\n",
       "  function embed_document(root) {\n",
       "    \n",
       "  const docs_json = {\"b0d6371d-6f8d-444a-911d-9b90dbc2d32d\":{\"defs\":[],\"roots\":{\"references\":[{\"attributes\":{\"below\":[{\"id\":\"506482\"}],\"center\":[{\"id\":\"506485\"},{\"id\":\"506489\"},{\"id\":\"506520\"}],\"left\":[{\"id\":\"506486\"}],\"renderers\":[{\"id\":\"506508\"},{\"id\":\"506526\"}],\"title\":{\"id\":\"506472\"},\"toolbar\":{\"id\":\"506497\"},\"width\":800,\"x_range\":{\"id\":\"506474\"},\"x_scale\":{\"id\":\"506478\"},\"y_range\":{\"id\":\"506476\"},\"y_scale\":{\"id\":\"506480\"}},\"id\":\"506471\",\"subtype\":\"Figure\",\"type\":\"Plot\"},{\"attributes\":{\"data\":{\"x\":{\"__ndarray__\":\"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\",\"dtype\":\"float64\",\"order\":\"little\",\"shape\":[587]},\"y\":{\"__ndarray__\":\"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\",\"dtype\":\"float64\",\"order\":\"little\",\"shape\":[587]}},\"selected\":{\"id\":\"506518\"},\"selection_policy\":{\"id\":\"506517\"}},\"id\":\"506504\",\"type\":\"ColumnDataSource\"},{\"attributes\":{},\"id\":\"506487\",\"type\":\"BasicTicker\"},{\"attributes\":{\"label\":{\"value\":\"Original Data\"},\"renderers\":[{\"id\":\"506508\"}]},\"id\":\"506521\",\"type\":\"LegendItem\"},{\"attributes\":{},\"id\":\"506495\",\"type\":\"HelpTool\"},{\"attributes\":{},\"id\":\"506517\",\"type\":\"UnionRenderers\"},{\"attributes\":{\"bottom_units\":\"screen\",\"coordinates\":null,\"fill_alpha\":0.5,\"fill_color\":\"lightgrey\",\"group\":null,\"left_units\":\"screen\",\"level\":\"overlay\",\"line_alpha\":1.0,\"line_color\":\"black\",\"line_dash\":[4,4],\"line_width\":2,\"right_units\":\"screen\",\"syncable\":false,\"top_units\":\"screen\"},\"id\":\"506496\",\"type\":\"BoxAnnotation\"},{\"attributes\":{},\"id\":\"506518\",\"type\":\"Selection\"},{\"attributes\":{},\"id\":\"506515\",\"type\":\"BasicTickFormatter\"},{\"attributes\":{},\"id\":\"506474\",\"type\":\"DataRange1d\"},{\"attributes\":{\"ticks\":[0,200,400,600]},\"id\":\"506541\",\"type\":\"FixedTicker\"},{\"attributes\":{\"line_alpha\":0.1,\"line_color\":\"orange\",\"line_width\":2.5,\"x\":{\"field\":\"x\"},\"y\":{\"field\":\"y\"}},\"id\":\"506524\",\"type\":\"Line\"},{\"attributes\":{\"axis\":{\"id\":\"506482\"},\"coordinates\":null,\"group\":null,\"ticker\":null},\"id\":\"506485\",\"type\":\"Grid\"},{\"attributes\":{\"axis_label\":\"Time\",\"coordinates\":null,\"formatter\":{\"id\":\"506515\"},\"group\":null,\"major_label_overrides\":{\"0\":\"1958\",\"200\":\"1976\",\"400\":\"1992\",\"600\":\"2008\"},\"major_label_policy\":{\"id\":\"506516\"},\"ticker\":{\"id\":\"506541\"}},\"id\":\"506482\",\"type\":\"LinearAxis\"},{\"attributes\":{\"coordinates\":null,\"data_source\":{\"id\":\"506522\"},\"glyph\":{\"id\":\"506523\"},\"group\":null,\"hover_glyph\":null,\"muted_glyph\":{\"id\":\"506525\"},\"nonselection_glyph\":{\"id\":\"506524\"},\"view\":{\"id\":\"506527\"}},\"id\":\"506526\",\"type\":\"GlyphRenderer\"},{\"attributes\":{\"line_alpha\":0.2,\"line_color\":\"orange\",\"line_width\":2.5,\"x\":{\"field\":\"x\"},\"y\":{\"field\":\"y\"}},\"id\":\"506525\",\"type\":\"Line\"},{\"attributes\":{},\"id\":\"506491\",\"type\":\"WheelZoomTool\"},{\"attributes\":{\"line_color\":\"orange\",\"line_width\":2.5,\"x\":{\"field\":\"x\"},\"y\":{\"field\":\"y\"}},\"id\":\"506523\",\"type\":\"Line\"},{\"attributes\":{\"source\":{\"id\":\"506522\"}},\"id\":\"506527\",\"type\":\"CDSView\"},{\"attributes\":{\"coordinates\":null,\"group\":null,\"items\":[{\"id\":\"506521\"},{\"id\":\"506540\"}],\"location\":\"bottom_right\"},\"id\":\"506520\",\"type\":\"Legend\"},{\"attributes\":{\"label\":{\"value\":\"Cubic Fit\"},\"renderers\":[{\"id\":\"506526\"}]},\"id\":\"506540\",\"type\":\"LegendItem\"},{\"attributes\":{},\"id\":\"506538\",\"type\":\"Selection\"},{\"attributes\":{\"data\":{\"x\":{\"__ndarray__\":\"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\",\"dtype\":\"float64\",\"order\":\"little\",\"shape\":[587]},\"y\":{\"__ndarray__\":\"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\",\"dtype\":\"float64\",\"order\":\"little\",\"shape\":[587]}},\"selected\":{\"id\":\"506538\"},\"selection_policy\":{\"id\":\"506537\"}},\"id\":\"506522\",\"type\":\"ColumnDataSource\"},{\"attributes\":{},\"id\":\"506516\",\"type\":\"AllLabels\"},{\"attributes\":{},\"id\":\"506476\",\"type\":\"DataRange1d\"},{\"attributes\":{\"fill_alpha\":{\"value\":0.2},\"fill_color\":{\"value\":\"orange\"},\"hatch_alpha\":{\"value\":0.2},\"line_alpha\":{\"value\":0.2},\"line_color\":{\"value\":\"navy\"},\"size\":{\"value\":2},\"x\":{\"field\":\"x\"},\"y\":{\"field\":\"y\"}},\"id\":\"506507\",\"type\":\"Scatter\"},{\"attributes\":{},\"id\":\"506494\",\"type\":\"ResetTool\"},{\"attributes\":{\"overlay\":{\"id\":\"506496\"}},\"id\":\"506492\",\"type\":\"BoxZoomTool\"},{\"attributes\":{},\"id\":\"506537\",\"type\":\"UnionRenderers\"},{\"attributes\":{\"fill_alpha\":{\"value\":0.1},\"fill_color\":{\"value\":\"orange\"},\"hatch_alpha\":{\"value\":0.1},\"line_alpha\":{\"value\":0.1},\"line_color\":{\"value\":\"navy\"},\"size\":{\"value\":2},\"x\":{\"field\":\"x\"},\"y\":{\"field\":\"y\"}},\"id\":\"506506\",\"type\":\"Scatter\"},{\"attributes\":{},\"id\":\"506480\",\"type\":\"LinearScale\"},{\"attributes\":{},\"id\":\"506490\",\"type\":\"PanTool\"},{\"attributes\":{},\"id\":\"506512\",\"type\":\"BasicTickFormatter\"},{\"attributes\":{\"coordinates\":null,\"data_source\":{\"id\":\"506504\"},\"glyph\":{\"id\":\"506505\"},\"group\":null,\"hover_glyph\":null,\"muted_glyph\":{\"id\":\"506507\"},\"nonselection_glyph\":{\"id\":\"506506\"},\"view\":{\"id\":\"506509\"}},\"id\":\"506508\",\"type\":\"GlyphRenderer\"},{\"attributes\":{\"coordinates\":null,\"group\":null,\"text\":\"Modeling with Cubic Model\"},\"id\":\"506472\",\"type\":\"Title\"},{\"attributes\":{},\"id\":\"506478\",\"type\":\"LinearScale\"},{\"attributes\":{\"fill_alpha\":{\"value\":0.5},\"fill_color\":{\"value\":\"orange\"},\"line_color\":{\"value\":\"navy\"},\"size\":{\"value\":2},\"x\":{\"field\":\"x\"},\"y\":{\"field\":\"y\"}},\"id\":\"506505\",\"type\":\"Scatter\"},{\"attributes\":{},\"id\":\"506513\",\"type\":\"AllLabels\"},{\"attributes\":{\"axis_label\":\"CO2 Concentration\",\"coordinates\":null,\"formatter\":{\"id\":\"506512\"},\"group\":null,\"major_label_policy\":{\"id\":\"506513\"},\"ticker\":{\"id\":\"506487\"}},\"id\":\"506486\",\"type\":\"LinearAxis\"},{\"attributes\":{\"axis\":{\"id\":\"506486\"},\"coordinates\":null,\"dimension\":1,\"group\":null,\"ticker\":null},\"id\":\"506489\",\"type\":\"Grid\"},{\"attributes\":{\"tools\":[{\"id\":\"506490\"},{\"id\":\"506491\"},{\"id\":\"506492\"},{\"id\":\"506493\"},{\"id\":\"506494\"},{\"id\":\"506495\"}]},\"id\":\"506497\",\"type\":\"Toolbar\"},{\"attributes\":{},\"id\":\"506493\",\"type\":\"SaveTool\"},{\"attributes\":{\"source\":{\"id\":\"506504\"}},\"id\":\"506509\",\"type\":\"CDSView\"}],\"root_ids\":[\"506471\"]},\"title\":\"Bokeh Application\",\"version\":\"2.4.1\"}};\n",
       "  const render_items = [{\"docid\":\"b0d6371d-6f8d-444a-911d-9b90dbc2d32d\",\"root_ids\":[\"506471\"],\"roots\":{\"506471\":\"de9b4290-2ca4-46eb-b4e8-e68da51b92a3\"}}];\n",
       "  root.Bokeh.embed.embed_items_notebook(docs_json, render_items);\n",
       "\n",
       "  }\n",
       "  if (root.Bokeh !== undefined) {\n",
       "    embed_document(root);\n",
       "  } else {\n",
       "    let attempts = 0;\n",
       "    const timer = setInterval(function(root) {\n",
       "      if (root.Bokeh !== undefined) {\n",
       "        clearInterval(timer);\n",
       "        embed_document(root);\n",
       "      } else {\n",
       "        attempts++;\n",
       "        if (attempts > 100) {\n",
       "          clearInterval(timer);\n",
       "          console.log(\"Bokeh: ERROR: Unable to run BokehJS code because BokehJS library is missing\");\n",
       "        }\n",
       "      }\n",
       "    }, 10, root)\n",
       "  }\n",
       "})(window);"
      ],
      "application/vnd.bokehjs_exec.v0+json": ""
     },
     "metadata": {
      "application/vnd.bokehjs_exec.v0+json": {
       "id": "506471"
      }
     },
     "output_type": "display_data"
    }
   ],
   "source": [
    "# Plotting cubic fit of the model\n",
    "\n",
    "cr_cubic_fit = qr.predict(np.array(X_train).reshape(-1, 1))\n",
    "\n",
    "p = figure(plot_width=800, plot_height=600, title = \"Modeling with Cubic Model\")\n",
    "p.scatter(X_train, y_train, size=2, line_color=\"navy\", fill_color=\"orange\", fill_alpha=0.5, legend_label =\"Original Data\")\n",
    "p.line(X_train, cr_cubic_fit, line_color=\"orange\", line_width=2.5, legend_label =\"Cubic Fit\")\n",
    "p.xaxis.ticker = [0, 200, 400, 600]\n",
    "p.xaxis.major_label_overrides = {0: '1958', 200: '1976', 400: '1992', 600: '2008'}\n",
    "p.xaxis.axis_label ='Time'\n",
    "p.yaxis.axis_label ='CO2 Concentration'\n",
    "p.legend.location = \"bottom_right\"\n",
    "show(p)"
   ]
  },
  {
   "cell_type": "markdown",
   "metadata": {},
   "source": [
    "The fit seems to be quite good but we need to compare the residuals and the errors the model makes while predicting to the previous models in order to see which one performs the best."
   ]
  },
  {
   "cell_type": "markdown",
   "metadata": {},
   "source": [
    "<b> Plot the residual error $R_{cubic}(t)=C(t)-F_3(t)$. Report the root mean squared prediction error $\\text {RMSE}$ and the mean absolute percentage error $\\text {MAPE}$ with respect to the test set for this model.</b>"
   ]
  },
  {
   "cell_type": "code",
   "execution_count": 1433,
   "metadata": {},
   "outputs": [
    {
     "data": {
      "text/html": [
       "\n",
       "\n",
       "\n",
       "\n",
       "\n",
       "\n",
       "  <div class=\"bk-root\" id=\"a50fa0ae-9471-4b04-a00d-ef3753b436f4\" data-root-id=\"509931\"></div>\n"
      ]
     },
     "metadata": {},
     "output_type": "display_data"
    },
    {
     "data": {
      "application/javascript": [
       "(function(root) {\n",
       "  function embed_document(root) {\n",
       "    \n",
       "  const docs_json = {\"92cf5296-a024-4fe2-8674-e6ee007e20c8\":{\"defs\":[],\"roots\":{\"references\":[{\"attributes\":{\"below\":[{\"id\":\"509942\"}],\"center\":[{\"id\":\"509945\"},{\"id\":\"509949\"},{\"id\":\"509980\"}],\"left\":[{\"id\":\"509946\"}],\"renderers\":[{\"id\":\"509968\"},{\"id\":\"509986\"}],\"title\":{\"id\":\"509932\"},\"toolbar\":{\"id\":\"509957\"},\"width\":800,\"x_range\":{\"id\":\"509934\"},\"x_scale\":{\"id\":\"509938\"},\"y_range\":{\"id\":\"509936\"},\"y_scale\":{\"id\":\"509940\"}},\"id\":\"509931\",\"subtype\":\"Figure\",\"type\":\"Plot\"},{\"attributes\":{\"axis\":{\"id\":\"509946\"},\"coordinates\":null,\"dimension\":1,\"group\":null,\"ticker\":null},\"id\":\"509949\",\"type\":\"Grid\"},{\"attributes\":{\"coordinates\":null,\"data_source\":{\"id\":\"509964\"},\"glyph\":{\"id\":\"509965\"},\"group\":null,\"hover_glyph\":null,\"muted_glyph\":{\"id\":\"509967\"},\"nonselection_glyph\":{\"id\":\"509966\"},\"view\":{\"id\":\"509969\"}},\"id\":\"509968\",\"type\":\"GlyphRenderer\"},{\"attributes\":{\"fill_alpha\":{\"value\":0.5},\"fill_color\":{\"value\":\"orange\"},\"line_color\":{\"value\":\"navy\"},\"size\":{\"value\":2},\"x\":{\"field\":\"x\"},\"y\":{\"field\":\"y\"}},\"id\":\"509965\",\"type\":\"Scatter\"},{\"attributes\":{},\"id\":\"509951\",\"type\":\"WheelZoomTool\"},{\"attributes\":{\"fill_alpha\":{\"value\":0.2},\"fill_color\":{\"value\":\"orange\"},\"hatch_alpha\":{\"value\":0.2},\"line_alpha\":{\"value\":0.2},\"line_color\":{\"value\":\"navy\"},\"size\":{\"value\":2},\"x\":{\"field\":\"x\"},\"y\":{\"field\":\"y\"}},\"id\":\"509967\",\"type\":\"Scatter\"},{\"attributes\":{\"bottom_units\":\"screen\",\"coordinates\":null,\"fill_alpha\":0.5,\"fill_color\":\"lightgrey\",\"group\":null,\"left_units\":\"screen\",\"level\":\"overlay\",\"line_alpha\":1.0,\"line_color\":\"black\",\"line_dash\":[4,4],\"line_width\":2,\"right_units\":\"screen\",\"syncable\":false,\"top_units\":\"screen\"},\"id\":\"509956\",\"type\":\"BoxAnnotation\"},{\"attributes\":{\"label\":{\"value\":\"Test Data\"},\"renderers\":[{\"id\":\"509968\"}]},\"id\":\"509981\",\"type\":\"LegendItem\"},{\"attributes\":{\"fill_alpha\":{\"value\":0.1},\"fill_color\":{\"value\":\"orange\"},\"hatch_alpha\":{\"value\":0.1},\"line_alpha\":{\"value\":0.1},\"line_color\":{\"value\":\"navy\"},\"size\":{\"value\":2},\"x\":{\"field\":\"x\"},\"y\":{\"field\":\"y\"}},\"id\":\"509966\",\"type\":\"Scatter\"},{\"attributes\":{},\"id\":\"509953\",\"type\":\"SaveTool\"},{\"attributes\":{\"data\":{\"x\":{\"__ndarray__\":\"VVVVVVWQgkBVVVVVVZiCQFVVVVVVoIJAVVVVVVWogkBVVVVVVbCCQFVVVVVVuIJAVVVVVVXAgkBVVVVVVciCQFVVVVVV0IJAVVVVVVXYgkBVVVVVVeCCQFVVVVVV6IJAVVVVVVXwgkBVVVVVVfiCQFVVVVVVAINAVVVVVVUIg0BVVVVVVRCDQFVVVVVVGINAVVVVVVUgg0BVVVVVVSiDQFVVVVVVMINAVVVVVVU4g0BVVVVVVUCDQFVVVVVVSINAVVVVVVVQg0BVVVVVVViDQFVVVVVVYINAVVVVVVVog0BVVVVVVXCDQFVVVVVVeINAVVVVVVWAg0BVVVVVVYiDQFVVVVVVkINAVVVVVVWYg0BVVVVVVaCDQFVVVVVVqINAVVVVVVWwg0BVVVVVVbiDQFVVVVVVwINAVVVVVVXIg0BVVVVVVdCDQFVVVVVV2INAVVVVVVXgg0BVVVVVVeiDQFVVVVVV8INAVVVVVVX4g0BVVVVVVQCEQFVVVVVVCIRAVVVVVVUQhEBVVVVVVRiEQFVVVVVVIIRAVVVVVVUohEBVVVVVVTCEQFVVVVVVOIRAVVVVVVVAhEBVVVVVVUiEQFVVVVVVUIRAVVVVVVVYhEBVVVVVVWCEQFVVVVVVaIRAVVVVVVVwhEBVVVVVVXiEQFVVVVVVgIRAVVVVVVWIhEBVVVVVVZCEQFVVVVVVmIRAVVVVVVWghEBVVVVVVaiEQFVVVVVVsIRAVVVVVVW4hEBVVVVVVcCEQFVVVVVVyIRAVVVVVVXQhEBVVVVVVdiEQFVVVVVV4IRAVVVVVVXohEBVVVVVVfCEQFVVVVVV+IRAVVVVVVUAhUBVVVVVVQiFQFVVVVVVEIVAVVVVVVUYhUBVVVVVVSCFQFVVVVVVKIVAVVVVVVUwhUBVVVVVVTiFQFVVVVVVQIVAVVVVVVVIhUBVVVVVVVCFQFVVVVVVWIVAVVVVVVVghUBVVVVVVWiFQFVVVVVVcIVAVVVVVVV4hUBVVVVVVYCFQFVVVVVViIVAVVVVVVWQhUBVVVVVVZiFQFVVVVVVoIVAVVVVVVWohUBVVVVVVbCFQFVVVVVVuIVAVVVVVVXAhUBVVVVVVciFQFVVVVVV0IVAVVVVVVXYhUBVVVVVVeCFQFVVVVVV6IVAVVVVVVXwhUBVVVVVVfiFQFVVVVVVAIZAVVVVVVUIhkBVVVVVVRCGQFVVVVVVGIZAVVVVVVUghkBVVVVVVSiGQFVVVVVVMIZAVVVVVVU4hkBVVVVVVUCGQFVVVVVVSIZAVVVVVVVQhkBVVVVVVViGQFVVVVVVYIZAVVVVVVVohkBVVVVVVXCGQFVVVVVVeIZAVVVVVVWAhkBVVVVVVYiGQFVVVVVVkIZAVVVVVVWYhkBVVVVVVaCGQFVVVVVVqIZAVVVVVVWwhkBVVVVVVbiGQFVVVVVVwIZAVVVVVVXIhkBVVVVVVdCGQFVVVVVV2IZAVVVVVVXghkBVVVVVVeiGQFVVVVVV8IZAVVVVVVX4hkBVVVVVVQCHQFVVVVVVCIdAVVVVVVUQh0BVVVVVVRiHQFVVVVVVIIdA\",\"dtype\":\"float64\",\"order\":\"little\",\"shape\":[147]},\"y\":{\"__ndarray__\":\"16NwPQoHeEA9CtejcN13QPYoXI/CzXdA9ihcj8LNd0D2KFyPwuV3QPYoXI/C+XdAhetRuB4ReEA9CtejcB14QOF6FK5HHXhAuB6F61EseEBcj8L1KEh4QM3MzMzMQHhAAAAAAAAkeEDhehSuRwF4QD0K16Nw8XdAFK5H4Xrsd0Bcj8L1KAB4QPYoXI/CEXhAZmZmZmYqeEBSuB6F6zF4QLgehetRSHhAhetRuB5ZeEAfhetRuGJ4QFK4HoXrWXhAhetRuB5BeEDhehSuRyF4QGZmZmZmCnhA4XoUrkcFeEDNzMzMzCB4QKRwPQrXN3hAzczMzMxIeECF61G4HmF4QFyPwvUocHhArkfhehSGeEDsUbgehZN4QKRwPQrXg3hA4XoUrkdleEC4HoXrUUh4QD0K16NwLXhAw/UoXI8yeEAfhetRuEp4QClcj8L1XHhAzczMzMx0eEAfhetRuH54QDMzMzMzh3hAUrgeheuVeEAUrkfheqR4QNejcD0Km3hAPQrXo3CJeECPwvUoXGN4QAAAAAAAUHhAexSuR+FOeECkcD0K12N4QM3MzMzMfHhAhetRuB6ReECamZmZmZV4QPYoXI/CpXhAexSuR+HGeEBSuB6F6814QK5H4XoUvnhAuB6F61GoeEBxPQrXo4h4QK5H4XoUcnhAXI/C9ShweEAzMzMzM494QOF6FK5HpXhA9ihcj8K5eECamZmZmc14QFyPwvUo1HhAmpmZmZnleEBI4XoUrv94QFK4HoXr7XhAUrgehevVeEDD9Shcj7Z4QArXo3A9lnhAMzMzMzObeEDXo3A9CrN4QIXrUbgezXhAH4XrUbjeeECamZmZmeF4QOxRuB6F93hA4XoUrkcVeUCuR+F6FB55QClcj8L1FHlAhetRuB7xeECPwvUoXNN4QGZmZmZmtnhAZmZmZma6eEBI4XoUrtN4QHE9Ctej7HhAmpmZmZn9eEApXI/C9QR5QFyPwvUoGHlAMzMzMzM3eUCamZmZmUF5QK5H4XoULnlA9ihcj8IZeUAAAAAAAPB4QAAAAAAA2HhAFK5H4XrkeECkcD0K1wN5QArXo3A9HnlAZmZmZmYqeUDD9Shcj0J5QJqZmZmZTXlAhetRuB55eUDD9Shcj3p5QAAAAAAAcHlAAAAAAABIeUCkcD0K1yN5QFyPwvUoEHlAAAAAAAAYeUAK16NwPTp5QM3MzMzMSHlAhetRuB5heUAK16NwPWp5QClcj8L1cHlAMzMzMzOPeUDD9Shcj555QFK4HoXrkXlAMzMzMzNzeUCkcD0K11N5QLgehetRNHlACtejcD06eUAfhetRuFJ5QAAAAAAAbHlAzczMzMyAeUA9CtejcIV5QAAAAAAAlHlAzczMzMykeUDNzMzMzLR5QK5H4XoUrnlAZmZmZmaOeUCamZmZmXF5QD0K16NwWXlApHA9CtdfeUBSuB6F64F5QEjhehSuk3lAH4XrUbiueUDD9Shcj7p5QAAAAAAAwHlAuB6F61HYeUDhehSuR+15QI/C9Shc33lAmpmZmZm9eUDhehSuR6F5QM3MzMzMiHlA\",\"dtype\":\"float64\",\"order\":\"little\",\"shape\":[147]}},\"selected\":{\"id\":\"509978\"},\"selection_policy\":{\"id\":\"509977\"}},\"id\":\"509964\",\"type\":\"ColumnDataSource\"},{\"attributes\":{\"source\":{\"id\":\"509964\"}},\"id\":\"509969\",\"type\":\"CDSView\"},{\"attributes\":{},\"id\":\"509977\",\"type\":\"UnionRenderers\"},{\"attributes\":{\"coordinates\":null,\"group\":null,\"items\":[{\"id\":\"509981\"},{\"id\":\"510000\"}],\"location\":\"bottom_right\"},\"id\":\"509980\",\"type\":\"Legend\"},{\"attributes\":{},\"id\":\"509936\",\"type\":\"DataRange1d\"},{\"attributes\":{},\"id\":\"509978\",\"type\":\"Selection\"},{\"attributes\":{},\"id\":\"509934\",\"type\":\"DataRange1d\"},{\"attributes\":{\"line_alpha\":0.1,\"line_color\":\"orange\",\"line_width\":2.5,\"x\":{\"field\":\"x\"},\"y\":{\"field\":\"y\"}},\"id\":\"509984\",\"type\":\"Line\"},{\"attributes\":{\"coordinates\":null,\"data_source\":{\"id\":\"509982\"},\"glyph\":{\"id\":\"509983\"},\"group\":null,\"hover_glyph\":null,\"muted_glyph\":{\"id\":\"509985\"},\"nonselection_glyph\":{\"id\":\"509984\"},\"view\":{\"id\":\"509987\"}},\"id\":\"509986\",\"type\":\"GlyphRenderer\"},{\"attributes\":{\"line_alpha\":0.2,\"line_color\":\"orange\",\"line_width\":2.5,\"x\":{\"field\":\"x\"},\"y\":{\"field\":\"y\"}},\"id\":\"509985\",\"type\":\"Line\"},{\"attributes\":{},\"id\":\"509947\",\"type\":\"BasicTicker\"},{\"attributes\":{\"data\":{\"x\":{\"__ndarray__\":\"VVVVVVWQgkBVVVVVVZiCQFVVVVVVoIJAVVVVVVWogkBVVVVVVbCCQFVVVVVVuIJAVVVVVVXAgkBVVVVVVciCQFVVVVVV0IJAVVVVVVXYgkBVVVVVVeCCQFVVVVVV6IJAVVVVVVXwgkBVVVVVVfiCQFVVVVVVAINAVVVVVVUIg0BVVVVVVRCDQFVVVVVVGINAVVVVVVUgg0BVVVVVVSiDQFVVVVVVMINAVVVVVVU4g0BVVVVVVUCDQFVVVVVVSINAVVVVVVVQg0BVVVVVVViDQFVVVVVVYINAVVVVVVVog0BVVVVVVXCDQFVVVVVVeINAVVVVVVWAg0BVVVVVVYiDQFVVVVVVkINAVVVVVVWYg0BVVVVVVaCDQFVVVVVVqINAVVVVVVWwg0BVVVVVVbiDQFVVVVVVwINAVVVVVVXIg0BVVVVVVdCDQFVVVVVV2INAVVVVVVXgg0BVVVVVVeiDQFVVVVVV8INAVVVVVVX4g0BVVVVVVQCEQFVVVVVVCIRAVVVVVVUQhEBVVVVVVRiEQFVVVVVVIIRAVVVVVVUohEBVVVVVVTCEQFVVVVVVOIRAVVVVVVVAhEBVVVVVVUiEQFVVVVVVUIRAVVVVVVVYhEBVVVVVVWCEQFVVVVVVaIRAVVVVVVVwhEBVVVVVVXiEQFVVVVVVgIRAVVVVVVWIhEBVVVVVVZCEQFVVVVVVmIRAVVVVVVWghEBVVVVVVaiEQFVVVVVVsIRAVVVVVVW4hEBVVVVVVcCEQFVVVVVVyIRAVVVVVVXQhEBVVVVVVdiEQFVVVVVV4IRAVVVVVVXohEBVVVVVVfCEQFVVVVVV+IRAVVVVVVUAhUBVVVVVVQiFQFVVVVVVEIVAVVVVVVUYhUBVVVVVVSCFQFVVVVVVKIVAVVVVVVUwhUBVVVVVVTiFQFVVVVVVQIVAVVVVVVVIhUBVVVVVVVCFQFVVVVVVWIVAVVVVVVVghUBVVVVVVWiFQFVVVVVVcIVAVVVVVVV4hUBVVVVVVYCFQFVVVVVViIVAVVVVVVWQhUBVVVVVVZiFQFVVVVVVoIVAVVVVVVWohUBVVVVVVbCFQFVVVVVVuIVAVVVVVVXAhUBVVVVVVciFQFVVVVVV0IVAVVVVVVXYhUBVVVVVVeCFQFVVVVVV6IVAVVVVVVXwhUBVVVVVVfiFQFVVVVVVAIZAVVVVVVUIhkBVVVVVVRCGQFVVVVVVGIZAVVVVVVUghkBVVVVVVSiGQFVVVVVVMIZAVVVVVVU4hkBVVVVVVUCGQFVVVVVVSIZAVVVVVVVQhkBVVVVVVViGQFVVVVVVYIZAVVVVVVVohkBVVVVVVXCGQFVVVVVVeIZAVVVVVVWAhkBVVVVVVYiGQFVVVVVVkIZAVVVVVVWYhkBVVVVVVaCGQFVVVVVVqIZAVVVVVVWwhkBVVVVVVbiGQFVVVVVVwIZAVVVVVVXIhkBVVVVVVdCGQFVVVVVV2IZAVVVVVVXghkBVVVVVVeiGQFVVVVVV8IZAVVVVVVX4hkBVVVVVVQCHQFVVVVVVCIdAVVVVVVUQh0BVVVVVVRiHQFVVVVVVIIdA\",\"dtype\":\"float64\",\"order\":\"little\",\"shape\":[147]},\"y\":{\"__ndarray__\":\"EuRsPuDtd0Aa7yINUfB3QPh+hQzC8ndAnEomPDP1d0D2CJebpPd3QPdwaSoW+ndAjjkv6If8d0CqGXrU+f53QD7I2+5rAXhAN/zlNt4DeECHbCqsUAZ4QB7QOk7DCHhA6t2oHDYLeEDdTAYXqQ14QOfT5DwcEHhA9ynWjY8SeED+BWwJAxV4QOweOK92F3hAsCvMfuoZeEA647l3Xhx4QHz8kpnSHnhAZC7p40YheEDkL05WuyN4QOq3U/AvJnhAZn2LsaQoeEBKN4eZGSt4QIac2KeOLXhACGQR3AMweEDARMM1eTJ4QKH1f7TuNHhAmC3ZV2Q3eECWo2Af2jl4QIwOqApQPHhAaiVBGcY+eEAen71KPEF4QJkyr56yQ3hAzJanFClGeECngjisn0h4QBmt82QWS3hAEs1qPo1NeECEmS84BFB4QFzJ01F7UnhAjBPpivJUeEAELwHjaVd4QLTSrVnhWXhAi7WA7lhceEB6jguh0F54QHIU4HBIYXhAYP6PXcBjeEA3A61mOGZ4QObZyIuwaHhAXDl1zChreECM2EMooW14QGJuxp4ZcHhA0bGOL5JyeEDIWS7aCnV4QDgdN56Dd3hAELM6e/x5eEA/0spwdXx4QLgxeX7ufnhAaIjXo2eBeEBAjXfg4IN4QDL36jNahnhALH3DndOIeEAe1pIdTYt4QPm46rLGjXhArNxcXUCQeEAo+HocupJ4QF3C1u8zlXhAO/IB162XeECxPo7RJ5p4QLBeDd+hnHhAKAkR/xufeEAI9SoxlqF4QELZ7HQQpHhAxGzoyYqmeECAZq8vBal4QGV906V/q3hAYmjmK/qteEBq3nnBdLB4QGqWH2bvsnhAUkdpGWq1eEAVqOja5Ld4QKBvL6pfunhA5lTPhtq8eEDUDlpwVb94QFxUYWbQwXhAbdx2aEvEeED3XSx2xsZ4QOyPE49ByXhAOim+srzLeEDQ4L3gN854QKJtpBiz0HhAnIYDWi7TeECw4mykqdV4QM44cvck2HhA5j+lUqDaeEDorpe1G914QMQ82x+X33hAaaABkRLieEDIkJwIjuR4QNLEPYYJ53hAdvN2CYXpeECj09mRAOx4QEoc+B587nhAXIRjsPfweEDIwq1Fc/N4QH+OaN7u9XhAb54lemr4eECKqXYY5vp4QL9m7bhh/XhA/4wbW93/eEA505L+WAJ5QF3w5KLUBHlAXJujR1AHeUAmi2Dsywl5QKp2rZBHDHlA2RQcNMMOeUCiHD7WPhF5QPZEpXa6E3lAxkTjFDYWeUD/0omwsRh5QJSmKkktG3lAc3ZX3qgdeUCO+aFvJCB5QNPmm/yfInlAM/XWhBsleUCe2+QHlyd5QAVRV4USKnlAVgzA/I0seUCDxLBtCS95QHswu9eEMXlALgdxOgA0eUCM/2OVezZ5QIbQJej2OHlACzFIMnI7eUAM2Fxz7T15QHh89apoQHlAP9Wj2ONCeUBSmfn7XkV5QKB/iBTaR3lAGj/iIVVKeUCwjpgj0Ex5QFElPRlLT3lA7rlhAsZReUB3A5jeQFR5QNy4ca27VnlA\",\"dtype\":\"float64\",\"order\":\"little\",\"shape\":[147]}},\"selected\":{\"id\":\"509998\"},\"selection_policy\":{\"id\":\"509997\"}},\"id\":\"509982\",\"type\":\"ColumnDataSource\"},{\"attributes\":{\"line_color\":\"orange\",\"line_width\":2.5,\"x\":{\"field\":\"x\"},\"y\":{\"field\":\"y\"}},\"id\":\"509983\",\"type\":\"Line\"},{\"attributes\":{\"axis\":{\"id\":\"509942\"},\"coordinates\":null,\"group\":null,\"ticker\":null},\"id\":\"509945\",\"type\":\"Grid\"},{\"attributes\":{\"source\":{\"id\":\"509982\"}},\"id\":\"509987\",\"type\":\"CDSView\"},{\"attributes\":{\"label\":{\"value\":\"Cubic Model Predictions\"},\"renderers\":[{\"id\":\"509986\"}]},\"id\":\"510000\",\"type\":\"LegendItem\"},{\"attributes\":{\"axis_label\":\"Time\",\"coordinates\":null,\"formatter\":{\"id\":\"509975\"},\"group\":null,\"major_label_overrides\":{\"620\":\"2010\",\"660\":\"2013\",\"700\":\"2016\",\"740\":\"2019\"},\"major_label_policy\":{\"id\":\"509976\"},\"ticker\":{\"id\":\"510001\"}},\"id\":\"509942\",\"type\":\"LinearAxis\"},{\"attributes\":{\"ticks\":[620,660,700,740]},\"id\":\"510001\",\"type\":\"FixedTicker\"},{\"attributes\":{\"axis_label\":\"CO2 Concentration\",\"coordinates\":null,\"formatter\":{\"id\":\"509972\"},\"group\":null,\"major_label_policy\":{\"id\":\"509973\"},\"ticker\":{\"id\":\"509947\"}},\"id\":\"509946\",\"type\":\"LinearAxis\"},{\"attributes\":{\"tools\":[{\"id\":\"509950\"},{\"id\":\"509951\"},{\"id\":\"509952\"},{\"id\":\"509953\"},{\"id\":\"509954\"},{\"id\":\"509955\"}]},\"id\":\"509957\",\"type\":\"Toolbar\"},{\"attributes\":{},\"id\":\"509998\",\"type\":\"Selection\"},{\"attributes\":{},\"id\":\"509940\",\"type\":\"LinearScale\"},{\"attributes\":{\"coordinates\":null,\"group\":null,\"text\":\"Predicting with Cubic Model\"},\"id\":\"509932\",\"type\":\"Title\"},{\"attributes\":{},\"id\":\"509972\",\"type\":\"BasicTickFormatter\"},{\"attributes\":{},\"id\":\"509938\",\"type\":\"LinearScale\"},{\"attributes\":{},\"id\":\"509955\",\"type\":\"HelpTool\"},{\"attributes\":{},\"id\":\"509973\",\"type\":\"AllLabels\"},{\"attributes\":{},\"id\":\"509976\",\"type\":\"AllLabels\"},{\"attributes\":{},\"id\":\"509954\",\"type\":\"ResetTool\"},{\"attributes\":{},\"id\":\"509997\",\"type\":\"UnionRenderers\"},{\"attributes\":{},\"id\":\"509975\",\"type\":\"BasicTickFormatter\"},{\"attributes\":{},\"id\":\"509950\",\"type\":\"PanTool\"},{\"attributes\":{\"overlay\":{\"id\":\"509956\"}},\"id\":\"509952\",\"type\":\"BoxZoomTool\"}],\"root_ids\":[\"509931\"]},\"title\":\"Bokeh Application\",\"version\":\"2.4.1\"}};\n",
       "  const render_items = [{\"docid\":\"92cf5296-a024-4fe2-8674-e6ee007e20c8\",\"root_ids\":[\"509931\"],\"roots\":{\"509931\":\"a50fa0ae-9471-4b04-a00d-ef3753b436f4\"}}];\n",
       "  root.Bokeh.embed.embed_items_notebook(docs_json, render_items);\n",
       "\n",
       "  }\n",
       "  if (root.Bokeh !== undefined) {\n",
       "    embed_document(root);\n",
       "  } else {\n",
       "    let attempts = 0;\n",
       "    const timer = setInterval(function(root) {\n",
       "      if (root.Bokeh !== undefined) {\n",
       "        clearInterval(timer);\n",
       "        embed_document(root);\n",
       "      } else {\n",
       "        attempts++;\n",
       "        if (attempts > 100) {\n",
       "          clearInterval(timer);\n",
       "          console.log(\"Bokeh: ERROR: Unable to run BokehJS code because BokehJS library is missing\");\n",
       "        }\n",
       "      }\n",
       "    }, 10, root)\n",
       "  }\n",
       "})(window);"
      ],
      "application/vnd.bokehjs_exec.v0+json": ""
     },
     "metadata": {
      "application/vnd.bokehjs_exec.v0+json": {
       "id": "509931"
      }
     },
     "output_type": "display_data"
    }
   ],
   "source": [
    "# Predicting with test data\n",
    "\n",
    "cr_predictions = cr.predict(np.array(X_test).reshape(-1,1))\n",
    "\n",
    "p = figure(plot_width=800, plot_height=600, title = \"Predicting with Cubic Model\")\n",
    "p.scatter(X_test, y_test, size=2, line_color=\"navy\", fill_color=\"orange\", fill_alpha=0.5, legend_label =\"Test Data\")\n",
    "p.line(X_test, cr_predictions, line_color=\"orange\", line_width=2.5, legend_label =\"Cubic Model Predictions\")\n",
    "p.xaxis.ticker = [620, 660, 700, 740]\n",
    "p.xaxis.major_label_overrides = {620: '2010', 660: '2013', 700: '2016', 740: '2019'}\n",
    "p.xaxis.axis_label ='Time'\n",
    "p.yaxis.axis_label ='CO2 Concentration'\n",
    "p.legend.location = \"bottom_right\"\n",
    "show(p)"
   ]
  },
  {
   "cell_type": "markdown",
   "metadata": {},
   "source": [
    "Although the model fit quite well with the training data once we try to predict we notice that the model does a worse job than the previous quadratic version."
   ]
  },
  {
   "cell_type": "code",
   "execution_count": 1434,
   "metadata": {},
   "outputs": [
    {
     "data": {
      "text/html": [
       "\n",
       "\n",
       "\n",
       "\n",
       "\n",
       "\n",
       "  <div class=\"bk-root\" id=\"67ba1067-8388-4f59-9aec-ac4126a36022\" data-root-id=\"513402\"></div>\n"
      ]
     },
     "metadata": {},
     "output_type": "display_data"
    },
    {
     "data": {
      "application/javascript": [
       "(function(root) {\n",
       "  function embed_document(root) {\n",
       "    \n",
       "  const docs_json = {\"6e9497bf-3ffd-4c24-a155-928c011902d5\":{\"defs\":[],\"roots\":{\"references\":[{\"attributes\":{\"below\":[{\"id\":\"513413\"}],\"center\":[{\"id\":\"513416\"},{\"id\":\"513420\"},{\"id\":\"513451\"}],\"left\":[{\"id\":\"513417\"}],\"renderers\":[{\"id\":\"513439\"}],\"title\":{\"id\":\"513403\"},\"toolbar\":{\"id\":\"513428\"},\"width\":800,\"x_range\":{\"id\":\"513405\"},\"x_scale\":{\"id\":\"513409\"},\"y_range\":{\"id\":\"513407\"},\"y_scale\":{\"id\":\"513411\"}},\"id\":\"513402\",\"subtype\":\"Figure\",\"type\":\"Plot\"},{\"attributes\":{},\"id\":\"513444\",\"type\":\"AllLabels\"},{\"attributes\":{\"coordinates\":null,\"data_source\":{\"id\":\"513435\"},\"glyph\":{\"id\":\"513436\"},\"group\":null,\"hover_glyph\":null,\"muted_glyph\":{\"id\":\"513438\"},\"nonselection_glyph\":{\"id\":\"513437\"},\"view\":{\"id\":\"513440\"}},\"id\":\"513439\",\"type\":\"GlyphRenderer\"},{\"attributes\":{\"overlay\":{\"id\":\"513427\"}},\"id\":\"513423\",\"type\":\"BoxZoomTool\"},{\"attributes\":{},\"id\":\"513446\",\"type\":\"BasicTickFormatter\"},{\"attributes\":{\"axis\":{\"id\":\"513413\"},\"coordinates\":null,\"group\":null,\"ticker\":null},\"id\":\"513416\",\"type\":\"Grid\"},{\"attributes\":{\"fill_alpha\":{\"value\":0.2},\"fill_color\":{\"value\":\"blue\"},\"hatch_alpha\":{\"value\":0.2},\"line_alpha\":{\"value\":0.2},\"line_color\":{\"value\":\"navy\"},\"size\":{\"value\":2},\"x\":{\"field\":\"x\"},\"y\":{\"field\":\"y\"}},\"id\":\"513438\",\"type\":\"Scatter\"},{\"attributes\":{\"axis_label\":\"Residual\",\"coordinates\":null,\"formatter\":{\"id\":\"513443\"},\"group\":null,\"major_label_policy\":{\"id\":\"513444\"},\"ticker\":{\"id\":\"513418\"}},\"id\":\"513417\",\"type\":\"LinearAxis\"},{\"attributes\":{},\"id\":\"513411\",\"type\":\"LinearScale\"},{\"attributes\":{},\"id\":\"513447\",\"type\":\"AllLabels\"},{\"attributes\":{\"coordinates\":null,\"group\":null,\"text\":\"Residuals for Cubic Model\"},\"id\":\"513403\",\"type\":\"Title\"},{\"attributes\":{\"label\":{\"value\":\"Residuals\"},\"renderers\":[{\"id\":\"513439\"}]},\"id\":\"513452\",\"type\":\"LegendItem\"},{\"attributes\":{},\"id\":\"513409\",\"type\":\"LinearScale\"},{\"attributes\":{\"fill_alpha\":{\"value\":0.1},\"fill_color\":{\"value\":\"blue\"},\"hatch_alpha\":{\"value\":0.1},\"line_alpha\":{\"value\":0.1},\"line_color\":{\"value\":\"navy\"},\"size\":{\"value\":2},\"x\":{\"field\":\"x\"},\"y\":{\"field\":\"y\"}},\"id\":\"513437\",\"type\":\"Scatter\"},{\"attributes\":{\"source\":{\"id\":\"513435\"}},\"id\":\"513440\",\"type\":\"CDSView\"},{\"attributes\":{\"coordinates\":null,\"formatter\":{\"id\":\"513446\"},\"group\":null,\"major_label_policy\":{\"id\":\"513447\"},\"ticker\":{\"id\":\"513414\"}},\"id\":\"513413\",\"type\":\"LinearAxis\"},{\"attributes\":{\"coordinates\":null,\"group\":null,\"items\":[{\"id\":\"513452\"}]},\"id\":\"513451\",\"type\":\"Legend\"},{\"attributes\":{},\"id\":\"513426\",\"type\":\"HelpTool\"},{\"attributes\":{},\"id\":\"513422\",\"type\":\"WheelZoomTool\"},{\"attributes\":{},\"id\":\"513448\",\"type\":\"UnionRenderers\"},{\"attributes\":{\"bottom_units\":\"screen\",\"coordinates\":null,\"fill_alpha\":0.5,\"fill_color\":\"lightgrey\",\"group\":null,\"left_units\":\"screen\",\"level\":\"overlay\",\"line_alpha\":1.0,\"line_color\":\"black\",\"line_dash\":[4,4],\"line_width\":2,\"right_units\":\"screen\",\"syncable\":false,\"top_units\":\"screen\"},\"id\":\"513427\",\"type\":\"BoxAnnotation\"},{\"attributes\":{},\"id\":\"513421\",\"type\":\"PanTool\"},{\"attributes\":{},\"id\":\"513424\",\"type\":\"SaveTool\"},{\"attributes\":{},\"id\":\"513449\",\"type\":\"Selection\"},{\"attributes\":{},\"id\":\"513425\",\"type\":\"ResetTool\"},{\"attributes\":{\"fill_alpha\":{\"value\":0.5},\"fill_color\":{\"value\":\"blue\"},\"line_color\":{\"value\":\"navy\"},\"size\":{\"value\":2},\"x\":{\"field\":\"x\"},\"y\":{\"field\":\"y\"}},\"id\":\"513436\",\"type\":\"Scatter\"},{\"attributes\":{},\"id\":\"513405\",\"type\":\"DataRange1d\"},{\"attributes\":{},\"id\":\"513414\",\"type\":\"BasicTicker\"},{\"attributes\":{\"tools\":[{\"id\":\"513421\"},{\"id\":\"513422\"},{\"id\":\"513423\"},{\"id\":\"513424\"},{\"id\":\"513425\"},{\"id\":\"513426\"}]},\"id\":\"513428\",\"type\":\"Toolbar\"},{\"attributes\":{},\"id\":\"513418\",\"type\":\"BasicTicker\"},{\"attributes\":{\"data\":{\"x\":{\"__ndarray__\":\"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\",\"dtype\":\"float64\",\"order\":\"little\",\"shape\":[587]},\"y\":{\"__ndarray__\":\"AENhyZjo9j8A7WaHX+oIQIAyI7X72ghAACkoMGsk9T8A1P2IH7LUPwDkNu/ib/e/AAi4bge1978AmBbmCO7KvwBkmxsaL+Q/AKh+/DRj9z8AIv72FwD5P4DnSW9YgQRAAKRspkyCCEAA/gUm1NQGQACTnBnoyPI/AHLV5gZa5L8AJRQyvqj6vwBJbRv7+AHAABwB76jJ6r8AaMo5YaTBvwBCcYhzheQ/AI6NaYLs8T8AE19iZ2L6P4D/vL2aOAhAAHBQ1Yq6D0AAflo1Do4LQABXtrtJZv8/AFRDLfru2L8AtG0/1YgBwICS7yNr1QTAALmjx7wb+L8AJGfuoO3YvwB4es2Mac4/AFKio1Qv7z8A5VDYU9z7P4ACjT/z3ARAgFnEahITDUAAtthEKwEGQADmsiBnoPc/ANBaWJsn2L8AnqdlaAMCwIDSjw1zDADAAFbuK42m9L8AqFNdfiXdvwAcTCQklNk/AH5+vBHo7T8A+zm/Q9T/P4DvufRhbgZAANzcFCttCUCA4oorz54FQACn+K6m3fk/ALxPS2ls5b8Abjzk/VT+vwDWGqXfagbAAIXlj5e9+b8A3ukiLJ7lvwAkZu1wZtI/AHoqMupK4T8ATUNzxgz0PwA4gee9kAVAgHyFJY3nC0CAIvbUSx8FQADgVq6LUOo/AODG79Cc878A0YkDnukGwIAsU+DZTAnAgDxekwdKAcAAMN+lz7fuvwBYh8FjLsc/AN8u2kJZBEAALjnGjNQAQAASWSiyXOI/AEs2quQZ9L8A+6yP7pwKwIAJbPKU5QnAgKznP9sPBMAA6cTb1O/4vwDwrvvgGu2/AIA+8nUXgz8AxA0+RDHYPwD+noaPvvg/AGwYzP7q9z8AxMaDD8/xPwDI75eBv9c/AMeZb6NoAMCA6LrJo3cJwAAarbyLSQ7AAEfCAHpjAsAA0x2IbE39vwDMQUNe3Oa/ADjPmfhZxz8AUkG8fnPsPwD4alq97ABAAEQT8p5LA0AAXWSkJ/j/PwAaKcITaeE/AN3xwSr2+L+A172IYeoKwACcIBZi6Q/AAIYChCsmA8AAji0L4qfzvwAAu2xdqIu/AAAsrlNBsj8AJg6sn9TgPwBw5c59IP0/AGbTQJeEAkAAUKd9JBr1PwCk/Y0aTNS/AO7wR80vAMAAqDDh1TwOwIBnam9Vzw3AgKayoJPIA8AA925540b1vwBMApOq0em/AHRGamMZ1L8A6A0QPavVPwBoH423GPY/AEFwSEF+/T8AiuHHJLr4PwAQmlsQY84/AGKnudMX/r+AHQn8XP4NwAAKTb6OVw/AgN0FiuV9B8AAls0kKUn3vwDMiJKCzdu/AMCt5mCIur8AuLkYe0XwPwCdeRiEUf8/gJLGB42zBEAAb3npjj79PwCGP0LuC+0/ACdhxMFw9r8AOEfZ9i4GwAC4+zVBtQvAgMKV2brfA8AAnHxA5uH0vwAgY27VMt2/AIBwK37X1z8A6a4/pbLzP4C+mD1dtwJAAO+xng+VAUAAFh0qRCL7PwDkA8iahdE/ANtWkd9+978AXVHfCTUJwIAAOcyVRArAAGwQ1/RoA8AAxJpRBmP2vwAUfwsG8ty/AMBhpM4xor8AYOhy+b7XPwAC4CLUZew/AMmDlEbw/j8AXkee8qz3PwAoCamkesY/ADOnpRiU/b9AsmW/aQ0QwIDt2yT9Qg/AANh1gpMZBsAAzh2B5Vv6vwCmplMPce+/AJD7kQXiy78ASGOLo73IvwAHsO/A5fo/AO/DuAD3/j8AhBnow3/rPwCImG+WWtK/AC1XyBfTAMCAEavgr28NwIDwIUpOVAvAAP7uNya0AcAAS8jErCj0vwBsPn8p2ta/AHrQnLrH4T8AKTH+qCvzP4A4NpV2ZwJAgMyCEjF2CUAAwTsB22UFQADIW1yCBvY/AHTkfMQH0r+AbMeoD3EBwIBucaLv3gTAAO0qIo2k+78AMcN464v1vwDAlJvLi+e/AESJlKvL4D8ANPkRPSDzPwD8YSMtIAJAAKCuQ9nYBEAAQPgGeaf6PwAUh0nqud8/ANfWE1NQ9r8AYnKPEaQLwABAbp4e7QzAgATftlADBcAADdGSyuH5vwC0xPEKcey/AIChoIkwhD8AcNeTD4zhPwCnjeh4d/s/ADbbGNUyAkAA6OC5Sdj8PwAAcAKiVUQ/AIiHblUR/78Aq8oZoVoMwIChIhV/7w7AAInGvfKOBsAAw2wn+HH6vwB4lSg5g+i/AICsESVnrr8A3E5W6d3oPwAVY6niDfw/AHag5j4x/z8ACPQQUbr0PwAQno4btra/AHBJiLlsAsCAiU6KxTAQwEDj4ByiDBLAgO8dXkv6CcAAZkR+Vbf/vwDkqrCTzOq/ADgYuZH73L8AIm0ZTxfnPwA7beUmxv8/AO0XKtx6BEAAgqwgPZX/PwBMQaoYkeA/APGmQY0j/L8AsJfHsDMIwIBck+3ofgzAAJV0WlBuA8AAPjkS91/xvwBwRtW/urK/AEBoWNulzj8AJJluIBz2P4CvxgstJwNAAIo8FC9KBECAz/UxkYsCQADuG0xsMus/AOYfkWbl8b+AD30oOy0JwID+MMoGugvAAJdPnlOjAcAA0DY1lYr0vwBg6nE687y/AECltvWt0z8AMab0z132P4BkUl1IqgFAgCZseXmBBUAAck6WXC8DQAAykxeoSuc/AMjUom9c8L8AuDiJ4mwKwICrms+dygvAgGbsMyw9AcAAOHrOX27qvwB4Ytyv79U/AFYTXB+a4j8AvOkjCXABQAAtl3E8EAZAgOArRQ3ZCkCAy9D6Co0HQAAPP1iei/M/AIoasEY6678AlRyixXcFwAAmxiYKQAXAAMuLXxAH+78A1lpGtyfmvwAIL1vUt8w/AIlrNkmd9T8AX4vIIRkBQADWYRXWJQlAgOuuqh2EC0CAI17asFIFQADWYQJ8UOk/AHJ3+GIi9r8AP8IMfucJwID9dcV0dgnAAMsoYdnD/L8Anmth8zblvwAQEKmYJtc/AI4/RDSz8T+AFeYvE6UAQABV26SkrQZAgBPCdndPCkAAPuxdqg8DQAA4uSEUPu8/AAgyCRo+9r8A4IVYzrEKwICOOW7TlgzAAPsF/jpTAsAAIXqAR9jyvwD4ClW17dm/AORIuXjB4z8ARd8Fc0bxPwCgLHw3agZAACcyducHDECA5kdSxJAHQACxBH0rzPc/ANgvM7+Wzb+ATgv28+AGwIDi58SW3gbAALKblkwV/b8AYDXqRs24vwCQ9Hrhmd8/AKfXibjJ8j8APYO2XFr9PwCip1Ot4AtAgAZ6vRv1DUCAolwJt/QHQAA1gOkSbfc/AIZ42FeG6L+AQ3Fq2sYIwIAttPzxgAfAAMqk/Snd9r8A3CF8RNrTvwAQTCM0YdQ/AAN9PGZ48z+ASOaPlTMEQID15cSfqgpAgLtw8IRUDkAAugv+lukHQADgbdur0/I/ADR+43O/6r+AEHDUBk8EwID0iWednAfAAJ628wMn+r8AZIfBCgTcvwC4PikA5cY/ACqu1NyR5j8AIDZWjLT3P4DhyEojdghAgOCvqLy/DECAA/mgoXkGQADmAIYpM/E/AOtUXehu8b8AJUU+UB0CwIDGK/vBjQjAAOTv/cVE+78A4LD9cN3ivwD42aB97Nk/APD+WdWp5z8Ag1nzGdz4PwDXje8O5wdAgOZ08JnaDUAAlNI5uB8IQACNGmSgOfI/ABDYNvFw2b+AtiPb6WQBwABwZoQsIQPAABhlyrcX8b8AAEpDelKnvwDJy/6XwPQ/AEhutWDBA0AAfSDnO6cGQEA3ZyZ+SxBAgPqNq29NEkBAfS3fARwQQIDm8ejP1ANAAHBNmJme2T8ASQ1/A9v2vwCI5EPEhPa/ACw633kt1r8AQOTeCWrpPwB/5CGPrQBAgFhT4fseAkAAf4DKdvYFQECx1HPraxFAAO241KzmEUAA0SvIHVwOQIAee7RgjgNAAJBUWxB6tT8AjSO4qoL+vwAnD+XPuf2/AI4GVFW65b8AoLgCmTjaPwCClJ0YsfY/AIfIc+CcAkCAOAqulP8GQIBUj/2ogAxAQO4rsQ6QEUAAxYw4gaAKQACDwmYPavw/APwXX6Ju0L8AwTXubrcCwAANbtc4BQLAANgQmdyK578Arrgu8lngPwAoccZVZuw/AFXjupeK/D+AyEJ953oIQABrIcLNdhFAAJiA2i7jE0AAUpK9deYNQADIpFpMh/g/AAxrLE5f6L+AnckZPw0GwIACXu/ZpgbAALtTiIXT9r8AxCHgUZvUvwAABMNDXOE/AIadPHww8j8A5ki9WroAQIDvmh8fXApAgG4HO7RZDUAARAkkyPoIQAD0tJ2eMOg/ADjrLXlp9r8AhSluiDgMwIDP5vzA6grAgM3lYes2BcAAwUJja8n4vwDIt7K3v9i/AACHfODZq78A8gWpqUjwPwA5WPv2Wv8/gHjlCM8hBUAAdu2ulCv9PwBUZxv7Gta/gAWIHddFBMBAIhHcCwMSwEBjYI85XhHAgPygW8AMCcAAoSlOPPj8vwAk4ghkVNi/AMCRLiKelD8AOPc+ihbuP4AB59u6uABAgKBTPTMKA0AA0RsWX9X3PwCg23It+aS/AB1XCnUDAsCAVEDiXCEQwMDzdSr4DRDAALE8LFaZBMAAeSOfrRn0vwBoL5sC8d2/AKhUx1Xo2j8AKH9VqRLtP4DQfm0QsQRAAMjM7I5aBkAAIIfd/OQAQAC0bx3uLOM/AETaaHS8/7+Akr+nHDYMwABR7YqKwQ/AAK6u/AhsAsAAabVBEeb0vwCgsdmAibm/AHxyCKlJ7j8AoMdzNFL5PwDIfQkgBwFAgAL/XsONBUAAQl1jYMwAQAD23G6KU+Q/AFnHaoDf+r8ALDvxAtYOwADaaDF/tw7AAFCGj86tBsAAoRJpmpD2vwCCdcnNlua/AMAQflxXpb8AdGOY2XjYPwD8kffKNQBAAFHqk9CjAkAAxXzIdjfwPwC4bza5wdK/AIAwNmNHA8CAIOC2nHcTwMBLBshXvBHAgJbD5KZeB8AAiaF7r3/zvwCUY885PtS/AAz5fjbH1j8AdQ8RHeP1P4C+c1aWKARAgC2jOf59CEAACBYyxvEDQAAL1omzq/E/AAAR0bXw7L8A+6qsgncHwICI2KYbBQbAAPr1VLO/+r8ABHQ3+uvTvwDA4VavAuc/AACsddSg9D8A65bGoL/9PwBCVlm1EgpAAAlnWiPAB0CACIg9vlgBQAC+2jN0Ae4/AOIUg67Z+L8ARU1m/fMPwAAp4SMLPg3AABJv1o8NAsAAcisG7mjxvwAA121Ii7m/AKBN08KBsT8AcLDFoezuPwD8xLhubf8/AEOAmse1/z8ALo9zrQf7PwDA0libDKG/gIRAqDd9AcCA18UflbYOwADK3iUDDw/AgDwGzy/OA8AAGZe7ITr2vwAexR89X+m/AMxOa0t90T8ATEBl9KfnPwC41C92M/U/ABqfz0mlAkAAK592e3X3PwBoxZiGOdi/AODMDrXTBMAARdykw2QRwACskTKRfhHAgPdUQgGDB8AAeAsAUo34vwComEOFX9+/AAA6barjeL8AQCE+2cjRPwCxBHQQOvc/AC/pPb/s/z8A3uP0IwX7PwCgaL0ddsM/gNbnk9RbBMCAowZf6NoLwMAMSK4+WxDAgJ/q8vlUA8AAWETaMPjrvwDQYNTR3cC/AGruEZXP5D8AOO4/127vPwDOOYWU6QJAANZKEsk+B0AANPFsfDcEQACQBQ3Z0+o/AEo3HXQM978An8QNAMwIwABXBoco6QnAALiyMtJiAMAAhjvxO8XrvwBAkdbbirI/APgD1HWF3z8AiuwjmqP1PwAQSRjlagpAgG87wx8YCkCAyTN54z8AQABwYsvyl7Q/gEER23QVAMAAffJVzpwPwAA54nPmig/AAHbgNL3fA8AAUSzqw7vwvwB0bFzEr9O/AGq8wmyd6T8AhbqT4LvxP4BRYyYtVAdAADxqIqGMB0AAP/wU8PcEQAD2PNPXnPA/AEy6TpnV8b+Aj0hW2DgMwIA7ONH+fArAAFVYMIBu/78AcOVOCpnevwCKSaSAlOg/AFYj/BwR9D8AvajQuRT6PwCmNvdNIApAAIK4qmFKDUCAqfiHg9oEQAD08OkVJOY/AF8dbG5e9L+A352yjt0IwICaEnYVMAjAAP7xax3fAMAAQp6YeyXovwAAMEE6rTi/AKzyQkHW7j8Ai0adG9f2PwB1KfGtNQlAAEImXGFRCUAA/1EuLaoDQA==\",\"dtype\":\"float64\",\"order\":\"little\",\"shape\":[587]}},\"selected\":{\"id\":\"513449\"},\"selection_policy\":{\"id\":\"513448\"}},\"id\":\"513435\",\"type\":\"ColumnDataSource\"},{\"attributes\":{},\"id\":\"513407\",\"type\":\"DataRange1d\"},{\"attributes\":{},\"id\":\"513443\",\"type\":\"BasicTickFormatter\"},{\"attributes\":{\"axis\":{\"id\":\"513417\"},\"coordinates\":null,\"dimension\":1,\"group\":null,\"ticker\":null},\"id\":\"513420\",\"type\":\"Grid\"}],\"root_ids\":[\"513402\"]},\"title\":\"Bokeh Application\",\"version\":\"2.4.1\"}};\n",
       "  const render_items = [{\"docid\":\"6e9497bf-3ffd-4c24-a155-928c011902d5\",\"root_ids\":[\"513402\"],\"roots\":{\"513402\":\"67ba1067-8388-4f59-9aec-ac4126a36022\"}}];\n",
       "  root.Bokeh.embed.embed_items_notebook(docs_json, render_items);\n",
       "\n",
       "  }\n",
       "  if (root.Bokeh !== undefined) {\n",
       "    embed_document(root);\n",
       "  } else {\n",
       "    let attempts = 0;\n",
       "    const timer = setInterval(function(root) {\n",
       "      if (root.Bokeh !== undefined) {\n",
       "        clearInterval(timer);\n",
       "        embed_document(root);\n",
       "      } else {\n",
       "        attempts++;\n",
       "        if (attempts > 100) {\n",
       "          clearInterval(timer);\n",
       "          console.log(\"Bokeh: ERROR: Unable to run BokehJS code because BokehJS library is missing\");\n",
       "        }\n",
       "      }\n",
       "    }, 10, root)\n",
       "  }\n",
       "})(window);"
      ],
      "application/vnd.bokehjs_exec.v0+json": ""
     },
     "metadata": {
      "application/vnd.bokehjs_exec.v0+json": {
       "id": "513402"
      }
     },
     "output_type": "display_data"
    }
   ],
   "source": [
    "# Plotting the residuals \n",
    "\n",
    "cr_residuals = y_train - cr_cubic_fit\n",
    "p = figure(plot_width=800, plot_height=600, title = \"Residuals for Cubic Model\")\n",
    "p.scatter(X_train, cr_residuals ,size=2, line_color=\"navy\", fill_color=\"blue\", fill_alpha=0.5, legend_label =\"Residuals\")\n",
    "\n",
    "p.yaxis.axis_label ='Residual'\n",
    "p.legend.location = \"top_right\"\n",
    "show(p)"
   ]
  },
  {
   "cell_type": "markdown",
   "metadata": {},
   "source": [
    "The residuals show a random scattering around zero which indicates that there isn't a systematic problem with the model."
   ]
  },
  {
   "cell_type": "code",
   "execution_count": 1435,
   "metadata": {},
   "outputs": [
    {
     "name": "stdout",
     "output_type": "stream",
     "text": [
      "The RMSE on test data is 4.1493707118117475\n",
      "The MAPE on test data is 0.8483502723214033\n"
     ]
    }
   ],
   "source": [
    "# Calculating the prediction errors RMSE and MAPE\n",
    "\n",
    "rmse_cubic = (mean_squared_error(y_test, cr_predictions, squared=False))\n",
    "print(\"The RMSE on test data is \" + str(rmse_cubic))\n",
    "\n",
    "mape_cubic = mean_absolute_percentage_error(y_test, cr_predictions)\n",
    "print(\"The MAPE on test data is \" + str(mape_cubic*100)) # as a percentage"
   ]
  },
  {
   "cell_type": "markdown",
   "metadata": {},
   "source": [
    "Based on the predictions and analysing the results of the residuals and errors we notice that the best model to represent the data is the quadratic model which has no systematic trend in its residuals and which has the lowest $RMSE$ and $MAPE$ on predicting the test data."
   ]
  },
  {
   "cell_type": "markdown",
   "metadata": {},
   "source": [
    "Consider $F_n(t)$ to tbe the polynomial trend chosen in the last problem as sufficient to represent the trend in the data. We will now extract the periodic component which appears in the data.\n",
    "\n",
    "First, remove the deterministic trend $F_n(t)$ from the time series and compute the average residual $C_i - F_n(t_i)$ for each month. Namely, collect all the residuals (from removing deterministic trend) for Jan (resp. Feb, Marc, etc) and average them to get one data point for Jan (resp. Feb, Mar, etc). The collection of these points can be interpolated for a periodic signal $P_i$.\n",
    "\n",
    "<b> Report the values of the periodic signal $P_i$ for the month of January and February.</b>"
   ]
  },
  {
   "cell_type": "code",
   "execution_count": 1436,
   "metadata": {},
   "outputs": [
    {
     "name": "stdout",
     "output_type": "stream",
     "text": [
      "(587, 5) (147, 4)\n"
     ]
    },
    {
     "data": {
      "text/html": [
       "<div>\n",
       "<style scoped>\n",
       "    .dataframe tbody tr th:only-of-type {\n",
       "        vertical-align: middle;\n",
       "    }\n",
       "\n",
       "    .dataframe tbody tr th {\n",
       "        vertical-align: top;\n",
       "    }\n",
       "\n",
       "    .dataframe thead th {\n",
       "        text-align: right;\n",
       "    }\n",
       "</style>\n",
       "<table border=\"1\" class=\"dataframe\">\n",
       "  <thead>\n",
       "    <tr style=\"text-align: right;\">\n",
       "      <th></th>\n",
       "      <th>Year</th>\n",
       "      <th>Month</th>\n",
       "      <th>CO2</th>\n",
       "      <th>time</th>\n",
       "      <th>Quadratic Residuals</th>\n",
       "    </tr>\n",
       "  </thead>\n",
       "  <tbody>\n",
       "    <tr>\n",
       "      <th>0</th>\n",
       "      <td>1958</td>\n",
       "      <td>3</td>\n",
       "      <td>315.70</td>\n",
       "      <td>2.041667</td>\n",
       "      <td>1.431786</td>\n",
       "    </tr>\n",
       "    <tr>\n",
       "      <th>1</th>\n",
       "      <td>1958</td>\n",
       "      <td>4</td>\n",
       "      <td>317.45</td>\n",
       "      <td>3.041667</td>\n",
       "      <td>3.114440</td>\n",
       "    </tr>\n",
       "    <tr>\n",
       "      <th>2</th>\n",
       "      <td>1958</td>\n",
       "      <td>5</td>\n",
       "      <td>317.51</td>\n",
       "      <td>4.041667</td>\n",
       "      <td>3.106925</td>\n",
       "    </tr>\n",
       "    <tr>\n",
       "      <th>3</th>\n",
       "      <td>1958</td>\n",
       "      <td>7</td>\n",
       "      <td>315.86</td>\n",
       "      <td>6.041667</td>\n",
       "      <td>1.321391</td>\n",
       "    </tr>\n",
       "    <tr>\n",
       "      <th>4</th>\n",
       "      <td>1958</td>\n",
       "      <td>8</td>\n",
       "      <td>314.93</td>\n",
       "      <td>7.041667</td>\n",
       "      <td>0.323372</td>\n",
       "    </tr>\n",
       "  </tbody>\n",
       "</table>\n",
       "</div>"
      ],
      "text/plain": [
       "   Year  Month     CO2      time  Quadratic Residuals\n",
       "0  1958      3  315.70  2.041667             1.431786\n",
       "1  1958      4  317.45  3.041667             3.114440\n",
       "2  1958      5  317.51  4.041667             3.106925\n",
       "3  1958      7  315.86  6.041667             1.321391\n",
       "4  1958      8  314.93  7.041667             0.323372"
      ]
     },
     "execution_count": 1436,
     "metadata": {},
     "output_type": "execute_result"
    }
   ],
   "source": [
    "# Removing deterministic trend from the time series\n",
    "\n",
    "co2_train = co2.iloc[0:train_size,:].copy()\n",
    "co2_test = co2.iloc[train_size:,:].copy()\n",
    "\n",
    "co2_train['Quadratic Residuals'] = y_train - qr_quadratic_fit\n",
    "print(co2_train.shape, co2_test.shape)\n",
    "co2_train.head()"
   ]
  },
  {
   "cell_type": "code",
   "execution_count": 1437,
   "metadata": {},
   "outputs": [
    {
     "data": {
      "text/plain": [
       "Month\n",
       "1    -0.012919\n",
       "2     0.646407\n",
       "3     1.355569\n",
       "4     2.561858\n",
       "5     2.982891\n",
       "6     2.316473\n",
       "7     0.776297\n",
       "8    -1.301213\n",
       "9    -3.128074\n",
       "10   -3.309520\n",
       "11   -2.081487\n",
       "12   -0.921507\n",
       "Name: Quadratic Residuals, dtype: float64"
      ]
     },
     "execution_count": 1437,
     "metadata": {},
     "output_type": "execute_result"
    }
   ],
   "source": [
    "# Grouping the residuals by month with the average over all months in the training set\n",
    "\n",
    "monthly_residuals = co2_train.groupby('Month')['Quadratic Residuals'].mean()\n",
    "monthly_residuals"
   ]
  },
  {
   "cell_type": "code",
   "execution_count": 1438,
   "metadata": {},
   "outputs": [
    {
     "name": "stdout",
     "output_type": "stream",
     "text": [
      "The periodic signal for the month of January is -0.01291921890639728\n",
      "The periodic signal for the month of February is 0.646406596528737\n"
     ]
    }
   ],
   "source": [
    "print('The periodic signal for the month of January is', monthly_residuals.values[0])\n",
    "print('The periodic signal for the month of February is', monthly_residuals.values[1])"
   ]
  },
  {
   "cell_type": "markdown",
   "metadata": {},
   "source": [
    "There seems to be a clear seasonal component that should be added to the model in order to predict the change in $CO_2$, so based on this, we can try to build one final model where we include the periodic signal together with the quadratic model. \n",
    "\n",
    "We build the model by interpolating the periodic signal and then adding the quadratic component to predict the test data and see again from the residuals and prediction errors how the model performs compared to the previous ones."
   ]
  },
  {
   "cell_type": "markdown",
   "metadata": {},
   "source": [
    "<b> Plot the periodic signal $P_i$. Clearly state the definition the $P_i$, and make sure your plot is clearly labeled</b>"
   ]
  },
  {
   "cell_type": "code",
   "execution_count": 1439,
   "metadata": {},
   "outputs": [],
   "source": [
    "# Interpolating the months with the 1D interpolate function to get a continuous signal\n",
    "\n",
    "periodic_signal = scipy.interpolate.interp1d(monthly_residuals.index, monthly_residuals.values, kind='cubic')"
   ]
  },
  {
   "cell_type": "code",
   "execution_count": 1440,
   "metadata": {},
   "outputs": [
    {
     "data": {
      "text/html": [
       "\n",
       "\n",
       "\n",
       "\n",
       "\n",
       "\n",
       "  <div class=\"bk-root\" id=\"e51dc38a-a7f8-42b2-bd77-58c580c6bd5a\" data-root-id=\"516857\"></div>\n"
      ]
     },
     "metadata": {},
     "output_type": "display_data"
    },
    {
     "data": {
      "application/javascript": [
       "(function(root) {\n",
       "  function embed_document(root) {\n",
       "    \n",
       "  const docs_json = {\"01347bb4-1c8c-4424-bdea-9d8be3541924\":{\"defs\":[],\"roots\":{\"references\":[{\"attributes\":{\"below\":[{\"id\":\"516868\"}],\"center\":[{\"id\":\"516871\"},{\"id\":\"516875\"},{\"id\":\"516906\"}],\"left\":[{\"id\":\"516872\"}],\"renderers\":[{\"id\":\"516894\"},{\"id\":\"516912\"}],\"title\":{\"id\":\"516858\"},\"toolbar\":{\"id\":\"516883\"},\"width\":800,\"x_range\":{\"id\":\"516860\"},\"x_scale\":{\"id\":\"516864\"},\"y_range\":{\"id\":\"516862\"},\"y_scale\":{\"id\":\"516866\"}},\"id\":\"516857\",\"subtype\":\"Figure\",\"type\":\"Plot\"},{\"attributes\":{\"bottom_units\":\"screen\",\"coordinates\":null,\"fill_alpha\":0.5,\"fill_color\":\"lightgrey\",\"group\":null,\"left_units\":\"screen\",\"level\":\"overlay\",\"line_alpha\":1.0,\"line_color\":\"black\",\"line_dash\":[4,4],\"line_width\":2,\"right_units\":\"screen\",\"syncable\":false,\"top_units\":\"screen\"},\"id\":\"516882\",\"type\":\"BoxAnnotation\"},{\"attributes\":{},\"id\":\"516903\",\"type\":\"UnionRenderers\"},{\"attributes\":{},\"id\":\"516904\",\"type\":\"Selection\"},{\"attributes\":{},\"id\":\"516924\",\"type\":\"Selection\"},{\"attributes\":{\"ticks\":[1,2,3,4,5,6,7,8,9,10,11,12]},\"id\":\"516927\",\"type\":\"FixedTicker\"},{\"attributes\":{\"label\":{\"value\":\"Periodic Signal\"},\"renderers\":[{\"id\":\"516912\"}]},\"id\":\"516926\",\"type\":\"LegendItem\"},{\"attributes\":{\"line_alpha\":0.2,\"line_color\":\"orange\",\"line_width\":2.5,\"x\":{\"field\":\"x\"},\"y\":{\"field\":\"y\"}},\"id\":\"516911\",\"type\":\"Line\"},{\"attributes\":{\"fill_color\":{\"value\":\"navy\"},\"line_color\":{\"value\":\"orange\"},\"size\":{\"value\":6},\"x\":{\"field\":\"x\"},\"y\":{\"field\":\"y\"}},\"id\":\"516891\",\"type\":\"Scatter\"},{\"attributes\":{\"data\":{\"x\":[1,2,3,4,5,6,7,8,9,10,11,12],\"y\":{\"__ndarray__\":\"VPCKNWR1ir+VTgDjXK/kP30KHDtpsPU/LxDRb69+BECXuHDd9dwHQFbXh9oiiAJA9uHpqG3X6D/2Shc1xNH0v7TZe95LBgnAQOXyieV5CsCa8jyF4qYAwPa7GmH7fO2/\",\"dtype\":\"float64\",\"order\":\"little\",\"shape\":[12]}},\"selected\":{\"id\":\"516904\"},\"selection_policy\":{\"id\":\"516903\"}},\"id\":\"516890\",\"type\":\"ColumnDataSource\"},{\"attributes\":{\"coordinates\":null,\"group\":null,\"items\":[{\"id\":\"516907\"},{\"id\":\"516926\"}]},\"id\":\"516906\",\"type\":\"Legend\"},{\"attributes\":{},\"id\":\"516860\",\"type\":\"DataRange1d\"},{\"attributes\":{\"line_alpha\":0.1,\"line_color\":\"orange\",\"line_width\":2.5,\"x\":{\"field\":\"x\"},\"y\":{\"field\":\"y\"}},\"id\":\"516910\",\"type\":\"Line\"},{\"attributes\":{},\"id\":\"516862\",\"type\":\"DataRange1d\"},{\"attributes\":{\"source\":{\"id\":\"516908\"}},\"id\":\"516913\",\"type\":\"CDSView\"},{\"attributes\":{},\"id\":\"516923\",\"type\":\"UnionRenderers\"},{\"attributes\":{},\"id\":\"516880\",\"type\":\"ResetTool\"},{\"attributes\":{},\"id\":\"516876\",\"type\":\"PanTool\"},{\"attributes\":{\"source\":{\"id\":\"516890\"}},\"id\":\"516895\",\"type\":\"CDSView\"},{\"attributes\":{\"axis\":{\"id\":\"516868\"},\"coordinates\":null,\"group\":null,\"ticker\":null},\"id\":\"516871\",\"type\":\"Grid\"},{\"attributes\":{},\"id\":\"516902\",\"type\":\"AllLabels\"},{\"attributes\":{\"coordinates\":null,\"formatter\":{\"id\":\"516898\"},\"group\":null,\"major_label_policy\":{\"id\":\"516899\"},\"ticker\":{\"id\":\"516873\"}},\"id\":\"516872\",\"type\":\"LinearAxis\"},{\"attributes\":{},\"id\":\"516866\",\"type\":\"LinearScale\"},{\"attributes\":{\"line_color\":\"orange\",\"line_width\":2.5,\"x\":{\"field\":\"x\"},\"y\":{\"field\":\"y\"}},\"id\":\"516909\",\"type\":\"Line\"},{\"attributes\":{\"fill_alpha\":{\"value\":0.1},\"fill_color\":{\"value\":\"navy\"},\"hatch_alpha\":{\"value\":0.1},\"line_alpha\":{\"value\":0.1},\"line_color\":{\"value\":\"orange\"},\"size\":{\"value\":6},\"x\":{\"field\":\"x\"},\"y\":{\"field\":\"y\"}},\"id\":\"516892\",\"type\":\"Scatter\"},{\"attributes\":{\"coordinates\":null,\"group\":null,\"text\":\"Periodic Signal\"},\"id\":\"516858\",\"type\":\"Title\"},{\"attributes\":{\"data\":{\"x\":{\"__ndarray__\":\"AAAAAAAA8D9yHMdxHMfxP+Q4juM4jvM/VVVVVVVV9T/HcRzHcRz3PzmO4ziO4/g/qqqqqqqq+j8cx3Ecx3H8P47jOI7jOP4/AAAAAAAAAEA5juM4juMAQHIcx3EcxwFAqqqqqqqqAkDkOI7jOI4DQBzHcRzHcQRAVVVVVVVVBUCO4ziO4zgGQMdxHMdxHAdAAAAAAAAACEA5juM4juMIQHIcx3EcxwlAqqqqqqqqCkDjOI7jOI4LQBzHcRzHcQxAVVVVVVVVDUCO4ziO4zgOQMdxHMdxHA9AAAAAAAAAEEAcx3Ecx3EQQDiO4ziO4xBAVVVVVVVVEUByHMdxHMcRQI7jOI7jOBJAqqqqqqqqEkDHcRzHcRwTQOQ4juM4jhNAAAAAAAAAFEAcx3Ecx3EUQDmO4ziO4xRAVVVVVVVVFUByHMdxHMcVQI7jOI7jOBZAqqqqqqqqFkDHcRzHcRwXQOM4juM4jhdAAAAAAAAAGEAcx3Ecx3EYQDmO4ziO4xhAVVVVVVVVGUBxHMdxHMcZQI7jOI7jOBpAqqqqqqqqGkDHcRzHcRwbQOM4juM4jhtAAAAAAAAAHEAcx3Ecx3EcQDiO4ziO4xxAVVVVVVVVHUBxHMdxHMcdQI7jOI7jOB5AqqqqqqqqHkDHcRzHcRwfQOM4juM4jh9AAAAAAAAAIECO4ziO4zggQBzHcRzHcSBAqqqqqqqqIEA4juM4juMgQMdxHMdxHCFAVVVVVVVVIUDkOI7jOI4hQHIcx3EcxyFAAAAAAAAAIkCO4ziO4zgiQBzHcRzHcSJAqqqqqqqqIkA5juM4juMiQMdxHMdxHCNAVVVVVVVVI0DjOI7jOI4jQHIcx3EcxyNAAAAAAAAAJECO4ziO4zgkQBzHcRzHcSRAqqqqqqqqJEA5juM4juMkQMdxHMdxHCVAVVVVVVVVJUDjOI7jOI4lQHEcx3EcxyVAAAAAAAAAJkCO4ziO4zgmQBzHcRzHcSZAqqqqqqqqJkA5juM4juMmQMdxHMdxHCdAVVVVVVVVJ0DjOI7jOI4nQHEcx3EcxydAAAAAAAAAKEA=\",\"dtype\":\"float64\",\"order\":\"little\",\"shape\":[100]},\"y\":{\"__ndarray__\":\"VPCKNWR1ir/ExDQU3Yy2P5XKuun96sY/7QR72AG50D9A0JzalYPVP2mH+eUQ69k/hupH5UgF3j/iXJ/hCfTgP6JaSrWj1OI/lU4A41yv5D/QmBxgII/mP2CZ+iHZfug/WLD1HXKJ6j/TPWlJ1rnsP9ihsJnwGu8/QJ4TAtbb8D/uNhS/eU3yPwDLh/7Y5/M/fQocO2mw9T+z97vTran3PwDeR7hhyvk/+VrdvE0G/D9JDJq1OlH+P8bHTbt4TwBALsH/aZ1xAUAtwfHQ74gCQJOWMlpUjwNALxDRb69+BEAgQ8C97VEFQMNdhPccCAZAydSFElOhBkDaHC0Eph0HQKWq4sErfQdA1vIOQfq/B0Acahp3J+YHQCGFbVnJ7wdAlrhw3fXcB0AV4lTv260HQPaCbFYOYwdAgYXS0Dj9BkD906EcB30GQLNY9fck4wVA6v3nID4wBUDnrZRV/mQEQPRSFlQRggNAVdeH2iKIAkA1/UeP5XcBQC7mxLknUgBAexdhE30v/j++znld/pL7PxnlN7F90Pg/jE3/baXp9T8D+zPzH+DyPwzBc0Ava+8/9uHpqG3X6D/MPcWO3gjiP5NqmUNAC9Y/yEDRD/qivj8aT8SFuSG8vyACo6zs+tW/it3WTrGQ4r+6v046Ozfqv92jX5wz9fC/9koXNcTR9L96k+ukmqz4v9504t+Ie/y/ZwrOQ4EZAMB4TNyeveMBwIMT7FGzlgPATHLNLZwsBcC6e1ADsp8GwJJCRaMu6gfAtdl73ksGCcDB+v9xb+8JwIv6y8uupQrAr9QVRksqC8DJhBM7hn4LwHYG+wShowvAVFUC/tyaC8ADbV+Ae2ULwB1JSOa9BAvAQOXyieV5CsA/+6AGyMYJwLw9w/uL7wjAhx3WSez4B8B1C1bRo+cGwGV4v3JtwAXAJdWODgSIBMCLkkCFIkMDwG4hUbeD9gHAmvI8heKmAMDn7QCf87H+v44+MO0II/y/2LgAtnqq+b9gPmu6vlH3v+ywaLtKIvW/F/LxeZQl87+L4/+2EWXxv+3NFmdw1O+/9rsaYft87b8=\",\"dtype\":\"float64\",\"order\":\"little\",\"shape\":[100]}},\"selected\":{\"id\":\"516924\"},\"selection_policy\":{\"id\":\"516923\"}},\"id\":\"516908\",\"type\":\"ColumnDataSource\"},{\"attributes\":{},\"id\":\"516864\",\"type\":\"LinearScale\"},{\"attributes\":{\"label\":{\"value\":\"Periodic Values\"},\"renderers\":[{\"id\":\"516894\"}]},\"id\":\"516907\",\"type\":\"LegendItem\"},{\"attributes\":{\"coordinates\":null,\"formatter\":{\"id\":\"516901\"},\"group\":null,\"major_label_overrides\":{\"1\":\"Jan\",\"10\":\"Oct\",\"11\":\"Nov\",\"12\":\"Dec\",\"2\":\"Feb\",\"3\":\"Mar\",\"4\":\"Apr\",\"5\":\"May\",\"6\":\"Jun\",\"7\":\"Jul\",\"8\":\"Aug\",\"9\":\"Sep\"},\"major_label_policy\":{\"id\":\"516902\"},\"ticker\":{\"id\":\"516927\"}},\"id\":\"516868\",\"type\":\"LinearAxis\"},{\"attributes\":{},\"id\":\"516881\",\"type\":\"HelpTool\"},{\"attributes\":{\"overlay\":{\"id\":\"516882\"}},\"id\":\"516878\",\"type\":\"BoxZoomTool\"},{\"attributes\":{},\"id\":\"516898\",\"type\":\"BasicTickFormatter\"},{\"attributes\":{\"fill_alpha\":{\"value\":0.2},\"fill_color\":{\"value\":\"navy\"},\"hatch_alpha\":{\"value\":0.2},\"line_alpha\":{\"value\":0.2},\"line_color\":{\"value\":\"orange\"},\"size\":{\"value\":6},\"x\":{\"field\":\"x\"},\"y\":{\"field\":\"y\"}},\"id\":\"516893\",\"type\":\"Scatter\"},{\"attributes\":{\"axis\":{\"id\":\"516872\"},\"coordinates\":null,\"dimension\":1,\"group\":null,\"ticker\":null},\"id\":\"516875\",\"type\":\"Grid\"},{\"attributes\":{},\"id\":\"516899\",\"type\":\"AllLabels\"},{\"attributes\":{},\"id\":\"516873\",\"type\":\"BasicTicker\"},{\"attributes\":{\"tools\":[{\"id\":\"516876\"},{\"id\":\"516877\"},{\"id\":\"516878\"},{\"id\":\"516879\"},{\"id\":\"516880\"},{\"id\":\"516881\"}]},\"id\":\"516883\",\"type\":\"Toolbar\"},{\"attributes\":{},\"id\":\"516901\",\"type\":\"BasicTickFormatter\"},{\"attributes\":{\"coordinates\":null,\"data_source\":{\"id\":\"516890\"},\"glyph\":{\"id\":\"516891\"},\"group\":null,\"hover_glyph\":null,\"muted_glyph\":{\"id\":\"516893\"},\"nonselection_glyph\":{\"id\":\"516892\"},\"view\":{\"id\":\"516895\"}},\"id\":\"516894\",\"type\":\"GlyphRenderer\"},{\"attributes\":{},\"id\":\"516877\",\"type\":\"WheelZoomTool\"},{\"attributes\":{\"coordinates\":null,\"data_source\":{\"id\":\"516908\"},\"glyph\":{\"id\":\"516909\"},\"group\":null,\"hover_glyph\":null,\"muted_glyph\":{\"id\":\"516911\"},\"nonselection_glyph\":{\"id\":\"516910\"},\"view\":{\"id\":\"516913\"}},\"id\":\"516912\",\"type\":\"GlyphRenderer\"},{\"attributes\":{},\"id\":\"516879\",\"type\":\"SaveTool\"}],\"root_ids\":[\"516857\"]},\"title\":\"Bokeh Application\",\"version\":\"2.4.1\"}};\n",
       "  const render_items = [{\"docid\":\"01347bb4-1c8c-4424-bdea-9d8be3541924\",\"root_ids\":[\"516857\"],\"roots\":{\"516857\":\"e51dc38a-a7f8-42b2-bd77-58c580c6bd5a\"}}];\n",
       "  root.Bokeh.embed.embed_items_notebook(docs_json, render_items);\n",
       "\n",
       "  }\n",
       "  if (root.Bokeh !== undefined) {\n",
       "    embed_document(root);\n",
       "  } else {\n",
       "    let attempts = 0;\n",
       "    const timer = setInterval(function(root) {\n",
       "      if (root.Bokeh !== undefined) {\n",
       "        clearInterval(timer);\n",
       "        embed_document(root);\n",
       "      } else {\n",
       "        attempts++;\n",
       "        if (attempts > 100) {\n",
       "          clearInterval(timer);\n",
       "          console.log(\"Bokeh: ERROR: Unable to run BokehJS code because BokehJS library is missing\");\n",
       "        }\n",
       "      }\n",
       "    }, 10, root)\n",
       "  }\n",
       "})(window);"
      ],
      "application/vnd.bokehjs_exec.v0+json": ""
     },
     "metadata": {
      "application/vnd.bokehjs_exec.v0+json": {
       "id": "516857"
      }
     },
     "output_type": "display_data"
    }
   ],
   "source": [
    "# Plotting the periodic signal\n",
    "\n",
    "months = np.linspace(1, 12, num=100) # periodic_signal function uses this range to find the new values\n",
    "\n",
    "p = figure(plot_width=800, plot_height=600, title='Periodic Signal')\n",
    "p.scatter(monthly_residuals.index, monthly_residuals.values, size=6, line_color=\"orange\", fill_color=\"navy\", fill_alpha=1, legend_label ='Periodic Values')\n",
    "p.line(months, periodic_signal(months), line_color=\"orange\", line_width =2.5, legend_label ='Periodic Signal')\n",
    "p.xaxis.ticker = [1, 2, 3, 4, 5, 6, 7, 8, 9, 10, 11, 12]\n",
    "p.xaxis.major_label_overrides = {1: 'Jan', 2: 'Feb', 3: 'Mar', 4: 'Apr', 5: 'May', 6: 'Jun', 7: 'Jul', 8: 'Aug', 9: 'Sep', 10: 'Oct', 11: 'Nov', 12: 'Dec'}\n",
    "show(p)"
   ]
  },
  {
   "cell_type": "markdown",
   "metadata": {},
   "source": [
    "We can see from the plot the periodic signal which is the average over all the months within the traininig data. The maximum of the signal occurs in May and minimum from September till October."
   ]
  },
  {
   "cell_type": "markdown",
   "metadata": {},
   "source": [
    "<b> Plot the final fit $F_n(t_i) + P_i$. Your plot should clearly show the final model on top of the entire time series, while indicating the split between the training and testing data.</b>"
   ]
  },
  {
   "cell_type": "code",
   "execution_count": 1441,
   "metadata": {},
   "outputs": [
    {
     "name": "stdout",
     "output_type": "stream",
     "text": [
      "587\n",
      "147\n"
     ]
    }
   ],
   "source": [
    "# Creating periodic signal for training and test sets by chaining the monthly residuals\n",
    "\n",
    "periodic_train = list(chain.from_iterable(monthly_residuals[co2_train.Month].values[..., None])) \n",
    "periodic_test = list(chain.from_iterable(monthly_residuals[co2_test.Month].values[..., None]))\n",
    "print(len(periodic_train))\n",
    "print(len(periodic_test))"
   ]
  },
  {
   "cell_type": "code",
   "execution_count": 1442,
   "metadata": {},
   "outputs": [
    {
     "data": {
      "text/html": [
       "\n",
       "\n",
       "\n",
       "\n",
       "\n",
       "\n",
       "  <div class=\"bk-root\" id=\"bc9ce953-5467-4def-b2a8-e6e1bd8a7779\" data-root-id=\"520349\"></div>\n"
      ]
     },
     "metadata": {},
     "output_type": "display_data"
    },
    {
     "data": {
      "application/javascript": [
       "(function(root) {\n",
       "  function embed_document(root) {\n",
       "    \n",
       "  const docs_json = {\"4d39fc4a-8e69-4bb0-ad90-09970933a24c\":{\"defs\":[],\"roots\":{\"references\":[{\"attributes\":{\"below\":[{\"id\":\"520360\"}],\"center\":[{\"id\":\"520363\"},{\"id\":\"520367\"},{\"id\":\"520398\"}],\"left\":[{\"id\":\"520364\"}],\"renderers\":[{\"id\":\"520386\"},{\"id\":\"520404\"},{\"id\":\"520423\"},{\"id\":\"520444\"}],\"title\":{\"id\":\"520350\"},\"toolbar\":{\"id\":\"520375\"},\"width\":800,\"x_range\":{\"id\":\"520352\"},\"x_scale\":{\"id\":\"520356\"},\"y_range\":{\"id\":\"520354\"},\"y_scale\":{\"id\":\"520358\"}},\"id\":\"520349\",\"subtype\":\"Figure\",\"type\":\"Plot\"},{\"attributes\":{},\"id\":\"520354\",\"type\":\"DataRange1d\"},{\"attributes\":{},\"id\":\"520373\",\"type\":\"HelpTool\"},{\"attributes\":{\"fill_alpha\":{\"value\":0.2},\"fill_color\":{\"value\":\"green\"},\"hatch_alpha\":{\"value\":0.2},\"line_alpha\":{\"value\":0.2},\"size\":{\"value\":2},\"x\":{\"field\":\"x\"},\"y\":{\"field\":\"y\"}},\"id\":\"520385\",\"type\":\"Scatter\"},{\"attributes\":{},\"id\":\"520369\",\"type\":\"WheelZoomTool\"},{\"attributes\":{},\"id\":\"520372\",\"type\":\"ResetTool\"},{\"attributes\":{},\"id\":\"520394\",\"type\":\"AllLabels\"},{\"attributes\":{\"bottom_units\":\"screen\",\"coordinates\":null,\"fill_alpha\":0.5,\"fill_color\":\"lightgrey\",\"group\":null,\"left_units\":\"screen\",\"level\":\"overlay\",\"line_alpha\":1.0,\"line_color\":\"black\",\"line_dash\":[4,4],\"line_width\":2,\"right_units\":\"screen\",\"syncable\":false,\"top_units\":\"screen\"},\"id\":\"520374\",\"type\":\"BoxAnnotation\"},{\"attributes\":{\"coordinates\":null,\"formatter\":{\"id\":\"520390\"},\"group\":null,\"major_label_policy\":{\"id\":\"520391\"},\"ticker\":{\"id\":\"520365\"}},\"id\":\"520364\",\"type\":\"LinearAxis\"},{\"attributes\":{\"coordinates\":null,\"group\":null,\"items\":[{\"id\":\"520399\"},{\"id\":\"520418\"},{\"id\":\"520439\"},{\"id\":\"520462\"}],\"location\":\"bottom_right\"},\"id\":\"520398\",\"type\":\"Legend\"},{\"attributes\":{\"coordinates\":null,\"group\":null,\"text\":\"CO2 Variation with time\"},\"id\":\"520350\",\"type\":\"Title\"},{\"attributes\":{},\"id\":\"520395\",\"type\":\"UnionRenderers\"},{\"attributes\":{},\"id\":\"520365\",\"type\":\"BasicTicker\"},{\"attributes\":{},\"id\":\"520358\",\"type\":\"LinearScale\"},{\"attributes\":{},\"id\":\"520396\",\"type\":\"Selection\"},{\"attributes\":{\"axis_label\":\"Time\",\"coordinates\":null,\"formatter\":{\"id\":\"520393\"},\"group\":null,\"major_label_overrides\":{\"0\":\"1958\",\"146\":\"1971\",\"293\":\"1983\",\"440\":\"1995\",\"587\":\"2007\",\"734\":\"2019\"},\"major_label_policy\":{\"id\":\"520394\"},\"ticker\":{\"id\":\"520463\"}},\"id\":\"520360\",\"type\":\"LinearAxis\"},{\"attributes\":{},\"id\":\"520371\",\"type\":\"SaveTool\"},{\"attributes\":{\"line_alpha\":0.1,\"line_color\":\"orangered\",\"line_width\":2.5,\"x\":{\"field\":\"x\"},\"y\":{\"field\":\"y\"}},\"id\":\"520442\",\"type\":\"Line\"},{\"attributes\":{},\"id\":\"520459\",\"type\":\"UnionRenderers\"},{\"attributes\":{\"coordinates\":null,\"data_source\":{\"id\":\"520419\"},\"glyph\":{\"id\":\"520420\"},\"group\":null,\"hover_glyph\":null,\"muted_glyph\":{\"id\":\"520422\"},\"nonselection_glyph\":{\"id\":\"520421\"},\"view\":{\"id\":\"520424\"}},\"id\":\"520423\",\"type\":\"GlyphRenderer\"},{\"attributes\":{\"ticks\":[0,146,293,440,587,734]},\"id\":\"520463\",\"type\":\"FixedTicker\"},{\"attributes\":{\"line_alpha\":0.1,\"line_color\":\"orange\",\"line_width\":2.5,\"x\":{\"field\":\"x\"},\"y\":{\"field\":\"y\"}},\"id\":\"520402\",\"type\":\"Line\"},{\"attributes\":{\"data\":{\"x\":{\"__ndarray__\":\"VVVVVVWQgkBVVVVVVZiCQFVVVVVVoIJAVVVVVVWogkBVVVVVVbCCQFVVVVVVuIJAVVVVVVXAgkBVVVVVVciCQFVVVVVV0IJAVVVVVVXYgkBVVVVVVeCCQFVVVVVV6IJAVVVVVVXwgkBVVVVVVfiCQFVVVVVVAINAVVVVVVUIg0BVVVVVVRCDQFVVVVVVGINAVVVVVVUgg0BVVVVVVSiDQFVVVVVVMINAVVVVVVU4g0BVVVVVVUCDQFVVVVVVSINAVVVVVVVQg0BVVVVVVViDQFVVVVVVYINAVVVVVVVog0BVVVVVVXCDQFVVVVVVeINAVVVVVVWAg0BVVVVVVYiDQFVVVVVVkINAVVVVVVWYg0BVVVVVVaCDQFVVVVVVqINAVVVVVVWwg0BVVVVVVbiDQFVVVVVVwINAVVVVVVXIg0BVVVVVVdCDQFVVVVVV2INAVVVVVVXgg0BVVVVVVeiDQFVVVVVV8INAVVVVVVX4g0BVVVVVVQCEQFVVVVVVCIRAVVVVVVUQhEBVVVVVVRiEQFVVVVVVIIRAVVVVVVUohEBVVVVVVTCEQFVVVVVVOIRAVVVVVVVAhEBVVVVVVUiEQFVVVVVVUIRAVVVVVVVYhEBVVVVVVWCEQFVVVVVVaIRAVVVVVVVwhEBVVVVVVXiEQFVVVVVVgIRAVVVVVVWIhEBVVVVVVZCEQFVVVVVVmIRAVVVVVVWghEBVVVVVVaiEQFVVVVVVsIRAVVVVVVW4hEBVVVVVVcCEQFVVVVVVyIRAVVVVVVXQhEBVVVVVVdiEQFVVVVVV4IRAVVVVVVXohEBVVVVVVfCEQFVVVVVV+IRAVVVVVVUAhUBVVVVVVQiFQFVVVVVVEIVAVVVVVVUYhUBVVVVVVSCFQFVVVVVVKIVAVVVVVVUwhUBVVVVVVTiFQFVVVVVVQIVAVVVVVVVIhUBVVVVVVVCFQFVVVVVVWIVAVVVVVVVghUBVVVVVVWiFQFVVVVVVcIVAVVVVVVV4hUBVVVVVVYCFQFVVVVVViIVAVVVVVVWQhUBVVVVVVZiFQFVVVVVVoIVAVVVVVVWohUBVVVVVVbCFQFVVVVVVuIVAVVVVVVXAhUBVVVVVVciFQFVVVVVV0IVAVVVVVVXYhUBVVVVVVeCFQFVVVVVV6IVAVVVVVVXwhUBVVVVVVfiFQFVVVVVVAIZAVVVVVVUIhkBVVVVVVRCGQFVVVVVVGIZAVVVVVVUghkBVVVVVVSiGQFVVVVVVMIZAVVVVVVU4hkBVVVVVVUCGQFVVVVVVSIZAVVVVVVVQhkBVVVVVVViGQFVVVVVVYIZAVVVVVVVohkBVVVVVVXCGQFVVVVVVeIZAVVVVVVWAhkBVVVVVVYiGQFVVVVVVkIZAVVVVVVWYhkBVVVVVVaCGQFVVVVVVqIZAVVVVVVWwhkBVVVVVVbiGQFVVVVVVwIZAVVVVVVXIhkBVVVVVVdCGQFVVVVVV2IZAVVVVVVXghkBVVVVVVeiGQFVVVVVV8IZAVVVVVVX4hkBVVVVVVQCHQFVVVVVVCIdAVVVVVVUQh0BVVVVVVRiHQFVVVVVVIIdA\",\"dtype\":\"float64\",\"order\":\"little\",\"shape\":[147]},\"y\":{\"__ndarray__\":\"jURhI64FeEDNw5uaHOd3QBY/0WmOzHdA4vywiVTMd0DgZGqTqOJ3QLOd7Y7m93dAe1x4hh8JeEBsNM40XBZ4QDcNLbVlJHhAaCDgIGQ6eEAJPUPU0kN4QMuYPgXcO3hAxHvY/eoleEBzvcK6YQd4QCv7p8/b7HdAZns3Narsd0DTpaCEBgN4QBah08VMGHhATCIOA44peECtvBP30jZ4QOZXIr3kRHhAhy2FbutaeECXDJhnYmR4QMcqQ95zXHhAMNCMHItGeEBP1CYfCih4QHXUu3mMDXhAIBf7JGMNeED7AxS6xyN4QK3B9kAWOXhAUwXhw19KeEAiYpb9rFd4QMu/VAnHZXhA21dnANZ7eEBZ+Sk/VYV4QPnZhPtufXhA0UF+f45neEBfCMjHFUl4QPXKDGigLnhADtD7WH8ueEBZf8Qz7ER4QHn/VgBDWnhAjgXxyJRreEDNJFZI6nh4QOVExJkMh3hAZJ+G1iOdeEBRA/laq6Z4QGGmA13NnnhAp9CsJvWIeECkWaa0hGp4QKnempoXUHhAMqY50f5PeEDrF7Lxc2Z4QHta9APTe3hA/yI+Ei2NeECtBFPXipp4QDTncG61qHhAIgTj8NS+eEB/KgW7ZMh4QP2PvwKPwHhAsnwYEr+qeEAeyMHlVox4QJIPZhHycXhAipm0jeFxeECzzdzzXoh4QLHSzkvGnXhApV3InyiveEDBAY2qjrx4QLemWofBynhAFIZ8T+ngeEDhbk5fgep4QM2WuOyz4nhA80XBQezMeEDNUxpbjK54QLBdbswvlHhAGKpsjieUeECvoEQ6rap4QB1o5tccwHhAf7WPcYfReEALHATC9d54QHCDgeQw7XhAPCVT8mADeUB30NRHAQ15QNO67ho8BXlAZyyntXzveECx/K8UJdF4QAPJs8vQtnhA2tdh09C2eEDhkOnEXs14QL4aO6jW4nhAjyqUh0n0eECJU7gdwAF5QF595YUDEHlAmeFm2TsmeUBDT5h05C95QA/8YY0nKHlAEjDKbXASeUDLwoISIfR4QItRNg/V2XhA0iKUXN3ZeEBHnsuTc/B4QJPqzLzzBXlA1LzV4W4XeUA9qKm97SR5QIGUhms5M3lAK7u3BHpJeUBF65jlKlN5QH9aEkR2S3lA8VAqasc1eUAZppJUgBd5QEn39ZY8/XhA/ooDKk39eEDjyOqm6xN5QJ7XmxV0KXlATmxUgPc6eUAmGtihfkh5QNjIZJXSVnlA8rFFdBtteUB7pNaa1HZ5QCTW/z4ob3lABY/HqoFZeUCcpt/aQjt5QDu68mIHIXlAYBCwOyAheUCzEEf+xjd5QN3hp7JXTXlA/DgQY+NeeUBEqUPKcmx5QGYagAPPenlA7sUQKCCReUDlelGU4Zp5QP5uKn49k3lATuqhL599eUBVxGmlaF95QGOaLHM1RXlA9rKZkVZFeUC5deCZBVx5QFIJ8ZOecXlA4CIJijKDeUCXVew2ypB5QCeJ2LUun3lAH/cYIIi1eUCFbgnSUb95QA0lkgG2t3lAzWK5+B+ieUBC/zC08YN5QL+Xo8fGaXlA\",\"dtype\":\"float64\",\"order\":\"little\",\"shape\":[147]}},\"selected\":{\"id\":\"520460\"},\"selection_policy\":{\"id\":\"520459\"}},\"id\":\"520440\",\"type\":\"ColumnDataSource\"},{\"attributes\":{\"fill_alpha\":{\"value\":0.5},\"fill_color\":{\"value\":\"orange\"},\"line_color\":{\"value\":\"olive\"},\"size\":{\"value\":2},\"x\":{\"field\":\"x\"},\"y\":{\"field\":\"y\"}},\"id\":\"520420\",\"type\":\"Scatter\"},{\"attributes\":{\"line_alpha\":0.2,\"line_color\":\"orangered\",\"line_width\":2.5,\"x\":{\"field\":\"x\"},\"y\":{\"field\":\"y\"}},\"id\":\"520443\",\"type\":\"Line\"},{\"attributes\":{\"axis\":{\"id\":\"520360\"},\"coordinates\":null,\"group\":null,\"ticker\":null},\"id\":\"520363\",\"type\":\"Grid\"},{\"attributes\":{\"axis\":{\"id\":\"520364\"},\"coordinates\":null,\"dimension\":1,\"group\":null,\"ticker\":null},\"id\":\"520367\",\"type\":\"Grid\"},{\"attributes\":{\"fill_alpha\":{\"value\":0.1},\"fill_color\":{\"value\":\"orange\"},\"hatch_alpha\":{\"value\":0.1},\"line_alpha\":{\"value\":0.1},\"line_color\":{\"value\":\"olive\"},\"size\":{\"value\":2},\"x\":{\"field\":\"x\"},\"y\":{\"field\":\"y\"}},\"id\":\"520421\",\"type\":\"Scatter\"},{\"attributes\":{\"overlay\":{\"id\":\"520374\"}},\"id\":\"520370\",\"type\":\"BoxZoomTool\"},{\"attributes\":{\"line_alpha\":0.2,\"line_color\":\"orange\",\"line_width\":2.5,\"x\":{\"field\":\"x\"},\"y\":{\"field\":\"y\"}},\"id\":\"520403\",\"type\":\"Line\"},{\"attributes\":{\"line_color\":\"orangered\",\"line_width\":2.5,\"x\":{\"field\":\"x\"},\"y\":{\"field\":\"y\"}},\"id\":\"520441\",\"type\":\"Line\"},{\"attributes\":{\"fill_alpha\":{\"value\":0.2},\"fill_color\":{\"value\":\"orange\"},\"hatch_alpha\":{\"value\":0.2},\"line_alpha\":{\"value\":0.2},\"line_color\":{\"value\":\"olive\"},\"size\":{\"value\":2},\"x\":{\"field\":\"x\"},\"y\":{\"field\":\"y\"}},\"id\":\"520422\",\"type\":\"Scatter\"},{\"attributes\":{\"data\":{\"x\":{\"__ndarray__\":\"VVVVVVWQgkBVVVVVVZiCQFVVVVVVoIJAVVVVVVWogkBVVVVVVbCCQFVVVVVVuIJAVVVVVVXAgkBVVVVVVciCQFVVVVVV0IJAVVVVVVXYgkBVVVVVVeCCQFVVVVVV6IJAVVVVVVXwgkBVVVVVVfiCQFVVVVVVAINAVVVVVVUIg0BVVVVVVRCDQFVVVVVVGINAVVVVVVUgg0BVVVVVVSiDQFVVVVVVMINAVVVVVVU4g0BVVVVVVUCDQFVVVVVVSINAVVVVVVVQg0BVVVVVVViDQFVVVVVVYINAVVVVVVVog0BVVVVVVXCDQFVVVVVVeINAVVVVVVWAg0BVVVVVVYiDQFVVVVVVkINAVVVVVVWYg0BVVVVVVaCDQFVVVVVVqINAVVVVVVWwg0BVVVVVVbiDQFVVVVVVwINAVVVVVVXIg0BVVVVVVdCDQFVVVVVV2INAVVVVVVXgg0BVVVVVVeiDQFVVVVVV8INAVVVVVVX4g0BVVVVVVQCEQFVVVVVVCIRAVVVVVVUQhEBVVVVVVRiEQFVVVVVVIIRAVVVVVVUohEBVVVVVVTCEQFVVVVVVOIRAVVVVVVVAhEBVVVVVVUiEQFVVVVVVUIRAVVVVVVVYhEBVVVVVVWCEQFVVVVVVaIRAVVVVVVVwhEBVVVVVVXiEQFVVVVVVgIRAVVVVVVWIhEBVVVVVVZCEQFVVVVVVmIRAVVVVVVWghEBVVVVVVaiEQFVVVVVVsIRAVVVVVVW4hEBVVVVVVcCEQFVVVVVVyIRAVVVVVVXQhEBVVVVVVdiEQFVVVVVV4IRAVVVVVVXohEBVVVVVVfCEQFVVVVVV+IRAVVVVVVUAhUBVVVVVVQiFQFVVVVVVEIVAVVVVVVUYhUBVVVVVVSCFQFVVVVVVKIVAVVVVVVUwhUBVVVVVVTiFQFVVVVVVQIVAVVVVVVVIhUBVVVVVVVCFQFVVVVVVWIVAVVVVVVVghUBVVVVVVWiFQFVVVVVVcIVAVVVVVVV4hUBVVVVVVYCFQFVVVVVViIVAVVVVVVWQhUBVVVVVVZiFQFVVVVVVoIVAVVVVVVWohUBVVVVVVbCFQFVVVVVVuIVAVVVVVVXAhUBVVVVVVciFQFVVVVVV0IVAVVVVVVXYhUBVVVVVVeCFQFVVVVVV6IVAVVVVVVXwhUBVVVVVVfiFQFVVVVVVAIZAVVVVVVUIhkBVVVVVVRCGQFVVVVVVGIZAVVVVVVUghkBVVVVVVSiGQFVVVVVVMIZAVVVVVVU4hkBVVVVVVUCGQFVVVVVVSIZAVVVVVVVQhkBVVVVVVViGQFVVVVVVYIZAVVVVVVVohkBVVVVVVXCGQFVVVVVVeIZAVVVVVVWAhkBVVVVVVYiGQFVVVVVVkIZAVVVVVVWYhkBVVVVVVaCGQFVVVVVVqIZAVVVVVVWwhkBVVVVVVbiGQFVVVVVVwIZAVVVVVVXIhkBVVVVVVdCGQFVVVVVV2IZAVVVVVVXghkBVVVVVVeiGQFVVVVVV8IZAVVVVVVX4hkBVVVVVVQCHQFVVVVVVCIdAVVVVVVUQh0BVVVVVVRiHQFVVVVVVIIdA\",\"dtype\":\"float64\",\"order\":\"little\",\"shape\":[147]},\"y\":{\"__ndarray__\":\"16NwPQoHeEA9CtejcN13QPYoXI/CzXdA9ihcj8LNd0D2KFyPwuV3QPYoXI/C+XdAhetRuB4ReEA9CtejcB14QOF6FK5HHXhAuB6F61EseEBcj8L1KEh4QM3MzMzMQHhAAAAAAAAkeEDhehSuRwF4QD0K16Nw8XdAFK5H4Xrsd0Bcj8L1KAB4QPYoXI/CEXhAZmZmZmYqeEBSuB6F6zF4QLgehetRSHhAhetRuB5ZeEAfhetRuGJ4QFK4HoXrWXhAhetRuB5BeEDhehSuRyF4QGZmZmZmCnhA4XoUrkcFeEDNzMzMzCB4QKRwPQrXN3hAzczMzMxIeECF61G4HmF4QFyPwvUocHhArkfhehSGeEDsUbgehZN4QKRwPQrXg3hA4XoUrkdleEC4HoXrUUh4QD0K16NwLXhAw/UoXI8yeEAfhetRuEp4QClcj8L1XHhAzczMzMx0eEAfhetRuH54QDMzMzMzh3hAUrgeheuVeEAUrkfheqR4QNejcD0Km3hAPQrXo3CJeECPwvUoXGN4QAAAAAAAUHhAexSuR+FOeECkcD0K12N4QM3MzMzMfHhAhetRuB6ReECamZmZmZV4QPYoXI/CpXhAexSuR+HGeEBSuB6F6814QK5H4XoUvnhAuB6F61GoeEBxPQrXo4h4QK5H4XoUcnhAXI/C9ShweEAzMzMzM494QOF6FK5HpXhA9ihcj8K5eECamZmZmc14QFyPwvUo1HhAmpmZmZnleEBI4XoUrv94QFK4HoXr7XhAUrgehevVeEDD9Shcj7Z4QArXo3A9lnhAMzMzMzObeEDXo3A9CrN4QIXrUbgezXhAH4XrUbjeeECamZmZmeF4QOxRuB6F93hA4XoUrkcVeUCuR+F6FB55QClcj8L1FHlAhetRuB7xeECPwvUoXNN4QGZmZmZmtnhAZmZmZma6eEBI4XoUrtN4QHE9Ctej7HhAmpmZmZn9eEApXI/C9QR5QFyPwvUoGHlAMzMzMzM3eUCamZmZmUF5QK5H4XoULnlA9ihcj8IZeUAAAAAAAPB4QAAAAAAA2HhAFK5H4XrkeECkcD0K1wN5QArXo3A9HnlAZmZmZmYqeUDD9Shcj0J5QJqZmZmZTXlAhetRuB55eUDD9Shcj3p5QAAAAAAAcHlAAAAAAABIeUCkcD0K1yN5QFyPwvUoEHlAAAAAAAAYeUAK16NwPTp5QM3MzMzMSHlAhetRuB5heUAK16NwPWp5QClcj8L1cHlAMzMzMzOPeUDD9Shcj555QFK4HoXrkXlAMzMzMzNzeUCkcD0K11N5QLgehetRNHlACtejcD06eUAfhetRuFJ5QAAAAAAAbHlAzczMzMyAeUA9CtejcIV5QAAAAAAAlHlAzczMzMykeUDNzMzMzLR5QK5H4XoUrnlAZmZmZmaOeUCamZmZmXF5QD0K16NwWXlApHA9CtdfeUBSuB6F64F5QEjhehSuk3lAH4XrUbiueUDD9Shcj7p5QAAAAAAAwHlAuB6F61HYeUDhehSuR+15QI/C9Shc33lAmpmZmZm9eUDhehSuR6F5QM3MzMzMiHlA\",\"dtype\":\"float64\",\"order\":\"little\",\"shape\":[147]}},\"selected\":{\"id\":\"520437\"},\"selection_policy\":{\"id\":\"520436\"}},\"id\":\"520419\",\"type\":\"ColumnDataSource\"},{\"attributes\":{\"source\":{\"id\":\"520440\"}},\"id\":\"520445\",\"type\":\"CDSView\"},{\"attributes\":{\"coordinates\":null,\"data_source\":{\"id\":\"520382\"},\"glyph\":{\"id\":\"520383\"},\"group\":null,\"hover_glyph\":null,\"muted_glyph\":{\"id\":\"520385\"},\"nonselection_glyph\":{\"id\":\"520384\"},\"view\":{\"id\":\"520387\"}},\"id\":\"520386\",\"type\":\"GlyphRenderer\"},{\"attributes\":{\"line_color\":\"orange\",\"line_width\":2.5,\"x\":{\"field\":\"x\"},\"y\":{\"field\":\"y\"}},\"id\":\"520401\",\"type\":\"Line\"},{\"attributes\":{\"source\":{\"id\":\"520419\"}},\"id\":\"520424\",\"type\":\"CDSView\"},{\"attributes\":{\"label\":{\"value\":\"Test Data\"},\"renderers\":[{\"id\":\"520423\"}]},\"id\":\"520439\",\"type\":\"LegendItem\"},{\"attributes\":{\"source\":{\"id\":\"520400\"}},\"id\":\"520405\",\"type\":\"CDSView\"},{\"attributes\":{},\"id\":\"520393\",\"type\":\"BasicTickFormatter\"},{\"attributes\":{\"label\":{\"value\":\"Final Model Predictions\"},\"renderers\":[{\"id\":\"520444\"}]},\"id\":\"520462\",\"type\":\"LegendItem\"},{\"attributes\":{\"label\":{\"value\":\"Final Model (Training Data Fit)\"},\"renderers\":[{\"id\":\"520404\"}]},\"id\":\"520418\",\"type\":\"LegendItem\"},{\"attributes\":{},\"id\":\"520368\",\"type\":\"PanTool\"},{\"attributes\":{\"coordinates\":null,\"data_source\":{\"id\":\"520440\"},\"glyph\":{\"id\":\"520441\"},\"group\":null,\"hover_glyph\":null,\"muted_glyph\":{\"id\":\"520443\"},\"nonselection_glyph\":{\"id\":\"520442\"},\"view\":{\"id\":\"520445\"}},\"id\":\"520444\",\"type\":\"GlyphRenderer\"},{\"attributes\":{},\"id\":\"520460\",\"type\":\"Selection\"},{\"attributes\":{},\"id\":\"520391\",\"type\":\"AllLabels\"},{\"attributes\":{},\"id\":\"520437\",\"type\":\"Selection\"},{\"attributes\":{},\"id\":\"520416\",\"type\":\"Selection\"},{\"attributes\":{},\"id\":\"520436\",\"type\":\"UnionRenderers\"},{\"attributes\":{},\"id\":\"520352\",\"type\":\"DataRange1d\"},{\"attributes\":{\"fill_alpha\":{\"value\":0.5},\"fill_color\":{\"value\":\"green\"},\"size\":{\"value\":2},\"x\":{\"field\":\"x\"},\"y\":{\"field\":\"y\"}},\"id\":\"520383\",\"type\":\"Scatter\"},{\"attributes\":{\"fill_alpha\":{\"value\":0.1},\"fill_color\":{\"value\":\"green\"},\"hatch_alpha\":{\"value\":0.1},\"line_alpha\":{\"value\":0.1},\"size\":{\"value\":2},\"x\":{\"field\":\"x\"},\"y\":{\"field\":\"y\"}},\"id\":\"520384\",\"type\":\"Scatter\"},{\"attributes\":{\"data\":{\"x\":{\"__ndarray__\":\"VVVVVVVVAEBVVVVVVVUIQKuqqqqqKhBAq6qqqqoqGECrqqqqqiocQFVVVVVVFSBAVVVVVVUVJEBVVVVVVRUmQFVVVVVVFShAVVVVVVUVKkBVVVVVVRUsQFVVVVVVFS5Aq6qqqqoKMECrqqqqqgoxQKuqqqqqCjJAq6qqqqoKM0Crqqqqqgo0QKuqqqqqCjVAq6qqqqoKNkCrqqqqqgo3QKuqqqqqCjhAq6qqqqoKOUCrqqqqqgo6QKuqqqqqCjtAq6qqqqoKPECrqqqqqgo9QKuqqqqqCj5Aq6qqqqoKP0BVVVVVVQVAQFVVVVVVhUBAVVVVVVUFQUBVVVVVVYVBQFVVVVVVBUJAVVVVVVWFQkBVVVVVVQVDQFVVVVVVhUNAVVVVVVUFREBVVVVVVYVEQFVVVVVVBUVAVVVVVVWFRUBVVVVVVQVGQFVVVVVVhUZAVVVVVVUFR0BVVVVVVYVHQFVVVVVVBUhAVVVVVVWFSEBVVVVVVQVJQFVVVVVVhUlAVVVVVVUFSkBVVVVVVYVKQFVVVVVVBUtAVVVVVVWFS0BVVVVVVQVMQFVVVVVVhUxAVVVVVVUFTUBVVVVVVYVNQFVVVVVVBU5AVVVVVVWFTkBVVVVVVQVPQFVVVVVVhU9Aq6qqqqoCUECrqqqqqkJQQKuqqqqqglBAq6qqqqrCUECrqqqqqgJRQKuqqqqqQlFAq6qqqqqCUUCrqqqqqsJRQKuqqqqqAlJAq6qqqqoCU0CrqqqqqkJTQKuqqqqqglNAq6qqqqrCU0CrqqqqqgJUQKuqqqqqQlRAq6qqqqqCVECrqqqqqsJUQKuqqqqqAlVAq6qqqqpCVUCrqqqqqoJVQKuqqqqqwlVAq6qqqqoCVkCrqqqqqkJWQKuqqqqqglZAq6qqqqrCVkCrqqqqqgJXQKuqqqqqQldAq6qqqqqCV0CrqqqqqsJXQKuqqqqqAlhAq6qqqqpCWECrqqqqqoJYQKuqqqqqwlhAq6qqqqoCWUCrqqqqqkJZQKuqqqqqgllAq6qqqqrCWUCrqqqqqgJaQKuqqqqqQlpAq6qqqqqCWkCrqqqqqsJaQKuqqqqqAltAq6qqqqpCW0CrqqqqqoJbQKuqqqqqwltAq6qqqqoCXECrqqqqqkJcQKuqqqqqglxAq6qqqqrCXECrqqqqqgJdQKuqqqqqQl1Aq6qqqqqCXUCrqqqqqsJdQKuqqqqqAl5Aq6qqqqpCXkCrqqqqqoJeQKuqqqqqwl5Aq6qqqqoCX0CrqqqqqkJfQKuqqqqqgl9Aq6qqqqrCX0BVVVVVVQFgQFVVVVVVIWBAVVVVVVVBYEBVVVVVVWFgQFVVVVVVgWBAVVVVVVWhYEBVVVVVVcFgQFVVVVVV4WBAVVVVVVUBYUBVVVVVVSFhQFVVVVVVQWFAVVVVVVVhYUBVVVVVVYFhQFVVVVVVoWFAVVVVVVXBYUBVVVVVVeFhQFVVVVVVAWJAVVVVVVUhYkBVVVVVVUFiQFVVVVVVYWJAVVVVVVWBYkBVVVVVVaFiQFVVVVVVwWJAVVVVVVXhYkBVVVVVVQFjQFVVVVVVIWNAVVVVVVVBY0BVVVVVVWFjQFVVVVVVgWNAVVVVVVWhY0BVVVVVVcFjQFVVVVVV4WNAVVVVVVUBZEBVVVVVVSFkQFVVVVVVQWRAVVVVVVVhZEBVVVVVVYFkQFVVVVVVoWRAVVVVVVXBZEBVVVVVVeFkQFVVVVVVAWVAVVVVVVUhZUBVVVVVVUFlQFVVVVVVYWVAVVVVVVWBZUBVVVVVVaFlQFVVVVVVwWVAVVVVVVXhZUBVVVVVVQFmQFVVVVVVIWZAVVVVVVVBZkBVVVVVVWFmQFVVVVVVgWZAVVVVVVWhZkBVVVVVVcFmQFVVVVVV4WZAVVVVVVUBZ0BVVVVVVSFnQFVVVVVVQWdAVVVVVVVhZ0BVVVVVVYFnQFVVVVVVoWdAVVVVVVXBZ0BVVVVVVeFnQFVVVVVVAWhAVVVVVVUhaEBVVVVVVUFoQFVVVVVVYWhAVVVVVVWBaEBVVVVVVaFoQFVVVVVVwWhAVVVVVVXhaEBVVVVVVQFpQFVVVVVVIWlAVVVVVVVBaUBVVVVVVWFpQFVVVVVVgWlAVVVVVVWhaUBVVVVVVcFpQFVVVVVV4WlAVVVVVVUBakBVVVVVVSFqQFVVVVVVQWpAVVVVVVVhakBVVVVVVYFqQFVVVVVVoWpAVVVVVVXBakBVVVVVVeFqQFVVVVVVAWtAVVVVVVUha0BVVVVVVUFrQFVVVVVVYWtAVVVVVVWBa0BVVVVVVaFrQFVVVVVVwWtAVVVVVVXha0BVVVVVVQFsQFVVVVVVIWxAVVVVVVVBbEBVVVVVVWFsQFVVVVVVgWxAVVVVVVWhbEBVVVVVVcFsQFVVVVVV4WxAVVVVVVUBbUBVVVVVVSFtQFVVVVVVQW1AVVVVVVVhbUBVVVVVVYFtQFVVVVVVoW1AVVVVVVXBbUBVVVVVVeFtQFVVVVVVAW5AVVVVVVUhbkBVVVVVVUFuQFVVVVVVYW5AVVVVVVWBbkBVVVVVVaFuQFVVVVVVwW5AVVVVVVXhbkBVVVVVVQFvQFVVVVVVIW9AVVVVVVVBb0BVVVVVVWFvQFVVVVVVgW9AVVVVVVWhb0BVVVVVVcFvQFVVVVVV4W9Aq6qqqqoAcECrqqqqqhBwQKuqqqqqIHBAq6qqqqowcECrqqqqqkBwQKuqqqqqUHBAq6qqqqpgcECrqqqqqnBwQKuqqqqqgHBAq6qqqqqQcECrqqqqqqBwQKuqqqqqsHBAq6qqqqrAcECrqqqqqtBwQKuqqqqq4HBAq6qqqqrwcECrqqqqqgBxQKuqqqqqEHFAq6qqqqogcUCrqqqqqjBxQKuqqqqqQHFAq6qqqqpQcUCrqqqqqmBxQKuqqqqqcHFAq6qqqqqAcUCrqqqqqpBxQKuqqqqqoHFAq6qqqqqwcUCrqqqqqsBxQKuqqqqq0HFAq6qqqqrgcUCrqqqqqvBxQKuqqqqqAHJAq6qqqqoQckCrqqqqqiByQKuqqqqqMHJAq6qqqqpAckCrqqqqqlByQKuqqqqqYHJAq6qqqqpwckCrqqqqqoByQKuqqqqqkHJAq6qqqqqgckCrqqqqqrByQKuqqqqqwHJAq6qqqqrQckCrqqqqquByQKuqqqqq8HJAq6qqqqoAc0CrqqqqqhBzQKuqqqqqIHNAq6qqqqowc0CrqqqqqkBzQKuqqqqqUHNAq6qqqqpgc0CrqqqqqnBzQKuqqqqqgHNAq6qqqqqQc0CrqqqqqqBzQKuqqqqqsHNAq6qqqqrAc0CrqqqqqtBzQKuqqqqq4HNAq6qqqqrwc0CrqqqqqgB0QKuqqqqqEHRAq6qqqqogdECrqqqqqjB0QKuqqqqqQHRAq6qqqqpQdECrqqqqqmB0QKuqqqqqcHRAq6qqqqqAdECrqqqqqpB0QKuqqqqqoHRAq6qqqqqwdECrqqqqqsB0QKuqqqqq0HRAq6qqqqrgdECrqqqqqvB0QKuqqqqqAHVAq6qqqqoQdUCrqqqqqiB1QKuqqqqqMHVAq6qqqqpAdUCrqqqqqlB1QKuqqqqqYHVAq6qqqqpwdUCrqqqqqoB1QKuqqqqqkHVAq6qqqqqgdUCrqqqqqrB1QKuqqqqqwHVAq6qqqqrQdUCrqqqqquB1QKuqqqqq8HVAq6qqqqoAdkCrqqqqqhB2QKuqqqqqIHZAq6qqqqowdkCrqqqqqkB2QKuqqqqqUHZAq6qqqqpgdkCrqqqqqnB2QKuqqqqqgHZAq6qqqqqQdkCrqqqqqqB2QKuqqqqqsHZAq6qqqqrAdkCrqqqqqtB2QKuqqqqq4HZAq6qqqqrwdkCrqqqqqgB3QKuqqqqqEHdAq6qqqqogd0CrqqqqqjB3QKuqqqqqQHdAq6qqqqpQd0CrqqqqqmB3QKuqqqqqcHdAq6qqqqqAd0CrqqqqqpB3QKuqqqqqoHdAq6qqqqqwd0CrqqqqqsB3QKuqqqqq0HdAq6qqqqrgd0CrqqqqqvB3QKuqqqqqAHhAq6qqqqoQeECrqqqqqiB4QKuqqqqqMHhAq6qqqqpAeECrqqqqqlB4QKuqqqqqYHhAq6qqqqpweECrqqqqqoB4QKuqqqqqkHhAq6qqqqqgeECrqqqqqrB4QKuqqqqqwHhAq6qqqqrQeECrqqqqquB4QKuqqqqq8HhAq6qqqqoAeUCrqqqqqhB5QKuqqqqqIHlAq6qqqqoweUCrqqqqqkB5QKuqqqqqUHlAq6qqqqpgeUCrqqqqqnB5QKuqqqqqgHlAq6qqqqqQeUCrqqqqqqB5QKuqqqqqsHlAq6qqqqrAeUCrqqqqqtB5QKuqqqqq4HlAq6qqqqrweUCrqqqqqgB6QKuqqqqqEHpAq6qqqqogekCrqqqqqjB6QKuqqqqqQHpAq6qqqqpQekCrqqqqqmB6QKuqqqqqcHpAq6qqqqqAekCrqqqqqpB6QKuqqqqqoHpAq6qqqqqwekCrqqqqqsB6QKuqqqqq0HpAq6qqqqrgekCrqqqqqvB6QKuqqqqqAHtAq6qqqqoQe0CrqqqqqiB7QKuqqqqqMHtAq6qqqqpAe0CrqqqqqlB7QKuqqqqqYHtAq6qqqqpwe0CrqqqqqoB7QKuqqqqqkHtAq6qqqqqge0CrqqqqqrB7QKuqqqqqwHtAq6qqqqrQe0CrqqqqquB7QKuqqqqq8HtAq6qqqqoAfECrqqqqqhB8QKuqqqqqIHxAq6qqqqowfECrqqqqqkB8QKuqqqqqUHxAq6qqqqpgfECrqqqqqnB8QKuqqqqqgHxAq6qqqqqQfECrqqqqqqB8QKuqqqqqsHxAq6qqqqrAfECrqqqqqtB8QKuqqqqq4HxAq6qqqqrwfECrqqqqqgB9QKuqqqqqEH1Aq6qqqqogfUCrqqqqqjB9QKuqqqqqQH1Aq6qqqqpQfUCrqqqqqmB9QKuqqqqqcH1Aq6qqqqqAfUCrqqqqqpB9QKuqqqqqoH1Aq6qqqqqwfUCrqqqqqsB9QKuqqqqq0H1Aq6qqqqrgfUCrqqqqqvB9QKuqqqqqAH5Aq6qqqqoQfkCrqqqqqiB+QKuqqqqqMH5Aq6qqqqpAfkCrqqqqqlB+QKuqqqqqYH5Aq6qqqqpwfkCrqqqqqoB+QKuqqqqqkH5Aq6qqqqqgfkCrqqqqqrB+QKuqqqqqwH5Aq6qqqqrQfkCrqqqqquB+QKuqqqqq8H5Aq6qqqqoAf0CrqqqqqhB/QKuqqqqqIH9Aq6qqqqowf0CrqqqqqkB/QKuqqqqqUH9Aq6qqqqpgf0CrqqqqqnB/QKuqqqqqgH9Aq6qqqqqQf0CrqqqqqqB/QKuqqqqqsH9Aq6qqqqrAf0CrqqqqqtB/QKuqqqqq4H9Aq6qqqqrwf0BVVVVVVQCAQFVVVVVVCIBAVVVVVVUQgEBVVVVVVRiAQFVVVVVVIIBAVVVVVVUogEBVVVVVVTCAQFVVVVVVOIBAVVVVVVVAgEBVVVVVVUiAQFVVVVVVUIBAVVVVVVVYgEBVVVVVVWCAQFVVVVVVaIBAVVVVVVVwgEBVVVVVVXiAQFVVVVVVgIBAVVVVVVWIgEBVVVVVVZCAQFVVVVVVmIBAVVVVVVWggEBVVVVVVaiAQFVVVVVVsIBAVVVVVVW4gEBVVVVVVcCAQFVVVVVVyIBAVVVVVVXQgEBVVVVVVdiAQFVVVVVV4IBAVVVVVVXogEBVVVVVVfCAQFVVVVVV+IBAVVVVVVUAgUBVVVVVVQiBQFVVVVVVEIFAVVVVVVUYgUBVVVVVVSCBQFVVVVVVKIFAVVVVVVUwgUBVVVVVVTiBQFVVVVVVQIFAVVVVVVVIgUBVVVVVVVCBQFVVVVVVWIFAVVVVVVVggUBVVVVVVWiBQFVVVVVVcIFAVVVVVVV4gUBVVVVVVYCBQFVVVVVViIFAVVVVVVWQgUBVVVVVVZiBQFVVVVVVoIFAVVVVVVWogUBVVVVVVbCBQFVVVVVVuIFAVVVVVVXAgUBVVVVVVciBQFVVVVVV0IFAVVVVVVXYgUBVVVVVVeCBQFVVVVVV6IFAVVVVVVXwgUBVVVVVVfiBQFVVVVVVAIJAVVVVVVUIgkBVVVVVVRCCQFVVVVVVGIJAVVVVVVUggkBVVVVVVSiCQFVVVVVVMIJAVVVVVVU4gkBVVVVVVUCCQFVVVVVVSIJAVVVVVVVQgkBVVVVVVViCQFVVVVVVYIJAVVVVVVVogkBVVVVVVXCCQFVVVVVVeIJAVVVVVVWAgkBVVVVVVYiCQA==\",\"dtype\":\"float64\",\"order\":\"little\",\"shape\":[587]},\"y\":{\"__ndarray__\":\"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\",\"dtype\":\"float64\",\"order\":\"little\",\"shape\":[587]}},\"selected\":{\"id\":\"520396\"},\"selection_policy\":{\"id\":\"520395\"}},\"id\":\"520382\",\"type\":\"ColumnDataSource\"},{\"attributes\":{},\"id\":\"520356\",\"type\":\"LinearScale\"},{\"attributes\":{\"data\":{\"x\":{\"__ndarray__\":\"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\",\"dtype\":\"float64\",\"order\":\"little\",\"shape\":[587]},\"y\":{\"__ndarray__\":\"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\",\"dtype\":\"float64\",\"order\":\"little\",\"shape\":[587]}},\"selected\":{\"id\":\"520416\"},\"selection_policy\":{\"id\":\"520415\"}},\"id\":\"520400\",\"type\":\"ColumnDataSource\"},{\"attributes\":{},\"id\":\"520415\",\"type\":\"UnionRenderers\"},{\"attributes\":{\"coordinates\":null,\"data_source\":{\"id\":\"520400\"},\"glyph\":{\"id\":\"520401\"},\"group\":null,\"hover_glyph\":null,\"muted_glyph\":{\"id\":\"520403\"},\"nonselection_glyph\":{\"id\":\"520402\"},\"view\":{\"id\":\"520405\"}},\"id\":\"520404\",\"type\":\"GlyphRenderer\"},{\"attributes\":{\"label\":{\"value\":\"Training Data\"},\"renderers\":[{\"id\":\"520386\"}]},\"id\":\"520399\",\"type\":\"LegendItem\"},{\"attributes\":{},\"id\":\"520390\",\"type\":\"BasicTickFormatter\"},{\"attributes\":{\"tools\":[{\"id\":\"520368\"},{\"id\":\"520369\"},{\"id\":\"520370\"},{\"id\":\"520371\"},{\"id\":\"520372\"},{\"id\":\"520373\"}]},\"id\":\"520375\",\"type\":\"Toolbar\"},{\"attributes\":{\"source\":{\"id\":\"520382\"}},\"id\":\"520387\",\"type\":\"CDSView\"}],\"root_ids\":[\"520349\"]},\"title\":\"Bokeh Application\",\"version\":\"2.4.1\"}};\n",
       "  const render_items = [{\"docid\":\"4d39fc4a-8e69-4bb0-ad90-09970933a24c\",\"root_ids\":[\"520349\"],\"roots\":{\"520349\":\"bc9ce953-5467-4def-b2a8-e6e1bd8a7779\"}}];\n",
       "  root.Bokeh.embed.embed_items_notebook(docs_json, render_items);\n",
       "\n",
       "  }\n",
       "  if (root.Bokeh !== undefined) {\n",
       "    embed_document(root);\n",
       "  } else {\n",
       "    let attempts = 0;\n",
       "    const timer = setInterval(function(root) {\n",
       "      if (root.Bokeh !== undefined) {\n",
       "        clearInterval(timer);\n",
       "        embed_document(root);\n",
       "      } else {\n",
       "        attempts++;\n",
       "        if (attempts > 100) {\n",
       "          clearInterval(timer);\n",
       "          console.log(\"Bokeh: ERROR: Unable to run BokehJS code because BokehJS library is missing\");\n",
       "        }\n",
       "      }\n",
       "    }, 10, root)\n",
       "  }\n",
       "})(window);"
      ],
      "application/vnd.bokehjs_exec.v0+json": ""
     },
     "metadata": {
      "application/vnd.bokehjs_exec.v0+json": {
       "id": "520349"
      }
     },
     "output_type": "display_data"
    }
   ],
   "source": [
    "# Plotting the periodic signal with the quadratic model \n",
    "\n",
    "final_test = qr_predictions + periodic_test \n",
    "\n",
    "p = figure(plot_width=800, plot_height=600, title = \"CO2 Variation with time\")\n",
    "p.scatter(X_train, y_train, size=2, line_color=\"black\", fill_color=\"green\", fill_alpha=0.5, legend_label =\"Training Data\")\n",
    "p.line(X_train, qr_quadratic_fit + periodic_train, line_color=\"orange\", line_width=2.5, legend_label =\"Final Model (Training Data Fit)\")\n",
    "p.scatter(X_test, y_test, size=2, line_color=\"olive\", fill_color=\"orange\", fill_alpha=0.5, legend_label =\"Test Data\")\n",
    "p.line(X_test, final_test, line_color=\"orangered\", line_width=2.5, legend_label =\"Final Model Predictions\")\n",
    "p.xaxis.ticker = [0, 146, 293, 440, 587, 734]\n",
    "p.xaxis.major_label_overrides = {0: '1958', 146: '1971', 293: '1983', 440: '1995', 587: '2007', 734: '2019'}\n",
    "p.xaxis.axis_label ='Time'\n",
    "p.legend.location = \"bottom_right\"\n",
    "show(p)"
   ]
  },
  {
   "cell_type": "markdown",
   "metadata": {},
   "source": [
    "The figure shows the history of the increase of atmospheric carbon dioxide concentrations measured at Mauna Loa, Hawaii since 1958, and the predicted trajectory afterwards. The final model with the seasonal component included seems to fit quite well to the data which indicates that there is a clear seasonal component that is related to the increase and decrease of carbon dioxide levels."
   ]
  },
  {
   "cell_type": "markdown",
   "metadata": {},
   "source": [
    "<b> Report the root mean squared prediction error $\\text {RMSE}$ and the mean absolute percentage error $\\text {MAPE}$ with respect to the test set for this final model. Is this an improvement over the previous model $F_n(t_i)$ without the periodic signal?</b>"
   ]
  },
  {
   "cell_type": "code",
   "execution_count": 1443,
   "metadata": {},
   "outputs": [
    {
     "name": "stdout",
     "output_type": "stream",
     "text": [
      "The mean squared prediction error of the final model is 1.1493602690783542\n",
      "The mean absolute percentage error of the quadratic model is 0.2085916594797079\n"
     ]
    }
   ],
   "source": [
    "# Calculating the prediction errors RMSE and MAPE\n",
    "\n",
    "rmse_final = (mean_squared_error(y_test, final_test, squared=False))\n",
    "print(\"The mean squared prediction error of the final model is \" + str(rmse_final))\n",
    "\n",
    "mape_final = mean_absolute_percentage_error(y_test, final_test)\n",
    "print(\"The mean absolute percentage error of the quadratic model is \" + str(mape_final*100)) # as a percentage"
   ]
  },
  {
   "cell_type": "markdown",
   "metadata": {},
   "source": [
    "The prediction error has decreased by adding the periodic signal component to the model which shows that there is an improvement over the previous quadratic model alone."
   ]
  },
  {
   "cell_type": "markdown",
   "metadata": {},
   "source": [
    "<b> What is the ratio of the range of values of $F$ to the amplitude of $P_i$ and the ratio of the amplitude of $P$ to the range of the residual $R_i$ (from removing both the trend and the periodic signal)?</b>"
   ]
  },
  {
   "cell_type": "code",
   "execution_count": 1444,
   "metadata": {},
   "outputs": [
    {
     "name": "stdout",
     "output_type": "stream",
     "text": [
      "Amplitude of Trend: \n",
      "69.14369234539322\n",
      "\n",
      "Amplitude of Periodic Signal: \n",
      "6.292410667159611\n",
      "\n",
      "Amplitude of Residuals: \n",
      "3.8363992375799665\n",
      "\n",
      "Ratio of amplitudes of Trend to Periodic Signal: \n",
      "10.98842653520016\n",
      "\n",
      "Ratio of amplitudes of Periodic Signal  to Residuals: \n",
      "1.6401866118420245\n"
     ]
    }
   ],
   "source": [
    "# Computing stats from the three different components of the model\n",
    "\n",
    "print (\"Amplitude of Trend: \")\n",
    "Amp_trend = qr_quadratic_fit.max() - qr_quadratic_fit.min()\n",
    "print(Amp_trend)\n",
    "\n",
    "print (\"\\nAmplitude of Periodic Signal: \")\n",
    "Amp_p = max(periodic_train) - min(periodic_train)\n",
    "print(Amp_p)\n",
    "\n",
    "print (\"\\nAmplitude of Residuals: \")\n",
    "Amp_res = (y_train - qr_quadratic_fit - periodic_train).max() - (y_train - qr_quadratic_fit - periodic_train).min()\n",
    "print(Amp_res)\n",
    "\n",
    "print (\"\\nRatio of amplitudes of Trend to Periodic Signal: \")\n",
    "print(Amp_trend / Amp_p)\n",
    "\n",
    "print (\"\\nRatio of amplitudes of Periodic Signal  to Residuals: \")\n",
    "print(Amp_p / Amp_res)"
   ]
  },
  {
   "cell_type": "markdown",
   "metadata": {},
   "source": [
    "The amplitude or the range of the trend $F$ is large compared to that of the periodic signal $P_i$ which itself is larger compared to range of the residuals $R_i$.\n",
    "\n",
    "This makes sense as the quadratic (i.e. long-term) trend component explains the bulk of the increase of $CO_2$ while the seasonal component also contributes to this increase, but not as much as the long-term trend. The unexplained residual compotent is what is left unexplained by the model, and it should be as small as possible which is the case when we include the seasonal periodic signal to the model. The decomposition of the model into a long-term trend and a seasonal component is thus meaningful."
   ]
  },
  {
   "cell_type": "markdown",
   "metadata": {},
   "source": [
    "# BPP Data Analysis\n",
    "\n",
    "The goal of this problem is to analyze the PriceStats data from the MIT Billion Prices Project (www.thebillionpricesproject.com), provided by Professor Rigobon. In addition, the file PriceStats_CPI.csv also contains a column $\\text {CPI}$. The $\\text {CPI}$ (consumer price index, the price of a \"market basket of consumer goods and services\" - a proxy for inflation) is released monthly by the Bureau of Labor Statistics. The file T10YIE.csv lists (during most the same time period) the break-even rate ($\\text {BER}$), or the difference in yield between a fixed rate and inflation adjusted 10 year treasury note. The difference can be interpreted as what the market views will be the inflation rate for the next 10 years, on average.\n",
    "\n",
    "There is more than a decade of data in PriceStats_CPI.csv. For your results to the probles below, report the mean squared prediction error for 1 month ahead forecasts starting September 2013. For example, to predict the $\\text {CPI}$ in May 2015, you can use all the data before May 2015. You should perform all of your model fitting on the months prior to September 2013, and use the remaining months for evaluation.\n",
    "\n",
    "Additional References:\n",
    "\n",
    "    - The Consumer Price Index (CPI) is a measure of the average change over time in the prices paid by urban consumers for a market basket of consumer goods and services. To read more, visit https://www.bls.gov/cpi.\n",
    "    \n",
    "    - As explained in the question above, BER is the difference in yield between a fixed rate and inflation adjusted 10 year treasury note. This difference can be interpreted as what the market views will be the inflation rate for the next 10 years, on average. To read more, visit http://www.bondeconomics.com/2014/05/primer-what-is-breakeven-inflation.html.\n",
    "    \n",
    "    - Developed as a part of MIT Billion Prices Project, PriceStats collects price information from over 1,000 retailers across more than 50 countries and publishes the daily inflation series for over 20 countries. (It is akin to CPI in terms of units.) To read more, visit https://wwww.pricestats.com/."
   ]
  },
  {
   "cell_type": "markdown",
   "metadata": {},
   "source": [
    "<b> First, we will try to predict the monthly  $\\text {CPI}$ without using $\\text {BER}$ or PriceStats.</b>\n",
    "\n",
    "<b> Plot the monthly CPI value as a time series (e.g. take the first CPI value of each month as that month's CPI). What is the most obvious trend that you can observe in the data?</b>"
   ]
  },
  {
   "cell_type": "code",
   "execution_count": 1445,
   "metadata": {},
   "outputs": [
    {
     "data": {
      "text/html": [
       "<div>\n",
       "<style scoped>\n",
       "    .dataframe tbody tr th:only-of-type {\n",
       "        vertical-align: middle;\n",
       "    }\n",
       "\n",
       "    .dataframe tbody tr th {\n",
       "        vertical-align: top;\n",
       "    }\n",
       "\n",
       "    .dataframe thead th {\n",
       "        text-align: right;\n",
       "    }\n",
       "</style>\n",
       "<table border=\"1\" class=\"dataframe\">\n",
       "  <thead>\n",
       "    <tr style=\"text-align: right;\">\n",
       "      <th></th>\n",
       "      <th>date</th>\n",
       "      <th>PriceStats</th>\n",
       "      <th>CPI</th>\n",
       "    </tr>\n",
       "  </thead>\n",
       "  <tbody>\n",
       "    <tr>\n",
       "      <th>0</th>\n",
       "      <td>2008-07-24</td>\n",
       "      <td>100.00000</td>\n",
       "      <td>100.0</td>\n",
       "    </tr>\n",
       "    <tr>\n",
       "      <th>1</th>\n",
       "      <td>2008-07-25</td>\n",
       "      <td>99.99767</td>\n",
       "      <td>100.0</td>\n",
       "    </tr>\n",
       "    <tr>\n",
       "      <th>2</th>\n",
       "      <td>2008-07-26</td>\n",
       "      <td>99.92376</td>\n",
       "      <td>100.0</td>\n",
       "    </tr>\n",
       "    <tr>\n",
       "      <th>3</th>\n",
       "      <td>2008-07-27</td>\n",
       "      <td>99.91537</td>\n",
       "      <td>100.0</td>\n",
       "    </tr>\n",
       "    <tr>\n",
       "      <th>4</th>\n",
       "      <td>2008-07-28</td>\n",
       "      <td>99.89491</td>\n",
       "      <td>100.0</td>\n",
       "    </tr>\n",
       "  </tbody>\n",
       "</table>\n",
       "</div>"
      ],
      "text/plain": [
       "        date  PriceStats    CPI\n",
       "0 2008-07-24   100.00000  100.0\n",
       "1 2008-07-25    99.99767  100.0\n",
       "2 2008-07-26    99.92376  100.0\n",
       "3 2008-07-27    99.91537  100.0\n",
       "4 2008-07-28    99.89491  100.0"
      ]
     },
     "execution_count": 1445,
     "metadata": {},
     "output_type": "execute_result"
    }
   ],
   "source": [
    "# Loading data and parsing dates to datetime\n",
    "\n",
    "cpi = pd.read_csv('PriceStats_CPI.csv', parse_dates=['date'])\n",
    "cpi.head()"
   ]
  },
  {
   "cell_type": "code",
   "execution_count": 1446,
   "metadata": {},
   "outputs": [
    {
     "data": {
      "text/html": [
       "<div>\n",
       "<style scoped>\n",
       "    .dataframe tbody tr th:only-of-type {\n",
       "        vertical-align: middle;\n",
       "    }\n",
       "\n",
       "    .dataframe tbody tr th {\n",
       "        vertical-align: top;\n",
       "    }\n",
       "\n",
       "    .dataframe thead th {\n",
       "        text-align: right;\n",
       "    }\n",
       "</style>\n",
       "<table border=\"1\" class=\"dataframe\">\n",
       "  <thead>\n",
       "    <tr style=\"text-align: right;\">\n",
       "      <th></th>\n",
       "      <th>date</th>\n",
       "      <th>PriceStats</th>\n",
       "      <th>CPI</th>\n",
       "      <th>YearMonth</th>\n",
       "    </tr>\n",
       "  </thead>\n",
       "  <tbody>\n",
       "    <tr>\n",
       "      <th>0</th>\n",
       "      <td>2008-07-24</td>\n",
       "      <td>100.00000</td>\n",
       "      <td>100.0</td>\n",
       "      <td>2008-07</td>\n",
       "    </tr>\n",
       "    <tr>\n",
       "      <th>1</th>\n",
       "      <td>2008-07-25</td>\n",
       "      <td>99.99767</td>\n",
       "      <td>100.0</td>\n",
       "      <td>2008-07</td>\n",
       "    </tr>\n",
       "    <tr>\n",
       "      <th>2</th>\n",
       "      <td>2008-07-26</td>\n",
       "      <td>99.92376</td>\n",
       "      <td>100.0</td>\n",
       "      <td>2008-07</td>\n",
       "    </tr>\n",
       "    <tr>\n",
       "      <th>3</th>\n",
       "      <td>2008-07-27</td>\n",
       "      <td>99.91537</td>\n",
       "      <td>100.0</td>\n",
       "      <td>2008-07</td>\n",
       "    </tr>\n",
       "    <tr>\n",
       "      <th>4</th>\n",
       "      <td>2008-07-28</td>\n",
       "      <td>99.89491</td>\n",
       "      <td>100.0</td>\n",
       "      <td>2008-07</td>\n",
       "    </tr>\n",
       "  </tbody>\n",
       "</table>\n",
       "</div>"
      ],
      "text/plain": [
       "        date  PriceStats    CPI YearMonth\n",
       "0 2008-07-24   100.00000  100.0   2008-07\n",
       "1 2008-07-25    99.99767  100.0   2008-07\n",
       "2 2008-07-26    99.92376  100.0   2008-07\n",
       "3 2008-07-27    99.91537  100.0   2008-07\n",
       "4 2008-07-28    99.89491  100.0   2008-07"
      ]
     },
     "execution_count": 1446,
     "metadata": {},
     "output_type": "execute_result"
    }
   ],
   "source": [
    "# Creating monthly value per year for CPI\n",
    "\n",
    "cpi['YearMonth'] = cpi.date.dt.strftime('%Y-%m')\n",
    "cpi.head()"
   ]
  },
  {
   "cell_type": "code",
   "execution_count": 1447,
   "metadata": {},
   "outputs": [
    {
     "data": {
      "text/html": [
       "<div>\n",
       "<style scoped>\n",
       "    .dataframe tbody tr th:only-of-type {\n",
       "        vertical-align: middle;\n",
       "    }\n",
       "\n",
       "    .dataframe tbody tr th {\n",
       "        vertical-align: top;\n",
       "    }\n",
       "\n",
       "    .dataframe thead th {\n",
       "        text-align: right;\n",
       "    }\n",
       "</style>\n",
       "<table border=\"1\" class=\"dataframe\">\n",
       "  <thead>\n",
       "    <tr style=\"text-align: right;\">\n",
       "      <th></th>\n",
       "      <th>index</th>\n",
       "      <th>date</th>\n",
       "      <th>PriceStats</th>\n",
       "      <th>CPI</th>\n",
       "      <th>YearMonth</th>\n",
       "    </tr>\n",
       "  </thead>\n",
       "  <tbody>\n",
       "    <tr>\n",
       "      <th>0</th>\n",
       "      <td>7</td>\n",
       "      <td>2008-07-31</td>\n",
       "      <td>99.86741</td>\n",
       "      <td>100.00000</td>\n",
       "      <td>2008-07</td>\n",
       "    </tr>\n",
       "    <tr>\n",
       "      <th>1</th>\n",
       "      <td>38</td>\n",
       "      <td>2008-08-31</td>\n",
       "      <td>99.65405</td>\n",
       "      <td>100.52510</td>\n",
       "      <td>2008-08</td>\n",
       "    </tr>\n",
       "    <tr>\n",
       "      <th>2</th>\n",
       "      <td>68</td>\n",
       "      <td>2008-09-30</td>\n",
       "      <td>99.70792</td>\n",
       "      <td>100.12380</td>\n",
       "      <td>2008-09</td>\n",
       "    </tr>\n",
       "    <tr>\n",
       "      <th>3</th>\n",
       "      <td>99</td>\n",
       "      <td>2008-10-31</td>\n",
       "      <td>97.98654</td>\n",
       "      <td>99.98538</td>\n",
       "      <td>2008-10</td>\n",
       "    </tr>\n",
       "    <tr>\n",
       "      <th>4</th>\n",
       "      <td>129</td>\n",
       "      <td>2008-11-30</td>\n",
       "      <td>96.55315</td>\n",
       "      <td>98.97539</td>\n",
       "      <td>2008-11</td>\n",
       "    </tr>\n",
       "  </tbody>\n",
       "</table>\n",
       "</div>"
      ],
      "text/plain": [
       "   index       date  PriceStats        CPI YearMonth\n",
       "0      7 2008-07-31    99.86741  100.00000   2008-07\n",
       "1     38 2008-08-31    99.65405  100.52510   2008-08\n",
       "2     68 2008-09-30    99.70792  100.12380   2008-09\n",
       "3     99 2008-10-31    97.98654   99.98538   2008-10\n",
       "4    129 2008-11-30    96.55315   98.97539   2008-11"
      ]
     },
     "execution_count": 1447,
     "metadata": {},
     "output_type": "execute_result"
    }
   ],
   "source": [
    "# Dropping duplicates and resetting index\n",
    "\n",
    "cpi = cpi.drop_duplicates('YearMonth', keep='last').reset_index()\n",
    "cpi.head()"
   ]
  },
  {
   "cell_type": "code",
   "execution_count": 1448,
   "metadata": {},
   "outputs": [
    {
     "data": {
      "text/plain": [
       "((62, 5), (75, 5))"
      ]
     },
     "execution_count": 1448,
     "metadata": {},
     "output_type": "execute_result"
    }
   ],
   "source": [
    "# Splitting data into training and test sets according to instructions\n",
    "\n",
    "cpi_train = cpi[cpi.YearMonth<'2013-09'].copy()\n",
    "cpi_test = cpi[cpi.YearMonth>='2013-09'].copy()\n",
    "cpi_train.shape, cpi_test.shape"
   ]
  },
  {
   "cell_type": "code",
   "execution_count": 1449,
   "metadata": {},
   "outputs": [
    {
     "data": {
      "text/html": [
       "\n",
       "\n",
       "\n",
       "\n",
       "\n",
       "\n",
       "  <div class=\"bk-root\" id=\"e80f0458-b52f-484e-bc7e-2b53ba6d06aa\" data-root-id=\"523920\"></div>\n"
      ]
     },
     "metadata": {},
     "output_type": "display_data"
    },
    {
     "data": {
      "application/javascript": [
       "(function(root) {\n",
       "  function embed_document(root) {\n",
       "    \n",
       "  const docs_json = {\"0feba2f4-6806-41dc-ab65-ac0f4247b0cc\":{\"defs\":[],\"roots\":{\"references\":[{\"attributes\":{\"below\":[{\"id\":\"523931\"}],\"center\":[{\"id\":\"523934\"},{\"id\":\"523938\"}],\"left\":[{\"id\":\"523935\"}],\"renderers\":[{\"id\":\"523957\"}],\"title\":{\"id\":\"523921\"},\"toolbar\":{\"id\":\"523946\"},\"width\":800,\"x_range\":{\"id\":\"523923\"},\"x_scale\":{\"id\":\"523927\"},\"y_range\":{\"id\":\"523925\"},\"y_scale\":{\"id\":\"523929\"}},\"id\":\"523920\",\"subtype\":\"Figure\",\"type\":\"Plot\"},{\"attributes\":{},\"id\":\"523929\",\"type\":\"LinearScale\"},{\"attributes\":{\"overlay\":{\"id\":\"523945\"}},\"id\":\"523941\",\"type\":\"BoxZoomTool\"},{\"attributes\":{\"ticks\":[0,6,18,30,42,54]},\"id\":\"523959\",\"type\":\"FixedTicker\"},{\"attributes\":{},\"id\":\"527347\",\"type\":\"UnionRenderers\"},{\"attributes\":{},\"id\":\"523943\",\"type\":\"ResetTool\"},{\"attributes\":{},\"id\":\"527348\",\"type\":\"Selection\"},{\"attributes\":{\"axis\":{\"id\":\"523935\"},\"coordinates\":null,\"dimension\":1,\"group\":null,\"ticker\":null},\"id\":\"523938\",\"type\":\"Grid\"},{\"attributes\":{\"bottom_units\":\"screen\",\"coordinates\":null,\"fill_alpha\":0.5,\"fill_color\":\"lightgrey\",\"group\":null,\"left_units\":\"screen\",\"level\":\"overlay\",\"line_alpha\":1.0,\"line_color\":\"black\",\"line_dash\":[4,4],\"line_width\":2,\"right_units\":\"screen\",\"syncable\":false,\"top_units\":\"screen\"},\"id\":\"523945\",\"type\":\"BoxAnnotation\"},{\"attributes\":{\"axis_label\":\"CPI\",\"coordinates\":null,\"formatter\":{\"id\":\"527343\"},\"group\":null,\"major_label_policy\":{\"id\":\"527344\"},\"ticker\":{\"id\":\"523936\"}},\"id\":\"523935\",\"type\":\"LinearAxis\"},{\"attributes\":{},\"id\":\"523939\",\"type\":\"PanTool\"},{\"attributes\":{\"line_alpha\":0.2,\"line_color\":\"navy\",\"line_width\":2.5,\"x\":{\"field\":\"x\"},\"y\":{\"field\":\"y\"}},\"id\":\"523956\",\"type\":\"Line\"},{\"attributes\":{\"tools\":[{\"id\":\"523939\"},{\"id\":\"523940\"},{\"id\":\"523941\"},{\"id\":\"523942\"},{\"id\":\"523943\"},{\"id\":\"523944\"}]},\"id\":\"523946\",\"type\":\"Toolbar\"},{\"attributes\":{\"line_color\":\"navy\",\"line_width\":2.5,\"x\":{\"field\":\"x\"},\"y\":{\"field\":\"y\"}},\"id\":\"523954\",\"type\":\"Line\"},{\"attributes\":{\"axis_label\":\"Time\",\"coordinates\":null,\"formatter\":{\"id\":\"527345\"},\"group\":null,\"major_label_overrides\":{\"0\":\"2008\",\"18\":\"2010\",\"30\":\"2011\",\"42\":\"2012\",\"54\":\"2013\",\"6\":\"2009\"},\"major_label_policy\":{\"id\":\"527346\"},\"ticker\":{\"id\":\"523959\"}},\"id\":\"523931\",\"type\":\"LinearAxis\"},{\"attributes\":{\"source\":{\"id\":\"523953\"}},\"id\":\"523958\",\"type\":\"CDSView\"},{\"attributes\":{},\"id\":\"527343\",\"type\":\"BasicTickFormatter\"},{\"attributes\":{\"axis\":{\"id\":\"523931\"},\"coordinates\":null,\"group\":null,\"ticker\":null},\"id\":\"523934\",\"type\":\"Grid\"},{\"attributes\":{},\"id\":\"523944\",\"type\":\"HelpTool\"},{\"attributes\":{},\"id\":\"527344\",\"type\":\"AllLabels\"},{\"attributes\":{\"data\":{\"x\":[0,1,2,3,4,5,6,7,8,9,10,11,12,13,14,15,16,17,18,19,20,21,22,23,24,25,26,27,28,29,30,31,32,33,34,35,36,37,38,39,40,41,42,43,44,45,46,47,48,49,50,51,52,53,54,55,56,57,58,59,60,61],\"y\":{\"__ndarray__\":\"AAAAAAAAWUBLyAc9myFZQKvP1VbsB1lAe4hGdxD/WEActi3KbL5YQKWg20saRVhAl6jeGtgEWEBLyAc9mx9YQE6c3O9QPlhA1ouhnGhNWEDw+WGE8FxYQNBE2PD0blhAcVrwoq+kWEAYQznRrppYQOl942vPqFhAWwhyUMKsWEB00vvG17JYQOi8xi5Rt1hA48KBkCysWEDkvWplwsFYQEX11sBWw1hArHMMyF7dWEA/jBAebehYQHYyOEpe7VhAd6G5TiPnWECRm+EGfOhYQMjqVs9J8VhA0GG+vAD1WEAFhqxu9fxYQPLNNjem/1hAe4MvTKYKWUB3vp8aLylZQMX+snvySFlA8tJNYhCIWUBSSZ2AJrJZQHBfB84Z0VlAbqMBvAXKWUAdWmQ7389ZQBKlvcEX4llAqmBUUifsWUBYObTIdt5ZQCL99nXg2FlAat5xio7IWUCamZmZmeVZQMKGp1fKAlpA6Nms+lw1WkASg8DKoUlaQC9uowG8QVpAzojS3uA3WkAU0ETY8CxaQFioNc07UlpAo5I6AU1wWkCLbOf7qW1aQEvIBz2bTVpADwu1pnk7WkDIBz2bVU9aQNEi2/l+hlpAFR3J5T+YWkATYcPTK5FaQOF6FK5HnVpAEoPAyqGtWkBqTfOOU7BaQA==\",\"dtype\":\"float64\",\"order\":\"little\",\"shape\":[62]}},\"selected\":{\"id\":\"527348\"},\"selection_policy\":{\"id\":\"527347\"}},\"id\":\"523953\",\"type\":\"ColumnDataSource\"},{\"attributes\":{},\"id\":\"527345\",\"type\":\"BasicTickFormatter\"},{\"attributes\":{},\"id\":\"523940\",\"type\":\"WheelZoomTool\"},{\"attributes\":{},\"id\":\"527346\",\"type\":\"AllLabels\"},{\"attributes\":{},\"id\":\"523927\",\"type\":\"LinearScale\"},{\"attributes\":{},\"id\":\"523923\",\"type\":\"DataRange1d\"},{\"attributes\":{},\"id\":\"523925\",\"type\":\"DataRange1d\"},{\"attributes\":{\"coordinates\":null,\"data_source\":{\"id\":\"523953\"},\"glyph\":{\"id\":\"523954\"},\"group\":null,\"hover_glyph\":null,\"muted_glyph\":{\"id\":\"523956\"},\"nonselection_glyph\":{\"id\":\"523955\"},\"view\":{\"id\":\"523958\"}},\"id\":\"523957\",\"type\":\"GlyphRenderer\"},{\"attributes\":{\"line_alpha\":0.1,\"line_color\":\"navy\",\"line_width\":2.5,\"x\":{\"field\":\"x\"},\"y\":{\"field\":\"y\"}},\"id\":\"523955\",\"type\":\"Line\"},{\"attributes\":{},\"id\":\"523936\",\"type\":\"BasicTicker\"},{\"attributes\":{\"coordinates\":null,\"group\":null,\"text\":\"Monthly CPI\"},\"id\":\"523921\",\"type\":\"Title\"},{\"attributes\":{},\"id\":\"523942\",\"type\":\"SaveTool\"}],\"root_ids\":[\"523920\"]},\"title\":\"Bokeh Application\",\"version\":\"2.4.1\"}};\n",
       "  const render_items = [{\"docid\":\"0feba2f4-6806-41dc-ab65-ac0f4247b0cc\",\"root_ids\":[\"523920\"],\"roots\":{\"523920\":\"e80f0458-b52f-484e-bc7e-2b53ba6d06aa\"}}];\n",
       "  root.Bokeh.embed.embed_items_notebook(docs_json, render_items);\n",
       "\n",
       "  }\n",
       "  if (root.Bokeh !== undefined) {\n",
       "    embed_document(root);\n",
       "  } else {\n",
       "    let attempts = 0;\n",
       "    const timer = setInterval(function(root) {\n",
       "      if (root.Bokeh !== undefined) {\n",
       "        clearInterval(timer);\n",
       "        embed_document(root);\n",
       "      } else {\n",
       "        attempts++;\n",
       "        if (attempts > 100) {\n",
       "          clearInterval(timer);\n",
       "          console.log(\"Bokeh: ERROR: Unable to run BokehJS code because BokehJS library is missing\");\n",
       "        }\n",
       "      }\n",
       "    }, 10, root)\n",
       "  }\n",
       "})(window);"
      ],
      "application/vnd.bokehjs_exec.v0+json": ""
     },
     "metadata": {
      "application/vnd.bokehjs_exec.v0+json": {
       "id": "523920"
      }
     },
     "output_type": "display_data"
    }
   ],
   "source": [
    "# Plotting CPI\n",
    "\n",
    "p = figure(plot_width=800, plot_height=600, title=\"Monthly CPI\")\n",
    "p.line(cpi_train.index, cpi_train.CPI, line_color=\"navy\", line_width=2.5)\n",
    "p.xaxis.ticker = [0, 6, 18, 30, 42, 54]\n",
    "p.xaxis.major_label_overrides = {0: '2008', 6: '2009', 18: '2010', 30: '2011', 42: '2012', 54: '2013'}\n",
    "p.xaxis.axis_label='Time'\n",
    "p.yaxis.axis_label='CPI'\n",
    "show(p)"
   ]
  },
  {
   "cell_type": "markdown",
   "metadata": {},
   "source": [
    "From the plot we can clearly see an upward sloping linear trend which makes the time series non-stationary."
   ]
  },
  {
   "cell_type": "markdown",
   "metadata": {},
   "source": [
    "We will now detrend this data into $CPI_ t = T_ t +R_ t$. Below, we fit a linear trend to the training data. (You could also experiment with a different way of detrending.).\n",
    "\n",
    "Fit a linear trend $T_t$ to the training data:\n",
    "\n",
    "$$T_t =\\alpha_1t+\\alpha_0.$$\n",
    "\n",
    "<b> Verify your result by plotting the linear trend on top of the data. Report $\\alpha_1$ and $\\alpha_0$</b>"
   ]
  },
  {
   "cell_type": "code",
   "execution_count": 1450,
   "metadata": {},
   "outputs": [],
   "source": [
    "# Fitting linear model\n",
    "\n",
    "lr = LinearRegression().fit(np.array(cpi_train.index).reshape(-1, 1), cpi_train.CPI)"
   ]
  },
  {
   "cell_type": "code",
   "execution_count": 1451,
   "metadata": {},
   "outputs": [
    {
     "name": "stdout",
     "output_type": "stream",
     "text": [
      "The linear trend is given by F(t) = 0.16104348366951224*t + 96.72932632872502\n"
     ]
    }
   ],
   "source": [
    "# Linear model coefficients\n",
    "\n",
    "lr_coefficients = [lr.coef_[0], lr.intercept_]\n",
    "print(\"The linear trend is given by F(t) = \" +str(lr_coefficients[0])+\"*t + \" +str(lr_coefficients[1])+\"\")"
   ]
  },
  {
   "cell_type": "code",
   "execution_count": 1452,
   "metadata": {},
   "outputs": [
    {
     "data": {
      "text/html": [
       "\n",
       "\n",
       "\n",
       "\n",
       "\n",
       "\n",
       "  <div class=\"bk-root\" id=\"106cf1f8-7497-44f3-8c07-f95353cd99f5\" data-root-id=\"527395\"></div>\n"
      ]
     },
     "metadata": {},
     "output_type": "display_data"
    },
    {
     "data": {
      "application/javascript": [
       "(function(root) {\n",
       "  function embed_document(root) {\n",
       "    \n",
       "  const docs_json = {\"db3de056-387f-436d-b40a-dc0834ad3ce9\":{\"defs\":[],\"roots\":{\"references\":[{\"attributes\":{\"below\":[{\"id\":\"527406\"}],\"center\":[{\"id\":\"527409\"},{\"id\":\"527413\"},{\"id\":\"527444\"}],\"left\":[{\"id\":\"527410\"}],\"renderers\":[{\"id\":\"527432\"},{\"id\":\"527450\"}],\"title\":{\"id\":\"527396\"},\"toolbar\":{\"id\":\"527421\"},\"width\":800,\"x_range\":{\"id\":\"527398\"},\"x_scale\":{\"id\":\"527402\"},\"y_range\":{\"id\":\"527400\"},\"y_scale\":{\"id\":\"527404\"}},\"id\":\"527395\",\"subtype\":\"Figure\",\"type\":\"Plot\"},{\"attributes\":{\"source\":{\"id\":\"527428\"}},\"id\":\"527433\",\"type\":\"CDSView\"},{\"attributes\":{},\"id\":\"527439\",\"type\":\"BasicTickFormatter\"},{\"attributes\":{},\"id\":\"527419\",\"type\":\"HelpTool\"},{\"attributes\":{\"axis\":{\"id\":\"527410\"},\"coordinates\":null,\"dimension\":1,\"group\":null,\"ticker\":null},\"id\":\"527413\",\"type\":\"Grid\"},{\"attributes\":{\"line_alpha\":0.1,\"line_color\":\"navy\",\"line_width\":2,\"x\":{\"field\":\"x\"},\"y\":{\"field\":\"y\"}},\"id\":\"527430\",\"type\":\"Line\"},{\"attributes\":{},\"id\":\"527411\",\"type\":\"BasicTicker\"},{\"attributes\":{},\"id\":\"527440\",\"type\":\"AllLabels\"},{\"attributes\":{\"line_color\":\"navy\",\"line_width\":2,\"x\":{\"field\":\"x\"},\"y\":{\"field\":\"y\"}},\"id\":\"527429\",\"type\":\"Line\"},{\"attributes\":{\"tools\":[{\"id\":\"527414\"},{\"id\":\"527415\"},{\"id\":\"527416\"},{\"id\":\"527417\"},{\"id\":\"527418\"},{\"id\":\"527419\"}]},\"id\":\"527421\",\"type\":\"Toolbar\"},{\"attributes\":{\"coordinates\":null,\"group\":null,\"items\":[{\"id\":\"527445\"},{\"id\":\"527464\"}],\"location\":\"bottom_right\"},\"id\":\"527444\",\"type\":\"Legend\"},{\"attributes\":{},\"id\":\"527415\",\"type\":\"WheelZoomTool\"},{\"attributes\":{\"line_alpha\":0.2,\"line_color\":\"navy\",\"line_width\":2,\"x\":{\"field\":\"x\"},\"y\":{\"field\":\"y\"}},\"id\":\"527431\",\"type\":\"Line\"},{\"attributes\":{},\"id\":\"527414\",\"type\":\"PanTool\"},{\"attributes\":{\"overlay\":{\"id\":\"527420\"}},\"id\":\"527416\",\"type\":\"BoxZoomTool\"},{\"attributes\":{},\"id\":\"527417\",\"type\":\"SaveTool\"},{\"attributes\":{},\"id\":\"527418\",\"type\":\"ResetTool\"},{\"attributes\":{\"label\":{\"value\":\"Original Data\"},\"renderers\":[{\"id\":\"527432\"}]},\"id\":\"527445\",\"type\":\"LegendItem\"},{\"attributes\":{},\"id\":\"527402\",\"type\":\"LinearScale\"},{\"attributes\":{},\"id\":\"527441\",\"type\":\"UnionRenderers\"},{\"attributes\":{\"bottom_units\":\"screen\",\"coordinates\":null,\"fill_alpha\":0.5,\"fill_color\":\"lightgrey\",\"group\":null,\"left_units\":\"screen\",\"level\":\"overlay\",\"line_alpha\":1.0,\"line_color\":\"black\",\"line_dash\":[4,4],\"line_width\":2,\"right_units\":\"screen\",\"syncable\":false,\"top_units\":\"screen\"},\"id\":\"527420\",\"type\":\"BoxAnnotation\"},{\"attributes\":{\"line_alpha\":0.1,\"line_color\":\"orange\",\"line_width\":2.5,\"x\":{\"field\":\"x\"},\"y\":{\"field\":\"y\"}},\"id\":\"527448\",\"type\":\"Line\"},{\"attributes\":{\"line_color\":\"orange\",\"line_width\":2.5,\"x\":{\"field\":\"x\"},\"y\":{\"field\":\"y\"}},\"id\":\"527447\",\"type\":\"Line\"},{\"attributes\":{},\"id\":\"527442\",\"type\":\"Selection\"},{\"attributes\":{\"axis\":{\"id\":\"527406\"},\"coordinates\":null,\"group\":null,\"ticker\":null},\"id\":\"527409\",\"type\":\"Grid\"},{\"attributes\":{\"line_alpha\":0.2,\"line_color\":\"orange\",\"line_width\":2.5,\"x\":{\"field\":\"x\"},\"y\":{\"field\":\"y\"}},\"id\":\"527449\",\"type\":\"Line\"},{\"attributes\":{\"ticks\":[0,6,18,30,42,54]},\"id\":\"527465\",\"type\":\"FixedTicker\"},{\"attributes\":{\"data\":{\"x\":[0,1,2,3,4,5,6,7,8,9,10,11,12,13,14,15,16,17,18,19,20,21,22,23,24,25,26,27,28,29,30,31,32,33,34,35,36,37,38,39,40,41,42,43,44,45,46,47,48,49,50,51,52,53,54,55,56,57,58,59,60,61],\"y\":{\"__ndarray__\":\"Fn9WSK0uWEAiZarR+zhYQC1L/lpKQ1hAOTFS5JhNWEBFF6Zt51dYQFH9+fY1YlhAXONNgIRsWEBoyaEJ03ZYQHSv9ZIhgVhAf5VJHHCLWECLe52lvpVYQJdh8S4NoFhAo0dFuFuqWECuLZlBqrRYQLoT7cr4vlhAxvlAVEfJWEDR35TdldNYQN3F6Gbk3VhA6as88DLoWED1kZB5gfJYQAB45ALQ/FhADF44jB4HWUAYRIwVbRFZQCQq4J67G1lALxA0KAomWUA79oexWDBZQEfc2zqnOllAUsIvxPVEWUBeqINNRE9ZQGqO19aSWVlAdnQrYOFjWUCBWn/pL25ZQI1A03J+eFlAmSYn/MyCWUCkDHuFG41ZQLDyzg5ql1lAvNgimLihWUDIvnYhB6xZQNOkyqpVtllA34oeNKTAWUDrcHK98spZQPZWxkZB1VlAAj0a0I/fWUAOI25Z3ulZQBoJwuIs9FlAJe8VbHv+WUAx1Wn1yQhaQD27vX4YE1pASKERCGcdWkBUh2WRtSdaQGBtuRoEMlpAbFMNpFI8WkB3OWEtoUZaQIMftbbvUFpAjwUJQD5bWkCa61zJjGVaQKbRsFLbb1pAsrcE3Cl6WkC+nVhleIRaQMmDrO7GjlpA1WkAeBWZWkDhT1QBZKNaQA==\",\"dtype\":\"float64\",\"order\":\"little\",\"shape\":[62]}},\"selected\":{\"id\":\"527462\"},\"selection_policy\":{\"id\":\"527461\"}},\"id\":\"527446\",\"type\":\"ColumnDataSource\"},{\"attributes\":{\"source\":{\"id\":\"527446\"}},\"id\":\"527451\",\"type\":\"CDSView\"},{\"attributes\":{\"label\":{\"value\":\"Linear Trend\"},\"renderers\":[{\"id\":\"527450\"}]},\"id\":\"527464\",\"type\":\"LegendItem\"},{\"attributes\":{\"coordinates\":null,\"data_source\":{\"id\":\"527446\"},\"glyph\":{\"id\":\"527447\"},\"group\":null,\"hover_glyph\":null,\"muted_glyph\":{\"id\":\"527449\"},\"nonselection_glyph\":{\"id\":\"527448\"},\"view\":{\"id\":\"527451\"}},\"id\":\"527450\",\"type\":\"GlyphRenderer\"},{\"attributes\":{\"coordinates\":null,\"data_source\":{\"id\":\"527428\"},\"glyph\":{\"id\":\"527429\"},\"group\":null,\"hover_glyph\":null,\"muted_glyph\":{\"id\":\"527431\"},\"nonselection_glyph\":{\"id\":\"527430\"},\"view\":{\"id\":\"527433\"}},\"id\":\"527432\",\"type\":\"GlyphRenderer\"},{\"attributes\":{},\"id\":\"527461\",\"type\":\"UnionRenderers\"},{\"attributes\":{\"coordinates\":null,\"group\":null,\"text\":\"Modeling CPI with the Linear Model\"},\"id\":\"527396\",\"type\":\"Title\"},{\"attributes\":{},\"id\":\"527404\",\"type\":\"LinearScale\"},{\"attributes\":{},\"id\":\"527462\",\"type\":\"Selection\"},{\"attributes\":{\"axis_label\":\"Time\",\"coordinates\":null,\"formatter\":{\"id\":\"527439\"},\"group\":null,\"major_label_overrides\":{\"0\":\"2008\",\"18\":\"2010\",\"30\":\"2011\",\"42\":\"2012\",\"54\":\"2013\",\"6\":\"2009\"},\"major_label_policy\":{\"id\":\"527440\"},\"ticker\":{\"id\":\"527465\"}},\"id\":\"527406\",\"type\":\"LinearAxis\"},{\"attributes\":{},\"id\":\"527436\",\"type\":\"BasicTickFormatter\"},{\"attributes\":{},\"id\":\"527398\",\"type\":\"DataRange1d\"},{\"attributes\":{\"data\":{\"x\":[0,1,2,3,4,5,6,7,8,9,10,11,12,13,14,15,16,17,18,19,20,21,22,23,24,25,26,27,28,29,30,31,32,33,34,35,36,37,38,39,40,41,42,43,44,45,46,47,48,49,50,51,52,53,54,55,56,57,58,59,60,61],\"y\":{\"__ndarray__\":\"AAAAAAAAWUBLyAc9myFZQKvP1VbsB1lAe4hGdxD/WEActi3KbL5YQKWg20saRVhAl6jeGtgEWEBLyAc9mx9YQE6c3O9QPlhA1ouhnGhNWEDw+WGE8FxYQNBE2PD0blhAcVrwoq+kWEAYQznRrppYQOl942vPqFhAWwhyUMKsWEB00vvG17JYQOi8xi5Rt1hA48KBkCysWEDkvWplwsFYQEX11sBWw1hArHMMyF7dWEA/jBAebehYQHYyOEpe7VhAd6G5TiPnWECRm+EGfOhYQMjqVs9J8VhA0GG+vAD1WEAFhqxu9fxYQPLNNjem/1hAe4MvTKYKWUB3vp8aLylZQMX+snvySFlA8tJNYhCIWUBSSZ2AJrJZQHBfB84Z0VlAbqMBvAXKWUAdWmQ7389ZQBKlvcEX4llAqmBUUifsWUBYObTIdt5ZQCL99nXg2FlAat5xio7IWUCamZmZmeVZQMKGp1fKAlpA6Nms+lw1WkASg8DKoUlaQC9uowG8QVpAzojS3uA3WkAU0ETY8CxaQFioNc07UlpAo5I6AU1wWkCLbOf7qW1aQEvIBz2bTVpADwu1pnk7WkDIBz2bVU9aQNEi2/l+hlpAFR3J5T+YWkATYcPTK5FaQOF6FK5HnVpAEoPAyqGtWkBqTfOOU7BaQA==\",\"dtype\":\"float64\",\"order\":\"little\",\"shape\":[62]}},\"selected\":{\"id\":\"527442\"},\"selection_policy\":{\"id\":\"527441\"}},\"id\":\"527428\",\"type\":\"ColumnDataSource\"},{\"attributes\":{},\"id\":\"527437\",\"type\":\"AllLabels\"},{\"attributes\":{\"axis_label\":\"CPI\",\"coordinates\":null,\"formatter\":{\"id\":\"527436\"},\"group\":null,\"major_label_policy\":{\"id\":\"527437\"},\"ticker\":{\"id\":\"527411\"}},\"id\":\"527410\",\"type\":\"LinearAxis\"},{\"attributes\":{},\"id\":\"527400\",\"type\":\"DataRange1d\"}],\"root_ids\":[\"527395\"]},\"title\":\"Bokeh Application\",\"version\":\"2.4.1\"}};\n",
       "  const render_items = [{\"docid\":\"db3de056-387f-436d-b40a-dc0834ad3ce9\",\"root_ids\":[\"527395\"],\"roots\":{\"527395\":\"106cf1f8-7497-44f3-8c07-f95353cd99f5\"}}];\n",
       "  root.Bokeh.embed.embed_items_notebook(docs_json, render_items);\n",
       "\n",
       "  }\n",
       "  if (root.Bokeh !== undefined) {\n",
       "    embed_document(root);\n",
       "  } else {\n",
       "    let attempts = 0;\n",
       "    const timer = setInterval(function(root) {\n",
       "      if (root.Bokeh !== undefined) {\n",
       "        clearInterval(timer);\n",
       "        embed_document(root);\n",
       "      } else {\n",
       "        attempts++;\n",
       "        if (attempts > 100) {\n",
       "          clearInterval(timer);\n",
       "          console.log(\"Bokeh: ERROR: Unable to run BokehJS code because BokehJS library is missing\");\n",
       "        }\n",
       "      }\n",
       "    }, 10, root)\n",
       "  }\n",
       "})(window);"
      ],
      "application/vnd.bokehjs_exec.v0+json": ""
     },
     "metadata": {
      "application/vnd.bokehjs_exec.v0+json": {
       "id": "527395"
      }
     },
     "output_type": "display_data"
    }
   ],
   "source": [
    "# Plotting linear trend on top of the data\n",
    "\n",
    "linear_fit = lr.predict(np.array(cpi_train.index).reshape(-1, 1))\n",
    "\n",
    "p = figure(plot_width=800, plot_height=600, title=\"Modeling CPI with the Linear Model\")\n",
    "p.line(cpi_train.index, cpi_train.CPI, line_color=\"navy\", line_width=2, legend_label =\"Original Data\")\n",
    "p.line(cpi_train.index, linear_fit, line_color=\"orange\", line_width=2.5, legend_label =\"Linear Trend\")\n",
    "p.xaxis.ticker = [0, 6, 18, 30, 42, 54]\n",
    "p.xaxis.major_label_overrides = {0: '2008', 6: '2009', 18: '2010', 30: '2011', 42: '2012', 54: '2013'}\n",
    "p.xaxis.axis_label='Time'\n",
    "p.yaxis.axis_label='CPI'\n",
    "p.legend.location='bottom_right'\n",
    "show(p)"
   ]
  },
  {
   "cell_type": "markdown",
   "metadata": {},
   "source": [
    "<b> Subtract the linear trend from the data to get the residuals $R_t$. Visualize $R_t$. Do you see obvious further trend or seasonality in $R_t$? Report the maximum absolute value of the residuals over the training data.</b>"
   ]
  },
  {
   "cell_type": "code",
   "execution_count": 1453,
   "metadata": {},
   "outputs": [
    {
     "data": {
      "text/html": [
       "\n",
       "\n",
       "\n",
       "\n",
       "\n",
       "\n",
       "  <div class=\"bk-root\" id=\"ab3cdee6-86b8-49a6-a2c5-037eba0c2aa3\" data-root-id=\"530922\"></div>\n"
      ]
     },
     "metadata": {},
     "output_type": "display_data"
    },
    {
     "data": {
      "application/javascript": [
       "(function(root) {\n",
       "  function embed_document(root) {\n",
       "    \n",
       "  const docs_json = {\"2560dd64-0de0-4765-8bb8-15e0c98984de\":{\"defs\":[],\"roots\":{\"references\":[{\"attributes\":{\"below\":[{\"id\":\"530933\"}],\"center\":[{\"id\":\"530936\"},{\"id\":\"530940\"},{\"id\":\"530971\"}],\"left\":[{\"id\":\"530937\"}],\"renderers\":[{\"id\":\"530959\"}],\"title\":{\"id\":\"530923\"},\"toolbar\":{\"id\":\"530948\"},\"width\":800,\"x_range\":{\"id\":\"530925\"},\"x_scale\":{\"id\":\"530929\"},\"y_range\":{\"id\":\"530927\"},\"y_scale\":{\"id\":\"530931\"}},\"id\":\"530922\",\"subtype\":\"Figure\",\"type\":\"Plot\"},{\"attributes\":{\"axis\":{\"id\":\"530933\"},\"coordinates\":null,\"group\":null,\"ticker\":null},\"id\":\"530936\",\"type\":\"Grid\"},{\"attributes\":{\"line_color\":\"navy\",\"line_width\":2,\"x\":{\"field\":\"x\"},\"y\":{\"field\":\"y\"}},\"id\":\"530956\",\"type\":\"Line\"},{\"attributes\":{\"data\":{\"x\":[0,1,2,3,4,5,6,7,8,9,10,11,12,13,14,15,16,17,18,19,20,21,22,23,24,25,26,27,28,29,30,31,32,33,34,35,36,37,38,39,40,41,42,43,44,45,46,47,48,49,50,51,52,53,54,55,56,57,58,59,60,61],\"y\":{\"__ndarray__\":\"QB0w9VYqCkAgZaxr7RMNQMCP8Ho/lAhAQOiKXvIuBkDAtechV6H5PwCsXB6rG92/QLHOWxnr+b9AR4Am8831v4DJRMYotPC/gNQE1L8D77+AzcCdEGfsv4BjjgwfjOi/AMi0U1Wwtr8AlupfcPvZvwDRlQlfKda/AGvxzgOF3L+AroZMC1/gv4B6BBGcSeO/AIN03S8D7r+ACOoSil/ov4BdwQahvOy/ADD1FeLf5L+A7Nu9+3/kvwDX+1OqLue/AFw3vWxz77+AqpapKvfxv8BfPOFaV/K/gCBY3EH9879Alsi1t5P0vwAeMOgne/a/wD78/sRO9r+AAue3M0DxvwDkIJD7xee/AGSxmpgNtT8AVx6RfYXiPwBgNpzf1+w/AFll75Em5D+Aqs32DOzhP4AfgHkL4eU/gOXqGo/B5T8AbchBC4TTPwBgMYV5+aw/AJheqEUB178A0CVS/xKxvwBQ+8rpOs0/gGF1S8dw6z9AeKtV9TXwPwB52XLBUec/AIbnwNZ52j8AACN9G+20PwB8HT7ZG+A/gJufli796T8AihlDZ4TjPwDAuWrNo6q/AID6U5nE378A0uMfLjfWvwArUSqno9Y/AGNlxAkW3j8AqobV3GbJPwAw7s9+Ac0/AD0ZwFKM1D8AEvs9G9/JPw==\",\"dtype\":\"float64\",\"order\":\"little\",\"shape\":[62]}},\"selected\":{\"id\":\"530969\"},\"selection_policy\":{\"id\":\"530968\"}},\"id\":\"530955\",\"type\":\"ColumnDataSource\"},{\"attributes\":{},\"id\":\"530941\",\"type\":\"PanTool\"},{\"attributes\":{},\"id\":\"530967\",\"type\":\"AllLabels\"},{\"attributes\":{},\"id\":\"530945\",\"type\":\"ResetTool\"},{\"attributes\":{\"coordinates\":null,\"data_source\":{\"id\":\"530955\"},\"glyph\":{\"id\":\"530956\"},\"group\":null,\"hover_glyph\":null,\"muted_glyph\":{\"id\":\"530958\"},\"nonselection_glyph\":{\"id\":\"530957\"},\"view\":{\"id\":\"530960\"}},\"id\":\"530959\",\"type\":\"GlyphRenderer\"},{\"attributes\":{\"line_alpha\":0.2,\"line_color\":\"navy\",\"line_width\":2,\"x\":{\"field\":\"x\"},\"y\":{\"field\":\"y\"}},\"id\":\"530958\",\"type\":\"Line\"},{\"attributes\":{},\"id\":\"530942\",\"type\":\"WheelZoomTool\"},{\"attributes\":{\"tools\":[{\"id\":\"530941\"},{\"id\":\"530942\"},{\"id\":\"530943\"},{\"id\":\"530944\"},{\"id\":\"530945\"},{\"id\":\"530946\"}]},\"id\":\"530948\",\"type\":\"Toolbar\"},{\"attributes\":{\"source\":{\"id\":\"530955\"}},\"id\":\"530960\",\"type\":\"CDSView\"},{\"attributes\":{\"coordinates\":null,\"formatter\":{\"id\":\"530966\"},\"group\":null,\"major_label_overrides\":{\"0\":\"2008\",\"18\":\"2010\",\"30\":\"2011\",\"42\":\"2012\",\"54\":\"2013\",\"6\":\"2009\"},\"major_label_policy\":{\"id\":\"530967\"},\"ticker\":{\"id\":\"530973\"}},\"id\":\"530933\",\"type\":\"LinearAxis\"},{\"attributes\":{\"line_alpha\":0.1,\"line_color\":\"navy\",\"line_width\":2,\"x\":{\"field\":\"x\"},\"y\":{\"field\":\"y\"}},\"id\":\"530957\",\"type\":\"Line\"},{\"attributes\":{},\"id\":\"530931\",\"type\":\"LinearScale\"},{\"attributes\":{\"coordinates\":null,\"group\":null,\"items\":[{\"id\":\"530972\"}],\"location\":\"bottom_right\"},\"id\":\"530971\",\"type\":\"Legend\"},{\"attributes\":{},\"id\":\"530938\",\"type\":\"BasicTicker\"},{\"attributes\":{\"overlay\":{\"id\":\"530947\"}},\"id\":\"530943\",\"type\":\"BoxZoomTool\"},{\"attributes\":{},\"id\":\"530925\",\"type\":\"DataRange1d\"},{\"attributes\":{},\"id\":\"530968\",\"type\":\"UnionRenderers\"},{\"attributes\":{\"label\":{\"value\":\"Detrended Data\"},\"renderers\":[{\"id\":\"530959\"}]},\"id\":\"530972\",\"type\":\"LegendItem\"},{\"attributes\":{},\"id\":\"530964\",\"type\":\"AllLabels\"},{\"attributes\":{},\"id\":\"530969\",\"type\":\"Selection\"},{\"attributes\":{},\"id\":\"530966\",\"type\":\"BasicTickFormatter\"},{\"attributes\":{\"axis\":{\"id\":\"530937\"},\"coordinates\":null,\"dimension\":1,\"group\":null,\"ticker\":null},\"id\":\"530940\",\"type\":\"Grid\"},{\"attributes\":{\"bottom_units\":\"screen\",\"coordinates\":null,\"fill_alpha\":0.5,\"fill_color\":\"lightgrey\",\"group\":null,\"left_units\":\"screen\",\"level\":\"overlay\",\"line_alpha\":1.0,\"line_color\":\"black\",\"line_dash\":[4,4],\"line_width\":2,\"right_units\":\"screen\",\"syncable\":false,\"top_units\":\"screen\"},\"id\":\"530947\",\"type\":\"BoxAnnotation\"},{\"attributes\":{},\"id\":\"530929\",\"type\":\"LinearScale\"},{\"attributes\":{\"coordinates\":null,\"formatter\":{\"id\":\"530963\"},\"group\":null,\"major_label_policy\":{\"id\":\"530964\"},\"ticker\":{\"id\":\"530938\"}},\"id\":\"530937\",\"type\":\"LinearAxis\"},{\"attributes\":{},\"id\":\"530944\",\"type\":\"SaveTool\"},{\"attributes\":{},\"id\":\"530927\",\"type\":\"DataRange1d\"},{\"attributes\":{\"ticks\":[0,6,18,30,42,54]},\"id\":\"530973\",\"type\":\"FixedTicker\"},{\"attributes\":{},\"id\":\"530946\",\"type\":\"HelpTool\"},{\"attributes\":{\"coordinates\":null,\"group\":null,\"text\":\"CPI Detrended Time Series\"},\"id\":\"530923\",\"type\":\"Title\"},{\"attributes\":{},\"id\":\"530963\",\"type\":\"BasicTickFormatter\"}],\"root_ids\":[\"530922\"]},\"title\":\"Bokeh Application\",\"version\":\"2.4.1\"}};\n",
       "  const render_items = [{\"docid\":\"2560dd64-0de0-4765-8bb8-15e0c98984de\",\"root_ids\":[\"530922\"],\"roots\":{\"530922\":\"ab3cdee6-86b8-49a6-a2c5-037eba0c2aa3\"}}];\n",
       "  root.Bokeh.embed.embed_items_notebook(docs_json, render_items);\n",
       "\n",
       "  }\n",
       "  if (root.Bokeh !== undefined) {\n",
       "    embed_document(root);\n",
       "  } else {\n",
       "    let attempts = 0;\n",
       "    const timer = setInterval(function(root) {\n",
       "      if (root.Bokeh !== undefined) {\n",
       "        clearInterval(timer);\n",
       "        embed_document(root);\n",
       "      } else {\n",
       "        attempts++;\n",
       "        if (attempts > 100) {\n",
       "          clearInterval(timer);\n",
       "          console.log(\"Bokeh: ERROR: Unable to run BokehJS code because BokehJS library is missing\");\n",
       "        }\n",
       "      }\n",
       "    }, 10, root)\n",
       "  }\n",
       "})(window);"
      ],
      "application/vnd.bokehjs_exec.v0+json": ""
     },
     "metadata": {
      "application/vnd.bokehjs_exec.v0+json": {
       "id": "530922"
      }
     },
     "output_type": "display_data"
    }
   ],
   "source": [
    "# Plotting detrended data by removing the linear trend from data\n",
    "\n",
    "detrend = cpi_train.CPI - linear_fit\n",
    "\n",
    "p = figure(plot_width=800, plot_height=600, title = \"CPI Detrended Time Series\")\n",
    "p.line(cpi_train.index, detrend, line_color=\"navy\", line_width=2, legend_label =\"Detrended Data\")\n",
    "p.xaxis.ticker = [0, 6, 18, 30, 42, 54]\n",
    "p.xaxis.major_label_overrides = {0: '2008', 6: '2009', 18: '2010', 30: '2011', 42: '2012', 54: '2013'}\n",
    "p.legend.location='bottom_right'\n",
    "show(p)"
   ]
  },
  {
   "cell_type": "code",
   "execution_count": 1454,
   "metadata": {},
   "outputs": [
    {
     "name": "stdout",
     "output_type": "stream",
     "text": [
      "The maximum absolute value of the residuals value is 3.634730187605456\n"
     ]
    }
   ],
   "source": [
    "print(\"The maximum absolute value of the residuals value is\", abs(np.max(detrend)))"
   ]
  },
  {
   "cell_type": "code",
   "execution_count": 1455,
   "metadata": {},
   "outputs": [
    {
     "data": {
      "text/html": [
       "\n",
       "\n",
       "\n",
       "\n",
       "\n",
       "\n",
       "  <div class=\"bk-root\" id=\"9faa5232-1863-4553-accd-d208c35985ae\" data-root-id=\"534429\"></div>\n"
      ]
     },
     "metadata": {},
     "output_type": "display_data"
    },
    {
     "data": {
      "application/javascript": [
       "(function(root) {\n",
       "  function embed_document(root) {\n",
       "    \n",
       "  const docs_json = {\"4e0cda9e-9306-4218-8905-a4ccc99a30aa\":{\"defs\":[],\"roots\":{\"references\":[{\"attributes\":{\"below\":[{\"id\":\"534440\"}],\"center\":[{\"id\":\"534443\"},{\"id\":\"534447\"},{\"id\":\"534478\"}],\"left\":[{\"id\":\"534444\"}],\"renderers\":[{\"id\":\"534466\"}],\"title\":{\"id\":\"534430\"},\"toolbar\":{\"id\":\"534455\"},\"width\":800,\"x_range\":{\"id\":\"534432\"},\"x_scale\":{\"id\":\"534436\"},\"y_range\":{\"id\":\"534434\"},\"y_scale\":{\"id\":\"534438\"}},\"id\":\"534429\",\"subtype\":\"Figure\",\"type\":\"Plot\"},{\"attributes\":{},\"id\":\"534434\",\"type\":\"DataRange1d\"},{\"attributes\":{},\"id\":\"534470\",\"type\":\"BasicTickFormatter\"},{\"attributes\":{\"axis\":{\"id\":\"534440\"},\"coordinates\":null,\"group\":null,\"ticker\":null},\"id\":\"534443\",\"type\":\"Grid\"},{\"attributes\":{},\"id\":\"534438\",\"type\":\"LinearScale\"},{\"attributes\":{\"coordinates\":null,\"formatter\":{\"id\":\"534470\"},\"group\":null,\"major_label_policy\":{\"id\":\"534471\"},\"ticker\":{\"id\":\"534445\"}},\"id\":\"534444\",\"type\":\"LinearAxis\"},{\"attributes\":{\"coordinates\":null,\"group\":null,\"text\":\"CPI Detrended with Differencing\"},\"id\":\"534430\",\"type\":\"Title\"},{\"attributes\":{},\"id\":\"534436\",\"type\":\"LinearScale\"},{\"attributes\":{\"line_alpha\":0.2,\"line_color\":\"navy\",\"line_width\":2,\"x\":{\"field\":\"x\"},\"y\":{\"field\":\"y\"}},\"id\":\"534465\",\"type\":\"Line\"},{\"attributes\":{\"coordinates\":null,\"formatter\":{\"id\":\"534473\"},\"group\":null,\"major_label_overrides\":{\"0\":\"2008\",\"18\":\"2010\",\"30\":\"2011\",\"42\":\"2012\",\"54\":\"2013\",\"6\":\"2009\"},\"major_label_policy\":{\"id\":\"534474\"},\"ticker\":{\"id\":\"534480\"}},\"id\":\"534440\",\"type\":\"LinearAxis\"},{\"attributes\":{},\"id\":\"534473\",\"type\":\"BasicTickFormatter\"},{\"attributes\":{},\"id\":\"534453\",\"type\":\"HelpTool\"},{\"attributes\":{},\"id\":\"534474\",\"type\":\"AllLabels\"},{\"attributes\":{\"axis\":{\"id\":\"534444\"},\"coordinates\":null,\"dimension\":1,\"group\":null,\"ticker\":null},\"id\":\"534447\",\"type\":\"Grid\"},{\"attributes\":{},\"id\":\"534445\",\"type\":\"BasicTicker\"},{\"attributes\":{\"coordinates\":null,\"group\":null,\"items\":[{\"id\":\"534479\"}],\"location\":\"bottom_right\"},\"id\":\"534478\",\"type\":\"Legend\"},{\"attributes\":{\"source\":{\"id\":\"534462\"}},\"id\":\"534467\",\"type\":\"CDSView\"},{\"attributes\":{\"bottom_units\":\"screen\",\"coordinates\":null,\"fill_alpha\":0.5,\"fill_color\":\"lightgrey\",\"group\":null,\"left_units\":\"screen\",\"level\":\"overlay\",\"line_alpha\":1.0,\"line_color\":\"black\",\"line_dash\":[4,4],\"line_width\":2,\"right_units\":\"screen\",\"syncable\":false,\"top_units\":\"screen\"},\"id\":\"534454\",\"type\":\"BoxAnnotation\"},{\"attributes\":{},\"id\":\"534449\",\"type\":\"WheelZoomTool\"},{\"attributes\":{},\"id\":\"534448\",\"type\":\"PanTool\"},{\"attributes\":{\"label\":{\"value\":\"Detrended Data with Differencing\"},\"renderers\":[{\"id\":\"534466\"}]},\"id\":\"534479\",\"type\":\"LegendItem\"},{\"attributes\":{\"overlay\":{\"id\":\"534454\"}},\"id\":\"534450\",\"type\":\"BoxZoomTool\"},{\"attributes\":{},\"id\":\"534451\",\"type\":\"SaveTool\"},{\"attributes\":{},\"id\":\"534475\",\"type\":\"UnionRenderers\"},{\"attributes\":{\"tools\":[{\"id\":\"534448\"},{\"id\":\"534449\"},{\"id\":\"534450\"},{\"id\":\"534451\"},{\"id\":\"534452\"},{\"id\":\"534453\"}]},\"id\":\"534455\",\"type\":\"Toolbar\"},{\"attributes\":{},\"id\":\"534476\",\"type\":\"Selection\"},{\"attributes\":{\"line_color\":\"navy\",\"line_width\":2,\"x\":{\"field\":\"x\"},\"y\":{\"field\":\"y\"}},\"id\":\"534463\",\"type\":\"Line\"},{\"attributes\":{},\"id\":\"534471\",\"type\":\"AllLabels\"},{\"attributes\":{\"ticks\":[0,6,18,30,42,54]},\"id\":\"534480\",\"type\":\"FixedTicker\"},{\"attributes\":{\"data\":{\"x\":[0,1,2,3,4,5,6,7,8,9,10,11,12,13,14,15,16,17,18,19,20,21,22,23,24,25,26,27,28,29,30,31,32,33,34,35,36,37,38,39,40,41,42,43,44,45,46,47,48,49,50,51,52,53,54,55,56,57,58,59,60,61],\"y\":{\"__ndarray__\":\"AAAAAAAA+H8A4MSyqnN1PwDcZCRVYnC/AHB2wZaqVr8AME/09cqEvwDgrr2BzZO/AP51QqVKhb8A1BDC68lxPwA0Q/tiUXQ/ANgCZqblYz8AuK1huWxkPwAYtqOFoWc/AFaKoFWEgT8AMHpY3f9ZvwDQKyZzWmI/AACdvJ19RD8AQO+zZ4tPPwBAkrbwLUc/ALB6FRrhXL8AMFmUt/JrPwAAQmPCVDA/AOwcJvnIcD8A0H50wm5cPwDAE+ocY0k/AODDsRMBUL8AACXvoq4rPwCQGOH3mlY/AKDh+YsOQz8AwAImqmNUPwCAyuMCjzs/AACsKmAjXD8AKA2plnZzPwBMetkZJnQ/ACYqwH7fgz8A7IfRPkp6PwD0PyUDOnM/ABCUX4qOUb8AYDHGRwVNPwB4WyzPjmY/ALCkGqPbWD8AoPAWpepgvwBASJk8qEu/AIguBdk6ZL8A6PKEu/txPwDYxNvJ/nE/ACjfhLv9fj8AMCI747VoPwAgRiIkPVO/ADBAZZIKWL8AMD+YkLhavwCYG0t4u3Y/APzUYoY8cj8AQOLIWok5vwAgHNpAdHO/ADjvmH8WZr8ASOp7mzBoPwC2G6FetIA/ACA0Tc1jZT8AMLF5AAtRvwCApFrlJF0/AHgwiCyjYz8AwGe7k9k5Pw==\",\"dtype\":\"float64\",\"order\":\"little\",\"shape\":[62]}},\"selected\":{\"id\":\"534476\"},\"selection_policy\":{\"id\":\"534475\"}},\"id\":\"534462\",\"type\":\"ColumnDataSource\"},{\"attributes\":{},\"id\":\"534452\",\"type\":\"ResetTool\"},{\"attributes\":{\"coordinates\":null,\"data_source\":{\"id\":\"534462\"},\"glyph\":{\"id\":\"534463\"},\"group\":null,\"hover_glyph\":null,\"muted_glyph\":{\"id\":\"534465\"},\"nonselection_glyph\":{\"id\":\"534464\"},\"view\":{\"id\":\"534467\"}},\"id\":\"534466\",\"type\":\"GlyphRenderer\"},{\"attributes\":{\"line_alpha\":0.1,\"line_color\":\"navy\",\"line_width\":2,\"x\":{\"field\":\"x\"},\"y\":{\"field\":\"y\"}},\"id\":\"534464\",\"type\":\"Line\"},{\"attributes\":{},\"id\":\"534432\",\"type\":\"DataRange1d\"}],\"root_ids\":[\"534429\"]},\"title\":\"Bokeh Application\",\"version\":\"2.4.1\"}};\n",
       "  const render_items = [{\"docid\":\"4e0cda9e-9306-4218-8905-a4ccc99a30aa\",\"root_ids\":[\"534429\"],\"roots\":{\"534429\":\"9faa5232-1863-4553-accd-d208c35985ae\"}}];\n",
       "  root.Bokeh.embed.embed_items_notebook(docs_json, render_items);\n",
       "\n",
       "  }\n",
       "  if (root.Bokeh !== undefined) {\n",
       "    embed_document(root);\n",
       "  } else {\n",
       "    let attempts = 0;\n",
       "    const timer = setInterval(function(root) {\n",
       "      if (root.Bokeh !== undefined) {\n",
       "        clearInterval(timer);\n",
       "        embed_document(root);\n",
       "      } else {\n",
       "        attempts++;\n",
       "        if (attempts > 100) {\n",
       "          clearInterval(timer);\n",
       "          console.log(\"Bokeh: ERROR: Unable to run BokehJS code because BokehJS library is missing\");\n",
       "        }\n",
       "      }\n",
       "    }, 10, root)\n",
       "  }\n",
       "})(window);"
      ],
      "application/vnd.bokehjs_exec.v0+json": ""
     },
     "metadata": {
      "application/vnd.bokehjs_exec.v0+json": {
       "id": "534429"
      }
     },
     "output_type": "display_data"
    }
   ],
   "source": [
    "# Plotting another way to detrend the data with logarithmic differencing\n",
    "\n",
    "cpi_diff_log = np.log(cpi.CPI).diff()\n",
    "detrend_diff = cpi_diff_log[0:cpi_train.shape[0]]\n",
    "\n",
    "p = figure(plot_width=800, plot_height=600, title=\"CPI Detrended with Differencing\")\n",
    "p.line(cpi_train.index, detrend_diff, line_color=\"navy\", line_width=2, legend_label=\"Detrended Data with Differencing\")\n",
    "p.xaxis.ticker = [0, 6, 18, 30, 42, 54]\n",
    "p.xaxis.major_label_overrides = {0: '2008', 6: '2009', 18: '2010', 30: '2011', 42: '2012', 54: '2013'}\n",
    "p.legend.location = \"bottom_right\"\n",
    "show(p)"
   ]
  },
  {
   "cell_type": "code",
   "execution_count": 1456,
   "metadata": {},
   "outputs": [
    {
     "name": "stdout",
     "output_type": "stream",
     "text": [
      "The maximum absolute value of the residuals value is 0.00970362686099957\n"
     ]
    }
   ],
   "source": [
    "print(\"The maximum absolute value of the residuals value is\", abs(np.max(detrend_diff)))"
   ]
  },
  {
   "cell_type": "markdown",
   "metadata": {},
   "source": [
    "Both methods work as they manage to remove the trend from the data, however the logarithmic differencing has a lower maximum absolute value of the residuals which could indicate it achieves better results."
   ]
  },
  {
   "cell_type": "markdown",
   "metadata": {},
   "source": [
    "As there seems to be no other clear trend present in this residual, we can take the linear trend to be sufficient and move to the next step, i.e. to deseasonalize the data. However, since the visualization of the residual also seems to indicate no clear seasonality, we directly proceed to fitting an AR Model on the residual $R_t$.\n",
    "\n",
    "<b>Determine the order $p$ of the AR model by examining the auto-correlation and partial auto-correlation functions of the residuals. Start with a single AR term and add terms as necessary.</b>"
   ]
  },
  {
   "cell_type": "code",
   "execution_count": 1457,
   "metadata": {},
   "outputs": [
    {
     "data": {
      "image/png": "[encoded data removed]",
      "text/plain": [
       "<Figure size 576x396 with 1 Axes>"
      ]
     },
     "metadata": {},
     "output_type": "display_data"
    },
    {
     "data": {
      "image/png": "[encoded data removed]",
      "text/plain": [
       "<Figure size 576x396 with 1 Axes>"
      ]
     },
     "metadata": {},
     "output_type": "display_data"
    }
   ],
   "source": [
    "# Plotting Auto-correlation and partial auto-correlation functions of the residuals\n",
    "\n",
    "plot_acf(detrend, zero=False)\n",
    "plot_pacf(detrend, zero=False)\n",
    "plt.show()"
   ]
  },
  {
   "cell_type": "markdown",
   "metadata": {},
   "source": [
    "We notice from both plots that the highest lag where the autocorrelation extends beyond the statistically significant boundary (i.e. blue frame) is at lag 2. This would indicate that we could model the CPI data with an AR(2) model. We can confirm this by calculating the RMSE of the fit with different lags."
   ]
  },
  {
   "cell_type": "code",
   "execution_count": 1458,
   "metadata": {},
   "outputs": [
    {
     "name": "stdout",
     "output_type": "stream",
     "text": [
      "Test RMSE for AR(1):0.0023953848786495316\n",
      "Test RMSE for AR(2):0.0023342073865404603\n",
      "Test RMSE for AR(3):0.002336359955382079\n",
      "Test RMSE for AR(4):0.002390227562898291\n",
      "Test RMSE for AR(5):0.002350614596570656\n",
      "Test RMSE for AR(6):0.002419240208308682\n",
      "Test RMSE for AR(7):0.002497972567898628\n"
     ]
    },
    {
     "data": {
      "text/html": [
       "\n",
       "\n",
       "\n",
       "\n",
       "\n",
       "\n",
       "  <div class=\"bk-root\" id=\"ac62ac17-27a4-481c-aa14-760c15b36aec\" data-root-id=\"537945\"></div>\n"
      ]
     },
     "metadata": {},
     "output_type": "display_data"
    },
    {
     "data": {
      "application/javascript": [
       "(function(root) {\n",
       "  function embed_document(root) {\n",
       "    \n",
       "  const docs_json = {\"2ddbd9b1-986a-4a64-b0b0-19df770f3529\":{\"defs\":[],\"roots\":{\"references\":[{\"attributes\":{\"below\":[{\"id\":\"537956\"}],\"center\":[{\"id\":\"537959\"},{\"id\":\"537963\"},{\"id\":\"537994\"}],\"left\":[{\"id\":\"537960\"}],\"renderers\":[{\"id\":\"537982\"}],\"title\":{\"id\":\"537946\"},\"toolbar\":{\"id\":\"537971\"},\"width\":800,\"x_range\":{\"id\":\"537948\"},\"x_scale\":{\"id\":\"537952\"},\"y_range\":{\"id\":\"537950\"},\"y_scale\":{\"id\":\"537954\"}},\"id\":\"537945\",\"subtype\":\"Figure\",\"type\":\"Plot\"},{\"attributes\":{\"data\":{\"x\":{\"__ndarray__\":\"AQAAAAIAAAADAAAABAAAAAUAAAAGAAAABwAAAA==\",\"dtype\":\"int32\",\"order\":\"little\",\"shape\":[7]},\"y\":[0.0023953848786495316,0.0023342073865404603,0.002336359955382079,0.002390227562898291,0.002350614596570656,0.002419240208308682,0.002497972567898628]},\"selected\":{\"id\":\"537992\"},\"selection_policy\":{\"id\":\"537991\"}},\"id\":\"537978\",\"type\":\"ColumnDataSource\"},{\"attributes\":{\"fill_alpha\":{\"value\":0.1},\"fill_color\":{\"value\":\"orange\"},\"hatch_alpha\":{\"value\":0.1},\"line_alpha\":{\"value\":0.1},\"line_color\":{\"value\":\"navy\"},\"marker\":{\"value\":\"square\"},\"size\":{\"value\":15},\"x\":{\"field\":\"x\"},\"y\":{\"field\":\"y\"}},\"id\":\"537980\",\"type\":\"Scatter\"},{\"attributes\":{},\"id\":\"537967\",\"type\":\"SaveTool\"},{\"attributes\":{\"coordinates\":null,\"group\":null,\"text\":\"RMSE of AR Models of order n\"},\"id\":\"537946\",\"type\":\"Title\"},{\"attributes\":{},\"id\":\"537986\",\"type\":\"BasicTickFormatter\"},{\"attributes\":{},\"id\":\"537948\",\"type\":\"DataRange1d\"},{\"attributes\":{},\"id\":\"537952\",\"type\":\"LinearScale\"},{\"attributes\":{},\"id\":\"537961\",\"type\":\"BasicTicker\"},{\"attributes\":{\"overlay\":{\"id\":\"537970\"}},\"id\":\"537966\",\"type\":\"BoxZoomTool\"},{\"attributes\":{},\"id\":\"537957\",\"type\":\"BasicTicker\"},{\"attributes\":{},\"id\":\"537990\",\"type\":\"AllLabels\"},{\"attributes\":{},\"id\":\"537969\",\"type\":\"HelpTool\"},{\"attributes\":{},\"id\":\"537954\",\"type\":\"LinearScale\"},{\"attributes\":{\"axis\":{\"id\":\"537960\"},\"coordinates\":null,\"dimension\":1,\"group\":null,\"ticker\":null},\"id\":\"537963\",\"type\":\"Grid\"},{\"attributes\":{},\"id\":\"537989\",\"type\":\"BasicTickFormatter\"},{\"attributes\":{\"source\":{\"id\":\"537978\"}},\"id\":\"537983\",\"type\":\"CDSView\"},{\"attributes\":{},\"id\":\"537964\",\"type\":\"PanTool\"},{\"attributes\":{},\"id\":\"537987\",\"type\":\"AllLabels\"},{\"attributes\":{\"coordinates\":null,\"formatter\":{\"id\":\"537986\"},\"group\":null,\"major_label_policy\":{\"id\":\"537987\"},\"ticker\":{\"id\":\"537961\"}},\"id\":\"537960\",\"type\":\"LinearAxis\"},{\"attributes\":{\"fill_alpha\":{\"value\":0.5},\"fill_color\":{\"value\":\"orange\"},\"line_color\":{\"value\":\"navy\"},\"marker\":{\"value\":\"square\"},\"size\":{\"value\":15},\"x\":{\"field\":\"x\"},\"y\":{\"field\":\"y\"}},\"id\":\"537979\",\"type\":\"Scatter\"},{\"attributes\":{\"bottom_units\":\"screen\",\"coordinates\":null,\"fill_alpha\":0.5,\"fill_color\":\"lightgrey\",\"group\":null,\"left_units\":\"screen\",\"level\":\"overlay\",\"line_alpha\":1.0,\"line_color\":\"black\",\"line_dash\":[4,4],\"line_width\":2,\"right_units\":\"screen\",\"syncable\":false,\"top_units\":\"screen\"},\"id\":\"537970\",\"type\":\"BoxAnnotation\"},{\"attributes\":{},\"id\":\"537968\",\"type\":\"ResetTool\"},{\"attributes\":{\"axis_label\":\"Number of Lags\",\"coordinates\":null,\"formatter\":{\"id\":\"537989\"},\"group\":null,\"major_label_policy\":{\"id\":\"537990\"},\"ticker\":{\"id\":\"537957\"}},\"id\":\"537956\",\"type\":\"LinearAxis\"},{\"attributes\":{},\"id\":\"537991\",\"type\":\"UnionRenderers\"},{\"attributes\":{\"tools\":[{\"id\":\"537964\"},{\"id\":\"537965\"},{\"id\":\"537966\"},{\"id\":\"537967\"},{\"id\":\"537968\"},{\"id\":\"537969\"}]},\"id\":\"537971\",\"type\":\"Toolbar\"},{\"attributes\":{},\"id\":\"537992\",\"type\":\"Selection\"},{\"attributes\":{\"axis\":{\"id\":\"537956\"},\"coordinates\":null,\"group\":null,\"ticker\":null},\"id\":\"537959\",\"type\":\"Grid\"},{\"attributes\":{\"fill_alpha\":{\"value\":0.2},\"fill_color\":{\"value\":\"orange\"},\"hatch_alpha\":{\"value\":0.2},\"line_alpha\":{\"value\":0.2},\"line_color\":{\"value\":\"navy\"},\"marker\":{\"value\":\"square\"},\"size\":{\"value\":15},\"x\":{\"field\":\"x\"},\"y\":{\"field\":\"y\"}},\"id\":\"537981\",\"type\":\"Scatter\"},{\"attributes\":{},\"id\":\"537965\",\"type\":\"WheelZoomTool\"},{\"attributes\":{\"coordinates\":null,\"group\":null,\"items\":[{\"id\":\"537995\"}],\"location\":\"bottom_right\"},\"id\":\"537994\",\"type\":\"Legend\"},{\"attributes\":{\"label\":{\"value\":\"RMSE\"},\"renderers\":[{\"id\":\"537982\"}]},\"id\":\"537995\",\"type\":\"LegendItem\"},{\"attributes\":{\"coordinates\":null,\"data_source\":{\"id\":\"537978\"},\"glyph\":{\"id\":\"537979\"},\"group\":null,\"hover_glyph\":null,\"muted_glyph\":{\"id\":\"537981\"},\"nonselection_glyph\":{\"id\":\"537980\"},\"view\":{\"id\":\"537983\"}},\"id\":\"537982\",\"type\":\"GlyphRenderer\"},{\"attributes\":{},\"id\":\"537950\",\"type\":\"DataRange1d\"}],\"root_ids\":[\"537945\"]},\"title\":\"Bokeh Application\",\"version\":\"2.4.1\"}};\n",
       "  const render_items = [{\"docid\":\"2ddbd9b1-986a-4a64-b0b0-19df770f3529\",\"root_ids\":[\"537945\"],\"roots\":{\"537945\":\"ac62ac17-27a4-481c-aa14-760c15b36aec\"}}];\n",
       "  root.Bokeh.embed.embed_items_notebook(docs_json, render_items);\n",
       "\n",
       "  }\n",
       "  if (root.Bokeh !== undefined) {\n",
       "    embed_document(root);\n",
       "  } else {\n",
       "    let attempts = 0;\n",
       "    const timer = setInterval(function(root) {\n",
       "      if (root.Bokeh !== undefined) {\n",
       "        clearInterval(timer);\n",
       "        embed_document(root);\n",
       "      } else {\n",
       "        attempts++;\n",
       "        if (attempts > 100) {\n",
       "          clearInterval(timer);\n",
       "          console.log(\"Bokeh: ERROR: Unable to run BokehJS code because BokehJS library is missing\");\n",
       "        }\n",
       "      }\n",
       "    }, 10, root)\n",
       "  }\n",
       "})(window);"
      ],
      "application/vnd.bokehjs_exec.v0+json": ""
     },
     "metadata": {
      "application/vnd.bokehjs_exec.v0+json": {
       "id": "537945"
      }
     },
     "output_type": "display_data"
    }
   ],
   "source": [
    "# Plotting RMSE for a range of lags p with detrended data\n",
    "\n",
    "n = 2\n",
    "rmse_ar=[]\n",
    "\n",
    "cpi_diff_log = np.log(cpi.CPI).diff() # Detrending the data with differencing\n",
    "remaining = cpi_diff_log[0:cpi_train.shape[0]] # Taking only the training set\n",
    "remaining.iloc[0] = 0  \n",
    "\n",
    "remaining_test = cpi_diff_log[cpi_train.shape[0]:].dropna()\n",
    "remaining_test.iloc[0] = 0\n",
    "\n",
    "for n in range(1,8):\n",
    "    model = AutoReg(remaining, lags=n)\n",
    "    model_fit = model.fit()\n",
    "    coef = model_fit.params\n",
    "    past = remaining[len(remaining)-n:].values\n",
    "    past = [past[i] for i in range(len(past))]    \n",
    "    test_predictions = list()\n",
    "    \n",
    "    for t in range(len(remaining_test.dropna())):\n",
    "        length = len(past)\n",
    "        lag = [past[i] for i in range(length-n, length)]\n",
    "        pred = coef[0]\n",
    "        \n",
    "        for d in range(n):\n",
    "            pred += coef[d+1] * lag[n-d-1]\n",
    "        obs = remaining_test.values[t]\n",
    "        test_predictions.append(pred)\n",
    "        past.append(obs)\n",
    "    \n",
    "    rmse = (mean_squared_error(remaining_test.dropna(), test_predictions))**0.5\n",
    "    rmse_ar.append(rmse)\n",
    "    \n",
    "    print('Test RMSE for AR(' + str(n) +'):' + str(rmse))\n",
    "\n",
    "p = figure(plot_width=800, plot_height=600, title=\"RMSE of AR Models of order n\")\n",
    "p.scatter(np.arange(1,8), rmse_ar, size = 15, marker=\"square\", line_color=\"navy\", fill_color=\"orange\", fill_alpha=0.5, legend_label=\"RMSE\")\n",
    "p.xaxis.axis_label ='Number of Lags'\n",
    "#p.yaxis.axis_label ='RMSE'\n",
    "p.legend.location='bottom_right'\n",
    "show(p)"
   ]
  },
  {
   "cell_type": "markdown",
   "metadata": {},
   "source": [
    "The lowest RMSE comes with 2 lags which confirms the previous result."
   ]
  },
  {
   "cell_type": "markdown",
   "metadata": {},
   "source": [
    "Using the lag $p$ from the previous problem, fit an $\\text {AR}(p)$ model to the training data. Recall from the lecture the $\\text {AR}(p)$ model:\n",
    "\n",
    "$$X_{t}=\\phi _{1}X_{{t-1}}+\\ldots +\\phi _{p}X_{{t-p}}+\\varepsilon _{t}.$$\n",
    "\n",
    "<b> Report the coefficients $\\phi_1$ and $\\phi_2$. Plot the final predictions and the actual observed data together to visualize the fit.</b>"
   ]
  },
  {
   "cell_type": "code",
   "execution_count": 1459,
   "metadata": {},
   "outputs": [],
   "source": [
    "# Building and fitting the AR(2) model with linearly detrended fitting\n",
    "\n",
    "n = 2\n",
    "\n",
    "AR2_model = AutoReg(detrend, lags= n).fit()\n",
    "coef = AR2_model.params\n",
    "\n",
    "past = detrend[len(detrend)-n:].values\n",
    "past = [past[i] for i in range(len(past))]\n",
    "\n",
    "training_predictions = AR2_model.predict(start = cpi_train.index[0], end=cpi_train.index[-1])\n",
    "\n",
    "test_predictions = list()\n",
    "linear_fit_test = lr.predict(np.array(cpi_test.index).reshape(-1,1))\n",
    "detrend_test = cpi_test.CPI - linear_fit_test\n",
    "\n",
    "for t in range(len(detrend_test)):\n",
    "    length = len(past)\n",
    "    lag = [past[i] for i in range(length-n,length)]\n",
    "    pred = coef[0]\n",
    "    for d in range(n):\n",
    "        pred += coef[d+1] * lag[n-d-1]\n",
    "    obs = detrend_test.values[t]\n",
    "    test_predictions.append(pred)\n",
    "    past.append(obs)\n",
    "\n",
    "final_training = training_predictions + linear_fit\n",
    "final_test = test_predictions + linear_fit_test"
   ]
  },
  {
   "cell_type": "code",
   "execution_count": 1460,
   "metadata": {},
   "outputs": [
    {
     "name": "stdout",
     "output_type": "stream",
     "text": [
      "The AR(2) model X(t) = 1.323665527908049*X_t-1 -0.5307973982632423*X_t-2  -0.04310484527786574\n"
     ]
    }
   ],
   "source": [
    "# AR(2) model coefficients for linearly detrended data\n",
    "\n",
    "print(\"The AR(2) model X(t) = \" +str(coef[1])+\"*X_t-1 \" +str(coef[2])+\"*X_t-2 \", str(coef[0]) )"
   ]
  },
  {
   "cell_type": "code",
   "execution_count": 1461,
   "metadata": {},
   "outputs": [
    {
     "data": {
      "text/html": [
       "\n",
       "\n",
       "\n",
       "\n",
       "\n",
       "\n",
       "  <div class=\"bk-root\" id=\"e50d4467-cbb7-44e9-8325-c9318493e484\" data-root-id=\"541474\"></div>\n"
      ]
     },
     "metadata": {},
     "output_type": "display_data"
    },
    {
     "data": {
      "application/javascript": [
       "(function(root) {\n",
       "  function embed_document(root) {\n",
       "    \n",
       "  const docs_json = {\"f0387611-e7e2-40ce-bc7d-be5d09a39658\":{\"defs\":[],\"roots\":{\"references\":[{\"attributes\":{\"below\":[{\"id\":\"541485\"}],\"center\":[{\"id\":\"541488\"},{\"id\":\"541492\"},{\"id\":\"541523\"}],\"left\":[{\"id\":\"541489\"}],\"renderers\":[{\"id\":\"541511\"},{\"id\":\"541529\"},{\"id\":\"541548\"},{\"id\":\"541569\"}],\"title\":{\"id\":\"541475\"},\"toolbar\":{\"id\":\"541500\"},\"width\":800,\"x_range\":{\"id\":\"541477\"},\"x_scale\":{\"id\":\"541481\"},\"y_range\":{\"id\":\"541479\"},\"y_scale\":{\"id\":\"541483\"}},\"id\":\"541474\",\"subtype\":\"Figure\",\"type\":\"Plot\"},{\"attributes\":{\"line_alpha\":0.1,\"line_dash\":[6],\"line_width\":2.5,\"x\":{\"field\":\"x\"},\"y\":{\"field\":\"y\"}},\"id\":\"541509\",\"type\":\"Line\"},{\"attributes\":{\"bottom_units\":\"screen\",\"coordinates\":null,\"fill_alpha\":0.5,\"fill_color\":\"lightgrey\",\"group\":null,\"left_units\":\"screen\",\"level\":\"overlay\",\"line_alpha\":1.0,\"line_color\":\"black\",\"line_dash\":[4,4],\"line_width\":2,\"right_units\":\"screen\",\"syncable\":false,\"top_units\":\"screen\"},\"id\":\"541499\",\"type\":\"BoxAnnotation\"},{\"attributes\":{\"line_alpha\":0.2,\"line_color\":\"green\",\"line_dash\":[6],\"line_width\":2.5,\"x\":{\"field\":\"x\"},\"y\":{\"field\":\"y\"}},\"id\":\"541528\",\"type\":\"Line\"},{\"attributes\":{},\"id\":\"541496\",\"type\":\"SaveTool\"},{\"attributes\":{\"axis\":{\"id\":\"541489\"},\"coordinates\":null,\"dimension\":1,\"group\":null,\"ticker\":null},\"id\":\"541492\",\"type\":\"Grid\"},{\"attributes\":{\"ticks\":[0,35,70,105,140]},\"id\":\"541588\",\"type\":\"FixedTicker\"},{\"attributes\":{\"data\":{\"x\":[0,1,2,3,4,5,6,7,8,9,10,11,12,13,14,15,16,17,18,19,20,21,22,23,24,25,26,27,28,29,30,31,32,33,34,35,36,37,38,39,40,41,42,43,44,45,46,47,48,49,50,51,52,53,54,55,56,57,58,59,60,61],\"y\":{\"__ndarray__\":\"AAAAAAAA+H8AAAAAAAD4f20xsZhWBVlAU3vUk6PTWEBKC9sirtdYQB/Jl9r0iFhA3hYDyc8MWEAD2caGSfpXQEELIGH0QVhA0nGWmYheWEAp3nleWGRYQKKJj9UGc1hAy8jnQ8SEWED9Au8kdcRYQN0KYwvVnFhAPowXBfq2WEAqL9vx1rZYQND1WnPuvlhA6EB2acLDWEAmxdkLxbRYQJObJhZk2VhAIPB9vyjSWEC8AO2V6fVYQDF1r0fd+FhAHeSdIqz7WED2kwDj7/JYQDVGPlEp+lhAydIBHzwHWUANVb8NnQlZQGkPYLtOFFlAP5A958cVWUCUutlfDCVZQC26tffCSVlA5f0UlLtlWUCWrhGljapZQIwYXe3kwllAjLRjYajXWUBxV3ip/r9ZQAxXFjehzVlAJTGdJMfkWUBxGc3vjupZQFyI44U71VlAQMFY+jzXWUB+PsqLvMZZQH2oTjv691lA1594qFURWkAcWAyw6kZaQD0Nl2wJSVpAHHurkvU1WkDt+OJ3PS9aQCDvTvggKFpALA4HuG5hWkCHsTxEkndaQC8/ZKJBZlpAnATteFs/WkBv8SQ1gjpaQGpvZe6NYFpApgxN4CmhWkDiKl7FhJ1aQJkxzEncjFpALPDk0seiWkCenpb3IbRaQA==\",\"dtype\":\"float64\",\"order\":\"little\",\"shape\":[62]}},\"selected\":{\"id\":\"541562\"},\"selection_policy\":{\"id\":\"541561\"}},\"id\":\"541544\",\"type\":\"ColumnDataSource\"},{\"attributes\":{\"line_alpha\":0.1,\"line_color\":\"orange\",\"line_width\":2.5,\"x\":{\"field\":\"x\"},\"y\":{\"field\":\"y\"}},\"id\":\"541567\",\"type\":\"Line\"},{\"attributes\":{\"coordinates\":null,\"data_source\":{\"id\":\"541565\"},\"glyph\":{\"id\":\"541566\"},\"group\":null,\"hover_glyph\":null,\"muted_glyph\":{\"id\":\"541568\"},\"nonselection_glyph\":{\"id\":\"541567\"},\"view\":{\"id\":\"541570\"}},\"id\":\"541569\",\"type\":\"GlyphRenderer\"},{\"attributes\":{\"coordinates\":null,\"group\":null,\"items\":[{\"id\":\"541524\"},{\"id\":\"541543\"},{\"id\":\"541564\"},{\"id\":\"541587\"}],\"location\":\"bottom_right\"},\"id\":\"541523\",\"type\":\"Legend\"},{\"attributes\":{},\"id\":\"541541\",\"type\":\"Selection\"},{\"attributes\":{\"data\":{\"x\":[62,63,64,65,66,67,68,69,70,71,72,73,74,75,76,77,78,79,80,81,82,83,84,85,86,87,88,89,90,91,92,93,94,95,96,97,98,99,100,101,102,103,104,105,106,107,108,109,110,111,112,113,114,115,116,117,118,119,120,121,122,123,124,125,126,127,128,129,130,131,132,133,134,135,136],\"y\":{\"__ndarray__\":\"bh/niCexWkDEQkCJvLxaQMtnFhsKxVpA2iLMuZqrWkBGxQRHoqRaQBtkhU5nrVpAAlutVWnRWkAfgmAek+daQL3qeY7RFltAiMtySqMfW0BZVhQrvDVbQKrUnIIrPFtAzIUzSNMzW0BPsOaO/idbQDEoufs8N1tARI6KFnEfW0BHDogDOvlaQP6NrKFt21pA4i2msZHHWkBqnyJlJgJbQM3ogY2eKltAGU0ZbKYpW0ANb0eWBFNbQK0kC6SuYltA9p3PsIBYW0BpYFYZTU1bQEIThU9TRltAUORfahNKW0BHr2o4cDpbQPc7CmX2JFtATFP0MtRCW0CH+0rzcEZbQD/Y57sTbVtAhLZA5BKLW0CHDYpHKKFbQOyjmr7PsltADEYdgJeZW0D0wcoBV6pbQKRrS4p1v1tAd9hBEkPEW0D1+XIhK7NbQIOXlKAyvltAt6PI55P1W0B2WZVvcf9bQHr+oKZi/VtAu4amf28YXEB9hEPGbxdcQBXz5//sHlxAZ9b+lhIXXECK0S1yMzhcQOrBibFJYVxAKOW+dzVJXEDp84m+/U1cQEgt1PFqSlxAlz6Yfs2CXEBlw4mimptcQHwO5sUVolxAHnPbWuHBXEB8XnsJ9dxcQDUTvXZx3lxAM4fu5ADbXED4aGFrTOJcQGghZz6a7VxAx84nQ3b8XEAEMHGK4NZcQHL00OP+xlxA/VudKCzoXEB9MIcwDwxdQI4rs8/iNF1AOxU/k/9UXUCo1WhVS1ddQEY/fDH1Ul1ABg10Dd9kXUAsRWtn2l9dQAAAAAAAAPh/\",\"dtype\":\"float64\",\"order\":\"little\",\"shape\":[75]}},\"selected\":{\"id\":\"541585\"},\"selection_policy\":{\"id\":\"541584\"}},\"id\":\"541565\",\"type\":\"ColumnDataSource\"},{\"attributes\":{\"axis\":{\"id\":\"541485\"},\"coordinates\":null,\"group\":null,\"ticker\":null},\"id\":\"541488\",\"type\":\"Grid\"},{\"attributes\":{},\"id\":\"541540\",\"type\":\"UnionRenderers\"},{\"attributes\":{\"line_dash\":[6],\"line_width\":2.5,\"x\":{\"field\":\"x\"},\"y\":{\"field\":\"y\"}},\"id\":\"541508\",\"type\":\"Line\"},{\"attributes\":{\"coordinates\":null,\"data_source\":{\"id\":\"541507\"},\"glyph\":{\"id\":\"541508\"},\"group\":null,\"hover_glyph\":null,\"muted_glyph\":{\"id\":\"541510\"},\"nonselection_glyph\":{\"id\":\"541509\"},\"view\":{\"id\":\"541512\"}},\"id\":\"541511\",\"type\":\"GlyphRenderer\"},{\"attributes\":{\"tools\":[{\"id\":\"541493\"},{\"id\":\"541494\"},{\"id\":\"541495\"},{\"id\":\"541496\"},{\"id\":\"541497\"},{\"id\":\"541498\"}]},\"id\":\"541500\",\"type\":\"Toolbar\"},{\"attributes\":{\"label\":{\"value\":\"Final AR(2) Model (Training Data Fit)\"},\"renderers\":[{\"id\":\"541548\"}]},\"id\":\"541564\",\"type\":\"LegendItem\"},{\"attributes\":{\"source\":{\"id\":\"541544\"}},\"id\":\"541549\",\"type\":\"CDSView\"},{\"attributes\":{\"line_color\":\"orange\",\"line_width\":2.5,\"x\":{\"field\":\"x\"},\"y\":{\"field\":\"y\"}},\"id\":\"541566\",\"type\":\"Line\"},{\"attributes\":{},\"id\":\"541479\",\"type\":\"DataRange1d\"},{\"attributes\":{},\"id\":\"541490\",\"type\":\"BasicTicker\"},{\"attributes\":{\"line_alpha\":0.1,\"line_color\":\"red\",\"line_width\":2.5,\"x\":{\"field\":\"x\"},\"y\":{\"field\":\"y\"}},\"id\":\"541546\",\"type\":\"Line\"},{\"attributes\":{},\"id\":\"541481\",\"type\":\"LinearScale\"},{\"attributes\":{\"data\":{\"x\":[0,1,2,3,4,5,6,7,8,9,10,11,12,13,14,15,16,17,18,19,20,21,22,23,24,25,26,27,28,29,30,31,32,33,34,35,36,37,38,39,40,41,42,43,44,45,46,47,48,49,50,51,52,53,54,55,56,57,58,59,60,61],\"y\":{\"__ndarray__\":\"AAAAAAAAWUBLyAc9myFZQKvP1VbsB1lAe4hGdxD/WEActi3KbL5YQKWg20saRVhAl6jeGtgEWEBLyAc9mx9YQE6c3O9QPlhA1ouhnGhNWEDw+WGE8FxYQNBE2PD0blhAcVrwoq+kWEAYQznRrppYQOl942vPqFhAWwhyUMKsWEB00vvG17JYQOi8xi5Rt1hA48KBkCysWEDkvWplwsFYQEX11sBWw1hArHMMyF7dWEA/jBAebehYQHYyOEpe7VhAd6G5TiPnWECRm+EGfOhYQMjqVs9J8VhA0GG+vAD1WEAFhqxu9fxYQPLNNjem/1hAe4MvTKYKWUB3vp8aLylZQMX+snvySFlA8tJNYhCIWUBSSZ2AJrJZQHBfB84Z0VlAbqMBvAXKWUAdWmQ7389ZQBKlvcEX4llAqmBUUifsWUBYObTIdt5ZQCL99nXg2FlAat5xio7IWUCamZmZmeVZQMKGp1fKAlpA6Nms+lw1WkASg8DKoUlaQC9uowG8QVpAzojS3uA3WkAU0ETY8CxaQFioNc07UlpAo5I6AU1wWkCLbOf7qW1aQEvIBz2bTVpADwu1pnk7WkDIBz2bVU9aQNEi2/l+hlpAFR3J5T+YWkATYcPTK5FaQOF6FK5HnVpAEoPAyqGtWkBqTfOOU7BaQA==\",\"dtype\":\"float64\",\"order\":\"little\",\"shape\":[62]}},\"selected\":{\"id\":\"541521\"},\"selection_policy\":{\"id\":\"541520\"}},\"id\":\"541507\",\"type\":\"ColumnDataSource\"},{\"attributes\":{},\"id\":\"541585\",\"type\":\"Selection\"},{\"attributes\":{\"line_alpha\":0.2,\"line_color\":\"red\",\"line_width\":2.5,\"x\":{\"field\":\"x\"},\"y\":{\"field\":\"y\"}},\"id\":\"541547\",\"type\":\"Line\"},{\"attributes\":{},\"id\":\"541493\",\"type\":\"PanTool\"},{\"attributes\":{\"label\":{\"value\":\"Training Data\"},\"renderers\":[{\"id\":\"541511\"}]},\"id\":\"541524\",\"type\":\"LegendItem\"},{\"attributes\":{},\"id\":\"541521\",\"type\":\"Selection\"},{\"attributes\":{},\"id\":\"541494\",\"type\":\"WheelZoomTool\"},{\"attributes\":{},\"id\":\"541562\",\"type\":\"Selection\"},{\"attributes\":{\"coordinates\":null,\"data_source\":{\"id\":\"541525\"},\"glyph\":{\"id\":\"541526\"},\"group\":null,\"hover_glyph\":null,\"muted_glyph\":{\"id\":\"541528\"},\"nonselection_glyph\":{\"id\":\"541527\"},\"view\":{\"id\":\"541530\"}},\"id\":\"541529\",\"type\":\"GlyphRenderer\"},{\"attributes\":{},\"id\":\"541516\",\"type\":\"AllLabels\"},{\"attributes\":{\"source\":{\"id\":\"541565\"}},\"id\":\"541570\",\"type\":\"CDSView\"},{\"attributes\":{},\"id\":\"541483\",\"type\":\"LinearScale\"},{\"attributes\":{\"overlay\":{\"id\":\"541499\"}},\"id\":\"541495\",\"type\":\"BoxZoomTool\"},{\"attributes\":{},\"id\":\"541477\",\"type\":\"DataRange1d\"},{\"attributes\":{\"data\":{\"x\":[62,63,64,65,66,67,68,69,70,71,72,73,74,75,76,77,78,79,80,81,82,83,84,85,86,87,88,89,90,91,92,93,94,95,96,97,98,99,100,101,102,103,104,105,106,107,108,109,110,111,112,113,114,115,116,117,118,119,120,121,122,123,124,125,126,127,128,129,130,131,132,133,134,135,136],\"y\":{\"__ndarray__\":\"BoGVQ4u4WkAqOpLLf8BaQGaIY13crlpAm+Ydp+igWkBqTfOOU6BaQKH4MeauuVpAl/+QfvvSWkDlYaHWNP9aQPW52or9FVtAke18PzUuW0C6SQwCKztbQJzEILByOFtAf/s6cM4sW0CDL0ymCjJbQLivA+eMIFtAOwFNhA37WkAy5q4l5NNaQHrHKTqSs1pAGsBbIEHRWkDZX3ZPHvpaQFyPwvUoCFtAM8SxLm4rW0DHKTqSy0NbQHh6pSxDRFtAn6ut2F86W0CdgCbChi9bQA5Pr5RlLFtAGeJYF7cdW0D1udqK/QVbQNqs+lxtEVtAkDF3LSEXW0CiRbbz/TRbQLx0kxgEVltAw2SqYFRyW0DFILByaIlbQKfoSC7/fVtA/yH99nWEW0Bhw9MrZZVbQOC+DpwznltA5WGh1jSTW0CTOgFNhJVbQJEPejarvltAt9EA3gLVW0Am5IOezdpbQHKKjuTy71tAmbuWkA/2W0Bq3nGKjvxbQFYOLbKd91tA4umVsgwNXEBQjZduEjNcQOauJeSDLlxAppvEILAuXEBDrWnecSpcQH0/NV66UVxAnzws1JpyXEBQjZduEoNcQAdfmEwVoFxAw/UoXI++XECYTBWMSspcQBBYObTIylxAexSuR+HOXEBIUPwYc9dcQCo6kst/5FxAJCh+jLnLXEBxGw3gLbRcQHxhMlUwwlxAqDXNO07hXEAQ6bevAwtdQAMJih9jMl1ASnuDL0xCXUAW+8vuyUNdQFXBqKROUF1Aq8/VVuxPXUAAAAAAAAD4fwAAAAAAAPh/\",\"dtype\":\"float64\",\"order\":\"little\",\"shape\":[75]}},\"selected\":{\"id\":\"541541\"},\"selection_policy\":{\"id\":\"541540\"}},\"id\":\"541525\",\"type\":\"ColumnDataSource\"},{\"attributes\":{},\"id\":\"541515\",\"type\":\"BasicTickFormatter\"},{\"attributes\":{},\"id\":\"541520\",\"type\":\"UnionRenderers\"},{\"attributes\":{\"coordinates\":null,\"data_source\":{\"id\":\"541544\"},\"glyph\":{\"id\":\"541545\"},\"group\":null,\"hover_glyph\":null,\"muted_glyph\":{\"id\":\"541547\"},\"nonselection_glyph\":{\"id\":\"541546\"},\"view\":{\"id\":\"541549\"}},\"id\":\"541548\",\"type\":\"GlyphRenderer\"},{\"attributes\":{\"source\":{\"id\":\"541507\"}},\"id\":\"541512\",\"type\":\"CDSView\"},{\"attributes\":{\"coordinates\":null,\"group\":null,\"text\":\"CPI predictions\"},\"id\":\"541475\",\"type\":\"Title\"},{\"attributes\":{},\"id\":\"541584\",\"type\":\"UnionRenderers\"},{\"attributes\":{},\"id\":\"541497\",\"type\":\"ResetTool\"},{\"attributes\":{\"label\":{\"value\":\"Final AR(2) Model Predictions\"},\"renderers\":[{\"id\":\"541569\"}]},\"id\":\"541587\",\"type\":\"LegendItem\"},{\"attributes\":{\"line_color\":\"red\",\"line_width\":2.5,\"x\":{\"field\":\"x\"},\"y\":{\"field\":\"y\"}},\"id\":\"541545\",\"type\":\"Line\"},{\"attributes\":{\"line_color\":\"green\",\"line_dash\":[6],\"line_width\":2.5,\"x\":{\"field\":\"x\"},\"y\":{\"field\":\"y\"}},\"id\":\"541526\",\"type\":\"Line\"},{\"attributes\":{\"line_alpha\":0.2,\"line_color\":\"orange\",\"line_width\":2.5,\"x\":{\"field\":\"x\"},\"y\":{\"field\":\"y\"}},\"id\":\"541568\",\"type\":\"Line\"},{\"attributes\":{\"label\":{\"value\":\"Test Data\"},\"renderers\":[{\"id\":\"541529\"}]},\"id\":\"541543\",\"type\":\"LegendItem\"},{\"attributes\":{},\"id\":\"541519\",\"type\":\"AllLabels\"},{\"attributes\":{},\"id\":\"541561\",\"type\":\"UnionRenderers\"},{\"attributes\":{\"line_alpha\":0.2,\"line_dash\":[6],\"line_width\":2.5,\"x\":{\"field\":\"x\"},\"y\":{\"field\":\"y\"}},\"id\":\"541510\",\"type\":\"Line\"},{\"attributes\":{},\"id\":\"541498\",\"type\":\"HelpTool\"},{\"attributes\":{\"axis_label\":\"Time\",\"coordinates\":null,\"formatter\":{\"id\":\"541518\"},\"group\":null,\"major_label_overrides\":{\"0\":\"2008\",\"105\":\"2017\",\"140\":\"2020\",\"35\":\"2011\",\"70\":\"2014\"},\"major_label_policy\":{\"id\":\"541519\"},\"ticker\":{\"id\":\"541588\"}},\"id\":\"541485\",\"type\":\"LinearAxis\"},{\"attributes\":{\"line_alpha\":0.1,\"line_color\":\"green\",\"line_dash\":[6],\"line_width\":2.5,\"x\":{\"field\":\"x\"},\"y\":{\"field\":\"y\"}},\"id\":\"541527\",\"type\":\"Line\"},{\"attributes\":{\"source\":{\"id\":\"541525\"}},\"id\":\"541530\",\"type\":\"CDSView\"},{\"attributes\":{},\"id\":\"541518\",\"type\":\"BasicTickFormatter\"},{\"attributes\":{\"axis_label\":\"CPI\",\"coordinates\":null,\"formatter\":{\"id\":\"541515\"},\"group\":null,\"major_label_policy\":{\"id\":\"541516\"},\"ticker\":{\"id\":\"541490\"}},\"id\":\"541489\",\"type\":\"LinearAxis\"}],\"root_ids\":[\"541474\"]},\"title\":\"Bokeh Application\",\"version\":\"2.4.1\"}};\n",
       "  const render_items = [{\"docid\":\"f0387611-e7e2-40ce-bc7d-be5d09a39658\",\"root_ids\":[\"541474\"],\"roots\":{\"541474\":\"e50d4467-cbb7-44e9-8325-c9318493e484\"}}];\n",
       "  root.Bokeh.embed.embed_items_notebook(docs_json, render_items);\n",
       "\n",
       "  }\n",
       "  if (root.Bokeh !== undefined) {\n",
       "    embed_document(root);\n",
       "  } else {\n",
       "    let attempts = 0;\n",
       "    const timer = setInterval(function(root) {\n",
       "      if (root.Bokeh !== undefined) {\n",
       "        clearInterval(timer);\n",
       "        embed_document(root);\n",
       "      } else {\n",
       "        attempts++;\n",
       "        if (attempts > 100) {\n",
       "          clearInterval(timer);\n",
       "          console.log(\"Bokeh: ERROR: Unable to run BokehJS code because BokehJS library is missing\");\n",
       "        }\n",
       "      }\n",
       "    }, 10, root)\n",
       "  }\n",
       "})(window);"
      ],
      "application/vnd.bokehjs_exec.v0+json": ""
     },
     "metadata": {
      "application/vnd.bokehjs_exec.v0+json": {
       "id": "541474"
      }
     },
     "output_type": "display_data"
    }
   ],
   "source": [
    "# Plotting the AR2 linearly detrended model\n",
    "\n",
    "p = figure(plot_width=800, plot_height=600, title = \"CPI predictions\")\n",
    "p.line(cpi_train.index, cpi_train.CPI, line_width =2.5, line_color=\"black\", line_dash=\"dashed\", legend_label=\"Training Data\")\n",
    "p.line(cpi_test.index, cpi_test.CPI, line_width =2.5, line_color=\"green\", line_dash=\"dashed\", legend_label=\"Test Data\")\n",
    "p.line(cpi_train.index, final_training, line_color=\"red\", line_width=2.5, legend_label=\"Final AR(2) Model (Training Data Fit)\")\n",
    "p.line(cpi_test.index, final_test, line_color=\"orange\", line_width=2.5, legend_label=\"Final AR(2) Model Predictions\")\n",
    "p.xaxis.ticker = [0, 35, 70, 105, 140]\n",
    "p.xaxis.major_label_overrides = {0: '2008', 35: '2011', 70: '2014', 105: '2017', 140: '2020'}\n",
    "p.legend.location = \"bottom_right\"\n",
    "p.xaxis.axis_label ='Time'\n",
    "p.yaxis.axis_label ='CPI'\n",
    "\n",
    "show(p)"
   ]
  },
  {
   "cell_type": "code",
   "execution_count": 1462,
   "metadata": {},
   "outputs": [
    {
     "name": "stdout",
     "output_type": "stream",
     "text": [
      "The RMSE of the final fit is 0.39328060138088855\n"
     ]
    }
   ],
   "source": [
    "# Calculating Mean Squared Error for the AR(2) model\n",
    "\n",
    "rmse = mean_squared_error(cpi_test.CPI.dropna(), final_test[:-2])**0.5\n",
    "print(\"The RMSE of the final fit is \" + str(rmse))"
   ]
  },
  {
   "cell_type": "code",
   "execution_count": 1463,
   "metadata": {},
   "outputs": [
    {
     "data": {
      "image/png": "[encoded data removed]",
      "text/plain": [
       "<Figure size 576x396 with 1 Axes>"
      ]
     },
     "metadata": {},
     "output_type": "display_data"
    }
   ],
   "source": [
    "# Checking autocorrelation of residuals\n",
    "\n",
    "residuals = (detrend - training_predictions)[2:]\n",
    "plot_pacf(residuals, zero=False)\n",
    "plt.show()"
   ]
  },
  {
   "cell_type": "markdown",
   "metadata": {},
   "source": [
    "As we can see from the plot and the low score of RMSE, we get quite good results by substracting the linear trend from the data and using an AR model with 2 lags for predicting future values. The residuals also show no autocorrelation although one of the lags manages to reach out from the statistically significant threshold."
   ]
  },
  {
   "cell_type": "code",
   "execution_count": 1464,
   "metadata": {},
   "outputs": [],
   "source": [
    "# Building AR(2) model with logarithmic differencing\n",
    "\n",
    "\n",
    "def rebuild_diffed(series, first_element_original):\n",
    "    cumsum = pd.Series(series).cumsum()\n",
    "    final = np.exp(cumsum.fillna(0) + first_element_original)\n",
    "    if first_element_original == 0:\n",
    "            final = np.exp(cumsum.fillna(0))\n",
    "    return final\n",
    "\n",
    "\n",
    "n = 2\n",
    "\n",
    "AR2_model = AutoReg(remaining, lags= n).fit()\n",
    "coef = AR2_model.params\n",
    "\n",
    "past = remaining[len(remaining)-n:].values\n",
    "past = [past[i] for i in range(len(past))]\n",
    "\n",
    "training_predictions = AR2_model.predict(start = cpi_train.index[0], end=cpi_train.index[-1])\n",
    "\n",
    "test_predictions = list()\n",
    "cpi_diff_log = np.log(cpi.CPI).diff()\n",
    "remaining_test = cpi_diff_log[cpi_train.shape[0]:].dropna()\n",
    "remaining_test.iloc[0] = 0\n",
    "\n",
    "for t in range(len(remaining_test)):\n",
    "    length = len(past)\n",
    "    lag = [past[i] for i in range(length-n, length)]\n",
    "    pred = coef[0]\n",
    "    for d in range(n):\n",
    "        pred += coef[d+1] * lag[n-d-1]\n",
    "    obs = remaining_test.values[t]\n",
    "    test_predictions.append(pred)\n",
    "    past.append(obs)\n",
    "\n",
    "final_training = (rebuild_diffed(training_predictions, np.log(cpi_train.CPI[0])))\n",
    "final_test = (rebuild_diffed(test_predictions ,np.log(cpi_train.iloc[-1].CPI)))"
   ]
  },
  {
   "cell_type": "code",
   "execution_count": 1465,
   "metadata": {},
   "outputs": [
    {
     "name": "stdout",
     "output_type": "stream",
     "text": [
      "The AR(2) model X(t) = 0.6322745148155536*X_t-1 -0.22223215714534927*X_t-2 + 0.0005492609233792831\n"
     ]
    }
   ],
   "source": [
    "#  AR(2) model coefficients for logarithmic differenced data\n",
    "\n",
    "print(\"The AR(2) model X(t) = \" +str(coef[1])+\"*X_t-1 \" +str(coef[2])+\"*X_t-2 +\", str(coef[0]) )"
   ]
  },
  {
   "cell_type": "code",
   "execution_count": 1466,
   "metadata": {},
   "outputs": [
    {
     "data": {
      "text/html": [
       "\n",
       "\n",
       "\n",
       "\n",
       "\n",
       "\n",
       "  <div class=\"bk-root\" id=\"8281e4c4-e23f-4208-b129-c572a651fc02\" data-root-id=\"545108\"></div>\n"
      ]
     },
     "metadata": {},
     "output_type": "display_data"
    },
    {
     "data": {
      "application/javascript": [
       "(function(root) {\n",
       "  function embed_document(root) {\n",
       "    \n",
       "  const docs_json = {\"daa0d967-48e5-4689-82f5-4da8fbd9dd2e\":{\"defs\":[],\"roots\":{\"references\":[{\"attributes\":{\"below\":[{\"id\":\"545119\"}],\"center\":[{\"id\":\"545122\"},{\"id\":\"545126\"},{\"id\":\"545157\"}],\"left\":[{\"id\":\"545123\"}],\"renderers\":[{\"id\":\"545145\"},{\"id\":\"545163\"},{\"id\":\"545182\"},{\"id\":\"545203\"}],\"title\":{\"id\":\"545109\"},\"toolbar\":{\"id\":\"545134\"},\"width\":800,\"x_range\":{\"id\":\"545111\"},\"x_scale\":{\"id\":\"545115\"},\"y_range\":{\"id\":\"545113\"},\"y_scale\":{\"id\":\"545117\"}},\"id\":\"545108\",\"subtype\":\"Figure\",\"type\":\"Plot\"},{\"attributes\":{},\"id\":\"545115\",\"type\":\"LinearScale\"},{\"attributes\":{\"coordinates\":null,\"data_source\":{\"id\":\"545159\"},\"glyph\":{\"id\":\"545160\"},\"group\":null,\"hover_glyph\":null,\"muted_glyph\":{\"id\":\"545162\"},\"nonselection_glyph\":{\"id\":\"545161\"},\"view\":{\"id\":\"545164\"}},\"id\":\"545163\",\"type\":\"GlyphRenderer\"},{\"attributes\":{\"axis\":{\"id\":\"545119\"},\"coordinates\":null,\"group\":null,\"ticker\":null},\"id\":\"545122\",\"type\":\"Grid\"},{\"attributes\":{\"line_color\":\"orange\",\"line_width\":2.5,\"x\":{\"field\":\"x\"},\"y\":{\"field\":\"y\"}},\"id\":\"545200\",\"type\":\"Line\"},{\"attributes\":{\"line_alpha\":0.2,\"line_color\":\"orange\",\"line_width\":2.5,\"x\":{\"field\":\"x\"},\"y\":{\"field\":\"y\"}},\"id\":\"545202\",\"type\":\"Line\"},{\"attributes\":{\"line_dash\":[6],\"line_width\":2.5,\"x\":{\"field\":\"x\"},\"y\":{\"field\":\"y\"}},\"id\":\"545142\",\"type\":\"Line\"},{\"attributes\":{\"label\":{\"value\":\"Final AR(2) Model Predictions\"},\"renderers\":[{\"id\":\"545203\"}]},\"id\":\"545221\",\"type\":\"LegendItem\"},{\"attributes\":{},\"id\":\"545111\",\"type\":\"DataRange1d\"},{\"attributes\":{\"line_alpha\":0.1,\"line_color\":\"red\",\"line_width\":2.5,\"x\":{\"field\":\"x\"},\"y\":{\"field\":\"y\"}},\"id\":\"545180\",\"type\":\"Line\"},{\"attributes\":{\"line_alpha\":0.1,\"line_dash\":[6],\"line_width\":2.5,\"x\":{\"field\":\"x\"},\"y\":{\"field\":\"y\"}},\"id\":\"545143\",\"type\":\"Line\"},{\"attributes\":{\"source\":{\"id\":\"545159\"}},\"id\":\"545164\",\"type\":\"CDSView\"},{\"attributes\":{\"source\":{\"id\":\"545178\"}},\"id\":\"545183\",\"type\":\"CDSView\"},{\"attributes\":{},\"id\":\"545128\",\"type\":\"WheelZoomTool\"},{\"attributes\":{},\"id\":\"545152\",\"type\":\"BasicTickFormatter\"},{\"attributes\":{\"source\":{\"id\":\"545141\"}},\"id\":\"545146\",\"type\":\"CDSView\"},{\"attributes\":{},\"id\":\"545174\",\"type\":\"UnionRenderers\"},{\"attributes\":{\"overlay\":{\"id\":\"545133\"}},\"id\":\"545129\",\"type\":\"BoxZoomTool\"},{\"attributes\":{\"line_color\":\"red\",\"line_width\":2.5,\"x\":{\"field\":\"x\"},\"y\":{\"field\":\"y\"}},\"id\":\"545179\",\"type\":\"Line\"},{\"attributes\":{},\"id\":\"545127\",\"type\":\"PanTool\"},{\"attributes\":{\"label\":{\"value\":\"Test Data\"},\"renderers\":[{\"id\":\"545163\"}]},\"id\":\"545177\",\"type\":\"LegendItem\"},{\"attributes\":{\"coordinates\":null,\"group\":null,\"items\":[{\"id\":\"545158\"},{\"id\":\"545177\"},{\"id\":\"545198\"},{\"id\":\"545221\"}],\"location\":\"bottom_right\"},\"id\":\"545157\",\"type\":\"Legend\"},{\"attributes\":{\"coordinates\":null,\"data_source\":{\"id\":\"545178\"},\"glyph\":{\"id\":\"545179\"},\"group\":null,\"hover_glyph\":null,\"muted_glyph\":{\"id\":\"545181\"},\"nonselection_glyph\":{\"id\":\"545180\"},\"view\":{\"id\":\"545183\"}},\"id\":\"545182\",\"type\":\"GlyphRenderer\"},{\"attributes\":{},\"id\":\"545175\",\"type\":\"Selection\"},{\"attributes\":{},\"id\":\"545218\",\"type\":\"UnionRenderers\"},{\"attributes\":{},\"id\":\"545196\",\"type\":\"Selection\"},{\"attributes\":{\"data\":{\"x\":[62,63,64,65,66,67,68,69,70,71,72,73,74,75,76,77,78,79,80,81,82,83,84,85,86,87,88,89,90,91,92,93,94,95,96,97,98,99,100,101,102,103,104,105,106,107,108,109,110,111,112,113,114,115,116,117,118,119,120,121,122,123,124,125,126,127,128,129,130,131,132,133,134,135,136],\"y\":{\"__ndarray__\":\"BoGVQ4u4WkAqOpLLf8BaQGaIY13crlpAm+Ydp+igWkBqTfOOU6BaQKH4MeauuVpAl/+QfvvSWkDlYaHWNP9aQPW52or9FVtAke18PzUuW0C6SQwCKztbQJzEILByOFtAf/s6cM4sW0CDL0ymCjJbQLivA+eMIFtAOwFNhA37WkAy5q4l5NNaQHrHKTqSs1pAGsBbIEHRWkDZX3ZPHvpaQFyPwvUoCFtAM8SxLm4rW0DHKTqSy0NbQHh6pSxDRFtAn6ut2F86W0CdgCbChi9bQA5Pr5RlLFtAGeJYF7cdW0D1udqK/QVbQNqs+lxtEVtAkDF3LSEXW0CiRbbz/TRbQLx0kxgEVltAw2SqYFRyW0DFILByaIlbQKfoSC7/fVtA/yH99nWEW0Bhw9MrZZVbQOC+DpwznltA5WGh1jSTW0CTOgFNhJVbQJEPejarvltAt9EA3gLVW0Am5IOezdpbQHKKjuTy71tAmbuWkA/2W0Bq3nGKjvxbQFYOLbKd91tA4umVsgwNXEBQjZduEjNcQOauJeSDLlxAppvEILAuXEBDrWnecSpcQH0/NV66UVxAnzws1JpyXEBQjZduEoNcQAdfmEwVoFxAw/UoXI++XECYTBWMSspcQBBYObTIylxAexSuR+HOXEBIUPwYc9dcQCo6kst/5FxAJCh+jLnLXEBxGw3gLbRcQHxhMlUwwlxAqDXNO07hXEAQ6bevAwtdQAMJih9jMl1ASnuDL0xCXUAW+8vuyUNdQFXBqKROUF1Aq8/VVuxPXUAAAAAAAAD4fwAAAAAAAPh/\",\"dtype\":\"float64\",\"order\":\"little\",\"shape\":[75]}},\"selected\":{\"id\":\"545175\"},\"selection_policy\":{\"id\":\"545174\"}},\"id\":\"545159\",\"type\":\"ColumnDataSource\"},{\"attributes\":{\"line_alpha\":0.1,\"line_color\":\"green\",\"line_dash\":[6],\"line_width\":2.5,\"x\":{\"field\":\"x\"},\"y\":{\"field\":\"y\"}},\"id\":\"545161\",\"type\":\"Line\"},{\"attributes\":{},\"id\":\"545153\",\"type\":\"AllLabels\"},{\"attributes\":{\"line_alpha\":0.2,\"line_dash\":[6],\"line_width\":2.5,\"x\":{\"field\":\"x\"},\"y\":{\"field\":\"y\"}},\"id\":\"545144\",\"type\":\"Line\"},{\"attributes\":{\"axis_label\":\"Time\",\"coordinates\":null,\"formatter\":{\"id\":\"545152\"},\"group\":null,\"major_label_overrides\":{\"0\":\"2008\",\"105\":\"2017\",\"140\":\"2020\",\"35\":\"2011\",\"70\":\"2014\"},\"major_label_policy\":{\"id\":\"545153\"},\"ticker\":{\"id\":\"545222\"}},\"id\":\"545119\",\"type\":\"LinearAxis\"},{\"attributes\":{},\"id\":\"545149\",\"type\":\"BasicTickFormatter\"},{\"attributes\":{\"coordinates\":null,\"data_source\":{\"id\":\"545199\"},\"glyph\":{\"id\":\"545200\"},\"group\":null,\"hover_glyph\":null,\"muted_glyph\":{\"id\":\"545202\"},\"nonselection_glyph\":{\"id\":\"545201\"},\"view\":{\"id\":\"545204\"}},\"id\":\"545203\",\"type\":\"GlyphRenderer\"},{\"attributes\":{\"coordinates\":null,\"data_source\":{\"id\":\"545141\"},\"glyph\":{\"id\":\"545142\"},\"group\":null,\"hover_glyph\":null,\"muted_glyph\":{\"id\":\"545144\"},\"nonselection_glyph\":{\"id\":\"545143\"},\"view\":{\"id\":\"545146\"}},\"id\":\"545145\",\"type\":\"GlyphRenderer\"},{\"attributes\":{\"line_alpha\":0.2,\"line_color\":\"green\",\"line_dash\":[6],\"line_width\":2.5,\"x\":{\"field\":\"x\"},\"y\":{\"field\":\"y\"}},\"id\":\"545162\",\"type\":\"Line\"},{\"attributes\":{\"source\":{\"id\":\"545199\"}},\"id\":\"545204\",\"type\":\"CDSView\"},{\"attributes\":{\"line_color\":\"green\",\"line_dash\":[6],\"line_width\":2.5,\"x\":{\"field\":\"x\"},\"y\":{\"field\":\"y\"}},\"id\":\"545160\",\"type\":\"Line\"},{\"attributes\":{\"label\":{\"value\":\"Final AR(2) Model (Training Data Fit)\"},\"renderers\":[{\"id\":\"545182\"}]},\"id\":\"545198\",\"type\":\"LegendItem\"},{\"attributes\":{},\"id\":\"545132\",\"type\":\"HelpTool\"},{\"attributes\":{\"axis\":{\"id\":\"545123\"},\"coordinates\":null,\"dimension\":1,\"group\":null,\"ticker\":null},\"id\":\"545126\",\"type\":\"Grid\"},{\"attributes\":{},\"id\":\"545130\",\"type\":\"SaveTool\"},{\"attributes\":{\"axis_label\":\"CPI\",\"coordinates\":null,\"formatter\":{\"id\":\"545149\"},\"group\":null,\"major_label_policy\":{\"id\":\"545150\"},\"ticker\":{\"id\":\"545124\"}},\"id\":\"545123\",\"type\":\"LinearAxis\"},{\"attributes\":{},\"id\":\"545113\",\"type\":\"DataRange1d\"},{\"attributes\":{},\"id\":\"545117\",\"type\":\"LinearScale\"},{\"attributes\":{\"line_alpha\":0.1,\"line_color\":\"orange\",\"line_width\":2.5,\"x\":{\"field\":\"x\"},\"y\":{\"field\":\"y\"}},\"id\":\"545201\",\"type\":\"Line\"},{\"attributes\":{\"tools\":[{\"id\":\"545127\"},{\"id\":\"545128\"},{\"id\":\"545129\"},{\"id\":\"545130\"},{\"id\":\"545131\"},{\"id\":\"545132\"}]},\"id\":\"545134\",\"type\":\"Toolbar\"},{\"attributes\":{\"ticks\":[0,35,70,105,140]},\"id\":\"545222\",\"type\":\"FixedTicker\"},{\"attributes\":{\"data\":{\"x\":[0,1,2,3,4,5,6,7,8,9,10,11,12,13,14,15,16,17,18,19,20,21,22,23,24,25,26,27,28,29,30,31,32,33,34,35,36,37,38,39,40,41,42,43,44,45,46,47,48,49,50,51,52,53,54,55,56,57,58,59,60,61],\"y\":{\"__ndarray__\":\"AwAAAAAAWUADAAAAAABZQFbl24LBGFlAiHrT/5YEWUD0BQUgMwhZQIgANP+m5FhAX6+Ud+SoWECRdUngAJ5YQH9bfddtwVhAA3F2fbHSWEC1I6XA8NhYQGzPf00J41hAy7sq3qLuWEA+uU1fqBBZQD/6UaaQAVlAvTP/jWwQWUAN6rSNShNZQFAKkOfVGVlA+IKMxd0eWUAM2kPgOBpZQKUawnMpLllAgY65tNQtWUDnbnMKv0FZQH6GiG+BRllArbn0NbxKWUBjbIqRLUlZQBnPrXQBT1lARUXRHetXWUBf54Aq4VtZQJh5zhW4Y1lA1E7oezhnWUASlDsbQXFZQC0CcIDyhVlAvooWDvuWWUD3zktstrtZQHZAZgzhy1lAptC5YbPZWUBAj7z889FZQL5QUHjd2llA7S40erzoWUAYxCqUr+5ZQMJXDxNu51lAW0C70pPqWUAzTVXxG+VZQKHD+iDX/llASwFAvoEOWkCstLLnoStaQDtjV6bTMFpAL9fCGAorWkDy9Ch/QCpaQM1cM041KVpAy5cQZeFGWkDALeH3OlVaQCb8BJKaUFpA7DRaEa1AWkCrlxz8AEBaQArU/2hMVFpApZFLqWx2WkByrSzdDHlaQI3IqmtidFpA9+CtjUyBWkA+FFMjo4xaQA==\",\"dtype\":\"float64\",\"order\":\"little\",\"shape\":[62]}},\"selected\":{\"id\":\"545196\"},\"selection_policy\":{\"id\":\"545195\"}},\"id\":\"545178\",\"type\":\"ColumnDataSource\"},{\"attributes\":{\"bottom_units\":\"screen\",\"coordinates\":null,\"fill_alpha\":0.5,\"fill_color\":\"lightgrey\",\"group\":null,\"left_units\":\"screen\",\"level\":\"overlay\",\"line_alpha\":1.0,\"line_color\":\"black\",\"line_dash\":[4,4],\"line_width\":2,\"right_units\":\"screen\",\"syncable\":false,\"top_units\":\"screen\"},\"id\":\"545133\",\"type\":\"BoxAnnotation\"},{\"attributes\":{\"data\":{\"x\":[0,1,2,3,4,5,6,7,8,9,10,11,12,13,14,15,16,17,18,19,20,21,22,23,24,25,26,27,28,29,30,31,32,33,34,35,36,37,38,39,40,41,42,43,44,45,46,47,48,49,50,51,52,53,54,55,56,57,58,59,60,61],\"y\":{\"__ndarray__\":\"AAAAAAAAWUBLyAc9myFZQKvP1VbsB1lAe4hGdxD/WEActi3KbL5YQKWg20saRVhAl6jeGtgEWEBLyAc9mx9YQE6c3O9QPlhA1ouhnGhNWEDw+WGE8FxYQNBE2PD0blhAcVrwoq+kWEAYQznRrppYQOl942vPqFhAWwhyUMKsWEB00vvG17JYQOi8xi5Rt1hA48KBkCysWEDkvWplwsFYQEX11sBWw1hArHMMyF7dWEA/jBAebehYQHYyOEpe7VhAd6G5TiPnWECRm+EGfOhYQMjqVs9J8VhA0GG+vAD1WEAFhqxu9fxYQPLNNjem/1hAe4MvTKYKWUB3vp8aLylZQMX+snvySFlA8tJNYhCIWUBSSZ2AJrJZQHBfB84Z0VlAbqMBvAXKWUAdWmQ7389ZQBKlvcEX4llAqmBUUifsWUBYObTIdt5ZQCL99nXg2FlAat5xio7IWUCamZmZmeVZQMKGp1fKAlpA6Nms+lw1WkASg8DKoUlaQC9uowG8QVpAzojS3uA3WkAU0ETY8CxaQFioNc07UlpAo5I6AU1wWkCLbOf7qW1aQEvIBz2bTVpADwu1pnk7WkDIBz2bVU9aQNEi2/l+hlpAFR3J5T+YWkATYcPTK5FaQOF6FK5HnVpAEoPAyqGtWkBqTfOOU7BaQA==\",\"dtype\":\"float64\",\"order\":\"little\",\"shape\":[62]}},\"selected\":{\"id\":\"545155\"},\"selection_policy\":{\"id\":\"545154\"}},\"id\":\"545141\",\"type\":\"ColumnDataSource\"},{\"attributes\":{},\"id\":\"545195\",\"type\":\"UnionRenderers\"},{\"attributes\":{},\"id\":\"545150\",\"type\":\"AllLabels\"},{\"attributes\":{},\"id\":\"545124\",\"type\":\"BasicTicker\"},{\"attributes\":{\"data\":{\"x\":[62,63,64,65,66,67,68,69,70,71,72,73,74,75,76,77,78,79,80,81,82,83,84,85,86,87,88,89,90,91,92,93,94,95,96,97,98,99,100,101,102,103,104,105,106,107,108,109,110,111,112,113,114,115,116,117,118,119,120,121,122,123,124,125,126,127,128,129,130,131,132,133,134,135,136],\"y\":{\"__ndarray__\":\"iG1WwSSyWkBCVGeJTLVaQArGraoVvlpAEkLrhOu0WkBxG3pXwbNaQMyIteg/ulpAfq9h/TrOWkDM9y+4XdxaQGCtz1B29lpATvYZcsb+WkDzBmLHwwxbQEcH3XFaE1tAGyRTdZUSW0BtgxVXqg9bQHlZyKtYGVtAApj33fcQW0AlJiRJ8gBbQPTTsGk49FpAhvnriCfsWkDxyMq4HApbQFUvpOJCIVtAPs04ItYkW0A87J8O5DtbQPof2nhER1tARGWS0fhFW0CRiXARckNbQJt7Kc6aQltA+/sMtd5GW0Bc5fm3E0JbQEfg2/MVOltAPuk8IoRKW0B7gwCfbE9bQHncPmQDZVtA0X2Vqyp3W0Ak8ihKmoVbQM6nr8/EkVtAc4UVHEeJW0AWX0+ByZNbQCnmq1H0oFtAzeOrJaSmW0Cp0vLMmqFbQIpJxoNnqVtAs6vpXdvGW0B5IhzOtM9bQMrkTlJO0ltAcWk/qEjiW0BKWcsNXeVbQC8mWXkH7FtABqvAh2XrW0DPJx9l8/1bQOQasycXFVxAGYrCYbwNXEAGzHl+zBJcQJLQ0+gIFFxAOguQT60xXEBj/5mkl0FcQCfrjxqgSFxAf2Fs3SZbXEAF4J7DzmtcQKdEa0FscFxAD3A2AydyXEA3prTTmnhcQJtCfaUQgVxAaTRHHViLXECNeMW/AH1cQDAl6Uyyd1xAkXOt6a2JXEAgaZtAHJ5cQJulWtdctVxAR1NNlsfIXEBi9GhAFs5cQJTeibKUz1xA9SiitxnbXEA=\",\"dtype\":\"float64\",\"order\":\"little\",\"shape\":[73]}},\"selected\":{\"id\":\"545219\"},\"selection_policy\":{\"id\":\"545218\"}},\"id\":\"545199\",\"type\":\"ColumnDataSource\"},{\"attributes\":{},\"id\":\"545131\",\"type\":\"ResetTool\"},{\"attributes\":{},\"id\":\"545154\",\"type\":\"UnionRenderers\"},{\"attributes\":{},\"id\":\"545155\",\"type\":\"Selection\"},{\"attributes\":{\"label\":{\"value\":\"Training Data\"},\"renderers\":[{\"id\":\"545145\"}]},\"id\":\"545158\",\"type\":\"LegendItem\"},{\"attributes\":{},\"id\":\"545219\",\"type\":\"Selection\"},{\"attributes\":{\"coordinates\":null,\"group\":null,\"text\":\"CPI predictions\"},\"id\":\"545109\",\"type\":\"Title\"},{\"attributes\":{\"line_alpha\":0.2,\"line_color\":\"red\",\"line_width\":2.5,\"x\":{\"field\":\"x\"},\"y\":{\"field\":\"y\"}},\"id\":\"545181\",\"type\":\"Line\"}],\"root_ids\":[\"545108\"]},\"title\":\"Bokeh Application\",\"version\":\"2.4.1\"}};\n",
       "  const render_items = [{\"docid\":\"daa0d967-48e5-4689-82f5-4da8fbd9dd2e\",\"root_ids\":[\"545108\"],\"roots\":{\"545108\":\"8281e4c4-e23f-4208-b129-c572a651fc02\"}}];\n",
       "  root.Bokeh.embed.embed_items_notebook(docs_json, render_items);\n",
       "\n",
       "  }\n",
       "  if (root.Bokeh !== undefined) {\n",
       "    embed_document(root);\n",
       "  } else {\n",
       "    let attempts = 0;\n",
       "    const timer = setInterval(function(root) {\n",
       "      if (root.Bokeh !== undefined) {\n",
       "        clearInterval(timer);\n",
       "        embed_document(root);\n",
       "      } else {\n",
       "        attempts++;\n",
       "        if (attempts > 100) {\n",
       "          clearInterval(timer);\n",
       "          console.log(\"Bokeh: ERROR: Unable to run BokehJS code because BokehJS library is missing\");\n",
       "        }\n",
       "      }\n",
       "    }, 10, root)\n",
       "  }\n",
       "})(window);"
      ],
      "application/vnd.bokehjs_exec.v0+json": ""
     },
     "metadata": {
      "application/vnd.bokehjs_exec.v0+json": {
       "id": "545108"
      }
     },
     "output_type": "display_data"
    }
   ],
   "source": [
    "# Plotting the AR2 logarithmic differenced model\n",
    "\n",
    "p = figure(plot_width=800, plot_height=600, title = \"CPI predictions\")\n",
    "p.line(cpi_train.index, cpi_train.CPI, line_width =2.5, line_color=\"black\", line_dash=\"dashed\", legend_label=\"Training Data\")\n",
    "p.line(cpi_test.index, cpi_test.CPI, line_width =2.5, line_color=\"green\", line_dash=\"dashed\", legend_label=\"Test Data\")\n",
    "p.line(cpi_train.index, final_training, line_color=\"red\", line_width=2.5, legend_label=\"Final AR(2) Model (Training Data Fit)\")\n",
    "p.line(cpi_test.index, final_test, line_color=\"orange\", line_width=2.5, legend_label=\"Final AR(2) Model Predictions\")\n",
    "p.xaxis.ticker = [0, 35, 70, 105, 140]\n",
    "p.xaxis.major_label_overrides = {0: '2008', 35: '2011', 70: '2014', 105: '2017', 140: '2020'}\n",
    "p.legend.location = \"bottom_right\"\n",
    "p.xaxis.axis_label ='Time'\n",
    "p.yaxis.axis_label ='CPI'\n",
    "\n",
    "show(p)"
   ]
  },
  {
   "cell_type": "code",
   "execution_count": 1467,
   "metadata": {},
   "outputs": [
    {
     "name": "stdout",
     "output_type": "stream",
     "text": [
      "The RMSE of the final fit with logarithmic differencing is 0.862001125927233\n"
     ]
    }
   ],
   "source": [
    "# Calculating Mean Squared Error for the AR(2) model with logarithmic differencing\n",
    "\n",
    "rmse = mean_squared_error(cpi_test.CPI.dropna(), final_test[:])**0.5\n",
    "print(\"The RMSE of the final fit with logarithmic differencing is \" + str(rmse))"
   ]
  },
  {
   "cell_type": "code",
   "execution_count": 1468,
   "metadata": {},
   "outputs": [
    {
     "data": {
      "image/png": "[encoded data removed]",
      "text/plain": [
       "<Figure size 576x396 with 1 Axes>"
      ]
     },
     "metadata": {},
     "output_type": "display_data"
    }
   ],
   "source": [
    "# Checking autocorrelation of residuals\n",
    "\n",
    "residuals = (remaining - training_predictions)[2:]\n",
    "plot_pacf(residuals, zero=False)\n",
    "plt.show()"
   ]
  },
  {
   "cell_type": "markdown",
   "metadata": {},
   "source": [
    "As we can see from the results, both ways to detrend the data - the linear detrending and logarithmic differencing - achieve pretty good results. However, if we compare the plots we can see that the logarithmic differencing method doesn't manage to produce a very accurate fitting in the beginning of the graph where we see a large dip of the inflation rate, as well as the small upswing at the end. The way the inflation is calculated by differencing also has an effect in producing a small gap where the training and test data meet in the center. On the other hand, when choosing to detrend the CPI data by substracting the linear trend, we achieve to follow the datapoints quite well during up- and downswings, as well as predicting the movements of inflation in the future. This method produces the best result which we can also notice from the smaller error term, RMSE."
   ]
  },
  {
   "cell_type": "markdown",
   "metadata": {},
   "source": [
    "# Inflation Rate from CPI\n",
    "\n",
    "Note that $\\text {CPI}$ is not a rate by itself while $\\text {BER}$ is. In order to take the different data sets comparable and use them together, we must first transform the data. One way to do this is to calculate monthly inflation rates from the different data sets given to us:\n",
    "\n",
    "How might you calculate monthly inflation rates from the $\\text {CPI}$ data?\n",
    "\n",
    "- The monthly inflation rate can be calculated as the percentage change of $\\text {CPI}$ per month:\n",
    "\n",
    "$$\\text {IR}_ t = \\frac{\\text {CPI}_ t -\\text {CPI}_{t-1}}{\\text {CPI}_{t-1}}$$\n",
    "\n",
    "where $t$ indexes the months.\n",
    "\n",
    "<b> Plot the monthly inflation rate calculated by the formula above and report below the value for February, 2013.</b>"
   ]
  },
  {
   "cell_type": "code",
   "execution_count": 1469,
   "metadata": {},
   "outputs": [],
   "source": [
    "# Creating a function to calculate the monthly inflation rate\n",
    "\n",
    "def calc_inflation_rate(data):\n",
    "    ir = []\n",
    "    for i in range(1, len(data)):\n",
    "        ir_calc = (data[i] - data[i-1]) / data[i-1] * 100 # in percentage     \n",
    "        ir.append(ir_calc)\n",
    "    return ir"
   ]
  },
  {
   "cell_type": "code",
   "execution_count": 1470,
   "metadata": {},
   "outputs": [
    {
     "data": {
      "text/html": [
       "<div>\n",
       "<style scoped>\n",
       "    .dataframe tbody tr th:only-of-type {\n",
       "        vertical-align: middle;\n",
       "    }\n",
       "\n",
       "    .dataframe tbody tr th {\n",
       "        vertical-align: top;\n",
       "    }\n",
       "\n",
       "    .dataframe thead th {\n",
       "        text-align: right;\n",
       "    }\n",
       "</style>\n",
       "<table border=\"1\" class=\"dataframe\">\n",
       "  <thead>\n",
       "    <tr style=\"text-align: right;\">\n",
       "      <th></th>\n",
       "      <th>index</th>\n",
       "      <th>date</th>\n",
       "      <th>PriceStats</th>\n",
       "      <th>CPI</th>\n",
       "      <th>YearMonth</th>\n",
       "      <th>IR</th>\n",
       "    </tr>\n",
       "  </thead>\n",
       "  <tbody>\n",
       "    <tr>\n",
       "      <th>0</th>\n",
       "      <td>7</td>\n",
       "      <td>2008-07-31</td>\n",
       "      <td>99.86741</td>\n",
       "      <td>100.00000</td>\n",
       "      <td>2008-07</td>\n",
       "      <td>NaN</td>\n",
       "    </tr>\n",
       "    <tr>\n",
       "      <th>1</th>\n",
       "      <td>38</td>\n",
       "      <td>2008-08-31</td>\n",
       "      <td>99.65405</td>\n",
       "      <td>100.52510</td>\n",
       "      <td>2008-08</td>\n",
       "      <td>0.525100</td>\n",
       "    </tr>\n",
       "    <tr>\n",
       "      <th>2</th>\n",
       "      <td>68</td>\n",
       "      <td>2008-09-30</td>\n",
       "      <td>99.70792</td>\n",
       "      <td>100.12380</td>\n",
       "      <td>2008-09</td>\n",
       "      <td>-0.399204</td>\n",
       "    </tr>\n",
       "    <tr>\n",
       "      <th>3</th>\n",
       "      <td>99</td>\n",
       "      <td>2008-10-31</td>\n",
       "      <td>97.98654</td>\n",
       "      <td>99.98538</td>\n",
       "      <td>2008-10</td>\n",
       "      <td>-0.138249</td>\n",
       "    </tr>\n",
       "    <tr>\n",
       "      <th>4</th>\n",
       "      <td>129</td>\n",
       "      <td>2008-11-30</td>\n",
       "      <td>96.55315</td>\n",
       "      <td>98.97539</td>\n",
       "      <td>2008-11</td>\n",
       "      <td>-1.010138</td>\n",
       "    </tr>\n",
       "  </tbody>\n",
       "</table>\n",
       "</div>"
      ],
      "text/plain": [
       "   index       date  PriceStats        CPI YearMonth        IR\n",
       "0      7 2008-07-31    99.86741  100.00000   2008-07       NaN\n",
       "1     38 2008-08-31    99.65405  100.52510   2008-08  0.525100\n",
       "2     68 2008-09-30    99.70792  100.12380   2008-09 -0.399204\n",
       "3     99 2008-10-31    97.98654   99.98538   2008-10 -0.138249\n",
       "4    129 2008-11-30    96.55315   98.97539   2008-11 -1.010138"
      ]
     },
     "execution_count": 1470,
     "metadata": {},
     "output_type": "execute_result"
    }
   ],
   "source": [
    "# Calculating monthly inflation rate from CPI\n",
    "\n",
    "cpi.loc[1:, 'IR'] = calc_inflation_rate(cpi.CPI.values)\n",
    "cpi.head()"
   ]
  },
  {
   "cell_type": "code",
   "execution_count": 1471,
   "metadata": {},
   "outputs": [
    {
     "name": "stdout",
     "output_type": "stream",
     "text": [
      "The inflation rate for the month of February in 2013 was 0.29572 %\n"
     ]
    }
   ],
   "source": [
    "print(\"The inflation rate for the month of February in 2013 was %0.5f \" % cpi[cpi.YearMonth =='2013-02']['IR'] +\"%\")"
   ]
  },
  {
   "cell_type": "code",
   "execution_count": 1472,
   "metadata": {},
   "outputs": [
    {
     "data": {
      "text/html": [
       "\n",
       "\n",
       "\n",
       "\n",
       "\n",
       "\n",
       "  <div class=\"bk-root\" id=\"64981d9e-bf1e-4709-8af0-2fede317dffa\" data-root-id=\"548757\"></div>\n"
      ]
     },
     "metadata": {},
     "output_type": "display_data"
    },
    {
     "data": {
      "application/javascript": [
       "(function(root) {\n",
       "  function embed_document(root) {\n",
       "    \n",
       "  const docs_json = {\"f63b2656-553f-4355-9634-c5d3e25a0cf8\":{\"defs\":[],\"roots\":{\"references\":[{\"attributes\":{\"below\":[{\"id\":\"548768\"}],\"center\":[{\"id\":\"548771\"},{\"id\":\"548775\"}],\"left\":[{\"id\":\"548772\"}],\"renderers\":[{\"id\":\"548794\"}],\"title\":{\"id\":\"548758\"},\"toolbar\":{\"id\":\"548783\"},\"width\":800,\"x_range\":{\"id\":\"548760\"},\"x_scale\":{\"id\":\"548764\"},\"y_range\":{\"id\":\"548762\"},\"y_scale\":{\"id\":\"548766\"}},\"id\":\"548757\",\"subtype\":\"Figure\",\"type\":\"Plot\"},{\"attributes\":{\"axis\":{\"id\":\"548768\"},\"coordinates\":null,\"group\":null,\"ticker\":null},\"id\":\"548771\",\"type\":\"Grid\"},{\"attributes\":{\"tools\":[{\"id\":\"548776\"},{\"id\":\"548777\"},{\"id\":\"548778\"},{\"id\":\"548779\"},{\"id\":\"548780\"},{\"id\":\"548781\"}]},\"id\":\"548783\",\"type\":\"Toolbar\"},{\"attributes\":{},\"id\":\"548773\",\"type\":\"BasicTicker\"},{\"attributes\":{},\"id\":\"548776\",\"type\":\"PanTool\"},{\"attributes\":{},\"id\":\"548781\",\"type\":\"HelpTool\"},{\"attributes\":{\"line_alpha\":0.2,\"line_color\":\"orange\",\"line_width\":2.5,\"x\":{\"field\":\"x\"},\"y\":{\"field\":\"y\"}},\"id\":\"548793\",\"type\":\"Line\"},{\"attributes\":{\"coordinates\":null,\"data_source\":{\"id\":\"548790\"},\"glyph\":{\"id\":\"548791\"},\"group\":null,\"hover_glyph\":null,\"muted_glyph\":{\"id\":\"548793\"},\"nonselection_glyph\":{\"id\":\"548792\"},\"view\":{\"id\":\"548795\"}},\"id\":\"548794\",\"type\":\"GlyphRenderer\"},{\"attributes\":{},\"id\":\"548777\",\"type\":\"WheelZoomTool\"},{\"attributes\":{},\"id\":\"552261\",\"type\":\"AllLabels\"},{\"attributes\":{\"ticks\":[0,35,70,105,140]},\"id\":\"548796\",\"type\":\"FixedTicker\"},{\"attributes\":{\"data\":{\"x\":[0,1,2,3,4,5,6,7,8,9,10,11,12,13,14,15,16,17,18,19,20,21,22,23,24,25,26,27,28,29,30,31,32,33,34,35,36,37,38,39,40,41,42,43,44,45,46,47,48,49,50,51,52,53,54,55,56,57,58,59,60,61,62,63,64,65,66,67,68,69,70,71,72,73,74,75,76,77,78,79,80,81,82,83,84,85,86,87,88,89,90,91,92,93,94,95,96,97,98,99,100,101,102,103,104,105,106,107,108,109,110,111,112,113,114,115,116,117,118,119,120,121,122,123,124,125,126,127,128,129,130,131,132,133,134,135,136],\"y\":{\"__ndarray__\":\"AAAAAAAA+H+AJeSDns3gP2qi5gOOjNm/DchGZCOywb/LOlMhhinwv/Ff0QkBpf6/SWkQDUKM8L80TvGZ+drbPwFLVGxb098/Bqj8VYAgzz/jU1MhE/TPP2l3CCcDfdI/bpg+yNJ86z8SABdHxUvEv+vlS8WOtcw/ajGFUmsDsD/b6jCo8qe4P6ZJZemHHbI/9M0E/8WKxr/t8sQgK9/VP8bdbRxAhZk/oL/L1ctH2j91Nn3MdzvGP1wSvz1m17M/vubAnI7+uL8dbqr4BKGVPys+inYwrME/tWqcQ/LIrT8al7qIzeC/P40EdvjiiKU/6g269XgAxj+Rh7Ui0nvePwzq/Wljj98/yYMNfucz7z/LTM8d6prkP49Fau+4HN4/SNdyTPVqu78MH+07sq62PxRZzH3JpdE/UbcVaV1vwz8cZa6dpmfKv3Lm6+oZmbW/0jxIZveRz79vmXFsJSncP++8gjXxLdw/DBRUfLxN6D+D/7eYj1XTP9h9Rj8EC76/USSStrvEwr+ViVfu1dvEv4bkn7IZz+E/41CqPtWO3D/OKeo5UPKjv3AmpQcyU96/6+tQcqA70b/N+dvdH+3SPyGX8e0mNeo/zY6vZ4+70D93PUVcpZ26v9R+WyADysY/dY/2rWG4zj88+vt4ADOkP/5Fd2xcyr4/toVVuX/FvT9M4LOGuHvQv07X3RvZJMq/69qSCDx/gb9sn+oi3c7XP5glMDJ7qtc/q93nOrmb5D/Hc6ehRRnVP2z2wktDWtY/Dwyn8DLXxz/rYQLbJfqjv1zk5S9GYsW/TE0fgcZDsz9zXHrhQhTQv1+QPFNUR+G/4KTF/7Ik4r/+wNdiPR7ev4j9ShKwyts/IhCAJB4M4z8oRxeBbQbKP2V9NDRET+A/rZfHTkxr1j8UJVo3wWp7PyeRsmbNIcK/b4rj0q/rw7+fnZoQHwanvz1x9by+A8u/gHhhUZXf1b+krioKMinFPw32tlEfEbU/KScsF+OO2z9VejaOWljeP56z6A7h5Nk/zXP0PmwF1T+luP1xTrjEv8gXQuwbg7c/BdKYwTPFzj/L4Jh0Hu2/P4LL/oXn58O/mYDWXNfBoD+MmjZZAabiP6AuRrzOIdQ/CncvWX7PtD/OgYH6ffrSPwPFgN+n4LU/Uk2pX3I7tz+cPC5Meaexvyc99nHYKNM/tLySQYXx4D8EwmsrviiwvyDWnNEJn2M/yhfHsMgcrr9SQ4asFG/hP2gCjWn7Bd0/clUBA2bxzD94FY/KDXDZP8iiyRTzndo/Rrqm0vRnxD/jAfTJGGN7PzK+l/nEc6w/ptnNGEa/vT+QpdbvdJ/GPyrQ/EDIb9W/BE9ZZB5x1L+3YmLyWWfIP1r7+5XPDNs/YKekKnUN4j9c9pwOJvLgP+YJXisuP8s/s83xiN9ilD96KU7zXWPFP/BrXK+g9XS/AAAAAAAA+H8AAAAAAAD4fw==\",\"dtype\":\"float64\",\"order\":\"little\",\"shape\":[137]}},\"selected\":{\"id\":\"552263\"},\"selection_policy\":{\"id\":\"552262\"}},\"id\":\"548790\",\"type\":\"ColumnDataSource\"},{\"attributes\":{},\"id\":\"548780\",\"type\":\"ResetTool\"},{\"attributes\":{\"overlay\":{\"id\":\"548782\"}},\"id\":\"548778\",\"type\":\"BoxZoomTool\"},{\"attributes\":{},\"id\":\"552262\",\"type\":\"UnionRenderers\"},{\"attributes\":{\"bottom_units\":\"screen\",\"coordinates\":null,\"fill_alpha\":0.5,\"fill_color\":\"lightgrey\",\"group\":null,\"left_units\":\"screen\",\"level\":\"overlay\",\"line_alpha\":1.0,\"line_color\":\"black\",\"line_dash\":[4,4],\"line_width\":2,\"right_units\":\"screen\",\"syncable\":false,\"top_units\":\"screen\"},\"id\":\"548782\",\"type\":\"BoxAnnotation\"},{\"attributes\":{},\"id\":\"552259\",\"type\":\"AllLabels\"},{\"attributes\":{\"axis_label\":\"Time\",\"coordinates\":null,\"formatter\":{\"id\":\"552260\"},\"group\":null,\"major_label_overrides\":{\"0\":\"2008\",\"105\":\"2017\",\"140\":\"2020\",\"35\":\"2011\",\"70\":\"2014\"},\"major_label_policy\":{\"id\":\"552261\"},\"ticker\":{\"id\":\"548796\"}},\"id\":\"548768\",\"type\":\"LinearAxis\"},{\"attributes\":{},\"id\":\"552263\",\"type\":\"Selection\"},{\"attributes\":{\"line_color\":\"orange\",\"line_width\":2.5,\"x\":{\"field\":\"x\"},\"y\":{\"field\":\"y\"}},\"id\":\"548791\",\"type\":\"Line\"},{\"attributes\":{},\"id\":\"548760\",\"type\":\"DataRange1d\"},{\"attributes\":{\"axis_label\":\"Monthly IR\",\"coordinates\":null,\"formatter\":{\"id\":\"552258\"},\"group\":null,\"major_label_policy\":{\"id\":\"552259\"},\"ticker\":{\"id\":\"548773\"}},\"id\":\"548772\",\"type\":\"LinearAxis\"},{\"attributes\":{},\"id\":\"548779\",\"type\":\"SaveTool\"},{\"attributes\":{\"line_alpha\":0.1,\"line_color\":\"orange\",\"line_width\":2.5,\"x\":{\"field\":\"x\"},\"y\":{\"field\":\"y\"}},\"id\":\"548792\",\"type\":\"Line\"},{\"attributes\":{},\"id\":\"548762\",\"type\":\"DataRange1d\"},{\"attributes\":{\"source\":{\"id\":\"548790\"}},\"id\":\"548795\",\"type\":\"CDSView\"},{\"attributes\":{},\"id\":\"552258\",\"type\":\"BasicTickFormatter\"},{\"attributes\":{\"coordinates\":null,\"group\":null,\"text\":\"Monthly IR from CPI (in %)\"},\"id\":\"548758\",\"type\":\"Title\"},{\"attributes\":{},\"id\":\"552260\",\"type\":\"BasicTickFormatter\"},{\"attributes\":{},\"id\":\"548764\",\"type\":\"LinearScale\"},{\"attributes\":{},\"id\":\"548766\",\"type\":\"LinearScale\"},{\"attributes\":{\"axis\":{\"id\":\"548772\"},\"coordinates\":null,\"dimension\":1,\"group\":null,\"ticker\":null},\"id\":\"548775\",\"type\":\"Grid\"}],\"root_ids\":[\"548757\"]},\"title\":\"Bokeh Application\",\"version\":\"2.4.1\"}};\n",
       "  const render_items = [{\"docid\":\"f63b2656-553f-4355-9634-c5d3e25a0cf8\",\"root_ids\":[\"548757\"],\"roots\":{\"548757\":\"64981d9e-bf1e-4709-8af0-2fede317dffa\"}}];\n",
       "  root.Bokeh.embed.embed_items_notebook(docs_json, render_items);\n",
       "\n",
       "  }\n",
       "  if (root.Bokeh !== undefined) {\n",
       "    embed_document(root);\n",
       "  } else {\n",
       "    let attempts = 0;\n",
       "    const timer = setInterval(function(root) {\n",
       "      if (root.Bokeh !== undefined) {\n",
       "        clearInterval(timer);\n",
       "        embed_document(root);\n",
       "      } else {\n",
       "        attempts++;\n",
       "        if (attempts > 100) {\n",
       "          clearInterval(timer);\n",
       "          console.log(\"Bokeh: ERROR: Unable to run BokehJS code because BokehJS library is missing\");\n",
       "        }\n",
       "      }\n",
       "    }, 10, root)\n",
       "  }\n",
       "})(window);"
      ],
      "application/vnd.bokehjs_exec.v0+json": ""
     },
     "metadata": {
      "application/vnd.bokehjs_exec.v0+json": {
       "id": "548757"
      }
     },
     "output_type": "display_data"
    }
   ],
   "source": [
    "# Plotting the monthy inflation rate IR\n",
    "\n",
    "p = figure(plot_width=800, plot_height=600, title=\"Monthly IR from CPI (in %)\")\n",
    "p.line(cpi.index, cpi['IR'], line_color=\"orange\", line_width =2.5)\n",
    "p.xaxis.ticker = [0, 35, 70, 105, 140]\n",
    "p.xaxis.major_label_overrides = {0: '2008', 35: '2011', 70: '2014', 105: '2017', 140: '2020'}\n",
    "p.xaxis.axis_label ='Time'\n",
    "p.yaxis.axis_label ='Monthly IR'\n",
    "\n",
    "show(p)"
   ]
  },
  {
   "cell_type": "markdown",
   "metadata": {},
   "source": [
    "Another way to get the monthly inflation rate is to compute the difference of the logarithms:\n",
    "\n",
    "$$\\text {IR}_ t = \\ln (\\text {CPI}_ t) -\\ln (\\text {CPI}_{t-1})$$\n",
    "\n",
    "where $t$ indexes the months.\n",
    "\n",
    "<b> Plot the monthly inflation rate calculated by the formula above and report below the value for February, 2013.</b>"
   ]
  },
  {
   "cell_type": "code",
   "execution_count": 1473,
   "metadata": {},
   "outputs": [
    {
     "data": {
      "text/html": [
       "<div>\n",
       "<style scoped>\n",
       "    .dataframe tbody tr th:only-of-type {\n",
       "        vertical-align: middle;\n",
       "    }\n",
       "\n",
       "    .dataframe tbody tr th {\n",
       "        vertical-align: top;\n",
       "    }\n",
       "\n",
       "    .dataframe thead th {\n",
       "        text-align: right;\n",
       "    }\n",
       "</style>\n",
       "<table border=\"1\" class=\"dataframe\">\n",
       "  <thead>\n",
       "    <tr style=\"text-align: right;\">\n",
       "      <th></th>\n",
       "      <th>index</th>\n",
       "      <th>date</th>\n",
       "      <th>PriceStats</th>\n",
       "      <th>CPI</th>\n",
       "      <th>YearMonth</th>\n",
       "      <th>IR</th>\n",
       "      <th>Diff_Log</th>\n",
       "    </tr>\n",
       "  </thead>\n",
       "  <tbody>\n",
       "    <tr>\n",
       "      <th>0</th>\n",
       "      <td>7</td>\n",
       "      <td>2008-07-31</td>\n",
       "      <td>99.86741</td>\n",
       "      <td>100.00000</td>\n",
       "      <td>2008-07</td>\n",
       "      <td>NaN</td>\n",
       "      <td>NaN</td>\n",
       "    </tr>\n",
       "    <tr>\n",
       "      <th>1</th>\n",
       "      <td>38</td>\n",
       "      <td>2008-08-31</td>\n",
       "      <td>99.65405</td>\n",
       "      <td>100.52510</td>\n",
       "      <td>2008-08</td>\n",
       "      <td>0.525100</td>\n",
       "      <td>0.523726</td>\n",
       "    </tr>\n",
       "    <tr>\n",
       "      <th>2</th>\n",
       "      <td>68</td>\n",
       "      <td>2008-09-30</td>\n",
       "      <td>99.70792</td>\n",
       "      <td>100.12380</td>\n",
       "      <td>2008-09</td>\n",
       "      <td>-0.399204</td>\n",
       "      <td>-0.400003</td>\n",
       "    </tr>\n",
       "    <tr>\n",
       "      <th>3</th>\n",
       "      <td>99</td>\n",
       "      <td>2008-10-31</td>\n",
       "      <td>97.98654</td>\n",
       "      <td>99.98538</td>\n",
       "      <td>2008-10</td>\n",
       "      <td>-0.138249</td>\n",
       "      <td>-0.138344</td>\n",
       "    </tr>\n",
       "    <tr>\n",
       "      <th>4</th>\n",
       "      <td>129</td>\n",
       "      <td>2008-11-30</td>\n",
       "      <td>96.55315</td>\n",
       "      <td>98.97539</td>\n",
       "      <td>2008-11</td>\n",
       "      <td>-1.010138</td>\n",
       "      <td>-1.015274</td>\n",
       "    </tr>\n",
       "  </tbody>\n",
       "</table>\n",
       "</div>"
      ],
      "text/plain": [
       "   index       date  PriceStats        CPI YearMonth        IR  Diff_Log\n",
       "0      7 2008-07-31    99.86741  100.00000   2008-07       NaN       NaN\n",
       "1     38 2008-08-31    99.65405  100.52510   2008-08  0.525100  0.523726\n",
       "2     68 2008-09-30    99.70792  100.12380   2008-09 -0.399204 -0.400003\n",
       "3     99 2008-10-31    97.98654   99.98538   2008-10 -0.138249 -0.138344\n",
       "4    129 2008-11-30    96.55315   98.97539   2008-11 -1.010138 -1.015274"
      ]
     },
     "execution_count": 1473,
     "metadata": {},
     "output_type": "execute_result"
    }
   ],
   "source": [
    "# Calculating the monthly inflation with the difference of the logarithms\n",
    "\n",
    "cpi['Diff_Log'] = np.log(cpi.CPI).diff().values * 100\n",
    "cpi.head()"
   ]
  },
  {
   "cell_type": "code",
   "execution_count": 1474,
   "metadata": {},
   "outputs": [
    {
     "name": "stdout",
     "output_type": "stream",
     "text": [
      "The inflation rate for the month of February in 2013 was 0.29529 %\n"
     ]
    }
   ],
   "source": [
    "print(\"The inflation rate for the month of February in 2013 was %0.5f \" % cpi[cpi.YearMonth =='2013-02']['Diff_Log'] + \"%\")"
   ]
  },
  {
   "cell_type": "code",
   "execution_count": 1475,
   "metadata": {},
   "outputs": [
    {
     "data": {
      "text/html": [
       "\n",
       "\n",
       "\n",
       "\n",
       "\n",
       "\n",
       "  <div class=\"bk-root\" id=\"c9ee017a-39e1-465f-9b6c-e0a96a1f09dd\" data-root-id=\"552310\"></div>\n"
      ]
     },
     "metadata": {},
     "output_type": "display_data"
    },
    {
     "data": {
      "application/javascript": [
       "(function(root) {\n",
       "  function embed_document(root) {\n",
       "    \n",
       "  const docs_json = {\"4e75c636-7557-4662-9c70-cfe3e1982966\":{\"defs\":[],\"roots\":{\"references\":[{\"attributes\":{\"below\":[{\"id\":\"552321\"}],\"center\":[{\"id\":\"552324\"},{\"id\":\"552328\"}],\"left\":[{\"id\":\"552325\"}],\"renderers\":[{\"id\":\"552347\"}],\"title\":{\"id\":\"552311\"},\"toolbar\":{\"id\":\"552336\"},\"width\":800,\"x_range\":{\"id\":\"552313\"},\"x_scale\":{\"id\":\"552317\"},\"y_range\":{\"id\":\"552315\"},\"y_scale\":{\"id\":\"552319\"}},\"id\":\"552310\",\"subtype\":\"Figure\",\"type\":\"Plot\"},{\"attributes\":{\"line_alpha\":0.1,\"line_color\":\"navy\",\"line_width\":2.5,\"x\":{\"field\":\"x\"},\"y\":{\"field\":\"y\"}},\"id\":\"552345\",\"type\":\"Line\"},{\"attributes\":{},\"id\":\"555821\",\"type\":\"AllLabels\"},{\"attributes\":{\"axis_label\":\"Time\",\"coordinates\":null,\"formatter\":{\"id\":\"555822\"},\"group\":null,\"major_label_overrides\":{\"0\":\"2008\",\"105\":\"2017\",\"140\":\"2020\",\"35\":\"2011\",\"70\":\"2014\"},\"major_label_policy\":{\"id\":\"555823\"},\"ticker\":{\"id\":\"552349\"}},\"id\":\"552321\",\"type\":\"LinearAxis\"},{\"attributes\":{},\"id\":\"555824\",\"type\":\"UnionRenderers\"},{\"attributes\":{\"axis\":{\"id\":\"552325\"},\"coordinates\":null,\"dimension\":1,\"group\":null,\"ticker\":null},\"id\":\"552328\",\"type\":\"Grid\"},{\"attributes\":{\"source\":{\"id\":\"552343\"}},\"id\":\"552348\",\"type\":\"CDSView\"},{\"attributes\":{},\"id\":\"552332\",\"type\":\"SaveTool\"},{\"attributes\":{},\"id\":\"555825\",\"type\":\"Selection\"},{\"attributes\":{},\"id\":\"552330\",\"type\":\"WheelZoomTool\"},{\"attributes\":{\"ticks\":[0,35,70,105,140]},\"id\":\"552349\",\"type\":\"FixedTicker\"},{\"attributes\":{},\"id\":\"552326\",\"type\":\"BasicTicker\"},{\"attributes\":{\"bottom_units\":\"screen\",\"coordinates\":null,\"fill_alpha\":0.5,\"fill_color\":\"lightgrey\",\"group\":null,\"left_units\":\"screen\",\"level\":\"overlay\",\"line_alpha\":1.0,\"line_color\":\"black\",\"line_dash\":[4,4],\"line_width\":2,\"right_units\":\"screen\",\"syncable\":false,\"top_units\":\"screen\"},\"id\":\"552335\",\"type\":\"BoxAnnotation\"},{\"attributes\":{\"overlay\":{\"id\":\"552335\"}},\"id\":\"552331\",\"type\":\"BoxZoomTool\"},{\"attributes\":{\"axis\":{\"id\":\"552321\"},\"coordinates\":null,\"group\":null,\"ticker\":null},\"id\":\"552324\",\"type\":\"Grid\"},{\"attributes\":{\"coordinates\":null,\"data_source\":{\"id\":\"552343\"},\"glyph\":{\"id\":\"552344\"},\"group\":null,\"hover_glyph\":null,\"muted_glyph\":{\"id\":\"552346\"},\"nonselection_glyph\":{\"id\":\"552345\"},\"view\":{\"id\":\"552348\"}},\"id\":\"552347\",\"type\":\"GlyphRenderer\"},{\"attributes\":{},\"id\":\"552334\",\"type\":\"HelpTool\"},{\"attributes\":{\"data\":{\"x\":[0,1,2,3,4,5,6,7,8,9,10,11,12,13,14,15,16,17,18,19,20,21,22,23,24,25,26,27,28,29,30,31,32,33,34,35,36,37,38,39,40,41,42,43,44,45,46,47,48,49,50,51,52,53,54,55,56,57,58,59,60,61,62,63,64,65,66,67,68,69,70,71,72,73,74,75,76,77,78,79,80,81,82,83,84,85,86,87,88,89,90,91,92,93,94,95,96,97,98,99,100,101,102,103,104,105,106,107,108,109,110,111,112,113,114,115,116,117,118,119,120,121,122,123,124,125,126,127,128,129,130,131,132,133,134,135,136],\"y\":{\"__ndarray__\":\"AAAAAAAA+H8Az6lbXcLgP8CX3Qilmdm/gIckx0W1wb+A3d0mkD7wvwA+Ybga8f6/cC7sG1Gi8L9ASzpfgMvbP0ABmagqv98/gHFk/9MWzz+Ab5+o4enPP8BC5mcwdtI/YCbYysVe6z+AdR/t5E/EvwB1pOtTrcw/AKhaOyMCsD8A6pIE6aS4PwBCog7kG7I/gNnHYNyPxr+AreVrn9XVPwAgF7tvhJk/wDCNSwU62j+AEgPrhzbGPwBu35Zu1bM/AA7Cxa4Bub8A6NRKb6CVP4Aw26cRqcE/AIpwtrrGrT8ATGTbudu/PwA09kG6h6U/AGBWIaP7xT+AjiRoS2neP8AWz2OIe98/YNtBDDYN7z9gMLITAYrkP0DtM+qkCt4/AFlXNbhuu78Ak9YSIKy2P8B1p9qRn9E/gKnQbJdrwz8A+tfzoW7KvwBywFdvm7W/gLQYGPObz7+Airv/VBncP4CRY2cbHtw/QFfOfzo26D+AtTKGGU7TPwCSjXWID76/gCUaX0LIwr+AXfH2MODEv8COrfp1wuE/wMls+pF+3D8AwvDsTvOjvwDyy1SlZd6/wON6r5NB0b9ACM94+eXSP2BMu9vTGeo/ALlQZPi10D8A2yS+MKG6vwCE0C7TxMY/gLvLlPWuzj8ADmlq+zGkPwDEQuOfxb4/AHAVFhLBvT+A6zgEKoHQv4BD50SxK8q/APj/BG1/gb+AxAEtjsPXPwBOAKdOn9c/4MaK3c6K5D+AFQ9uYxDVP0BcwxZLUNY/gFkmtIXRxz8AFktWJfujv4BW2xraZsW/AEAOsutBsz+Ap0PScBnQvwCxq4lQU+G/ALWxnOox4r/AiSBecDDevwAg8ONIu9s/gMnBvKn94j8AHmjyqf/JP6AQj4qpROA/QGhk5kRh1j8AcGAVhWp7PwDOrtkXJcK/AOEWxajvw78AClFucgenvwB9Q6INC8u/AL6OjCzp1b8AXCH5uCTFPwB3m4znDrU/wKrc0r1/2z+A12bF/kXeP0CAdlGB19k/QJ3etZr81D8ALqiumrzEvwBkur5YgLc/AB0Zy7+7zj8AJ6naBui/P4Bh9PXe68O/AEQHsCPBoD+gu5QCJpjiP8BCDfG3GdQ/AMgbT1TNtD8AOtR6TfPSPwBnE5RD3rU/AHf57b84tz8ANWBrCKmxv8AR5rGEIdM/QKQn5BPm4D8Aq6aKDCqwvwBgWmv6nmM/AMhtPg0frr8Ayw2T92LhP4BDiIsv9dw/ADdSvQjpzD+AIFSCJWPZP8CQQMXRj9o/AGwl88tjxD8AII7J3GJ7PwBcdxG/caw/AHZBT9q6vT8ApM1IWJrGPwAEalD+eNW/QOENdH551L+AvcJLZ2HIPwAPsMc3/to/QG1Nf3gA4j+Aj13Ys+bgP4DwS1nEN8s/AECqj1pilD+A1mkszF7FPwDAiNTD9XS/AAAAAAAA+H8AAAAAAAD4fw==\",\"dtype\":\"float64\",\"order\":\"little\",\"shape\":[137]}},\"selected\":{\"id\":\"555825\"},\"selection_policy\":{\"id\":\"555824\"}},\"id\":\"552343\",\"type\":\"ColumnDataSource\"},{\"attributes\":{\"line_alpha\":0.2,\"line_color\":\"navy\",\"line_width\":2.5,\"x\":{\"field\":\"x\"},\"y\":{\"field\":\"y\"}},\"id\":\"552346\",\"type\":\"Line\"},{\"attributes\":{},\"id\":\"552315\",\"type\":\"DataRange1d\"},{\"attributes\":{\"tools\":[{\"id\":\"552329\"},{\"id\":\"552330\"},{\"id\":\"552331\"},{\"id\":\"552332\"},{\"id\":\"552333\"},{\"id\":\"552334\"}]},\"id\":\"552336\",\"type\":\"Toolbar\"},{\"attributes\":{},\"id\":\"552313\",\"type\":\"DataRange1d\"},{\"attributes\":{\"axis_label\":\"Monthly IR\",\"coordinates\":null,\"formatter\":{\"id\":\"555820\"},\"group\":null,\"major_label_policy\":{\"id\":\"555821\"},\"ticker\":{\"id\":\"552326\"}},\"id\":\"552325\",\"type\":\"LinearAxis\"},{\"attributes\":{},\"id\":\"555822\",\"type\":\"BasicTickFormatter\"},{\"attributes\":{},\"id\":\"552329\",\"type\":\"PanTool\"},{\"attributes\":{},\"id\":\"555823\",\"type\":\"AllLabels\"},{\"attributes\":{},\"id\":\"552333\",\"type\":\"ResetTool\"},{\"attributes\":{\"line_color\":\"navy\",\"line_width\":2.5,\"x\":{\"field\":\"x\"},\"y\":{\"field\":\"y\"}},\"id\":\"552344\",\"type\":\"Line\"},{\"attributes\":{},\"id\":\"552319\",\"type\":\"LinearScale\"},{\"attributes\":{},\"id\":\"552317\",\"type\":\"LinearScale\"},{\"attributes\":{\"coordinates\":null,\"group\":null,\"text\":\"Monthly IR from CPI (in %)\"},\"id\":\"552311\",\"type\":\"Title\"},{\"attributes\":{},\"id\":\"555820\",\"type\":\"BasicTickFormatter\"}],\"root_ids\":[\"552310\"]},\"title\":\"Bokeh Application\",\"version\":\"2.4.1\"}};\n",
       "  const render_items = [{\"docid\":\"4e75c636-7557-4662-9c70-cfe3e1982966\",\"root_ids\":[\"552310\"],\"roots\":{\"552310\":\"c9ee017a-39e1-465f-9b6c-e0a96a1f09dd\"}}];\n",
       "  root.Bokeh.embed.embed_items_notebook(docs_json, render_items);\n",
       "\n",
       "  }\n",
       "  if (root.Bokeh !== undefined) {\n",
       "    embed_document(root);\n",
       "  } else {\n",
       "    let attempts = 0;\n",
       "    const timer = setInterval(function(root) {\n",
       "      if (root.Bokeh !== undefined) {\n",
       "        clearInterval(timer);\n",
       "        embed_document(root);\n",
       "      } else {\n",
       "        attempts++;\n",
       "        if (attempts > 100) {\n",
       "          clearInterval(timer);\n",
       "          console.log(\"Bokeh: ERROR: Unable to run BokehJS code because BokehJS library is missing\");\n",
       "        }\n",
       "      }\n",
       "    }, 10, root)\n",
       "  }\n",
       "})(window);"
      ],
      "application/vnd.bokehjs_exec.v0+json": ""
     },
     "metadata": {
      "application/vnd.bokehjs_exec.v0+json": {
       "id": "552310"
      }
     },
     "output_type": "display_data"
    }
   ],
   "source": [
    "# Plotting the monthy inflation rate log differenced IR \n",
    "\n",
    "p = figure(plot_width=800, plot_height=600, title=\"Monthly IR from CPI (in %)\")\n",
    "p.line(cpi.index, cpi['Diff_Log'], line_color=\"navy\", line_width =2.5)\n",
    "p.xaxis.ticker = [0, 35, 70, 105, 140]\n",
    "p.xaxis.major_label_overrides = {0: '2008', 35: '2011', 70: '2014', 105: '2017', 140: '2020'}\n",
    "p.xaxis.axis_label ='Time'\n",
    "p.yaxis.axis_label ='Monthly IR'\n",
    "\n",
    "show(p)"
   ]
  },
  {
   "cell_type": "markdown",
   "metadata": {},
   "source": [
    "# Inflation Rate from PriceStats\n",
    "\n",
    "How about from Price Stats data? Note that PriceStats data is reported on a daily basis and there may be multiple ways to calculate a \"monthly\" inflation rate. For the methods described below, report the monthly inflation rate calculated using PriceStats data for February, 2013."
   ]
  },
  {
   "cell_type": "markdown",
   "metadata": {},
   "source": [
    "Method I: Compute the monthly inflation rate as the percentage change of $\\text {PriceStats}$ per month using a representative value of $\\text {PriceStats}$\n",
    "    \n",
    "$$\\text {IR}_{m} = \\frac{\\text {PriceStats}_ m -\\text {PriceStats}_{m-1}}{\\text {PriceStats}_{m-1}}$$\n",
    "   \n",
    "where $m$ indexes the months, and $\\text {PriceStats}_m$ is a representative value of $\\text {PriceStats}$ of the month $m$.\n",
    "    \n",
    "<b> There are different monthly representatives we can choose. Plot the monthly inflation rate calculated by the formula above and the following representative values of $\\text {PriceStats}$ of the month $m$. Report the value for February, 2013 using the average $\\text {PriceStats}$ value of all days in a month $m$ and using the $\\text {PriceStats}$ value of the last day of month $m$.</b>"
   ]
  },
  {
   "cell_type": "code",
   "execution_count": 1476,
   "metadata": {},
   "outputs": [
    {
     "data": {
      "text/html": [
       "<div>\n",
       "<style scoped>\n",
       "    .dataframe tbody tr th:only-of-type {\n",
       "        vertical-align: middle;\n",
       "    }\n",
       "\n",
       "    .dataframe tbody tr th {\n",
       "        vertical-align: top;\n",
       "    }\n",
       "\n",
       "    .dataframe thead th {\n",
       "        text-align: right;\n",
       "    }\n",
       "</style>\n",
       "<table border=\"1\" class=\"dataframe\">\n",
       "  <thead>\n",
       "    <tr style=\"text-align: right;\">\n",
       "      <th></th>\n",
       "      <th>date</th>\n",
       "      <th>PriceStats</th>\n",
       "      <th>CPI</th>\n",
       "    </tr>\n",
       "  </thead>\n",
       "  <tbody>\n",
       "    <tr>\n",
       "      <th>0</th>\n",
       "      <td>2008-07-24</td>\n",
       "      <td>100.00000</td>\n",
       "      <td>100.0</td>\n",
       "    </tr>\n",
       "    <tr>\n",
       "      <th>1</th>\n",
       "      <td>2008-07-25</td>\n",
       "      <td>99.99767</td>\n",
       "      <td>100.0</td>\n",
       "    </tr>\n",
       "    <tr>\n",
       "      <th>2</th>\n",
       "      <td>2008-07-26</td>\n",
       "      <td>99.92376</td>\n",
       "      <td>100.0</td>\n",
       "    </tr>\n",
       "    <tr>\n",
       "      <th>3</th>\n",
       "      <td>2008-07-27</td>\n",
       "      <td>99.91537</td>\n",
       "      <td>100.0</td>\n",
       "    </tr>\n",
       "    <tr>\n",
       "      <th>4</th>\n",
       "      <td>2008-07-28</td>\n",
       "      <td>99.89491</td>\n",
       "      <td>100.0</td>\n",
       "    </tr>\n",
       "  </tbody>\n",
       "</table>\n",
       "</div>"
      ],
      "text/plain": [
       "        date  PriceStats    CPI\n",
       "0 2008-07-24   100.00000  100.0\n",
       "1 2008-07-25    99.99767  100.0\n",
       "2 2008-07-26    99.92376  100.0\n",
       "3 2008-07-27    99.91537  100.0\n",
       "4 2008-07-28    99.89491  100.0"
      ]
     },
     "execution_count": 1476,
     "metadata": {},
     "output_type": "execute_result"
    }
   ],
   "source": [
    "# Loading and preparing dataset\n",
    "\n",
    "pricestats = pd.read_csv('PriceStats_CPI.csv', parse_dates=['date'])\n",
    "pricestats.head()"
   ]
  },
  {
   "cell_type": "code",
   "execution_count": 1477,
   "metadata": {},
   "outputs": [
    {
     "data": {
      "text/html": [
       "<div>\n",
       "<style scoped>\n",
       "    .dataframe tbody tr th:only-of-type {\n",
       "        vertical-align: middle;\n",
       "    }\n",
       "\n",
       "    .dataframe tbody tr th {\n",
       "        vertical-align: top;\n",
       "    }\n",
       "\n",
       "    .dataframe thead th {\n",
       "        text-align: right;\n",
       "    }\n",
       "</style>\n",
       "<table border=\"1\" class=\"dataframe\">\n",
       "  <thead>\n",
       "    <tr style=\"text-align: right;\">\n",
       "      <th></th>\n",
       "      <th>date</th>\n",
       "      <th>PriceStats</th>\n",
       "      <th>CPI</th>\n",
       "      <th>YearMonth</th>\n",
       "    </tr>\n",
       "  </thead>\n",
       "  <tbody>\n",
       "    <tr>\n",
       "      <th>0</th>\n",
       "      <td>2008-07-24</td>\n",
       "      <td>100.00000</td>\n",
       "      <td>100.0</td>\n",
       "      <td>2008-07</td>\n",
       "    </tr>\n",
       "    <tr>\n",
       "      <th>1</th>\n",
       "      <td>2008-07-25</td>\n",
       "      <td>99.99767</td>\n",
       "      <td>100.0</td>\n",
       "      <td>2008-07</td>\n",
       "    </tr>\n",
       "    <tr>\n",
       "      <th>2</th>\n",
       "      <td>2008-07-26</td>\n",
       "      <td>99.92376</td>\n",
       "      <td>100.0</td>\n",
       "      <td>2008-07</td>\n",
       "    </tr>\n",
       "    <tr>\n",
       "      <th>3</th>\n",
       "      <td>2008-07-27</td>\n",
       "      <td>99.91537</td>\n",
       "      <td>100.0</td>\n",
       "      <td>2008-07</td>\n",
       "    </tr>\n",
       "    <tr>\n",
       "      <th>4</th>\n",
       "      <td>2008-07-28</td>\n",
       "      <td>99.89491</td>\n",
       "      <td>100.0</td>\n",
       "      <td>2008-07</td>\n",
       "    </tr>\n",
       "  </tbody>\n",
       "</table>\n",
       "</div>"
      ],
      "text/plain": [
       "        date  PriceStats    CPI YearMonth\n",
       "0 2008-07-24   100.00000  100.0   2008-07\n",
       "1 2008-07-25    99.99767  100.0   2008-07\n",
       "2 2008-07-26    99.92376  100.0   2008-07\n",
       "3 2008-07-27    99.91537  100.0   2008-07\n",
       "4 2008-07-28    99.89491  100.0   2008-07"
      ]
     },
     "execution_count": 1477,
     "metadata": {},
     "output_type": "execute_result"
    }
   ],
   "source": [
    "# Extracting month and year together into series\n",
    "\n",
    "pricestats['YearMonth'] = pricestats.date.dt.strftime('%Y-%m')\n",
    "pricestats.head()"
   ]
  },
  {
   "cell_type": "code",
   "execution_count": 1478,
   "metadata": {},
   "outputs": [
    {
     "data": {
      "text/html": [
       "<div>\n",
       "<style scoped>\n",
       "    .dataframe tbody tr th:only-of-type {\n",
       "        vertical-align: middle;\n",
       "    }\n",
       "\n",
       "    .dataframe tbody tr th {\n",
       "        vertical-align: top;\n",
       "    }\n",
       "\n",
       "    .dataframe thead th {\n",
       "        text-align: right;\n",
       "    }\n",
       "</style>\n",
       "<table border=\"1\" class=\"dataframe\">\n",
       "  <thead>\n",
       "    <tr style=\"text-align: right;\">\n",
       "      <th></th>\n",
       "      <th>YearMonth</th>\n",
       "      <th>PriceStats_m</th>\n",
       "      <th>PriceStats_avg_rate</th>\n",
       "    </tr>\n",
       "  </thead>\n",
       "  <tbody>\n",
       "    <tr>\n",
       "      <th>0</th>\n",
       "      <td>2008-07</td>\n",
       "      <td>99.921038</td>\n",
       "      <td>NaN</td>\n",
       "    </tr>\n",
       "    <tr>\n",
       "      <th>1</th>\n",
       "      <td>2008-08</td>\n",
       "      <td>99.727196</td>\n",
       "      <td>-0.193995</td>\n",
       "    </tr>\n",
       "    <tr>\n",
       "      <th>2</th>\n",
       "      <td>2008-09</td>\n",
       "      <td>99.770512</td>\n",
       "      <td>0.043435</td>\n",
       "    </tr>\n",
       "    <tr>\n",
       "      <th>3</th>\n",
       "      <td>2008-10</td>\n",
       "      <td>99.011287</td>\n",
       "      <td>-0.760972</td>\n",
       "    </tr>\n",
       "    <tr>\n",
       "      <th>4</th>\n",
       "      <td>2008-11</td>\n",
       "      <td>97.221704</td>\n",
       "      <td>-1.80745</td>\n",
       "    </tr>\n",
       "  </tbody>\n",
       "</table>\n",
       "</div>"
      ],
      "text/plain": [
       "  YearMonth  PriceStats_m PriceStats_avg_rate\n",
       "0   2008-07     99.921038                 NaN\n",
       "1   2008-08     99.727196           -0.193995\n",
       "2   2008-09     99.770512            0.043435\n",
       "3   2008-10     99.011287           -0.760972\n",
       "4   2008-11     97.221704            -1.80745"
      ]
     },
     "execution_count": 1478,
     "metadata": {},
     "output_type": "execute_result"
    }
   ],
   "source": [
    "# Creating a new dataframe for monthly calculations\n",
    "\n",
    "pricestats_monthly = pd.DataFrame(columns=['YearMonth','PriceStats_m','PriceStats_avg_rate'])\n",
    "pricestats_monthly['PriceStats_m'] = pricestats.groupby('YearMonth')['PriceStats'].mean().values\n",
    "pricestats_monthly.loc[1:, 'PriceStats_avg_rate'] = calc_inflation_rate(pricestats_monthly.PriceStats_m.values)\n",
    "pricestats_monthly['YearMonth'] = cpi.YearMonth # taking the months from the cpi dataframe\n",
    "pricestats_monthly.head()"
   ]
  },
  {
   "cell_type": "code",
   "execution_count": 1479,
   "metadata": {},
   "outputs": [
    {
     "name": "stdout",
     "output_type": "stream",
     "text": [
      "The inflation rate using the average PriceStats value of all days in a month for February 2013 was 1.03587 %\n"
     ]
    }
   ],
   "source": [
    "print(\"The inflation rate using the average PriceStats value of all days in a month for February 2013 was %0.5f \" % pricestats_monthly[pricestats_monthly.YearMonth == '2013-02']['PriceStats_avg_rate'] + \"%\")"
   ]
  },
  {
   "cell_type": "code",
   "execution_count": 1480,
   "metadata": {},
   "outputs": [
    {
     "data": {
      "text/html": [
       "<div>\n",
       "<style scoped>\n",
       "    .dataframe tbody tr th:only-of-type {\n",
       "        vertical-align: middle;\n",
       "    }\n",
       "\n",
       "    .dataframe tbody tr th {\n",
       "        vertical-align: top;\n",
       "    }\n",
       "\n",
       "    .dataframe thead th {\n",
       "        text-align: right;\n",
       "    }\n",
       "</style>\n",
       "<table border=\"1\" class=\"dataframe\">\n",
       "  <thead>\n",
       "    <tr style=\"text-align: right;\">\n",
       "      <th></th>\n",
       "      <th>YearMonth</th>\n",
       "      <th>PriceStats_m</th>\n",
       "      <th>PriceStats_avg_rate</th>\n",
       "      <th>PriceStats_lastday_rate</th>\n",
       "    </tr>\n",
       "  </thead>\n",
       "  <tbody>\n",
       "    <tr>\n",
       "      <th>0</th>\n",
       "      <td>2008-07</td>\n",
       "      <td>99.921038</td>\n",
       "      <td>NaN</td>\n",
       "      <td>NaN</td>\n",
       "    </tr>\n",
       "    <tr>\n",
       "      <th>1</th>\n",
       "      <td>2008-08</td>\n",
       "      <td>99.727196</td>\n",
       "      <td>-0.193995</td>\n",
       "      <td>-0.213643</td>\n",
       "    </tr>\n",
       "    <tr>\n",
       "      <th>2</th>\n",
       "      <td>2008-09</td>\n",
       "      <td>99.770512</td>\n",
       "      <td>0.043435</td>\n",
       "      <td>0.054057</td>\n",
       "    </tr>\n",
       "    <tr>\n",
       "      <th>3</th>\n",
       "      <td>2008-10</td>\n",
       "      <td>99.011287</td>\n",
       "      <td>-0.760972</td>\n",
       "      <td>-1.726423</td>\n",
       "    </tr>\n",
       "    <tr>\n",
       "      <th>4</th>\n",
       "      <td>2008-11</td>\n",
       "      <td>97.221704</td>\n",
       "      <td>-1.80745</td>\n",
       "      <td>-1.462844</td>\n",
       "    </tr>\n",
       "  </tbody>\n",
       "</table>\n",
       "</div>"
      ],
      "text/plain": [
       "  YearMonth  PriceStats_m PriceStats_avg_rate  PriceStats_lastday_rate\n",
       "0   2008-07     99.921038                 NaN                      NaN\n",
       "1   2008-08     99.727196           -0.193995                -0.213643\n",
       "2   2008-09     99.770512            0.043435                 0.054057\n",
       "3   2008-10     99.011287           -0.760972                -1.726423\n",
       "4   2008-11     97.221704            -1.80745                -1.462844"
      ]
     },
     "execution_count": 1480,
     "metadata": {},
     "output_type": "execute_result"
    }
   ],
   "source": [
    "# Creating a new column for calculating the inflation rate using the PriceStats value the last day of the month\n",
    "\n",
    "pricestats_monthly.loc[1:, 'PriceStats_lastday_rate'] = calc_inflation_rate(cpi.PriceStats.values)\n",
    "pricestats_monthly.head()"
   ]
  },
  {
   "cell_type": "code",
   "execution_count": 1481,
   "metadata": {},
   "outputs": [
    {
     "name": "stdout",
     "output_type": "stream",
     "text": [
      "The inflation rate using the PriceStats value of the last day of month for February 2013 was 1.15945 %\n"
     ]
    }
   ],
   "source": [
    "print(\"The inflation rate using the PriceStats value of the last day of month for February 2013 was %0.5f \" % pricestats_monthly[pricestats_monthly.YearMonth == '2013-02']['PriceStats_lastday_rate'] + \"%\")"
   ]
  },
  {
   "cell_type": "markdown",
   "metadata": {},
   "source": [
    "Method II: Calculate daily inflation rates (i.e. the percentage change of $\\text {PriceStats}$ per day). Then take the average of daily inflation rates across all days of the month to get a representative of the monthly inflation rate. Finally multiplication by 30 to change the units from per day to per month.\n",
    "\n",
    "<b> Plot the monthly inflation rate for this method and report the value for February, 2013</b>"
   ]
  },
  {
   "cell_type": "code",
   "execution_count": 1482,
   "metadata": {},
   "outputs": [
    {
     "data": {
      "text/html": [
       "<div>\n",
       "<style scoped>\n",
       "    .dataframe tbody tr th:only-of-type {\n",
       "        vertical-align: middle;\n",
       "    }\n",
       "\n",
       "    .dataframe tbody tr th {\n",
       "        vertical-align: top;\n",
       "    }\n",
       "\n",
       "    .dataframe thead th {\n",
       "        text-align: right;\n",
       "    }\n",
       "</style>\n",
       "<table border=\"1\" class=\"dataframe\">\n",
       "  <thead>\n",
       "    <tr style=\"text-align: right;\">\n",
       "      <th></th>\n",
       "      <th>YearMonth</th>\n",
       "      <th>PriceStats_daily_rate</th>\n",
       "    </tr>\n",
       "  </thead>\n",
       "  <tbody>\n",
       "    <tr>\n",
       "      <th>0</th>\n",
       "      <td>2008-07</td>\n",
       "      <td>-0.568484</td>\n",
       "    </tr>\n",
       "    <tr>\n",
       "      <th>1</th>\n",
       "      <td>2008-08</td>\n",
       "      <td>-0.206947</td>\n",
       "    </tr>\n",
       "    <tr>\n",
       "      <th>2</th>\n",
       "      <td>2008-09</td>\n",
       "      <td>0.054266</td>\n",
       "    </tr>\n",
       "    <tr>\n",
       "      <th>3</th>\n",
       "      <td>2008-10</td>\n",
       "      <td>-1.684524</td>\n",
       "    </tr>\n",
       "    <tr>\n",
       "      <th>4</th>\n",
       "      <td>2008-11</td>\n",
       "      <td>-1.473188</td>\n",
       "    </tr>\n",
       "  </tbody>\n",
       "</table>\n",
       "</div>"
      ],
      "text/plain": [
       "  YearMonth  PriceStats_daily_rate\n",
       "0   2008-07              -0.568484\n",
       "1   2008-08              -0.206947\n",
       "2   2008-09               0.054266\n",
       "3   2008-10              -1.684524\n",
       "4   2008-11              -1.473188"
      ]
     },
     "execution_count": 1482,
     "metadata": {},
     "output_type": "execute_result"
    }
   ],
   "source": [
    "# Creating a new dataframe for daily calculations\n",
    "\n",
    "pricestats_daily = pd.DataFrame(columns=['YearMonth', 'PriceStats_daily_rate'])\n",
    "\n",
    "pricestats.loc[1:,'daily_values'] = calc_inflation_rate(pricestats.PriceStats.values)\n",
    "pricestats_daily['PriceStats_daily_rate'] = pricestats.groupby('YearMonth')['daily_values'].mean().values * 30\n",
    "pricestats_daily['YearMonth'] = cpi.YearMonth\n",
    "pricestats_daily.head()"
   ]
  },
  {
   "cell_type": "code",
   "execution_count": 1483,
   "metadata": {},
   "outputs": [
    {
     "name": "stdout",
     "output_type": "stream",
     "text": [
      "The inflation rate from averaging daily rates from PriceStats for the month of February in 2013 was 1.23551 %\n"
     ]
    }
   ],
   "source": [
    "print(\"The inflation rate from averaging daily rates from PriceStats for the month of February in 2013 was %0.5f\" % pricestats_daily[pricestats_daily.YearMonth == '2013-02']['PriceStats_daily_rate'] + \" %\")"
   ]
  },
  {
   "cell_type": "code",
   "execution_count": 1484,
   "metadata": {},
   "outputs": [
    {
     "data": {
      "text/html": [
       "\n",
       "\n",
       "\n",
       "\n",
       "\n",
       "\n",
       "  <div class=\"bk-root\" id=\"aaabbd07-b186-4be6-9801-e00f3a6f3c43\" data-root-id=\"555872\"></div>\n"
      ]
     },
     "metadata": {},
     "output_type": "display_data"
    },
    {
     "data": {
      "application/javascript": [
       "(function(root) {\n",
       "  function embed_document(root) {\n",
       "    \n",
       "  const docs_json = {\"07f6aaba-a3b8-4020-ae19-efe3a83f38db\":{\"defs\":[],\"roots\":{\"references\":[{\"attributes\":{\"below\":[{\"id\":\"555883\"}],\"center\":[{\"id\":\"555886\"},{\"id\":\"555890\"},{\"id\":\"555921\"}],\"left\":[{\"id\":\"555887\"}],\"renderers\":[{\"id\":\"555909\"}],\"title\":{\"id\":\"555873\"},\"toolbar\":{\"id\":\"555898\"},\"width\":800,\"x_range\":{\"id\":\"555875\"},\"x_scale\":{\"id\":\"555879\"},\"y_range\":{\"id\":\"555877\"},\"y_scale\":{\"id\":\"555881\"}},\"id\":\"555872\",\"subtype\":\"Figure\",\"type\":\"Plot\"},{\"attributes\":{\"coordinates\":null,\"group\":null,\"items\":[{\"id\":\"555922\"}],\"location\":\"bottom_right\"},\"id\":\"555921\",\"type\":\"Legend\"},{\"attributes\":{},\"id\":\"555918\",\"type\":\"UnionRenderers\"},{\"attributes\":{\"axis_label\":\"Monthly IR\",\"coordinates\":null,\"formatter\":{\"id\":\"555913\"},\"group\":null,\"major_label_policy\":{\"id\":\"555914\"},\"ticker\":{\"id\":\"555888\"}},\"id\":\"555887\",\"type\":\"LinearAxis\"},{\"attributes\":{},\"id\":\"555888\",\"type\":\"BasicTicker\"},{\"attributes\":{\"coordinates\":null,\"data_source\":{\"id\":\"555905\"},\"glyph\":{\"id\":\"555906\"},\"group\":null,\"hover_glyph\":null,\"muted_glyph\":{\"id\":\"555908\"},\"nonselection_glyph\":{\"id\":\"555907\"},\"view\":{\"id\":\"555910\"}},\"id\":\"555909\",\"type\":\"GlyphRenderer\"},{\"attributes\":{},\"id\":\"555913\",\"type\":\"BasicTickFormatter\"},{\"attributes\":{},\"id\":\"555877\",\"type\":\"DataRange1d\"},{\"attributes\":{},\"id\":\"555896\",\"type\":\"HelpTool\"},{\"attributes\":{},\"id\":\"555919\",\"type\":\"Selection\"},{\"attributes\":{\"axis_label\":\"Time\",\"coordinates\":null,\"formatter\":{\"id\":\"555916\"},\"group\":null,\"major_label_overrides\":{\"0\":\"2008\",\"105\":\"2017\",\"140\":\"2020\",\"35\":\"2011\",\"70\":\"2014\"},\"major_label_policy\":{\"id\":\"555917\"},\"ticker\":{\"id\":\"555923\"}},\"id\":\"555883\",\"type\":\"LinearAxis\"},{\"attributes\":{},\"id\":\"555875\",\"type\":\"DataRange1d\"},{\"attributes\":{\"line_alpha\":0.2,\"line_color\":\"lightskyblue\",\"line_width\":2.5,\"x\":{\"field\":\"x\"},\"y\":{\"field\":\"y\"}},\"id\":\"555908\",\"type\":\"Line\"},{\"attributes\":{},\"id\":\"555894\",\"type\":\"SaveTool\"},{\"attributes\":{\"line_color\":\"lightskyblue\",\"line_width\":2.5,\"x\":{\"field\":\"x\"},\"y\":{\"field\":\"y\"}},\"id\":\"555906\",\"type\":\"Line\"},{\"attributes\":{\"source\":{\"id\":\"555905\"}},\"id\":\"555910\",\"type\":\"CDSView\"},{\"attributes\":{},\"id\":\"555892\",\"type\":\"WheelZoomTool\"},{\"attributes\":{\"overlay\":{\"id\":\"555897\"}},\"id\":\"555893\",\"type\":\"BoxZoomTool\"},{\"attributes\":{},\"id\":\"555879\",\"type\":\"LinearScale\"},{\"attributes\":{\"line_alpha\":0.1,\"line_color\":\"lightskyblue\",\"line_width\":2.5,\"x\":{\"field\":\"x\"},\"y\":{\"field\":\"y\"}},\"id\":\"555907\",\"type\":\"Line\"},{\"attributes\":{},\"id\":\"555916\",\"type\":\"BasicTickFormatter\"},{\"attributes\":{\"axis\":{\"id\":\"555887\"},\"coordinates\":null,\"dimension\":1,\"group\":null,\"ticker\":null},\"id\":\"555890\",\"type\":\"Grid\"},{\"attributes\":{\"data\":{\"x\":[0,1,2,3,4,5,6,7,8,9,10,11,12,13,14,15,16,17,18,19,20,21,22,23,24,25,26,27,28,29,30,31,32,33,34,35,36,37,38,39,40,41,42,43,44,45,46,47,48,49,50,51,52,53,54,55,56,57,58,59,60,61,62,63,64,65,66,67,68,69,70,71,72,73,74,75,76,77,78,79,80,81,82,83,84,85,86,87,88,89,90,91,92,93,94,95,96,97,98,99,100,101,102,103,104,105,106,107,108,109,110,111,112,113,114,115,116,117,118,119,120,121,122,123,124,125,126,127,128,129,130,131,132,133,134,135,136],\"y\":{\"__ndarray__\":\"4GJXrAQx4r9h7N5SPn3Kv76+Eu7AyKs/ldDKrs/z+r+6PEg5LZL3v8J5OpRtreC/pybcn/y55j81k6JJ1lnYPyNcbkFOdNs/4JieevaW0j+qaYcG7QTVPxFTY+b82tA/sJ0hYXl71T/SsxKNOSaXvx/XPFgPg6i//3xqUPMr4T+Jp1ZKtlzEv15tcN5RvLW/6hZpBQpI1D87wrrXBrLYP7CSaDaqCds/F6wVPOsm6D+sU8KEu+fTv+7HieXoV8o/iP6uPrG70D/sijJf77rMv/be4uTuctU/djFspBiR3D90z9+GubDZP2FqkmwCRME//najng/AzT+VStAQ4r/OP0dfbAuFz98/iHK3VvD26j9IcGQe3tjEv79vQO4sPtS/Zqf7Oy424D9IWnqUjfZcP87VyUNGpL6/5bDlWRRBrj+Odf3jf2/Lv+D37lwC3rK/PguUZjKJ4T8cpKoSlSrrP2ZBa3W9v+c/2FmmGG4Wm7+IKeat20bTv7mvG6UC+eG/Z4Y7SxLd2z+MZtwvBX7vPyL2JXeZjLk/AJmUOlmryr+vFNkSsILJv6TlieRdCtC/99xwlhy82T/qf5IOo8TzPxEwrDp/VMq/X0Qkf1QzxL+weOmJv3TcP5S/Xha0X9C/hcp0224+1T/4mVptq4e5PyBcn/OIkrW/JJ4laz7bw7+wZWFCJm6fP2QV1Ax1kMo/Uki7bKUppj9ndYB4d/jVPxCiQtHzidE/PW36QG5Uzz92A2PXTRrGPxVxK/7VN7s/3fv3+HTWdT8alDk6GxqzPwQ9mYzdhbE/+YyDfaityb9ogKmAn5vIvy9Xbtvw1eW/ztChFzCJ2b/w+FsZUh/oP4LCNXtBd8o/FP4IQOcs1z8oND2rOK/YP7aWpS9ssMQ/rO65z1VboT+I8Prutgu0v6I4jkSrJ76/aIXrLTvchb+R1dGe2u7Mv7QWuocRa4y/xGJBhVnA1b9wwGSTw9WWvyvYJmfw/OM/FrsMv5Rr4D/Ct7NophbWP/h3exshxrs/jD6rUYockL/ISjqBONzAP7tnsbS9L8k/pAYkZYDWvj8I3WH88Nqxv/pW7BIAHtc/RM4zc3OCxT/cOAajQeHMPwjy9IC3hsQ/h+nW4Hhxzj+o1JuAAJG1PzOUYxupDb+/UxHoX2Zm0z/ArqRH61/SPywtlqywX+E/6HHIqr8Pwj/sEcYZ43XGP2qqUXZedK8/+UdjrpM+2j8YOHcpWaqTP96Iw8v3ntA/ltIPGfYC3z9ZX2EM2mHXP2SCiR/57Zw/EC1Xq3Q5yj9YU9o5j0WIPw3yTtbZxNE/JrBrtZ0FyD9m7tjLdyzTv4MUCi8E7tG/I5y6lLGovj9J7wn/9P3bP4xWsXuzUOE/4KZnFhlJ3D9beCK5Iwe8Pwv5q8Z10ry/wODCTNHAwj+D8sVmLdG2v34Vj/zVxtE/O/d2wpOnuT8hPs9Km4q4Pw==\",\"dtype\":\"float64\",\"order\":\"little\",\"shape\":[137]}},\"selected\":{\"id\":\"555919\"},\"selection_policy\":{\"id\":\"555918\"}},\"id\":\"555905\",\"type\":\"ColumnDataSource\"},{\"attributes\":{},\"id\":\"555881\",\"type\":\"LinearScale\"},{\"attributes\":{\"label\":{\"value\":\"PriceStats Average Daily\"},\"renderers\":[{\"id\":\"555909\"}]},\"id\":\"555922\",\"type\":\"LegendItem\"},{\"attributes\":{\"axis\":{\"id\":\"555883\"},\"coordinates\":null,\"group\":null,\"ticker\":null},\"id\":\"555886\",\"type\":\"Grid\"},{\"attributes\":{},\"id\":\"555914\",\"type\":\"AllLabels\"},{\"attributes\":{},\"id\":\"555917\",\"type\":\"AllLabels\"},{\"attributes\":{\"coordinates\":null,\"group\":null,\"text\":\"Monthly Inflation Rate in %\"},\"id\":\"555873\",\"type\":\"Title\"},{\"attributes\":{},\"id\":\"555895\",\"type\":\"ResetTool\"},{\"attributes\":{\"tools\":[{\"id\":\"555891\"},{\"id\":\"555892\"},{\"id\":\"555893\"},{\"id\":\"555894\"},{\"id\":\"555895\"},{\"id\":\"555896\"}]},\"id\":\"555898\",\"type\":\"Toolbar\"},{\"attributes\":{},\"id\":\"555891\",\"type\":\"PanTool\"},{\"attributes\":{\"ticks\":[0,35,70,105,140]},\"id\":\"555923\",\"type\":\"FixedTicker\"},{\"attributes\":{\"bottom_units\":\"screen\",\"coordinates\":null,\"fill_alpha\":0.5,\"fill_color\":\"lightgrey\",\"group\":null,\"left_units\":\"screen\",\"level\":\"overlay\",\"line_alpha\":1.0,\"line_color\":\"black\",\"line_dash\":[4,4],\"line_width\":2,\"right_units\":\"screen\",\"syncable\":false,\"top_units\":\"screen\"},\"id\":\"555897\",\"type\":\"BoxAnnotation\"}],\"root_ids\":[\"555872\"]},\"title\":\"Bokeh Application\",\"version\":\"2.4.1\"}};\n",
       "  const render_items = [{\"docid\":\"07f6aaba-a3b8-4020-ae19-efe3a83f38db\",\"root_ids\":[\"555872\"],\"roots\":{\"555872\":\"aaabbd07-b186-4be6-9801-e00f3a6f3c43\"}}];\n",
       "  root.Bokeh.embed.embed_items_notebook(docs_json, render_items);\n",
       "\n",
       "  }\n",
       "  if (root.Bokeh !== undefined) {\n",
       "    embed_document(root);\n",
       "  } else {\n",
       "    let attempts = 0;\n",
       "    const timer = setInterval(function(root) {\n",
       "      if (root.Bokeh !== undefined) {\n",
       "        clearInterval(timer);\n",
       "        embed_document(root);\n",
       "      } else {\n",
       "        attempts++;\n",
       "        if (attempts > 100) {\n",
       "          clearInterval(timer);\n",
       "          console.log(\"Bokeh: ERROR: Unable to run BokehJS code because BokehJS library is missing\");\n",
       "        }\n",
       "      }\n",
       "    }, 10, root)\n",
       "  }\n",
       "})(window);"
      ],
      "application/vnd.bokehjs_exec.v0+json": ""
     },
     "metadata": {
      "application/vnd.bokehjs_exec.v0+json": {
       "id": "555872"
      }
     },
     "output_type": "display_data"
    }
   ],
   "source": [
    "# Plotting the monthly inflation rate from Pricestats calculated from the average across all days of the month\n",
    "\n",
    "p = figure(plot_width=800, plot_height=600, title = \"Monthly Inflation Rate in %\")\n",
    "p.line(pricestats_daily.index, pricestats_daily['PriceStats_daily_rate'], line_color=\"lightskyblue\",line_width=2.5, legend_label =\"PriceStats Average Daily\")\n",
    "p.xaxis.ticker = [0, 35, 70, 105, 140]\n",
    "p.xaxis.major_label_overrides = {0: '2008', 35: '2011', 70: '2014', 105: '2017', 140: '2020'}\n",
    "p.xaxis.axis_label ='Time'\n",
    "p.yaxis.axis_label ='Monthly IR'\n",
    "p.legend.location='bottom_right'\n",
    "\n",
    "show(p)"
   ]
  },
  {
   "cell_type": "markdown",
   "metadata": {},
   "source": [
    "# Inflation Rate from BER\n",
    "\n",
    "$\\text {BER}$ data is not only reported on a daily basis but the values are calculated over a 10 year period. In order to use this data to get the \"monthly\" inflation rate one must:\n",
    "\n",
    "    - Choose a representative value of $\\text {BER}$ for each month (e.g. the average or the value on the last day of the month);\n",
    "    - \"Deannualize\" the monthly representatives above to convert to the monthly inflation rate. This deannualization of $\\text {BER}$ can be done by using the formula\n",
    "    \n",
    "$$\\text {BER}^{\\text {monthly}}_ t = (\\text {BER}^{\\text {yearly}}_ t +1)^\\frac {1}{12} -1$$\n",
    "\n",
    "where $t$ indexes the days.\n",
    "\n",
    "<b> Use the average value of $\\text {BER}$ over each month as the monthly representative, and deannualize this value to find the monthly inflation rate. Report the monthly inflation rate for February, 2013</b>"
   ]
  },
  {
   "cell_type": "code",
   "execution_count": 1485,
   "metadata": {},
   "outputs": [
    {
     "data": {
      "text/html": [
       "<div>\n",
       "<style scoped>\n",
       "    .dataframe tbody tr th:only-of-type {\n",
       "        vertical-align: middle;\n",
       "    }\n",
       "\n",
       "    .dataframe tbody tr th {\n",
       "        vertical-align: top;\n",
       "    }\n",
       "\n",
       "    .dataframe thead th {\n",
       "        text-align: right;\n",
       "    }\n",
       "</style>\n",
       "<table border=\"1\" class=\"dataframe\">\n",
       "  <thead>\n",
       "    <tr style=\"text-align: right;\">\n",
       "      <th></th>\n",
       "      <th>DATE</th>\n",
       "      <th>T10YIE</th>\n",
       "    </tr>\n",
       "  </thead>\n",
       "  <tbody>\n",
       "    <tr>\n",
       "      <th>0</th>\n",
       "      <td>2003-01-02</td>\n",
       "      <td>1.64</td>\n",
       "    </tr>\n",
       "    <tr>\n",
       "      <th>1</th>\n",
       "      <td>2003-01-03</td>\n",
       "      <td>1.62</td>\n",
       "    </tr>\n",
       "    <tr>\n",
       "      <th>2</th>\n",
       "      <td>2003-01-06</td>\n",
       "      <td>1.63</td>\n",
       "    </tr>\n",
       "    <tr>\n",
       "      <th>3</th>\n",
       "      <td>2003-01-07</td>\n",
       "      <td>1.62</td>\n",
       "    </tr>\n",
       "    <tr>\n",
       "      <th>4</th>\n",
       "      <td>2003-01-08</td>\n",
       "      <td>1.71</td>\n",
       "    </tr>\n",
       "  </tbody>\n",
       "</table>\n",
       "</div>"
      ],
      "text/plain": [
       "        DATE  T10YIE\n",
       "0 2003-01-02    1.64\n",
       "1 2003-01-03    1.62\n",
       "2 2003-01-06    1.63\n",
       "3 2003-01-07    1.62\n",
       "4 2003-01-08    1.71"
      ]
     },
     "execution_count": 1485,
     "metadata": {},
     "output_type": "execute_result"
    }
   ],
   "source": [
    "# Loading and preparing the dataset\n",
    "\n",
    "ber = pd.read_csv('T10YIE.csv', parse_dates=['DATE'])\n",
    "ber.head()"
   ]
  },
  {
   "cell_type": "markdown",
   "metadata": {},
   "source": [
    "We notice that the BER time series starts from January 2003 onwards instead of July 2008 like the CPI and PriceStats time series."
   ]
  },
  {
   "cell_type": "code",
   "execution_count": 1486,
   "metadata": {},
   "outputs": [
    {
     "data": {
      "text/html": [
       "<div>\n",
       "<style scoped>\n",
       "    .dataframe tbody tr th:only-of-type {\n",
       "        vertical-align: middle;\n",
       "    }\n",
       "\n",
       "    .dataframe tbody tr th {\n",
       "        vertical-align: top;\n",
       "    }\n",
       "\n",
       "    .dataframe thead th {\n",
       "        text-align: right;\n",
       "    }\n",
       "</style>\n",
       "<table border=\"1\" class=\"dataframe\">\n",
       "  <thead>\n",
       "    <tr style=\"text-align: right;\">\n",
       "      <th></th>\n",
       "      <th>DATE</th>\n",
       "      <th>T10YIE</th>\n",
       "    </tr>\n",
       "  </thead>\n",
       "  <tbody>\n",
       "    <tr>\n",
       "      <th>12</th>\n",
       "      <td>2003-01-20</td>\n",
       "      <td>NaN</td>\n",
       "    </tr>\n",
       "    <tr>\n",
       "      <th>32</th>\n",
       "      <td>2003-02-17</td>\n",
       "      <td>NaN</td>\n",
       "    </tr>\n",
       "    <tr>\n",
       "      <th>76</th>\n",
       "      <td>2003-04-18</td>\n",
       "      <td>NaN</td>\n",
       "    </tr>\n",
       "    <tr>\n",
       "      <th>102</th>\n",
       "      <td>2003-05-26</td>\n",
       "      <td>NaN</td>\n",
       "    </tr>\n",
       "    <tr>\n",
       "      <th>131</th>\n",
       "      <td>2003-07-04</td>\n",
       "      <td>NaN</td>\n",
       "    </tr>\n",
       "    <tr>\n",
       "      <th>...</th>\n",
       "      <td>...</td>\n",
       "      <td>...</td>\n",
       "    </tr>\n",
       "    <tr>\n",
       "      <th>4251</th>\n",
       "      <td>2019-04-19</td>\n",
       "      <td>NaN</td>\n",
       "    </tr>\n",
       "    <tr>\n",
       "      <th>4277</th>\n",
       "      <td>2019-05-27</td>\n",
       "      <td>NaN</td>\n",
       "    </tr>\n",
       "    <tr>\n",
       "      <th>4305</th>\n",
       "      <td>2019-07-04</td>\n",
       "      <td>NaN</td>\n",
       "    </tr>\n",
       "    <tr>\n",
       "      <th>4347</th>\n",
       "      <td>2019-09-02</td>\n",
       "      <td>NaN</td>\n",
       "    </tr>\n",
       "    <tr>\n",
       "      <th>4377</th>\n",
       "      <td>2019-10-14</td>\n",
       "      <td>NaN</td>\n",
       "    </tr>\n",
       "  </tbody>\n",
       "</table>\n",
       "<p>178 rows × 2 columns</p>\n",
       "</div>"
      ],
      "text/plain": [
       "           DATE  T10YIE\n",
       "12   2003-01-20     NaN\n",
       "32   2003-02-17     NaN\n",
       "76   2003-04-18     NaN\n",
       "102  2003-05-26     NaN\n",
       "131  2003-07-04     NaN\n",
       "...         ...     ...\n",
       "4251 2019-04-19     NaN\n",
       "4277 2019-05-27     NaN\n",
       "4305 2019-07-04     NaN\n",
       "4347 2019-09-02     NaN\n",
       "4377 2019-10-14     NaN\n",
       "\n",
       "[178 rows x 2 columns]"
      ]
     },
     "execution_count": 1486,
     "metadata": {},
     "output_type": "execute_result"
    }
   ],
   "source": [
    "# Checking for null values\n",
    "\n",
    "ber[ber.T10YIE.isnull()]"
   ]
  },
  {
   "cell_type": "code",
   "execution_count": 1487,
   "metadata": {},
   "outputs": [
    {
     "data": {
      "text/html": [
       "<div>\n",
       "<style scoped>\n",
       "    .dataframe tbody tr th:only-of-type {\n",
       "        vertical-align: middle;\n",
       "    }\n",
       "\n",
       "    .dataframe tbody tr th {\n",
       "        vertical-align: top;\n",
       "    }\n",
       "\n",
       "    .dataframe thead th {\n",
       "        text-align: right;\n",
       "    }\n",
       "</style>\n",
       "<table border=\"1\" class=\"dataframe\">\n",
       "  <thead>\n",
       "    <tr style=\"text-align: right;\">\n",
       "      <th></th>\n",
       "      <th>DATE</th>\n",
       "      <th>T10YIE</th>\n",
       "    </tr>\n",
       "  </thead>\n",
       "  <tbody>\n",
       "    <tr>\n",
       "      <th>0</th>\n",
       "      <td>2003-01-02</td>\n",
       "      <td>1.64</td>\n",
       "    </tr>\n",
       "    <tr>\n",
       "      <th>1</th>\n",
       "      <td>2003-01-03</td>\n",
       "      <td>1.62</td>\n",
       "    </tr>\n",
       "    <tr>\n",
       "      <th>2</th>\n",
       "      <td>2003-01-06</td>\n",
       "      <td>1.63</td>\n",
       "    </tr>\n",
       "    <tr>\n",
       "      <th>3</th>\n",
       "      <td>2003-01-07</td>\n",
       "      <td>1.62</td>\n",
       "    </tr>\n",
       "    <tr>\n",
       "      <th>4</th>\n",
       "      <td>2003-01-08</td>\n",
       "      <td>1.71</td>\n",
       "    </tr>\n",
       "  </tbody>\n",
       "</table>\n",
       "</div>"
      ],
      "text/plain": [
       "        DATE  T10YIE\n",
       "0 2003-01-02    1.64\n",
       "1 2003-01-03    1.62\n",
       "2 2003-01-06    1.63\n",
       "3 2003-01-07    1.62\n",
       "4 2003-01-08    1.71"
      ]
     },
     "execution_count": 1487,
     "metadata": {},
     "output_type": "execute_result"
    }
   ],
   "source": [
    "# Dropping missing values and reseting index\n",
    "\n",
    "ber = ber.dropna()\n",
    "ber.reset_index(drop=True, inplace=True)\n",
    "ber.head()"
   ]
  },
  {
   "cell_type": "code",
   "execution_count": 1488,
   "metadata": {},
   "outputs": [
    {
     "data": {
      "text/html": [
       "<div>\n",
       "<style scoped>\n",
       "    .dataframe tbody tr th:only-of-type {\n",
       "        vertical-align: middle;\n",
       "    }\n",
       "\n",
       "    .dataframe tbody tr th {\n",
       "        vertical-align: top;\n",
       "    }\n",
       "\n",
       "    .dataframe thead th {\n",
       "        text-align: right;\n",
       "    }\n",
       "</style>\n",
       "<table border=\"1\" class=\"dataframe\">\n",
       "  <thead>\n",
       "    <tr style=\"text-align: right;\">\n",
       "      <th></th>\n",
       "      <th>DATE</th>\n",
       "      <th>T10YIE</th>\n",
       "      <th>YearMonth</th>\n",
       "    </tr>\n",
       "  </thead>\n",
       "  <tbody>\n",
       "    <tr>\n",
       "      <th>0</th>\n",
       "      <td>2003-01-02</td>\n",
       "      <td>1.64</td>\n",
       "      <td>2003-01</td>\n",
       "    </tr>\n",
       "    <tr>\n",
       "      <th>1</th>\n",
       "      <td>2003-01-03</td>\n",
       "      <td>1.62</td>\n",
       "      <td>2003-01</td>\n",
       "    </tr>\n",
       "    <tr>\n",
       "      <th>2</th>\n",
       "      <td>2003-01-06</td>\n",
       "      <td>1.63</td>\n",
       "      <td>2003-01</td>\n",
       "    </tr>\n",
       "    <tr>\n",
       "      <th>3</th>\n",
       "      <td>2003-01-07</td>\n",
       "      <td>1.62</td>\n",
       "      <td>2003-01</td>\n",
       "    </tr>\n",
       "    <tr>\n",
       "      <th>4</th>\n",
       "      <td>2003-01-08</td>\n",
       "      <td>1.71</td>\n",
       "      <td>2003-01</td>\n",
       "    </tr>\n",
       "  </tbody>\n",
       "</table>\n",
       "</div>"
      ],
      "text/plain": [
       "        DATE  T10YIE YearMonth\n",
       "0 2003-01-02    1.64   2003-01\n",
       "1 2003-01-03    1.62   2003-01\n",
       "2 2003-01-06    1.63   2003-01\n",
       "3 2003-01-07    1.62   2003-01\n",
       "4 2003-01-08    1.71   2003-01"
      ]
     },
     "execution_count": 1488,
     "metadata": {},
     "output_type": "execute_result"
    }
   ],
   "source": [
    "# Extracting month and year together into series\n",
    "\n",
    "ber['YearMonth'] = ber.DATE.dt.strftime('%Y-%m')\n",
    "ber.head()"
   ]
  },
  {
   "cell_type": "code",
   "execution_count": 1489,
   "metadata": {},
   "outputs": [
    {
     "data": {
      "text/html": [
       "<div>\n",
       "<style scoped>\n",
       "    .dataframe tbody tr th:only-of-type {\n",
       "        vertical-align: middle;\n",
       "    }\n",
       "\n",
       "    .dataframe tbody tr th {\n",
       "        vertical-align: top;\n",
       "    }\n",
       "\n",
       "    .dataframe thead th {\n",
       "        text-align: right;\n",
       "    }\n",
       "</style>\n",
       "<table border=\"1\" class=\"dataframe\">\n",
       "  <thead>\n",
       "    <tr style=\"text-align: right;\">\n",
       "      <th></th>\n",
       "      <th>YearMonth</th>\n",
       "      <th>BER_m</th>\n",
       "      <th>BER_avg_rate</th>\n",
       "    </tr>\n",
       "  </thead>\n",
       "  <tbody>\n",
       "    <tr>\n",
       "      <th>0</th>\n",
       "      <td>2008-07</td>\n",
       "      <td>2.438636</td>\n",
       "      <td>0.200983</td>\n",
       "    </tr>\n",
       "    <tr>\n",
       "      <th>1</th>\n",
       "      <td>2008-08</td>\n",
       "      <td>2.209524</td>\n",
       "      <td>0.182288</td>\n",
       "    </tr>\n",
       "    <tr>\n",
       "      <th>2</th>\n",
       "      <td>2008-09</td>\n",
       "      <td>1.836190</td>\n",
       "      <td>0.151743</td>\n",
       "    </tr>\n",
       "    <tr>\n",
       "      <th>3</th>\n",
       "      <td>2008-10</td>\n",
       "      <td>1.061818</td>\n",
       "      <td>0.088057</td>\n",
       "    </tr>\n",
       "    <tr>\n",
       "      <th>4</th>\n",
       "      <td>2008-11</td>\n",
       "      <td>0.638333</td>\n",
       "      <td>0.053039</td>\n",
       "    </tr>\n",
       "  </tbody>\n",
       "</table>\n",
       "</div>"
      ],
      "text/plain": [
       "  YearMonth     BER_m  BER_avg_rate\n",
       "0   2008-07  2.438636      0.200983\n",
       "1   2008-08  2.209524      0.182288\n",
       "2   2008-09  1.836190      0.151743\n",
       "3   2008-10  1.061818      0.088057\n",
       "4   2008-11  0.638333      0.053039"
      ]
     },
     "execution_count": 1489,
     "metadata": {},
     "output_type": "execute_result"
    }
   ],
   "source": [
    "# Creating a new dataframe for monthly calculations\n",
    "\n",
    "ber_monthly = pd.DataFrame(columns=['YearMonth', 'BER_m', 'BER_avg_rate'])\n",
    "mask = ber.YearMonth>='2008-07' # Making the calculations from July 2008 onwards \n",
    "ber_monthly['BER_m'] = ber[mask].groupby('YearMonth')['T10YIE'].mean().values\n",
    "ber_monthly['BER_avg_rate'] =( (ber_monthly['BER_m'] / 100 + 1)**(1/12) - 1) * 100 # as percentages\n",
    "ber_monthly['YearMonth'] = cpi.YearMonth\n",
    "ber_monthly.head()"
   ]
  },
  {
   "cell_type": "code",
   "execution_count": 1490,
   "metadata": {},
   "outputs": [
    {
     "name": "stdout",
     "output_type": "stream",
     "text": [
      "The inflation rate from the average value of BER over each month for the month of February 2013 was 0.21044 %\n"
     ]
    }
   ],
   "source": [
    "print(\"The inflation rate from the average value of BER over each month for the month of February 2013 was %0.5f \" % ber_monthly[ber_monthly.YearMonth == '2013-02']['BER_avg_rate'] +\"%\")"
   ]
  },
  {
   "cell_type": "markdown",
   "metadata": {},
   "source": [
    "<b> Overlay your estimates of monthly inflation rates and plot them on the same graph to compare.</b>"
   ]
  },
  {
   "cell_type": "code",
   "execution_count": 1491,
   "metadata": {},
   "outputs": [
    {
     "data": {
      "text/html": [
       "\n",
       "\n",
       "\n",
       "\n",
       "\n",
       "\n",
       "  <div class=\"bk-root\" id=\"8106dc68-c015-4c49-92f2-49d017525a4c\" data-root-id=\"559455\"></div>\n"
      ]
     },
     "metadata": {},
     "output_type": "display_data"
    },
    {
     "data": {
      "application/javascript": [
       "(function(root) {\n",
       "  function embed_document(root) {\n",
       "    \n",
       "  const docs_json = {\"e928a42f-6811-4600-8c0c-5fe920d852bf\":{\"defs\":[],\"roots\":{\"references\":[{\"attributes\":{\"below\":[{\"id\":\"559466\"}],\"center\":[{\"id\":\"559469\"},{\"id\":\"559473\"},{\"id\":\"559504\"}],\"left\":[{\"id\":\"559470\"}],\"renderers\":[{\"id\":\"559492\"},{\"id\":\"559510\"},{\"id\":\"559529\"},{\"id\":\"559550\"},{\"id\":\"559573\"}],\"title\":{\"id\":\"559456\"},\"toolbar\":{\"id\":\"559481\"},\"width\":800,\"x_range\":{\"id\":\"559458\"},\"x_scale\":{\"id\":\"559462\"},\"y_range\":{\"id\":\"559460\"},\"y_scale\":{\"id\":\"559464\"}},\"id\":\"559455\",\"subtype\":\"Figure\",\"type\":\"Plot\"},{\"attributes\":{},\"id\":\"559462\",\"type\":\"LinearScale\"},{\"attributes\":{\"data\":{\"x\":[0,1,2,3,4,5,6,7,8,9,10,11,12,13,14,15,16,17,18,19,20,21,22,23,24,25,26,27,28,29,30,31,32,33,34,35,36,37,38,39,40,41,42,43,44,45,46,47,48,49,50,51,52,53,54,55,56,57,58,59,60,61,62,63,64,65,66,67,68,69,70,71,72,73,74,75,76,77,78,79,80,81,82,83,84,85,86,87,88,89,90,91,92,93,94,95,96,97,98,99,100,101,102,103,104,105,106,107,108,109,110,111,112,113,114,115,116,117,118,119,120,121,122,123,124,125,126,127,128,129,130,131,132,133,134,135,136],\"y\":[\"NaN\",-0.19399487675296312,0.043435019436186884,-0.7609715724647784,-1.8074539606362034,-1.0349263421211725,0.296346430155979,0.669380523396351,0.21600188295931444,0.2654594373426297,0.3807543103475282,0.28451353997736695,0.32902065636483213,0.13079465343787747,0.05129611266122615,0.05225894301003325,0.28546493600393713,-0.1449917053534246,0.47208099248996555,-0.1001045594178334,0.6190776852928467,0.4995348849479551,0.40583163770456093,-0.3696044850438075,0.36443572027775506,0.10950155949593507,0.05712067557943278,0.445137075981607,0.3441041209770212,0.17951120578899996,0.2619435541830032,0.252819347738016,0.3379929503638259,0.7152234456973389,0.4684743556167304,-0.3766442920405372,0.10859125297132412,0.10621393965431314,0.20304610128444503,-0.22402629000099192,0.027703995605532727,-0.27774607699851855,0.36108011953264924,0.5997327881045251,0.9163807544896464,0.386297975746627,-0.26647914471132206,-0.3808920615823382,-0.10277770331068958,0.8151909949634941,0.54833059582739,0.03513971822852674,-0.42557020562750647,-0.2836686588535197,0.0894513982563338,1.03586894852065,0.31274534101411944,-0.10168664925356043,0.16025761583289316,0.07966546692517752,0.04997085456523103,0.11505346853527669,0.08788570763619952,-0.159352578007683,-0.04463856012710956,0.06380585487250963,0.20818384932805503,0.16687169849318167,0.25581537107363034,0.2854303496508782,0.23230627188713268,0.13628993168214157,0.06919100678607223,0.04599571943490939,0.07875041687126824,-0.0927570648517028,-0.18063629787191746,-0.45802784224736076,-0.659890070139254,0.24403534032018445,0.5127943384996109,0.16247618731998764,0.5035359564594262,0.2640784035000675,0.0943027877249795,-0.010029065772826702,-0.20037370933991228,0.036323122975520684,-0.12722973574600327,-0.12546013606952697,-0.19094578397259981,-0.28593346223194116,0.41379275781922703,0.5035583809743196,0.4728797759215507,0.32387803380681396,-0.030562245362342144,0.019066166744432587,0.17929890648364105,0.1873036963395339,-0.021875905134350265,0.17134290688742287,0.4030645613488068,0.08704030050862994,0.20346180946449904,0.21598260833777236,0.1069945673411491,0.05825070354763117,0.04207118031098686,0.2877153655101537,0.6357555656639379,0.15671177604398087,0.22550097639174901,0.014311929064585163,0.27930982092492196,0.22961344077137105,0.1112823032178814,0.4061541517858856,0.42157345416996916,0.21411237314182008,0.13238493558256847,0.11053206432450424,0.15296694580404183,0.2571297831749332,-0.10268175285563172,-0.3074224698251623,-0.09139808455171937,0.2541151410804486,0.5355847216290163,0.5248298357628675,0.2681027147202414,-0.04603991859732513,0.08759283732157595,-0.010628963803207436,0.09858971810456703,0.1735036963484688,0.0799990394766609]},\"selected\":{\"id\":\"559522\"},\"selection_policy\":{\"id\":\"559521\"}},\"id\":\"559506\",\"type\":\"ColumnDataSource\"},{\"attributes\":{\"line_alpha\":0.1,\"line_color\":\"orangered\",\"line_width\":2.5,\"x\":{\"field\":\"x\"},\"y\":{\"field\":\"y\"}},\"id\":\"559527\",\"type\":\"Line\"},{\"attributes\":{\"line_color\":\"lightskyblue\",\"line_width\":2.5,\"x\":{\"field\":\"x\"},\"y\":{\"field\":\"y\"}},\"id\":\"559547\",\"type\":\"Line\"},{\"attributes\":{\"line_alpha\":0.1,\"line_color\":\"lightgreen\",\"line_width\":2.5,\"x\":{\"field\":\"x\"},\"y\":{\"field\":\"y\"}},\"id\":\"559508\",\"type\":\"Line\"},{\"attributes\":{\"line_color\":\"orchid\",\"line_width\":2.5,\"x\":{\"field\":\"x\"},\"y\":{\"field\":\"y\"}},\"id\":\"559570\",\"type\":\"Line\"},{\"attributes\":{\"data\":{\"x\":[0,1,2,3,4,5,6,7,8,9,10,11,12,13,14,15,16,17,18,19,20,21,22,23,24,25,26,27,28,29,30,31,32,33,34,35,36,37,38,39,40,41,42,43,44,45,46,47,48,49,50,51,52,53,54,55,56,57,58,59,60,61,62,63,64,65,66,67,68,69,70,71,72,73,74,75,76,77,78,79,80,81,82,83,84,85,86,87,88,89,90,91,92,93,94,95,96,97,98,99,100,101,102,103,104,105,106,107,108,109,110,111,112,113,114,115,116,117,118,119,120,121,122,123,124,125,126,127,128,129,130,131,132,133,134,135,136],\"y\":{\"__ndarray__\":\"wMdPJdC5yT+AVyKTOFXHP+BN4LJQbMM/AK5CV+mKtj+AVsJ3/CerPwCpFQjU/5Q/gN25GmTDqT+ASqzkIrq3P0Drj97pkbc/gN0KC/LSvD8AC0sYwbDAPwCjX0YHq8M/gJbpgKlowj/gVPwS7S7DP4B12bOin8I/AF9qASEjxD+gdrUiQHnGP+C0Xk7bf8c/gEx/xHrjyD8AAjF1rPzHP6Cb1Zzubsc/QNA5tAjCyD9gZo00w1LGP0C8Ez56lsQ/wNIdj8m7wj9AsteDA8DBP+DAWkkLZsI/gDzrQB9MxT9gY8vy5SfGP0DFn94Fucc/wFuXFtygyD/gBJAaBK7IP6DqUkBT2ck/gH5I7tVRyz8gvZBM4DfJP0DFn94Fucc/II9FI9EbyT/ADyyNmOXGP4A4ZWw8EcQ/IP5xErfIxD8g94oTFETFPwBtamVwPcU/4KV8I5zrxT+AgE6anHbHP4CJfN/2bMg/QJtbAiDuxz/gaM5cQafGP2ALErsqbcY/oOi6BXl8xj9gIJg1wubHP4C4i12ds8k/gHAPE7BPyj/go2wVZZnJP2CRXS/uHso/wLd1XfSbyj+A9Y00wu/KPyBGch0bz8o/IF4JTvVwyT+AJvtRTRrIP2DKK6HtpcU/YNQr/Jlrxj9AVRHZWxLHPyCiK8jPqcY/AHCL7qgZxz+gMBBh0+zGP0AHs/eQ2cY/IGhJe9OBxz8AJJwXmMnGP+C7S6MK5cY/QAz5IgTXxj8AEKOjgiPHP8CdTdZ4icc/oIjKIJbjxz8A1GM4iDHHP+CfLsh76MU/QG1SAU1NxD+AkthG8eHDP4DZBMnL9cE/4B19RDAEwT9AaiZbYyfCP2ACL4eFpMI/oKWW+12nwz+gQ4D7A7vDP2DzGicdvMM/oE2kNUZDwz+APhsXGxDBP2AT7XarIcA/QPgCiITAvz+A/kcTBaLAP6AvU02CDMA/gLdS5RIZvj+ASU5dQbq7P6Am3Ymnb8A/YK/6UxMZwT+gucvG+OHAPwBiXqiSJr8/QPfmrFIOvz9ApKd3Mx2/P4CQvSPeC8A/ALAxo5ulwT8Ag7dLNEbDP6D3o3p3d8Q/oJDu37xCxT8glN6ctFbFP6BuRI5oGcU/AMY1ypMoxD+g/Mw8AG7DP2BlprxWS8I/QEa+xeG/wj9giwYCssnCPyCTFcJuZsM/gLxx6Vyxwz8gnBIp26XDP4BPa9RIFsQ/gGYSEVuZxT8gH3Z7KjTGP8CT+UdrFsY/QBDc/Ot5xj/goNuP85/GP2AVb8kiX8Y/gJSb6jRWxj+gLgMnmy3GP2BoLfb4bcY/4GlCA2FOxj/ARmWqoC7FP6A59N7vNsM/gMQOwHr6wj9Ac2MWd9nDP0Ak+eshOsQ/wOL8owV6xD/AoiiR7FHDP8B/h/ZZ/sE/oKgQMheMwj9AOuZcpszAP+CqDNdczsA/wGFDNiGIwD+ApKZXtxnBPw==\",\"dtype\":\"float64\",\"order\":\"little\",\"shape\":[137]}},\"selected\":{\"id\":\"559591\"},\"selection_policy\":{\"id\":\"559590\"}},\"id\":\"559569\",\"type\":\"ColumnDataSource\"},{\"attributes\":{},\"id\":\"559464\",\"type\":\"LinearScale\"},{\"attributes\":{},\"id\":\"559496\",\"type\":\"BasicTickFormatter\"},{\"attributes\":{},\"id\":\"559591\",\"type\":\"Selection\"},{\"attributes\":{\"line_color\":\"orange\",\"line_width\":2.5,\"x\":{\"field\":\"x\"},\"y\":{\"field\":\"y\"}},\"id\":\"559489\",\"type\":\"Line\"},{\"attributes\":{\"data\":{\"x\":[0,1,2,3,4,5,6,7,8,9,10,11,12,13,14,15,16,17,18,19,20,21,22,23,24,25,26,27,28,29,30,31,32,33,34,35,36,37,38,39,40,41,42,43,44,45,46,47,48,49,50,51,52,53,54,55,56,57,58,59,60,61,62,63,64,65,66,67,68,69,70,71,72,73,74,75,76,77,78,79,80,81,82,83,84,85,86,87,88,89,90,91,92,93,94,95,96,97,98,99,100,101,102,103,104,105,106,107,108,109,110,111,112,113,114,115,116,117,118,119,120,121,122,123,124,125,126,127,128,129,130,131,132,133,134,135,136],\"y\":{\"__ndarray__\":\"4GJXrAQx4r9h7N5SPn3Kv76+Eu7AyKs/ldDKrs/z+r+6PEg5LZL3v8J5OpRtreC/pybcn/y55j81k6JJ1lnYPyNcbkFOdNs/4JieevaW0j+qaYcG7QTVPxFTY+b82tA/sJ0hYXl71T/SsxKNOSaXvx/XPFgPg6i//3xqUPMr4T+Jp1ZKtlzEv15tcN5RvLW/6hZpBQpI1D87wrrXBrLYP7CSaDaqCds/F6wVPOsm6D+sU8KEu+fTv+7HieXoV8o/iP6uPrG70D/sijJf77rMv/be4uTuctU/djFspBiR3D90z9+GubDZP2FqkmwCRME//najng/AzT+VStAQ4r/OP0dfbAuFz98/iHK3VvD26j9IcGQe3tjEv79vQO4sPtS/Zqf7Oy424D9IWnqUjfZcP87VyUNGpL6/5bDlWRRBrj+Odf3jf2/Lv+D37lwC3rK/PguUZjKJ4T8cpKoSlSrrP2ZBa3W9v+c/2FmmGG4Wm7+IKeat20bTv7mvG6UC+eG/Z4Y7SxLd2z+MZtwvBX7vPyL2JXeZjLk/AJmUOlmryr+vFNkSsILJv6TlieRdCtC/99xwlhy82T/qf5IOo8TzPxEwrDp/VMq/X0Qkf1QzxL+weOmJv3TcP5S/Xha0X9C/hcp0224+1T/4mVptq4e5PyBcn/OIkrW/JJ4laz7bw7+wZWFCJm6fP2QV1Ax1kMo/Uki7bKUppj9ndYB4d/jVPxCiQtHzidE/PW36QG5Uzz92A2PXTRrGPxVxK/7VN7s/3fv3+HTWdT8alDk6GxqzPwQ9mYzdhbE/+YyDfaityb9ogKmAn5vIvy9Xbtvw1eW/ztChFzCJ2b/w+FsZUh/oP4LCNXtBd8o/FP4IQOcs1z8oND2rOK/YP7aWpS9ssMQ/rO65z1VboT+I8Prutgu0v6I4jkSrJ76/aIXrLTvchb+R1dGe2u7Mv7QWuocRa4y/xGJBhVnA1b9wwGSTw9WWvyvYJmfw/OM/FrsMv5Rr4D/Ct7NophbWP/h3exshxrs/jD6rUYockL/ISjqBONzAP7tnsbS9L8k/pAYkZYDWvj8I3WH88Nqxv/pW7BIAHtc/RM4zc3OCxT/cOAajQeHMPwjy9IC3hsQ/h+nW4Hhxzj+o1JuAAJG1PzOUYxupDb+/UxHoX2Zm0z/ArqRH61/SPywtlqywX+E/6HHIqr8Pwj/sEcYZ43XGP2qqUXZedK8/+UdjrpM+2j8YOHcpWaqTP96Iw8v3ntA/ltIPGfYC3z9ZX2EM2mHXP2SCiR/57Zw/EC1Xq3Q5yj9YU9o5j0WIPw3yTtbZxNE/JrBrtZ0FyD9m7tjLdyzTv4MUCi8E7tG/I5y6lLGovj9J7wn/9P3bP4xWsXuzUOE/4KZnFhlJ3D9beCK5Iwe8Pwv5q8Z10ry/wODCTNHAwj+D8sVmLdG2v34Vj/zVxtE/O/d2wpOnuT8hPs9Km4q4Pw==\",\"dtype\":\"float64\",\"order\":\"little\",\"shape\":[137]}},\"selected\":{\"id\":\"559566\"},\"selection_policy\":{\"id\":\"559565\"}},\"id\":\"559546\",\"type\":\"ColumnDataSource\"},{\"attributes\":{},\"id\":\"559460\",\"type\":\"DataRange1d\"},{\"attributes\":{\"coordinates\":null,\"data_source\":{\"id\":\"559525\"},\"glyph\":{\"id\":\"559526\"},\"group\":null,\"hover_glyph\":null,\"muted_glyph\":{\"id\":\"559528\"},\"nonselection_glyph\":{\"id\":\"559527\"},\"view\":{\"id\":\"559530\"}},\"id\":\"559529\",\"type\":\"GlyphRenderer\"},{\"attributes\":{\"axis_label\":\"Monthly IR\",\"coordinates\":null,\"formatter\":{\"id\":\"559496\"},\"group\":null,\"major_label_policy\":{\"id\":\"559497\"},\"ticker\":{\"id\":\"559471\"}},\"id\":\"559470\",\"type\":\"LinearAxis\"},{\"attributes\":{\"data\":{\"x\":[0,1,2,3,4,5,6,7,8,9,10,11,12,13,14,15,16,17,18,19,20,21,22,23,24,25,26,27,28,29,30,31,32,33,34,35,36,37,38,39,40,41,42,43,44,45,46,47,48,49,50,51,52,53,54,55,56,57,58,59,60,61,62,63,64,65,66,67,68,69,70,71,72,73,74,75,76,77,78,79,80,81,82,83,84,85,86,87,88,89,90,91,92,93,94,95,96,97,98,99,100,101,102,103,104,105,106,107,108,109,110,111,112,113,114,115,116,117,118,119,120,121,122,123,124,125,126,127,128,129,130,131,132,133,134,135,136],\"y\":{\"__ndarray__\":\"AAAAAAAA+H+AJeSDns3gP2qi5gOOjNm/DchGZCOywb/LOlMhhinwv/Ff0QkBpf6/SWkQDUKM8L80TvGZ+drbPwFLVGxb098/Bqj8VYAgzz/jU1MhE/TPP2l3CCcDfdI/bpg+yNJ86z8SABdHxUvEv+vlS8WOtcw/ajGFUmsDsD/b6jCo8qe4P6ZJZemHHbI/9M0E/8WKxr/t8sQgK9/VP8bdbRxAhZk/oL/L1ctH2j91Nn3MdzvGP1wSvz1m17M/vubAnI7+uL8dbqr4BKGVPys+inYwrME/tWqcQ/LIrT8al7qIzeC/P40EdvjiiKU/6g269XgAxj+Rh7Ui0nvePwzq/Wljj98/yYMNfucz7z/LTM8d6prkP49Fau+4HN4/SNdyTPVqu78MH+07sq62PxRZzH3JpdE/UbcVaV1vwz8cZa6dpmfKv3Lm6+oZmbW/0jxIZveRz79vmXFsJSncP++8gjXxLdw/DBRUfLxN6D+D/7eYj1XTP9h9Rj8EC76/USSStrvEwr+ViVfu1dvEv4bkn7IZz+E/41CqPtWO3D/OKeo5UPKjv3AmpQcyU96/6+tQcqA70b/N+dvdH+3SPyGX8e0mNeo/zY6vZ4+70D93PUVcpZ26v9R+WyADysY/dY/2rWG4zj88+vt4ADOkP/5Fd2xcyr4/toVVuX/FvT9M4LOGuHvQv07X3RvZJMq/69qSCDx/gb9sn+oi3c7XP5glMDJ7qtc/q93nOrmb5D/Hc6ehRRnVP2z2wktDWtY/Dwyn8DLXxz/rYQLbJfqjv1zk5S9GYsW/TE0fgcZDsz9zXHrhQhTQv1+QPFNUR+G/4KTF/7Ik4r/+wNdiPR7ev4j9ShKwyts/IhCAJB4M4z8oRxeBbQbKP2V9NDRET+A/rZfHTkxr1j8UJVo3wWp7PyeRsmbNIcK/b4rj0q/rw7+fnZoQHwanvz1x9by+A8u/gHhhUZXf1b+krioKMinFPw32tlEfEbU/KScsF+OO2z9VejaOWljeP56z6A7h5Nk/zXP0PmwF1T+luP1xTrjEv8gXQuwbg7c/BdKYwTPFzj/L4Jh0Hu2/P4LL/oXn58O/mYDWXNfBoD+MmjZZAabiP6AuRrzOIdQ/CncvWX7PtD/OgYH6ffrSPwPFgN+n4LU/Uk2pX3I7tz+cPC5Meaexvyc99nHYKNM/tLySQYXx4D8EwmsrviiwvyDWnNEJn2M/yhfHsMgcrr9SQ4asFG/hP2gCjWn7Bd0/clUBA2bxzD94FY/KDXDZP8iiyRTzndo/Rrqm0vRnxD/jAfTJGGN7PzK+l/nEc6w/ptnNGEa/vT+QpdbvdJ/GPyrQ/EDIb9W/BE9ZZB5x1L+3YmLyWWfIP1r7+5XPDNs/YKekKnUN4j9c9pwOJvLgP+YJXisuP8s/s83xiN9ilD96KU7zXWPFP/BrXK+g9XS/AAAAAAAA+H8AAAAAAAD4fw==\",\"dtype\":\"float64\",\"order\":\"little\",\"shape\":[137]}},\"selected\":{\"id\":\"559502\"},\"selection_policy\":{\"id\":\"559501\"}},\"id\":\"559488\",\"type\":\"ColumnDataSource\"},{\"attributes\":{\"axis_label\":\"Time\",\"coordinates\":null,\"formatter\":{\"id\":\"559499\"},\"group\":null,\"major_label_overrides\":{\"0\":\"2008\",\"105\":\"2017\",\"140\":\"2020\",\"35\":\"2011\",\"70\":\"2014\"},\"major_label_policy\":{\"id\":\"559500\"},\"ticker\":{\"id\":\"559594\"}},\"id\":\"559466\",\"type\":\"LinearAxis\"},{\"attributes\":{\"source\":{\"id\":\"559488\"}},\"id\":\"559493\",\"type\":\"CDSView\"},{\"attributes\":{\"source\":{\"id\":\"559525\"}},\"id\":\"559530\",\"type\":\"CDSView\"},{\"attributes\":{\"line_alpha\":0.2,\"line_color\":\"orchid\",\"line_width\":2.5,\"x\":{\"field\":\"x\"},\"y\":{\"field\":\"y\"}},\"id\":\"559572\",\"type\":\"Line\"},{\"attributes\":{\"coordinates\":null,\"data_source\":{\"id\":\"559569\"},\"glyph\":{\"id\":\"559570\"},\"group\":null,\"hover_glyph\":null,\"muted_glyph\":{\"id\":\"559572\"},\"nonselection_glyph\":{\"id\":\"559571\"},\"view\":{\"id\":\"559574\"}},\"id\":\"559573\",\"type\":\"GlyphRenderer\"},{\"attributes\":{\"coordinates\":null,\"group\":null,\"items\":[{\"id\":\"559505\"},{\"id\":\"559524\"},{\"id\":\"559545\"},{\"id\":\"559568\"},{\"id\":\"559593\"}],\"location\":\"bottom_right\"},\"id\":\"559504\",\"type\":\"Legend\"},{\"attributes\":{\"tools\":[{\"id\":\"559474\"},{\"id\":\"559475\"},{\"id\":\"559476\"},{\"id\":\"559477\"},{\"id\":\"559478\"},{\"id\":\"559479\"}]},\"id\":\"559481\",\"type\":\"Toolbar\"},{\"attributes\":{\"ticks\":[0,35,70,105,140]},\"id\":\"559594\",\"type\":\"FixedTicker\"},{\"attributes\":{\"overlay\":{\"id\":\"559480\"}},\"id\":\"559476\",\"type\":\"BoxZoomTool\"},{\"attributes\":{\"coordinates\":null,\"data_source\":{\"id\":\"559488\"},\"glyph\":{\"id\":\"559489\"},\"group\":null,\"hover_glyph\":null,\"muted_glyph\":{\"id\":\"559491\"},\"nonselection_glyph\":{\"id\":\"559490\"},\"view\":{\"id\":\"559493\"}},\"id\":\"559492\",\"type\":\"GlyphRenderer\"},{\"attributes\":{\"coordinates\":null,\"data_source\":{\"id\":\"559546\"},\"glyph\":{\"id\":\"559547\"},\"group\":null,\"hover_glyph\":null,\"muted_glyph\":{\"id\":\"559549\"},\"nonselection_glyph\":{\"id\":\"559548\"},\"view\":{\"id\":\"559551\"}},\"id\":\"559550\",\"type\":\"GlyphRenderer\"},{\"attributes\":{\"line_alpha\":0.2,\"line_color\":\"orange\",\"line_width\":2.5,\"x\":{\"field\":\"x\"},\"y\":{\"field\":\"y\"}},\"id\":\"559491\",\"type\":\"Line\"},{\"attributes\":{\"data\":{\"x\":[0,1,2,3,4,5,6,7,8,9,10,11,12,13,14,15,16,17,18,19,20,21,22,23,24,25,26,27,28,29,30,31,32,33,34,35,36,37,38,39,40,41,42,43,44,45,46,47,48,49,50,51,52,53,54,55,56,57,58,59,60,61,62,63,64,65,66,67,68,69,70,71,72,73,74,75,76,77,78,79,80,81,82,83,84,85,86,87,88,89,90,91,92,93,94,95,96,97,98,99,100,101,102,103,104,105,106,107,108,109,110,111,112,113,114,115,116,117,118,119,120,121,122,123,124,125,126,127,128,129,130,131,132,133,134,135,136],\"y\":{\"__ndarray__\":\"AAAAAAAA+H+Byv6jqVjLv1mHFkZcras/oVFqPG2f+7+od5nfzmf3v4+YJEkNMeG/vLls6S6Q5z+cdgqe5b/WP7k98GoJbdw/mKOjMP+c0j87bi8Y3b/VPzOAG6Dc3tA/spIEa5w71j/wV1tprCeYv/D5Ms4Qiqi/8/c1QY/J4T8Rd1gqmFrEv++ClNghfLa/QS0udKv41D+8vqc7jRPXP07TDOOp/ds/Okr1Rk486D/KgXfZM4vUv2UkeJi4WMo/yzpLQJpL0T8lf74cNqvNv55DdGzTd9U/E+cRUTOT3T+bjoaUhKjZP5MiCOFR2cE/654+XXjCzj8AbTWGA7nMP7V3GgPXeOA/D4VNRGAS6z8yTCrFLIrFvxWbwcDnRNS/M1b6WN/H4D8YPLkrF1lcP4oOz55pr76/9/GVQKwwrz+EjecVlGrLv1yC6S+ChLO/oocoSkQq4j+muB5xoVzqP7IarJ5koeg/5hoVkgYqm7+BhasaIuXTvzivpr8c7eG/0XXuUjHZ3D+MRbtrP1nwP3muSKFPhbk/eUQiJVePy792SIXYkYDJvz3bQgOzj9C/7Oj3T/2j2j/m57qUHo3yPydrpRcKL8u/Azl1iSk1xL+Y9K0UwHbdPxMsy1vvWtC/EDFY7mf81T/JCnwkSWO6P2tFtVRckbW/kCdkWWmBxL/JpsI9dGWfP+8U8gWpecs/VSVMxWjfpj9lxgd8SIjUP/s3Nr3eJNI/rlGegVpdzz/+vo57htvGPy596InaOrs/ABbwQtqCdj8SSNNjOb6zP7ZPVgyEhrE/hQutFxuEyr/z+bn3qJbIv2Mj42DjfOa/Me3m309W2r9UMt/SypbmP9KpkHO7Xss/akoo8o821z8StUnybo3ZPyWHJM0bs8Q/ksPtEIjsoT8OHyQEore0v7pG08HRJL6/3hWE+vCghr/i4Q4FlejMvxx7/cZObo2/t1P2EYlw1r/5WVUEYxuWvxyFBlHPt+Q/fIh9zKh14D8qXqUS3dzWP3guQ6C5x7s/xb9y8fapkL+NVrPSNm7BP+vymCpsNck/CsNvB3/cvz9CqwRiotuxvyCM7cvW7dc/Rlux3NE8xj9lmAfdAvvKPyyjsq65OcU/Oik7vkB6zj9xS21DgUq2P9mi7gIDCr+/Vib+1l0T1D8LcBPBRgPTP8VVuI9dauE/k3hjkm6swj/DZX6673jGP7WYDyZSPrA/2yvF9VAs2z+cwI0UTFWSP8gwzS0KMtE/C0bDbToV3z/Yp8XqbjTYP1u+7QTq6Jw/0QuYLXgfyz9KX5e0TQyJP8lD3H6pytE/ipyNr/nXyD+BvUKdlCbTv4frD5n/gNK/4PjEdD+yvz9GrOUWXizaP7KH8SG/8OE/4/he0UhY3D9U8mr2qPm8Py9Yfn3sz7y/9koEU6Fjwz+ELYMcBpK3v2jO/c0azNE/v/5BQCuEuj9iq8S0WlyQPw==\",\"dtype\":\"float64\",\"order\":\"little\",\"shape\":[137]}},\"selected\":{\"id\":\"559543\"},\"selection_policy\":{\"id\":\"559542\"}},\"id\":\"559525\",\"type\":\"ColumnDataSource\"},{\"attributes\":{\"coordinates\":null,\"group\":null,\"text\":\"Monthly Inflation Rate in %\"},\"id\":\"559456\",\"type\":\"Title\"},{\"attributes\":{\"line_color\":\"lightgreen\",\"line_width\":2.5,\"x\":{\"field\":\"x\"},\"y\":{\"field\":\"y\"}},\"id\":\"559507\",\"type\":\"Line\"},{\"attributes\":{\"source\":{\"id\":\"559569\"}},\"id\":\"559574\",\"type\":\"CDSView\"},{\"attributes\":{\"line_alpha\":0.2,\"line_color\":\"lightskyblue\",\"line_width\":2.5,\"x\":{\"field\":\"x\"},\"y\":{\"field\":\"y\"}},\"id\":\"559549\",\"type\":\"Line\"},{\"attributes\":{},\"id\":\"559543\",\"type\":\"Selection\"},{\"attributes\":{},\"id\":\"559565\",\"type\":\"UnionRenderers\"},{\"attributes\":{},\"id\":\"559497\",\"type\":\"AllLabels\"},{\"attributes\":{},\"id\":\"559479\",\"type\":\"HelpTool\"},{\"attributes\":{\"coordinates\":null,\"data_source\":{\"id\":\"559506\"},\"glyph\":{\"id\":\"559507\"},\"group\":null,\"hover_glyph\":null,\"muted_glyph\":{\"id\":\"559509\"},\"nonselection_glyph\":{\"id\":\"559508\"},\"view\":{\"id\":\"559511\"}},\"id\":\"559510\",\"type\":\"GlyphRenderer\"},{\"attributes\":{},\"id\":\"559521\",\"type\":\"UnionRenderers\"},{\"attributes\":{},\"id\":\"559502\",\"type\":\"Selection\"},{\"attributes\":{},\"id\":\"559458\",\"type\":\"DataRange1d\"},{\"attributes\":{\"label\":{\"value\":\"BER Average\"},\"renderers\":[{\"id\":\"559573\"}]},\"id\":\"559593\",\"type\":\"LegendItem\"},{\"attributes\":{\"source\":{\"id\":\"559546\"}},\"id\":\"559551\",\"type\":\"CDSView\"},{\"attributes\":{\"label\":{\"value\":\"CPI\"},\"renderers\":[{\"id\":\"559492\"}]},\"id\":\"559505\",\"type\":\"LegendItem\"},{\"attributes\":{\"line_alpha\":0.1,\"line_color\":\"orange\",\"line_width\":2.5,\"x\":{\"field\":\"x\"},\"y\":{\"field\":\"y\"}},\"id\":\"559490\",\"type\":\"Line\"},{\"attributes\":{},\"id\":\"559566\",\"type\":\"Selection\"},{\"attributes\":{\"line_color\":\"orangered\",\"line_width\":2.5,\"x\":{\"field\":\"x\"},\"y\":{\"field\":\"y\"}},\"id\":\"559526\",\"type\":\"Line\"},{\"attributes\":{},\"id\":\"559471\",\"type\":\"BasicTicker\"},{\"attributes\":{\"source\":{\"id\":\"559506\"}},\"id\":\"559511\",\"type\":\"CDSView\"},{\"attributes\":{\"label\":{\"value\":\"PriceStats Average Daily\"},\"renderers\":[{\"id\":\"559550\"}]},\"id\":\"559568\",\"type\":\"LegendItem\"},{\"attributes\":{},\"id\":\"559522\",\"type\":\"Selection\"},{\"attributes\":{\"label\":{\"value\":\"PriceStats Average\"},\"renderers\":[{\"id\":\"559510\"}]},\"id\":\"559524\",\"type\":\"LegendItem\"},{\"attributes\":{},\"id\":\"559590\",\"type\":\"UnionRenderers\"},{\"attributes\":{\"label\":{\"value\":\"PriceStats Average Last Day\"},\"renderers\":[{\"id\":\"559529\"}]},\"id\":\"559545\",\"type\":\"LegendItem\"},{\"attributes\":{\"bottom_units\":\"screen\",\"coordinates\":null,\"fill_alpha\":0.5,\"fill_color\":\"lightgrey\",\"group\":null,\"left_units\":\"screen\",\"level\":\"overlay\",\"line_alpha\":1.0,\"line_color\":\"black\",\"line_dash\":[4,4],\"line_width\":2,\"right_units\":\"screen\",\"syncable\":false,\"top_units\":\"screen\"},\"id\":\"559480\",\"type\":\"BoxAnnotation\"},{\"attributes\":{},\"id\":\"559478\",\"type\":\"ResetTool\"},{\"attributes\":{},\"id\":\"559500\",\"type\":\"AllLabels\"},{\"attributes\":{},\"id\":\"559542\",\"type\":\"UnionRenderers\"},{\"attributes\":{\"axis\":{\"id\":\"559470\"},\"coordinates\":null,\"dimension\":1,\"group\":null,\"ticker\":null},\"id\":\"559473\",\"type\":\"Grid\"},{\"attributes\":{},\"id\":\"559477\",\"type\":\"SaveTool\"},{\"attributes\":{},\"id\":\"559501\",\"type\":\"UnionRenderers\"},{\"attributes\":{},\"id\":\"559499\",\"type\":\"BasicTickFormatter\"},{\"attributes\":{\"line_alpha\":0.2,\"line_color\":\"orangered\",\"line_width\":2.5,\"x\":{\"field\":\"x\"},\"y\":{\"field\":\"y\"}},\"id\":\"559528\",\"type\":\"Line\"},{\"attributes\":{},\"id\":\"559474\",\"type\":\"PanTool\"},{\"attributes\":{\"line_alpha\":0.1,\"line_color\":\"lightskyblue\",\"line_width\":2.5,\"x\":{\"field\":\"x\"},\"y\":{\"field\":\"y\"}},\"id\":\"559548\",\"type\":\"Line\"},{\"attributes\":{\"line_alpha\":0.2,\"line_color\":\"lightgreen\",\"line_width\":2.5,\"x\":{\"field\":\"x\"},\"y\":{\"field\":\"y\"}},\"id\":\"559509\",\"type\":\"Line\"},{\"attributes\":{},\"id\":\"559475\",\"type\":\"WheelZoomTool\"},{\"attributes\":{\"line_alpha\":0.1,\"line_color\":\"orchid\",\"line_width\":2.5,\"x\":{\"field\":\"x\"},\"y\":{\"field\":\"y\"}},\"id\":\"559571\",\"type\":\"Line\"},{\"attributes\":{\"axis\":{\"id\":\"559466\"},\"coordinates\":null,\"group\":null,\"ticker\":null},\"id\":\"559469\",\"type\":\"Grid\"}],\"root_ids\":[\"559455\"]},\"title\":\"Bokeh Application\",\"version\":\"2.4.1\"}};\n",
       "  const render_items = [{\"docid\":\"e928a42f-6811-4600-8c0c-5fe920d852bf\",\"root_ids\":[\"559455\"],\"roots\":{\"559455\":\"8106dc68-c015-4c49-92f2-49d017525a4c\"}}];\n",
       "  root.Bokeh.embed.embed_items_notebook(docs_json, render_items);\n",
       "\n",
       "  }\n",
       "  if (root.Bokeh !== undefined) {\n",
       "    embed_document(root);\n",
       "  } else {\n",
       "    let attempts = 0;\n",
       "    const timer = setInterval(function(root) {\n",
       "      if (root.Bokeh !== undefined) {\n",
       "        clearInterval(timer);\n",
       "        embed_document(root);\n",
       "      } else {\n",
       "        attempts++;\n",
       "        if (attempts > 100) {\n",
       "          clearInterval(timer);\n",
       "          console.log(\"Bokeh: ERROR: Unable to run BokehJS code because BokehJS library is missing\");\n",
       "        }\n",
       "      }\n",
       "    }, 10, root)\n",
       "  }\n",
       "})(window);"
      ],
      "application/vnd.bokehjs_exec.v0+json": ""
     },
     "metadata": {
      "application/vnd.bokehjs_exec.v0+json": {
       "id": "559455"
      }
     },
     "output_type": "display_data"
    }
   ],
   "source": [
    "# Plotting all the monthly inflation rates from CPI, Pricestats and BER\n",
    "\n",
    "p = figure(plot_width=800, plot_height=600, title = \"Monthly Inflation Rate in %\")\n",
    "p.line(cpi.index, cpi['IR'], line_color=\"orange\", line_width =2.5, legend_label =\"CPI\")\n",
    "p.line(pricestats_monthly.index, pricestats_monthly['PriceStats_avg_rate'], line_color=\"lightgreen\", line_width =2.5, legend_label =\"PriceStats Average\")\n",
    "p.line(pricestats_monthly.index, pricestats_monthly['PriceStats_lastday_rate'], line_color=\"orangered\", line_width=2.5, legend_label =\"PriceStats Average Last Day\")\n",
    "p.line(pricestats_daily.index, pricestats_daily['PriceStats_daily_rate'], line_color=\"lightskyblue\", line_width=2.5, legend_label =\"PriceStats Average Daily\")\n",
    "p.line(ber_monthly.index, ber_monthly['BER_avg_rate'], line_color=\"orchid\", line_width=2.5, legend_label=\"BER Average\")\n",
    "p.xaxis.ticker = [0, 35, 70, 105, 140]\n",
    "p.xaxis.major_label_overrides = {0: '2008', 35: '2011', 70: '2014', 105: '2017', 140: '2020'}\n",
    "p.xaxis.axis_label ='Time'\n",
    "p.yaxis.axis_label ='Monthly IR'\n",
    "p.legend.location='bottom_right'\n",
    "\n",
    "show(p)"
   ]
  },
  {
   "cell_type": "markdown",
   "metadata": {},
   "source": [
    "# External Regressors and Model Improvements\n",
    "\n",
    "Next, we will include external regressors to try to improve the predictions that we had previously with CPI.\n",
    "\n",
    "<b> Include as external regressors monthly average  PriceStats inflation rate data and monthly BER data. Use cross-correlation plots to find the lag between the following:\n",
    "    \n",
    "    - CPI inflation rate and PriceStats inflation rate\n",
    "    \n",
    "    - CPI and BER inflation rate."
   ]
  },
  {
   "cell_type": "code",
   "execution_count": 1492,
   "metadata": {},
   "outputs": [
    {
     "name": "stdout",
     "output_type": "stream",
     "text": [
      "(62, 7) (75, 7)\n",
      "(62, 3) (75, 3)\n",
      "(62, 4) (75, 4)\n"
     ]
    }
   ],
   "source": [
    "# Loading and preparing datasets\n",
    "\n",
    "cpi_train = cpi[cpi.YearMonth<'2013-09'].copy() # value of index 0 is NaN\n",
    "cpi_test = cpi[cpi.YearMonth>='2013-09'].copy()\n",
    "print(cpi_train.shape, cpi_test.shape)\n",
    "\n",
    "ber_train = (ber_monthly[ber_monthly.YearMonth<'2013-09'].copy())\n",
    "ber_test = (ber_monthly[ber_monthly.YearMonth >='2013-09'].copy())\n",
    "print(ber_train.shape, ber_test.shape)\n",
    "\n",
    "pricestats_train = (pricestats_monthly[pricestats_monthly.YearMonth<'2013-09'].copy()) # value of index 0 is Nan\n",
    "pricestats_test = (pricestats_monthly[pricestats_monthly.YearMonth >='2013-09'].copy())\n",
    "print(pricestats_train.shape, pricestats_test.shape)"
   ]
  },
  {
   "cell_type": "code",
   "execution_count": 1493,
   "metadata": {},
   "outputs": [
    {
     "data": {
      "text/html": [
       "<div>\n",
       "<style scoped>\n",
       "    .dataframe tbody tr th:only-of-type {\n",
       "        vertical-align: middle;\n",
       "    }\n",
       "\n",
       "    .dataframe tbody tr th {\n",
       "        vertical-align: top;\n",
       "    }\n",
       "\n",
       "    .dataframe thead th {\n",
       "        text-align: right;\n",
       "    }\n",
       "</style>\n",
       "<table border=\"1\" class=\"dataframe\">\n",
       "  <thead>\n",
       "    <tr style=\"text-align: right;\">\n",
       "      <th></th>\n",
       "      <th>YearMonth</th>\n",
       "      <th>BER_m</th>\n",
       "      <th>BER_avg_rate</th>\n",
       "    </tr>\n",
       "  </thead>\n",
       "  <tbody>\n",
       "    <tr>\n",
       "      <th>0</th>\n",
       "      <td>2008-07</td>\n",
       "      <td>2.438636</td>\n",
       "      <td>0.200983</td>\n",
       "    </tr>\n",
       "    <tr>\n",
       "      <th>1</th>\n",
       "      <td>2008-08</td>\n",
       "      <td>2.209524</td>\n",
       "      <td>0.182288</td>\n",
       "    </tr>\n",
       "    <tr>\n",
       "      <th>2</th>\n",
       "      <td>2008-09</td>\n",
       "      <td>1.836190</td>\n",
       "      <td>0.151743</td>\n",
       "    </tr>\n",
       "    <tr>\n",
       "      <th>3</th>\n",
       "      <td>2008-10</td>\n",
       "      <td>1.061818</td>\n",
       "      <td>0.088057</td>\n",
       "    </tr>\n",
       "    <tr>\n",
       "      <th>4</th>\n",
       "      <td>2008-11</td>\n",
       "      <td>0.638333</td>\n",
       "      <td>0.053039</td>\n",
       "    </tr>\n",
       "  </tbody>\n",
       "</table>\n",
       "</div>"
      ],
      "text/plain": [
       "  YearMonth     BER_m  BER_avg_rate\n",
       "0   2008-07  2.438636      0.200983\n",
       "1   2008-08  2.209524      0.182288\n",
       "2   2008-09  1.836190      0.151743\n",
       "3   2008-10  1.061818      0.088057\n",
       "4   2008-11  0.638333      0.053039"
      ]
     },
     "execution_count": 1493,
     "metadata": {},
     "output_type": "execute_result"
    }
   ],
   "source": [
    "ber_train.head()"
   ]
  },
  {
   "cell_type": "code",
   "execution_count": 1494,
   "metadata": {},
   "outputs": [
    {
     "data": {
      "image/png": "[encoded data removed]",
      "text/plain": [
       "<Figure size 576x396 with 1 Axes>"
      ]
     },
     "metadata": {},
     "output_type": "display_data"
    }
   ],
   "source": [
    "# Plotting cross-correlation of PriceStats inflation rate and CPI inflation rate \n",
    "\n",
    "plt.xcorr(pricestats_train.PriceStats_avg_rate[1:], cpi_train.IR[1:])\n",
    "plt.title('Cross correlation between PriceStats and CPI Inflation Rates')\n",
    "plt.show()"
   ]
  },
  {
   "cell_type": "code",
   "execution_count": 1495,
   "metadata": {},
   "outputs": [
    {
     "data": {
      "image/png": "[encoded data removed]",
      "text/plain": [
       "<Figure size 576x396 with 1 Axes>"
      ]
     },
     "metadata": {},
     "output_type": "display_data"
    }
   ],
   "source": [
    "# Plotting cross-correlation of BER and CPI inflation rates\n",
    "\n",
    "plt.xcorr(ber_train.BER_avg_rate[1:], cpi_train.IR[1:])\n",
    "plt.title('Cross Correlation Between BER and CPI Inflation Rates')\n",
    "plt.show()"
   ]
  },
  {
   "cell_type": "markdown",
   "metadata": {},
   "source": [
    "From the first cross correlation plot we can see that there is strong correlation between CPI and PriceStats inflation rates with one lag (i.e. -1). This means when fitting the model, PriceStats should be shifted backwards by 1 lag. From the two external choices as regressors to predict CPI, PriceStats should provide better results as it correlates more with CPI than BER does. By looking at the correlation between BER and CPI inflation rates we see a correlation to a lesser extent most of the time and the peak at lag 0 and second highest peak at lag 6 (i.e. -6)."
   ]
  },
  {
   "cell_type": "markdown",
   "metadata": {},
   "source": [
    "<b> Fit a new $\\text {AR}$ model to the $\\text {CPI}$ inflation rate with these external regressors and the most appropriate lag. Report the coefficients.</b>"
   ]
  },
  {
   "cell_type": "code",
   "execution_count": 1496,
   "metadata": {},
   "outputs": [
    {
     "data": {
      "text/plain": [
       "(60, 2)"
      ]
     },
     "execution_count": 1496,
     "metadata": {},
     "output_type": "execute_result"
    }
   ],
   "source": [
    "# Preparing exogenous variables for fitting\n",
    "\n",
    "exogenous = ber_train.copy()\n",
    "exogenous.loc[2:, 'PriceStats_avg_rate'] = pricestats_train.drop([0]).PriceStats_avg_rate # Accounting for -1 lag\n",
    "exogenous = exogenous.drop(['BER_m', 'YearMonth'], axis=1).drop([0,1]).values # dropping unwanted columns and NaN values\n",
    "exogenous = np.array(exogenous, dtype=float) # numpy array float\n",
    "exogenous.shape"
   ]
  },
  {
   "cell_type": "code",
   "execution_count": 1497,
   "metadata": {},
   "outputs": [
    {
     "data": {
      "text/plain": [
       "(60,)"
      ]
     },
     "execution_count": 1497,
     "metadata": {},
     "output_type": "execute_result"
    }
   ],
   "source": [
    "# Preparing endogenous variable for fitting\n",
    "\n",
    "endogenous = cpi_train.IR.drop([0,1]).reset_index().drop(['index'], axis=1) # dropping rows to match same length\n",
    "endogenous = np.array(endogenous, dtype=float).reshape(-1) # numpy array float\n",
    "endogenous.shape"
   ]
  },
  {
   "cell_type": "code",
   "execution_count": 1498,
   "metadata": {},
   "outputs": [],
   "source": [
    "# Fitting with SARIMAX (2,0,0) model\n",
    "\n",
    "model_sarimax = sm.tsa.statespace.SARIMAX(endogenous, exogenous, order=(2,0,0), coerce_errors=True).fit(disp=False)"
   ]
  },
  {
   "cell_type": "code",
   "execution_count": 1499,
   "metadata": {},
   "outputs": [
    {
     "data": {
      "text/html": [
       "<table class=\"simpletable\">\n",
       "<caption>SARIMAX Results</caption>\n",
       "<tr>\n",
       "  <th>Dep. Variable:</th>           <td>y</td>        <th>  No. Observations:  </th>   <td>60</td>   \n",
       "</tr>\n",
       "<tr>\n",
       "  <th>Model:</th>           <td>SARIMAX(2, 0, 0)</td> <th>  Log Likelihood     </th> <td>-23.155</td>\n",
       "</tr>\n",
       "<tr>\n",
       "  <th>Date:</th>            <td>Fri, 04 Mar 2022</td> <th>  AIC                </th> <td>56.310</td> \n",
       "</tr>\n",
       "<tr>\n",
       "  <th>Time:</th>                <td>07:08:59</td>     <th>  BIC                </th> <td>66.782</td> \n",
       "</tr>\n",
       "<tr>\n",
       "  <th>Sample:</th>                  <td>0</td>        <th>  HQIC               </th> <td>60.406</td> \n",
       "</tr>\n",
       "<tr>\n",
       "  <th></th>                       <td> - 60</td>      <th>                     </th>    <td> </td>   \n",
       "</tr>\n",
       "<tr>\n",
       "  <th>Covariance Type:</th>        <td>opg</td>       <th>                     </th>    <td> </td>   \n",
       "</tr>\n",
       "</table>\n",
       "<table class=\"simpletable\">\n",
       "<tr>\n",
       "     <td></td>       <th>coef</th>     <th>std err</th>      <th>z</th>      <th>P>|z|</th>  <th>[0.025</th>    <th>0.975]</th>  \n",
       "</tr>\n",
       "<tr>\n",
       "  <th>x1</th>     <td>    0.6299</td> <td>    0.464</td> <td>    1.359</td> <td> 0.174</td> <td>   -0.279</td> <td>    1.538</td>\n",
       "</tr>\n",
       "<tr>\n",
       "  <th>x2</th>     <td>    0.2650</td> <td>    0.109</td> <td>    2.432</td> <td> 0.015</td> <td>    0.051</td> <td>    0.478</td>\n",
       "</tr>\n",
       "<tr>\n",
       "  <th>ar.L1</th>  <td>    0.4421</td> <td>    0.126</td> <td>    3.495</td> <td> 0.000</td> <td>    0.194</td> <td>    0.690</td>\n",
       "</tr>\n",
       "<tr>\n",
       "  <th>ar.L2</th>  <td>   -0.1450</td> <td>    0.141</td> <td>   -1.027</td> <td> 0.304</td> <td>   -0.422</td> <td>    0.132</td>\n",
       "</tr>\n",
       "<tr>\n",
       "  <th>sigma2</th> <td>    0.1263</td> <td>    0.021</td> <td>    5.914</td> <td> 0.000</td> <td>    0.084</td> <td>    0.168</td>\n",
       "</tr>\n",
       "</table>\n",
       "<table class=\"simpletable\">\n",
       "<tr>\n",
       "  <th>Ljung-Box (L1) (Q):</th>     <td>0.03</td> <th>  Jarque-Bera (JB):  </th> <td>18.41</td>\n",
       "</tr>\n",
       "<tr>\n",
       "  <th>Prob(Q):</th>                <td>0.85</td> <th>  Prob(JB):          </th> <td>0.00</td> \n",
       "</tr>\n",
       "<tr>\n",
       "  <th>Heteroskedasticity (H):</th> <td>0.39</td> <th>  Skew:              </th> <td>-0.80</td>\n",
       "</tr>\n",
       "<tr>\n",
       "  <th>Prob(H) (two-sided):</th>    <td>0.04</td> <th>  Kurtosis:          </th> <td>5.20</td> \n",
       "</tr>\n",
       "</table><br/><br/>Warnings:<br/>[1] Covariance matrix calculated using the outer product of gradients (complex-step)."
      ],
      "text/plain": [
       "<class 'statsmodels.iolib.summary.Summary'>\n",
       "\"\"\"\n",
       "                               SARIMAX Results                                \n",
       "==============================================================================\n",
       "Dep. Variable:                      y   No. Observations:                   60\n",
       "Model:               SARIMAX(2, 0, 0)   Log Likelihood                 -23.155\n",
       "Date:                Fri, 04 Mar 2022   AIC                             56.310\n",
       "Time:                        07:08:59   BIC                             66.782\n",
       "Sample:                             0   HQIC                            60.406\n",
       "                                 - 60                                         \n",
       "Covariance Type:                  opg                                         \n",
       "==============================================================================\n",
       "                 coef    std err          z      P>|z|      [0.025      0.975]\n",
       "------------------------------------------------------------------------------\n",
       "x1             0.6299      0.464      1.359      0.174      -0.279       1.538\n",
       "x2             0.2650      0.109      2.432      0.015       0.051       0.478\n",
       "ar.L1          0.4421      0.126      3.495      0.000       0.194       0.690\n",
       "ar.L2         -0.1450      0.141     -1.027      0.304      -0.422       0.132\n",
       "sigma2         0.1263      0.021      5.914      0.000       0.084       0.168\n",
       "===================================================================================\n",
       "Ljung-Box (L1) (Q):                   0.03   Jarque-Bera (JB):                18.41\n",
       "Prob(Q):                              0.85   Prob(JB):                         0.00\n",
       "Heteroskedasticity (H):               0.39   Skew:                            -0.80\n",
       "Prob(H) (two-sided):                  0.04   Kurtosis:                         5.20\n",
       "===================================================================================\n",
       "\n",
       "Warnings:\n",
       "[1] Covariance matrix calculated using the outer product of gradients (complex-step).\n",
       "\"\"\""
      ]
     },
     "execution_count": 1499,
     "metadata": {},
     "output_type": "execute_result"
    }
   ],
   "source": [
    "model_sarimax.summary()"
   ]
  },
  {
   "cell_type": "markdown",
   "metadata": {},
   "source": [
    "<b> Report the mean squared prediction error for 1 month ahead forecasts.</b>"
   ]
  },
  {
   "cell_type": "code",
   "execution_count": 1500,
   "metadata": {},
   "outputs": [],
   "source": [
    "# Making predictions 1 month ahead\n",
    "\n",
    "training_predictions_sarimax = model_sarimax.predict(start =2, end = 59, exog = exogenous)\n",
    "\n",
    "k= 2\n",
    "coef = model_sarimax.params\n",
    "past = endogenous[len(endogenous)-k:]\n",
    "past = [past[i] for i in range(k)]\n",
    "test_predictions_sarimax = list()\n",
    "\n",
    "past_ps = pricestats_train.PriceStats_avg_rate.values[-1] # since lag was 1 between CPI and PriceStats\n",
    "pred = coef[3]*past[0] + coef[2]*past[1] + coef[1] * pricestats_train.PriceStats_avg_rate.values[-1] + coef[0] * ber_test.BER_avg_rate.iloc[0] \n",
    "test_predictions_sarimax.append(pred)\n",
    "obs = cpi_test.IR.values[0]\n",
    "past.append(obs)\n",
    "\n",
    "for t in range(1,len(cpi_test.IR)):\n",
    "    length = len(past)\n",
    "    lag = [past[i] for i in range(length-2,length)]\n",
    "    pred = coef[3]*lag[0] + coef[2]*lag[1] + coef[1] * pricestats_test.PriceStats_avg_rate.iloc[t-1] + coef[0] * ber_test.BER_avg_rate.iloc[t] \n",
    "    test_predictions_sarimax.append(pred)\n",
    "    obs = cpi_test.IR.values[t]\n",
    "    past.append(obs)"
   ]
  },
  {
   "cell_type": "code",
   "execution_count": 1501,
   "metadata": {},
   "outputs": [
    {
     "name": "stdout",
     "output_type": "stream",
     "text": [
      "The mean squared prediction error of the final model is 0.1986331078587314\n"
     ]
    }
   ],
   "source": [
    "# Calculating the prediction error RMSE for the SARIMAX model\n",
    "\n",
    "rmse_final = mean_squared_error(cpi_test.IR.values[:-2], test_predictions_sarimax[:-2], squared=False)\n",
    "print(\"The mean squared prediction error of the final model is \" + str(rmse_final))"
   ]
  },
  {
   "cell_type": "code",
   "execution_count": 1502,
   "metadata": {},
   "outputs": [
    {
     "data": {
      "image/png": "[encoded data removed]",
      "text/plain": [
       "<Figure size 576x396 with 1 Axes>"
      ]
     },
     "metadata": {},
     "output_type": "display_data"
    }
   ],
   "source": [
    "# Checking autocorrelation of residuals\n",
    "\n",
    "residuals = (endogenous[2:] - training_predictions_sarimax)\n",
    "plot_pacf(residuals, zero=False)\n",
    "plt.show()"
   ]
  },
  {
   "cell_type": "code",
   "execution_count": 1503,
   "metadata": {},
   "outputs": [
    {
     "data": {
      "text/html": [
       "\n",
       "\n",
       "\n",
       "\n",
       "\n",
       "\n",
       "  <div class=\"bk-root\" id=\"5ea3bfd3-ea1f-4ff0-88b0-bfc2395d8215\" data-root-id=\"563183\"></div>\n"
      ]
     },
     "metadata": {},
     "output_type": "display_data"
    },
    {
     "data": {
      "application/javascript": [
       "(function(root) {\n",
       "  function embed_document(root) {\n",
       "    \n",
       "  const docs_json = {\"2cc890f6-f026-44dc-8052-aa59cce70b86\":{\"defs\":[],\"roots\":{\"references\":[{\"attributes\":{\"below\":[{\"id\":\"563194\"}],\"center\":[{\"id\":\"563197\"},{\"id\":\"563201\"},{\"id\":\"563232\"}],\"left\":[{\"id\":\"563198\"}],\"renderers\":[{\"id\":\"563220\"},{\"id\":\"563238\"},{\"id\":\"563257\"},{\"id\":\"563278\"}],\"title\":{\"id\":\"563184\"},\"toolbar\":{\"id\":\"563209\"},\"width\":800,\"x_range\":{\"id\":\"563186\"},\"x_scale\":{\"id\":\"563190\"},\"y_range\":{\"id\":\"563188\"},\"y_scale\":{\"id\":\"563192\"}},\"id\":\"563183\",\"subtype\":\"Figure\",\"type\":\"Plot\"},{\"attributes\":{},\"id\":\"563294\",\"type\":\"Selection\"},{\"attributes\":{},\"id\":\"563227\",\"type\":\"BasicTickFormatter\"},{\"attributes\":{\"coordinates\":null,\"data_source\":{\"id\":\"563274\"},\"glyph\":{\"id\":\"563275\"},\"group\":null,\"hover_glyph\":null,\"muted_glyph\":{\"id\":\"563277\"},\"nonselection_glyph\":{\"id\":\"563276\"},\"view\":{\"id\":\"563279\"}},\"id\":\"563278\",\"type\":\"GlyphRenderer\"},{\"attributes\":{\"data\":{\"x\":[62,63,64,65,66,67,68,69,70,71,72,73,74,75,76,77,78,79,80,81,82,83,84,85,86,87,88,89,90,91,92,93,94,95,96,97,98,99,100,101,102,103,104,105,106,107,108,109,110,111,112,113,114,115,116,117,118,119,120,121,122,123,124,125,126,127,128,129,130,131,132,133,134,135,136],\"y\":{\"__ndarray__\":\"/kV3bFzKvj+2hVW5f8W9P0zgs4a4e9C/TtfdG9kkyr/r2pIIPH+Bv2yf6iLdztc/mCUwMnuq1z+r3ec6uZvkP8dzp6FFGdU/bPbCS0Na1j8PDKfwMtfHP+thAtsl+qO/XOTlL0Zixb9MTR+BxkOzP3NceuFCFNC/X5A8U1RH4b/gpMX/siTiv/7A12I9Ht6/iP1KErDK2z8iEIAkHgzjPyhHF4FtBso/ZX00NERP4D+tl8dOTGvWPxQlWjfBans/J5GyZs0hwr9viuPSr+vDv5+dmhAfBqe/PXH1vL4Dy7+AeGFRld/Vv6SuKgoyKcU/Dfa2UR8RtT8pJywX447bP1V6No5aWN4/nrPoDuHk2T/Nc/Q+bAXVP6W4/XFOuMS/yBdC7BuDtz8F0pjBM8XOP8vgmHQe7b8/gsv+hefnw7+ZgNZc18GgP4yaNlkBpuI/oC5GvM4h1D8Kdy9Zfs+0P86Bgfp9+tI/A8WA36fgtT9STalfcju3P5w8Lkx5p7G/Jz32cdgo0z+0vJJBhfHgPwTCayu+KLC/INac0QmfYz/KF8ewyByuv1JDhqwUb+E/aAKNafsF3T9yVQEDZvHMP3gVj8oNcNk/yKLJFPOd2j9GuqbS9GfEP+MB9MkYY3s/Mr6X+cRzrD+m2c0YRr+9P5Cl1u90n8Y/KtD8QMhv1b8ET1lkHnHUv7diYvJZZ8g/Wvv7lc8M2z9gp6QqdQ3iP1z2nA4m8uA/5gleKy4/yz+zzfGI32KUP3opTvNdY8U/8Gtcr6D1dL8AAAAAAAD4fwAAAAAAAPh/\",\"dtype\":\"float64\",\"order\":\"little\",\"shape\":[75]}},\"selected\":{\"id\":\"563271\"},\"selection_policy\":{\"id\":\"563270\"}},\"id\":\"563253\",\"type\":\"ColumnDataSource\"},{\"attributes\":{\"ticks\":[0,35,70,105,140]},\"id\":\"563297\",\"type\":\"FixedTicker\"},{\"attributes\":{\"line_alpha\":0.1,\"line_color\":\"green\",\"line_width\":2.5,\"x\":{\"field\":\"x\"},\"y\":{\"field\":\"y\"}},\"id\":\"563236\",\"type\":\"Line\"},{\"attributes\":{\"source\":{\"id\":\"563234\"}},\"id\":\"563239\",\"type\":\"CDSView\"},{\"attributes\":{},\"id\":\"563199\",\"type\":\"BasicTicker\"},{\"attributes\":{},\"id\":\"563271\",\"type\":\"Selection\"},{\"attributes\":{\"label\":{\"value\":\"CPI\"},\"renderers\":[{\"id\":\"563257\"}]},\"id\":\"563273\",\"type\":\"LegendItem\"},{\"attributes\":{},\"id\":\"563230\",\"type\":\"Selection\"},{\"attributes\":{},\"id\":\"563192\",\"type\":\"LinearScale\"},{\"attributes\":{\"coordinates\":null,\"data_source\":{\"id\":\"563234\"},\"glyph\":{\"id\":\"563235\"},\"group\":null,\"hover_glyph\":null,\"muted_glyph\":{\"id\":\"563237\"},\"nonselection_glyph\":{\"id\":\"563236\"},\"view\":{\"id\":\"563239\"}},\"id\":\"563238\",\"type\":\"GlyphRenderer\"},{\"attributes\":{},\"id\":\"563225\",\"type\":\"AllLabels\"},{\"attributes\":{},\"id\":\"563228\",\"type\":\"AllLabels\"},{\"attributes\":{\"source\":{\"id\":\"563274\"}},\"id\":\"563279\",\"type\":\"CDSView\"},{\"attributes\":{},\"id\":\"563186\",\"type\":\"DataRange1d\"},{\"attributes\":{\"label\":{\"value\":\"Training Data\"},\"renderers\":[{\"id\":\"563220\"}]},\"id\":\"563233\",\"type\":\"LegendItem\"},{\"attributes\":{\"overlay\":{\"id\":\"563208\"}},\"id\":\"563204\",\"type\":\"BoxZoomTool\"},{\"attributes\":{\"label\":{\"value\":\"Final  Model Predictions\"},\"renderers\":[{\"id\":\"563278\"}]},\"id\":\"563296\",\"type\":\"LegendItem\"},{\"attributes\":{\"line_alpha\":0.2,\"line_color\":\"orange\",\"line_dash\":[6],\"line_width\":2.5,\"x\":{\"field\":\"x\"},\"y\":{\"field\":\"y\"}},\"id\":\"563256\",\"type\":\"Line\"},{\"attributes\":{\"line_alpha\":0.2,\"line_color\":\"orangered\",\"line_width\":2.5,\"x\":{\"field\":\"x\"},\"y\":{\"field\":\"y\"}},\"id\":\"563277\",\"type\":\"Line\"},{\"attributes\":{\"bottom_units\":\"screen\",\"coordinates\":null,\"fill_alpha\":0.5,\"fill_color\":\"lightgrey\",\"group\":null,\"left_units\":\"screen\",\"level\":\"overlay\",\"line_alpha\":1.0,\"line_color\":\"black\",\"line_dash\":[4,4],\"line_width\":2,\"right_units\":\"screen\",\"syncable\":false,\"top_units\":\"screen\"},\"id\":\"563208\",\"type\":\"BoxAnnotation\"},{\"attributes\":{},\"id\":\"563224\",\"type\":\"BasicTickFormatter\"},{\"attributes\":{},\"id\":\"563206\",\"type\":\"ResetTool\"},{\"attributes\":{\"line_alpha\":0.2,\"line_color\":\"lightgreen\",\"line_dash\":[6],\"line_width\":2.5,\"x\":{\"field\":\"x\"},\"y\":{\"field\":\"y\"}},\"id\":\"563219\",\"type\":\"Line\"},{\"attributes\":{},\"id\":\"563188\",\"type\":\"DataRange1d\"},{\"attributes\":{},\"id\":\"563270\",\"type\":\"UnionRenderers\"},{\"attributes\":{\"coordinates\":null,\"data_source\":{\"id\":\"563253\"},\"glyph\":{\"id\":\"563254\"},\"group\":null,\"hover_glyph\":null,\"muted_glyph\":{\"id\":\"563256\"},\"nonselection_glyph\":{\"id\":\"563255\"},\"view\":{\"id\":\"563258\"}},\"id\":\"563257\",\"type\":\"GlyphRenderer\"},{\"attributes\":{\"line_color\":\"orange\",\"line_dash\":[6],\"line_width\":2.5,\"x\":{\"field\":\"x\"},\"y\":{\"field\":\"y\"}},\"id\":\"563254\",\"type\":\"Line\"},{\"attributes\":{},\"id\":\"563203\",\"type\":\"WheelZoomTool\"},{\"attributes\":{},\"id\":\"563205\",\"type\":\"SaveTool\"},{\"attributes\":{},\"id\":\"563250\",\"type\":\"Selection\"},{\"attributes\":{\"coordinates\":null,\"formatter\":{\"id\":\"563227\"},\"group\":null,\"major_label_overrides\":{\"0\":\"2008\",\"105\":\"2017\",\"140\":\"2020\",\"35\":\"2011\",\"70\":\"2014\"},\"major_label_policy\":{\"id\":\"563228\"},\"ticker\":{\"id\":\"563297\"}},\"id\":\"563194\",\"type\":\"LinearAxis\"},{\"attributes\":{},\"id\":\"563293\",\"type\":\"UnionRenderers\"},{\"attributes\":{},\"id\":\"563229\",\"type\":\"UnionRenderers\"},{\"attributes\":{\"data\":{\"x\":[0,1,2,3,4,5,6,7,8,9,10,11,12,13,14,15,16,17,18,19,20,21,22,23,24,25,26,27,28,29,30,31,32,33,34,35,36,37,38,39,40,41,42,43,44,45,46,47,48,49,50,51,52,53,54,55,56,57],\"y\":{\"__ndarray__\":\"nbn7qOSW17/EmcDnJ2Pgv2xQwRsxQeG/8Oy4Zawmn7+cm9eNSKTXP2RX7BwEANI/5gUL6mQaxj9lIYMTlerHP7pcZ0l6H8w/DPHGIgp02j/XZfJ/qOe+v+vfCyGBiMo/dk3Hx53Gwj91w6dmVuymP+DLWezoftA/4SKJU71JuL9iRWGsOuTcP/w5h7Im/Lo/dFGV5miz1D8oVqdq9sajv5pWe3eXKs0/RPbVC3iElb8k2Rfqf+e6P6laPsN9DtA/Q+8QM9hrvz8N62yfd83DP/gq5kEp4sI/Y3/2N31UyT/ZifeIODHWP2RRNVKu4dk/ro3amUe/3z/djQh7afO4Py9JcTRd6dI/ePxXzQVPpL8HtE5oG2PFP6hlKieh3ro/BtPvv082wj9K4nFXdxPAv8Rg5Hq6b8k/UPTD/RGQtz+1CSLBiwzgP5qZWreGec0/Jvh8kz8p0T/1ReSsjOunPwhUi57zjIW/9FEQi7UE0D9UXc/Qt+e1P+2XCLijjNU/Ha0/JLObuz+ktItADDuNvwi0SRMTJrK/kurYBnXy0j9DLu/SKRDNP2Worq4ba9g/L4LekVOjwj9wLdrBlxCLv3v+a53Xlsc/nv3KOKkWyD8=\",\"dtype\":\"float64\",\"order\":\"little\",\"shape\":[58]}},\"selected\":{\"id\":\"563250\"},\"selection_policy\":{\"id\":\"563249\"}},\"id\":\"563234\",\"type\":\"ColumnDataSource\"},{\"attributes\":{\"tools\":[{\"id\":\"563202\"},{\"id\":\"563203\"},{\"id\":\"563204\"},{\"id\":\"563205\"},{\"id\":\"563206\"},{\"id\":\"563207\"}]},\"id\":\"563209\",\"type\":\"Toolbar\"},{\"attributes\":{\"coordinates\":null,\"data_source\":{\"id\":\"563216\"},\"glyph\":{\"id\":\"563217\"},\"group\":null,\"hover_glyph\":null,\"muted_glyph\":{\"id\":\"563219\"},\"nonselection_glyph\":{\"id\":\"563218\"},\"view\":{\"id\":\"563221\"}},\"id\":\"563220\",\"type\":\"GlyphRenderer\"},{\"attributes\":{\"line_color\":\"lightgreen\",\"line_dash\":[6],\"line_width\":2.5,\"x\":{\"field\":\"x\"},\"y\":{\"field\":\"y\"}},\"id\":\"563217\",\"type\":\"Line\"},{\"attributes\":{},\"id\":\"563202\",\"type\":\"PanTool\"},{\"attributes\":{\"data\":{\"x\":[0,1,2,3,4,5,6,7,8,9,10,11,12,13,14,15,16,17,18,19,20,21,22,23,24,25,26,27,28,29,30,31,32,33,34,35,36,37,38,39,40,41,42,43,44,45,46,47,48,49,50,51,52,53,54,55,56,57,58,59],\"y\":{\"__ndarray__\":\"aqLmA46M2b8NyEZkI7LBv8s6UyGGKfC/8V/RCQGl/r9JaRANQozwvzRO8Zn52ts/AUtUbFvT3z8GqPxVgCDPP+NTUyET9M8/aXcIJwN90j9umD7I0nzrPxIAF0fFS8S/6+VLxY61zD9qMYVSawOwP9vqMKjyp7g/pkll6Ycdsj/0zQT/xYrGv+3yxCAr39U/xt1tHECFmT+gv8vVy0faP3U2fcx3O8Y/XBK/PWbXsz++5sCcjv64vx1uqvgEoZU/Kz6KdjCswT+1apxD8sitPxqXuojN4L8/jQR2+OKIpT/qDbr1eADGP5GHtSLSe94/DOr9aWOP3z/Jgw1+5zPvP8tMzx3qmuQ/j0Vq77gc3j9I13JM9Wq7vwwf7TuyrrY/FFnMfcml0T9RtxVpXW/DPxxlrp2mZ8q/cubr6hmZtb/SPEhm95HPv2+ZcWwlKdw/77yCNfEt3D8MFFR8vE3oP4P/t5iPVdM/2H1GPwQLvr9RJJK2u8TCv5WJV+7V28S/huSfshnP4T/jUKo+1Y7cP84p6jlQ8qO/cCalBzJT3r/r61ByoDvRv835290f7dI/IZfx7SY16j/Njq9nj7vQP3c9RVylnbq/1H5bIAPKxj91j/atYbjOPzz6+3gAM6Q/\",\"dtype\":\"float64\",\"order\":\"little\",\"shape\":[60]}},\"selected\":{\"id\":\"563230\"},\"selection_policy\":{\"id\":\"563229\"}},\"id\":\"563216\",\"type\":\"ColumnDataSource\"},{\"attributes\":{\"coordinates\":null,\"group\":null,\"text\":\"CPI Predictions with SARIMAX (2,0,0)\"},\"id\":\"563184\",\"type\":\"Title\"},{\"attributes\":{\"label\":{\"value\":\"Final Model (Training Data Fit)\"},\"renderers\":[{\"id\":\"563238\"}]},\"id\":\"563252\",\"type\":\"LegendItem\"},{\"attributes\":{\"line_alpha\":0.1,\"line_color\":\"orangered\",\"line_width\":2.5,\"x\":{\"field\":\"x\"},\"y\":{\"field\":\"y\"}},\"id\":\"563276\",\"type\":\"Line\"},{\"attributes\":{\"line_alpha\":0.2,\"line_color\":\"green\",\"line_width\":2.5,\"x\":{\"field\":\"x\"},\"y\":{\"field\":\"y\"}},\"id\":\"563237\",\"type\":\"Line\"},{\"attributes\":{\"coordinates\":null,\"formatter\":{\"id\":\"563224\"},\"group\":null,\"major_label_policy\":{\"id\":\"563225\"},\"ticker\":{\"id\":\"563199\"}},\"id\":\"563198\",\"type\":\"LinearAxis\"},{\"attributes\":{\"line_color\":\"green\",\"line_width\":2.5,\"x\":{\"field\":\"x\"},\"y\":{\"field\":\"y\"}},\"id\":\"563235\",\"type\":\"Line\"},{\"attributes\":{\"line_color\":\"orangered\",\"line_width\":2.5,\"x\":{\"field\":\"x\"},\"y\":{\"field\":\"y\"}},\"id\":\"563275\",\"type\":\"Line\"},{\"attributes\":{},\"id\":\"563207\",\"type\":\"HelpTool\"},{\"attributes\":{},\"id\":\"563190\",\"type\":\"LinearScale\"},{\"attributes\":{\"axis\":{\"id\":\"563194\"},\"coordinates\":null,\"group\":null,\"ticker\":null},\"id\":\"563197\",\"type\":\"Grid\"},{\"attributes\":{},\"id\":\"563249\",\"type\":\"UnionRenderers\"},{\"attributes\":{\"source\":{\"id\":\"563253\"}},\"id\":\"563258\",\"type\":\"CDSView\"},{\"attributes\":{\"data\":{\"x\":[62,63,64,65,66,67,68,69,70,71,72,73,74,75,76,77,78,79,80,81,82,83,84,85,86,87,88,89,90,91,92,93,94,95,96,97,98,99,100,101,102,103,104,105,106,107,108,109,110,111,112,113,114,115,116,117,118,119,120,121,122,123,124,125,126,127,128,129,130,131,132,133,134,135],\"y\":[0.124649566954314,0.18442069795811125,0.10456790743919608,-0.03012565119636465,0.0796249895279261,0.1931407109202577,0.32259862195367117,0.28972832693341644,0.42061804679103654,0.2297473947379911,0.2602863009960169,0.1641710954033242,0.07573431561483228,0.05256348062438954,0.13076396404438412,-0.08147890232866183,-0.2399336256002458,-0.25790117315478644,0.030550002300829493,0.49283625034491274,0.3403508641021353,0.23411401997470827,0.36063150098418045,0.18992525158107576,0.02888494240261512,-0.03857139299143819,0.04320525630704572,0.04795051343045405,-0.04598268311585338,-0.10287905863432646,0.12777792517653674,0.20619114093165566,0.3949597737530312,0.3491410561010009,0.27236167693331004,0.1550106031624768,-0.03518963723094165,0.19843188799255862,0.23744781184588756,0.11519916166773086,0.06317699925064335,0.24882944087771233,0.3798143467995793,0.20768251394175366,0.14316641141574585,0.23770147623293214,0.1024824412853205,0.13133418615332518,0.12805049699637833,0.40772838286054236,0.32890666131776375,0.05390394048342243,0.12029311047544702,0.1569202380484126,0.418948756703541,0.26159406724409057,0.2531664891822888,0.36474073778911775,0.2928972952774651,0.1543922978825606,0.11949961334112846,0.17390000799044134,0.2156864601352706,0.1286419657374439,-0.16179261599606648,-0.019189931235189334,0.2974861212153454,0.40190661987886417,0.42227841690813245,0.3119174415328879,0.09639371327121071,0.08381154665972536,0.15087978738096508,0.08098081588933458]},\"selected\":{\"id\":\"563294\"},\"selection_policy\":{\"id\":\"563293\"}},\"id\":\"563274\",\"type\":\"ColumnDataSource\"},{\"attributes\":{\"line_alpha\":0.1,\"line_color\":\"orange\",\"line_dash\":[6],\"line_width\":2.5,\"x\":{\"field\":\"x\"},\"y\":{\"field\":\"y\"}},\"id\":\"563255\",\"type\":\"Line\"},{\"attributes\":{\"coordinates\":null,\"group\":null,\"items\":[{\"id\":\"563233\"},{\"id\":\"563252\"},{\"id\":\"563273\"},{\"id\":\"563296\"}],\"location\":\"bottom_right\"},\"id\":\"563232\",\"type\":\"Legend\"},{\"attributes\":{\"line_alpha\":0.1,\"line_color\":\"lightgreen\",\"line_dash\":[6],\"line_width\":2.5,\"x\":{\"field\":\"x\"},\"y\":{\"field\":\"y\"}},\"id\":\"563218\",\"type\":\"Line\"},{\"attributes\":{\"axis\":{\"id\":\"563198\"},\"coordinates\":null,\"dimension\":1,\"group\":null,\"ticker\":null},\"id\":\"563201\",\"type\":\"Grid\"},{\"attributes\":{\"source\":{\"id\":\"563216\"}},\"id\":\"563221\",\"type\":\"CDSView\"}],\"root_ids\":[\"563183\"]},\"title\":\"Bokeh Application\",\"version\":\"2.4.1\"}};\n",
       "  const render_items = [{\"docid\":\"2cc890f6-f026-44dc-8052-aa59cce70b86\",\"root_ids\":[\"563183\"],\"roots\":{\"563183\":\"5ea3bfd3-ea1f-4ff0-88b0-bfc2395d8215\"}}];\n",
       "  root.Bokeh.embed.embed_items_notebook(docs_json, render_items);\n",
       "\n",
       "  }\n",
       "  if (root.Bokeh !== undefined) {\n",
       "    embed_document(root);\n",
       "  } else {\n",
       "    let attempts = 0;\n",
       "    const timer = setInterval(function(root) {\n",
       "      if (root.Bokeh !== undefined) {\n",
       "        clearInterval(timer);\n",
       "        embed_document(root);\n",
       "      } else {\n",
       "        attempts++;\n",
       "        if (attempts > 100) {\n",
       "          clearInterval(timer);\n",
       "          console.log(\"Bokeh: ERROR: Unable to run BokehJS code because BokehJS library is missing\");\n",
       "        }\n",
       "      }\n",
       "    }, 10, root)\n",
       "  }\n",
       "})(window);"
      ],
      "application/vnd.bokehjs_exec.v0+json": ""
     },
     "metadata": {
      "application/vnd.bokehjs_exec.v0+json": {
       "id": "563183"
      }
     },
     "output_type": "display_data"
    }
   ],
   "source": [
    "# Plotting predictions\n",
    "\n",
    "p = figure(plot_width=800, plot_height=600, title = \"CPI Predictions with SARIMAX (2,0,0)\")\n",
    "p.line(range(len(endogenous+2)), endogenous, line_width =2.5, line_color=\"lightgreen\", line_dash=\"dashed\", legend_label =\"Training Data\")\n",
    "p.line(range(len(training_predictions_sarimax+2)), training_predictions_sarimax, line_color=\"green\", line_width=2.5, legend_label =\"Final Model (Training Data Fit)\")\n",
    "p.line(cpi_test.index ,cpi_test.IR, line_width =2.5, line_color=\"orange\", line_dash=\"dashed\", legend_label =\"CPI\")\n",
    "p.line(cpi_test.index[:-1], test_predictions_sarimax[:-1], line_color=\"orangered\", line_width=2.5, legend_label =\"Final  Model Predictions\")\n",
    "p.xaxis.ticker = [0, 35, 70, 105, 140]\n",
    "p.xaxis.major_label_overrides = {0: '2008', 35: '2011', 70: '2014', 105: '2017', 140: '2020'}\n",
    "p.legend.location ='bottom_right'\n",
    "show(p)"
   ]
  },
  {
   "cell_type": "markdown",
   "metadata": {},
   "source": [
    "The results from the SARIMAX model are very good and by addding external regressor to predict the data we managed to achieve better results than previously when predicting only with the CPI itself. The errors on the RMSE and MAPE are low, the residuals are normal without a sign of autocorrelation, and from the plot we can see that the predictions follow quite nicely the training and testing data."
   ]
  },
  {
   "cell_type": "markdown",
   "metadata": {},
   "source": [
    "<b> What other steps can you take to improve your model? What is the smallest prediction error you can obtain? Describe the model that performs best. You might consider including MA terms, adding a seasonal AR term, or adding multiple daily values (or values from different months) of PriceStats and BER data as external regressors.</b>"
   ]
  },
  {
   "cell_type": "code",
   "execution_count": 1504,
   "metadata": {},
   "outputs": [],
   "source": [
    "# Fitting with SARIMAX (2,0,1) model\n",
    "\n",
    "model_sarimax_2 = sm.tsa.statespace.SARIMAX(endogenous, exogenous, order=(2,0,1), coerce_errors=True).fit(disp=False)"
   ]
  },
  {
   "cell_type": "code",
   "execution_count": 1505,
   "metadata": {},
   "outputs": [
    {
     "data": {
      "text/html": [
       "<table class=\"simpletable\">\n",
       "<caption>SARIMAX Results</caption>\n",
       "<tr>\n",
       "  <th>Dep. Variable:</th>           <td>y</td>        <th>  No. Observations:  </th>   <td>60</td>   \n",
       "</tr>\n",
       "<tr>\n",
       "  <th>Model:</th>           <td>SARIMAX(2, 0, 1)</td> <th>  Log Likelihood     </th> <td>-22.402</td>\n",
       "</tr>\n",
       "<tr>\n",
       "  <th>Date:</th>            <td>Fri, 04 Mar 2022</td> <th>  AIC                </th> <td>56.804</td> \n",
       "</tr>\n",
       "<tr>\n",
       "  <th>Time:</th>                <td>07:09:01</td>     <th>  BIC                </th> <td>69.370</td> \n",
       "</tr>\n",
       "<tr>\n",
       "  <th>Sample:</th>                  <td>0</td>        <th>  HQIC               </th> <td>61.720</td> \n",
       "</tr>\n",
       "<tr>\n",
       "  <th></th>                       <td> - 60</td>      <th>                     </th>    <td> </td>   \n",
       "</tr>\n",
       "<tr>\n",
       "  <th>Covariance Type:</th>        <td>opg</td>       <th>                     </th>    <td> </td>   \n",
       "</tr>\n",
       "</table>\n",
       "<table class=\"simpletable\">\n",
       "<tr>\n",
       "     <td></td>       <th>coef</th>     <th>std err</th>      <th>z</th>      <th>P>|z|</th>  <th>[0.025</th>    <th>0.975]</th>  \n",
       "</tr>\n",
       "<tr>\n",
       "  <th>x1</th>     <td>    0.5942</td> <td>    0.181</td> <td>    3.274</td> <td> 0.001</td> <td>    0.238</td> <td>    0.950</td>\n",
       "</tr>\n",
       "<tr>\n",
       "  <th>x2</th>     <td>    0.2751</td> <td>    0.124</td> <td>    2.219</td> <td> 0.026</td> <td>    0.032</td> <td>    0.518</td>\n",
       "</tr>\n",
       "<tr>\n",
       "  <th>ar.L1</th>  <td>    1.3247</td> <td>    0.103</td> <td>   12.877</td> <td> 0.000</td> <td>    1.123</td> <td>    1.526</td>\n",
       "</tr>\n",
       "<tr>\n",
       "  <th>ar.L2</th>  <td>   -0.4453</td> <td>    0.115</td> <td>   -3.870</td> <td> 0.000</td> <td>   -0.671</td> <td>   -0.220</td>\n",
       "</tr>\n",
       "<tr>\n",
       "  <th>ma.L1</th>  <td>   -0.9999</td> <td>   36.204</td> <td>   -0.028</td> <td> 0.978</td> <td>  -71.959</td> <td>   69.959</td>\n",
       "</tr>\n",
       "<tr>\n",
       "  <th>sigma2</th> <td>    0.1190</td> <td>    4.293</td> <td>    0.028</td> <td> 0.978</td> <td>   -8.294</td> <td>    8.532</td>\n",
       "</tr>\n",
       "</table>\n",
       "<table class=\"simpletable\">\n",
       "<tr>\n",
       "  <th>Ljung-Box (L1) (Q):</th>     <td>0.01</td> <th>  Jarque-Bera (JB):  </th> <td>21.57</td>\n",
       "</tr>\n",
       "<tr>\n",
       "  <th>Prob(Q):</th>                <td>0.92</td> <th>  Prob(JB):          </th> <td>0.00</td> \n",
       "</tr>\n",
       "<tr>\n",
       "  <th>Heteroskedasticity (H):</th> <td>0.39</td> <th>  Skew:              </th> <td>-0.81</td>\n",
       "</tr>\n",
       "<tr>\n",
       "  <th>Prob(H) (two-sided):</th>    <td>0.04</td> <th>  Kurtosis:          </th> <td>5.45</td> \n",
       "</tr>\n",
       "</table><br/><br/>Warnings:<br/>[1] Covariance matrix calculated using the outer product of gradients (complex-step)."
      ],
      "text/plain": [
       "<class 'statsmodels.iolib.summary.Summary'>\n",
       "\"\"\"\n",
       "                               SARIMAX Results                                \n",
       "==============================================================================\n",
       "Dep. Variable:                      y   No. Observations:                   60\n",
       "Model:               SARIMAX(2, 0, 1)   Log Likelihood                 -22.402\n",
       "Date:                Fri, 04 Mar 2022   AIC                             56.804\n",
       "Time:                        07:09:01   BIC                             69.370\n",
       "Sample:                             0   HQIC                            61.720\n",
       "                                 - 60                                         \n",
       "Covariance Type:                  opg                                         \n",
       "==============================================================================\n",
       "                 coef    std err          z      P>|z|      [0.025      0.975]\n",
       "------------------------------------------------------------------------------\n",
       "x1             0.5942      0.181      3.274      0.001       0.238       0.950\n",
       "x2             0.2751      0.124      2.219      0.026       0.032       0.518\n",
       "ar.L1          1.3247      0.103     12.877      0.000       1.123       1.526\n",
       "ar.L2         -0.4453      0.115     -3.870      0.000      -0.671      -0.220\n",
       "ma.L1         -0.9999     36.204     -0.028      0.978     -71.959      69.959\n",
       "sigma2         0.1190      4.293      0.028      0.978      -8.294       8.532\n",
       "===================================================================================\n",
       "Ljung-Box (L1) (Q):                   0.01   Jarque-Bera (JB):                21.57\n",
       "Prob(Q):                              0.92   Prob(JB):                         0.00\n",
       "Heteroskedasticity (H):               0.39   Skew:                            -0.81\n",
       "Prob(H) (two-sided):                  0.04   Kurtosis:                         5.45\n",
       "===================================================================================\n",
       "\n",
       "Warnings:\n",
       "[1] Covariance matrix calculated using the outer product of gradients (complex-step).\n",
       "\"\"\""
      ]
     },
     "execution_count": 1505,
     "metadata": {},
     "output_type": "execute_result"
    }
   ],
   "source": [
    "model_sarimax_2.summary()"
   ]
  },
  {
   "cell_type": "code",
   "execution_count": 1506,
   "metadata": {},
   "outputs": [],
   "source": [
    "# Making predictions 1 month ahead\n",
    "\n",
    "training_predictions_sarimax_2 = model_sarimax_2.predict(start =2, end = 59, exog = exogenous)\n",
    "\n",
    "k= 2\n",
    "coef = model_sarimax_2.params\n",
    "past = endogenous[len(endogenous)-k:]\n",
    "past = [past[i] for i in range(k)]\n",
    "test_predictions_sarimax_2 = list()\n",
    "\n",
    "past_ps = pricestats_train.PriceStats_avg_rate.values[-1] # Since lag was 1 between CPI and PriceStats\n",
    "pred = coef[3]*past[0] + coef[2]*past[1] + coef[1] * pricestats_train.PriceStats_avg_rate.values[-1] + coef[0] * ber_test.BER_avg_rate.iloc[0] \n",
    "test_predictions_sarimax_2.append(pred)\n",
    "obs = cpi_test.IR.values[0]\n",
    "past.append(obs)\n",
    "\n",
    "for t in range(1,len(cpi_test.IR)):\n",
    "    length = len(past)\n",
    "    lag = [past[i] for i in range(length-2,length)]\n",
    "    pred = coef[3]*lag[0] + coef[2]*lag[1] + coef[1] * pricestats_test.PriceStats_avg_rate.iloc[t-1] + coef[0] * ber_test.BER_avg_rate.iloc[t] \n",
    "    test_predictions_sarimax_2.append(pred)\n",
    "    obs = cpi_test.IR.values[t]\n",
    "    past.append(obs)"
   ]
  },
  {
   "cell_type": "code",
   "execution_count": 1507,
   "metadata": {},
   "outputs": [
    {
     "name": "stdout",
     "output_type": "stream",
     "text": [
      "The mean squared prediction error of the final model is 0.30142230929126157\n"
     ]
    }
   ],
   "source": [
    "# Calculating the prediction error RMSE for the second SARIMAX model\n",
    "\n",
    "rmse_final = mean_squared_error(cpi_test.IR.values[:-2], test_predictions_sarimax_2[:-2], squared=False)\n",
    "print(\"The mean squared prediction error of the final model is \" + str(rmse_final))"
   ]
  },
  {
   "cell_type": "code",
   "execution_count": 1508,
   "metadata": {},
   "outputs": [
    {
     "data": {
      "image/png": "[encoded data removed]",
      "text/plain": [
       "<Figure size 576x396 with 1 Axes>"
      ]
     },
     "metadata": {},
     "output_type": "display_data"
    }
   ],
   "source": [
    "# Checking autocorrelation of residuals\n",
    "\n",
    "residuals = (endogenous[2:] - training_predictions_sarimax_2)\n",
    "plot_pacf(residuals, zero=False)\n",
    "plt.show()"
   ]
  },
  {
   "cell_type": "code",
   "execution_count": 1509,
   "metadata": {},
   "outputs": [
    {
     "data": {
      "text/html": [
       "\n",
       "\n",
       "\n",
       "\n",
       "\n",
       "\n",
       "  <div class=\"bk-root\" id=\"1e46a6e6-a72c-48a9-beb3-5e83c6375386\" data-root-id=\"566891\"></div>\n"
      ]
     },
     "metadata": {},
     "output_type": "display_data"
    },
    {
     "data": {
      "application/javascript": [
       "(function(root) {\n",
       "  function embed_document(root) {\n",
       "    \n",
       "  const docs_json = {\"b6628879-1628-4e3e-a190-07264f66eba2\":{\"defs\":[],\"roots\":{\"references\":[{\"attributes\":{\"below\":[{\"id\":\"566902\"}],\"center\":[{\"id\":\"566905\"},{\"id\":\"566909\"},{\"id\":\"566940\"}],\"left\":[{\"id\":\"566906\"}],\"renderers\":[{\"id\":\"566928\"},{\"id\":\"566946\"},{\"id\":\"566965\"},{\"id\":\"566986\"}],\"title\":{\"id\":\"566892\"},\"toolbar\":{\"id\":\"566917\"},\"width\":800,\"x_range\":{\"id\":\"566894\"},\"x_scale\":{\"id\":\"566898\"},\"y_range\":{\"id\":\"566896\"},\"y_scale\":{\"id\":\"566900\"}},\"id\":\"566891\",\"subtype\":\"Figure\",\"type\":\"Plot\"},{\"attributes\":{\"ticks\":[0,35,70,105,140]},\"id\":\"567005\",\"type\":\"FixedTicker\"},{\"attributes\":{},\"id\":\"567001\",\"type\":\"UnionRenderers\"},{\"attributes\":{\"label\":{\"value\":\"Final  Model Predictions\"},\"renderers\":[{\"id\":\"566986\"}]},\"id\":\"567004\",\"type\":\"LegendItem\"},{\"attributes\":{},\"id\":\"566935\",\"type\":\"BasicTickFormatter\"},{\"attributes\":{\"coordinates\":null,\"data_source\":{\"id\":\"566961\"},\"glyph\":{\"id\":\"566962\"},\"group\":null,\"hover_glyph\":null,\"muted_glyph\":{\"id\":\"566964\"},\"nonselection_glyph\":{\"id\":\"566963\"},\"view\":{\"id\":\"566966\"}},\"id\":\"566965\",\"type\":\"GlyphRenderer\"},{\"attributes\":{\"line_alpha\":0.1,\"line_color\":\"green\",\"line_width\":2.5,\"x\":{\"field\":\"x\"},\"y\":{\"field\":\"y\"}},\"id\":\"566944\",\"type\":\"Line\"},{\"attributes\":{},\"id\":\"566913\",\"type\":\"SaveTool\"},{\"attributes\":{\"line_alpha\":0.2,\"line_color\":\"orange\",\"line_dash\":[6],\"line_width\":2.5,\"x\":{\"field\":\"x\"},\"y\":{\"field\":\"y\"}},\"id\":\"566964\",\"type\":\"Line\"},{\"attributes\":{},\"id\":\"566914\",\"type\":\"ResetTool\"},{\"attributes\":{\"source\":{\"id\":\"566924\"}},\"id\":\"566929\",\"type\":\"CDSView\"},{\"attributes\":{\"line_color\":\"green\",\"line_width\":2.5,\"x\":{\"field\":\"x\"},\"y\":{\"field\":\"y\"}},\"id\":\"566943\",\"type\":\"Line\"},{\"attributes\":{},\"id\":\"566910\",\"type\":\"PanTool\"},{\"attributes\":{},\"id\":\"566978\",\"type\":\"UnionRenderers\"},{\"attributes\":{},\"id\":\"567002\",\"type\":\"Selection\"},{\"attributes\":{\"label\":{\"value\":\"Training Data\"},\"renderers\":[{\"id\":\"566928\"}]},\"id\":\"566941\",\"type\":\"LegendItem\"},{\"attributes\":{\"data\":{\"x\":[62,63,64,65,66,67,68,69,70,71,72,73,74,75,76,77,78,79,80,81,82,83,84,85,86,87,88,89,90,91,92,93,94,95,96,97,98,99,100,101,102,103,104,105,106,107,108,109,110,111,112,113,114,115,116,117,118,119,120,121,122,123,124,125,126,127,128,129,130,131,132,133,134,135],\"y\":[0.08224265511377496,0.27317103330507986,0.16308995736247614,-0.29918348337518985,-0.029223686109506625,0.24267375286188464,0.6487860650886258,0.5006032399340673,0.8744076049884952,0.32311169306982257,0.4642618494164546,0.21791429636388066,-0.02027687808058276,-0.08803714367150663,0.24086190422037748,-0.3326482308832347,-0.6504271927398154,-0.607905635912209,-0.21728604120144474,1.0170959206301013,0.7314404482189943,0.23441121800906073,0.7467079468325173,0.3422481583815824,-0.07499280152877177,-0.17205770766523776,-0.05589140105693799,0.04923098379315942,-0.22421737809904407,-0.3469466020261296,0.3688399034695417,0.2285876565711797,0.7506628991341074,0.6387484887432681,0.48602032642419596,0.3187676536218879,-0.2809682389075469,0.3249851874900996,0.41855212909363604,0.14715574620913208,-0.11572830135071467,0.3225266003196687,0.8793223538232252,0.30675747563348676,0.11721896308068425,0.4709912377552226,0.08422384045396929,0.18095252755727048,0.03742717796351176,0.6935776578081977,0.7024332174642319,-0.16412192970385633,0.135479168095958,0.10091720155084313,0.9136087167714275,0.4931043242501928,0.3143537666172673,0.6456571842970619,0.5365423310592081,0.16536722235171605,0.0723893295048476,0.21625936220119923,0.29824297696868507,0.24334438601717634,-0.5188820652872093,-0.20697953484056075,0.5585845908397261,0.7173856454915846,0.7931827499902114,0.6075938312024184,0.11961822416825191,0.03366293209632593,0.28758272676507285,0.02267405422932027]},\"selected\":{\"id\":\"567002\"},\"selection_policy\":{\"id\":\"567001\"}},\"id\":\"566982\",\"type\":\"ColumnDataSource\"},{\"attributes\":{\"label\":{\"value\":\"CPI\"},\"renderers\":[{\"id\":\"566965\"}]},\"id\":\"566981\",\"type\":\"LegendItem\"},{\"attributes\":{\"coordinates\":null,\"data_source\":{\"id\":\"566982\"},\"glyph\":{\"id\":\"566983\"},\"group\":null,\"hover_glyph\":null,\"muted_glyph\":{\"id\":\"566985\"},\"nonselection_glyph\":{\"id\":\"566984\"},\"view\":{\"id\":\"566987\"}},\"id\":\"566986\",\"type\":\"GlyphRenderer\"},{\"attributes\":{\"line_color\":\"lightgreen\",\"line_dash\":[6],\"line_width\":2.5,\"x\":{\"field\":\"x\"},\"y\":{\"field\":\"y\"}},\"id\":\"566925\",\"type\":\"Line\"},{\"attributes\":{\"line_alpha\":0.1,\"line_color\":\"lightgreen\",\"line_dash\":[6],\"line_width\":2.5,\"x\":{\"field\":\"x\"},\"y\":{\"field\":\"y\"}},\"id\":\"566926\",\"type\":\"Line\"},{\"attributes\":{},\"id\":\"566937\",\"type\":\"UnionRenderers\"},{\"attributes\":{\"coordinates\":null,\"data_source\":{\"id\":\"566924\"},\"glyph\":{\"id\":\"566925\"},\"group\":null,\"hover_glyph\":null,\"muted_glyph\":{\"id\":\"566927\"},\"nonselection_glyph\":{\"id\":\"566926\"},\"view\":{\"id\":\"566929\"}},\"id\":\"566928\",\"type\":\"GlyphRenderer\"},{\"attributes\":{\"axis\":{\"id\":\"566902\"},\"coordinates\":null,\"group\":null,\"ticker\":null},\"id\":\"566905\",\"type\":\"Grid\"},{\"attributes\":{\"line_alpha\":0.1,\"line_color\":\"orange\",\"line_dash\":[6],\"line_width\":2.5,\"x\":{\"field\":\"x\"},\"y\":{\"field\":\"y\"}},\"id\":\"566963\",\"type\":\"Line\"},{\"attributes\":{\"data\":{\"x\":[0,1,2,3,4,5,6,7,8,9,10,11,12,13,14,15,16,17,18,19,20,21,22,23,24,25,26,27,28,29,30,31,32,33,34,35,36,37,38,39,40,41,42,43,44,45,46,47,48,49,50,51,52,53,54,55,56,57],\"y\":{\"__ndarray__\":\"5CmhW04m2r+3BcTCBhPdvxN49XAUy96/CJqw2cFRor9wEhYRRY3cP9C6kmexZeA/1kplARaq2T/CRWF8E8DWPxC62B/ge9c/QL7cCm9U4D/W/wNyDe2sP7toT3wAfM4/Mrv88Lwizj9d4ru3bp27P+QLdKNclNQ/oDifWvbZZT/5iG99Dd7eP5AmB+JP5c4/LIJ0euT91z8oW1fZogmwP5nmtx97VdM/+i7iLQS6tT/vtNEDQJbFP8Fs/Sl7zNU/Cyh50lWbzj9aOrajN5fPP7VxwI/bytA/+wKyJ3+J0z9aVUX5+yfcP74MpOl4aOA/OJ3lbA8S4T+Nnr00wmPBP6yDWHcKddA/UHczs4Mvqr/PycxheSywP2r01qyCKJA/afeecWlesj+sGPzmWQDGv4EGxhIVCL0/cLI+fmS5tD8UW4Jz+rXbP2IRlPkYIM4/ZGrXxxnwyT/6QZ02PsWSPzICxKnSzLC/vDKUUwL3xT8g6G2kRXejP+XqxeYdnsw/4oLuww1rsj+IxS4OqFqlv0aXDT6mALi/aR7ZE1Oi0D97NYMuAdnKP4QdwSLfPdY/9w1oMzYtyT/AO3ca0thhv+B3Aw1knMA/bp0t8yxoxT8=\",\"dtype\":\"float64\",\"order\":\"little\",\"shape\":[58]}},\"selected\":{\"id\":\"566958\"},\"selection_policy\":{\"id\":\"566957\"}},\"id\":\"566942\",\"type\":\"ColumnDataSource\"},{\"attributes\":{\"tools\":[{\"id\":\"566910\"},{\"id\":\"566911\"},{\"id\":\"566912\"},{\"id\":\"566913\"},{\"id\":\"566914\"},{\"id\":\"566915\"}]},\"id\":\"566917\",\"type\":\"Toolbar\"},{\"attributes\":{\"label\":{\"value\":\"Final Model (Training Data Fit)\"},\"renderers\":[{\"id\":\"566946\"}]},\"id\":\"566960\",\"type\":\"LegendItem\"},{\"attributes\":{},\"id\":\"566933\",\"type\":\"AllLabels\"},{\"attributes\":{},\"id\":\"566958\",\"type\":\"Selection\"},{\"attributes\":{\"line_alpha\":0.2,\"line_color\":\"green\",\"line_width\":2.5,\"x\":{\"field\":\"x\"},\"y\":{\"field\":\"y\"}},\"id\":\"566945\",\"type\":\"Line\"},{\"attributes\":{\"line_alpha\":0.2,\"line_color\":\"orangered\",\"line_width\":2.5,\"x\":{\"field\":\"x\"},\"y\":{\"field\":\"y\"}},\"id\":\"566985\",\"type\":\"Line\"},{\"attributes\":{\"axis\":{\"id\":\"566906\"},\"coordinates\":null,\"dimension\":1,\"group\":null,\"ticker\":null},\"id\":\"566909\",\"type\":\"Grid\"},{\"attributes\":{\"coordinates\":null,\"group\":null,\"items\":[{\"id\":\"566941\"},{\"id\":\"566960\"},{\"id\":\"566981\"},{\"id\":\"567004\"}],\"location\":\"bottom_right\"},\"id\":\"566940\",\"type\":\"Legend\"},{\"attributes\":{},\"id\":\"566936\",\"type\":\"AllLabels\"},{\"attributes\":{\"line_color\":\"orange\",\"line_dash\":[6],\"line_width\":2.5,\"x\":{\"field\":\"x\"},\"y\":{\"field\":\"y\"}},\"id\":\"566962\",\"type\":\"Line\"},{\"attributes\":{\"coordinates\":null,\"data_source\":{\"id\":\"566942\"},\"glyph\":{\"id\":\"566943\"},\"group\":null,\"hover_glyph\":null,\"muted_glyph\":{\"id\":\"566945\"},\"nonselection_glyph\":{\"id\":\"566944\"},\"view\":{\"id\":\"566947\"}},\"id\":\"566946\",\"type\":\"GlyphRenderer\"},{\"attributes\":{\"overlay\":{\"id\":\"566916\"}},\"id\":\"566912\",\"type\":\"BoxZoomTool\"},{\"attributes\":{},\"id\":\"566979\",\"type\":\"Selection\"},{\"attributes\":{},\"id\":\"566898\",\"type\":\"LinearScale\"},{\"attributes\":{\"line_color\":\"orangered\",\"line_width\":2.5,\"x\":{\"field\":\"x\"},\"y\":{\"field\":\"y\"}},\"id\":\"566983\",\"type\":\"Line\"},{\"attributes\":{\"bottom_units\":\"screen\",\"coordinates\":null,\"fill_alpha\":0.5,\"fill_color\":\"lightgrey\",\"group\":null,\"left_units\":\"screen\",\"level\":\"overlay\",\"line_alpha\":1.0,\"line_color\":\"black\",\"line_dash\":[4,4],\"line_width\":2,\"right_units\":\"screen\",\"syncable\":false,\"top_units\":\"screen\"},\"id\":\"566916\",\"type\":\"BoxAnnotation\"},{\"attributes\":{},\"id\":\"566907\",\"type\":\"BasicTicker\"},{\"attributes\":{},\"id\":\"566938\",\"type\":\"Selection\"},{\"attributes\":{\"line_alpha\":0.2,\"line_color\":\"lightgreen\",\"line_dash\":[6],\"line_width\":2.5,\"x\":{\"field\":\"x\"},\"y\":{\"field\":\"y\"}},\"id\":\"566927\",\"type\":\"Line\"},{\"attributes\":{\"data\":{\"x\":[62,63,64,65,66,67,68,69,70,71,72,73,74,75,76,77,78,79,80,81,82,83,84,85,86,87,88,89,90,91,92,93,94,95,96,97,98,99,100,101,102,103,104,105,106,107,108,109,110,111,112,113,114,115,116,117,118,119,120,121,122,123,124,125,126,127,128,129,130,131,132,133,134,135,136],\"y\":{\"__ndarray__\":\"/kV3bFzKvj+2hVW5f8W9P0zgs4a4e9C/TtfdG9kkyr/r2pIIPH+Bv2yf6iLdztc/mCUwMnuq1z+r3ec6uZvkP8dzp6FFGdU/bPbCS0Na1j8PDKfwMtfHP+thAtsl+qO/XOTlL0Zixb9MTR+BxkOzP3NceuFCFNC/X5A8U1RH4b/gpMX/siTiv/7A12I9Ht6/iP1KErDK2z8iEIAkHgzjPyhHF4FtBso/ZX00NERP4D+tl8dOTGvWPxQlWjfBans/J5GyZs0hwr9viuPSr+vDv5+dmhAfBqe/PXH1vL4Dy7+AeGFRld/Vv6SuKgoyKcU/Dfa2UR8RtT8pJywX447bP1V6No5aWN4/nrPoDuHk2T/Nc/Q+bAXVP6W4/XFOuMS/yBdC7BuDtz8F0pjBM8XOP8vgmHQe7b8/gsv+hefnw7+ZgNZc18GgP4yaNlkBpuI/oC5GvM4h1D8Kdy9Zfs+0P86Bgfp9+tI/A8WA36fgtT9STalfcju3P5w8Lkx5p7G/Jz32cdgo0z+0vJJBhfHgPwTCayu+KLC/INac0QmfYz/KF8ewyByuv1JDhqwUb+E/aAKNafsF3T9yVQEDZvHMP3gVj8oNcNk/yKLJFPOd2j9GuqbS9GfEP+MB9MkYY3s/Mr6X+cRzrD+m2c0YRr+9P5Cl1u90n8Y/KtD8QMhv1b8ET1lkHnHUv7diYvJZZ8g/Wvv7lc8M2z9gp6QqdQ3iP1z2nA4m8uA/5gleKy4/yz+zzfGI32KUP3opTvNdY8U/8Gtcr6D1dL8AAAAAAAD4fwAAAAAAAPh/\",\"dtype\":\"float64\",\"order\":\"little\",\"shape\":[75]}},\"selected\":{\"id\":\"566979\"},\"selection_policy\":{\"id\":\"566978\"}},\"id\":\"566961\",\"type\":\"ColumnDataSource\"},{\"attributes\":{},\"id\":\"566911\",\"type\":\"WheelZoomTool\"},{\"attributes\":{\"source\":{\"id\":\"566961\"}},\"id\":\"566966\",\"type\":\"CDSView\"},{\"attributes\":{\"line_alpha\":0.1,\"line_color\":\"orangered\",\"line_width\":2.5,\"x\":{\"field\":\"x\"},\"y\":{\"field\":\"y\"}},\"id\":\"566984\",\"type\":\"Line\"},{\"attributes\":{},\"id\":\"566932\",\"type\":\"BasicTickFormatter\"},{\"attributes\":{},\"id\":\"566957\",\"type\":\"UnionRenderers\"},{\"attributes\":{},\"id\":\"566894\",\"type\":\"DataRange1d\"},{\"attributes\":{},\"id\":\"566900\",\"type\":\"LinearScale\"},{\"attributes\":{},\"id\":\"566896\",\"type\":\"DataRange1d\"},{\"attributes\":{\"coordinates\":null,\"formatter\":{\"id\":\"566932\"},\"group\":null,\"major_label_policy\":{\"id\":\"566933\"},\"ticker\":{\"id\":\"566907\"}},\"id\":\"566906\",\"type\":\"LinearAxis\"},{\"attributes\":{\"coordinates\":null,\"group\":null,\"text\":\"CPI Predictions with SARIMAX (2,0,1)\"},\"id\":\"566892\",\"type\":\"Title\"},{\"attributes\":{\"source\":{\"id\":\"566982\"}},\"id\":\"566987\",\"type\":\"CDSView\"},{\"attributes\":{\"source\":{\"id\":\"566942\"}},\"id\":\"566947\",\"type\":\"CDSView\"},{\"attributes\":{},\"id\":\"566915\",\"type\":\"HelpTool\"},{\"attributes\":{\"data\":{\"x\":[0,1,2,3,4,5,6,7,8,9,10,11,12,13,14,15,16,17,18,19,20,21,22,23,24,25,26,27,28,29,30,31,32,33,34,35,36,37,38,39,40,41,42,43,44,45,46,47,48,49,50,51,52,53,54,55,56,57,58,59],\"y\":{\"__ndarray__\":\"aqLmA46M2b8NyEZkI7LBv8s6UyGGKfC/8V/RCQGl/r9JaRANQozwvzRO8Zn52ts/AUtUbFvT3z8GqPxVgCDPP+NTUyET9M8/aXcIJwN90j9umD7I0nzrPxIAF0fFS8S/6+VLxY61zD9qMYVSawOwP9vqMKjyp7g/pkll6Ycdsj/0zQT/xYrGv+3yxCAr39U/xt1tHECFmT+gv8vVy0faP3U2fcx3O8Y/XBK/PWbXsz++5sCcjv64vx1uqvgEoZU/Kz6KdjCswT+1apxD8sitPxqXuojN4L8/jQR2+OKIpT/qDbr1eADGP5GHtSLSe94/DOr9aWOP3z/Jgw1+5zPvP8tMzx3qmuQ/j0Vq77gc3j9I13JM9Wq7vwwf7TuyrrY/FFnMfcml0T9RtxVpXW/DPxxlrp2mZ8q/cubr6hmZtb/SPEhm95HPv2+ZcWwlKdw/77yCNfEt3D8MFFR8vE3oP4P/t5iPVdM/2H1GPwQLvr9RJJK2u8TCv5WJV+7V28S/huSfshnP4T/jUKo+1Y7cP84p6jlQ8qO/cCalBzJT3r/r61ByoDvRv835290f7dI/IZfx7SY16j/Njq9nj7vQP3c9RVylnbq/1H5bIAPKxj91j/atYbjOPzz6+3gAM6Q/\",\"dtype\":\"float64\",\"order\":\"little\",\"shape\":[60]}},\"selected\":{\"id\":\"566938\"},\"selection_policy\":{\"id\":\"566937\"}},\"id\":\"566924\",\"type\":\"ColumnDataSource\"},{\"attributes\":{\"coordinates\":null,\"formatter\":{\"id\":\"566935\"},\"group\":null,\"major_label_overrides\":{\"0\":\"2008\",\"105\":\"2017\",\"140\":\"2020\",\"35\":\"2011\",\"70\":\"2014\"},\"major_label_policy\":{\"id\":\"566936\"},\"ticker\":{\"id\":\"567005\"}},\"id\":\"566902\",\"type\":\"LinearAxis\"}],\"root_ids\":[\"566891\"]},\"title\":\"Bokeh Application\",\"version\":\"2.4.1\"}};\n",
       "  const render_items = [{\"docid\":\"b6628879-1628-4e3e-a190-07264f66eba2\",\"root_ids\":[\"566891\"],\"roots\":{\"566891\":\"1e46a6e6-a72c-48a9-beb3-5e83c6375386\"}}];\n",
       "  root.Bokeh.embed.embed_items_notebook(docs_json, render_items);\n",
       "\n",
       "  }\n",
       "  if (root.Bokeh !== undefined) {\n",
       "    embed_document(root);\n",
       "  } else {\n",
       "    let attempts = 0;\n",
       "    const timer = setInterval(function(root) {\n",
       "      if (root.Bokeh !== undefined) {\n",
       "        clearInterval(timer);\n",
       "        embed_document(root);\n",
       "      } else {\n",
       "        attempts++;\n",
       "        if (attempts > 100) {\n",
       "          clearInterval(timer);\n",
       "          console.log(\"Bokeh: ERROR: Unable to run BokehJS code because BokehJS library is missing\");\n",
       "        }\n",
       "      }\n",
       "    }, 10, root)\n",
       "  }\n",
       "})(window);"
      ],
      "application/vnd.bokehjs_exec.v0+json": ""
     },
     "metadata": {
      "application/vnd.bokehjs_exec.v0+json": {
       "id": "566891"
      }
     },
     "output_type": "display_data"
    }
   ],
   "source": [
    "# Plotting predictions\n",
    "\n",
    "p = figure(plot_width=800, plot_height=600, title = \"CPI Predictions with SARIMAX (2,0,1)\")\n",
    "p.line(range(len(endogenous+2)), endogenous, line_width =2.5, line_color=\"lightgreen\", line_dash=\"dashed\", legend_label =\"Training Data\")\n",
    "p.line(range(len(training_predictions_sarimax_2+2)), training_predictions_sarimax_2, line_color=\"green\", line_width=2.5, legend_label =\"Final Model (Training Data Fit)\")\n",
    "p.line(cpi_test.index ,cpi_test.IR, line_width =2.5, line_color=\"orange\", line_dash=\"dashed\", legend_label =\"CPI\")\n",
    "p.line(cpi_test.index[:-1], test_predictions_sarimax_2[:-1], line_color=\"orangered\", line_width=2.5, legend_label =\"Final  Model Predictions\")\n",
    "p.xaxis.ticker = [0, 35, 70, 105, 140]\n",
    "p.xaxis.major_label_overrides = {0: '2008', 35: '2011', 70: '2014', 105: '2017', 140: '2020'}\n",
    "p.legend.location ='bottom_right'\n",
    "show(p)"
   ]
  },
  {
   "cell_type": "markdown",
   "metadata": {},
   "source": [
    "We could see from the cross correlation plots that the lag extends to two periods in the past and extending beyond this, the variables do not correlate anymore, and thus we shouldn't expect to gain more predictive power by adding any more lag components to the model. The CPI also doesn't show any seasonality so this option is also excluded from the options. We could try to add some other components to the model like a moving average, but as we can see from the results, the prediction doesn't get any better: now the model becomes too caucious in fitting the model and the opposite in the predictions. By increasing the number of components the results get even worse so the only way to actually improve the model would be to get some other external regressors (i.e. more data) that would correlate well with the CPI in such a away that it would help to predict the forecast of CPI even better than what we have achieved now."
   ]
  }
 ],
 "metadata": {
  "kernelspec": {
   "display_name": "Python 3",
   "language": "python",
   "name": "python3"
  },
  "language_info": {
   "codemirror_mode": {
    "name": "ipython",
    "version": 3
   },
   "file_extension": ".py",
   "mimetype": "text/x-python",
   "name": "python",
   "nbconvert_exporter": "python",
   "pygments_lexer": "ipython3",
   "version": "3.8.5"
  }
 },
 "nbformat": 4,
 "nbformat_minor": 4
}
